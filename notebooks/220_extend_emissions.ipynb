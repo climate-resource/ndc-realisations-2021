{
 "cells": [
  {
   "cell_type": "markdown",
   "id": "described-universal",
   "metadata": {},
   "source": [
    "# Extend Emissions\n",
    "\n",
    "Create four extensions for any NaN part, i.e. if the pathway ends in 2018 or 2030, then follow \n",
    "* Use past rate to inform future\n",
    "    * If last year 2018: Apply the same last ten years growth/decline rate to the future up to 2030, then constant. \n",
    "    * If last year 2030: Apply the 2020-2030 growth/decline rate to the future up to 2050. \n",
    "\n",
    "* Use the SSP1BL growth rate from 2030 to 2050\n",
    "* [NOT USED] Use the SSP5BL growth rate from 2030 to 2050 \n",
    "* Keep 2018/2030 emission levels constant. \n"
   ]
  },
  {
   "cell_type": "code",
   "execution_count": 1,
   "id": "radio-valley",
   "metadata": {},
   "outputs": [],
   "source": [
    "%load_ext autoreload\n",
    "%autoreload 2"
   ]
  },
  {
   "cell_type": "code",
   "execution_count": 2,
   "id": "greenhouse-thanksgiving",
   "metadata": {},
   "outputs": [
    {
     "data": {
      "application/javascript": [
       "\n",
       "            setTimeout(function() {\n",
       "                var nbb_cell_id = 2;\n",
       "                var nbb_unformatted_code = \"%load_ext nb_black\";\n",
       "                var nbb_formatted_code = \"%load_ext nb_black\";\n",
       "                var nbb_cells = Jupyter.notebook.get_cells();\n",
       "                for (var i = 0; i < nbb_cells.length; ++i) {\n",
       "                    if (nbb_cells[i].input_prompt_number == nbb_cell_id) {\n",
       "                        if (nbb_cells[i].get_text() == nbb_unformatted_code) {\n",
       "                             nbb_cells[i].set_text(nbb_formatted_code);\n",
       "                        }\n",
       "                        break;\n",
       "                    }\n",
       "                }\n",
       "            }, 500);\n",
       "            "
      ],
      "text/plain": [
       "<IPython.core.display.Javascript object>"
      ]
     },
     "metadata": {},
     "output_type": "display_data"
    }
   ],
   "source": [
    "%load_ext nb_black"
   ]
  },
  {
   "cell_type": "code",
   "execution_count": 3,
   "id": "rubber-disaster",
   "metadata": {},
   "outputs": [
    {
     "data": {
      "application/javascript": [
       "IPython.OutputArea.prototype._should_scroll = function(lines) { return false; }"
      ],
      "text/plain": [
       "<IPython.core.display.Javascript object>"
      ]
     },
     "metadata": {},
     "output_type": "display_data"
    },
    {
     "name": "stderr",
     "output_type": "stream",
     "text": [
      "/home/jared/miniconda3/envs/ndc-realisations-2021/lib/python3.9/site-packages/scmdata/database.py:21: TqdmExperimentalWarning: Using `tqdm.autonotebook.tqdm` in notebook mode. Use `tqdm.tqdm` instead to force console mode (e.g. in jupyter console)\n",
      "  import tqdm.autonotebook as tqdman\n"
     ]
    },
    {
     "data": {
      "application/javascript": [
       "\n",
       "            setTimeout(function() {\n",
       "                var nbb_cell_id = 3;\n",
       "                var nbb_unformatted_code = \"import os\\nimport scmdata.database\\nimport pandas as pd\\nimport numpy as np\\n\\nfrom ndcs.constants import PROCESSED_DATA_DIR, RAW_DATA_DIR, NDC_TARGET_RELEASE\";\n",
       "                var nbb_formatted_code = \"import os\\nimport scmdata.database\\nimport pandas as pd\\nimport numpy as np\\n\\nfrom ndcs.constants import PROCESSED_DATA_DIR, RAW_DATA_DIR, NDC_TARGET_RELEASE\";\n",
       "                var nbb_cells = Jupyter.notebook.get_cells();\n",
       "                for (var i = 0; i < nbb_cells.length; ++i) {\n",
       "                    if (nbb_cells[i].input_prompt_number == nbb_cell_id) {\n",
       "                        if (nbb_cells[i].get_text() == nbb_unformatted_code) {\n",
       "                             nbb_cells[i].set_text(nbb_formatted_code);\n",
       "                        }\n",
       "                        break;\n",
       "                    }\n",
       "                }\n",
       "            }, 500);\n",
       "            "
      ],
      "text/plain": [
       "<IPython.core.display.Javascript object>"
      ]
     },
     "metadata": {},
     "output_type": "display_data"
    }
   ],
   "source": [
    "import os\n",
    "import scmdata.database\n",
    "import pandas as pd\n",
    "import numpy as np\n",
    "\n",
    "from ndcs.constants import PROCESSED_DATA_DIR, RAW_DATA_DIR, NDC_TARGET_RELEASE"
   ]
  },
  {
   "cell_type": "code",
   "execution_count": 4,
   "id": "tracked-ministry",
   "metadata": {},
   "outputs": [
    {
     "data": {
      "text/plain": [
       "'/home/jared/code/cr/ndc-realisations-2021/src/ndcs/../data/processed/country_emissions/12Nov2021a_CR'"
      ]
     },
     "execution_count": 4,
     "metadata": {},
     "output_type": "execute_result"
    },
    {
     "data": {
      "application/javascript": [
       "\n",
       "            setTimeout(function() {\n",
       "                var nbb_cell_id = 4;\n",
       "                var nbb_unformatted_code = \"DATABASE_DIR = os.path.join(PROCESSED_DATA_DIR, \\\"country_emissions\\\", NDC_TARGET_RELEASE)\\nDATABASE_DIR\";\n",
       "                var nbb_formatted_code = \"DATABASE_DIR = os.path.join(PROCESSED_DATA_DIR, \\\"country_emissions\\\", NDC_TARGET_RELEASE)\\nDATABASE_DIR\";\n",
       "                var nbb_cells = Jupyter.notebook.get_cells();\n",
       "                for (var i = 0; i < nbb_cells.length; ++i) {\n",
       "                    if (nbb_cells[i].input_prompt_number == nbb_cell_id) {\n",
       "                        if (nbb_cells[i].get_text() == nbb_unformatted_code) {\n",
       "                             nbb_cells[i].set_text(nbb_formatted_code);\n",
       "                        }\n",
       "                        break;\n",
       "                    }\n",
       "                }\n",
       "            }, 500);\n",
       "            "
      ],
      "text/plain": [
       "<IPython.core.display.Javascript object>"
      ]
     },
     "metadata": {},
     "output_type": "display_data"
    }
   ],
   "source": [
    "DATABASE_DIR = os.path.join(PROCESSED_DATA_DIR, \"country_emissions\", NDC_TARGET_RELEASE)\n",
    "DATABASE_DIR"
   ]
  },
  {
   "cell_type": "code",
   "execution_count": 5,
   "id": "faced-timber",
   "metadata": {},
   "outputs": [
    {
     "data": {
      "text/plain": [
       "<scmdata.database.SCMDatabase (root_dir: /home/jared/code/cr/ndc-realisations-2021/src/ndcs/../data/processed/country_emissions/12Nov2021a_CR, levels: ('region', 'variable'))>"
      ]
     },
     "execution_count": 5,
     "metadata": {},
     "output_type": "execute_result"
    },
    {
     "data": {
      "application/javascript": [
       "\n",
       "            setTimeout(function() {\n",
       "                var nbb_cell_id = 5;\n",
       "                var nbb_unformatted_code = \"db = scmdata.database.ScmDatabase(DATABASE_DIR, levels=(\\\"region\\\", \\\"variable\\\"))\\ndb\";\n",
       "                var nbb_formatted_code = \"db = scmdata.database.ScmDatabase(DATABASE_DIR, levels=(\\\"region\\\", \\\"variable\\\"))\\ndb\";\n",
       "                var nbb_cells = Jupyter.notebook.get_cells();\n",
       "                for (var i = 0; i < nbb_cells.length; ++i) {\n",
       "                    if (nbb_cells[i].input_prompt_number == nbb_cell_id) {\n",
       "                        if (nbb_cells[i].get_text() == nbb_unformatted_code) {\n",
       "                             nbb_cells[i].set_text(nbb_formatted_code);\n",
       "                        }\n",
       "                        break;\n",
       "                    }\n",
       "                }\n",
       "            }, 500);\n",
       "            "
      ],
      "text/plain": [
       "<IPython.core.display.Javascript object>"
      ]
     },
     "metadata": {},
     "output_type": "display_data"
    }
   ],
   "source": [
    "db = scmdata.database.ScmDatabase(DATABASE_DIR, levels=(\"region\", \"variable\"))\n",
    "db"
   ]
  },
  {
   "cell_type": "markdown",
   "id": "textile-acrobat",
   "metadata": {},
   "source": [
    "## Load country emissions"
   ]
  },
  {
   "cell_type": "code",
   "execution_count": 6,
   "id": "smart-german",
   "metadata": {},
   "outputs": [
    {
     "data": {
      "application/vnd.jupyter.widget-view+json": {
       "model_id": "",
       "version_major": 2,
       "version_minor": 0
      },
      "text/plain": [
       "Loading files:   0%|          | 0/396 [00:00<?, ?it/s]"
      ]
     },
     "metadata": {},
     "output_type": "display_data"
    },
    {
     "data": {
      "text/plain": [
       "198"
      ]
     },
     "execution_count": 6,
     "metadata": {},
     "output_type": "execute_result"
    },
    {
     "data": {
      "application/javascript": [
       "\n",
       "            setTimeout(function() {\n",
       "                var nbb_cell_id = 6;\n",
       "                var nbb_unformatted_code = \"raw_emms = db.load(variable=[\\\"Emissions|Total GHG*\\\"])\\nlen(raw_emms.get_unique_meta(\\\"region\\\"))\";\n",
       "                var nbb_formatted_code = \"raw_emms = db.load(variable=[\\\"Emissions|Total GHG*\\\"])\\nlen(raw_emms.get_unique_meta(\\\"region\\\"))\";\n",
       "                var nbb_cells = Jupyter.notebook.get_cells();\n",
       "                for (var i = 0; i < nbb_cells.length; ++i) {\n",
       "                    if (nbb_cells[i].input_prompt_number == nbb_cell_id) {\n",
       "                        if (nbb_cells[i].get_text() == nbb_unformatted_code) {\n",
       "                             nbb_cells[i].set_text(nbb_formatted_code);\n",
       "                        }\n",
       "                        break;\n",
       "                    }\n",
       "                }\n",
       "            }, 500);\n",
       "            "
      ],
      "text/plain": [
       "<IPython.core.display.Javascript object>"
      ]
     },
     "metadata": {},
     "output_type": "display_data"
    }
   ],
   "source": [
    "raw_emms = db.load(variable=[\"Emissions|Total GHG*\"])\n",
    "len(raw_emms.get_unique_meta(\"region\"))"
   ]
  },
  {
   "cell_type": "code",
   "execution_count": 7,
   "id": "fe678834",
   "metadata": {},
   "outputs": [
    {
     "data": {
      "text/plain": [
       "<scmdata.ScmRun (timeseries: 5144, timepoints: 81)>\n",
       "Time:\n",
       "\tStart: 1980-01-01T00:00:00\n",
       "\tEnd: 2060-01-01T00:00:00\n",
       "Meta:\n",
       "\t     ambition conditionality exclude_hot_air          model region        scenario submission_date        unit                          variable\n",
       "\t0        high              C         exclude  NDC Factsheet    TUV  HighInitialNDC       4/22/2016  Mt CO2 /yr  Emissions|Total GHG excl. LULUCF\n",
       "\t1        high              R         exclude  NDC Factsheet    TUV  HighInitialNDC       4/22/2016  Mt CO2 /yr  Emissions|Total GHG excl. LULUCF\n",
       "\t2        high              U         exclude  NDC Factsheet    TUV  HighInitialNDC       4/22/2016  Mt CO2 /yr  Emissions|Total GHG excl. LULUCF\n",
       "\t3        high              C         include  NDC Factsheet    TUV  HighInitialNDC       4/22/2016  Mt CO2 /yr  Emissions|Total GHG excl. LULUCF\n",
       "\t4        high              R         include  NDC Factsheet    TUV  HighInitialNDC       4/22/2016  Mt CO2 /yr  Emissions|Total GHG excl. LULUCF\n",
       "\t5        high              U         include  NDC Factsheet    TUV  HighInitialNDC       4/22/2016  Mt CO2 /yr  Emissions|Total GHG excl. LULUCF\n",
       "\t6        high              C         exclude  NDC Factsheet    TUV         HighNDC         NOT YET  Mt CO2 /yr  Emissions|Total GHG excl. LULUCF\n",
       "\t7        high              R         exclude  NDC Factsheet    TUV         HighNDC         NOT YET  Mt CO2 /yr  Emissions|Total GHG excl. LULUCF\n",
       "\t8        high              U         exclude  NDC Factsheet    TUV         HighNDC         NOT YET  Mt CO2 /yr  Emissions|Total GHG excl. LULUCF\n",
       "\t9        high              C         include  NDC Factsheet    TUV         HighNDC         NOT YET  Mt CO2 /yr  Emissions|Total GHG excl. LULUCF\n",
       "\t...       ...            ...             ...            ...    ...             ...             ...         ...                               ...\n",
       "\t5134      low              R         include  NDC Factsheet    CPV          LowNDC        4/2/2021  Mt CO2 /yr  Emissions|Total GHG excl. LULUCF\n",
       "\t5135      low              U         include  NDC Factsheet    CPV          LowNDC        4/2/2021  Mt CO2 /yr  Emissions|Total GHG excl. LULUCF\n",
       "\t5136      low              C         exclude  NDC Factsheet    CPV   LowInitialNDC       9/21/2017  Mt CO2 /yr  Emissions|Total GHG excl. LULUCF\n",
       "\t5137      low              R         exclude  NDC Factsheet    CPV   LowInitialNDC       9/21/2017  Mt CO2 /yr  Emissions|Total GHG excl. LULUCF\n",
       "\t5138      low              U         exclude  NDC Factsheet    CPV   LowInitialNDC       9/21/2017  Mt CO2 /yr  Emissions|Total GHG excl. LULUCF\n",
       "\t5139      low              C         include  NDC Factsheet    CPV   LowInitialNDC       9/21/2017  Mt CO2 /yr  Emissions|Total GHG excl. LULUCF\n",
       "\t5140      low              R         include  NDC Factsheet    CPV   LowInitialNDC       9/21/2017  Mt CO2 /yr  Emissions|Total GHG excl. LULUCF\n",
       "\t5141      low              U         include  NDC Factsheet    CPV   LowInitialNDC       9/21/2017  Mt CO2 /yr  Emissions|Total GHG excl. LULUCF\n",
       "\t5142      NaN            NaN             NaN    unspecified    CPV          SSP1BL             NaN   Mt CO2/yr               Emissions|Total GHG\n",
       "\t5143      NaN            NaN             NaN    unspecified    CPV          SSP5BL             NaN   Mt CO2/yr               Emissions|Total GHG\n",
       "\t\n",
       "\t[5144 rows x 9 columns]"
      ]
     },
     "execution_count": 7,
     "metadata": {},
     "output_type": "execute_result"
    },
    {
     "data": {
      "application/javascript": [
       "\n",
       "            setTimeout(function() {\n",
       "                var nbb_cell_id = 7;\n",
       "                var nbb_unformatted_code = \"raw_emms\";\n",
       "                var nbb_formatted_code = \"raw_emms\";\n",
       "                var nbb_cells = Jupyter.notebook.get_cells();\n",
       "                for (var i = 0; i < nbb_cells.length; ++i) {\n",
       "                    if (nbb_cells[i].input_prompt_number == nbb_cell_id) {\n",
       "                        if (nbb_cells[i].get_text() == nbb_unformatted_code) {\n",
       "                             nbb_cells[i].set_text(nbb_formatted_code);\n",
       "                        }\n",
       "                        break;\n",
       "                    }\n",
       "                }\n",
       "            }, 500);\n",
       "            "
      ],
      "text/plain": [
       "<IPython.core.display.Javascript object>"
      ]
     },
     "metadata": {},
     "output_type": "display_data"
    }
   ],
   "source": [
    "raw_emms"
   ]
  },
  {
   "cell_type": "code",
   "execution_count": 8,
   "id": "republican-winning",
   "metadata": {},
   "outputs": [
    {
     "data": {
      "application/javascript": [
       "\n",
       "            setTimeout(function() {\n",
       "                var nbb_cell_id = 8;\n",
       "                var nbb_unformatted_code = \"baseline_emms = raw_emms.filter(scenario=[\\\"SSP1BL\\\", \\\"SSP5BL\\\"])\\nraw_emms = raw_emms.filter(scenario=[\\\"SSP1BL\\\", \\\"SSP5BL\\\"], keep=False)\";\n",
       "                var nbb_formatted_code = \"baseline_emms = raw_emms.filter(scenario=[\\\"SSP1BL\\\", \\\"SSP5BL\\\"])\\nraw_emms = raw_emms.filter(scenario=[\\\"SSP1BL\\\", \\\"SSP5BL\\\"], keep=False)\";\n",
       "                var nbb_cells = Jupyter.notebook.get_cells();\n",
       "                for (var i = 0; i < nbb_cells.length; ++i) {\n",
       "                    if (nbb_cells[i].input_prompt_number == nbb_cell_id) {\n",
       "                        if (nbb_cells[i].get_text() == nbb_unformatted_code) {\n",
       "                             nbb_cells[i].set_text(nbb_formatted_code);\n",
       "                        }\n",
       "                        break;\n",
       "                    }\n",
       "                }\n",
       "            }, 500);\n",
       "            "
      ],
      "text/plain": [
       "<IPython.core.display.Javascript object>"
      ]
     },
     "metadata": {},
     "output_type": "display_data"
    }
   ],
   "source": [
    "baseline_emms = raw_emms.filter(scenario=[\"SSP1BL\", \"SSP5BL\"])\n",
    "raw_emms = raw_emms.filter(scenario=[\"SSP1BL\", \"SSP5BL\"], keep=False)"
   ]
  },
  {
   "cell_type": "code",
   "execution_count": 9,
   "id": "94208e3b",
   "metadata": {},
   "outputs": [
    {
     "data": {
      "text/html": [
       "<div>\n",
       "<style scoped>\n",
       "    .dataframe tbody tr th:only-of-type {\n",
       "        vertical-align: middle;\n",
       "    }\n",
       "\n",
       "    .dataframe tbody tr th {\n",
       "        vertical-align: top;\n",
       "    }\n",
       "\n",
       "    .dataframe thead th {\n",
       "        text-align: right;\n",
       "    }\n",
       "</style>\n",
       "<table border=\"1\" class=\"dataframe\">\n",
       "  <thead>\n",
       "    <tr style=\"text-align: right;\">\n",
       "      <th></th>\n",
       "      <th></th>\n",
       "      <th></th>\n",
       "      <th></th>\n",
       "      <th></th>\n",
       "      <th></th>\n",
       "      <th></th>\n",
       "      <th></th>\n",
       "      <th>time</th>\n",
       "      <th>1980</th>\n",
       "      <th>1981</th>\n",
       "      <th>1982</th>\n",
       "      <th>1983</th>\n",
       "      <th>1984</th>\n",
       "      <th>1985</th>\n",
       "      <th>1986</th>\n",
       "      <th>...</th>\n",
       "      <th>2054</th>\n",
       "      <th>2055</th>\n",
       "      <th>2056</th>\n",
       "      <th>2057</th>\n",
       "      <th>2058</th>\n",
       "      <th>2059</th>\n",
       "      <th>2060</th>\n",
       "    </tr>\n",
       "    <tr>\n",
       "      <th>ambition</th>\n",
       "      <th>conditionality</th>\n",
       "      <th>exclude_hot_air</th>\n",
       "      <th>model</th>\n",
       "      <th>region</th>\n",
       "      <th>scenario</th>\n",
       "      <th>submission_date</th>\n",
       "      <th>unit</th>\n",
       "      <th>variable</th>\n",
       "      <th></th>\n",
       "      <th></th>\n",
       "      <th></th>\n",
       "      <th></th>\n",
       "      <th></th>\n",
       "      <th></th>\n",
       "      <th></th>\n",
       "      <th></th>\n",
       "      <th></th>\n",
       "      <th></th>\n",
       "      <th></th>\n",
       "      <th></th>\n",
       "      <th></th>\n",
       "      <th></th>\n",
       "      <th></th>\n",
       "    </tr>\n",
       "  </thead>\n",
       "  <tbody>\n",
       "    <tr>\n",
       "      <th rowspan=\"2\" valign=\"top\">NaN</th>\n",
       "      <th rowspan=\"2\" valign=\"top\">NaN</th>\n",
       "      <th rowspan=\"2\" valign=\"top\">NaN</th>\n",
       "      <th rowspan=\"2\" valign=\"top\">unspecified</th>\n",
       "      <th rowspan=\"2\" valign=\"top\">USA</th>\n",
       "      <th>SSP1BL</th>\n",
       "      <th>NaN</th>\n",
       "      <th>Mt CO2/yr</th>\n",
       "      <th>Emissions|Total GHG</th>\n",
       "      <td>6657.218063</td>\n",
       "      <td>6439.458594</td>\n",
       "      <td>6076.526145</td>\n",
       "      <td>6097.265142</td>\n",
       "      <td>6315.024611</td>\n",
       "      <td>6273.546617</td>\n",
       "      <td>6252.80762</td>\n",
       "      <td>...</td>\n",
       "      <td>5091.423784</td>\n",
       "      <td>5060.315288</td>\n",
       "      <td>5018.837294</td>\n",
       "      <td>4977.359300</td>\n",
       "      <td>4935.881306</td>\n",
       "      <td>4894.403311</td>\n",
       "      <td>4852.925317</td>\n",
       "    </tr>\n",
       "    <tr>\n",
       "      <th>SSP5BL</th>\n",
       "      <th>NaN</th>\n",
       "      <th>Mt CO2/yr</th>\n",
       "      <th>Emissions|Total GHG</th>\n",
       "      <td>6657.218063</td>\n",
       "      <td>6439.458594</td>\n",
       "      <td>6076.526145</td>\n",
       "      <td>6097.265142</td>\n",
       "      <td>6315.024611</td>\n",
       "      <td>6273.546617</td>\n",
       "      <td>6252.80762</td>\n",
       "      <td>...</td>\n",
       "      <td>12236.008278</td>\n",
       "      <td>12443.398249</td>\n",
       "      <td>12650.788220</td>\n",
       "      <td>12858.178191</td>\n",
       "      <td>13065.568162</td>\n",
       "      <td>13272.958133</td>\n",
       "      <td>13480.348103</td>\n",
       "    </tr>\n",
       "  </tbody>\n",
       "</table>\n",
       "<p>2 rows × 81 columns</p>\n",
       "</div>"
      ],
      "text/plain": [
       "time                                                                                                                      1980         1981         1982         1983         1984         1985        1986  ...          2054          2055  \\\n",
       "ambition conditionality exclude_hot_air model       region scenario submission_date unit      variable                                                                                                       ...                               \n",
       "NaN      NaN            NaN             unspecified USA    SSP1BL   NaN             Mt CO2/yr Emissions|Total GHG  6657.218063  6439.458594  6076.526145  6097.265142  6315.024611  6273.546617  6252.80762  ...   5091.423784   5060.315288   \n",
       "                                                           SSP5BL   NaN             Mt CO2/yr Emissions|Total GHG  6657.218063  6439.458594  6076.526145  6097.265142  6315.024611  6273.546617  6252.80762  ...  12236.008278  12443.398249   \n",
       "\n",
       "time                                                                                                                       2056          2057          2058          2059          2060  \n",
       "ambition conditionality exclude_hot_air model       region scenario submission_date unit      variable                                                                                   \n",
       "NaN      NaN            NaN             unspecified USA    SSP1BL   NaN             Mt CO2/yr Emissions|Total GHG   5018.837294   4977.359300   4935.881306   4894.403311   4852.925317  \n",
       "                                                           SSP5BL   NaN             Mt CO2/yr Emissions|Total GHG  12650.788220  12858.178191  13065.568162  13272.958133  13480.348103  \n",
       "\n",
       "[2 rows x 81 columns]"
      ]
     },
     "execution_count": 9,
     "metadata": {},
     "output_type": "execute_result"
    },
    {
     "data": {
      "application/javascript": [
       "\n",
       "            setTimeout(function() {\n",
       "                var nbb_cell_id = 9;\n",
       "                var nbb_unformatted_code = \"baseline_emms.filter(region=\\\"USA\\\").timeseries(time_axis=\\\"year\\\")\";\n",
       "                var nbb_formatted_code = \"baseline_emms.filter(region=\\\"USA\\\").timeseries(time_axis=\\\"year\\\")\";\n",
       "                var nbb_cells = Jupyter.notebook.get_cells();\n",
       "                for (var i = 0; i < nbb_cells.length; ++i) {\n",
       "                    if (nbb_cells[i].input_prompt_number == nbb_cell_id) {\n",
       "                        if (nbb_cells[i].get_text() == nbb_unformatted_code) {\n",
       "                             nbb_cells[i].set_text(nbb_formatted_code);\n",
       "                        }\n",
       "                        break;\n",
       "                    }\n",
       "                }\n",
       "            }, 500);\n",
       "            "
      ],
      "text/plain": [
       "<IPython.core.display.Javascript object>"
      ]
     },
     "metadata": {},
     "output_type": "display_data"
    }
   ],
   "source": [
    "baseline_emms.filter(region=\"USA\").timeseries(time_axis=\"year\")"
   ]
  },
  {
   "cell_type": "code",
   "execution_count": 10,
   "id": "ecological-clinton",
   "metadata": {},
   "outputs": [
    {
     "data": {
      "text/html": [
       "<div>\n",
       "<style scoped>\n",
       "    .dataframe tbody tr th:only-of-type {\n",
       "        vertical-align: middle;\n",
       "    }\n",
       "\n",
       "    .dataframe tbody tr th {\n",
       "        vertical-align: top;\n",
       "    }\n",
       "\n",
       "    .dataframe thead th {\n",
       "        text-align: right;\n",
       "    }\n",
       "</style>\n",
       "<table border=\"1\" class=\"dataframe\">\n",
       "  <thead>\n",
       "    <tr style=\"text-align: right;\">\n",
       "      <th></th>\n",
       "      <th></th>\n",
       "      <th></th>\n",
       "      <th></th>\n",
       "      <th></th>\n",
       "      <th></th>\n",
       "      <th></th>\n",
       "      <th></th>\n",
       "      <th>time</th>\n",
       "      <th>1990</th>\n",
       "      <th>1991</th>\n",
       "      <th>1992</th>\n",
       "      <th>1993</th>\n",
       "      <th>1994</th>\n",
       "      <th>1995</th>\n",
       "      <th>1996</th>\n",
       "      <th>...</th>\n",
       "      <th>2044</th>\n",
       "      <th>2045</th>\n",
       "      <th>2046</th>\n",
       "      <th>2047</th>\n",
       "      <th>2048</th>\n",
       "      <th>2049</th>\n",
       "      <th>2050</th>\n",
       "    </tr>\n",
       "    <tr>\n",
       "      <th>ambition</th>\n",
       "      <th>conditionality</th>\n",
       "      <th>exclude_hot_air</th>\n",
       "      <th>model</th>\n",
       "      <th>region</th>\n",
       "      <th>scenario</th>\n",
       "      <th>submission_date</th>\n",
       "      <th>unit</th>\n",
       "      <th>variable</th>\n",
       "      <th></th>\n",
       "      <th></th>\n",
       "      <th></th>\n",
       "      <th></th>\n",
       "      <th></th>\n",
       "      <th></th>\n",
       "      <th></th>\n",
       "      <th></th>\n",
       "      <th></th>\n",
       "      <th></th>\n",
       "      <th></th>\n",
       "      <th></th>\n",
       "      <th></th>\n",
       "      <th></th>\n",
       "      <th></th>\n",
       "    </tr>\n",
       "  </thead>\n",
       "  <tbody>\n",
       "    <tr>\n",
       "      <th rowspan=\"12\" valign=\"top\">high</th>\n",
       "      <th>C</th>\n",
       "      <th>exclude</th>\n",
       "      <th>NDC Factsheet</th>\n",
       "      <th>NRU</th>\n",
       "      <th>HighNDC</th>\n",
       "      <th>10/14/2021</th>\n",
       "      <th>Mt CO2 /yr</th>\n",
       "      <th>Emissions|Total GHG excl. LULUCF</th>\n",
       "      <td>0.13412</td>\n",
       "      <td>0.13446</td>\n",
       "      <td>0.13108</td>\n",
       "      <td>0.12404</td>\n",
       "      <td>0.12048</td>\n",
       "      <td>0.1164</td>\n",
       "      <td>0.11232</td>\n",
       "      <td>...</td>\n",
       "      <td>0.03343</td>\n",
       "      <td>0.02937</td>\n",
       "      <td>0.02531</td>\n",
       "      <td>0.02124</td>\n",
       "      <td>0.01718</td>\n",
       "      <td>0.01312</td>\n",
       "      <td>0.00905</td>\n",
       "    </tr>\n",
       "    <tr>\n",
       "      <th>R</th>\n",
       "      <th>exclude</th>\n",
       "      <th>NDC Factsheet</th>\n",
       "      <th>NRU</th>\n",
       "      <th>HighNDC</th>\n",
       "      <th>10/14/2021</th>\n",
       "      <th>Mt CO2 /yr</th>\n",
       "      <th>Emissions|Total GHG excl. LULUCF</th>\n",
       "      <td>0.13412</td>\n",
       "      <td>0.13446</td>\n",
       "      <td>0.13108</td>\n",
       "      <td>0.12404</td>\n",
       "      <td>0.12048</td>\n",
       "      <td>0.1164</td>\n",
       "      <td>0.11232</td>\n",
       "      <td>...</td>\n",
       "      <td>0.03343</td>\n",
       "      <td>0.02937</td>\n",
       "      <td>0.02531</td>\n",
       "      <td>0.02124</td>\n",
       "      <td>0.01718</td>\n",
       "      <td>0.01312</td>\n",
       "      <td>0.00905</td>\n",
       "    </tr>\n",
       "    <tr>\n",
       "      <th>U</th>\n",
       "      <th>exclude</th>\n",
       "      <th>NDC Factsheet</th>\n",
       "      <th>NRU</th>\n",
       "      <th>HighNDC</th>\n",
       "      <th>10/14/2021</th>\n",
       "      <th>Mt CO2 /yr</th>\n",
       "      <th>Emissions|Total GHG excl. LULUCF</th>\n",
       "      <td>0.13412</td>\n",
       "      <td>0.13446</td>\n",
       "      <td>0.13108</td>\n",
       "      <td>0.12404</td>\n",
       "      <td>0.12048</td>\n",
       "      <td>0.1164</td>\n",
       "      <td>0.11232</td>\n",
       "      <td>...</td>\n",
       "      <td>0.03343</td>\n",
       "      <td>0.02937</td>\n",
       "      <td>0.02531</td>\n",
       "      <td>0.02124</td>\n",
       "      <td>0.01718</td>\n",
       "      <td>0.01312</td>\n",
       "      <td>0.00905</td>\n",
       "    </tr>\n",
       "    <tr>\n",
       "      <th>C</th>\n",
       "      <th>include</th>\n",
       "      <th>NDC Factsheet</th>\n",
       "      <th>NRU</th>\n",
       "      <th>HighNDC</th>\n",
       "      <th>10/14/2021</th>\n",
       "      <th>Mt CO2 /yr</th>\n",
       "      <th>Emissions|Total GHG excl. LULUCF</th>\n",
       "      <td>0.13412</td>\n",
       "      <td>0.13446</td>\n",
       "      <td>0.13108</td>\n",
       "      <td>0.12404</td>\n",
       "      <td>0.12048</td>\n",
       "      <td>0.1164</td>\n",
       "      <td>0.11232</td>\n",
       "      <td>...</td>\n",
       "      <td>0.03343</td>\n",
       "      <td>0.02937</td>\n",
       "      <td>0.02531</td>\n",
       "      <td>0.02124</td>\n",
       "      <td>0.01718</td>\n",
       "      <td>0.01312</td>\n",
       "      <td>0.00905</td>\n",
       "    </tr>\n",
       "    <tr>\n",
       "      <th>R</th>\n",
       "      <th>include</th>\n",
       "      <th>NDC Factsheet</th>\n",
       "      <th>NRU</th>\n",
       "      <th>HighNDC</th>\n",
       "      <th>10/14/2021</th>\n",
       "      <th>Mt CO2 /yr</th>\n",
       "      <th>Emissions|Total GHG excl. LULUCF</th>\n",
       "      <td>0.13412</td>\n",
       "      <td>0.13446</td>\n",
       "      <td>0.13108</td>\n",
       "      <td>0.12404</td>\n",
       "      <td>0.12048</td>\n",
       "      <td>0.1164</td>\n",
       "      <td>0.11232</td>\n",
       "      <td>...</td>\n",
       "      <td>0.03343</td>\n",
       "      <td>0.02937</td>\n",
       "      <td>0.02531</td>\n",
       "      <td>0.02124</td>\n",
       "      <td>0.01718</td>\n",
       "      <td>0.01312</td>\n",
       "      <td>0.00905</td>\n",
       "    </tr>\n",
       "    <tr>\n",
       "      <th>U</th>\n",
       "      <th>include</th>\n",
       "      <th>NDC Factsheet</th>\n",
       "      <th>NRU</th>\n",
       "      <th>HighNDC</th>\n",
       "      <th>10/14/2021</th>\n",
       "      <th>Mt CO2 /yr</th>\n",
       "      <th>Emissions|Total GHG excl. LULUCF</th>\n",
       "      <td>0.13412</td>\n",
       "      <td>0.13446</td>\n",
       "      <td>0.13108</td>\n",
       "      <td>0.12404</td>\n",
       "      <td>0.12048</td>\n",
       "      <td>0.1164</td>\n",
       "      <td>0.11232</td>\n",
       "      <td>...</td>\n",
       "      <td>0.03343</td>\n",
       "      <td>0.02937</td>\n",
       "      <td>0.02531</td>\n",
       "      <td>0.02124</td>\n",
       "      <td>0.01718</td>\n",
       "      <td>0.01312</td>\n",
       "      <td>0.00905</td>\n",
       "    </tr>\n",
       "    <tr>\n",
       "      <th>C</th>\n",
       "      <th>exclude</th>\n",
       "      <th>NDC Factsheet</th>\n",
       "      <th>NRU</th>\n",
       "      <th>HighInitialNDC</th>\n",
       "      <th>4/7/2016</th>\n",
       "      <th>Mt CO2 /yr</th>\n",
       "      <th>Emissions|Total GHG excl. LULUCF</th>\n",
       "      <td>0.13412</td>\n",
       "      <td>0.13446</td>\n",
       "      <td>0.13108</td>\n",
       "      <td>0.12404</td>\n",
       "      <td>0.12048</td>\n",
       "      <td>0.1164</td>\n",
       "      <td>0.11232</td>\n",
       "      <td>...</td>\n",
       "      <td>NaN</td>\n",
       "      <td>NaN</td>\n",
       "      <td>NaN</td>\n",
       "      <td>NaN</td>\n",
       "      <td>NaN</td>\n",
       "      <td>NaN</td>\n",
       "      <td>NaN</td>\n",
       "    </tr>\n",
       "    <tr>\n",
       "      <th>R</th>\n",
       "      <th>exclude</th>\n",
       "      <th>NDC Factsheet</th>\n",
       "      <th>NRU</th>\n",
       "      <th>HighInitialNDC</th>\n",
       "      <th>4/7/2016</th>\n",
       "      <th>Mt CO2 /yr</th>\n",
       "      <th>Emissions|Total GHG excl. LULUCF</th>\n",
       "      <td>0.13412</td>\n",
       "      <td>0.13446</td>\n",
       "      <td>0.13108</td>\n",
       "      <td>0.12404</td>\n",
       "      <td>0.12048</td>\n",
       "      <td>0.1164</td>\n",
       "      <td>0.11232</td>\n",
       "      <td>...</td>\n",
       "      <td>NaN</td>\n",
       "      <td>NaN</td>\n",
       "      <td>NaN</td>\n",
       "      <td>NaN</td>\n",
       "      <td>NaN</td>\n",
       "      <td>NaN</td>\n",
       "      <td>NaN</td>\n",
       "    </tr>\n",
       "    <tr>\n",
       "      <th>U</th>\n",
       "      <th>exclude</th>\n",
       "      <th>NDC Factsheet</th>\n",
       "      <th>NRU</th>\n",
       "      <th>HighInitialNDC</th>\n",
       "      <th>4/7/2016</th>\n",
       "      <th>Mt CO2 /yr</th>\n",
       "      <th>Emissions|Total GHG excl. LULUCF</th>\n",
       "      <td>0.13412</td>\n",
       "      <td>0.13446</td>\n",
       "      <td>0.13108</td>\n",
       "      <td>0.12404</td>\n",
       "      <td>0.12048</td>\n",
       "      <td>0.1164</td>\n",
       "      <td>0.11232</td>\n",
       "      <td>...</td>\n",
       "      <td>NaN</td>\n",
       "      <td>NaN</td>\n",
       "      <td>NaN</td>\n",
       "      <td>NaN</td>\n",
       "      <td>NaN</td>\n",
       "      <td>NaN</td>\n",
       "      <td>NaN</td>\n",
       "    </tr>\n",
       "    <tr>\n",
       "      <th>C</th>\n",
       "      <th>include</th>\n",
       "      <th>NDC Factsheet</th>\n",
       "      <th>NRU</th>\n",
       "      <th>HighInitialNDC</th>\n",
       "      <th>4/7/2016</th>\n",
       "      <th>Mt CO2 /yr</th>\n",
       "      <th>Emissions|Total GHG excl. LULUCF</th>\n",
       "      <td>0.13412</td>\n",
       "      <td>0.13446</td>\n",
       "      <td>0.13108</td>\n",
       "      <td>0.12404</td>\n",
       "      <td>0.12048</td>\n",
       "      <td>0.1164</td>\n",
       "      <td>0.11232</td>\n",
       "      <td>...</td>\n",
       "      <td>NaN</td>\n",
       "      <td>NaN</td>\n",
       "      <td>NaN</td>\n",
       "      <td>NaN</td>\n",
       "      <td>NaN</td>\n",
       "      <td>NaN</td>\n",
       "      <td>NaN</td>\n",
       "    </tr>\n",
       "    <tr>\n",
       "      <th>R</th>\n",
       "      <th>include</th>\n",
       "      <th>NDC Factsheet</th>\n",
       "      <th>NRU</th>\n",
       "      <th>HighInitialNDC</th>\n",
       "      <th>4/7/2016</th>\n",
       "      <th>Mt CO2 /yr</th>\n",
       "      <th>Emissions|Total GHG excl. LULUCF</th>\n",
       "      <td>0.13412</td>\n",
       "      <td>0.13446</td>\n",
       "      <td>0.13108</td>\n",
       "      <td>0.12404</td>\n",
       "      <td>0.12048</td>\n",
       "      <td>0.1164</td>\n",
       "      <td>0.11232</td>\n",
       "      <td>...</td>\n",
       "      <td>NaN</td>\n",
       "      <td>NaN</td>\n",
       "      <td>NaN</td>\n",
       "      <td>NaN</td>\n",
       "      <td>NaN</td>\n",
       "      <td>NaN</td>\n",
       "      <td>NaN</td>\n",
       "    </tr>\n",
       "    <tr>\n",
       "      <th>U</th>\n",
       "      <th>include</th>\n",
       "      <th>NDC Factsheet</th>\n",
       "      <th>NRU</th>\n",
       "      <th>HighInitialNDC</th>\n",
       "      <th>4/7/2016</th>\n",
       "      <th>Mt CO2 /yr</th>\n",
       "      <th>Emissions|Total GHG excl. LULUCF</th>\n",
       "      <td>0.13412</td>\n",
       "      <td>0.13446</td>\n",
       "      <td>0.13108</td>\n",
       "      <td>0.12404</td>\n",
       "      <td>0.12048</td>\n",
       "      <td>0.1164</td>\n",
       "      <td>0.11232</td>\n",
       "      <td>...</td>\n",
       "      <td>NaN</td>\n",
       "      <td>NaN</td>\n",
       "      <td>NaN</td>\n",
       "      <td>NaN</td>\n",
       "      <td>NaN</td>\n",
       "      <td>NaN</td>\n",
       "      <td>NaN</td>\n",
       "    </tr>\n",
       "    <tr>\n",
       "      <th rowspan=\"12\" valign=\"top\">low</th>\n",
       "      <th>C</th>\n",
       "      <th>exclude</th>\n",
       "      <th>NDC Factsheet</th>\n",
       "      <th>NRU</th>\n",
       "      <th>LowNDC</th>\n",
       "      <th>10/14/2021</th>\n",
       "      <th>Mt CO2 /yr</th>\n",
       "      <th>Emissions|Total GHG excl. LULUCF</th>\n",
       "      <td>0.13412</td>\n",
       "      <td>0.13446</td>\n",
       "      <td>0.13108</td>\n",
       "      <td>0.12404</td>\n",
       "      <td>0.12048</td>\n",
       "      <td>0.1164</td>\n",
       "      <td>0.11232</td>\n",
       "      <td>...</td>\n",
       "      <td>0.03343</td>\n",
       "      <td>0.02937</td>\n",
       "      <td>0.02531</td>\n",
       "      <td>0.02124</td>\n",
       "      <td>0.01718</td>\n",
       "      <td>0.01312</td>\n",
       "      <td>0.00905</td>\n",
       "    </tr>\n",
       "    <tr>\n",
       "      <th>R</th>\n",
       "      <th>exclude</th>\n",
       "      <th>NDC Factsheet</th>\n",
       "      <th>NRU</th>\n",
       "      <th>LowNDC</th>\n",
       "      <th>10/14/2021</th>\n",
       "      <th>Mt CO2 /yr</th>\n",
       "      <th>Emissions|Total GHG excl. LULUCF</th>\n",
       "      <td>0.13412</td>\n",
       "      <td>0.13446</td>\n",
       "      <td>0.13108</td>\n",
       "      <td>0.12404</td>\n",
       "      <td>0.12048</td>\n",
       "      <td>0.1164</td>\n",
       "      <td>0.11232</td>\n",
       "      <td>...</td>\n",
       "      <td>0.03343</td>\n",
       "      <td>0.02937</td>\n",
       "      <td>0.02531</td>\n",
       "      <td>0.02124</td>\n",
       "      <td>0.01718</td>\n",
       "      <td>0.01312</td>\n",
       "      <td>0.00905</td>\n",
       "    </tr>\n",
       "    <tr>\n",
       "      <th>U</th>\n",
       "      <th>exclude</th>\n",
       "      <th>NDC Factsheet</th>\n",
       "      <th>NRU</th>\n",
       "      <th>LowNDC</th>\n",
       "      <th>10/14/2021</th>\n",
       "      <th>Mt CO2 /yr</th>\n",
       "      <th>Emissions|Total GHG excl. LULUCF</th>\n",
       "      <td>0.13412</td>\n",
       "      <td>0.13446</td>\n",
       "      <td>0.13108</td>\n",
       "      <td>0.12404</td>\n",
       "      <td>0.12048</td>\n",
       "      <td>0.1164</td>\n",
       "      <td>0.11232</td>\n",
       "      <td>...</td>\n",
       "      <td>0.03343</td>\n",
       "      <td>0.02937</td>\n",
       "      <td>0.02531</td>\n",
       "      <td>0.02124</td>\n",
       "      <td>0.01718</td>\n",
       "      <td>0.01312</td>\n",
       "      <td>0.00905</td>\n",
       "    </tr>\n",
       "    <tr>\n",
       "      <th>C</th>\n",
       "      <th>include</th>\n",
       "      <th>NDC Factsheet</th>\n",
       "      <th>NRU</th>\n",
       "      <th>LowNDC</th>\n",
       "      <th>10/14/2021</th>\n",
       "      <th>Mt CO2 /yr</th>\n",
       "      <th>Emissions|Total GHG excl. LULUCF</th>\n",
       "      <td>0.13412</td>\n",
       "      <td>0.13446</td>\n",
       "      <td>0.13108</td>\n",
       "      <td>0.12404</td>\n",
       "      <td>0.12048</td>\n",
       "      <td>0.1164</td>\n",
       "      <td>0.11232</td>\n",
       "      <td>...</td>\n",
       "      <td>0.03343</td>\n",
       "      <td>0.02937</td>\n",
       "      <td>0.02531</td>\n",
       "      <td>0.02124</td>\n",
       "      <td>0.01718</td>\n",
       "      <td>0.01312</td>\n",
       "      <td>0.00905</td>\n",
       "    </tr>\n",
       "    <tr>\n",
       "      <th>R</th>\n",
       "      <th>include</th>\n",
       "      <th>NDC Factsheet</th>\n",
       "      <th>NRU</th>\n",
       "      <th>LowNDC</th>\n",
       "      <th>10/14/2021</th>\n",
       "      <th>Mt CO2 /yr</th>\n",
       "      <th>Emissions|Total GHG excl. LULUCF</th>\n",
       "      <td>0.13412</td>\n",
       "      <td>0.13446</td>\n",
       "      <td>0.13108</td>\n",
       "      <td>0.12404</td>\n",
       "      <td>0.12048</td>\n",
       "      <td>0.1164</td>\n",
       "      <td>0.11232</td>\n",
       "      <td>...</td>\n",
       "      <td>0.03343</td>\n",
       "      <td>0.02937</td>\n",
       "      <td>0.02531</td>\n",
       "      <td>0.02124</td>\n",
       "      <td>0.01718</td>\n",
       "      <td>0.01312</td>\n",
       "      <td>0.00905</td>\n",
       "    </tr>\n",
       "    <tr>\n",
       "      <th>U</th>\n",
       "      <th>include</th>\n",
       "      <th>NDC Factsheet</th>\n",
       "      <th>NRU</th>\n",
       "      <th>LowNDC</th>\n",
       "      <th>10/14/2021</th>\n",
       "      <th>Mt CO2 /yr</th>\n",
       "      <th>Emissions|Total GHG excl. LULUCF</th>\n",
       "      <td>0.13412</td>\n",
       "      <td>0.13446</td>\n",
       "      <td>0.13108</td>\n",
       "      <td>0.12404</td>\n",
       "      <td>0.12048</td>\n",
       "      <td>0.1164</td>\n",
       "      <td>0.11232</td>\n",
       "      <td>...</td>\n",
       "      <td>0.03343</td>\n",
       "      <td>0.02937</td>\n",
       "      <td>0.02531</td>\n",
       "      <td>0.02124</td>\n",
       "      <td>0.01718</td>\n",
       "      <td>0.01312</td>\n",
       "      <td>0.00905</td>\n",
       "    </tr>\n",
       "    <tr>\n",
       "      <th>C</th>\n",
       "      <th>exclude</th>\n",
       "      <th>NDC Factsheet</th>\n",
       "      <th>NRU</th>\n",
       "      <th>LowInitialNDC</th>\n",
       "      <th>4/7/2016</th>\n",
       "      <th>Mt CO2 /yr</th>\n",
       "      <th>Emissions|Total GHG excl. LULUCF</th>\n",
       "      <td>0.13412</td>\n",
       "      <td>0.13446</td>\n",
       "      <td>0.13108</td>\n",
       "      <td>0.12404</td>\n",
       "      <td>0.12048</td>\n",
       "      <td>0.1164</td>\n",
       "      <td>0.11232</td>\n",
       "      <td>...</td>\n",
       "      <td>NaN</td>\n",
       "      <td>NaN</td>\n",
       "      <td>NaN</td>\n",
       "      <td>NaN</td>\n",
       "      <td>NaN</td>\n",
       "      <td>NaN</td>\n",
       "      <td>NaN</td>\n",
       "    </tr>\n",
       "    <tr>\n",
       "      <th>R</th>\n",
       "      <th>exclude</th>\n",
       "      <th>NDC Factsheet</th>\n",
       "      <th>NRU</th>\n",
       "      <th>LowInitialNDC</th>\n",
       "      <th>4/7/2016</th>\n",
       "      <th>Mt CO2 /yr</th>\n",
       "      <th>Emissions|Total GHG excl. LULUCF</th>\n",
       "      <td>0.13412</td>\n",
       "      <td>0.13446</td>\n",
       "      <td>0.13108</td>\n",
       "      <td>0.12404</td>\n",
       "      <td>0.12048</td>\n",
       "      <td>0.1164</td>\n",
       "      <td>0.11232</td>\n",
       "      <td>...</td>\n",
       "      <td>NaN</td>\n",
       "      <td>NaN</td>\n",
       "      <td>NaN</td>\n",
       "      <td>NaN</td>\n",
       "      <td>NaN</td>\n",
       "      <td>NaN</td>\n",
       "      <td>NaN</td>\n",
       "    </tr>\n",
       "    <tr>\n",
       "      <th>U</th>\n",
       "      <th>exclude</th>\n",
       "      <th>NDC Factsheet</th>\n",
       "      <th>NRU</th>\n",
       "      <th>LowInitialNDC</th>\n",
       "      <th>4/7/2016</th>\n",
       "      <th>Mt CO2 /yr</th>\n",
       "      <th>Emissions|Total GHG excl. LULUCF</th>\n",
       "      <td>0.13412</td>\n",
       "      <td>0.13446</td>\n",
       "      <td>0.13108</td>\n",
       "      <td>0.12404</td>\n",
       "      <td>0.12048</td>\n",
       "      <td>0.1164</td>\n",
       "      <td>0.11232</td>\n",
       "      <td>...</td>\n",
       "      <td>NaN</td>\n",
       "      <td>NaN</td>\n",
       "      <td>NaN</td>\n",
       "      <td>NaN</td>\n",
       "      <td>NaN</td>\n",
       "      <td>NaN</td>\n",
       "      <td>NaN</td>\n",
       "    </tr>\n",
       "    <tr>\n",
       "      <th>C</th>\n",
       "      <th>include</th>\n",
       "      <th>NDC Factsheet</th>\n",
       "      <th>NRU</th>\n",
       "      <th>LowInitialNDC</th>\n",
       "      <th>4/7/2016</th>\n",
       "      <th>Mt CO2 /yr</th>\n",
       "      <th>Emissions|Total GHG excl. LULUCF</th>\n",
       "      <td>0.13412</td>\n",
       "      <td>0.13446</td>\n",
       "      <td>0.13108</td>\n",
       "      <td>0.12404</td>\n",
       "      <td>0.12048</td>\n",
       "      <td>0.1164</td>\n",
       "      <td>0.11232</td>\n",
       "      <td>...</td>\n",
       "      <td>NaN</td>\n",
       "      <td>NaN</td>\n",
       "      <td>NaN</td>\n",
       "      <td>NaN</td>\n",
       "      <td>NaN</td>\n",
       "      <td>NaN</td>\n",
       "      <td>NaN</td>\n",
       "    </tr>\n",
       "    <tr>\n",
       "      <th>R</th>\n",
       "      <th>include</th>\n",
       "      <th>NDC Factsheet</th>\n",
       "      <th>NRU</th>\n",
       "      <th>LowInitialNDC</th>\n",
       "      <th>4/7/2016</th>\n",
       "      <th>Mt CO2 /yr</th>\n",
       "      <th>Emissions|Total GHG excl. LULUCF</th>\n",
       "      <td>0.13412</td>\n",
       "      <td>0.13446</td>\n",
       "      <td>0.13108</td>\n",
       "      <td>0.12404</td>\n",
       "      <td>0.12048</td>\n",
       "      <td>0.1164</td>\n",
       "      <td>0.11232</td>\n",
       "      <td>...</td>\n",
       "      <td>NaN</td>\n",
       "      <td>NaN</td>\n",
       "      <td>NaN</td>\n",
       "      <td>NaN</td>\n",
       "      <td>NaN</td>\n",
       "      <td>NaN</td>\n",
       "      <td>NaN</td>\n",
       "    </tr>\n",
       "    <tr>\n",
       "      <th>U</th>\n",
       "      <th>include</th>\n",
       "      <th>NDC Factsheet</th>\n",
       "      <th>NRU</th>\n",
       "      <th>LowInitialNDC</th>\n",
       "      <th>4/7/2016</th>\n",
       "      <th>Mt CO2 /yr</th>\n",
       "      <th>Emissions|Total GHG excl. LULUCF</th>\n",
       "      <td>0.13412</td>\n",
       "      <td>0.13446</td>\n",
       "      <td>0.13108</td>\n",
       "      <td>0.12404</td>\n",
       "      <td>0.12048</td>\n",
       "      <td>0.1164</td>\n",
       "      <td>0.11232</td>\n",
       "      <td>...</td>\n",
       "      <td>NaN</td>\n",
       "      <td>NaN</td>\n",
       "      <td>NaN</td>\n",
       "      <td>NaN</td>\n",
       "      <td>NaN</td>\n",
       "      <td>NaN</td>\n",
       "      <td>NaN</td>\n",
       "    </tr>\n",
       "  </tbody>\n",
       "</table>\n",
       "<p>24 rows × 61 columns</p>\n",
       "</div>"
      ],
      "text/plain": [
       "time                                                                                                                                        1990     1991     1992     1993     1994    1995     1996  ...     2044     2045     2046     2047     2048  \\\n",
       "ambition conditionality exclude_hot_air model         region scenario       submission_date unit       variable                                                                                        ...                                                \n",
       "high     C              exclude         NDC Factsheet NRU    HighNDC        10/14/2021      Mt CO2 /yr Emissions|Total GHG excl. LULUCF  0.13412  0.13446  0.13108  0.12404  0.12048  0.1164  0.11232  ...  0.03343  0.02937  0.02531  0.02124  0.01718   \n",
       "         R              exclude         NDC Factsheet NRU    HighNDC        10/14/2021      Mt CO2 /yr Emissions|Total GHG excl. LULUCF  0.13412  0.13446  0.13108  0.12404  0.12048  0.1164  0.11232  ...  0.03343  0.02937  0.02531  0.02124  0.01718   \n",
       "         U              exclude         NDC Factsheet NRU    HighNDC        10/14/2021      Mt CO2 /yr Emissions|Total GHG excl. LULUCF  0.13412  0.13446  0.13108  0.12404  0.12048  0.1164  0.11232  ...  0.03343  0.02937  0.02531  0.02124  0.01718   \n",
       "         C              include         NDC Factsheet NRU    HighNDC        10/14/2021      Mt CO2 /yr Emissions|Total GHG excl. LULUCF  0.13412  0.13446  0.13108  0.12404  0.12048  0.1164  0.11232  ...  0.03343  0.02937  0.02531  0.02124  0.01718   \n",
       "         R              include         NDC Factsheet NRU    HighNDC        10/14/2021      Mt CO2 /yr Emissions|Total GHG excl. LULUCF  0.13412  0.13446  0.13108  0.12404  0.12048  0.1164  0.11232  ...  0.03343  0.02937  0.02531  0.02124  0.01718   \n",
       "         U              include         NDC Factsheet NRU    HighNDC        10/14/2021      Mt CO2 /yr Emissions|Total GHG excl. LULUCF  0.13412  0.13446  0.13108  0.12404  0.12048  0.1164  0.11232  ...  0.03343  0.02937  0.02531  0.02124  0.01718   \n",
       "         C              exclude         NDC Factsheet NRU    HighInitialNDC 4/7/2016        Mt CO2 /yr Emissions|Total GHG excl. LULUCF  0.13412  0.13446  0.13108  0.12404  0.12048  0.1164  0.11232  ...      NaN      NaN      NaN      NaN      NaN   \n",
       "         R              exclude         NDC Factsheet NRU    HighInitialNDC 4/7/2016        Mt CO2 /yr Emissions|Total GHG excl. LULUCF  0.13412  0.13446  0.13108  0.12404  0.12048  0.1164  0.11232  ...      NaN      NaN      NaN      NaN      NaN   \n",
       "         U              exclude         NDC Factsheet NRU    HighInitialNDC 4/7/2016        Mt CO2 /yr Emissions|Total GHG excl. LULUCF  0.13412  0.13446  0.13108  0.12404  0.12048  0.1164  0.11232  ...      NaN      NaN      NaN      NaN      NaN   \n",
       "         C              include         NDC Factsheet NRU    HighInitialNDC 4/7/2016        Mt CO2 /yr Emissions|Total GHG excl. LULUCF  0.13412  0.13446  0.13108  0.12404  0.12048  0.1164  0.11232  ...      NaN      NaN      NaN      NaN      NaN   \n",
       "         R              include         NDC Factsheet NRU    HighInitialNDC 4/7/2016        Mt CO2 /yr Emissions|Total GHG excl. LULUCF  0.13412  0.13446  0.13108  0.12404  0.12048  0.1164  0.11232  ...      NaN      NaN      NaN      NaN      NaN   \n",
       "         U              include         NDC Factsheet NRU    HighInitialNDC 4/7/2016        Mt CO2 /yr Emissions|Total GHG excl. LULUCF  0.13412  0.13446  0.13108  0.12404  0.12048  0.1164  0.11232  ...      NaN      NaN      NaN      NaN      NaN   \n",
       "low      C              exclude         NDC Factsheet NRU    LowNDC         10/14/2021      Mt CO2 /yr Emissions|Total GHG excl. LULUCF  0.13412  0.13446  0.13108  0.12404  0.12048  0.1164  0.11232  ...  0.03343  0.02937  0.02531  0.02124  0.01718   \n",
       "         R              exclude         NDC Factsheet NRU    LowNDC         10/14/2021      Mt CO2 /yr Emissions|Total GHG excl. LULUCF  0.13412  0.13446  0.13108  0.12404  0.12048  0.1164  0.11232  ...  0.03343  0.02937  0.02531  0.02124  0.01718   \n",
       "         U              exclude         NDC Factsheet NRU    LowNDC         10/14/2021      Mt CO2 /yr Emissions|Total GHG excl. LULUCF  0.13412  0.13446  0.13108  0.12404  0.12048  0.1164  0.11232  ...  0.03343  0.02937  0.02531  0.02124  0.01718   \n",
       "         C              include         NDC Factsheet NRU    LowNDC         10/14/2021      Mt CO2 /yr Emissions|Total GHG excl. LULUCF  0.13412  0.13446  0.13108  0.12404  0.12048  0.1164  0.11232  ...  0.03343  0.02937  0.02531  0.02124  0.01718   \n",
       "         R              include         NDC Factsheet NRU    LowNDC         10/14/2021      Mt CO2 /yr Emissions|Total GHG excl. LULUCF  0.13412  0.13446  0.13108  0.12404  0.12048  0.1164  0.11232  ...  0.03343  0.02937  0.02531  0.02124  0.01718   \n",
       "         U              include         NDC Factsheet NRU    LowNDC         10/14/2021      Mt CO2 /yr Emissions|Total GHG excl. LULUCF  0.13412  0.13446  0.13108  0.12404  0.12048  0.1164  0.11232  ...  0.03343  0.02937  0.02531  0.02124  0.01718   \n",
       "         C              exclude         NDC Factsheet NRU    LowInitialNDC  4/7/2016        Mt CO2 /yr Emissions|Total GHG excl. LULUCF  0.13412  0.13446  0.13108  0.12404  0.12048  0.1164  0.11232  ...      NaN      NaN      NaN      NaN      NaN   \n",
       "         R              exclude         NDC Factsheet NRU    LowInitialNDC  4/7/2016        Mt CO2 /yr Emissions|Total GHG excl. LULUCF  0.13412  0.13446  0.13108  0.12404  0.12048  0.1164  0.11232  ...      NaN      NaN      NaN      NaN      NaN   \n",
       "         U              exclude         NDC Factsheet NRU    LowInitialNDC  4/7/2016        Mt CO2 /yr Emissions|Total GHG excl. LULUCF  0.13412  0.13446  0.13108  0.12404  0.12048  0.1164  0.11232  ...      NaN      NaN      NaN      NaN      NaN   \n",
       "         C              include         NDC Factsheet NRU    LowInitialNDC  4/7/2016        Mt CO2 /yr Emissions|Total GHG excl. LULUCF  0.13412  0.13446  0.13108  0.12404  0.12048  0.1164  0.11232  ...      NaN      NaN      NaN      NaN      NaN   \n",
       "         R              include         NDC Factsheet NRU    LowInitialNDC  4/7/2016        Mt CO2 /yr Emissions|Total GHG excl. LULUCF  0.13412  0.13446  0.13108  0.12404  0.12048  0.1164  0.11232  ...      NaN      NaN      NaN      NaN      NaN   \n",
       "         U              include         NDC Factsheet NRU    LowInitialNDC  4/7/2016        Mt CO2 /yr Emissions|Total GHG excl. LULUCF  0.13412  0.13446  0.13108  0.12404  0.12048  0.1164  0.11232  ...      NaN      NaN      NaN      NaN      NaN   \n",
       "\n",
       "time                                                                                                                                        2049     2050  \n",
       "ambition conditionality exclude_hot_air model         region scenario       submission_date unit       variable                                            \n",
       "high     C              exclude         NDC Factsheet NRU    HighNDC        10/14/2021      Mt CO2 /yr Emissions|Total GHG excl. LULUCF  0.01312  0.00905  \n",
       "         R              exclude         NDC Factsheet NRU    HighNDC        10/14/2021      Mt CO2 /yr Emissions|Total GHG excl. LULUCF  0.01312  0.00905  \n",
       "         U              exclude         NDC Factsheet NRU    HighNDC        10/14/2021      Mt CO2 /yr Emissions|Total GHG excl. LULUCF  0.01312  0.00905  \n",
       "         C              include         NDC Factsheet NRU    HighNDC        10/14/2021      Mt CO2 /yr Emissions|Total GHG excl. LULUCF  0.01312  0.00905  \n",
       "         R              include         NDC Factsheet NRU    HighNDC        10/14/2021      Mt CO2 /yr Emissions|Total GHG excl. LULUCF  0.01312  0.00905  \n",
       "         U              include         NDC Factsheet NRU    HighNDC        10/14/2021      Mt CO2 /yr Emissions|Total GHG excl. LULUCF  0.01312  0.00905  \n",
       "         C              exclude         NDC Factsheet NRU    HighInitialNDC 4/7/2016        Mt CO2 /yr Emissions|Total GHG excl. LULUCF      NaN      NaN  \n",
       "         R              exclude         NDC Factsheet NRU    HighInitialNDC 4/7/2016        Mt CO2 /yr Emissions|Total GHG excl. LULUCF      NaN      NaN  \n",
       "         U              exclude         NDC Factsheet NRU    HighInitialNDC 4/7/2016        Mt CO2 /yr Emissions|Total GHG excl. LULUCF      NaN      NaN  \n",
       "         C              include         NDC Factsheet NRU    HighInitialNDC 4/7/2016        Mt CO2 /yr Emissions|Total GHG excl. LULUCF      NaN      NaN  \n",
       "         R              include         NDC Factsheet NRU    HighInitialNDC 4/7/2016        Mt CO2 /yr Emissions|Total GHG excl. LULUCF      NaN      NaN  \n",
       "         U              include         NDC Factsheet NRU    HighInitialNDC 4/7/2016        Mt CO2 /yr Emissions|Total GHG excl. LULUCF      NaN      NaN  \n",
       "low      C              exclude         NDC Factsheet NRU    LowNDC         10/14/2021      Mt CO2 /yr Emissions|Total GHG excl. LULUCF  0.01312  0.00905  \n",
       "         R              exclude         NDC Factsheet NRU    LowNDC         10/14/2021      Mt CO2 /yr Emissions|Total GHG excl. LULUCF  0.01312  0.00905  \n",
       "         U              exclude         NDC Factsheet NRU    LowNDC         10/14/2021      Mt CO2 /yr Emissions|Total GHG excl. LULUCF  0.01312  0.00905  \n",
       "         C              include         NDC Factsheet NRU    LowNDC         10/14/2021      Mt CO2 /yr Emissions|Total GHG excl. LULUCF  0.01312  0.00905  \n",
       "         R              include         NDC Factsheet NRU    LowNDC         10/14/2021      Mt CO2 /yr Emissions|Total GHG excl. LULUCF  0.01312  0.00905  \n",
       "         U              include         NDC Factsheet NRU    LowNDC         10/14/2021      Mt CO2 /yr Emissions|Total GHG excl. LULUCF  0.01312  0.00905  \n",
       "         C              exclude         NDC Factsheet NRU    LowInitialNDC  4/7/2016        Mt CO2 /yr Emissions|Total GHG excl. LULUCF      NaN      NaN  \n",
       "         R              exclude         NDC Factsheet NRU    LowInitialNDC  4/7/2016        Mt CO2 /yr Emissions|Total GHG excl. LULUCF      NaN      NaN  \n",
       "         U              exclude         NDC Factsheet NRU    LowInitialNDC  4/7/2016        Mt CO2 /yr Emissions|Total GHG excl. LULUCF      NaN      NaN  \n",
       "         C              include         NDC Factsheet NRU    LowInitialNDC  4/7/2016        Mt CO2 /yr Emissions|Total GHG excl. LULUCF      NaN      NaN  \n",
       "         R              include         NDC Factsheet NRU    LowInitialNDC  4/7/2016        Mt CO2 /yr Emissions|Total GHG excl. LULUCF      NaN      NaN  \n",
       "         U              include         NDC Factsheet NRU    LowInitialNDC  4/7/2016        Mt CO2 /yr Emissions|Total GHG excl. LULUCF      NaN      NaN  \n",
       "\n",
       "[24 rows x 61 columns]"
      ]
     },
     "execution_count": 10,
     "metadata": {},
     "output_type": "execute_result"
    },
    {
     "data": {
      "application/javascript": [
       "\n",
       "            setTimeout(function() {\n",
       "                var nbb_cell_id = 10;\n",
       "                var nbb_unformatted_code = \"raw_emms_usa = raw_emms.filter(region=\\\"NRU\\\")\\nraw_emms_usa.timeseries(time_axis=\\\"year\\\", drop_all_nan_times=True)\";\n",
       "                var nbb_formatted_code = \"raw_emms_usa = raw_emms.filter(region=\\\"NRU\\\")\\nraw_emms_usa.timeseries(time_axis=\\\"year\\\", drop_all_nan_times=True)\";\n",
       "                var nbb_cells = Jupyter.notebook.get_cells();\n",
       "                for (var i = 0; i < nbb_cells.length; ++i) {\n",
       "                    if (nbb_cells[i].input_prompt_number == nbb_cell_id) {\n",
       "                        if (nbb_cells[i].get_text() == nbb_unformatted_code) {\n",
       "                             nbb_cells[i].set_text(nbb_formatted_code);\n",
       "                        }\n",
       "                        break;\n",
       "                    }\n",
       "                }\n",
       "            }, 500);\n",
       "            "
      ],
      "text/plain": [
       "<IPython.core.display.Javascript object>"
      ]
     },
     "metadata": {},
     "output_type": "display_data"
    }
   ],
   "source": [
    "raw_emms_usa = raw_emms.filter(region=\"NRU\")\n",
    "raw_emms_usa.timeseries(time_axis=\"year\", drop_all_nan_times=True)"
   ]
  },
  {
   "cell_type": "code",
   "execution_count": 11,
   "id": "0a7f6ba8",
   "metadata": {},
   "outputs": [
    {
     "data": {
      "text/plain": [
       "<AxesSubplot:xlabel='time', ylabel='Mt CO2 /yr'>"
      ]
     },
     "execution_count": 11,
     "metadata": {},
     "output_type": "execute_result"
    },
    {
     "data": {
      "image/png": "[encoded data removed]",
      "text/plain": [
       "<Figure size 432x288 with 1 Axes>"
      ]
     },
     "metadata": {
      "needs_background": "light"
     },
     "output_type": "display_data"
    },
    {
     "data": {
      "application/javascript": [
       "\n",
       "            setTimeout(function() {\n",
       "                var nbb_cell_id = 11;\n",
       "                var nbb_unformatted_code = \"raw_emms_usa.lineplot()\";\n",
       "                var nbb_formatted_code = \"raw_emms_usa.lineplot()\";\n",
       "                var nbb_cells = Jupyter.notebook.get_cells();\n",
       "                for (var i = 0; i < nbb_cells.length; ++i) {\n",
       "                    if (nbb_cells[i].input_prompt_number == nbb_cell_id) {\n",
       "                        if (nbb_cells[i].get_text() == nbb_unformatted_code) {\n",
       "                             nbb_cells[i].set_text(nbb_formatted_code);\n",
       "                        }\n",
       "                        break;\n",
       "                    }\n",
       "                }\n",
       "            }, 500);\n",
       "            "
      ],
      "text/plain": [
       "<IPython.core.display.Javascript object>"
      ]
     },
     "metadata": {},
     "output_type": "display_data"
    }
   ],
   "source": [
    "raw_emms_usa.lineplot()"
   ]
  },
  {
   "cell_type": "code",
   "execution_count": 12,
   "id": "a740cdaf",
   "metadata": {},
   "outputs": [
    {
     "data": {
      "text/plain": [
       "<AxesSubplot:xlabel='time', ylabel='Mt CO2/yr'>"
      ]
     },
     "execution_count": 12,
     "metadata": {},
     "output_type": "execute_result"
    },
    {
     "data": {
      "image/png": "[encoded data removed]",
      "text/plain": [
       "<Figure size 432x288 with 1 Axes>"
      ]
     },
     "metadata": {
      "needs_background": "light"
     },
     "output_type": "display_data"
    },
    {
     "data": {
      "application/javascript": [
       "\n",
       "            setTimeout(function() {\n",
       "                var nbb_cell_id = 12;\n",
       "                var nbb_unformatted_code = \"baseline_emms.filter(region=\\\"TUV\\\", scenario=\\\"SSP1BL\\\").lineplot()\";\n",
       "                var nbb_formatted_code = \"baseline_emms.filter(region=\\\"TUV\\\", scenario=\\\"SSP1BL\\\").lineplot()\";\n",
       "                var nbb_cells = Jupyter.notebook.get_cells();\n",
       "                for (var i = 0; i < nbb_cells.length; ++i) {\n",
       "                    if (nbb_cells[i].input_prompt_number == nbb_cell_id) {\n",
       "                        if (nbb_cells[i].get_text() == nbb_unformatted_code) {\n",
       "                             nbb_cells[i].set_text(nbb_formatted_code);\n",
       "                        }\n",
       "                        break;\n",
       "                    }\n",
       "                }\n",
       "            }, 500);\n",
       "            "
      ],
      "text/plain": [
       "<IPython.core.display.Javascript object>"
      ]
     },
     "metadata": {},
     "output_type": "display_data"
    }
   ],
   "source": [
    "baseline_emms.filter(region=\"TUV\", scenario=\"SSP1BL\").lineplot()"
   ]
  },
  {
   "cell_type": "code",
   "execution_count": 13,
   "id": "julian-ferry",
   "metadata": {},
   "outputs": [
    {
     "data": {
      "application/javascript": [
       "\n",
       "            setTimeout(function() {\n",
       "                var nbb_cell_id = 13;\n",
       "                var nbb_unformatted_code = \"# We have 6 pathways for 2 submissions = 12 in total\";\n",
       "                var nbb_formatted_code = \"# We have 6 pathways for 2 submissions = 12 in total\";\n",
       "                var nbb_cells = Jupyter.notebook.get_cells();\n",
       "                for (var i = 0; i < nbb_cells.length; ++i) {\n",
       "                    if (nbb_cells[i].input_prompt_number == nbb_cell_id) {\n",
       "                        if (nbb_cells[i].get_text() == nbb_unformatted_code) {\n",
       "                             nbb_cells[i].set_text(nbb_formatted_code);\n",
       "                        }\n",
       "                        break;\n",
       "                    }\n",
       "                }\n",
       "            }, 500);\n",
       "            "
      ],
      "text/plain": [
       "<IPython.core.display.Javascript object>"
      ]
     },
     "metadata": {},
     "output_type": "display_data"
    }
   ],
   "source": [
    "# We have 6 pathways for 2 submissions = 12 in total"
   ]
  },
  {
   "cell_type": "markdown",
   "id": "quarterly-declaration",
   "metadata": {},
   "source": [
    "## Extensions"
   ]
  },
  {
   "cell_type": "code",
   "execution_count": 14,
   "id": "institutional-gallery",
   "metadata": {},
   "outputs": [
    {
     "data": {
      "application/javascript": [
       "\n",
       "            setTimeout(function() {\n",
       "                var nbb_cell_id = 14;\n",
       "                var nbb_unformatted_code = \"# Helper functions\\ndef determine_last_year(ts):\\n    argmax = (~pd.isna(ts)[::-1]).argmax()\\n    argmax = len(ts) - argmax - 1\\n\\n    #     argmax = argmax if argmax < len(ts) else argmax\\n    return ts.index[argmax]\\n\\n\\ndef growth_rate_abs(ts, y_past, y_present):\\n    # Get the growth rate of a time series\\n    # Doesn't do any smoothing\\n    v_past = ts.loc[y_past]\\n    v_present = ts.loc[y_present]\\n\\n    gr = v_present - v_past\\n    gr = gr / (y_present - y_past)\\n\\n    return gr\\n\\n\\ndef growth_rate_pct(ts, y_past, y_present):\\n    # Get the growth rate of a time series\\n    # Doesn't do any smoothing\\n    v_past = ts.loc[y_past]\\n    v_present = ts.loc[y_present]\\n\\n    gr = (v_present - v_past) / v_past\\n    gr = gr / (y_present - y_past)\\n\\n    return gr\\n\\n\\ngrowth_rate = growth_rate_pct\";\n",
       "                var nbb_formatted_code = \"# Helper functions\\ndef determine_last_year(ts):\\n    argmax = (~pd.isna(ts)[::-1]).argmax()\\n    argmax = len(ts) - argmax - 1\\n\\n    #     argmax = argmax if argmax < len(ts) else argmax\\n    return ts.index[argmax]\\n\\n\\ndef growth_rate_abs(ts, y_past, y_present):\\n    # Get the growth rate of a time series\\n    # Doesn't do any smoothing\\n    v_past = ts.loc[y_past]\\n    v_present = ts.loc[y_present]\\n\\n    gr = v_present - v_past\\n    gr = gr / (y_present - y_past)\\n\\n    return gr\\n\\n\\ndef growth_rate_pct(ts, y_past, y_present):\\n    # Get the growth rate of a time series\\n    # Doesn't do any smoothing\\n    v_past = ts.loc[y_past]\\n    v_present = ts.loc[y_present]\\n\\n    gr = (v_present - v_past) / v_past\\n    gr = gr / (y_present - y_past)\\n\\n    return gr\\n\\n\\ngrowth_rate = growth_rate_pct\";\n",
       "                var nbb_cells = Jupyter.notebook.get_cells();\n",
       "                for (var i = 0; i < nbb_cells.length; ++i) {\n",
       "                    if (nbb_cells[i].input_prompt_number == nbb_cell_id) {\n",
       "                        if (nbb_cells[i].get_text() == nbb_unformatted_code) {\n",
       "                             nbb_cells[i].set_text(nbb_formatted_code);\n",
       "                        }\n",
       "                        break;\n",
       "                    }\n",
       "                }\n",
       "            }, 500);\n",
       "            "
      ],
      "text/plain": [
       "<IPython.core.display.Javascript object>"
      ]
     },
     "metadata": {},
     "output_type": "display_data"
    }
   ],
   "source": [
    "# Helper functions\n",
    "def determine_last_year(ts):\n",
    "    argmax = (~pd.isna(ts)[::-1]).argmax()\n",
    "    argmax = len(ts) - argmax - 1\n",
    "\n",
    "    #     argmax = argmax if argmax < len(ts) else argmax\n",
    "    return ts.index[argmax]\n",
    "\n",
    "\n",
    "def growth_rate_abs(ts, y_past, y_present):\n",
    "    # Get the growth rate of a time series\n",
    "    # Doesn't do any smoothing\n",
    "    v_past = ts.loc[y_past]\n",
    "    v_present = ts.loc[y_present]\n",
    "\n",
    "    gr = v_present - v_past\n",
    "    gr = gr / (y_present - y_past)\n",
    "\n",
    "    return gr\n",
    "\n",
    "\n",
    "def growth_rate_pct(ts, y_past, y_present):\n",
    "    # Get the growth rate of a time series\n",
    "    # Doesn't do any smoothing\n",
    "    v_past = ts.loc[y_past]\n",
    "    v_present = ts.loc[y_present]\n",
    "\n",
    "    gr = (v_present - v_past) / v_past\n",
    "    gr = gr / (y_present - y_past)\n",
    "\n",
    "    return gr\n",
    "\n",
    "\n",
    "growth_rate = growth_rate_pct"
   ]
  },
  {
   "cell_type": "code",
   "execution_count": 15,
   "id": "e25b1c88",
   "metadata": {},
   "outputs": [
    {
     "data": {
      "text/plain": [
       "2030"
      ]
     },
     "execution_count": 15,
     "metadata": {},
     "output_type": "execute_result"
    },
    {
     "data": {
      "application/javascript": [
       "\n",
       "            setTimeout(function() {\n",
       "                var nbb_cell_id = 15;\n",
       "                var nbb_unformatted_code = \"determine_last_year(raw_emms.timeseries(time_axis=\\\"year\\\").iloc[0])\";\n",
       "                var nbb_formatted_code = \"determine_last_year(raw_emms.timeseries(time_axis=\\\"year\\\").iloc[0])\";\n",
       "                var nbb_cells = Jupyter.notebook.get_cells();\n",
       "                for (var i = 0; i < nbb_cells.length; ++i) {\n",
       "                    if (nbb_cells[i].input_prompt_number == nbb_cell_id) {\n",
       "                        if (nbb_cells[i].get_text() == nbb_unformatted_code) {\n",
       "                             nbb_cells[i].set_text(nbb_formatted_code);\n",
       "                        }\n",
       "                        break;\n",
       "                    }\n",
       "                }\n",
       "            }, 500);\n",
       "            "
      ],
      "text/plain": [
       "<IPython.core.display.Javascript object>"
      ]
     },
     "metadata": {},
     "output_type": "display_data"
    }
   ],
   "source": [
    "determine_last_year(raw_emms.timeseries(time_axis=\"year\").iloc[0])"
   ]
  },
  {
   "cell_type": "code",
   "execution_count": 16,
   "id": "7f0f2420",
   "metadata": {},
   "outputs": [
    {
     "data": {
      "text/plain": [
       "[2030, 2050, 2049]"
      ]
     },
     "execution_count": 16,
     "metadata": {},
     "output_type": "execute_result"
    },
    {
     "data": {
      "application/javascript": [
       "\n",
       "            setTimeout(function() {\n",
       "                var nbb_cell_id = 16;\n",
       "                var nbb_unformatted_code = \"# Augment the results with the year which emissions finish\\nraw_emms[\\\"last_provided_year\\\"] = raw_emms.timeseries(time_axis=\\\"year\\\").apply(\\n    determine_last_year, axis=1\\n)\\nraw_emms.get_unique_meta(\\\"last_provided_year\\\")\";\n",
       "                var nbb_formatted_code = \"# Augment the results with the year which emissions finish\\nraw_emms[\\\"last_provided_year\\\"] = raw_emms.timeseries(time_axis=\\\"year\\\").apply(\\n    determine_last_year, axis=1\\n)\\nraw_emms.get_unique_meta(\\\"last_provided_year\\\")\";\n",
       "                var nbb_cells = Jupyter.notebook.get_cells();\n",
       "                for (var i = 0; i < nbb_cells.length; ++i) {\n",
       "                    if (nbb_cells[i].input_prompt_number == nbb_cell_id) {\n",
       "                        if (nbb_cells[i].get_text() == nbb_unformatted_code) {\n",
       "                             nbb_cells[i].set_text(nbb_formatted_code);\n",
       "                        }\n",
       "                        break;\n",
       "                    }\n",
       "                }\n",
       "            }, 500);\n",
       "            "
      ],
      "text/plain": [
       "<IPython.core.display.Javascript object>"
      ]
     },
     "metadata": {},
     "output_type": "display_data"
    }
   ],
   "source": [
    "# Augment the results with the year which emissions finish\n",
    "raw_emms[\"last_provided_year\"] = raw_emms.timeseries(time_axis=\"year\").apply(\n",
    "    determine_last_year, axis=1\n",
    ")\n",
    "raw_emms.get_unique_meta(\"last_provided_year\")"
   ]
  },
  {
   "cell_type": "code",
   "execution_count": 17,
   "id": "4783386a",
   "metadata": {},
   "outputs": [
    {
     "data": {
      "text/plain": [
       "<scmdata.ScmRun (timeseries: 4748, timepoints: 81)>\n",
       "Time:\n",
       "\tStart: 1980-01-01T00:00:00\n",
       "\tEnd: 2060-01-01T00:00:00\n",
       "Meta:\n",
       "\t     ambition conditionality exclude_hot_air  last_provided_year          model region        scenario submission_date        unit                          variable\n",
       "\t0        high              C         exclude                2030  NDC Factsheet    TUV  HighInitialNDC       4/22/2016  Mt CO2 /yr  Emissions|Total GHG excl. LULUCF\n",
       "\t1        high              R         exclude                2030  NDC Factsheet    TUV  HighInitialNDC       4/22/2016  Mt CO2 /yr  Emissions|Total GHG excl. LULUCF\n",
       "\t2        high              U         exclude                2030  NDC Factsheet    TUV  HighInitialNDC       4/22/2016  Mt CO2 /yr  Emissions|Total GHG excl. LULUCF\n",
       "\t3        high              C         include                2030  NDC Factsheet    TUV  HighInitialNDC       4/22/2016  Mt CO2 /yr  Emissions|Total GHG excl. LULUCF\n",
       "\t4        high              R         include                2030  NDC Factsheet    TUV  HighInitialNDC       4/22/2016  Mt CO2 /yr  Emissions|Total GHG excl. LULUCF\n",
       "\t5        high              U         include                2030  NDC Factsheet    TUV  HighInitialNDC       4/22/2016  Mt CO2 /yr  Emissions|Total GHG excl. LULUCF\n",
       "\t6        high              C         exclude                2050  NDC Factsheet    TUV         HighNDC         NOT YET  Mt CO2 /yr  Emissions|Total GHG excl. LULUCF\n",
       "\t7        high              R         exclude                2050  NDC Factsheet    TUV         HighNDC         NOT YET  Mt CO2 /yr  Emissions|Total GHG excl. LULUCF\n",
       "\t8        high              U         exclude                2050  NDC Factsheet    TUV         HighNDC         NOT YET  Mt CO2 /yr  Emissions|Total GHG excl. LULUCF\n",
       "\t9        high              C         include                2050  NDC Factsheet    TUV         HighNDC         NOT YET  Mt CO2 /yr  Emissions|Total GHG excl. LULUCF\n",
       "\t...       ...            ...             ...                 ...            ...    ...             ...             ...         ...                               ...\n",
       "\t5132      low              U         exclude                2030  NDC Factsheet    CPV          LowNDC        4/2/2021  Mt CO2 /yr  Emissions|Total GHG excl. LULUCF\n",
       "\t5133      low              C         include                2030  NDC Factsheet    CPV          LowNDC        4/2/2021  Mt CO2 /yr  Emissions|Total GHG excl. LULUCF\n",
       "\t5134      low              R         include                2030  NDC Factsheet    CPV          LowNDC        4/2/2021  Mt CO2 /yr  Emissions|Total GHG excl. LULUCF\n",
       "\t5135      low              U         include                2030  NDC Factsheet    CPV          LowNDC        4/2/2021  Mt CO2 /yr  Emissions|Total GHG excl. LULUCF\n",
       "\t5136      low              C         exclude                2030  NDC Factsheet    CPV   LowInitialNDC       9/21/2017  Mt CO2 /yr  Emissions|Total GHG excl. LULUCF\n",
       "\t5137      low              R         exclude                2030  NDC Factsheet    CPV   LowInitialNDC       9/21/2017  Mt CO2 /yr  Emissions|Total GHG excl. LULUCF\n",
       "\t5138      low              U         exclude                2030  NDC Factsheet    CPV   LowInitialNDC       9/21/2017  Mt CO2 /yr  Emissions|Total GHG excl. LULUCF\n",
       "\t5139      low              C         include                2030  NDC Factsheet    CPV   LowInitialNDC       9/21/2017  Mt CO2 /yr  Emissions|Total GHG excl. LULUCF\n",
       "\t5140      low              R         include                2030  NDC Factsheet    CPV   LowInitialNDC       9/21/2017  Mt CO2 /yr  Emissions|Total GHG excl. LULUCF\n",
       "\t5141      low              U         include                2030  NDC Factsheet    CPV   LowInitialNDC       9/21/2017  Mt CO2 /yr  Emissions|Total GHG excl. LULUCF\n",
       "\t\n",
       "\t[4748 rows x 10 columns]"
      ]
     },
     "execution_count": 17,
     "metadata": {},
     "output_type": "execute_result"
    },
    {
     "data": {
      "application/javascript": [
       "\n",
       "            setTimeout(function() {\n",
       "                var nbb_cell_id = 17;\n",
       "                var nbb_unformatted_code = \"raw_emms\";\n",
       "                var nbb_formatted_code = \"raw_emms\";\n",
       "                var nbb_cells = Jupyter.notebook.get_cells();\n",
       "                for (var i = 0; i < nbb_cells.length; ++i) {\n",
       "                    if (nbb_cells[i].input_prompt_number == nbb_cell_id) {\n",
       "                        if (nbb_cells[i].get_text() == nbb_unformatted_code) {\n",
       "                             nbb_cells[i].set_text(nbb_formatted_code);\n",
       "                        }\n",
       "                        break;\n",
       "                    }\n",
       "                }\n",
       "            }, 500);\n",
       "            "
      ],
      "text/plain": [
       "<IPython.core.display.Javascript object>"
      ]
     },
     "metadata": {},
     "output_type": "display_data"
    }
   ],
   "source": [
    "raw_emms"
   ]
  },
  {
   "cell_type": "code",
   "execution_count": 18,
   "id": "19230761",
   "metadata": {},
   "outputs": [
    {
     "data": {
      "text/plain": [
       "5"
      ]
     },
     "execution_count": 18,
     "metadata": {},
     "output_type": "execute_result"
    },
    {
     "data": {
      "application/javascript": [
       "\n",
       "            setTimeout(function() {\n",
       "                var nbb_cell_id = 18;\n",
       "                var nbb_unformatted_code = \"region_meta_idx = raw_emms.meta.columns.get_loc(\\\"region\\\")\\nregion_meta_idx\";\n",
       "                var nbb_formatted_code = \"region_meta_idx = raw_emms.meta.columns.get_loc(\\\"region\\\")\\nregion_meta_idx\";\n",
       "                var nbb_cells = Jupyter.notebook.get_cells();\n",
       "                for (var i = 0; i < nbb_cells.length; ++i) {\n",
       "                    if (nbb_cells[i].input_prompt_number == nbb_cell_id) {\n",
       "                        if (nbb_cells[i].get_text() == nbb_unformatted_code) {\n",
       "                             nbb_cells[i].set_text(nbb_formatted_code);\n",
       "                        }\n",
       "                        break;\n",
       "                    }\n",
       "                }\n",
       "            }, 500);\n",
       "            "
      ],
      "text/plain": [
       "<IPython.core.display.Javascript object>"
      ]
     },
     "metadata": {},
     "output_type": "display_data"
    }
   ],
   "source": [
    "region_meta_idx = raw_emms.meta.columns.get_loc(\"region\")\n",
    "region_meta_idx"
   ]
  },
  {
   "cell_type": "code",
   "execution_count": 19,
   "id": "0fc6e026",
   "metadata": {},
   "outputs": [
    {
     "data": {
      "text/html": [
       "<div>\n",
       "<style scoped>\n",
       "    .dataframe tbody tr th:only-of-type {\n",
       "        vertical-align: middle;\n",
       "    }\n",
       "\n",
       "    .dataframe tbody tr th {\n",
       "        vertical-align: top;\n",
       "    }\n",
       "\n",
       "    .dataframe thead th {\n",
       "        text-align: right;\n",
       "    }\n",
       "</style>\n",
       "<table border=\"1\" class=\"dataframe\">\n",
       "  <thead>\n",
       "    <tr style=\"text-align: right;\">\n",
       "      <th></th>\n",
       "      <th></th>\n",
       "      <th></th>\n",
       "      <th></th>\n",
       "      <th></th>\n",
       "      <th></th>\n",
       "      <th></th>\n",
       "      <th></th>\n",
       "      <th></th>\n",
       "      <th>time</th>\n",
       "      <th>1980-01-01</th>\n",
       "      <th>1981-01-01</th>\n",
       "      <th>1982-01-01</th>\n",
       "      <th>1983-01-01</th>\n",
       "      <th>1984-01-01</th>\n",
       "      <th>1985-01-01</th>\n",
       "      <th>1986-01-01</th>\n",
       "      <th>...</th>\n",
       "      <th>2054-01-01</th>\n",
       "      <th>2055-01-01</th>\n",
       "      <th>2056-01-01</th>\n",
       "      <th>2057-01-01</th>\n",
       "      <th>2058-01-01</th>\n",
       "      <th>2059-01-01</th>\n",
       "      <th>2060-01-01</th>\n",
       "    </tr>\n",
       "    <tr>\n",
       "      <th>ambition</th>\n",
       "      <th>conditionality</th>\n",
       "      <th>exclude_hot_air</th>\n",
       "      <th>last_provided_year</th>\n",
       "      <th>model</th>\n",
       "      <th>region</th>\n",
       "      <th>scenario</th>\n",
       "      <th>submission_date</th>\n",
       "      <th>unit</th>\n",
       "      <th>variable</th>\n",
       "      <th></th>\n",
       "      <th></th>\n",
       "      <th></th>\n",
       "      <th></th>\n",
       "      <th></th>\n",
       "      <th></th>\n",
       "      <th></th>\n",
       "      <th></th>\n",
       "      <th></th>\n",
       "      <th></th>\n",
       "      <th></th>\n",
       "      <th></th>\n",
       "      <th></th>\n",
       "      <th></th>\n",
       "      <th></th>\n",
       "    </tr>\n",
       "  </thead>\n",
       "  <tbody>\n",
       "    <tr>\n",
       "      <th rowspan=\"12\" valign=\"top\">high</th>\n",
       "      <th>C</th>\n",
       "      <th>exclude</th>\n",
       "      <th>2030</th>\n",
       "      <th>NDC Factsheet</th>\n",
       "      <th>TUV</th>\n",
       "      <th>HighInitialNDC</th>\n",
       "      <th>4/22/2016</th>\n",
       "      <th>Mt CO2 /yr</th>\n",
       "      <th>Emissions|Total GHG excl. LULUCF</th>\n",
       "      <td>NaN</td>\n",
       "      <td>NaN</td>\n",
       "      <td>NaN</td>\n",
       "      <td>NaN</td>\n",
       "      <td>NaN</td>\n",
       "      <td>NaN</td>\n",
       "      <td>NaN</td>\n",
       "      <td>...</td>\n",
       "      <td>NaN</td>\n",
       "      <td>NaN</td>\n",
       "      <td>NaN</td>\n",
       "      <td>NaN</td>\n",
       "      <td>NaN</td>\n",
       "      <td>NaN</td>\n",
       "      <td>NaN</td>\n",
       "    </tr>\n",
       "    <tr>\n",
       "      <th>R</th>\n",
       "      <th>exclude</th>\n",
       "      <th>2030</th>\n",
       "      <th>NDC Factsheet</th>\n",
       "      <th>TUV</th>\n",
       "      <th>HighInitialNDC</th>\n",
       "      <th>4/22/2016</th>\n",
       "      <th>Mt CO2 /yr</th>\n",
       "      <th>Emissions|Total GHG excl. LULUCF</th>\n",
       "      <td>NaN</td>\n",
       "      <td>NaN</td>\n",
       "      <td>NaN</td>\n",
       "      <td>NaN</td>\n",
       "      <td>NaN</td>\n",
       "      <td>NaN</td>\n",
       "      <td>NaN</td>\n",
       "      <td>...</td>\n",
       "      <td>NaN</td>\n",
       "      <td>NaN</td>\n",
       "      <td>NaN</td>\n",
       "      <td>NaN</td>\n",
       "      <td>NaN</td>\n",
       "      <td>NaN</td>\n",
       "      <td>NaN</td>\n",
       "    </tr>\n",
       "    <tr>\n",
       "      <th>U</th>\n",
       "      <th>exclude</th>\n",
       "      <th>2030</th>\n",
       "      <th>NDC Factsheet</th>\n",
       "      <th>TUV</th>\n",
       "      <th>HighInitialNDC</th>\n",
       "      <th>4/22/2016</th>\n",
       "      <th>Mt CO2 /yr</th>\n",
       "      <th>Emissions|Total GHG excl. LULUCF</th>\n",
       "      <td>NaN</td>\n",
       "      <td>NaN</td>\n",
       "      <td>NaN</td>\n",
       "      <td>NaN</td>\n",
       "      <td>NaN</td>\n",
       "      <td>NaN</td>\n",
       "      <td>NaN</td>\n",
       "      <td>...</td>\n",
       "      <td>NaN</td>\n",
       "      <td>NaN</td>\n",
       "      <td>NaN</td>\n",
       "      <td>NaN</td>\n",
       "      <td>NaN</td>\n",
       "      <td>NaN</td>\n",
       "      <td>NaN</td>\n",
       "    </tr>\n",
       "    <tr>\n",
       "      <th>C</th>\n",
       "      <th>include</th>\n",
       "      <th>2030</th>\n",
       "      <th>NDC Factsheet</th>\n",
       "      <th>TUV</th>\n",
       "      <th>HighInitialNDC</th>\n",
       "      <th>4/22/2016</th>\n",
       "      <th>Mt CO2 /yr</th>\n",
       "      <th>Emissions|Total GHG excl. LULUCF</th>\n",
       "      <td>NaN</td>\n",
       "      <td>NaN</td>\n",
       "      <td>NaN</td>\n",
       "      <td>NaN</td>\n",
       "      <td>NaN</td>\n",
       "      <td>NaN</td>\n",
       "      <td>NaN</td>\n",
       "      <td>...</td>\n",
       "      <td>NaN</td>\n",
       "      <td>NaN</td>\n",
       "      <td>NaN</td>\n",
       "      <td>NaN</td>\n",
       "      <td>NaN</td>\n",
       "      <td>NaN</td>\n",
       "      <td>NaN</td>\n",
       "    </tr>\n",
       "    <tr>\n",
       "      <th>R</th>\n",
       "      <th>include</th>\n",
       "      <th>2030</th>\n",
       "      <th>NDC Factsheet</th>\n",
       "      <th>TUV</th>\n",
       "      <th>HighInitialNDC</th>\n",
       "      <th>4/22/2016</th>\n",
       "      <th>Mt CO2 /yr</th>\n",
       "      <th>Emissions|Total GHG excl. LULUCF</th>\n",
       "      <td>NaN</td>\n",
       "      <td>NaN</td>\n",
       "      <td>NaN</td>\n",
       "      <td>NaN</td>\n",
       "      <td>NaN</td>\n",
       "      <td>NaN</td>\n",
       "      <td>NaN</td>\n",
       "      <td>...</td>\n",
       "      <td>NaN</td>\n",
       "      <td>NaN</td>\n",
       "      <td>NaN</td>\n",
       "      <td>NaN</td>\n",
       "      <td>NaN</td>\n",
       "      <td>NaN</td>\n",
       "      <td>NaN</td>\n",
       "    </tr>\n",
       "    <tr>\n",
       "      <th>U</th>\n",
       "      <th>include</th>\n",
       "      <th>2030</th>\n",
       "      <th>NDC Factsheet</th>\n",
       "      <th>TUV</th>\n",
       "      <th>HighInitialNDC</th>\n",
       "      <th>4/22/2016</th>\n",
       "      <th>Mt CO2 /yr</th>\n",
       "      <th>Emissions|Total GHG excl. LULUCF</th>\n",
       "      <td>NaN</td>\n",
       "      <td>NaN</td>\n",
       "      <td>NaN</td>\n",
       "      <td>NaN</td>\n",
       "      <td>NaN</td>\n",
       "      <td>NaN</td>\n",
       "      <td>NaN</td>\n",
       "      <td>...</td>\n",
       "      <td>NaN</td>\n",
       "      <td>NaN</td>\n",
       "      <td>NaN</td>\n",
       "      <td>NaN</td>\n",
       "      <td>NaN</td>\n",
       "      <td>NaN</td>\n",
       "      <td>NaN</td>\n",
       "    </tr>\n",
       "    <tr>\n",
       "      <th>C</th>\n",
       "      <th>exclude</th>\n",
       "      <th>2050</th>\n",
       "      <th>NDC Factsheet</th>\n",
       "      <th>TUV</th>\n",
       "      <th>HighNDC</th>\n",
       "      <th>NOT YET</th>\n",
       "      <th>Mt CO2 /yr</th>\n",
       "      <th>Emissions|Total GHG excl. LULUCF</th>\n",
       "      <td>NaN</td>\n",
       "      <td>NaN</td>\n",
       "      <td>NaN</td>\n",
       "      <td>NaN</td>\n",
       "      <td>NaN</td>\n",
       "      <td>NaN</td>\n",
       "      <td>NaN</td>\n",
       "      <td>...</td>\n",
       "      <td>NaN</td>\n",
       "      <td>NaN</td>\n",
       "      <td>NaN</td>\n",
       "      <td>NaN</td>\n",
       "      <td>NaN</td>\n",
       "      <td>NaN</td>\n",
       "      <td>NaN</td>\n",
       "    </tr>\n",
       "    <tr>\n",
       "      <th>R</th>\n",
       "      <th>exclude</th>\n",
       "      <th>2050</th>\n",
       "      <th>NDC Factsheet</th>\n",
       "      <th>TUV</th>\n",
       "      <th>HighNDC</th>\n",
       "      <th>NOT YET</th>\n",
       "      <th>Mt CO2 /yr</th>\n",
       "      <th>Emissions|Total GHG excl. LULUCF</th>\n",
       "      <td>NaN</td>\n",
       "      <td>NaN</td>\n",
       "      <td>NaN</td>\n",
       "      <td>NaN</td>\n",
       "      <td>NaN</td>\n",
       "      <td>NaN</td>\n",
       "      <td>NaN</td>\n",
       "      <td>...</td>\n",
       "      <td>NaN</td>\n",
       "      <td>NaN</td>\n",
       "      <td>NaN</td>\n",
       "      <td>NaN</td>\n",
       "      <td>NaN</td>\n",
       "      <td>NaN</td>\n",
       "      <td>NaN</td>\n",
       "    </tr>\n",
       "    <tr>\n",
       "      <th>U</th>\n",
       "      <th>exclude</th>\n",
       "      <th>2050</th>\n",
       "      <th>NDC Factsheet</th>\n",
       "      <th>TUV</th>\n",
       "      <th>HighNDC</th>\n",
       "      <th>NOT YET</th>\n",
       "      <th>Mt CO2 /yr</th>\n",
       "      <th>Emissions|Total GHG excl. LULUCF</th>\n",
       "      <td>NaN</td>\n",
       "      <td>NaN</td>\n",
       "      <td>NaN</td>\n",
       "      <td>NaN</td>\n",
       "      <td>NaN</td>\n",
       "      <td>NaN</td>\n",
       "      <td>NaN</td>\n",
       "      <td>...</td>\n",
       "      <td>NaN</td>\n",
       "      <td>NaN</td>\n",
       "      <td>NaN</td>\n",
       "      <td>NaN</td>\n",
       "      <td>NaN</td>\n",
       "      <td>NaN</td>\n",
       "      <td>NaN</td>\n",
       "    </tr>\n",
       "    <tr>\n",
       "      <th>C</th>\n",
       "      <th>include</th>\n",
       "      <th>2050</th>\n",
       "      <th>NDC Factsheet</th>\n",
       "      <th>TUV</th>\n",
       "      <th>HighNDC</th>\n",
       "      <th>NOT YET</th>\n",
       "      <th>Mt CO2 /yr</th>\n",
       "      <th>Emissions|Total GHG excl. LULUCF</th>\n",
       "      <td>NaN</td>\n",
       "      <td>NaN</td>\n",
       "      <td>NaN</td>\n",
       "      <td>NaN</td>\n",
       "      <td>NaN</td>\n",
       "      <td>NaN</td>\n",
       "      <td>NaN</td>\n",
       "      <td>...</td>\n",
       "      <td>NaN</td>\n",
       "      <td>NaN</td>\n",
       "      <td>NaN</td>\n",
       "      <td>NaN</td>\n",
       "      <td>NaN</td>\n",
       "      <td>NaN</td>\n",
       "      <td>NaN</td>\n",
       "    </tr>\n",
       "    <tr>\n",
       "      <th>R</th>\n",
       "      <th>include</th>\n",
       "      <th>2050</th>\n",
       "      <th>NDC Factsheet</th>\n",
       "      <th>TUV</th>\n",
       "      <th>HighNDC</th>\n",
       "      <th>NOT YET</th>\n",
       "      <th>Mt CO2 /yr</th>\n",
       "      <th>Emissions|Total GHG excl. LULUCF</th>\n",
       "      <td>NaN</td>\n",
       "      <td>NaN</td>\n",
       "      <td>NaN</td>\n",
       "      <td>NaN</td>\n",
       "      <td>NaN</td>\n",
       "      <td>NaN</td>\n",
       "      <td>NaN</td>\n",
       "      <td>...</td>\n",
       "      <td>NaN</td>\n",
       "      <td>NaN</td>\n",
       "      <td>NaN</td>\n",
       "      <td>NaN</td>\n",
       "      <td>NaN</td>\n",
       "      <td>NaN</td>\n",
       "      <td>NaN</td>\n",
       "    </tr>\n",
       "    <tr>\n",
       "      <th>U</th>\n",
       "      <th>include</th>\n",
       "      <th>2050</th>\n",
       "      <th>NDC Factsheet</th>\n",
       "      <th>TUV</th>\n",
       "      <th>HighNDC</th>\n",
       "      <th>NOT YET</th>\n",
       "      <th>Mt CO2 /yr</th>\n",
       "      <th>Emissions|Total GHG excl. LULUCF</th>\n",
       "      <td>NaN</td>\n",
       "      <td>NaN</td>\n",
       "      <td>NaN</td>\n",
       "      <td>NaN</td>\n",
       "      <td>NaN</td>\n",
       "      <td>NaN</td>\n",
       "      <td>NaN</td>\n",
       "      <td>...</td>\n",
       "      <td>NaN</td>\n",
       "      <td>NaN</td>\n",
       "      <td>NaN</td>\n",
       "      <td>NaN</td>\n",
       "      <td>NaN</td>\n",
       "      <td>NaN</td>\n",
       "      <td>NaN</td>\n",
       "    </tr>\n",
       "    <tr>\n",
       "      <th rowspan=\"12\" valign=\"top\">low</th>\n",
       "      <th>C</th>\n",
       "      <th>exclude</th>\n",
       "      <th>2030</th>\n",
       "      <th>NDC Factsheet</th>\n",
       "      <th>TUV</th>\n",
       "      <th>LowInitialNDC</th>\n",
       "      <th>4/22/2016</th>\n",
       "      <th>Mt CO2 /yr</th>\n",
       "      <th>Emissions|Total GHG excl. LULUCF</th>\n",
       "      <td>NaN</td>\n",
       "      <td>NaN</td>\n",
       "      <td>NaN</td>\n",
       "      <td>NaN</td>\n",
       "      <td>NaN</td>\n",
       "      <td>NaN</td>\n",
       "      <td>NaN</td>\n",
       "      <td>...</td>\n",
       "      <td>NaN</td>\n",
       "      <td>NaN</td>\n",
       "      <td>NaN</td>\n",
       "      <td>NaN</td>\n",
       "      <td>NaN</td>\n",
       "      <td>NaN</td>\n",
       "      <td>NaN</td>\n",
       "    </tr>\n",
       "    <tr>\n",
       "      <th>R</th>\n",
       "      <th>exclude</th>\n",
       "      <th>2030</th>\n",
       "      <th>NDC Factsheet</th>\n",
       "      <th>TUV</th>\n",
       "      <th>LowInitialNDC</th>\n",
       "      <th>4/22/2016</th>\n",
       "      <th>Mt CO2 /yr</th>\n",
       "      <th>Emissions|Total GHG excl. LULUCF</th>\n",
       "      <td>NaN</td>\n",
       "      <td>NaN</td>\n",
       "      <td>NaN</td>\n",
       "      <td>NaN</td>\n",
       "      <td>NaN</td>\n",
       "      <td>NaN</td>\n",
       "      <td>NaN</td>\n",
       "      <td>...</td>\n",
       "      <td>NaN</td>\n",
       "      <td>NaN</td>\n",
       "      <td>NaN</td>\n",
       "      <td>NaN</td>\n",
       "      <td>NaN</td>\n",
       "      <td>NaN</td>\n",
       "      <td>NaN</td>\n",
       "    </tr>\n",
       "    <tr>\n",
       "      <th>U</th>\n",
       "      <th>exclude</th>\n",
       "      <th>2030</th>\n",
       "      <th>NDC Factsheet</th>\n",
       "      <th>TUV</th>\n",
       "      <th>LowInitialNDC</th>\n",
       "      <th>4/22/2016</th>\n",
       "      <th>Mt CO2 /yr</th>\n",
       "      <th>Emissions|Total GHG excl. LULUCF</th>\n",
       "      <td>NaN</td>\n",
       "      <td>NaN</td>\n",
       "      <td>NaN</td>\n",
       "      <td>NaN</td>\n",
       "      <td>NaN</td>\n",
       "      <td>NaN</td>\n",
       "      <td>NaN</td>\n",
       "      <td>...</td>\n",
       "      <td>NaN</td>\n",
       "      <td>NaN</td>\n",
       "      <td>NaN</td>\n",
       "      <td>NaN</td>\n",
       "      <td>NaN</td>\n",
       "      <td>NaN</td>\n",
       "      <td>NaN</td>\n",
       "    </tr>\n",
       "    <tr>\n",
       "      <th>C</th>\n",
       "      <th>include</th>\n",
       "      <th>2030</th>\n",
       "      <th>NDC Factsheet</th>\n",
       "      <th>TUV</th>\n",
       "      <th>LowInitialNDC</th>\n",
       "      <th>4/22/2016</th>\n",
       "      <th>Mt CO2 /yr</th>\n",
       "      <th>Emissions|Total GHG excl. LULUCF</th>\n",
       "      <td>NaN</td>\n",
       "      <td>NaN</td>\n",
       "      <td>NaN</td>\n",
       "      <td>NaN</td>\n",
       "      <td>NaN</td>\n",
       "      <td>NaN</td>\n",
       "      <td>NaN</td>\n",
       "      <td>...</td>\n",
       "      <td>NaN</td>\n",
       "      <td>NaN</td>\n",
       "      <td>NaN</td>\n",
       "      <td>NaN</td>\n",
       "      <td>NaN</td>\n",
       "      <td>NaN</td>\n",
       "      <td>NaN</td>\n",
       "    </tr>\n",
       "    <tr>\n",
       "      <th>R</th>\n",
       "      <th>include</th>\n",
       "      <th>2030</th>\n",
       "      <th>NDC Factsheet</th>\n",
       "      <th>TUV</th>\n",
       "      <th>LowInitialNDC</th>\n",
       "      <th>4/22/2016</th>\n",
       "      <th>Mt CO2 /yr</th>\n",
       "      <th>Emissions|Total GHG excl. LULUCF</th>\n",
       "      <td>NaN</td>\n",
       "      <td>NaN</td>\n",
       "      <td>NaN</td>\n",
       "      <td>NaN</td>\n",
       "      <td>NaN</td>\n",
       "      <td>NaN</td>\n",
       "      <td>NaN</td>\n",
       "      <td>...</td>\n",
       "      <td>NaN</td>\n",
       "      <td>NaN</td>\n",
       "      <td>NaN</td>\n",
       "      <td>NaN</td>\n",
       "      <td>NaN</td>\n",
       "      <td>NaN</td>\n",
       "      <td>NaN</td>\n",
       "    </tr>\n",
       "    <tr>\n",
       "      <th>U</th>\n",
       "      <th>include</th>\n",
       "      <th>2030</th>\n",
       "      <th>NDC Factsheet</th>\n",
       "      <th>TUV</th>\n",
       "      <th>LowInitialNDC</th>\n",
       "      <th>4/22/2016</th>\n",
       "      <th>Mt CO2 /yr</th>\n",
       "      <th>Emissions|Total GHG excl. LULUCF</th>\n",
       "      <td>NaN</td>\n",
       "      <td>NaN</td>\n",
       "      <td>NaN</td>\n",
       "      <td>NaN</td>\n",
       "      <td>NaN</td>\n",
       "      <td>NaN</td>\n",
       "      <td>NaN</td>\n",
       "      <td>...</td>\n",
       "      <td>NaN</td>\n",
       "      <td>NaN</td>\n",
       "      <td>NaN</td>\n",
       "      <td>NaN</td>\n",
       "      <td>NaN</td>\n",
       "      <td>NaN</td>\n",
       "      <td>NaN</td>\n",
       "    </tr>\n",
       "    <tr>\n",
       "      <th>C</th>\n",
       "      <th>exclude</th>\n",
       "      <th>2050</th>\n",
       "      <th>NDC Factsheet</th>\n",
       "      <th>TUV</th>\n",
       "      <th>LowNDC</th>\n",
       "      <th>NOT YET</th>\n",
       "      <th>Mt CO2 /yr</th>\n",
       "      <th>Emissions|Total GHG excl. LULUCF</th>\n",
       "      <td>NaN</td>\n",
       "      <td>NaN</td>\n",
       "      <td>NaN</td>\n",
       "      <td>NaN</td>\n",
       "      <td>NaN</td>\n",
       "      <td>NaN</td>\n",
       "      <td>NaN</td>\n",
       "      <td>...</td>\n",
       "      <td>NaN</td>\n",
       "      <td>NaN</td>\n",
       "      <td>NaN</td>\n",
       "      <td>NaN</td>\n",
       "      <td>NaN</td>\n",
       "      <td>NaN</td>\n",
       "      <td>NaN</td>\n",
       "    </tr>\n",
       "    <tr>\n",
       "      <th>R</th>\n",
       "      <th>exclude</th>\n",
       "      <th>2050</th>\n",
       "      <th>NDC Factsheet</th>\n",
       "      <th>TUV</th>\n",
       "      <th>LowNDC</th>\n",
       "      <th>NOT YET</th>\n",
       "      <th>Mt CO2 /yr</th>\n",
       "      <th>Emissions|Total GHG excl. LULUCF</th>\n",
       "      <td>NaN</td>\n",
       "      <td>NaN</td>\n",
       "      <td>NaN</td>\n",
       "      <td>NaN</td>\n",
       "      <td>NaN</td>\n",
       "      <td>NaN</td>\n",
       "      <td>NaN</td>\n",
       "      <td>...</td>\n",
       "      <td>NaN</td>\n",
       "      <td>NaN</td>\n",
       "      <td>NaN</td>\n",
       "      <td>NaN</td>\n",
       "      <td>NaN</td>\n",
       "      <td>NaN</td>\n",
       "      <td>NaN</td>\n",
       "    </tr>\n",
       "    <tr>\n",
       "      <th>U</th>\n",
       "      <th>exclude</th>\n",
       "      <th>2050</th>\n",
       "      <th>NDC Factsheet</th>\n",
       "      <th>TUV</th>\n",
       "      <th>LowNDC</th>\n",
       "      <th>NOT YET</th>\n",
       "      <th>Mt CO2 /yr</th>\n",
       "      <th>Emissions|Total GHG excl. LULUCF</th>\n",
       "      <td>NaN</td>\n",
       "      <td>NaN</td>\n",
       "      <td>NaN</td>\n",
       "      <td>NaN</td>\n",
       "      <td>NaN</td>\n",
       "      <td>NaN</td>\n",
       "      <td>NaN</td>\n",
       "      <td>...</td>\n",
       "      <td>NaN</td>\n",
       "      <td>NaN</td>\n",
       "      <td>NaN</td>\n",
       "      <td>NaN</td>\n",
       "      <td>NaN</td>\n",
       "      <td>NaN</td>\n",
       "      <td>NaN</td>\n",
       "    </tr>\n",
       "    <tr>\n",
       "      <th>C</th>\n",
       "      <th>include</th>\n",
       "      <th>2050</th>\n",
       "      <th>NDC Factsheet</th>\n",
       "      <th>TUV</th>\n",
       "      <th>LowNDC</th>\n",
       "      <th>NOT YET</th>\n",
       "      <th>Mt CO2 /yr</th>\n",
       "      <th>Emissions|Total GHG excl. LULUCF</th>\n",
       "      <td>NaN</td>\n",
       "      <td>NaN</td>\n",
       "      <td>NaN</td>\n",
       "      <td>NaN</td>\n",
       "      <td>NaN</td>\n",
       "      <td>NaN</td>\n",
       "      <td>NaN</td>\n",
       "      <td>...</td>\n",
       "      <td>NaN</td>\n",
       "      <td>NaN</td>\n",
       "      <td>NaN</td>\n",
       "      <td>NaN</td>\n",
       "      <td>NaN</td>\n",
       "      <td>NaN</td>\n",
       "      <td>NaN</td>\n",
       "    </tr>\n",
       "    <tr>\n",
       "      <th>R</th>\n",
       "      <th>include</th>\n",
       "      <th>2050</th>\n",
       "      <th>NDC Factsheet</th>\n",
       "      <th>TUV</th>\n",
       "      <th>LowNDC</th>\n",
       "      <th>NOT YET</th>\n",
       "      <th>Mt CO2 /yr</th>\n",
       "      <th>Emissions|Total GHG excl. LULUCF</th>\n",
       "      <td>NaN</td>\n",
       "      <td>NaN</td>\n",
       "      <td>NaN</td>\n",
       "      <td>NaN</td>\n",
       "      <td>NaN</td>\n",
       "      <td>NaN</td>\n",
       "      <td>NaN</td>\n",
       "      <td>...</td>\n",
       "      <td>NaN</td>\n",
       "      <td>NaN</td>\n",
       "      <td>NaN</td>\n",
       "      <td>NaN</td>\n",
       "      <td>NaN</td>\n",
       "      <td>NaN</td>\n",
       "      <td>NaN</td>\n",
       "    </tr>\n",
       "    <tr>\n",
       "      <th>U</th>\n",
       "      <th>include</th>\n",
       "      <th>2050</th>\n",
       "      <th>NDC Factsheet</th>\n",
       "      <th>TUV</th>\n",
       "      <th>LowNDC</th>\n",
       "      <th>NOT YET</th>\n",
       "      <th>Mt CO2 /yr</th>\n",
       "      <th>Emissions|Total GHG excl. LULUCF</th>\n",
       "      <td>NaN</td>\n",
       "      <td>NaN</td>\n",
       "      <td>NaN</td>\n",
       "      <td>NaN</td>\n",
       "      <td>NaN</td>\n",
       "      <td>NaN</td>\n",
       "      <td>NaN</td>\n",
       "      <td>...</td>\n",
       "      <td>NaN</td>\n",
       "      <td>NaN</td>\n",
       "      <td>NaN</td>\n",
       "      <td>NaN</td>\n",
       "      <td>NaN</td>\n",
       "      <td>NaN</td>\n",
       "      <td>NaN</td>\n",
       "    </tr>\n",
       "  </tbody>\n",
       "</table>\n",
       "<p>24 rows × 81 columns</p>\n",
       "</div>"
      ],
      "text/plain": [
       "time                                                                                                                                                        1980-01-01  1981-01-01  1982-01-01  1983-01-01  1984-01-01  1985-01-01  1986-01-01  ...  \\\n",
       "ambition conditionality exclude_hot_air last_provided_year model         region scenario       submission_date unit       variable                                                                                                              ...   \n",
       "high     C              exclude         2030               NDC Factsheet TUV    HighInitialNDC 4/22/2016       Mt CO2 /yr Emissions|Total GHG excl. LULUCF         NaN         NaN         NaN         NaN         NaN         NaN         NaN  ...   \n",
       "         R              exclude         2030               NDC Factsheet TUV    HighInitialNDC 4/22/2016       Mt CO2 /yr Emissions|Total GHG excl. LULUCF         NaN         NaN         NaN         NaN         NaN         NaN         NaN  ...   \n",
       "         U              exclude         2030               NDC Factsheet TUV    HighInitialNDC 4/22/2016       Mt CO2 /yr Emissions|Total GHG excl. LULUCF         NaN         NaN         NaN         NaN         NaN         NaN         NaN  ...   \n",
       "         C              include         2030               NDC Factsheet TUV    HighInitialNDC 4/22/2016       Mt CO2 /yr Emissions|Total GHG excl. LULUCF         NaN         NaN         NaN         NaN         NaN         NaN         NaN  ...   \n",
       "         R              include         2030               NDC Factsheet TUV    HighInitialNDC 4/22/2016       Mt CO2 /yr Emissions|Total GHG excl. LULUCF         NaN         NaN         NaN         NaN         NaN         NaN         NaN  ...   \n",
       "         U              include         2030               NDC Factsheet TUV    HighInitialNDC 4/22/2016       Mt CO2 /yr Emissions|Total GHG excl. LULUCF         NaN         NaN         NaN         NaN         NaN         NaN         NaN  ...   \n",
       "         C              exclude         2050               NDC Factsheet TUV    HighNDC        NOT YET         Mt CO2 /yr Emissions|Total GHG excl. LULUCF         NaN         NaN         NaN         NaN         NaN         NaN         NaN  ...   \n",
       "         R              exclude         2050               NDC Factsheet TUV    HighNDC        NOT YET         Mt CO2 /yr Emissions|Total GHG excl. LULUCF         NaN         NaN         NaN         NaN         NaN         NaN         NaN  ...   \n",
       "         U              exclude         2050               NDC Factsheet TUV    HighNDC        NOT YET         Mt CO2 /yr Emissions|Total GHG excl. LULUCF         NaN         NaN         NaN         NaN         NaN         NaN         NaN  ...   \n",
       "         C              include         2050               NDC Factsheet TUV    HighNDC        NOT YET         Mt CO2 /yr Emissions|Total GHG excl. LULUCF         NaN         NaN         NaN         NaN         NaN         NaN         NaN  ...   \n",
       "         R              include         2050               NDC Factsheet TUV    HighNDC        NOT YET         Mt CO2 /yr Emissions|Total GHG excl. LULUCF         NaN         NaN         NaN         NaN         NaN         NaN         NaN  ...   \n",
       "         U              include         2050               NDC Factsheet TUV    HighNDC        NOT YET         Mt CO2 /yr Emissions|Total GHG excl. LULUCF         NaN         NaN         NaN         NaN         NaN         NaN         NaN  ...   \n",
       "low      C              exclude         2030               NDC Factsheet TUV    LowInitialNDC  4/22/2016       Mt CO2 /yr Emissions|Total GHG excl. LULUCF         NaN         NaN         NaN         NaN         NaN         NaN         NaN  ...   \n",
       "         R              exclude         2030               NDC Factsheet TUV    LowInitialNDC  4/22/2016       Mt CO2 /yr Emissions|Total GHG excl. LULUCF         NaN         NaN         NaN         NaN         NaN         NaN         NaN  ...   \n",
       "         U              exclude         2030               NDC Factsheet TUV    LowInitialNDC  4/22/2016       Mt CO2 /yr Emissions|Total GHG excl. LULUCF         NaN         NaN         NaN         NaN         NaN         NaN         NaN  ...   \n",
       "         C              include         2030               NDC Factsheet TUV    LowInitialNDC  4/22/2016       Mt CO2 /yr Emissions|Total GHG excl. LULUCF         NaN         NaN         NaN         NaN         NaN         NaN         NaN  ...   \n",
       "         R              include         2030               NDC Factsheet TUV    LowInitialNDC  4/22/2016       Mt CO2 /yr Emissions|Total GHG excl. LULUCF         NaN         NaN         NaN         NaN         NaN         NaN         NaN  ...   \n",
       "         U              include         2030               NDC Factsheet TUV    LowInitialNDC  4/22/2016       Mt CO2 /yr Emissions|Total GHG excl. LULUCF         NaN         NaN         NaN         NaN         NaN         NaN         NaN  ...   \n",
       "         C              exclude         2050               NDC Factsheet TUV    LowNDC         NOT YET         Mt CO2 /yr Emissions|Total GHG excl. LULUCF         NaN         NaN         NaN         NaN         NaN         NaN         NaN  ...   \n",
       "         R              exclude         2050               NDC Factsheet TUV    LowNDC         NOT YET         Mt CO2 /yr Emissions|Total GHG excl. LULUCF         NaN         NaN         NaN         NaN         NaN         NaN         NaN  ...   \n",
       "         U              exclude         2050               NDC Factsheet TUV    LowNDC         NOT YET         Mt CO2 /yr Emissions|Total GHG excl. LULUCF         NaN         NaN         NaN         NaN         NaN         NaN         NaN  ...   \n",
       "         C              include         2050               NDC Factsheet TUV    LowNDC         NOT YET         Mt CO2 /yr Emissions|Total GHG excl. LULUCF         NaN         NaN         NaN         NaN         NaN         NaN         NaN  ...   \n",
       "         R              include         2050               NDC Factsheet TUV    LowNDC         NOT YET         Mt CO2 /yr Emissions|Total GHG excl. LULUCF         NaN         NaN         NaN         NaN         NaN         NaN         NaN  ...   \n",
       "         U              include         2050               NDC Factsheet TUV    LowNDC         NOT YET         Mt CO2 /yr Emissions|Total GHG excl. LULUCF         NaN         NaN         NaN         NaN         NaN         NaN         NaN  ...   \n",
       "\n",
       "time                                                                                                                                                        2054-01-01  2055-01-01  2056-01-01  2057-01-01  2058-01-01  2059-01-01  2060-01-01  \n",
       "ambition conditionality exclude_hot_air last_provided_year model         region scenario       submission_date unit       variable                                                                                                              \n",
       "high     C              exclude         2030               NDC Factsheet TUV    HighInitialNDC 4/22/2016       Mt CO2 /yr Emissions|Total GHG excl. LULUCF         NaN         NaN         NaN         NaN         NaN         NaN         NaN  \n",
       "         R              exclude         2030               NDC Factsheet TUV    HighInitialNDC 4/22/2016       Mt CO2 /yr Emissions|Total GHG excl. LULUCF         NaN         NaN         NaN         NaN         NaN         NaN         NaN  \n",
       "         U              exclude         2030               NDC Factsheet TUV    HighInitialNDC 4/22/2016       Mt CO2 /yr Emissions|Total GHG excl. LULUCF         NaN         NaN         NaN         NaN         NaN         NaN         NaN  \n",
       "         C              include         2030               NDC Factsheet TUV    HighInitialNDC 4/22/2016       Mt CO2 /yr Emissions|Total GHG excl. LULUCF         NaN         NaN         NaN         NaN         NaN         NaN         NaN  \n",
       "         R              include         2030               NDC Factsheet TUV    HighInitialNDC 4/22/2016       Mt CO2 /yr Emissions|Total GHG excl. LULUCF         NaN         NaN         NaN         NaN         NaN         NaN         NaN  \n",
       "         U              include         2030               NDC Factsheet TUV    HighInitialNDC 4/22/2016       Mt CO2 /yr Emissions|Total GHG excl. LULUCF         NaN         NaN         NaN         NaN         NaN         NaN         NaN  \n",
       "         C              exclude         2050               NDC Factsheet TUV    HighNDC        NOT YET         Mt CO2 /yr Emissions|Total GHG excl. LULUCF         NaN         NaN         NaN         NaN         NaN         NaN         NaN  \n",
       "         R              exclude         2050               NDC Factsheet TUV    HighNDC        NOT YET         Mt CO2 /yr Emissions|Total GHG excl. LULUCF         NaN         NaN         NaN         NaN         NaN         NaN         NaN  \n",
       "         U              exclude         2050               NDC Factsheet TUV    HighNDC        NOT YET         Mt CO2 /yr Emissions|Total GHG excl. LULUCF         NaN         NaN         NaN         NaN         NaN         NaN         NaN  \n",
       "         C              include         2050               NDC Factsheet TUV    HighNDC        NOT YET         Mt CO2 /yr Emissions|Total GHG excl. LULUCF         NaN         NaN         NaN         NaN         NaN         NaN         NaN  \n",
       "         R              include         2050               NDC Factsheet TUV    HighNDC        NOT YET         Mt CO2 /yr Emissions|Total GHG excl. LULUCF         NaN         NaN         NaN         NaN         NaN         NaN         NaN  \n",
       "         U              include         2050               NDC Factsheet TUV    HighNDC        NOT YET         Mt CO2 /yr Emissions|Total GHG excl. LULUCF         NaN         NaN         NaN         NaN         NaN         NaN         NaN  \n",
       "low      C              exclude         2030               NDC Factsheet TUV    LowInitialNDC  4/22/2016       Mt CO2 /yr Emissions|Total GHG excl. LULUCF         NaN         NaN         NaN         NaN         NaN         NaN         NaN  \n",
       "         R              exclude         2030               NDC Factsheet TUV    LowInitialNDC  4/22/2016       Mt CO2 /yr Emissions|Total GHG excl. LULUCF         NaN         NaN         NaN         NaN         NaN         NaN         NaN  \n",
       "         U              exclude         2030               NDC Factsheet TUV    LowInitialNDC  4/22/2016       Mt CO2 /yr Emissions|Total GHG excl. LULUCF         NaN         NaN         NaN         NaN         NaN         NaN         NaN  \n",
       "         C              include         2030               NDC Factsheet TUV    LowInitialNDC  4/22/2016       Mt CO2 /yr Emissions|Total GHG excl. LULUCF         NaN         NaN         NaN         NaN         NaN         NaN         NaN  \n",
       "         R              include         2030               NDC Factsheet TUV    LowInitialNDC  4/22/2016       Mt CO2 /yr Emissions|Total GHG excl. LULUCF         NaN         NaN         NaN         NaN         NaN         NaN         NaN  \n",
       "         U              include         2030               NDC Factsheet TUV    LowInitialNDC  4/22/2016       Mt CO2 /yr Emissions|Total GHG excl. LULUCF         NaN         NaN         NaN         NaN         NaN         NaN         NaN  \n",
       "         C              exclude         2050               NDC Factsheet TUV    LowNDC         NOT YET         Mt CO2 /yr Emissions|Total GHG excl. LULUCF         NaN         NaN         NaN         NaN         NaN         NaN         NaN  \n",
       "         R              exclude         2050               NDC Factsheet TUV    LowNDC         NOT YET         Mt CO2 /yr Emissions|Total GHG excl. LULUCF         NaN         NaN         NaN         NaN         NaN         NaN         NaN  \n",
       "         U              exclude         2050               NDC Factsheet TUV    LowNDC         NOT YET         Mt CO2 /yr Emissions|Total GHG excl. LULUCF         NaN         NaN         NaN         NaN         NaN         NaN         NaN  \n",
       "         C              include         2050               NDC Factsheet TUV    LowNDC         NOT YET         Mt CO2 /yr Emissions|Total GHG excl. LULUCF         NaN         NaN         NaN         NaN         NaN         NaN         NaN  \n",
       "         R              include         2050               NDC Factsheet TUV    LowNDC         NOT YET         Mt CO2 /yr Emissions|Total GHG excl. LULUCF         NaN         NaN         NaN         NaN         NaN         NaN         NaN  \n",
       "         U              include         2050               NDC Factsheet TUV    LowNDC         NOT YET         Mt CO2 /yr Emissions|Total GHG excl. LULUCF         NaN         NaN         NaN         NaN         NaN         NaN         NaN  \n",
       "\n",
       "[24 rows x 81 columns]"
      ]
     },
     "execution_count": 19,
     "metadata": {},
     "output_type": "execute_result"
    },
    {
     "data": {
      "application/javascript": [
       "\n",
       "            setTimeout(function() {\n",
       "                var nbb_cell_id = 19;\n",
       "                var nbb_unformatted_code = \"raw_emms.filter(region=\\\"TUV\\\").timeseries()\";\n",
       "                var nbb_formatted_code = \"raw_emms.filter(region=\\\"TUV\\\").timeseries()\";\n",
       "                var nbb_cells = Jupyter.notebook.get_cells();\n",
       "                for (var i = 0; i < nbb_cells.length; ++i) {\n",
       "                    if (nbb_cells[i].input_prompt_number == nbb_cell_id) {\n",
       "                        if (nbb_cells[i].get_text() == nbb_unformatted_code) {\n",
       "                             nbb_cells[i].set_text(nbb_formatted_code);\n",
       "                        }\n",
       "                        break;\n",
       "                    }\n",
       "                }\n",
       "            }, 500);\n",
       "            "
      ],
      "text/plain": [
       "<IPython.core.display.Javascript object>"
      ]
     },
     "metadata": {},
     "output_type": "display_data"
    }
   ],
   "source": [
    "raw_emms.filter(region=\"TUV\").timeseries()"
   ]
  },
  {
   "cell_type": "code",
   "execution_count": 20,
   "id": "44e80201",
   "metadata": {},
   "outputs": [
    {
     "data": {
      "text/plain": [
       "<AxesSubplot:xlabel='time', ylabel='Mt CO2 /yr'>"
      ]
     },
     "execution_count": 20,
     "metadata": {},
     "output_type": "execute_result"
    },
    {
     "data": {
      "image/png": "[encoded data removed]",
      "text/plain": [
       "<Figure size 432x288 with 1 Axes>"
      ]
     },
     "metadata": {
      "needs_background": "light"
     },
     "output_type": "display_data"
    },
    {
     "data": {
      "application/javascript": [
       "\n",
       "            setTimeout(function() {\n",
       "                var nbb_cell_id = 20;\n",
       "                var nbb_unformatted_code = \"# Extract a single timeseries for testing\\ntest_item = raw_emms.filter(region=\\\"SAU\\\").timeseries(time_axis=\\\"year\\\").iloc[0]\\nraw_emms.filter(region=\\\"SAU\\\").lineplot(hue=\\\"ambition\\\", style=\\\"conditionality\\\")\";\n",
       "                var nbb_formatted_code = \"# Extract a single timeseries for testing\\ntest_item = raw_emms.filter(region=\\\"SAU\\\").timeseries(time_axis=\\\"year\\\").iloc[0]\\nraw_emms.filter(region=\\\"SAU\\\").lineplot(hue=\\\"ambition\\\", style=\\\"conditionality\\\")\";\n",
       "                var nbb_cells = Jupyter.notebook.get_cells();\n",
       "                for (var i = 0; i < nbb_cells.length; ++i) {\n",
       "                    if (nbb_cells[i].input_prompt_number == nbb_cell_id) {\n",
       "                        if (nbb_cells[i].get_text() == nbb_unformatted_code) {\n",
       "                             nbb_cells[i].set_text(nbb_formatted_code);\n",
       "                        }\n",
       "                        break;\n",
       "                    }\n",
       "                }\n",
       "            }, 500);\n",
       "            "
      ],
      "text/plain": [
       "<IPython.core.display.Javascript object>"
      ]
     },
     "metadata": {},
     "output_type": "display_data"
    }
   ],
   "source": [
    "# Extract a single timeseries for testing\n",
    "test_item = raw_emms.filter(region=\"SAU\").timeseries(time_axis=\"year\").iloc[0]\n",
    "raw_emms.filter(region=\"SAU\").lineplot(hue=\"ambition\", style=\"conditionality\")"
   ]
  },
  {
   "cell_type": "markdown",
   "id": "a6b30987",
   "metadata": {},
   "source": [
    "### Extend past\n",
    "\n",
    "Use past rate to inform future\n",
    "* If last year 2018: Apply the same last ten years growth/decline rate to the future up to 2030, then constant. \n",
    "* If last year 2030: Apply the 2020-2030 growth/decline rate to the future up to 2050. \n"
   ]
  },
  {
   "cell_type": "code",
   "execution_count": 21,
   "id": "a595c49a",
   "metadata": {},
   "outputs": [
    {
     "data": {
      "text/plain": [
       "-0.03656028992907761"
      ]
     },
     "execution_count": 21,
     "metadata": {},
     "output_type": "execute_result"
    },
    {
     "data": {
      "application/javascript": [
       "\n",
       "            setTimeout(function() {\n",
       "                var nbb_cell_id = 21;\n",
       "                var nbb_unformatted_code = \"growth_rate(test_item, 2020, 2030)\";\n",
       "                var nbb_formatted_code = \"growth_rate(test_item, 2020, 2030)\";\n",
       "                var nbb_cells = Jupyter.notebook.get_cells();\n",
       "                for (var i = 0; i < nbb_cells.length; ++i) {\n",
       "                    if (nbb_cells[i].input_prompt_number == nbb_cell_id) {\n",
       "                        if (nbb_cells[i].get_text() == nbb_unformatted_code) {\n",
       "                             nbb_cells[i].set_text(nbb_formatted_code);\n",
       "                        }\n",
       "                        break;\n",
       "                    }\n",
       "                }\n",
       "            }, 500);\n",
       "            "
      ],
      "text/plain": [
       "<IPython.core.display.Javascript object>"
      ]
     },
     "metadata": {},
     "output_type": "display_data"
    }
   ],
   "source": [
    "growth_rate(test_item, 2020, 2030)"
   ]
  },
  {
   "cell_type": "code",
   "execution_count": 22,
   "id": "velvet-affair",
   "metadata": {},
   "outputs": [
    {
     "data": {
      "text/plain": [
       "<AxesSubplot:xlabel='time'>"
      ]
     },
     "execution_count": 22,
     "metadata": {},
     "output_type": "execute_result"
    },
    {
     "data": {
      "image/png": "[encoded data removed]",
      "text/plain": [
       "<Figure size 432x288 with 1 Axes>"
      ]
     },
     "metadata": {
      "needs_background": "light"
     },
     "output_type": "display_data"
    },
    {
     "data": {
      "application/javascript": [
       "\n",
       "            setTimeout(function() {\n",
       "                var nbb_cell_id = 22;\n",
       "                var nbb_unformatted_code = \"def extend_past(ts: pd.Series):\\n    # Using\\n    ts = ts.copy()\\n    last_year = determine_last_year(ts)\\n\\n    if last_year == 2018:\\n        gr = growth_rate(ts, 2008, 2018)\\n        # Growth rate till 2030\\n        for y in range(last_year + 1, 2030 + 1):\\n            ts.loc[y] = ts.loc[y - 1] + gr\\n\\n        # Then constant\\n        for y in range(2031, 2050 + 1):\\n            ts.loc[y] = ts.loc[y - 1]\\n    elif last_year >= 2030:\\n        gr = growth_rate(ts, 2020, 2030)\\n        # Growth rate till 2050\\n        delta = ts.loc[last_year] * gr\\n        for y in range(last_year + 1, 2050 + 1):\\n            ts.loc[y] = ts.loc[y - 1] + delta\\n    else:\\n        raise ValueError(\\\"Unknown last year for {}. {}\\\".format(ts, last_year))\\n\\n    return ts\\n\\n\\nextend_past(test_item).loc[2030:].plot()\\ntest_item.plot()\";\n",
       "                var nbb_formatted_code = \"def extend_past(ts: pd.Series):\\n    # Using\\n    ts = ts.copy()\\n    last_year = determine_last_year(ts)\\n\\n    if last_year == 2018:\\n        gr = growth_rate(ts, 2008, 2018)\\n        # Growth rate till 2030\\n        for y in range(last_year + 1, 2030 + 1):\\n            ts.loc[y] = ts.loc[y - 1] + gr\\n\\n        # Then constant\\n        for y in range(2031, 2050 + 1):\\n            ts.loc[y] = ts.loc[y - 1]\\n    elif last_year >= 2030:\\n        gr = growth_rate(ts, 2020, 2030)\\n        # Growth rate till 2050\\n        delta = ts.loc[last_year] * gr\\n        for y in range(last_year + 1, 2050 + 1):\\n            ts.loc[y] = ts.loc[y - 1] + delta\\n    else:\\n        raise ValueError(\\\"Unknown last year for {}. {}\\\".format(ts, last_year))\\n\\n    return ts\\n\\n\\nextend_past(test_item).loc[2030:].plot()\\ntest_item.plot()\";\n",
       "                var nbb_cells = Jupyter.notebook.get_cells();\n",
       "                for (var i = 0; i < nbb_cells.length; ++i) {\n",
       "                    if (nbb_cells[i].input_prompt_number == nbb_cell_id) {\n",
       "                        if (nbb_cells[i].get_text() == nbb_unformatted_code) {\n",
       "                             nbb_cells[i].set_text(nbb_formatted_code);\n",
       "                        }\n",
       "                        break;\n",
       "                    }\n",
       "                }\n",
       "            }, 500);\n",
       "            "
      ],
      "text/plain": [
       "<IPython.core.display.Javascript object>"
      ]
     },
     "metadata": {},
     "output_type": "display_data"
    }
   ],
   "source": [
    "def extend_past(ts: pd.Series):\n",
    "    # Using\n",
    "    ts = ts.copy()\n",
    "    last_year = determine_last_year(ts)\n",
    "\n",
    "    if last_year == 2018:\n",
    "        gr = growth_rate(ts, 2008, 2018)\n",
    "        # Growth rate till 2030\n",
    "        for y in range(last_year + 1, 2030 + 1):\n",
    "            ts.loc[y] = ts.loc[y - 1] + gr\n",
    "\n",
    "        # Then constant\n",
    "        for y in range(2031, 2050 + 1):\n",
    "            ts.loc[y] = ts.loc[y - 1]\n",
    "    elif last_year >= 2030:\n",
    "        gr = growth_rate(ts, 2020, 2030)\n",
    "        # Growth rate till 2050\n",
    "        delta = ts.loc[last_year] * gr\n",
    "        for y in range(last_year + 1, 2050 + 1):\n",
    "            ts.loc[y] = ts.loc[y - 1] + delta\n",
    "    else:\n",
    "        raise ValueError(\"Unknown last year for {}. {}\".format(ts, last_year))\n",
    "\n",
    "    return ts\n",
    "\n",
    "\n",
    "extend_past(test_item).loc[2030:].plot()\n",
    "test_item.plot()"
   ]
  },
  {
   "cell_type": "code",
   "execution_count": 23,
   "id": "b9f82247",
   "metadata": {},
   "outputs": [
    {
     "data": {
      "text/plain": [
       "time\n",
       "1980   NaN\n",
       "1981   NaN\n",
       "1982   NaN\n",
       "1983   NaN\n",
       "1984   NaN\n",
       "1985   NaN\n",
       "1986   NaN\n",
       "1987   NaN\n",
       "1988   NaN\n",
       "1989   NaN\n",
       "        ..\n",
       "2051   NaN\n",
       "2052   NaN\n",
       "2053   NaN\n",
       "2054   NaN\n",
       "2055   NaN\n",
       "2056   NaN\n",
       "2057   NaN\n",
       "2058   NaN\n",
       "2059   NaN\n",
       "2060   NaN\n",
       "Name: (high, C, exclude, 2030, NDC Factsheet, SAU, HighNDC, 10/23/2021, Mt CO2 /yr, Emissions|Total GHG excl. LULUCF), Length: 81, dtype: float64"
      ]
     },
     "execution_count": 23,
     "metadata": {},
     "output_type": "execute_result"
    },
    {
     "data": {
      "application/javascript": [
       "\n",
       "            setTimeout(function() {\n",
       "                var nbb_cell_id = 23;\n",
       "                var nbb_unformatted_code = \"test_item\";\n",
       "                var nbb_formatted_code = \"test_item\";\n",
       "                var nbb_cells = Jupyter.notebook.get_cells();\n",
       "                for (var i = 0; i < nbb_cells.length; ++i) {\n",
       "                    if (nbb_cells[i].input_prompt_number == nbb_cell_id) {\n",
       "                        if (nbb_cells[i].get_text() == nbb_unformatted_code) {\n",
       "                             nbb_cells[i].set_text(nbb_formatted_code);\n",
       "                        }\n",
       "                        break;\n",
       "                    }\n",
       "                }\n",
       "            }, 500);\n",
       "            "
      ],
      "text/plain": [
       "<IPython.core.display.Javascript object>"
      ]
     },
     "metadata": {},
     "output_type": "display_data"
    }
   ],
   "source": [
    "test_item"
   ]
  },
  {
   "cell_type": "code",
   "execution_count": 24,
   "id": "04747781-37aa-4fe0-b092-38e972016fea",
   "metadata": {},
   "outputs": [
    {
     "data": {
      "text/plain": [
       "time\n",
       "2015    58.915590\n",
       "2016   -57.245270\n",
       "2017    15.879190\n",
       "2018    -7.905160\n",
       "2019     1.693680\n",
       "2020   -25.116200\n",
       "2021   -25.063420\n",
       "2022   -25.063430\n",
       "2023   -25.063420\n",
       "2024   -25.063430\n",
       "2025   -25.063420\n",
       "2026   -24.920310\n",
       "2027   -24.920310\n",
       "2028   -24.920310\n",
       "2029   -24.920320\n",
       "2030   -24.920310\n",
       "2031   -15.854769\n",
       "2032   -15.854769\n",
       "2033   -15.854769\n",
       "2034   -15.854769\n",
       "2035   -15.854769\n",
       "Name: (high, C, exclude, 2030, NDC Factsheet, SAU, HighNDC, 10/23/2021, Mt CO2 /yr, Emissions|Total GHG excl. LULUCF), dtype: float64"
      ]
     },
     "execution_count": 24,
     "metadata": {},
     "output_type": "execute_result"
    },
    {
     "data": {
      "application/javascript": [
       "\n",
       "            setTimeout(function() {\n",
       "                var nbb_cell_id = 24;\n",
       "                var nbb_unformatted_code = \"# Check that the first derivative is constant\\nextend_past(test_item).diff().loc[2015:2035]\";\n",
       "                var nbb_formatted_code = \"# Check that the first derivative is constant\\nextend_past(test_item).diff().loc[2015:2035]\";\n",
       "                var nbb_cells = Jupyter.notebook.get_cells();\n",
       "                for (var i = 0; i < nbb_cells.length; ++i) {\n",
       "                    if (nbb_cells[i].input_prompt_number == nbb_cell_id) {\n",
       "                        if (nbb_cells[i].get_text() == nbb_unformatted_code) {\n",
       "                             nbb_cells[i].set_text(nbb_formatted_code);\n",
       "                        }\n",
       "                        break;\n",
       "                    }\n",
       "                }\n",
       "            }, 500);\n",
       "            "
      ],
      "text/plain": [
       "<IPython.core.display.Javascript object>"
      ]
     },
     "metadata": {},
     "output_type": "display_data"
    }
   ],
   "source": [
    "# Check that the first derivative is constant\n",
    "extend_past(test_item).diff().loc[2015:2035]"
   ]
  },
  {
   "cell_type": "markdown",
   "id": "ca0fda9e",
   "metadata": {},
   "source": [
    "### Constant\n",
    "Keep 2018/2030 emission levels constant. "
   ]
  },
  {
   "cell_type": "code",
   "execution_count": 25,
   "id": "87579947",
   "metadata": {},
   "outputs": [
    {
     "data": {
      "text/plain": [
       "<AxesSubplot:xlabel='time'>"
      ]
     },
     "execution_count": 25,
     "metadata": {},
     "output_type": "execute_result"
    },
    {
     "data": {
      "image/png": "[encoded data removed]",
      "text/plain": [
       "<Figure size 432x288 with 1 Axes>"
      ]
     },
     "metadata": {
      "needs_background": "light"
     },
     "output_type": "display_data"
    },
    {
     "data": {
      "application/javascript": [
       "\n",
       "            setTimeout(function() {\n",
       "                var nbb_cell_id = 25;\n",
       "                var nbb_unformatted_code = \"def extend_constant(ts: pd.Series):\\n    # Using\\n    ts = ts.copy()\\n    last_year = determine_last_year(ts)\\n\\n    # Keep constant\\n    for y in range(last_year + 1, 2050 + 1):\\n        ts.loc[y] = ts.loc[y - 1]\\n\\n    return ts\\n\\n\\ntest_item.plot()\\nextend_constant(test_item).loc[2030:].plot()\";\n",
       "                var nbb_formatted_code = \"def extend_constant(ts: pd.Series):\\n    # Using\\n    ts = ts.copy()\\n    last_year = determine_last_year(ts)\\n\\n    # Keep constant\\n    for y in range(last_year + 1, 2050 + 1):\\n        ts.loc[y] = ts.loc[y - 1]\\n\\n    return ts\\n\\n\\ntest_item.plot()\\nextend_constant(test_item).loc[2030:].plot()\";\n",
       "                var nbb_cells = Jupyter.notebook.get_cells();\n",
       "                for (var i = 0; i < nbb_cells.length; ++i) {\n",
       "                    if (nbb_cells[i].input_prompt_number == nbb_cell_id) {\n",
       "                        if (nbb_cells[i].get_text() == nbb_unformatted_code) {\n",
       "                             nbb_cells[i].set_text(nbb_formatted_code);\n",
       "                        }\n",
       "                        break;\n",
       "                    }\n",
       "                }\n",
       "            }, 500);\n",
       "            "
      ],
      "text/plain": [
       "<IPython.core.display.Javascript object>"
      ]
     },
     "metadata": {},
     "output_type": "display_data"
    }
   ],
   "source": [
    "def extend_constant(ts: pd.Series):\n",
    "    # Using\n",
    "    ts = ts.copy()\n",
    "    last_year = determine_last_year(ts)\n",
    "\n",
    "    # Keep constant\n",
    "    for y in range(last_year + 1, 2050 + 1):\n",
    "        ts.loc[y] = ts.loc[y - 1]\n",
    "\n",
    "    return ts\n",
    "\n",
    "\n",
    "test_item.plot()\n",
    "extend_constant(test_item).loc[2030:].plot()"
   ]
  },
  {
   "cell_type": "markdown",
   "id": "56cc8710",
   "metadata": {},
   "source": [
    "### SSP Growth rate\n",
    "\n",
    "* Use the SSP1BL growth rate from 2030 to 2050\n",
    "* Use the SSP5BL growth rate from 2030 to 2050 "
   ]
  },
  {
   "cell_type": "code",
   "execution_count": 26,
   "id": "e8245771",
   "metadata": {},
   "outputs": [
    {
     "data": {
      "text/plain": [
       "<AxesSubplot:xlabel='time'>"
      ]
     },
     "execution_count": 26,
     "metadata": {},
     "output_type": "execute_result"
    },
    {
     "data": {
      "image/png": "[encoded data removed]",
      "text/plain": [
       "<Figure size 432x288 with 1 Axes>"
      ]
     },
     "metadata": {
      "needs_background": "light"
     },
     "output_type": "display_data"
    },
    {
     "data": {
      "application/javascript": [
       "\n",
       "            setTimeout(function() {\n",
       "                var nbb_cell_id = 26;\n",
       "                var nbb_unformatted_code = \"def extend_spp(ts: pd.Series, scenario):\\n    # Using\\n    ts = ts.copy()\\n    last_year = determine_last_year(ts)\\n    region = ts.name[region_meta_idx]\\n    baseline_region_emms = baseline_emms.filter(\\n        region=region, scenario=scenario, log_if_empty=False\\n    )\\n    if baseline_region_emms.empty:\\n        # if baseline scenario doesn't exist assume constant\\n        return extend_constant(ts)\\n\\n    baseline_region_emms_ts = baseline_region_emms.timeseries(time_axis=\\\"year\\\").iloc[0]\\n\\n    gr = growth_rate(baseline_region_emms_ts, 2030, 2050)\\n    delta = ts.loc[last_year] * gr\\n\\n    # Growth rate till 2050\\n    for y in range(last_year + 1, 2050 + 1):\\n        ts.loc[y] = ts.loc[y - 1] + delta\\n\\n    return ts\\n\\n\\ndef extend_ssp1bl(ts):\\n    return extend_spp(ts, \\\"SSP1BL\\\")\\n\\n\\ndef extend_ssp5bl(ts):\\n    return extend_spp(ts, \\\"SSP5BL\\\")\\n\\n\\nextend_ssp1bl(test_item).loc[2018:].plot()\\nextend_ssp5bl(test_item).loc[2018:].plot()\";\n",
       "                var nbb_formatted_code = \"def extend_spp(ts: pd.Series, scenario):\\n    # Using\\n    ts = ts.copy()\\n    last_year = determine_last_year(ts)\\n    region = ts.name[region_meta_idx]\\n    baseline_region_emms = baseline_emms.filter(\\n        region=region, scenario=scenario, log_if_empty=False\\n    )\\n    if baseline_region_emms.empty:\\n        # if baseline scenario doesn't exist assume constant\\n        return extend_constant(ts)\\n\\n    baseline_region_emms_ts = baseline_region_emms.timeseries(time_axis=\\\"year\\\").iloc[0]\\n\\n    gr = growth_rate(baseline_region_emms_ts, 2030, 2050)\\n    delta = ts.loc[last_year] * gr\\n\\n    # Growth rate till 2050\\n    for y in range(last_year + 1, 2050 + 1):\\n        ts.loc[y] = ts.loc[y - 1] + delta\\n\\n    return ts\\n\\n\\ndef extend_ssp1bl(ts):\\n    return extend_spp(ts, \\\"SSP1BL\\\")\\n\\n\\ndef extend_ssp5bl(ts):\\n    return extend_spp(ts, \\\"SSP5BL\\\")\\n\\n\\nextend_ssp1bl(test_item).loc[2018:].plot()\\nextend_ssp5bl(test_item).loc[2018:].plot()\";\n",
       "                var nbb_cells = Jupyter.notebook.get_cells();\n",
       "                for (var i = 0; i < nbb_cells.length; ++i) {\n",
       "                    if (nbb_cells[i].input_prompt_number == nbb_cell_id) {\n",
       "                        if (nbb_cells[i].get_text() == nbb_unformatted_code) {\n",
       "                             nbb_cells[i].set_text(nbb_formatted_code);\n",
       "                        }\n",
       "                        break;\n",
       "                    }\n",
       "                }\n",
       "            }, 500);\n",
       "            "
      ],
      "text/plain": [
       "<IPython.core.display.Javascript object>"
      ]
     },
     "metadata": {},
     "output_type": "display_data"
    }
   ],
   "source": [
    "def extend_spp(ts: pd.Series, scenario):\n",
    "    # Using\n",
    "    ts = ts.copy()\n",
    "    last_year = determine_last_year(ts)\n",
    "    region = ts.name[region_meta_idx]\n",
    "    baseline_region_emms = baseline_emms.filter(\n",
    "        region=region, scenario=scenario, log_if_empty=False\n",
    "    )\n",
    "    if baseline_region_emms.empty:\n",
    "        # if baseline scenario doesn't exist assume constant\n",
    "        return extend_constant(ts)\n",
    "\n",
    "    baseline_region_emms_ts = baseline_region_emms.timeseries(time_axis=\"year\").iloc[0]\n",
    "\n",
    "    gr = growth_rate(baseline_region_emms_ts, 2030, 2050)\n",
    "    delta = ts.loc[last_year] * gr\n",
    "\n",
    "    # Growth rate till 2050\n",
    "    for y in range(last_year + 1, 2050 + 1):\n",
    "        ts.loc[y] = ts.loc[y - 1] + delta\n",
    "\n",
    "    return ts\n",
    "\n",
    "\n",
    "def extend_ssp1bl(ts):\n",
    "    return extend_spp(ts, \"SSP1BL\")\n",
    "\n",
    "\n",
    "def extend_ssp5bl(ts):\n",
    "    return extend_spp(ts, \"SSP5BL\")\n",
    "\n",
    "\n",
    "extend_ssp1bl(test_item).loc[2018:].plot()\n",
    "extend_ssp5bl(test_item).loc[2018:].plot()"
   ]
  },
  {
   "cell_type": "code",
   "execution_count": 27,
   "id": "b0ebeb36",
   "metadata": {},
   "outputs": [
    {
     "data": {
      "text/plain": [
       "<AxesSubplot:xlabel='time', ylabel='Mt CO2/yr'>"
      ]
     },
     "execution_count": 27,
     "metadata": {},
     "output_type": "execute_result"
    },
    {
     "data": {
      "image/png": "[encoded data removed]",
      "text/plain": [
       "<Figure size 432x288 with 1 Axes>"
      ]
     },
     "metadata": {
      "needs_background": "light"
     },
     "output_type": "display_data"
    },
    {
     "data": {
      "application/javascript": [
       "\n",
       "            setTimeout(function() {\n",
       "                var nbb_cell_id = 27;\n",
       "                var nbb_unformatted_code = \"baseline_emms.filter(region=\\\"SAU\\\").lineplot()\";\n",
       "                var nbb_formatted_code = \"baseline_emms.filter(region=\\\"SAU\\\").lineplot()\";\n",
       "                var nbb_cells = Jupyter.notebook.get_cells();\n",
       "                for (var i = 0; i < nbb_cells.length; ++i) {\n",
       "                    if (nbb_cells[i].input_prompt_number == nbb_cell_id) {\n",
       "                        if (nbb_cells[i].get_text() == nbb_unformatted_code) {\n",
       "                             nbb_cells[i].set_text(nbb_formatted_code);\n",
       "                        }\n",
       "                        break;\n",
       "                    }\n",
       "                }\n",
       "            }, 500);\n",
       "            "
      ],
      "text/plain": [
       "<IPython.core.display.Javascript object>"
      ]
     },
     "metadata": {},
     "output_type": "display_data"
    }
   ],
   "source": [
    "baseline_emms.filter(region=\"SAU\").lineplot()"
   ]
  },
  {
   "cell_type": "code",
   "execution_count": 28,
   "id": "4c263bd8",
   "metadata": {},
   "outputs": [
    {
     "data": {
      "text/plain": [
       "time\n",
       "1980   NaN\n",
       "1981   NaN\n",
       "1982   NaN\n",
       "1983   NaN\n",
       "1984   NaN\n",
       "1985   NaN\n",
       "1986   NaN\n",
       "1987   NaN\n",
       "1988   NaN\n",
       "1989   NaN\n",
       "        ..\n",
       "2051   NaN\n",
       "2052   NaN\n",
       "2053   NaN\n",
       "2054   NaN\n",
       "2055   NaN\n",
       "2056   NaN\n",
       "2057   NaN\n",
       "2058   NaN\n",
       "2059   NaN\n",
       "2060   NaN\n",
       "Name: (high, C, exclude, 2030, NDC Factsheet, SAU, HighNDC, 10/23/2021, Mt CO2 /yr, Emissions|Total GHG excl. LULUCF), Length: 81, dtype: float64"
      ]
     },
     "execution_count": 28,
     "metadata": {},
     "output_type": "execute_result"
    },
    {
     "data": {
      "application/javascript": [
       "\n",
       "            setTimeout(function() {\n",
       "                var nbb_cell_id = 28;\n",
       "                var nbb_unformatted_code = \"extend_ssp1bl(test_item)\";\n",
       "                var nbb_formatted_code = \"extend_ssp1bl(test_item)\";\n",
       "                var nbb_cells = Jupyter.notebook.get_cells();\n",
       "                for (var i = 0; i < nbb_cells.length; ++i) {\n",
       "                    if (nbb_cells[i].input_prompt_number == nbb_cell_id) {\n",
       "                        if (nbb_cells[i].get_text() == nbb_unformatted_code) {\n",
       "                             nbb_cells[i].set_text(nbb_formatted_code);\n",
       "                        }\n",
       "                        break;\n",
       "                    }\n",
       "                }\n",
       "            }, 500);\n",
       "            "
      ],
      "text/plain": [
       "<IPython.core.display.Javascript object>"
      ]
     },
     "metadata": {},
     "output_type": "display_data"
    }
   ],
   "source": [
    "extend_ssp1bl(test_item)"
   ]
  },
  {
   "cell_type": "code",
   "execution_count": 29,
   "id": "dbc69389",
   "metadata": {},
   "outputs": [
    {
     "data": {
      "application/javascript": [
       "\n",
       "            setTimeout(function() {\n",
       "                var nbb_cell_id = 29;\n",
       "                var nbb_unformatted_code = \"baseline_region_emms = baseline_emms.filter(region=\\\"USA\\\", scenario=\\\"SSP5BL\\\")\";\n",
       "                var nbb_formatted_code = \"baseline_region_emms = baseline_emms.filter(region=\\\"USA\\\", scenario=\\\"SSP5BL\\\")\";\n",
       "                var nbb_cells = Jupyter.notebook.get_cells();\n",
       "                for (var i = 0; i < nbb_cells.length; ++i) {\n",
       "                    if (nbb_cells[i].input_prompt_number == nbb_cell_id) {\n",
       "                        if (nbb_cells[i].get_text() == nbb_unformatted_code) {\n",
       "                             nbb_cells[i].set_text(nbb_formatted_code);\n",
       "                        }\n",
       "                        break;\n",
       "                    }\n",
       "                }\n",
       "            }, 500);\n",
       "            "
      ],
      "text/plain": [
       "<IPython.core.display.Javascript object>"
      ]
     },
     "metadata": {},
     "output_type": "display_data"
    }
   ],
   "source": [
    "baseline_region_emms = baseline_emms.filter(region=\"USA\", scenario=\"SSP5BL\")"
   ]
  },
  {
   "cell_type": "code",
   "execution_count": 30,
   "id": "5d33fa1a",
   "metadata": {},
   "outputs": [
    {
     "data": {
      "text/plain": [
       "time\n",
       "1980     6657.218063\n",
       "1981     6439.458594\n",
       "1982     6076.526145\n",
       "1983     6097.265142\n",
       "1984     6315.024611\n",
       "1985     6273.546617\n",
       "1986     6252.807620\n",
       "1987     6470.567090\n",
       "1988     6719.435055\n",
       "1989     6802.391043\n",
       "            ...     \n",
       "2051    11613.838366\n",
       "2052    11821.228337\n",
       "2053    12028.618308\n",
       "2054    12236.008278\n",
       "2055    12443.398249\n",
       "2056    12650.788220\n",
       "2057    12858.178191\n",
       "2058    13065.568162\n",
       "2059    13272.958133\n",
       "2060    13480.348103\n",
       "Name: (nan, nan, nan, unspecified, USA, SSP5BL, nan, Mt CO2/yr, Emissions|Total GHG), Length: 81, dtype: float64"
      ]
     },
     "execution_count": 30,
     "metadata": {},
     "output_type": "execute_result"
    },
    {
     "data": {
      "application/javascript": [
       "\n",
       "            setTimeout(function() {\n",
       "                var nbb_cell_id = 30;\n",
       "                var nbb_unformatted_code = \"baseline_region_emms.timeseries(time_axis=\\\"year\\\").iloc[0]\";\n",
       "                var nbb_formatted_code = \"baseline_region_emms.timeseries(time_axis=\\\"year\\\").iloc[0]\";\n",
       "                var nbb_cells = Jupyter.notebook.get_cells();\n",
       "                for (var i = 0; i < nbb_cells.length; ++i) {\n",
       "                    if (nbb_cells[i].input_prompt_number == nbb_cell_id) {\n",
       "                        if (nbb_cells[i].get_text() == nbb_unformatted_code) {\n",
       "                             nbb_cells[i].set_text(nbb_formatted_code);\n",
       "                        }\n",
       "                        break;\n",
       "                    }\n",
       "                }\n",
       "            }, 500);\n",
       "            "
      ],
      "text/plain": [
       "<IPython.core.display.Javascript object>"
      ]
     },
     "metadata": {},
     "output_type": "display_data"
    }
   ],
   "source": [
    "baseline_region_emms.timeseries(time_axis=\"year\").iloc[0]"
   ]
  },
  {
   "cell_type": "code",
   "execution_count": 31,
   "id": "62a2b085",
   "metadata": {},
   "outputs": [
    {
     "data": {
      "text/plain": [
       "0.02060333761232349"
      ]
     },
     "execution_count": 31,
     "metadata": {},
     "output_type": "execute_result"
    },
    {
     "data": {
      "application/javascript": [
       "\n",
       "            setTimeout(function() {\n",
       "                var nbb_cell_id = 31;\n",
       "                var nbb_unformatted_code = \"growth_rate(\\n    baseline_region_emms.timeseries(time_axis=\\\"year\\\").iloc[0] / 1000, 2030, 2050\\n)\";\n",
       "                var nbb_formatted_code = \"growth_rate(\\n    baseline_region_emms.timeseries(time_axis=\\\"year\\\").iloc[0] / 1000, 2030, 2050\\n)\";\n",
       "                var nbb_cells = Jupyter.notebook.get_cells();\n",
       "                for (var i = 0; i < nbb_cells.length; ++i) {\n",
       "                    if (nbb_cells[i].input_prompt_number == nbb_cell_id) {\n",
       "                        if (nbb_cells[i].get_text() == nbb_unformatted_code) {\n",
       "                             nbb_cells[i].set_text(nbb_formatted_code);\n",
       "                        }\n",
       "                        break;\n",
       "                    }\n",
       "                }\n",
       "            }, 500);\n",
       "            "
      ],
      "text/plain": [
       "<IPython.core.display.Javascript object>"
      ]
     },
     "metadata": {},
     "output_type": "display_data"
    }
   ],
   "source": [
    "growth_rate(\n",
    "    baseline_region_emms.timeseries(time_axis=\"year\").iloc[0] / 1000, 2030, 2050\n",
    ")"
   ]
  },
  {
   "cell_type": "markdown",
   "id": "5eec7257",
   "metadata": {},
   "source": [
    "# Clip to 2030"
   ]
  },
  {
   "cell_type": "code",
   "execution_count": 32,
   "id": "ab33ba01",
   "metadata": {},
   "outputs": [
    {
     "data": {
      "application/javascript": [
       "\n",
       "            setTimeout(function() {\n",
       "                var nbb_cell_id = 32;\n",
       "                var nbb_unformatted_code = \"def extend_2030(ts: pd.Series):\\n    # Using\\n    ts = ts.copy()\\n    # Growth rate till 2050\\n    for y in range(2030 + 1, 2050 + 1):\\n        ts.loc[y] = np.nan\\n\\n    return ts\";\n",
       "                var nbb_formatted_code = \"def extend_2030(ts: pd.Series):\\n    # Using\\n    ts = ts.copy()\\n    # Growth rate till 2050\\n    for y in range(2030 + 1, 2050 + 1):\\n        ts.loc[y] = np.nan\\n\\n    return ts\";\n",
       "                var nbb_cells = Jupyter.notebook.get_cells();\n",
       "                for (var i = 0; i < nbb_cells.length; ++i) {\n",
       "                    if (nbb_cells[i].input_prompt_number == nbb_cell_id) {\n",
       "                        if (nbb_cells[i].get_text() == nbb_unformatted_code) {\n",
       "                             nbb_cells[i].set_text(nbb_formatted_code);\n",
       "                        }\n",
       "                        break;\n",
       "                    }\n",
       "                }\n",
       "            }, 500);\n",
       "            "
      ],
      "text/plain": [
       "<IPython.core.display.Javascript object>"
      ]
     },
     "metadata": {},
     "output_type": "display_data"
    }
   ],
   "source": [
    "def extend_2030(ts: pd.Series):\n",
    "    # Using\n",
    "    ts = ts.copy()\n",
    "    # Growth rate till 2050\n",
    "    for y in range(2030 + 1, 2050 + 1):\n",
    "        ts.loc[y] = np.nan\n",
    "\n",
    "    return ts"
   ]
  },
  {
   "cell_type": "code",
   "execution_count": 33,
   "id": "66517251",
   "metadata": {},
   "outputs": [
    {
     "data": {
      "text/plain": [
       "<AxesSubplot:xlabel='time'>"
      ]
     },
     "execution_count": 33,
     "metadata": {},
     "output_type": "execute_result"
    },
    {
     "data": {
      "image/png": "[encoded data removed]",
      "text/plain": [
       "<Figure size 432x288 with 1 Axes>"
      ]
     },
     "metadata": {
      "needs_background": "light"
     },
     "output_type": "display_data"
    },
    {
     "data": {
      "application/javascript": [
       "\n",
       "            setTimeout(function() {\n",
       "                var nbb_cell_id = 33;\n",
       "                var nbb_unformatted_code = \"test_item.loc[2018:].plot()\\nextend_2030(test_item).loc[2018:].plot()\";\n",
       "                var nbb_formatted_code = \"test_item.loc[2018:].plot()\\nextend_2030(test_item).loc[2018:].plot()\";\n",
       "                var nbb_cells = Jupyter.notebook.get_cells();\n",
       "                for (var i = 0; i < nbb_cells.length; ++i) {\n",
       "                    if (nbb_cells[i].input_prompt_number == nbb_cell_id) {\n",
       "                        if (nbb_cells[i].get_text() == nbb_unformatted_code) {\n",
       "                             nbb_cells[i].set_text(nbb_formatted_code);\n",
       "                        }\n",
       "                        break;\n",
       "                    }\n",
       "                }\n",
       "            }, 500);\n",
       "            "
      ],
      "text/plain": [
       "<IPython.core.display.Javascript object>"
      ]
     },
     "metadata": {},
     "output_type": "display_data"
    }
   ],
   "source": [
    "test_item.loc[2018:].plot()\n",
    "extend_2030(test_item).loc[2018:].plot()"
   ]
  },
  {
   "cell_type": "markdown",
   "id": "c2ee9ac9",
   "metadata": {},
   "source": [
    "## Bring it all together"
   ]
  },
  {
   "cell_type": "code",
   "execution_count": 34,
   "id": "acb29def",
   "metadata": {},
   "outputs": [
    {
     "data": {
      "application/javascript": [
       "\n",
       "            setTimeout(function() {\n",
       "                var nbb_cell_id = 34;\n",
       "                var nbb_unformatted_code = \"# We have 4 different extension methods.\\n\\nextensions = [\\n    (extend_past, \\\"Emissions|Total GHG excl. LULUCF|Rate\\\", \\\"rate\\\"),\\n    (extend_ssp1bl, \\\"Emissions|Total GHG excl. LULUCF|SSP1BL\\\", \\\"SSP1BL\\\"),\\n    (extend_ssp5bl, \\\"Emissions|Total GHG excl. LULUCF|SSP5BL\\\", \\\"SSP5BL\\\"),\\n    (extend_constant, \\\"Emissions|Total GHG excl. LULUCF|Constant\\\", \\\"constant\\\"),\\n    (extend_2030, \\\"Emissions|Total GHG excl. LULUCF|2030\\\", \\\"2030\\\"),\\n]\\n\\ndef apply_extension(emms, f, variable_name, method_name):\\n    emms_extend = emms.timeseries(time_axis=\\\"year\\\").copy().T.apply(f)\\n    emms_extend = scmdata.ScmRun(emms_extend.T)\\n    emms_extend[\\\"variable\\\"] = variable_name\\n    emms_extend[\\\"country_extension\\\"] = method_name\\n    return emms_extend\";\n",
       "                var nbb_formatted_code = \"# We have 4 different extension methods.\\n\\nextensions = [\\n    (extend_past, \\\"Emissions|Total GHG excl. LULUCF|Rate\\\", \\\"rate\\\"),\\n    (extend_ssp1bl, \\\"Emissions|Total GHG excl. LULUCF|SSP1BL\\\", \\\"SSP1BL\\\"),\\n    (extend_ssp5bl, \\\"Emissions|Total GHG excl. LULUCF|SSP5BL\\\", \\\"SSP5BL\\\"),\\n    (extend_constant, \\\"Emissions|Total GHG excl. LULUCF|Constant\\\", \\\"constant\\\"),\\n    (extend_2030, \\\"Emissions|Total GHG excl. LULUCF|2030\\\", \\\"2030\\\"),\\n]\\n\\n\\ndef apply_extension(emms, f, variable_name, method_name):\\n    emms_extend = emms.timeseries(time_axis=\\\"year\\\").copy().T.apply(f)\\n    emms_extend = scmdata.ScmRun(emms_extend.T)\\n    emms_extend[\\\"variable\\\"] = variable_name\\n    emms_extend[\\\"country_extension\\\"] = method_name\\n    return emms_extend\";\n",
       "                var nbb_cells = Jupyter.notebook.get_cells();\n",
       "                for (var i = 0; i < nbb_cells.length; ++i) {\n",
       "                    if (nbb_cells[i].input_prompt_number == nbb_cell_id) {\n",
       "                        if (nbb_cells[i].get_text() == nbb_unformatted_code) {\n",
       "                             nbb_cells[i].set_text(nbb_formatted_code);\n",
       "                        }\n",
       "                        break;\n",
       "                    }\n",
       "                }\n",
       "            }, 500);\n",
       "            "
      ],
      "text/plain": [
       "<IPython.core.display.Javascript object>"
      ]
     },
     "metadata": {},
     "output_type": "display_data"
    }
   ],
   "source": [
    "# We have 4 different extension methods.\n",
    "\n",
    "extensions = [\n",
    "    (extend_past, \"Emissions|Total GHG excl. LULUCF|Rate\", \"rate\"),\n",
    "    (extend_ssp1bl, \"Emissions|Total GHG excl. LULUCF|SSP1BL\", \"SSP1BL\"),\n",
    "    (extend_ssp5bl, \"Emissions|Total GHG excl. LULUCF|SSP5BL\", \"SSP5BL\"),\n",
    "    (extend_constant, \"Emissions|Total GHG excl. LULUCF|Constant\", \"constant\"),\n",
    "    (extend_2030, \"Emissions|Total GHG excl. LULUCF|2030\", \"2030\"),\n",
    "]\n",
    "\n",
    "def apply_extension(emms, f, variable_name, method_name):\n",
    "    emms_extend = emms.timeseries(time_axis=\"year\").copy().T.apply(f)\n",
    "    emms_extend = scmdata.ScmRun(emms_extend.T)\n",
    "    emms_extend[\"variable\"] = variable_name\n",
    "    emms_extend[\"country_extension\"] = method_name\n",
    "    return emms_extend\n"
   ]
  },
  {
   "cell_type": "code",
   "execution_count": 35,
   "id": "4228b1b6",
   "metadata": {},
   "outputs": [
    {
     "data": {
      "text/plain": [
       "198"
      ]
     },
     "execution_count": 35,
     "metadata": {},
     "output_type": "execute_result"
    },
    {
     "data": {
      "application/javascript": [
       "\n",
       "            setTimeout(function() {\n",
       "                var nbb_cell_id = 35;\n",
       "                var nbb_unformatted_code = \"len(raw_emms.get_unique_meta(\\\"region\\\"))\";\n",
       "                var nbb_formatted_code = \"len(raw_emms.get_unique_meta(\\\"region\\\"))\";\n",
       "                var nbb_cells = Jupyter.notebook.get_cells();\n",
       "                for (var i = 0; i < nbb_cells.length; ++i) {\n",
       "                    if (nbb_cells[i].input_prompt_number == nbb_cell_id) {\n",
       "                        if (nbb_cells[i].get_text() == nbb_unformatted_code) {\n",
       "                             nbb_cells[i].set_text(nbb_formatted_code);\n",
       "                        }\n",
       "                        break;\n",
       "                    }\n",
       "                }\n",
       "            }, 500);\n",
       "            "
      ],
      "text/plain": [
       "<IPython.core.display.Javascript object>"
      ]
     },
     "metadata": {},
     "output_type": "display_data"
    }
   ],
   "source": [
    "len(raw_emms.get_unique_meta(\"region\"))"
   ]
  },
  {
   "cell_type": "code",
   "execution_count": 36,
   "id": "associate-hampshire",
   "metadata": {
    "scrolled": false
   },
   "outputs": [
    {
     "data": {
      "text/plain": [
       "<scmdata.ScmRun (timeseries: 23740, timepoints: 61)>\n",
       "Time:\n",
       "\tStart: 1990-01-01T00:00:00\n",
       "\tEnd: 2050-01-01T00:00:00\n",
       "Meta:\n",
       "\t      ambition conditionality country_extension exclude_hot_air  last_provided_year          model region        scenario submission_date        unit                               variable\n",
       "\t0         high              C              rate         exclude                2030  NDC Factsheet    TUV  HighInitialNDC       4/22/2016  Mt CO2 /yr  Emissions|Total GHG excl. LULUCF|Rate\n",
       "\t1         high              R              rate         exclude                2030  NDC Factsheet    TUV  HighInitialNDC       4/22/2016  Mt CO2 /yr  Emissions|Total GHG excl. LULUCF|Rate\n",
       "\t2         high              U              rate         exclude                2030  NDC Factsheet    TUV  HighInitialNDC       4/22/2016  Mt CO2 /yr  Emissions|Total GHG excl. LULUCF|Rate\n",
       "\t3         high              C              rate         include                2030  NDC Factsheet    TUV  HighInitialNDC       4/22/2016  Mt CO2 /yr  Emissions|Total GHG excl. LULUCF|Rate\n",
       "\t4         high              R              rate         include                2030  NDC Factsheet    TUV  HighInitialNDC       4/22/2016  Mt CO2 /yr  Emissions|Total GHG excl. LULUCF|Rate\n",
       "\t5         high              U              rate         include                2030  NDC Factsheet    TUV  HighInitialNDC       4/22/2016  Mt CO2 /yr  Emissions|Total GHG excl. LULUCF|Rate\n",
       "\t6         high              C              rate         exclude                2050  NDC Factsheet    TUV         HighNDC         NOT YET  Mt CO2 /yr  Emissions|Total GHG excl. LULUCF|Rate\n",
       "\t7         high              R              rate         exclude                2050  NDC Factsheet    TUV         HighNDC         NOT YET  Mt CO2 /yr  Emissions|Total GHG excl. LULUCF|Rate\n",
       "\t8         high              U              rate         exclude                2050  NDC Factsheet    TUV         HighNDC         NOT YET  Mt CO2 /yr  Emissions|Total GHG excl. LULUCF|Rate\n",
       "\t9         high              C              rate         include                2050  NDC Factsheet    TUV         HighNDC         NOT YET  Mt CO2 /yr  Emissions|Total GHG excl. LULUCF|Rate\n",
       "\t...        ...            ...               ...             ...                 ...            ...    ...             ...             ...         ...                                    ...\n",
       "\t23730      low              U              2030         exclude                2030  NDC Factsheet    CPV          LowNDC        4/2/2021  Mt CO2 /yr  Emissions|Total GHG excl. LULUCF|2030\n",
       "\t23731      low              C              2030         include                2030  NDC Factsheet    CPV          LowNDC        4/2/2021  Mt CO2 /yr  Emissions|Total GHG excl. LULUCF|2030\n",
       "\t23732      low              R              2030         include                2030  NDC Factsheet    CPV          LowNDC        4/2/2021  Mt CO2 /yr  Emissions|Total GHG excl. LULUCF|2030\n",
       "\t23733      low              U              2030         include                2030  NDC Factsheet    CPV          LowNDC        4/2/2021  Mt CO2 /yr  Emissions|Total GHG excl. LULUCF|2030\n",
       "\t23734      low              C              2030         exclude                2030  NDC Factsheet    CPV   LowInitialNDC       9/21/2017  Mt CO2 /yr  Emissions|Total GHG excl. LULUCF|2030\n",
       "\t23735      low              R              2030         exclude                2030  NDC Factsheet    CPV   LowInitialNDC       9/21/2017  Mt CO2 /yr  Emissions|Total GHG excl. LULUCF|2030\n",
       "\t23736      low              U              2030         exclude                2030  NDC Factsheet    CPV   LowInitialNDC       9/21/2017  Mt CO2 /yr  Emissions|Total GHG excl. LULUCF|2030\n",
       "\t23737      low              C              2030         include                2030  NDC Factsheet    CPV   LowInitialNDC       9/21/2017  Mt CO2 /yr  Emissions|Total GHG excl. LULUCF|2030\n",
       "\t23738      low              R              2030         include                2030  NDC Factsheet    CPV   LowInitialNDC       9/21/2017  Mt CO2 /yr  Emissions|Total GHG excl. LULUCF|2030\n",
       "\t23739      low              U              2030         include                2030  NDC Factsheet    CPV   LowInitialNDC       9/21/2017  Mt CO2 /yr  Emissions|Total GHG excl. LULUCF|2030\n",
       "\t\n",
       "\t[23740 rows x 11 columns]"
      ]
     },
     "execution_count": 36,
     "metadata": {},
     "output_type": "execute_result"
    },
    {
     "data": {
      "application/javascript": [
       "\n",
       "            setTimeout(function() {\n",
       "                var nbb_cell_id = 36;\n",
       "                var nbb_unformatted_code = \"# Run the extensions\\nemms_extended = scmdata.run_append(\\n    [apply_extension(raw_emms, *ext) for ext in extensions]\\n)\\nemms_extended = scmdata.ScmRun(emms_extended.timeseries(drop_all_nan_times=True))\\nemms_extended\";\n",
       "                var nbb_formatted_code = \"# Run the extensions\\nemms_extended = scmdata.run_append(\\n    [apply_extension(raw_emms, *ext) for ext in extensions]\\n)\\nemms_extended = scmdata.ScmRun(emms_extended.timeseries(drop_all_nan_times=True))\\nemms_extended\";\n",
       "                var nbb_cells = Jupyter.notebook.get_cells();\n",
       "                for (var i = 0; i < nbb_cells.length; ++i) {\n",
       "                    if (nbb_cells[i].input_prompt_number == nbb_cell_id) {\n",
       "                        if (nbb_cells[i].get_text() == nbb_unformatted_code) {\n",
       "                             nbb_cells[i].set_text(nbb_formatted_code);\n",
       "                        }\n",
       "                        break;\n",
       "                    }\n",
       "                }\n",
       "            }, 500);\n",
       "            "
      ],
      "text/plain": [
       "<IPython.core.display.Javascript object>"
      ]
     },
     "metadata": {},
     "output_type": "display_data"
    }
   ],
   "source": [
    "# Run the extensions\n",
    "emms_extended = scmdata.run_append(\n",
    "    [apply_extension(raw_emms, *ext) for ext in extensions]\n",
    ")\n",
    "emms_extended = scmdata.ScmRun(emms_extended.timeseries(drop_all_nan_times=True))\n",
    "emms_extended"
   ]
  },
  {
   "cell_type": "code",
   "execution_count": 37,
   "id": "d28145f4",
   "metadata": {},
   "outputs": [
    {
     "data": {
      "application/vnd.jupyter.widget-view+json": {
       "model_id": "",
       "version_major": 2,
       "version_minor": 0
      },
      "text/plain": [
       "Saving to database: 0it [00:00, ?it/s]"
      ]
     },
     "metadata": {},
     "output_type": "display_data"
    },
    {
     "data": {
      "application/javascript": [
       "\n",
       "            setTimeout(function() {\n",
       "                var nbb_cell_id = 37;\n",
       "                var nbb_unformatted_code = \"db.save(emms_extended)\";\n",
       "                var nbb_formatted_code = \"db.save(emms_extended)\";\n",
       "                var nbb_cells = Jupyter.notebook.get_cells();\n",
       "                for (var i = 0; i < nbb_cells.length; ++i) {\n",
       "                    if (nbb_cells[i].input_prompt_number == nbb_cell_id) {\n",
       "                        if (nbb_cells[i].get_text() == nbb_unformatted_code) {\n",
       "                             nbb_cells[i].set_text(nbb_formatted_code);\n",
       "                        }\n",
       "                        break;\n",
       "                    }\n",
       "                }\n",
       "            }, 500);\n",
       "            "
      ],
      "text/plain": [
       "<IPython.core.display.Javascript object>"
      ]
     },
     "metadata": {},
     "output_type": "display_data"
    }
   ],
   "source": [
    "db.save(emms_extended)"
   ]
  },
  {
   "cell_type": "code",
   "execution_count": 38,
   "id": "610762c1",
   "metadata": {},
   "outputs": [
    {
     "data": {
      "text/plain": [
       "<AxesSubplot:xlabel='time', ylabel='Mt CO2 /yr'>"
      ]
     },
     "execution_count": 38,
     "metadata": {},
     "output_type": "execute_result"
    },
    {
     "data": {
      "image/png": "[encoded data removed]",
      "text/plain": [
       "<Figure size 432x288 with 1 Axes>"
      ]
     },
     "metadata": {
      "needs_background": "light"
     },
     "output_type": "display_data"
    },
    {
     "data": {
      "application/javascript": [
       "\n",
       "            setTimeout(function() {\n",
       "                var nbb_cell_id = 38;\n",
       "                var nbb_unformatted_code = \"emms_extended.filter(region=\\\"ZZA\\\").lineplot()\";\n",
       "                var nbb_formatted_code = \"emms_extended.filter(region=\\\"ZZA\\\").lineplot()\";\n",
       "                var nbb_cells = Jupyter.notebook.get_cells();\n",
       "                for (var i = 0; i < nbb_cells.length; ++i) {\n",
       "                    if (nbb_cells[i].input_prompt_number == nbb_cell_id) {\n",
       "                        if (nbb_cells[i].get_text() == nbb_unformatted_code) {\n",
       "                             nbb_cells[i].set_text(nbb_formatted_code);\n",
       "                        }\n",
       "                        break;\n",
       "                    }\n",
       "                }\n",
       "            }, 500);\n",
       "            "
      ],
      "text/plain": [
       "<IPython.core.display.Javascript object>"
      ]
     },
     "metadata": {},
     "output_type": "display_data"
    }
   ],
   "source": [
    "emms_extended.filter(region=\"ZZA\").lineplot()"
   ]
  },
  {
   "cell_type": "markdown",
   "id": "edca08b3",
   "metadata": {},
   "source": [
    "# Load previous version"
   ]
  },
  {
   "cell_type": "code",
   "execution_count": null,
   "id": "ba191263",
   "metadata": {},
   "outputs": [],
   "source": [
    "# DATABASE_DIR = os.path.join(PROCESSED_DATA_DIR, \"country_emissions\", \"2Nov2021a_CR\")\n",
    "# DATABASE_DIR"
   ]
  },
  {
   "cell_type": "code",
   "execution_count": null,
   "id": "b7e2801b",
   "metadata": {},
   "outputs": [],
   "source": [
    "# db_old = scmdata.database.ScmDatabase(DATABASE_DIR, levels=(\"region\", \"variable\"))\n",
    "# db_old"
   ]
  },
  {
   "cell_type": "code",
   "execution_count": null,
   "id": "65518136",
   "metadata": {},
   "outputs": [],
   "source": [
    "# db_old.load(region=\"ZZA\", variable=\"Emissions|Total|GHG excl. LULUCF|*\")"
   ]
  },
  {
   "cell_type": "code",
   "execution_count": null,
   "id": "ba991398",
   "metadata": {},
   "outputs": [],
   "source": [
    "# db_old.load().lineplot()"
   ]
  },
  {
   "cell_type": "code",
   "execution_count": null,
   "id": "ae7cb02f",
   "metadata": {},
   "outputs": [],
   "source": []
  }
 ],
 "metadata": {
  "kernelspec": {
   "display_name": "Python 3 (ipykernel)",
   "language": "python",
   "name": "python3"
  },
  "language_info": {
   "codemirror_mode": {
    "name": "ipython",
    "version": 3
   },
   "file_extension": ".py",
   "mimetype": "text/x-python",
   "name": "python",
   "nbconvert_exporter": "python",
   "pygments_lexer": "ipython3",
   "version": "3.9.9"
  }
 },
 "nbformat": 4,
 "nbformat_minor": 5
}