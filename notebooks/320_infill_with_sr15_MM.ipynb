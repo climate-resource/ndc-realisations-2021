{
 "cells": [
  {
   "cell_type": "markdown",
   "id": "bc5c8657",
   "metadata": {},
   "source": [
    "# Infill with MM's infilling method and SR1.5"
   ]
  },
  {
   "cell_type": "code",
   "execution_count": 1,
   "id": "a103b41e",
   "metadata": {},
   "outputs": [],
   "source": [
    "%load_ext autoreload\n",
    "%autoreload 2"
   ]
  },
  {
   "cell_type": "code",
   "execution_count": 2,
   "id": "78c39558",
   "metadata": {},
   "outputs": [
    {
     "data": {
      "application/javascript": [
       "\n",
       "            setTimeout(function() {\n",
       "                var nbb_cell_id = 2;\n",
       "                var nbb_unformatted_code = \"%load_ext nb_black\";\n",
       "                var nbb_formatted_code = \"%load_ext nb_black\";\n",
       "                var nbb_cells = Jupyter.notebook.get_cells();\n",
       "                for (var i = 0; i < nbb_cells.length; ++i) {\n",
       "                    if (nbb_cells[i].input_prompt_number == nbb_cell_id) {\n",
       "                        if (nbb_cells[i].get_text() == nbb_unformatted_code) {\n",
       "                             nbb_cells[i].set_text(nbb_formatted_code);\n",
       "                        }\n",
       "                        break;\n",
       "                    }\n",
       "                }\n",
       "            }, 500);\n",
       "            "
      ],
      "text/plain": [
       "<IPython.core.display.Javascript object>"
      ]
     },
     "metadata": {},
     "output_type": "display_data"
    }
   ],
   "source": [
    "%load_ext nb_black"
   ]
  },
  {
   "cell_type": "code",
   "execution_count": 3,
   "id": "3dda7144",
   "metadata": {},
   "outputs": [
    {
     "data": {
      "application/javascript": [
       "IPython.OutputArea.prototype._should_scroll = function(lines) { return false; }"
      ],
      "text/plain": [
       "<IPython.core.display.Javascript object>"
      ]
     },
     "metadata": {},
     "output_type": "display_data"
    },
    {
     "name": "stderr",
     "output_type": "stream",
     "text": [
      "/home/jared/miniconda3/envs/ndc-realisations-2021/lib/python3.9/site-packages/scmdata/database.py:21: TqdmExperimentalWarning: Using `tqdm.autonotebook.tqdm` in notebook mode. Use `tqdm.tqdm` instead to force console mode (e.g. in jupyter console)\n",
      "  import tqdm.autonotebook as tqdman\n"
     ]
    },
    {
     "data": {
      "application/javascript": [
       "\n",
       "            setTimeout(function() {\n",
       "                var nbb_cell_id = 3;\n",
       "                var nbb_unformatted_code = \"import os\\n\\nimport silicone.database_crunchers\\nfrom silicone.time_projectors import ExtendLatestTimeQuantile\\nimport scmdata\\nimport scmdata.database\\nimport matplotlib.pyplot as plt\\nimport numpy as np\\nimport seaborn as sns\\n\\nfrom tqdm.autonotebook import tqdm\\n\\nfrom ndcs.infilling import (\\n    extend_timeseries,\\n    calc_ghg,\\n    kyoto_ghg_exclude_co2_vars,\\n    TimeDepRatio,\\n    EqualQuantileWalk_MM\\n)  # This is for a bugfix\\nfrom ndcs.constants import (\\n    PROCESSED_DATA_DIR,\\n    NDC_TARGET_RELEASE,\\n    RAW_DATA_DIR,\\n    LEAD,\\n    CONTEXT,\\n)\";\n",
       "                var nbb_formatted_code = \"import os\\n\\nimport silicone.database_crunchers\\nfrom silicone.time_projectors import ExtendLatestTimeQuantile\\nimport scmdata\\nimport scmdata.database\\nimport matplotlib.pyplot as plt\\nimport numpy as np\\nimport seaborn as sns\\n\\nfrom tqdm.autonotebook import tqdm\\n\\nfrom ndcs.infilling import (\\n    extend_timeseries,\\n    calc_ghg,\\n    kyoto_ghg_exclude_co2_vars,\\n    TimeDepRatio,\\n    EqualQuantileWalk_MM,\\n)  # This is for a bugfix\\nfrom ndcs.constants import (\\n    PROCESSED_DATA_DIR,\\n    NDC_TARGET_RELEASE,\\n    RAW_DATA_DIR,\\n    LEAD,\\n    CONTEXT,\\n)\";\n",
       "                var nbb_cells = Jupyter.notebook.get_cells();\n",
       "                for (var i = 0; i < nbb_cells.length; ++i) {\n",
       "                    if (nbb_cells[i].input_prompt_number == nbb_cell_id) {\n",
       "                        if (nbb_cells[i].get_text() == nbb_unformatted_code) {\n",
       "                             nbb_cells[i].set_text(nbb_formatted_code);\n",
       "                        }\n",
       "                        break;\n",
       "                    }\n",
       "                }\n",
       "            }, 500);\n",
       "            "
      ],
      "text/plain": [
       "<IPython.core.display.Javascript object>"
      ]
     },
     "metadata": {},
     "output_type": "display_data"
    }
   ],
   "source": [
    "import os\n",
    "\n",
    "import silicone.database_crunchers\n",
    "from silicone.time_projectors import ExtendLatestTimeQuantile\n",
    "import scmdata\n",
    "import scmdata.database\n",
    "import matplotlib.pyplot as plt\n",
    "import numpy as np\n",
    "import seaborn as sns\n",
    "\n",
    "from tqdm.autonotebook import tqdm\n",
    "\n",
    "from ndcs.infilling import (\n",
    "    extend_timeseries,\n",
    "    calc_ghg,\n",
    "    kyoto_ghg_exclude_co2_vars,\n",
    "    TimeDepRatio,\n",
    "    EqualQuantileWalk_MM,\n",
    ")  # This is for a bugfix\n",
    "from ndcs.constants import (\n",
    "    PROCESSED_DATA_DIR,\n",
    "    NDC_TARGET_RELEASE,\n",
    "    RAW_DATA_DIR,\n",
    "    LEAD,\n",
    "    CONTEXT,\n",
    ")"
   ]
  },
  {
   "cell_type": "code",
   "execution_count": 4,
   "id": "fd8a38dd",
   "metadata": {},
   "outputs": [
    {
     "data": {
      "application/javascript": [
       "\n",
       "            setTimeout(function() {\n",
       "                var nbb_cell_id = 4;\n",
       "                var nbb_unformatted_code = \"plt.rcParams[\\\"figure.figsize\\\"] = (12, 8)\";\n",
       "                var nbb_formatted_code = \"plt.rcParams[\\\"figure.figsize\\\"] = (12, 8)\";\n",
       "                var nbb_cells = Jupyter.notebook.get_cells();\n",
       "                for (var i = 0; i < nbb_cells.length; ++i) {\n",
       "                    if (nbb_cells[i].input_prompt_number == nbb_cell_id) {\n",
       "                        if (nbb_cells[i].get_text() == nbb_unformatted_code) {\n",
       "                             nbb_cells[i].set_text(nbb_formatted_code);\n",
       "                        }\n",
       "                        break;\n",
       "                    }\n",
       "                }\n",
       "            }, 500);\n",
       "            "
      ],
      "text/plain": [
       "<IPython.core.display.Javascript object>"
      ]
     },
     "metadata": {},
     "output_type": "display_data"
    }
   ],
   "source": [
    "plt.rcParams[\"figure.figsize\"] = (12, 8)"
   ]
  },
  {
   "cell_type": "code",
   "execution_count": 5,
   "id": "04f94446",
   "metadata": {},
   "outputs": [
    {
     "data": {
      "application/javascript": [
       "\n",
       "            setTimeout(function() {\n",
       "                var nbb_cell_id = 5;\n",
       "                var nbb_unformatted_code = \"GLOBAL_DATABASE_DIR = os.path.join(\\n    PROCESSED_DATA_DIR, \\\"global_emissions_pathways\\\", NDC_TARGET_RELEASE\\n)\";\n",
       "                var nbb_formatted_code = \"GLOBAL_DATABASE_DIR = os.path.join(\\n    PROCESSED_DATA_DIR, \\\"global_emissions_pathways\\\", NDC_TARGET_RELEASE\\n)\";\n",
       "                var nbb_cells = Jupyter.notebook.get_cells();\n",
       "                for (var i = 0; i < nbb_cells.length; ++i) {\n",
       "                    if (nbb_cells[i].input_prompt_number == nbb_cell_id) {\n",
       "                        if (nbb_cells[i].get_text() == nbb_unformatted_code) {\n",
       "                             nbb_cells[i].set_text(nbb_formatted_code);\n",
       "                        }\n",
       "                        break;\n",
       "                    }\n",
       "                }\n",
       "            }, 500);\n",
       "            "
      ],
      "text/plain": [
       "<IPython.core.display.Javascript object>"
      ]
     },
     "metadata": {},
     "output_type": "display_data"
    }
   ],
   "source": [
    "GLOBAL_DATABASE_DIR = os.path.join(\n",
    "    PROCESSED_DATA_DIR, \"global_emissions_pathways\", NDC_TARGET_RELEASE\n",
    ")"
   ]
  },
  {
   "cell_type": "code",
   "execution_count": 6,
   "id": "c8f41b73",
   "metadata": {},
   "outputs": [
    {
     "data": {
      "text/plain": [
       "<scmdata.database.SCMDatabase (root_dir: /home/jared/code/cr/ndc-realisations-2021/src/ndcs/../../data/processed/global_emissions_pathways/12Nov2021a_CR, levels: ('ambition', 'conditionality', 'country_extension', 'exclude_hot_air', 'pathway_id', 'global_extension'))>"
      ]
     },
     "execution_count": 6,
     "metadata": {},
     "output_type": "execute_result"
    },
    {
     "data": {
      "application/javascript": [
       "\n",
       "            setTimeout(function() {\n",
       "                var nbb_cell_id = 6;\n",
       "                var nbb_unformatted_code = \"global_db = scmdata.database.ScmDatabase(\\n    GLOBAL_DATABASE_DIR,\\n    levels=(\\n        \\\"ambition\\\",\\n        \\\"conditionality\\\",\\n        \\\"country_extension\\\",\\n        \\\"exclude_hot_air\\\",\\n        \\\"pathway_id\\\",\\n        \\\"global_extension\\\",\\n    ),\\n)\\nglobal_db\";\n",
       "                var nbb_formatted_code = \"global_db = scmdata.database.ScmDatabase(\\n    GLOBAL_DATABASE_DIR,\\n    levels=(\\n        \\\"ambition\\\",\\n        \\\"conditionality\\\",\\n        \\\"country_extension\\\",\\n        \\\"exclude_hot_air\\\",\\n        \\\"pathway_id\\\",\\n        \\\"global_extension\\\",\\n    ),\\n)\\nglobal_db\";\n",
       "                var nbb_cells = Jupyter.notebook.get_cells();\n",
       "                for (var i = 0; i < nbb_cells.length; ++i) {\n",
       "                    if (nbb_cells[i].input_prompt_number == nbb_cell_id) {\n",
       "                        if (nbb_cells[i].get_text() == nbb_unformatted_code) {\n",
       "                             nbb_cells[i].set_text(nbb_formatted_code);\n",
       "                        }\n",
       "                        break;\n",
       "                    }\n",
       "                }\n",
       "            }, 500);\n",
       "            "
      ],
      "text/plain": [
       "<IPython.core.display.Javascript object>"
      ]
     },
     "metadata": {},
     "output_type": "display_data"
    }
   ],
   "source": [
    "global_db = scmdata.database.ScmDatabase(\n",
    "    GLOBAL_DATABASE_DIR,\n",
    "    levels=(\n",
    "        \"ambition\",\n",
    "        \"conditionality\",\n",
    "        \"country_extension\",\n",
    "        \"exclude_hot_air\",\n",
    "        \"pathway_id\",\n",
    "        \"global_extension\",\n",
    "    ),\n",
    ")\n",
    "global_db"
   ]
  },
  {
   "cell_type": "code",
   "execution_count": 7,
   "id": "b70ff5da",
   "metadata": {},
   "outputs": [
    {
     "data": {
      "application/javascript": [
       "\n",
       "            setTimeout(function() {\n",
       "                var nbb_cell_id = 7;\n",
       "                var nbb_unformatted_code = \"extended_scenario_all = scmdata.ScmRun(\\n    os.path.join(\\n        PROCESSED_DATA_DIR,\\n        \\\"global_emissions_pathways\\\",\\n        NDC_TARGET_RELEASE,\\n        \\\"emissions_ghg_extended.csv\\\",\\n    )\\n).drop_meta(\\\"global_extension\\\")\";\n",
       "                var nbb_formatted_code = \"extended_scenario_all = scmdata.ScmRun(\\n    os.path.join(\\n        PROCESSED_DATA_DIR,\\n        \\\"global_emissions_pathways\\\",\\n        NDC_TARGET_RELEASE,\\n        \\\"emissions_ghg_extended.csv\\\",\\n    )\\n).drop_meta(\\\"global_extension\\\")\";\n",
       "                var nbb_cells = Jupyter.notebook.get_cells();\n",
       "                for (var i = 0; i < nbb_cells.length; ++i) {\n",
       "                    if (nbb_cells[i].input_prompt_number == nbb_cell_id) {\n",
       "                        if (nbb_cells[i].get_text() == nbb_unformatted_code) {\n",
       "                             nbb_cells[i].set_text(nbb_formatted_code);\n",
       "                        }\n",
       "                        break;\n",
       "                    }\n",
       "                }\n",
       "            }, 500);\n",
       "            "
      ],
      "text/plain": [
       "<IPython.core.display.Javascript object>"
      ]
     },
     "metadata": {},
     "output_type": "display_data"
    }
   ],
   "source": [
    "extended_scenario_all = scmdata.ScmRun(\n",
    "    os.path.join(\n",
    "        PROCESSED_DATA_DIR,\n",
    "        \"global_emissions_pathways\",\n",
    "        NDC_TARGET_RELEASE,\n",
    "        \"emissions_ghg_extended.csv\",\n",
    "    )\n",
    ").drop_meta(\"global_extension\")"
   ]
  },
  {
   "cell_type": "code",
   "execution_count": 8,
   "id": "1b7ebd03",
   "metadata": {},
   "outputs": [
    {
     "data": {
      "text/plain": [
       "<ScmRun (timeseries: 1, timepoints: 86)>\n",
       "Time:\n",
       "\tStart: 2015-01-01T00:00:00\n",
       "\tEnd: 2100-01-01T00:00:00\n",
       "Meta:\n",
       "\t  ambition conditionality country_extension        date exclude_hot_air last_country          model    pathway_id  pathway_num  pathway_num_today region                                scenario     stage         unit  \\\n",
       "\t0     high              C            SSP1BL  2021-08-02         exclude          COG  NDC Factsheet  2021-08-02_1          309                  1  World  2021-08-02_1__high__C__SSP1BL__exclude  extended  Mt CO2 / yr   \n",
       "\t\n",
       "\t                                   variable  \n",
       "\t0  Emissions|GHG excl CO2 AFOLU (AR6GWP100)  "
      ]
     },
     "execution_count": 8,
     "metadata": {},
     "output_type": "execute_result"
    },
    {
     "data": {
      "application/javascript": [
       "\n",
       "            setTimeout(function() {\n",
       "                var nbb_cell_id = 8;\n",
       "                var nbb_unformatted_code = \"extended_scenario_sample = extended_scenario_all.filter(\\n    scenario=extended_scenario_all.get_unique_meta(\\\"scenario\\\")[0]\\n)\\nextended_scenario_sample\";\n",
       "                var nbb_formatted_code = \"extended_scenario_sample = extended_scenario_all.filter(\\n    scenario=extended_scenario_all.get_unique_meta(\\\"scenario\\\")[0]\\n)\\nextended_scenario_sample\";\n",
       "                var nbb_cells = Jupyter.notebook.get_cells();\n",
       "                for (var i = 0; i < nbb_cells.length; ++i) {\n",
       "                    if (nbb_cells[i].input_prompt_number == nbb_cell_id) {\n",
       "                        if (nbb_cells[i].get_text() == nbb_unformatted_code) {\n",
       "                             nbb_cells[i].set_text(nbb_formatted_code);\n",
       "                        }\n",
       "                        break;\n",
       "                    }\n",
       "                }\n",
       "            }, 500);\n",
       "            "
      ],
      "text/plain": [
       "<IPython.core.display.Javascript object>"
      ]
     },
     "metadata": {},
     "output_type": "display_data"
    }
   ],
   "source": [
    "extended_scenario_sample = extended_scenario_all.filter(\n",
    "    scenario=extended_scenario_all.get_unique_meta(\"scenario\")[0]\n",
    ")\n",
    "extended_scenario_sample"
   ]
  },
  {
   "cell_type": "code",
   "execution_count": 9,
   "id": "eefaea42",
   "metadata": {},
   "outputs": [
    {
     "data": {
      "text/html": [
       "<div>\n",
       "<style scoped>\n",
       "    .dataframe tbody tr th:only-of-type {\n",
       "        vertical-align: middle;\n",
       "    }\n",
       "\n",
       "    .dataframe tbody tr th {\n",
       "        vertical-align: top;\n",
       "    }\n",
       "\n",
       "    .dataframe thead th {\n",
       "        text-align: right;\n",
       "    }\n",
       "</style>\n",
       "<table border=\"1\" class=\"dataframe\">\n",
       "  <thead>\n",
       "    <tr style=\"text-align: right;\">\n",
       "      <th></th>\n",
       "      <th></th>\n",
       "      <th></th>\n",
       "      <th></th>\n",
       "      <th></th>\n",
       "      <th></th>\n",
       "      <th></th>\n",
       "      <th></th>\n",
       "      <th></th>\n",
       "      <th></th>\n",
       "      <th></th>\n",
       "      <th></th>\n",
       "      <th></th>\n",
       "      <th></th>\n",
       "      <th>time</th>\n",
       "      <th>2015-01-01</th>\n",
       "      <th>2016-01-01</th>\n",
       "      <th>2017-01-01</th>\n",
       "      <th>2018-01-01</th>\n",
       "      <th>2019-01-01</th>\n",
       "      <th>2020-01-01</th>\n",
       "      <th>2021-01-01</th>\n",
       "      <th>...</th>\n",
       "      <th>2094-01-01</th>\n",
       "      <th>2095-01-01</th>\n",
       "      <th>2096-01-01</th>\n",
       "      <th>2097-01-01</th>\n",
       "      <th>2098-01-01</th>\n",
       "      <th>2099-01-01</th>\n",
       "      <th>2100-01-01</th>\n",
       "    </tr>\n",
       "    <tr>\n",
       "      <th>ambition</th>\n",
       "      <th>conditionality</th>\n",
       "      <th>country_extension</th>\n",
       "      <th>date</th>\n",
       "      <th>exclude_hot_air</th>\n",
       "      <th>last_country</th>\n",
       "      <th>model</th>\n",
       "      <th>pathway_id</th>\n",
       "      <th>pathway_num</th>\n",
       "      <th>pathway_num_today</th>\n",
       "      <th>region</th>\n",
       "      <th>scenario</th>\n",
       "      <th>stage</th>\n",
       "      <th>unit</th>\n",
       "      <th>variable</th>\n",
       "      <th></th>\n",
       "      <th></th>\n",
       "      <th></th>\n",
       "      <th></th>\n",
       "      <th></th>\n",
       "      <th></th>\n",
       "      <th></th>\n",
       "      <th></th>\n",
       "      <th></th>\n",
       "      <th></th>\n",
       "      <th></th>\n",
       "      <th></th>\n",
       "      <th></th>\n",
       "      <th></th>\n",
       "      <th></th>\n",
       "    </tr>\n",
       "  </thead>\n",
       "  <tbody>\n",
       "    <tr>\n",
       "      <th>high</th>\n",
       "      <th>C</th>\n",
       "      <th>SSP1BL</th>\n",
       "      <th>2021-08-02</th>\n",
       "      <th>exclude</th>\n",
       "      <th>COG</th>\n",
       "      <th>NDC Factsheet</th>\n",
       "      <th>2021-08-02_1</th>\n",
       "      <th>309</th>\n",
       "      <th>1</th>\n",
       "      <th>World</th>\n",
       "      <th>2021-08-02_1__high__C__SSP1BL__exclude</th>\n",
       "      <th>extended</th>\n",
       "      <th>Mt CO2 / yr</th>\n",
       "      <th>Emissions|GHG excl CO2 AFOLU (AR6GWP100)</th>\n",
       "      <td>50801.212705</td>\n",
       "      <td>50904.230828</td>\n",
       "      <td>51561.060711</td>\n",
       "      <td>52365.200699</td>\n",
       "      <td>52682.002397</td>\n",
       "      <td>52672.554015</td>\n",
       "      <td>52708.680202</td>\n",
       "      <td>...</td>\n",
       "      <td>20901.772498</td>\n",
       "      <td>20682.016819</td>\n",
       "      <td>20513.546555</td>\n",
       "      <td>20344.614729</td>\n",
       "      <td>20176.144466</td>\n",
       "      <td>20007.674202</td>\n",
       "      <td>19839.203938</td>\n",
       "    </tr>\n",
       "  </tbody>\n",
       "</table>\n",
       "<p>1 rows × 86 columns</p>\n",
       "</div>"
      ],
      "text/plain": [
       "time                                                                                                                                                                                                                                                      2015-01-01  \\\n",
       "ambition conditionality country_extension date       exclude_hot_air last_country model         pathway_id   pathway_num pathway_num_today region scenario                               stage    unit        variable                                                 \n",
       "high     C              SSP1BL            2021-08-02 exclude         COG          NDC Factsheet 2021-08-02_1 309         1                 World  2021-08-02_1__high__C__SSP1BL__exclude extended Mt CO2 / yr Emissions|GHG excl CO2 AFOLU (AR6GWP100)  50801.212705   \n",
       "\n",
       "time                                                                                                                                                                                                                                                      2016-01-01  \\\n",
       "ambition conditionality country_extension date       exclude_hot_air last_country model         pathway_id   pathway_num pathway_num_today region scenario                               stage    unit        variable                                                 \n",
       "high     C              SSP1BL            2021-08-02 exclude         COG          NDC Factsheet 2021-08-02_1 309         1                 World  2021-08-02_1__high__C__SSP1BL__exclude extended Mt CO2 / yr Emissions|GHG excl CO2 AFOLU (AR6GWP100)  50904.230828   \n",
       "\n",
       "time                                                                                                                                                                                                                                                      2017-01-01  \\\n",
       "ambition conditionality country_extension date       exclude_hot_air last_country model         pathway_id   pathway_num pathway_num_today region scenario                               stage    unit        variable                                                 \n",
       "high     C              SSP1BL            2021-08-02 exclude         COG          NDC Factsheet 2021-08-02_1 309         1                 World  2021-08-02_1__high__C__SSP1BL__exclude extended Mt CO2 / yr Emissions|GHG excl CO2 AFOLU (AR6GWP100)  51561.060711   \n",
       "\n",
       "time                                                                                                                                                                                                                                                      2018-01-01  \\\n",
       "ambition conditionality country_extension date       exclude_hot_air last_country model         pathway_id   pathway_num pathway_num_today region scenario                               stage    unit        variable                                                 \n",
       "high     C              SSP1BL            2021-08-02 exclude         COG          NDC Factsheet 2021-08-02_1 309         1                 World  2021-08-02_1__high__C__SSP1BL__exclude extended Mt CO2 / yr Emissions|GHG excl CO2 AFOLU (AR6GWP100)  52365.200699   \n",
       "\n",
       "time                                                                                                                                                                                                                                                      2019-01-01  \\\n",
       "ambition conditionality country_extension date       exclude_hot_air last_country model         pathway_id   pathway_num pathway_num_today region scenario                               stage    unit        variable                                                 \n",
       "high     C              SSP1BL            2021-08-02 exclude         COG          NDC Factsheet 2021-08-02_1 309         1                 World  2021-08-02_1__high__C__SSP1BL__exclude extended Mt CO2 / yr Emissions|GHG excl CO2 AFOLU (AR6GWP100)  52682.002397   \n",
       "\n",
       "time                                                                                                                                                                                                                                                      2020-01-01  \\\n",
       "ambition conditionality country_extension date       exclude_hot_air last_country model         pathway_id   pathway_num pathway_num_today region scenario                               stage    unit        variable                                                 \n",
       "high     C              SSP1BL            2021-08-02 exclude         COG          NDC Factsheet 2021-08-02_1 309         1                 World  2021-08-02_1__high__C__SSP1BL__exclude extended Mt CO2 / yr Emissions|GHG excl CO2 AFOLU (AR6GWP100)  52672.554015   \n",
       "\n",
       "time                                                                                                                                                                                                                                                      2021-01-01  \\\n",
       "ambition conditionality country_extension date       exclude_hot_air last_country model         pathway_id   pathway_num pathway_num_today region scenario                               stage    unit        variable                                                 \n",
       "high     C              SSP1BL            2021-08-02 exclude         COG          NDC Factsheet 2021-08-02_1 309         1                 World  2021-08-02_1__high__C__SSP1BL__exclude extended Mt CO2 / yr Emissions|GHG excl CO2 AFOLU (AR6GWP100)  52708.680202   \n",
       "\n",
       "time                                                                                                                                                                                                                                                    ...  \\\n",
       "ambition conditionality country_extension date       exclude_hot_air last_country model         pathway_id   pathway_num pathway_num_today region scenario                               stage    unit        variable                                  ...   \n",
       "high     C              SSP1BL            2021-08-02 exclude         COG          NDC Factsheet 2021-08-02_1 309         1                 World  2021-08-02_1__high__C__SSP1BL__exclude extended Mt CO2 / yr Emissions|GHG excl CO2 AFOLU (AR6GWP100)  ...   \n",
       "\n",
       "time                                                                                                                                                                                                                                                      2094-01-01  \\\n",
       "ambition conditionality country_extension date       exclude_hot_air last_country model         pathway_id   pathway_num pathway_num_today region scenario                               stage    unit        variable                                                 \n",
       "high     C              SSP1BL            2021-08-02 exclude         COG          NDC Factsheet 2021-08-02_1 309         1                 World  2021-08-02_1__high__C__SSP1BL__exclude extended Mt CO2 / yr Emissions|GHG excl CO2 AFOLU (AR6GWP100)  20901.772498   \n",
       "\n",
       "time                                                                                                                                                                                                                                                      2095-01-01  \\\n",
       "ambition conditionality country_extension date       exclude_hot_air last_country model         pathway_id   pathway_num pathway_num_today region scenario                               stage    unit        variable                                                 \n",
       "high     C              SSP1BL            2021-08-02 exclude         COG          NDC Factsheet 2021-08-02_1 309         1                 World  2021-08-02_1__high__C__SSP1BL__exclude extended Mt CO2 / yr Emissions|GHG excl CO2 AFOLU (AR6GWP100)  20682.016819   \n",
       "\n",
       "time                                                                                                                                                                                                                                                      2096-01-01  \\\n",
       "ambition conditionality country_extension date       exclude_hot_air last_country model         pathway_id   pathway_num pathway_num_today region scenario                               stage    unit        variable                                                 \n",
       "high     C              SSP1BL            2021-08-02 exclude         COG          NDC Factsheet 2021-08-02_1 309         1                 World  2021-08-02_1__high__C__SSP1BL__exclude extended Mt CO2 / yr Emissions|GHG excl CO2 AFOLU (AR6GWP100)  20513.546555   \n",
       "\n",
       "time                                                                                                                                                                                                                                                      2097-01-01  \\\n",
       "ambition conditionality country_extension date       exclude_hot_air last_country model         pathway_id   pathway_num pathway_num_today region scenario                               stage    unit        variable                                                 \n",
       "high     C              SSP1BL            2021-08-02 exclude         COG          NDC Factsheet 2021-08-02_1 309         1                 World  2021-08-02_1__high__C__SSP1BL__exclude extended Mt CO2 / yr Emissions|GHG excl CO2 AFOLU (AR6GWP100)  20344.614729   \n",
       "\n",
       "time                                                                                                                                                                                                                                                      2098-01-01  \\\n",
       "ambition conditionality country_extension date       exclude_hot_air last_country model         pathway_id   pathway_num pathway_num_today region scenario                               stage    unit        variable                                                 \n",
       "high     C              SSP1BL            2021-08-02 exclude         COG          NDC Factsheet 2021-08-02_1 309         1                 World  2021-08-02_1__high__C__SSP1BL__exclude extended Mt CO2 / yr Emissions|GHG excl CO2 AFOLU (AR6GWP100)  20176.144466   \n",
       "\n",
       "time                                                                                                                                                                                                                                                      2099-01-01  \\\n",
       "ambition conditionality country_extension date       exclude_hot_air last_country model         pathway_id   pathway_num pathway_num_today region scenario                               stage    unit        variable                                                 \n",
       "high     C              SSP1BL            2021-08-02 exclude         COG          NDC Factsheet 2021-08-02_1 309         1                 World  2021-08-02_1__high__C__SSP1BL__exclude extended Mt CO2 / yr Emissions|GHG excl CO2 AFOLU (AR6GWP100)  20007.674202   \n",
       "\n",
       "time                                                                                                                                                                                                                                                      2100-01-01  \n",
       "ambition conditionality country_extension date       exclude_hot_air last_country model         pathway_id   pathway_num pathway_num_today region scenario                               stage    unit        variable                                                \n",
       "high     C              SSP1BL            2021-08-02 exclude         COG          NDC Factsheet 2021-08-02_1 309         1                 World  2021-08-02_1__high__C__SSP1BL__exclude extended Mt CO2 / yr Emissions|GHG excl CO2 AFOLU (AR6GWP100)  19839.203938  \n",
       "\n",
       "[1 rows x 86 columns]"
      ]
     },
     "execution_count": 9,
     "metadata": {},
     "output_type": "execute_result"
    },
    {
     "data": {
      "application/javascript": [
       "\n",
       "            setTimeout(function() {\n",
       "                var nbb_cell_id = 9;\n",
       "                var nbb_unformatted_code = \"extended_scenario_sample.timeseries()\";\n",
       "                var nbb_formatted_code = \"extended_scenario_sample.timeseries()\";\n",
       "                var nbb_cells = Jupyter.notebook.get_cells();\n",
       "                for (var i = 0; i < nbb_cells.length; ++i) {\n",
       "                    if (nbb_cells[i].input_prompt_number == nbb_cell_id) {\n",
       "                        if (nbb_cells[i].get_text() == nbb_unformatted_code) {\n",
       "                             nbb_cells[i].set_text(nbb_formatted_code);\n",
       "                        }\n",
       "                        break;\n",
       "                    }\n",
       "                }\n",
       "            }, 500);\n",
       "            "
      ],
      "text/plain": [
       "<IPython.core.display.Javascript object>"
      ]
     },
     "metadata": {},
     "output_type": "display_data"
    }
   ],
   "source": [
    "extended_scenario_sample.timeseries()"
   ]
  },
  {
   "cell_type": "code",
   "execution_count": 10,
   "id": "5927e49e",
   "metadata": {},
   "outputs": [
    {
     "data": {
      "application/javascript": [
       "\n",
       "            setTimeout(function() {\n",
       "                var nbb_cell_id = 10;\n",
       "                var nbb_unformatted_code = \"sr15_data_cleaned = scmdata.ScmRun(os.path.join(PROCESSED_DATA_DIR, \\\"sr15_data.csv\\\"))\";\n",
       "                var nbb_formatted_code = \"sr15_data_cleaned = scmdata.ScmRun(os.path.join(PROCESSED_DATA_DIR, \\\"sr15_data.csv\\\"))\";\n",
       "                var nbb_cells = Jupyter.notebook.get_cells();\n",
       "                for (var i = 0; i < nbb_cells.length; ++i) {\n",
       "                    if (nbb_cells[i].input_prompt_number == nbb_cell_id) {\n",
       "                        if (nbb_cells[i].get_text() == nbb_unformatted_code) {\n",
       "                             nbb_cells[i].set_text(nbb_formatted_code);\n",
       "                        }\n",
       "                        break;\n",
       "                    }\n",
       "                }\n",
       "            }, 500);\n",
       "            "
      ],
      "text/plain": [
       "<IPython.core.display.Javascript object>"
      ]
     },
     "metadata": {},
     "output_type": "display_data"
    }
   ],
   "source": [
    "sr15_data_cleaned = scmdata.ScmRun(os.path.join(PROCESSED_DATA_DIR, \"sr15_data.csv\"))"
   ]
  },
  {
   "cell_type": "code",
   "execution_count": 11,
   "id": "3eac43e4",
   "metadata": {},
   "outputs": [
    {
     "data": {
      "text/plain": [
       "<ScmRun (timeseries: 10686, timepoints: 86)>\n",
       "Time:\n",
       "\tStart: 2015-01-01T00:00:00\n",
       "\tEnd: 2100-01-01T00:00:00\n",
       "Meta:\n",
       "\t      climate_model                                       id              model region                scenario       stage todo         unit                                  variable\n",
       "\t0       unspecified           AIM_2_0_ADVANCE_2020_1.5C-2100            AIM_2_0  World  ADVANCE_2020_1.5C-2100  harmonised  SET  Mt CO2 / yr  Emissions|GHG excl CO2 AFOLU (AR6GWP100)\n",
       "\t1       unspecified               AIM_2_0_ADVANCE_2020_Med2C            AIM_2_0  World      ADVANCE_2020_Med2C  harmonised  SET  Mt CO2 / yr  Emissions|GHG excl CO2 AFOLU (AR6GWP100)\n",
       "\t2       unspecified                AIM_2_0_ADVANCE_2020_WB2C            AIM_2_0  World       ADVANCE_2020_WB2C  harmonised  SET  Mt CO2 / yr  Emissions|GHG excl CO2 AFOLU (AR6GWP100)\n",
       "\t3       unspecified               AIM_2_0_ADVANCE_2030_Med2C            AIM_2_0  World      ADVANCE_2030_Med2C  harmonised  SET  Mt CO2 / yr  Emissions|GHG excl CO2 AFOLU (AR6GWP100)\n",
       "\t4       unspecified           AIM_2_0_ADVANCE_2030_Price1.5C            AIM_2_0  World  ADVANCE_2030_Price1.5C  harmonised  SET  Mt CO2 / yr  Emissions|GHG excl CO2 AFOLU (AR6GWP100)\n",
       "\t5       unspecified                AIM_2_0_ADVANCE_2030_WB2C            AIM_2_0  World       ADVANCE_2030_WB2C  harmonised  SET  Mt CO2 / yr  Emissions|GHG excl CO2 AFOLU (AR6GWP100)\n",
       "\t6       unspecified                     AIM_2_0_ADVANCE_INDC            AIM_2_0  World            ADVANCE_INDC  harmonised  SET  Mt CO2 / yr  Emissions|GHG excl CO2 AFOLU (AR6GWP100)\n",
       "\t7       unspecified                 AIM_2_0_ADVANCE_NoPolicy            AIM_2_0  World        ADVANCE_NoPolicy  harmonised  SET  Mt CO2 / yr  Emissions|GHG excl CO2 AFOLU (AR6GWP100)\n",
       "\t8       unspecified                AIM_2_0_ADVANCE_Reference            AIM_2_0  World       ADVANCE_Reference  harmonised  SET  Mt CO2 / yr  Emissions|GHG excl CO2 AFOLU (AR6GWP100)\n",
       "\t9       unspecified                          AIM_2_0_SSP1-19            AIM_2_0  World                 SSP1-19  harmonised  SET  Mt CO2 / yr  Emissions|GHG excl CO2 AFOLU (AR6GWP100)\n",
       "\t...             ...                                      ...                ...    ...                     ...         ...  ...          ...                                       ...\n",
       "\t10676   unspecified      WITCH-GLOBIOM_4_2_ADVANCE_2030_WB2C  WITCH-GLOBIOM_4_2  World       ADVANCE_2030_WB2C  harmonised  SET  Mt CH4 / yr                             Emissions|CH4\n",
       "\t10677   unspecified           WITCH-GLOBIOM_4_2_ADVANCE_INDC  WITCH-GLOBIOM_4_2  World            ADVANCE_INDC  harmonised  SET  Mt CH4 / yr                             Emissions|CH4\n",
       "\t10678   unspecified       WITCH-GLOBIOM_4_2_ADVANCE_NoPolicy  WITCH-GLOBIOM_4_2  World        ADVANCE_NoPolicy  harmonised  SET  Mt CH4 / yr                             Emissions|CH4\n",
       "\t10679   unspecified      WITCH-GLOBIOM_4_2_ADVANCE_Reference  WITCH-GLOBIOM_4_2  World       ADVANCE_Reference  harmonised  SET  Mt CH4 / yr                             Emissions|CH4\n",
       "\t10680   unspecified         WITCH-GLOBIOM_4_4_CD-LINKS_INDCi  WITCH-GLOBIOM_4_4  World          CD-LINKS_INDCi  harmonised  SET  Mt CH4 / yr                             Emissions|CH4\n",
       "\t10681   unspecified           WITCH-GLOBIOM_4_4_CD-LINKS_NPi  WITCH-GLOBIOM_4_4  World            CD-LINKS_NPi  harmonised  SET  Mt CH4 / yr                             Emissions|CH4\n",
       "\t10682   unspecified  WITCH-GLOBIOM_4_4_CD-LINKS_NPi2020_1000  WITCH-GLOBIOM_4_4  World   CD-LINKS_NPi2020_1000  harmonised  SET  Mt CH4 / yr                             Emissions|CH4\n",
       "\t10683   unspecified  WITCH-GLOBIOM_4_4_CD-LINKS_NPi2020_1600  WITCH-GLOBIOM_4_4  World   CD-LINKS_NPi2020_1600  harmonised  SET  Mt CH4 / yr                             Emissions|CH4\n",
       "\t10684   unspecified   WITCH-GLOBIOM_4_4_CD-LINKS_NPi2020_400  WITCH-GLOBIOM_4_4  World    CD-LINKS_NPi2020_400  harmonised  SET  Mt CH4 / yr                             Emissions|CH4\n",
       "\t10685   unspecified      WITCH-GLOBIOM_4_4_CD-LINKS_NoPolicy  WITCH-GLOBIOM_4_4  World       CD-LINKS_NoPolicy  harmonised  SET  Mt CH4 / yr                             Emissions|CH4\n",
       "\t\n",
       "\t[10686 rows x 9 columns]"
      ]
     },
     "execution_count": 11,
     "metadata": {},
     "output_type": "execute_result"
    },
    {
     "data": {
      "application/javascript": [
       "\n",
       "            setTimeout(function() {\n",
       "                var nbb_cell_id = 11;\n",
       "                var nbb_unformatted_code = \"sr15_data_cleaned\";\n",
       "                var nbb_formatted_code = \"sr15_data_cleaned\";\n",
       "                var nbb_cells = Jupyter.notebook.get_cells();\n",
       "                for (var i = 0; i < nbb_cells.length; ++i) {\n",
       "                    if (nbb_cells[i].input_prompt_number == nbb_cell_id) {\n",
       "                        if (nbb_cells[i].get_text() == nbb_unformatted_code) {\n",
       "                             nbb_cells[i].set_text(nbb_formatted_code);\n",
       "                        }\n",
       "                        break;\n",
       "                    }\n",
       "                }\n",
       "            }, 500);\n",
       "            "
      ],
      "text/plain": [
       "<IPython.core.display.Javascript object>"
      ]
     },
     "metadata": {},
     "output_type": "display_data"
    }
   ],
   "source": [
    "sr15_data_cleaned"
   ]
  },
  {
   "cell_type": "code",
   "execution_count": 12,
   "id": "2f62aebe",
   "metadata": {},
   "outputs": [
    {
     "data": {
      "application/javascript": [
       "\n",
       "            setTimeout(function() {\n",
       "                var nbb_cell_id = 12;\n",
       "                var nbb_unformatted_code = \"def calc_cum_emis(emis, zero_year=2020):\\n    cum_emissions = emis.integrate().relative_to_ref_period_mean(year=zero_year)\\n\\n    return cum_emissions.convert_unit(\\\"Gt CO2\\\")\";\n",
       "                var nbb_formatted_code = \"def calc_cum_emis(emis, zero_year=2020):\\n    cum_emissions = emis.integrate().relative_to_ref_period_mean(year=zero_year)\\n\\n    return cum_emissions.convert_unit(\\\"Gt CO2\\\")\";\n",
       "                var nbb_cells = Jupyter.notebook.get_cells();\n",
       "                for (var i = 0; i < nbb_cells.length; ++i) {\n",
       "                    if (nbb_cells[i].input_prompt_number == nbb_cell_id) {\n",
       "                        if (nbb_cells[i].get_text() == nbb_unformatted_code) {\n",
       "                             nbb_cells[i].set_text(nbb_formatted_code);\n",
       "                        }\n",
       "                        break;\n",
       "                    }\n",
       "                }\n",
       "            }, 500);\n",
       "            "
      ],
      "text/plain": [
       "<IPython.core.display.Javascript object>"
      ]
     },
     "metadata": {},
     "output_type": "display_data"
    }
   ],
   "source": [
    "def calc_cum_emis(emis, zero_year=2020):\n",
    "    cum_emissions = emis.integrate().relative_to_ref_period_mean(year=zero_year)\n",
    "\n",
    "    return cum_emissions.convert_unit(\"Gt CO2\")"
   ]
  },
  {
   "cell_type": "code",
   "execution_count": 13,
   "id": "c0ac109c",
   "metadata": {},
   "outputs": [
    {
     "data": {
      "application/javascript": [
       "\n",
       "            setTimeout(function() {\n",
       "                var nbb_cell_id = 13;\n",
       "                var nbb_unformatted_code = \"def generate_percentage_differences(inp):\\n    df = inp.filter(year=2100).timeseries()\\n    \\n    df_2 = df.unstack(\\\"stage\\\").sort_index()\\n    df_2.index = df_2.index.droplevel(\\n        level=list(set(df_2.index.names) - {\\\"scenario\\\", \\\"stage\\\"})\\n    )\\n    df_2.columns = df_2.columns.get_level_values(\\\"stage\\\")\\n    \\n    df_pct_change = df_2.pct_change(axis=1).iloc[:, -1]\\n    df_pct_change.name = \\\"pct_change\\\"\\n    return df_pct_change\";\n",
       "                var nbb_formatted_code = \"def generate_percentage_differences(inp):\\n    df = inp.filter(year=2100).timeseries()\\n\\n    df_2 = df.unstack(\\\"stage\\\").sort_index()\\n    df_2.index = df_2.index.droplevel(\\n        level=list(set(df_2.index.names) - {\\\"scenario\\\", \\\"stage\\\"})\\n    )\\n    df_2.columns = df_2.columns.get_level_values(\\\"stage\\\")\\n\\n    df_pct_change = df_2.pct_change(axis=1).iloc[:, -1]\\n    df_pct_change.name = \\\"pct_change\\\"\\n    return df_pct_change\";\n",
       "                var nbb_cells = Jupyter.notebook.get_cells();\n",
       "                for (var i = 0; i < nbb_cells.length; ++i) {\n",
       "                    if (nbb_cells[i].input_prompt_number == nbb_cell_id) {\n",
       "                        if (nbb_cells[i].get_text() == nbb_unformatted_code) {\n",
       "                             nbb_cells[i].set_text(nbb_formatted_code);\n",
       "                        }\n",
       "                        break;\n",
       "                    }\n",
       "                }\n",
       "            }, 500);\n",
       "            "
      ],
      "text/plain": [
       "<IPython.core.display.Javascript object>"
      ]
     },
     "metadata": {},
     "output_type": "display_data"
    }
   ],
   "source": [
    "def generate_percentage_differences(inp):\n",
    "    df = inp.filter(year=2100).timeseries()\n",
    "    \n",
    "    df_2 = df.unstack(\"stage\").sort_index()\n",
    "    df_2.index = df_2.index.droplevel(\n",
    "        level=list(set(df_2.index.names) - {\"scenario\", \"stage\"})\n",
    "    )\n",
    "    df_2.columns = df_2.columns.get_level_values(\"stage\")\n",
    "    \n",
    "    df_pct_change = df_2.pct_change(axis=1).iloc[:, -1]\n",
    "    df_pct_change.name = \"pct_change\"\n",
    "    return df_pct_change\n"
   ]
  },
  {
   "cell_type": "markdown",
   "id": "e6463ca3",
   "metadata": {},
   "source": [
    "# Check how well infilling should work"
   ]
  },
  {
   "cell_type": "code",
   "execution_count": 14,
   "id": "064be7bc",
   "metadata": {},
   "outputs": [
    {
     "data": {
      "text/plain": [
       "<ScmRun (timeseries: 130, timepoints: 86)>\n",
       "Time:\n",
       "\tStart: 2015-01-01T00:00:00\n",
       "\tEnd: 2100-01-01T00:00:00\n",
       "Meta:\n",
       "\t    climate_model           model  quantile region         scenario       stage todo                unit                                    variable\n",
       "\t0     unspecified  not_applicable       0.1  World  SR15 median 0.1  harmonised  SET          Mt BC / yr                                Emissions|BC\n",
       "\t1     unspecified  not_applicable       0.1  World  SR15 median 0.1  harmonised  SET        kt C2F6 / yr                              Emissions|C2F6\n",
       "\t2     unspecified  not_applicable       0.1  World  SR15 median 0.1  harmonised  SET       kt C6F14 / yr                             Emissions|C6F14\n",
       "\t3     unspecified  not_applicable       0.1  World  SR15 median 0.1  harmonised  SET         kt CF4 / yr                               Emissions|CF4\n",
       "\t4     unspecified  not_applicable       0.1  World  SR15 median 0.1  harmonised  SET         Mt CH4 / yr                               Emissions|CH4\n",
       "\t5     unspecified  not_applicable       0.1  World  SR15 median 0.1  harmonised  SET          Mt CO / yr                                Emissions|CO\n",
       "\t6     unspecified  not_applicable       0.1  World  SR15 median 0.1  harmonised  SET         Mt CO2 / yr                  Emissions|CO2|MAGICC AFOLU\n",
       "\t7     unspecified  not_applicable       0.1  World  SR15 median 0.1  harmonised  SET         Mt CO2 / yr  Emissions|CO2|MAGICC Fossil and Industrial\n",
       "\t8     unspecified  not_applicable       0.1  World  SR15 median 0.1  harmonised  SET         Mt CO2 / yr    Emissions|GHG excl CO2 AFOLU (AR4GWP100)\n",
       "\t9     unspecified  not_applicable       0.1  World  SR15 median 0.1  harmonised  SET         Mt CO2 / yr    Emissions|GHG excl CO2 AFOLU (AR5GWP100)\n",
       "\t..            ...             ...       ...    ...              ...         ...  ...                 ...                                         ...\n",
       "\t120   unspecified  not_applicable       0.9  World  SR15 median 0.9  harmonised  SET    kt HFC245fa / yr                          Emissions|HFC245fa\n",
       "\t121   unspecified  not_applicable       0.9  World  SR15 median 0.9  harmonised  SET       kt HFC32 / yr                             Emissions|HFC32\n",
       "\t122   unspecified  not_applicable       0.9  World  SR15 median 0.9  harmonised  SET  kt HFC4310mee / yr                           Emissions|HFC4310\n",
       "\t123   unspecified  not_applicable       0.9  World  SR15 median 0.9  harmonised  SET         kt N2O / yr                               Emissions|N2O\n",
       "\t124   unspecified  not_applicable       0.9  World  SR15 median 0.9  harmonised  SET         Mt NH3 / yr                               Emissions|NH3\n",
       "\t125   unspecified  not_applicable       0.9  World  SR15 median 0.9  harmonised  SET         Mt VOC / yr                             Emissions|NMVOC\n",
       "\t126   unspecified  not_applicable       0.9  World  SR15 median 0.9  harmonised  SET         Mt NOx / yr                               Emissions|NOx\n",
       "\t127   unspecified  not_applicable       0.9  World  SR15 median 0.9  harmonised  SET          Mt OC / yr                                Emissions|OC\n",
       "\t128   unspecified  not_applicable       0.9  World  SR15 median 0.9  harmonised  SET         kt SF6 / yr                               Emissions|SF6\n",
       "\t129   unspecified  not_applicable       0.9  World  SR15 median 0.9  harmonised  SET         Mt SO2 / yr                               Emissions|SOx\n",
       "\t\n",
       "\t[130 rows x 9 columns]"
      ]
     },
     "execution_count": 14,
     "metadata": {},
     "output_type": "execute_result"
    },
    {
     "data": {
      "application/javascript": [
       "\n",
       "            setTimeout(function() {\n",
       "                var nbb_cell_id = 14;\n",
       "                var nbb_unformatted_code = \"median_sr15 = sr15_data_cleaned.quantiles_over(\\n    (\\\"id\\\", \\\"model\\\", \\\"scenario\\\"), [0.1, 0.25, 0.5, 0.75, 0.9]\\n)\\nmedian_sr15[\\\"scenario\\\"] = \\\"SR15 median\\\"\\nmedian_sr15[\\\"model\\\"] = \\\"not_applicable\\\"\\nmedian_sr15 = scmdata.ScmRun(median_sr15)\\nmedian_sr15[\\\"scenario\\\"] = [\\\"SR15 median \\\" + str(q) for q in median_sr15[\\\"quantile\\\"]]\\nmedian_sr15\";\n",
       "                var nbb_formatted_code = \"median_sr15 = sr15_data_cleaned.quantiles_over(\\n    (\\\"id\\\", \\\"model\\\", \\\"scenario\\\"), [0.1, 0.25, 0.5, 0.75, 0.9]\\n)\\nmedian_sr15[\\\"scenario\\\"] = \\\"SR15 median\\\"\\nmedian_sr15[\\\"model\\\"] = \\\"not_applicable\\\"\\nmedian_sr15 = scmdata.ScmRun(median_sr15)\\nmedian_sr15[\\\"scenario\\\"] = [\\\"SR15 median \\\" + str(q) for q in median_sr15[\\\"quantile\\\"]]\\nmedian_sr15\";\n",
       "                var nbb_cells = Jupyter.notebook.get_cells();\n",
       "                for (var i = 0; i < nbb_cells.length; ++i) {\n",
       "                    if (nbb_cells[i].input_prompt_number == nbb_cell_id) {\n",
       "                        if (nbb_cells[i].get_text() == nbb_unformatted_code) {\n",
       "                             nbb_cells[i].set_text(nbb_formatted_code);\n",
       "                        }\n",
       "                        break;\n",
       "                    }\n",
       "                }\n",
       "            }, 500);\n",
       "            "
      ],
      "text/plain": [
       "<IPython.core.display.Javascript object>"
      ]
     },
     "metadata": {},
     "output_type": "display_data"
    }
   ],
   "source": [
    "median_sr15 = sr15_data_cleaned.quantiles_over(\n",
    "    (\"id\", \"model\", \"scenario\"), [0.1, 0.25, 0.5, 0.75, 0.9]\n",
    ")\n",
    "median_sr15[\"scenario\"] = \"SR15 median\"\n",
    "median_sr15[\"model\"] = \"not_applicable\"\n",
    "median_sr15 = scmdata.ScmRun(median_sr15)\n",
    "median_sr15[\"scenario\"] = [\"SR15 median \" + str(q) for q in median_sr15[\"quantile\"]]\n",
    "median_sr15"
   ]
  },
  {
   "cell_type": "code",
   "execution_count": 15,
   "id": "656e3a93",
   "metadata": {},
   "outputs": [
    {
     "data": {
      "application/javascript": [
       "\n",
       "            setTimeout(function() {\n",
       "                var nbb_cell_id = 15;\n",
       "                var nbb_unformatted_code = \"median_sr15_ghg = calc_ghg(median_sr15, kyoto_ghg_exclude_co2_vars)\\nmedian_sr15_ghg[\\\"stage\\\"] = \\\"single\\\"\";\n",
       "                var nbb_formatted_code = \"median_sr15_ghg = calc_ghg(median_sr15, kyoto_ghg_exclude_co2_vars)\\nmedian_sr15_ghg[\\\"stage\\\"] = \\\"single\\\"\";\n",
       "                var nbb_cells = Jupyter.notebook.get_cells();\n",
       "                for (var i = 0; i < nbb_cells.length; ++i) {\n",
       "                    if (nbb_cells[i].input_prompt_number == nbb_cell_id) {\n",
       "                        if (nbb_cells[i].get_text() == nbb_unformatted_code) {\n",
       "                             nbb_cells[i].set_text(nbb_formatted_code);\n",
       "                        }\n",
       "                        break;\n",
       "                    }\n",
       "                }\n",
       "            }, 500);\n",
       "            "
      ],
      "text/plain": [
       "<IPython.core.display.Javascript object>"
      ]
     },
     "metadata": {},
     "output_type": "display_data"
    }
   ],
   "source": [
    "median_sr15_ghg = calc_ghg(median_sr15, kyoto_ghg_exclude_co2_vars)\n",
    "median_sr15_ghg[\"stage\"] = \"single\""
   ]
  },
  {
   "cell_type": "code",
   "execution_count": 16,
   "id": "9794ffc3",
   "metadata": {},
   "outputs": [
    {
     "data": {
      "application/javascript": [
       "\n",
       "            setTimeout(function() {\n",
       "                var nbb_cell_id = 16;\n",
       "                var nbb_unformatted_code = \"data_of_interest = scmdata.run_append(\\n    [\\n        median_sr15_ghg,\\n        median_sr15.filter(variable=\\\"Emissions|GHG excl CO2 AFOLU (AR6GWP100)\\\"),\\n    ]\\n)\";\n",
       "                var nbb_formatted_code = \"data_of_interest = scmdata.run_append(\\n    [\\n        median_sr15_ghg,\\n        median_sr15.filter(variable=\\\"Emissions|GHG excl CO2 AFOLU (AR6GWP100)\\\"),\\n    ]\\n)\";\n",
       "                var nbb_cells = Jupyter.notebook.get_cells();\n",
       "                for (var i = 0; i < nbb_cells.length; ++i) {\n",
       "                    if (nbb_cells[i].input_prompt_number == nbb_cell_id) {\n",
       "                        if (nbb_cells[i].get_text() == nbb_unformatted_code) {\n",
       "                             nbb_cells[i].set_text(nbb_formatted_code);\n",
       "                        }\n",
       "                        break;\n",
       "                    }\n",
       "                }\n",
       "            }, 500);\n",
       "            "
      ],
      "text/plain": [
       "<IPython.core.display.Javascript object>"
      ]
     },
     "metadata": {},
     "output_type": "display_data"
    }
   ],
   "source": [
    "data_of_interest = scmdata.run_append(\n",
    "    [\n",
    "        median_sr15_ghg,\n",
    "        median_sr15.filter(variable=\"Emissions|GHG excl CO2 AFOLU (AR6GWP100)\"),\n",
    "    ]\n",
    ")"
   ]
  },
  {
   "cell_type": "code",
   "execution_count": 17,
   "id": "b8dcbf34",
   "metadata": {},
   "outputs": [
    {
     "data": {
      "text/plain": [
       "<AxesSubplot:xlabel='time', ylabel='Mt CO2 / yr'>"
      ]
     },
     "execution_count": 17,
     "metadata": {},
     "output_type": "execute_result"
    },
    {
     "data": {
      "image/png": "[encoded data removed]",
      "text/plain": [
       "<Figure size 864x576 with 1 Axes>"
      ]
     },
     "metadata": {
      "needs_background": "light"
     },
     "output_type": "display_data"
    },
    {
     "data": {
      "application/javascript": [
       "\n",
       "            setTimeout(function() {\n",
       "                var nbb_cell_id = 17;\n",
       "                var nbb_unformatted_code = \"data_of_interest.lineplot(hue=\\\"stage\\\", style=\\\"scenario\\\")\";\n",
       "                var nbb_formatted_code = \"data_of_interest.lineplot(hue=\\\"stage\\\", style=\\\"scenario\\\")\";\n",
       "                var nbb_cells = Jupyter.notebook.get_cells();\n",
       "                for (var i = 0; i < nbb_cells.length; ++i) {\n",
       "                    if (nbb_cells[i].input_prompt_number == nbb_cell_id) {\n",
       "                        if (nbb_cells[i].get_text() == nbb_unformatted_code) {\n",
       "                             nbb_cells[i].set_text(nbb_formatted_code);\n",
       "                        }\n",
       "                        break;\n",
       "                    }\n",
       "                }\n",
       "            }, 500);\n",
       "            "
      ],
      "text/plain": [
       "<IPython.core.display.Javascript object>"
      ]
     },
     "metadata": {},
     "output_type": "display_data"
    }
   ],
   "source": [
    "data_of_interest.lineplot(hue=\"stage\", style=\"scenario\")"
   ]
  },
  {
   "cell_type": "code",
   "execution_count": 18,
   "id": "ee07e036",
   "metadata": {},
   "outputs": [
    {
     "data": {
      "text/plain": [
       "scenario\n",
       "SR15 median 0.1    -0.156276\n",
       "SR15 median 0.25   -0.032854\n",
       "SR15 median 0.5     0.017501\n",
       "SR15 median 0.75    0.022740\n",
       "SR15 median 0.9     0.013075\n",
       "Name: pct_change, dtype: float64"
      ]
     },
     "execution_count": 18,
     "metadata": {},
     "output_type": "execute_result"
    },
    {
     "data": {
      "application/javascript": [
       "\n",
       "            setTimeout(function() {\n",
       "                var nbb_cell_id = 18;\n",
       "                var nbb_unformatted_code = \"generate_percentage_differences(calc_cum_emis(data_of_interest))\";\n",
       "                var nbb_formatted_code = \"generate_percentage_differences(calc_cum_emis(data_of_interest))\";\n",
       "                var nbb_cells = Jupyter.notebook.get_cells();\n",
       "                for (var i = 0; i < nbb_cells.length; ++i) {\n",
       "                    if (nbb_cells[i].input_prompt_number == nbb_cell_id) {\n",
       "                        if (nbb_cells[i].get_text() == nbb_unformatted_code) {\n",
       "                             nbb_cells[i].set_text(nbb_formatted_code);\n",
       "                        }\n",
       "                        break;\n",
       "                    }\n",
       "                }\n",
       "            }, 500);\n",
       "            "
      ],
      "text/plain": [
       "<IPython.core.display.Javascript object>"
      ]
     },
     "metadata": {},
     "output_type": "display_data"
    }
   ],
   "source": [
    "generate_percentage_differences(calc_cum_emis(data_of_interest))"
   ]
  },
  {
   "cell_type": "markdown",
   "id": "2844c808",
   "metadata": {},
   "source": [
    "# Infill other gases\n",
    "We now have a scenario extended to 2100, now we need to split the GHG emissions into individual species"
   ]
  },
  {
   "cell_type": "code",
   "execution_count": 73,
   "id": "21371858",
   "metadata": {},
   "outputs": [
    {
     "data": {
      "application/javascript": [
       "\n",
       "            setTimeout(function() {\n",
       "                var nbb_cell_id = 73;\n",
       "                var nbb_unformatted_code = \"magicc_required_variables = [\\n    \\\"Emissions|BC\\\",\\n    \\\"Emissions|C2F6\\\",\\n    \\\"Emissions|C6F14\\\",\\n    \\\"Emissions|CF4\\\",\\n    \\\"Emissions|CH4\\\",\\n    \\\"Emissions|CO\\\",\\n#     \\\"Emissions|CO2|MAGICC AFOLU\\\",\\n    \\\"Emissions|CO2|MAGICC Fossil and Industrial\\\",\\n    \\\"Emissions|HFC125\\\",\\n    \\\"Emissions|HFC134a\\\",\\n    \\\"Emissions|HFC143a\\\",\\n    \\\"Emissions|HFC227ea\\\",\\n    \\\"Emissions|HFC23\\\",\\n    \\\"Emissions|HFC245fa\\\",\\n    \\\"Emissions|HFC32\\\",\\n    \\\"Emissions|HFC4310\\\",\\n    \\\"Emissions|N2O\\\",\\n    \\\"Emissions|NH3\\\",\\n    \\\"Emissions|NMVOC\\\",\\n    \\\"Emissions|NOx\\\",\\n    \\\"Emissions|OC\\\",\\n    \\\"Emissions|SF6\\\",\\n    \\\"Emissions|SOx\\\",\\n]\";\n",
       "                var nbb_formatted_code = \"magicc_required_variables = [\\n    \\\"Emissions|BC\\\",\\n    \\\"Emissions|C2F6\\\",\\n    \\\"Emissions|C6F14\\\",\\n    \\\"Emissions|CF4\\\",\\n    \\\"Emissions|CH4\\\",\\n    \\\"Emissions|CO\\\",\\n    #     \\\"Emissions|CO2|MAGICC AFOLU\\\",\\n    \\\"Emissions|CO2|MAGICC Fossil and Industrial\\\",\\n    \\\"Emissions|HFC125\\\",\\n    \\\"Emissions|HFC134a\\\",\\n    \\\"Emissions|HFC143a\\\",\\n    \\\"Emissions|HFC227ea\\\",\\n    \\\"Emissions|HFC23\\\",\\n    \\\"Emissions|HFC245fa\\\",\\n    \\\"Emissions|HFC32\\\",\\n    \\\"Emissions|HFC4310\\\",\\n    \\\"Emissions|N2O\\\",\\n    \\\"Emissions|NH3\\\",\\n    \\\"Emissions|NMVOC\\\",\\n    \\\"Emissions|NOx\\\",\\n    \\\"Emissions|OC\\\",\\n    \\\"Emissions|SF6\\\",\\n    \\\"Emissions|SOx\\\",\\n]\";\n",
       "                var nbb_cells = Jupyter.notebook.get_cells();\n",
       "                for (var i = 0; i < nbb_cells.length; ++i) {\n",
       "                    if (nbb_cells[i].input_prompt_number == nbb_cell_id) {\n",
       "                        if (nbb_cells[i].get_text() == nbb_unformatted_code) {\n",
       "                             nbb_cells[i].set_text(nbb_formatted_code);\n",
       "                        }\n",
       "                        break;\n",
       "                    }\n",
       "                }\n",
       "            }, 500);\n",
       "            "
      ],
      "text/plain": [
       "<IPython.core.display.Javascript object>"
      ]
     },
     "metadata": {},
     "output_type": "display_data"
    }
   ],
   "source": [
    "magicc_required_variables = [\n",
    "    \"Emissions|BC\",\n",
    "    \"Emissions|C2F6\",\n",
    "    \"Emissions|C6F14\",\n",
    "    \"Emissions|CF4\",\n",
    "    \"Emissions|CH4\",\n",
    "    \"Emissions|CO\",\n",
    "#     \"Emissions|CO2|MAGICC AFOLU\",\n",
    "    \"Emissions|CO2|MAGICC Fossil and Industrial\",\n",
    "    \"Emissions|HFC125\",\n",
    "    \"Emissions|HFC134a\",\n",
    "    \"Emissions|HFC143a\",\n",
    "    \"Emissions|HFC227ea\",\n",
    "    \"Emissions|HFC23\",\n",
    "    \"Emissions|HFC245fa\",\n",
    "    \"Emissions|HFC32\",\n",
    "    \"Emissions|HFC4310\",\n",
    "    \"Emissions|N2O\",\n",
    "    \"Emissions|NH3\",\n",
    "    \"Emissions|NMVOC\",\n",
    "    \"Emissions|NOx\",\n",
    "    \"Emissions|OC\",\n",
    "    \"Emissions|SF6\",\n",
    "    \"Emissions|SOx\",\n",
    "]\n"
   ]
  },
  {
   "cell_type": "code",
   "execution_count": 74,
   "id": "3b230cb7",
   "metadata": {},
   "outputs": [
    {
     "data": {
      "text/plain": [
       "[2015,\n",
       " 2020,\n",
       " 2025,\n",
       " 2030,\n",
       " 2035,\n",
       " 2040,\n",
       " 2045,\n",
       " 2050,\n",
       " 2055,\n",
       " 2060,\n",
       " 2065,\n",
       " 2070,\n",
       " 2075,\n",
       " 2080,\n",
       " 2085,\n",
       " 2090,\n",
       " 2095,\n",
       " 2100]"
      ]
     },
     "execution_count": 74,
     "metadata": {},
     "output_type": "execute_result"
    },
    {
     "data": {
      "application/javascript": [
       "\n",
       "            setTimeout(function() {\n",
       "                var nbb_cell_id = 74;\n",
       "                var nbb_unformatted_code = \"YEARS_TO_INFILL = [2015] + list(range(2020, 2100 + 1, 5))\\nYEARS_TO_INFILL\";\n",
       "                var nbb_formatted_code = \"YEARS_TO_INFILL = [2015] + list(range(2020, 2100 + 1, 5))\\nYEARS_TO_INFILL\";\n",
       "                var nbb_cells = Jupyter.notebook.get_cells();\n",
       "                for (var i = 0; i < nbb_cells.length; ++i) {\n",
       "                    if (nbb_cells[i].input_prompt_number == nbb_cell_id) {\n",
       "                        if (nbb_cells[i].get_text() == nbb_unformatted_code) {\n",
       "                             nbb_cells[i].set_text(nbb_formatted_code);\n",
       "                        }\n",
       "                        break;\n",
       "                    }\n",
       "                }\n",
       "            }, 500);\n",
       "            "
      ],
      "text/plain": [
       "<IPython.core.display.Javascript object>"
      ]
     },
     "metadata": {},
     "output_type": "display_data"
    }
   ],
   "source": [
    "YEARS_TO_INFILL = [2015] + list(range(2020, 2100 + 1, 5))\n",
    "YEARS_TO_INFILL"
   ]
  },
  {
   "cell_type": "code",
   "execution_count": 75,
   "id": "c671ac0e",
   "metadata": {},
   "outputs": [
    {
     "data": {
      "text/plain": [
       "['model',\n",
       " 'scenario',\n",
       " 'region',\n",
       " 'variable',\n",
       " 'unit',\n",
       " 'time',\n",
       " 'climate_model',\n",
       " 'id',\n",
       " 'stage',\n",
       " 'todo']"
      ]
     },
     "execution_count": 75,
     "metadata": {},
     "output_type": "execute_result"
    },
    {
     "data": {
      "application/javascript": [
       "\n",
       "            setTimeout(function() {\n",
       "                var nbb_cell_id = 75;\n",
       "                var nbb_unformatted_code = \"infilling_database = sr15_data_cleaned.filter(year=YEARS_TO_INFILL).to_iamdataframe()\\ninfilling_database.dimensions\";\n",
       "                var nbb_formatted_code = \"infilling_database = sr15_data_cleaned.filter(year=YEARS_TO_INFILL).to_iamdataframe()\\ninfilling_database.dimensions\";\n",
       "                var nbb_cells = Jupyter.notebook.get_cells();\n",
       "                for (var i = 0; i < nbb_cells.length; ++i) {\n",
       "                    if (nbb_cells[i].input_prompt_number == nbb_cell_id) {\n",
       "                        if (nbb_cells[i].get_text() == nbb_unformatted_code) {\n",
       "                             nbb_cells[i].set_text(nbb_formatted_code);\n",
       "                        }\n",
       "                        break;\n",
       "                    }\n",
       "                }\n",
       "            }, 500);\n",
       "            "
      ],
      "text/plain": [
       "<IPython.core.display.Javascript object>"
      ]
     },
     "metadata": {},
     "output_type": "display_data"
    }
   ],
   "source": [
    "infilling_database = sr15_data_cleaned.filter(year=YEARS_TO_INFILL).to_iamdataframe()\n",
    "infilling_database.dimensions"
   ]
  },
  {
   "cell_type": "code",
   "execution_count": null,
   "id": "eaffbe70",
   "metadata": {
    "scrolled": false
   },
   "outputs": [
    {
     "data": {
      "application/vnd.jupyter.widget-view+json": {
       "model_id": "e9117ad5ca0746cd862a40762c72b3b2",
       "version_major": 2,
       "version_minor": 0
      },
      "text/plain": [
       "Variable:   0%|          | 0/22 [00:00<?, ?it/s]"
      ]
     },
     "metadata": {},
     "output_type": "display_data"
    }
   ],
   "source": [
    "def infill_scenarios(scenario):\n",
    "    infilling_database = (\n",
    "        sr15_data_cleaned.filter(year=YEARS_TO_INFILL)\n",
    "        .drop_meta([\"climate_model\", \"id\", \"todo\"])\n",
    "        .copy()\n",
    "        .to_iamdataframe()\n",
    "    )\n",
    "    infilled_scenario = scenario.filter(year=YEARS_TO_INFILL).copy().to_iamdataframe()\n",
    "\n",
    "    cruncher = EqualQuantileWalk_MM(\n",
    "        infilling_database, bottom_up_gases=kyoto_ghg_exclude_co2_vars\n",
    "    )\n",
    "    for variable in tqdm(magicc_required_variables, desc=\"Variable\", leave=False):\n",
    "        infiller = cruncher.derive_relationship(variable, [LEAD])\n",
    "\n",
    "        infilled = scmdata.ScmRun(infiller(infilled_scenario)).copy().to_iamdataframe()\n",
    "        infilled_scenario.append(infilled, inplace=True)\n",
    "    return scmdata.ScmRun(infilled_scenario)\n",
    "\n",
    "\n",
    "infilled_scenario = infill_scenarios(extended_scenario_sample)"
   ]
  },
  {
   "cell_type": "code",
   "execution_count": null,
   "id": "44b910f0",
   "metadata": {},
   "outputs": [],
   "source": [
    "infilled_scenario.get_unique_meta(\"variable\")"
   ]
  },
  {
   "cell_type": "markdown",
   "id": "1b90b65c",
   "metadata": {},
   "source": [
    "# Check the infilling"
   ]
  },
  {
   "cell_type": "code",
   "execution_count": null,
   "id": "ef8f677c",
   "metadata": {},
   "outputs": [],
   "source": [
    "infilled_scenario.filter(\n",
    "    variable=\"Emissions|GHG excl CO2 AFOLU (AR6GWP100)\"\n",
    ").timeseries()"
   ]
  },
  {
   "cell_type": "code",
   "execution_count": null,
   "id": "523402a2",
   "metadata": {},
   "outputs": [],
   "source": [
    "infilled_scenario_ghg = calc_ghg(\n",
    "    infilled_scenario, include_vars=kyoto_ghg_exclude_co2_vars, context=CONTEXT\n",
    ")\n",
    "infilled_scenario_ghg[\"stage\"] = \"infilled\""
   ]
  },
  {
   "cell_type": "code",
   "execution_count": null,
   "id": "46f0205b",
   "metadata": {},
   "outputs": [],
   "source": [
    "plt.title(\"Emissions|GHG excl CO2 AFOLU (AR6GWP100)\")\n",
    "scmdata.run_append(\n",
    "    [\n",
    "        infilled_scenario.filter(variable=LEAD),\n",
    "        infilled_scenario_ghg,\n",
    "    ]\n",
    ").lineplot(hue=\"scenario\", style=\"stage\")"
   ]
  },
  {
   "cell_type": "code",
   "execution_count": null,
   "id": "03d83eee",
   "metadata": {},
   "outputs": [],
   "source": [
    "cum_ghg_emis = calc_cum_emis(\n",
    "    scmdata.run_append(\n",
    "        [\n",
    "            infilled_scenario.filter(variable=LEAD),\n",
    "            infilled_scenario_ghg,\n",
    "        ]\n",
    "    )\n",
    "    .filter(year=range(2020, 2101))\n",
    "    .resample(\"AS\")\n",
    ")"
   ]
  },
  {
   "cell_type": "code",
   "execution_count": null,
   "id": "f8c92310",
   "metadata": {},
   "outputs": [],
   "source": [
    "generate_percentage_differences(cum_ghg_emis)"
   ]
  },
  {
   "cell_type": "code",
   "execution_count": null,
   "id": "a852d0f9",
   "metadata": {},
   "outputs": [],
   "source": [
    "infilled_scenario.filter(\n",
    "    variable=\"Emissions|GHG excl CO2 AFOLU (AR6GWP100)*\"\n",
    ").timeseries()"
   ]
  },
  {
   "cell_type": "code",
   "execution_count": null,
   "id": "7e0c58c5",
   "metadata": {},
   "outputs": [],
   "source": [
    "infilled_scenarios_all = infill_scenarios(extended_scenario_all)"
   ]
  },
  {
   "cell_type": "code",
   "execution_count": null,
   "id": "b5c1f7a1",
   "metadata": {},
   "outputs": [],
   "source": [
    "infilled_scenarios_ghg_all = calc_ghg(\n",
    "    infilled_scenarios_all, include_vars=kyoto_ghg_exclude_co2_vars, context=CONTEXT\n",
    ")\n",
    "infilled_scenarios_ghg_all[\"stage\"] = \"infilled\"\n",
    "cum_ghg_emis_all = calc_cum_emis(\n",
    "    scmdata.run_append(\n",
    "        [\n",
    "            infilled_scenarios_all.filter(variable=LEAD),\n",
    "            infilled_scenarios_ghg_all,\n",
    "        ]\n",
    "    )\n",
    "    .filter(year=range(2020, 2101))\n",
    "    .resample(\"AS\")\n",
    ")\n",
    "pct_diffs = generate_percentage_differences(cum_ghg_emis_all)\n",
    "pct_diffs"
   ]
  },
  {
   "cell_type": "code",
   "execution_count": null,
   "id": "b7023364",
   "metadata": {},
   "outputs": [],
   "source": [
    "pct_diffs.describe()"
   ]
  },
  {
   "cell_type": "code",
   "execution_count": null,
   "id": "80812dad",
   "metadata": {},
   "outputs": [],
   "source": [
    "for_seaborn = cum_ghg_emis_all.filter(year=2100).timeseries().unstack(\"stage\")\n",
    "for_seaborn.columns = for_seaborn.columns.get_level_values(\"stage\")\n",
    "for_seaborn.index = for_seaborn.index.get_level_values(\"scenario\")\n",
    "\n",
    "for_seaborn = pd.merge(for_seaborn, pct_diffs, left_index=True, right_index=True)\n",
    "\n",
    "sns.scatterplot(data=for_seaborn, x=\"extended\", y=\"pct_change\")"
   ]
  },
  {
   "cell_type": "code",
   "execution_count": null,
   "id": "fbd1d9d5",
   "metadata": {
    "scrolled": false
   },
   "outputs": [],
   "source": [
    "num_plots = len(magicc_required_variables)\n",
    "\n",
    "fig = plt.figure(figsize=(16, 8 * num_plots))\n",
    "axs = fig.subplots(num_plots, sharex=True)\n",
    "\n",
    "for i, v in enumerate(magicc_required_variables[:num_plots]):\n",
    "    ax = axs[i]\n",
    "    pkwargs = {\n",
    "        \"hue\": None,\n",
    "        \"color\": \"0.7\",\n",
    "        \"lw\": 0.6,\n",
    "        \"alpha\": 0.4,\n",
    "        \"units\": \"id\",\n",
    "        \"estimator\": None,\n",
    "        \"legend\": False,\n",
    "    }\n",
    "\n",
    "    sr15_data_cleaned.filter(year=YEARS_TO_INFILL, variable=v).lineplot(\n",
    "        ax=ax, **pkwargs\n",
    "    )\n",
    "    infilled_scenarios_all.filter(\n",
    "        variable=v, exclude_hot_air=\"exclude\", pathway_id=\"2021-11-09_1\"\n",
    "    ).lineplot(\n",
    "        ax=ax,\n",
    "        legend=False,\n",
    "        style=\"country_extension\",\n",
    "        units=\"scenario\",\n",
    "        estimator=None,\n",
    "    )\n",
    "    ax.set_title(v)"
   ]
  },
  {
   "cell_type": "code",
   "execution_count": null,
   "id": "b706f8a9",
   "metadata": {},
   "outputs": [],
   "source": [
    "infilled_scenarios_all.head()"
   ]
  },
  {
   "cell_type": "markdown",
   "id": "38ee83a4",
   "metadata": {},
   "source": [
    "## Add AFOLU"
   ]
  },
  {
   "cell_type": "code",
   "execution_count": null,
   "id": "5946d2d3",
   "metadata": {},
   "outputs": [],
   "source": [
    "AFOLU_SELECTED_SCENARIO = \"Adjusted NDCs FOLU (SSP1-1.9)\""
   ]
  },
  {
   "cell_type": "code",
   "execution_count": null,
   "id": "e3e59228",
   "metadata": {},
   "outputs": [],
   "source": [
    "afolu = scmdata.ScmRun(\n",
    "    os.path.join(\n",
    "        PROCESSED_DATA_DIR, \"global_emissions\", NDC_TARGET_RELEASE, \"landuse.csv\"\n",
    "    )\n",
    ").convert_unit(\"Mt CO2 / yr\")\n",
    "afolu"
   ]
  },
  {
   "cell_type": "code",
   "execution_count": null,
   "id": "fc25f3c4",
   "metadata": {},
   "outputs": [],
   "source": [
    "afolu.lineplot(hue=\"scenario\")"
   ]
  },
  {
   "cell_type": "code",
   "execution_count": null,
   "id": "66997459",
   "metadata": {},
   "outputs": [],
   "source": [
    "selected_afolu = afolu.filter(\n",
    "    scenario=AFOLU_SELECTED_SCENARIO, year=range(2000, 2101)\n",
    ").convert_unit(\"Mt CO2 / yr\")\n",
    "selected_afolu[\"variable\"] = \"Emission|CO2|MAGICC AFOLU\"\n",
    "selected_afolu"
   ]
  },
  {
   "cell_type": "code",
   "execution_count": null,
   "id": "fc62cba1",
   "metadata": {},
   "outputs": [],
   "source": [
    "sr15_afolu = sr15_data_cleaned.filter(\n",
    "    variable=\"Emissions|CO2|MAGICC AFOLU\"\n",
    ").convert_unit(\"Mt CO2 / yr\")"
   ]
  },
  {
   "cell_type": "code",
   "execution_count": null,
   "id": "7615db12",
   "metadata": {},
   "outputs": [],
   "source": [
    "extended_afolu = extend_timeseries(\n",
    "    sr15_afolu, selected_afolu, lead=\"Emissions|CO2|MAGICC AFOLU\"\n",
    ")\n",
    "extended_afolu"
   ]
  },
  {
   "cell_type": "code",
   "execution_count": null,
   "id": "6a002af4",
   "metadata": {},
   "outputs": [],
   "source": [
    "pkwargs = {\n",
    "    \"hue\": None,\n",
    "    \"color\": \"0.7\",\n",
    "    \"lw\": 0.6,\n",
    "    \"alpha\": 0.4,\n",
    "    \"units\": \"id\",\n",
    "    \"estimator\": None,\n",
    "    \"legend\": False,\n",
    "}\n",
    "\n",
    "fig = plt.figure(figsize=(16, 9))\n",
    "ax = fig.add_subplot(121)\n",
    "\n",
    "sr15_afolu.lineplot(ax=ax, **pkwargs)\n",
    "extended_afolu.lineplot(ax=ax, linestyle=\"--\", dashes=(10, 15), label=\"To infill\")\n",
    "selected_afolu.lineplot(ax=ax, label=\"Original\")\n",
    "ax.set_title(\"Database CO$_2$|AFOLU and lead emissions timeseries\")"
   ]
  },
  {
   "cell_type": "code",
   "execution_count": null,
   "id": "1f696b07",
   "metadata": {},
   "outputs": [],
   "source": [
    "def add_afolu(scenario):\n",
    "    infilled_scenario_complete = (\n",
    "        scenario.append(extended_afolu).filter(year=range(2000, 2101)).resample(\"AS\")\n",
    "    )\n",
    "    infilled_scenario_complete[\"global_extension\"] = \"eqw\"\n",
    "    infilled_scenario_complete[\"ambition\"] = scenario.get_unique_meta(\"ambition\")\n",
    "    infilled_scenario_complete[\"conditionality\"] = scenario.get_unique_meta(\n",
    "        \"conditionality\"\n",
    "    )\n",
    "    infilled_scenario_complete[\"exclude_hot_air\"] = scenario.get_unique_meta(\n",
    "        \"exclude_hot_air\"\n",
    "    )\n",
    "    infilled_scenario_complete[\"country_extension\"] = scenario.get_unique_meta(\n",
    "        \"country_extension\"\n",
    "    )\n",
    "    infilled_scenario_complete[\"pathway_id\"] = scenario.get_unique_meta(\"pathway_id\")\n",
    "    infilled_scenario_complete[\"stage\"] = \"infilled\"\n",
    "\n",
    "    infilled_scenario_complete[\"scenario\"] = scenario.get_unique_meta(\"scenario\")\n",
    "\n",
    "    return infilled_scenario_complete"
   ]
  },
  {
   "cell_type": "code",
   "execution_count": null,
   "id": "edb4efd0",
   "metadata": {},
   "outputs": [],
   "source": [
    "infilled_scenarios_complete_all = []\n",
    "\n",
    "for infilled_scenario in tqdm(\n",
    "    infilled_scenarios_all.groupby(\n",
    "        [\n",
    "            \"ambition\",\n",
    "            \"conditionality\",\n",
    "            \"country_extension\",\n",
    "            \"exclude_hot_air\",\n",
    "            \"pathway_id\",\n",
    "        ]\n",
    "    )\n",
    "):\n",
    "    infilled_scenario_complete = add_afolu(infilled_scenario)\n",
    "    infilled_scenarios_complete_all.append(infilled_scenario_complete)\n",
    "\n",
    "infilled_scenarios_complete_all = scmdata.run_append(infilled_scenarios_complete_all)"
   ]
  },
  {
   "cell_type": "code",
   "execution_count": null,
   "id": "99308d57",
   "metadata": {},
   "outputs": [],
   "source": [
    "infilled_scenario_complete.timeseries()"
   ]
  },
  {
   "cell_type": "code",
   "execution_count": null,
   "id": "7d72a84a",
   "metadata": {},
   "outputs": [],
   "source": [
    "infilled_scenarios_complete_all.timeseries()"
   ]
  },
  {
   "cell_type": "code",
   "execution_count": null,
   "id": "e797fddd",
   "metadata": {},
   "outputs": [],
   "source": [
    "infilled_scenarios_complete_all"
   ]
  },
  {
   "cell_type": "code",
   "execution_count": null,
   "id": "2d700b7c",
   "metadata": {},
   "outputs": [],
   "source": [
    "global_db.delete(global_extension=\"eqw\")\n",
    "\n",
    "global_db.save(\n",
    "    infilled_scenarios_complete_all.drop_meta(\n",
    "        [\"last_country\", \"pathway_num\", \"pathway_num_today\", \"date\"]\n",
    "    )\n",
    ")"
   ]
  },
  {
   "cell_type": "code",
   "execution_count": null,
   "id": "7c936fab",
   "metadata": {},
   "outputs": [],
   "source": [
    "infilled_scenarios_complete_all.meta[\n",
    "    [\"ambition\", \"conditionality\", \"country_extension\", \"exclude_hot_air\"]\n",
    "].drop_duplicates()"
   ]
  },
  {
   "cell_type": "code",
   "execution_count": null,
   "id": "65c85a06",
   "metadata": {},
   "outputs": [],
   "source": [
    "for c in [\n",
    "    \"ambition\",\n",
    "    \"conditionality\",\n",
    "    \"country_extension\",\n",
    "    \"exclude_hot_air\",\n",
    "    \"pathway_id\",\n",
    "]:\n",
    "    print(infilled_scenarios_complete_all.get_unique_meta(c))"
   ]
  },
  {
   "cell_type": "code",
   "execution_count": 50,
   "id": "49462cf8",
   "metadata": {
    "pycharm": {
     "name": "#%%\n"
    }
   },
   "outputs": [
    {
     "data": {
      "text/html": [
       "<div>\n",
       "<style scoped>\n",
       "    .dataframe tbody tr th:only-of-type {\n",
       "        vertical-align: middle;\n",
       "    }\n",
       "\n",
       "    .dataframe tbody tr th {\n",
       "        vertical-align: top;\n",
       "    }\n",
       "\n",
       "    .dataframe thead th {\n",
       "        text-align: right;\n",
       "    }\n",
       "</style>\n",
       "<table border=\"1\" class=\"dataframe\">\n",
       "  <thead>\n",
       "    <tr style=\"text-align: right;\">\n",
       "      <th></th>\n",
       "      <th>pathway_id</th>\n",
       "    </tr>\n",
       "  </thead>\n",
       "  <tbody>\n",
       "    <tr>\n",
       "      <th>0</th>\n",
       "      <td>2021-11-09_1</td>\n",
       "    </tr>\n",
       "    <tr>\n",
       "      <th>48</th>\n",
       "      <td>2013-07-18_1</td>\n",
       "    </tr>\n",
       "    <tr>\n",
       "      <th>72</th>\n",
       "      <td>2013-07-18_2</td>\n",
       "    </tr>\n",
       "    <tr>\n",
       "      <th>96</th>\n",
       "      <td>2013-07-18_3</td>\n",
       "    </tr>\n",
       "    <tr>\n",
       "      <th>120</th>\n",
       "      <td>2015-08-05_1</td>\n",
       "    </tr>\n",
       "    <tr>\n",
       "      <th>144</th>\n",
       "      <td>2015-09-26_1</td>\n",
       "    </tr>\n",
       "    <tr>\n",
       "      <th>168</th>\n",
       "      <td>2015-09-30_1</td>\n",
       "    </tr>\n",
       "    <tr>\n",
       "      <th>192</th>\n",
       "      <td>2015-09-30_2</td>\n",
       "    </tr>\n",
       "    <tr>\n",
       "      <th>216</th>\n",
       "      <td>2015-10-01_1</td>\n",
       "    </tr>\n",
       "    <tr>\n",
       "      <th>240</th>\n",
       "      <td>2015-10-01_2</td>\n",
       "    </tr>\n",
       "    <tr>\n",
       "      <th>...</th>\n",
       "      <td>...</td>\n",
       "    </tr>\n",
       "    <tr>\n",
       "      <th>8280</th>\n",
       "      <td>2021-10-19_1</td>\n",
       "    </tr>\n",
       "    <tr>\n",
       "      <th>8304</th>\n",
       "      <td>2021-10-21_1</td>\n",
       "    </tr>\n",
       "    <tr>\n",
       "      <th>8328</th>\n",
       "      <td>2021-10-22_1</td>\n",
       "    </tr>\n",
       "    <tr>\n",
       "      <th>8352</th>\n",
       "      <td>2021-10-23_1</td>\n",
       "    </tr>\n",
       "    <tr>\n",
       "      <th>8376</th>\n",
       "      <td>2021-10-25_1</td>\n",
       "    </tr>\n",
       "    <tr>\n",
       "      <th>8400</th>\n",
       "      <td>2021-10-28_1</td>\n",
       "    </tr>\n",
       "    <tr>\n",
       "      <th>8424</th>\n",
       "      <td>2021-10-28_2</td>\n",
       "    </tr>\n",
       "    <tr>\n",
       "      <th>8448</th>\n",
       "      <td>2021-10-30_1</td>\n",
       "    </tr>\n",
       "    <tr>\n",
       "      <th>8472</th>\n",
       "      <td>2021-11-01_1</td>\n",
       "    </tr>\n",
       "    <tr>\n",
       "      <th>8496</th>\n",
       "      <td>2021-11-03_1</td>\n",
       "    </tr>\n",
       "  </tbody>\n",
       "</table>\n",
       "<p>354 rows × 1 columns</p>\n",
       "</div>"
      ],
      "text/plain": [
       "        pathway_id\n",
       "0     2021-11-09_1\n",
       "48    2013-07-18_1\n",
       "72    2013-07-18_2\n",
       "96    2013-07-18_3\n",
       "120   2015-08-05_1\n",
       "144   2015-09-26_1\n",
       "168   2015-09-30_1\n",
       "192   2015-09-30_2\n",
       "216   2015-10-01_1\n",
       "240   2015-10-01_2\n",
       "...            ...\n",
       "8280  2021-10-19_1\n",
       "8304  2021-10-21_1\n",
       "8328  2021-10-22_1\n",
       "8352  2021-10-23_1\n",
       "8376  2021-10-25_1\n",
       "8400  2021-10-28_1\n",
       "8424  2021-10-28_2\n",
       "8448  2021-10-30_1\n",
       "8472  2021-11-01_1\n",
       "8496  2021-11-03_1\n",
       "\n",
       "[354 rows x 1 columns]"
      ]
     },
     "execution_count": 50,
     "metadata": {},
     "output_type": "execute_result"
    },
    {
     "data": {
      "application/javascript": [
       "\n",
       "            setTimeout(function() {\n",
       "                var nbb_cell_id = 50;\n",
       "                var nbb_unformatted_code = \"infilled_scenarios_complete_all.meta[[\\\"pathway_id\\\"]].drop_duplicates()\";\n",
       "                var nbb_formatted_code = \"infilled_scenarios_complete_all.meta[[\\\"pathway_id\\\"]].drop_duplicates()\";\n",
       "                var nbb_cells = Jupyter.notebook.get_cells();\n",
       "                for (var i = 0; i < nbb_cells.length; ++i) {\n",
       "                    if (nbb_cells[i].input_prompt_number == nbb_cell_id) {\n",
       "                        if (nbb_cells[i].get_text() == nbb_unformatted_code) {\n",
       "                             nbb_cells[i].set_text(nbb_formatted_code);\n",
       "                        }\n",
       "                        break;\n",
       "                    }\n",
       "                }\n",
       "            }, 500);\n",
       "            "
      ],
      "text/plain": [
       "<IPython.core.display.Javascript object>"
      ]
     },
     "metadata": {},
     "output_type": "display_data"
    }
   ],
   "source": [
    "infilled_scenarios_complete_all.meta[[\"pathway_id\"]].drop_duplicates()"
   ]
  },
  {
   "cell_type": "code",
   "execution_count": null,
   "id": "e7a77ca7",
   "metadata": {},
   "outputs": [],
   "source": []
  }
 ],
 "metadata": {
  "kernelspec": {
   "display_name": "Python 3 (ipykernel)",
   "language": "python",
   "name": "python3"
  },
  "language_info": {
   "codemirror_mode": {
    "name": "ipython",
    "version": 3
   },
   "file_extension": ".py",
   "mimetype": "text/x-python",
   "name": "python",
   "nbconvert_exporter": "python",
   "pygments_lexer": "ipython3",
   "version": "3.9.9"
  }
 },
 "nbformat": 4,
 "nbformat_minor": 5
}