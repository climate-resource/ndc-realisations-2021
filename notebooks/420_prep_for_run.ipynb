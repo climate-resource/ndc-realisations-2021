{
 "cells": [
  {
   "cell_type": "markdown",
   "id": "97597e42",
   "metadata": {},
   "source": [
    "# Prep for batch run\n",
    "\n",
    "Filters, renames and writes to climate-assessment"
   ]
  },
  {
   "cell_type": "code",
   "execution_count": 1,
   "id": "0edaf76c",
   "metadata": {},
   "outputs": [
    {
     "data": {
      "application/javascript": [
       "\n",
       "            setTimeout(function() {\n",
       "                var nbb_cell_id = 1;\n",
       "                var nbb_unformatted_code = \"%load_ext nb_black\";\n",
       "                var nbb_formatted_code = \"%load_ext nb_black\";\n",
       "                var nbb_cells = Jupyter.notebook.get_cells();\n",
       "                for (var i = 0; i < nbb_cells.length; ++i) {\n",
       "                    if (nbb_cells[i].input_prompt_number == nbb_cell_id) {\n",
       "                        if (nbb_cells[i].get_text() == nbb_unformatted_code) {\n",
       "                             nbb_cells[i].set_text(nbb_formatted_code);\n",
       "                        }\n",
       "                        break;\n",
       "                    }\n",
       "                }\n",
       "            }, 500);\n",
       "            "
      ],
      "text/plain": [
       "<IPython.core.display.Javascript object>"
      ]
     },
     "metadata": {},
     "output_type": "display_data"
    }
   ],
   "source": [
    "%load_ext nb_black"
   ]
  },
  {
   "cell_type": "code",
   "execution_count": 2,
   "id": "e942109f",
   "metadata": {},
   "outputs": [
    {
     "data": {
      "application/javascript": [
       "\n",
       "            setTimeout(function() {\n",
       "                var nbb_cell_id = 2;\n",
       "                var nbb_unformatted_code = \"%load_ext autoreload\\n%autoreload 2\";\n",
       "                var nbb_formatted_code = \"%load_ext autoreload\\n%autoreload 2\";\n",
       "                var nbb_cells = Jupyter.notebook.get_cells();\n",
       "                for (var i = 0; i < nbb_cells.length; ++i) {\n",
       "                    if (nbb_cells[i].input_prompt_number == nbb_cell_id) {\n",
       "                        if (nbb_cells[i].get_text() == nbb_unformatted_code) {\n",
       "                             nbb_cells[i].set_text(nbb_formatted_code);\n",
       "                        }\n",
       "                        break;\n",
       "                    }\n",
       "                }\n",
       "            }, 500);\n",
       "            "
      ],
      "text/plain": [
       "<IPython.core.display.Javascript object>"
      ]
     },
     "metadata": {},
     "output_type": "display_data"
    }
   ],
   "source": [
    "%load_ext autoreload\n",
    "%autoreload 2"
   ]
  },
  {
   "cell_type": "code",
   "execution_count": 3,
   "id": "08c35492",
   "metadata": {},
   "outputs": [
    {
     "data": {
      "application/javascript": [
       "IPython.OutputArea.prototype._should_scroll = function(lines) { return false; }"
      ],
      "text/plain": [
       "<IPython.core.display.Javascript object>"
      ]
     },
     "metadata": {},
     "output_type": "display_data"
    },
    {
     "data": {
      "application/javascript": [
       "\n",
       "            setTimeout(function() {\n",
       "                var nbb_cell_id = 3;\n",
       "                var nbb_unformatted_code = \"import os.path\\nfrom glob import glob\\nimport json\\n\\nimport matplotlib.pyplot as plt\\nimport numpy as np\\nimport scmdata\\n\\nimport pyam\\nfrom ndcs.constants import PROCESSED_DATA_DIR, NDC_TARGET_RELEASE\";\n",
       "                var nbb_formatted_code = \"import os.path\\nfrom glob import glob\\nimport json\\n\\nimport matplotlib.pyplot as plt\\nimport numpy as np\\nimport scmdata\\n\\nimport pyam\\nfrom ndcs.constants import PROCESSED_DATA_DIR, NDC_TARGET_RELEASE\";\n",
       "                var nbb_cells = Jupyter.notebook.get_cells();\n",
       "                for (var i = 0; i < nbb_cells.length; ++i) {\n",
       "                    if (nbb_cells[i].input_prompt_number == nbb_cell_id) {\n",
       "                        if (nbb_cells[i].get_text() == nbb_unformatted_code) {\n",
       "                             nbb_cells[i].set_text(nbb_formatted_code);\n",
       "                        }\n",
       "                        break;\n",
       "                    }\n",
       "                }\n",
       "            }, 500);\n",
       "            "
      ],
      "text/plain": [
       "<IPython.core.display.Javascript object>"
      ]
     },
     "metadata": {},
     "output_type": "display_data"
    }
   ],
   "source": [
    "import os.path\n",
    "from glob import glob\n",
    "import json\n",
    "\n",
    "import matplotlib.pyplot as plt\n",
    "import numpy as np\n",
    "import scmdata\n",
    "\n",
    "import pyam\n",
    "from ndcs.constants import PROCESSED_DATA_DIR, NDC_TARGET_RELEASE"
   ]
  },
  {
   "cell_type": "code",
   "execution_count": 4,
   "id": "7f4af5df",
   "metadata": {},
   "outputs": [
    {
     "data": {
      "application/javascript": [
       "\n",
       "            setTimeout(function() {\n",
       "                var nbb_cell_id = 4;\n",
       "                var nbb_unformatted_code = \"plt.rcParams[\\\"figure.figsize\\\"] = (12, 8)\";\n",
       "                var nbb_formatted_code = \"plt.rcParams[\\\"figure.figsize\\\"] = (12, 8)\";\n",
       "                var nbb_cells = Jupyter.notebook.get_cells();\n",
       "                for (var i = 0; i < nbb_cells.length; ++i) {\n",
       "                    if (nbb_cells[i].input_prompt_number == nbb_cell_id) {\n",
       "                        if (nbb_cells[i].get_text() == nbb_unformatted_code) {\n",
       "                             nbb_cells[i].set_text(nbb_formatted_code);\n",
       "                        }\n",
       "                        break;\n",
       "                    }\n",
       "                }\n",
       "            }, 500);\n",
       "            "
      ],
      "text/plain": [
       "<IPython.core.display.Javascript object>"
      ]
     },
     "metadata": {},
     "output_type": "display_data"
    }
   ],
   "source": [
    "plt.rcParams[\"figure.figsize\"] = (12, 8)"
   ]
  },
  {
   "cell_type": "code",
   "execution_count": 5,
   "id": "b4b0821b",
   "metadata": {},
   "outputs": [
    {
     "data": {
      "application/javascript": [
       "\n",
       "            setTimeout(function() {\n",
       "                var nbb_cell_id = 5;\n",
       "                var nbb_unformatted_code = \"CLIMATE_ASSESSMENT = \\\"/home/jared/code/uom/climate-assessment\\\"\";\n",
       "                var nbb_formatted_code = \"CLIMATE_ASSESSMENT = \\\"/home/jared/code/uom/climate-assessment\\\"\";\n",
       "                var nbb_cells = Jupyter.notebook.get_cells();\n",
       "                for (var i = 0; i < nbb_cells.length; ++i) {\n",
       "                    if (nbb_cells[i].input_prompt_number == nbb_cell_id) {\n",
       "                        if (nbb_cells[i].get_text() == nbb_unformatted_code) {\n",
       "                             nbb_cells[i].set_text(nbb_formatted_code);\n",
       "                        }\n",
       "                        break;\n",
       "                    }\n",
       "                }\n",
       "            }, 500);\n",
       "            "
      ],
      "text/plain": [
       "<IPython.core.display.Javascript object>"
      ]
     },
     "metadata": {},
     "output_type": "display_data"
    }
   ],
   "source": [
    "CLIMATE_ASSESSMENT = \"/home/jared/code/uom/climate-assessment\""
   ]
  },
  {
   "cell_type": "code",
   "execution_count": 6,
   "id": "fc6a1221",
   "metadata": {},
   "outputs": [
    {
     "data": {
      "application/javascript": [
       "\n",
       "            setTimeout(function() {\n",
       "                var nbb_cell_id = 6;\n",
       "                var nbb_unformatted_code = \"scenarios = scmdata.ScmRun(\\n    os.path.join(\\n        PROCESSED_DATA_DIR, \\\"global_emissions\\\", NDC_TARGET_RELEASE, \\\"scenarios.csv\\\"\\n    )\\n)\";\n",
       "                var nbb_formatted_code = \"scenarios = scmdata.ScmRun(\\n    os.path.join(\\n        PROCESSED_DATA_DIR, \\\"global_emissions\\\", NDC_TARGET_RELEASE, \\\"scenarios.csv\\\"\\n    )\\n)\";\n",
       "                var nbb_cells = Jupyter.notebook.get_cells();\n",
       "                for (var i = 0; i < nbb_cells.length; ++i) {\n",
       "                    if (nbb_cells[i].input_prompt_number == nbb_cell_id) {\n",
       "                        if (nbb_cells[i].get_text() == nbb_unformatted_code) {\n",
       "                             nbb_cells[i].set_text(nbb_formatted_code);\n",
       "                        }\n",
       "                        break;\n",
       "                    }\n",
       "                }\n",
       "            }, 500);\n",
       "            "
      ],
      "text/plain": [
       "<IPython.core.display.Javascript object>"
      ]
     },
     "metadata": {},
     "output_type": "display_data"
    }
   ],
   "source": [
    "scenarios = scmdata.ScmRun(\n",
    "    os.path.join(\n",
    "        PROCESSED_DATA_DIR, \"global_emissions\", NDC_TARGET_RELEASE, \"scenarios.csv\"\n",
    "    )\n",
    ")"
   ]
  },
  {
   "cell_type": "code",
   "execution_count": 7,
   "id": "ad077037",
   "metadata": {},
   "outputs": [
    {
     "data": {
      "text/plain": [
       "354"
      ]
     },
     "execution_count": 7,
     "metadata": {},
     "output_type": "execute_result"
    },
    {
     "data": {
      "application/javascript": [
       "\n",
       "            setTimeout(function() {\n",
       "                var nbb_cell_id = 7;\n",
       "                var nbb_unformatted_code = \"len(scenarios.get_unique_meta(\\\"pathway_id\\\"))\";\n",
       "                var nbb_formatted_code = \"len(scenarios.get_unique_meta(\\\"pathway_id\\\"))\";\n",
       "                var nbb_cells = Jupyter.notebook.get_cells();\n",
       "                for (var i = 0; i < nbb_cells.length; ++i) {\n",
       "                    if (nbb_cells[i].input_prompt_number == nbb_cell_id) {\n",
       "                        if (nbb_cells[i].get_text() == nbb_unformatted_code) {\n",
       "                             nbb_cells[i].set_text(nbb_formatted_code);\n",
       "                        }\n",
       "                        break;\n",
       "                    }\n",
       "                }\n",
       "            }, 500);\n",
       "            "
      ],
      "text/plain": [
       "<IPython.core.display.Javascript object>"
      ]
     },
     "metadata": {},
     "output_type": "display_data"
    }
   ],
   "source": [
    "len(scenarios.get_unique_meta(\"pathway_id\"))"
   ]
  },
  {
   "cell_type": "code",
   "execution_count": 8,
   "id": "604d9ebf",
   "metadata": {},
   "outputs": [
    {
     "data": {
      "text/plain": [
       "1460"
      ]
     },
     "execution_count": 8,
     "metadata": {},
     "output_type": "execute_result"
    },
    {
     "data": {
      "application/javascript": [
       "\n",
       "            setTimeout(function() {\n",
       "                var nbb_cell_id = 8;\n",
       "                var nbb_unformatted_code = \"scenarios_to_run = scenarios\\nlen(scenarios_to_run.get_unique_meta(\\\"scenario\\\"))\";\n",
       "                var nbb_formatted_code = \"scenarios_to_run = scenarios\\nlen(scenarios_to_run.get_unique_meta(\\\"scenario\\\"))\";\n",
       "                var nbb_cells = Jupyter.notebook.get_cells();\n",
       "                for (var i = 0; i < nbb_cells.length; ++i) {\n",
       "                    if (nbb_cells[i].input_prompt_number == nbb_cell_id) {\n",
       "                        if (nbb_cells[i].get_text() == nbb_unformatted_code) {\n",
       "                             nbb_cells[i].set_text(nbb_formatted_code);\n",
       "                        }\n",
       "                        break;\n",
       "                    }\n",
       "                }\n",
       "            }, 500);\n",
       "            "
      ],
      "text/plain": [
       "<IPython.core.display.Javascript object>"
      ]
     },
     "metadata": {},
     "output_type": "display_data"
    }
   ],
   "source": [
    "scenarios_to_run = scenarios\n",
    "len(scenarios_to_run.get_unique_meta(\"scenario\"))"
   ]
  },
  {
   "cell_type": "code",
   "execution_count": 9,
   "id": "5c05333d",
   "metadata": {},
   "outputs": [
    {
     "data": {
      "text/html": [
       "<div>\n",
       "<style scoped>\n",
       "    .dataframe tbody tr th:only-of-type {\n",
       "        vertical-align: middle;\n",
       "    }\n",
       "\n",
       "    .dataframe tbody tr th {\n",
       "        vertical-align: top;\n",
       "    }\n",
       "\n",
       "    .dataframe thead th {\n",
       "        text-align: right;\n",
       "    }\n",
       "</style>\n",
       "<table border=\"1\" class=\"dataframe\">\n",
       "  <thead>\n",
       "    <tr style=\"text-align: right;\">\n",
       "      <th></th>\n",
       "      <th>ambition</th>\n",
       "      <th>conditionality</th>\n",
       "      <th>country_extension</th>\n",
       "      <th>exclude_hot_air</th>\n",
       "      <th>global_extension</th>\n",
       "      <th>model</th>\n",
       "      <th>model_version</th>\n",
       "      <th>pathway_id</th>\n",
       "      <th>region</th>\n",
       "      <th>scenario</th>\n",
       "      <th>stage</th>\n",
       "    </tr>\n",
       "  </thead>\n",
       "  <tbody>\n",
       "    <tr>\n",
       "      <th>0</th>\n",
       "      <td>high</td>\n",
       "      <td>C</td>\n",
       "      <td>SSP1BL</td>\n",
       "      <td>exclude</td>\n",
       "      <td>eqw</td>\n",
       "      <td>NDC Factsheet</td>\n",
       "      <td>12Nov2021a_CR</td>\n",
       "      <td>2013-07-18_1</td>\n",
       "      <td>World</td>\n",
       "      <td>2013-07-18_1__high__C__SSP1BL__exclude</td>\n",
       "      <td>infilled</td>\n",
       "    </tr>\n",
       "    <tr>\n",
       "      <th>23</th>\n",
       "      <td>high</td>\n",
       "      <td>C</td>\n",
       "      <td>SSP1BL</td>\n",
       "      <td>exclude</td>\n",
       "      <td>NaN</td>\n",
       "      <td>NDC Factsheet</td>\n",
       "      <td>12Nov2021a_CR</td>\n",
       "      <td>2013-07-18_1</td>\n",
       "      <td>World</td>\n",
       "      <td>2013-07-18_1__high__C__SSP1BL__exclude</td>\n",
       "      <td>NaN</td>\n",
       "    </tr>\n",
       "    <tr>\n",
       "      <th>52</th>\n",
       "      <td>high</td>\n",
       "      <td>U</td>\n",
       "      <td>SSP1BL</td>\n",
       "      <td>exclude</td>\n",
       "      <td>eqw</td>\n",
       "      <td>NDC Factsheet</td>\n",
       "      <td>12Nov2021a_CR</td>\n",
       "      <td>2013-07-18_1</td>\n",
       "      <td>World</td>\n",
       "      <td>2013-07-18_1__high__U__SSP1BL__exclude</td>\n",
       "      <td>infilled</td>\n",
       "    </tr>\n",
       "    <tr>\n",
       "      <th>75</th>\n",
       "      <td>high</td>\n",
       "      <td>U</td>\n",
       "      <td>SSP1BL</td>\n",
       "      <td>exclude</td>\n",
       "      <td>NaN</td>\n",
       "      <td>NDC Factsheet</td>\n",
       "      <td>12Nov2021a_CR</td>\n",
       "      <td>2013-07-18_1</td>\n",
       "      <td>World</td>\n",
       "      <td>2013-07-18_1__high__U__SSP1BL__exclude</td>\n",
       "      <td>NaN</td>\n",
       "    </tr>\n",
       "    <tr>\n",
       "      <th>104</th>\n",
       "      <td>low</td>\n",
       "      <td>C</td>\n",
       "      <td>SSP1BL</td>\n",
       "      <td>exclude</td>\n",
       "      <td>eqw</td>\n",
       "      <td>NDC Factsheet</td>\n",
       "      <td>12Nov2021a_CR</td>\n",
       "      <td>2013-07-18_1</td>\n",
       "      <td>World</td>\n",
       "      <td>2013-07-18_1__low__C__SSP1BL__exclude</td>\n",
       "      <td>infilled</td>\n",
       "    </tr>\n",
       "    <tr>\n",
       "      <th>127</th>\n",
       "      <td>low</td>\n",
       "      <td>C</td>\n",
       "      <td>SSP1BL</td>\n",
       "      <td>exclude</td>\n",
       "      <td>NaN</td>\n",
       "      <td>NDC Factsheet</td>\n",
       "      <td>12Nov2021a_CR</td>\n",
       "      <td>2013-07-18_1</td>\n",
       "      <td>World</td>\n",
       "      <td>2013-07-18_1__low__C__SSP1BL__exclude</td>\n",
       "      <td>NaN</td>\n",
       "    </tr>\n",
       "    <tr>\n",
       "      <th>156</th>\n",
       "      <td>low</td>\n",
       "      <td>U</td>\n",
       "      <td>SSP1BL</td>\n",
       "      <td>exclude</td>\n",
       "      <td>eqw</td>\n",
       "      <td>NDC Factsheet</td>\n",
       "      <td>12Nov2021a_CR</td>\n",
       "      <td>2013-07-18_1</td>\n",
       "      <td>World</td>\n",
       "      <td>2013-07-18_1__low__U__SSP1BL__exclude</td>\n",
       "      <td>infilled</td>\n",
       "    </tr>\n",
       "    <tr>\n",
       "      <th>179</th>\n",
       "      <td>low</td>\n",
       "      <td>U</td>\n",
       "      <td>SSP1BL</td>\n",
       "      <td>exclude</td>\n",
       "      <td>NaN</td>\n",
       "      <td>NDC Factsheet</td>\n",
       "      <td>12Nov2021a_CR</td>\n",
       "      <td>2013-07-18_1</td>\n",
       "      <td>World</td>\n",
       "      <td>2013-07-18_1__low__U__SSP1BL__exclude</td>\n",
       "      <td>NaN</td>\n",
       "    </tr>\n",
       "    <tr>\n",
       "      <th>208</th>\n",
       "      <td>high</td>\n",
       "      <td>C</td>\n",
       "      <td>SSP1BL</td>\n",
       "      <td>exclude</td>\n",
       "      <td>eqw</td>\n",
       "      <td>NDC Factsheet</td>\n",
       "      <td>12Nov2021a_CR</td>\n",
       "      <td>2013-07-18_2</td>\n",
       "      <td>World</td>\n",
       "      <td>2013-07-18_2__high__C__SSP1BL__exclude</td>\n",
       "      <td>infilled</td>\n",
       "    </tr>\n",
       "    <tr>\n",
       "      <th>231</th>\n",
       "      <td>high</td>\n",
       "      <td>C</td>\n",
       "      <td>SSP1BL</td>\n",
       "      <td>exclude</td>\n",
       "      <td>NaN</td>\n",
       "      <td>NDC Factsheet</td>\n",
       "      <td>12Nov2021a_CR</td>\n",
       "      <td>2013-07-18_2</td>\n",
       "      <td>World</td>\n",
       "      <td>2013-07-18_2__high__C__SSP1BL__exclude</td>\n",
       "      <td>NaN</td>\n",
       "    </tr>\n",
       "    <tr>\n",
       "      <th>...</th>\n",
       "      <td>...</td>\n",
       "      <td>...</td>\n",
       "      <td>...</td>\n",
       "      <td>...</td>\n",
       "      <td>...</td>\n",
       "      <td>...</td>\n",
       "      <td>...</td>\n",
       "      <td>...</td>\n",
       "      <td>...</td>\n",
       "      <td>...</td>\n",
       "      <td>...</td>\n",
       "    </tr>\n",
       "    <tr>\n",
       "      <th>75660</th>\n",
       "      <td>low</td>\n",
       "      <td>U</td>\n",
       "      <td>SSP1BL</td>\n",
       "      <td>include</td>\n",
       "      <td>eqw</td>\n",
       "      <td>NDC Factsheet</td>\n",
       "      <td>12Nov2021a_CR</td>\n",
       "      <td>2021-11-09_1</td>\n",
       "      <td>World</td>\n",
       "      <td>2021-11-09_1__low__U__SSP1BL__include</td>\n",
       "      <td>infilled</td>\n",
       "    </tr>\n",
       "    <tr>\n",
       "      <th>75683</th>\n",
       "      <td>low</td>\n",
       "      <td>U</td>\n",
       "      <td>SSP1BL</td>\n",
       "      <td>include</td>\n",
       "      <td>NaN</td>\n",
       "      <td>NDC Factsheet</td>\n",
       "      <td>12Nov2021a_CR</td>\n",
       "      <td>2021-11-09_1</td>\n",
       "      <td>World</td>\n",
       "      <td>2021-11-09_1__low__U__SSP1BL__include</td>\n",
       "      <td>NaN</td>\n",
       "    </tr>\n",
       "    <tr>\n",
       "      <th>75712</th>\n",
       "      <td>low</td>\n",
       "      <td>U</td>\n",
       "      <td>constant</td>\n",
       "      <td>exclude</td>\n",
       "      <td>eqw</td>\n",
       "      <td>NDC Factsheet</td>\n",
       "      <td>12Nov2021a_CR</td>\n",
       "      <td>2021-11-09_1</td>\n",
       "      <td>World</td>\n",
       "      <td>2021-11-09_1__low__U__constant__exclude</td>\n",
       "      <td>infilled</td>\n",
       "    </tr>\n",
       "    <tr>\n",
       "      <th>75735</th>\n",
       "      <td>low</td>\n",
       "      <td>U</td>\n",
       "      <td>constant</td>\n",
       "      <td>exclude</td>\n",
       "      <td>NaN</td>\n",
       "      <td>NDC Factsheet</td>\n",
       "      <td>12Nov2021a_CR</td>\n",
       "      <td>2021-11-09_1</td>\n",
       "      <td>World</td>\n",
       "      <td>2021-11-09_1__low__U__constant__exclude</td>\n",
       "      <td>NaN</td>\n",
       "    </tr>\n",
       "    <tr>\n",
       "      <th>75764</th>\n",
       "      <td>low</td>\n",
       "      <td>U</td>\n",
       "      <td>constant</td>\n",
       "      <td>include</td>\n",
       "      <td>eqw</td>\n",
       "      <td>NDC Factsheet</td>\n",
       "      <td>12Nov2021a_CR</td>\n",
       "      <td>2021-11-09_1</td>\n",
       "      <td>World</td>\n",
       "      <td>2021-11-09_1__low__U__constant__include</td>\n",
       "      <td>infilled</td>\n",
       "    </tr>\n",
       "    <tr>\n",
       "      <th>75787</th>\n",
       "      <td>low</td>\n",
       "      <td>U</td>\n",
       "      <td>constant</td>\n",
       "      <td>include</td>\n",
       "      <td>NaN</td>\n",
       "      <td>NDC Factsheet</td>\n",
       "      <td>12Nov2021a_CR</td>\n",
       "      <td>2021-11-09_1</td>\n",
       "      <td>World</td>\n",
       "      <td>2021-11-09_1__low__U__constant__include</td>\n",
       "      <td>NaN</td>\n",
       "    </tr>\n",
       "    <tr>\n",
       "      <th>75816</th>\n",
       "      <td>low</td>\n",
       "      <td>U</td>\n",
       "      <td>rate</td>\n",
       "      <td>exclude</td>\n",
       "      <td>eqw</td>\n",
       "      <td>NDC Factsheet</td>\n",
       "      <td>12Nov2021a_CR</td>\n",
       "      <td>2021-11-09_1</td>\n",
       "      <td>World</td>\n",
       "      <td>2021-11-09_1__low__U__rate__exclude</td>\n",
       "      <td>infilled</td>\n",
       "    </tr>\n",
       "    <tr>\n",
       "      <th>75839</th>\n",
       "      <td>low</td>\n",
       "      <td>U</td>\n",
       "      <td>rate</td>\n",
       "      <td>exclude</td>\n",
       "      <td>NaN</td>\n",
       "      <td>NDC Factsheet</td>\n",
       "      <td>12Nov2021a_CR</td>\n",
       "      <td>2021-11-09_1</td>\n",
       "      <td>World</td>\n",
       "      <td>2021-11-09_1__low__U__rate__exclude</td>\n",
       "      <td>NaN</td>\n",
       "    </tr>\n",
       "    <tr>\n",
       "      <th>75868</th>\n",
       "      <td>low</td>\n",
       "      <td>U</td>\n",
       "      <td>rate</td>\n",
       "      <td>include</td>\n",
       "      <td>eqw</td>\n",
       "      <td>NDC Factsheet</td>\n",
       "      <td>12Nov2021a_CR</td>\n",
       "      <td>2021-11-09_1</td>\n",
       "      <td>World</td>\n",
       "      <td>2021-11-09_1__low__U__rate__include</td>\n",
       "      <td>infilled</td>\n",
       "    </tr>\n",
       "    <tr>\n",
       "      <th>75891</th>\n",
       "      <td>low</td>\n",
       "      <td>U</td>\n",
       "      <td>rate</td>\n",
       "      <td>include</td>\n",
       "      <td>NaN</td>\n",
       "      <td>NDC Factsheet</td>\n",
       "      <td>12Nov2021a_CR</td>\n",
       "      <td>2021-11-09_1</td>\n",
       "      <td>World</td>\n",
       "      <td>2021-11-09_1__low__U__rate__include</td>\n",
       "      <td>NaN</td>\n",
       "    </tr>\n",
       "  </tbody>\n",
       "</table>\n",
       "<p>2920 rows × 11 columns</p>\n",
       "</div>"
      ],
      "text/plain": [
       "      ambition conditionality country_extension exclude_hot_air global_extension          model  model_version    pathway_id region                                 scenario     stage\n",
       "0         high              C            SSP1BL         exclude              eqw  NDC Factsheet  12Nov2021a_CR  2013-07-18_1  World   2013-07-18_1__high__C__SSP1BL__exclude  infilled\n",
       "23        high              C            SSP1BL         exclude              NaN  NDC Factsheet  12Nov2021a_CR  2013-07-18_1  World   2013-07-18_1__high__C__SSP1BL__exclude       NaN\n",
       "52        high              U            SSP1BL         exclude              eqw  NDC Factsheet  12Nov2021a_CR  2013-07-18_1  World   2013-07-18_1__high__U__SSP1BL__exclude  infilled\n",
       "75        high              U            SSP1BL         exclude              NaN  NDC Factsheet  12Nov2021a_CR  2013-07-18_1  World   2013-07-18_1__high__U__SSP1BL__exclude       NaN\n",
       "104        low              C            SSP1BL         exclude              eqw  NDC Factsheet  12Nov2021a_CR  2013-07-18_1  World    2013-07-18_1__low__C__SSP1BL__exclude  infilled\n",
       "127        low              C            SSP1BL         exclude              NaN  NDC Factsheet  12Nov2021a_CR  2013-07-18_1  World    2013-07-18_1__low__C__SSP1BL__exclude       NaN\n",
       "156        low              U            SSP1BL         exclude              eqw  NDC Factsheet  12Nov2021a_CR  2013-07-18_1  World    2013-07-18_1__low__U__SSP1BL__exclude  infilled\n",
       "179        low              U            SSP1BL         exclude              NaN  NDC Factsheet  12Nov2021a_CR  2013-07-18_1  World    2013-07-18_1__low__U__SSP1BL__exclude       NaN\n",
       "208       high              C            SSP1BL         exclude              eqw  NDC Factsheet  12Nov2021a_CR  2013-07-18_2  World   2013-07-18_2__high__C__SSP1BL__exclude  infilled\n",
       "231       high              C            SSP1BL         exclude              NaN  NDC Factsheet  12Nov2021a_CR  2013-07-18_2  World   2013-07-18_2__high__C__SSP1BL__exclude       NaN\n",
       "...        ...            ...               ...             ...              ...            ...            ...           ...    ...                                      ...       ...\n",
       "75660      low              U            SSP1BL         include              eqw  NDC Factsheet  12Nov2021a_CR  2021-11-09_1  World    2021-11-09_1__low__U__SSP1BL__include  infilled\n",
       "75683      low              U            SSP1BL         include              NaN  NDC Factsheet  12Nov2021a_CR  2021-11-09_1  World    2021-11-09_1__low__U__SSP1BL__include       NaN\n",
       "75712      low              U          constant         exclude              eqw  NDC Factsheet  12Nov2021a_CR  2021-11-09_1  World  2021-11-09_1__low__U__constant__exclude  infilled\n",
       "75735      low              U          constant         exclude              NaN  NDC Factsheet  12Nov2021a_CR  2021-11-09_1  World  2021-11-09_1__low__U__constant__exclude       NaN\n",
       "75764      low              U          constant         include              eqw  NDC Factsheet  12Nov2021a_CR  2021-11-09_1  World  2021-11-09_1__low__U__constant__include  infilled\n",
       "75787      low              U          constant         include              NaN  NDC Factsheet  12Nov2021a_CR  2021-11-09_1  World  2021-11-09_1__low__U__constant__include       NaN\n",
       "75816      low              U              rate         exclude              eqw  NDC Factsheet  12Nov2021a_CR  2021-11-09_1  World      2021-11-09_1__low__U__rate__exclude  infilled\n",
       "75839      low              U              rate         exclude              NaN  NDC Factsheet  12Nov2021a_CR  2021-11-09_1  World      2021-11-09_1__low__U__rate__exclude       NaN\n",
       "75868      low              U              rate         include              eqw  NDC Factsheet  12Nov2021a_CR  2021-11-09_1  World      2021-11-09_1__low__U__rate__include  infilled\n",
       "75891      low              U              rate         include              NaN  NDC Factsheet  12Nov2021a_CR  2021-11-09_1  World      2021-11-09_1__low__U__rate__include       NaN\n",
       "\n",
       "[2920 rows x 11 columns]"
      ]
     },
     "execution_count": 9,
     "metadata": {},
     "output_type": "execute_result"
    },
    {
     "data": {
      "application/javascript": [
       "\n",
       "            setTimeout(function() {\n",
       "                var nbb_cell_id = 9;\n",
       "                var nbb_unformatted_code = \"scenarios_to_run.meta[\\n    scenarios_to_run.get_meta_columns_except([\\\"variable\\\", \\\"unit\\\"])\\n].drop_duplicates()\";\n",
       "                var nbb_formatted_code = \"scenarios_to_run.meta[\\n    scenarios_to_run.get_meta_columns_except([\\\"variable\\\", \\\"unit\\\"])\\n].drop_duplicates()\";\n",
       "                var nbb_cells = Jupyter.notebook.get_cells();\n",
       "                for (var i = 0; i < nbb_cells.length; ++i) {\n",
       "                    if (nbb_cells[i].input_prompt_number == nbb_cell_id) {\n",
       "                        if (nbb_cells[i].get_text() == nbb_unformatted_code) {\n",
       "                             nbb_cells[i].set_text(nbb_formatted_code);\n",
       "                        }\n",
       "                        break;\n",
       "                    }\n",
       "                }\n",
       "            }, 500);\n",
       "            "
      ],
      "text/plain": [
       "<IPython.core.display.Javascript object>"
      ]
     },
     "metadata": {},
     "output_type": "display_data"
    }
   ],
   "source": [
    "scenarios_to_run.meta[\n",
    "    scenarios_to_run.get_meta_columns_except([\"variable\", \"unit\"])\n",
    "].drop_duplicates()"
   ]
  },
  {
   "cell_type": "markdown",
   "id": "8905b8d4",
   "metadata": {},
   "source": [
    "# Convert variable names"
   ]
  },
  {
   "cell_type": "code",
   "execution_count": 10,
   "id": "7c11f6ab",
   "metadata": {},
   "outputs": [
    {
     "data": {
      "text/plain": [
       "['Emissions|BC',\n",
       " 'Emissions|C2F6',\n",
       " 'Emissions|C3F8',\n",
       " 'Emissions|C4F10',\n",
       " 'Emissions|C5F12',\n",
       " 'Emissions|C6F14',\n",
       " 'Emissions|C7F16',\n",
       " 'Emissions|C8F18',\n",
       " 'Emissions|CCl4',\n",
       " 'Emissions|CF4',\n",
       " 'Emissions|CFC11',\n",
       " 'Emissions|CFC113',\n",
       " 'Emissions|CFC114',\n",
       " 'Emissions|CFC115',\n",
       " 'Emissions|CFC12',\n",
       " 'Emissions|CH2Cl2',\n",
       " 'Emissions|CH3Br',\n",
       " 'Emissions|CH3CCl3',\n",
       " 'Emissions|CH3Cl',\n",
       " 'Emissions|CH4',\n",
       " 'Emissions|CHCl3',\n",
       " 'Emissions|CO',\n",
       " 'Emissions|CO2|MAGICC AFOLU',\n",
       " 'Emissions|CO2|MAGICC Fossil and Industrial',\n",
       " 'Emissions|HCFC141b',\n",
       " 'Emissions|HCFC142b',\n",
       " 'Emissions|HCFC22',\n",
       " 'Emissions|HFC125',\n",
       " 'Emissions|HFC134a',\n",
       " 'Emissions|HFC143a',\n",
       " 'Emissions|HFC152a',\n",
       " 'Emissions|HFC227ea',\n",
       " 'Emissions|HFC23',\n",
       " 'Emissions|HFC236fa',\n",
       " 'Emissions|HFC245fa',\n",
       " 'Emissions|HFC32',\n",
       " 'Emissions|HFC365mfc',\n",
       " 'Emissions|HFC4310mee',\n",
       " 'Emissions|Halon1202',\n",
       " 'Emissions|Halon1211',\n",
       " 'Emissions|Halon1301',\n",
       " 'Emissions|Halon2402',\n",
       " 'Emissions|N2O',\n",
       " 'Emissions|NF3',\n",
       " 'Emissions|NH3',\n",
       " 'Emissions|NOx',\n",
       " 'Emissions|OC',\n",
       " 'Emissions|SF6',\n",
       " 'Emissions|SO2F2',\n",
       " 'Emissions|Sulfur',\n",
       " 'Emissions|VOC',\n",
       " 'Emissions|cC4F8']"
      ]
     },
     "execution_count": 10,
     "metadata": {},
     "output_type": "execute_result"
    },
    {
     "data": {
      "application/javascript": [
       "\n",
       "            setTimeout(function() {\n",
       "                var nbb_cell_id = 10;\n",
       "                var nbb_unformatted_code = \"sorted(scenarios_to_run.get_unique_meta(\\\"variable\\\"))\";\n",
       "                var nbb_formatted_code = \"sorted(scenarios_to_run.get_unique_meta(\\\"variable\\\"))\";\n",
       "                var nbb_cells = Jupyter.notebook.get_cells();\n",
       "                for (var i = 0; i < nbb_cells.length; ++i) {\n",
       "                    if (nbb_cells[i].input_prompt_number == nbb_cell_id) {\n",
       "                        if (nbb_cells[i].get_text() == nbb_unformatted_code) {\n",
       "                             nbb_cells[i].set_text(nbb_formatted_code);\n",
       "                        }\n",
       "                        break;\n",
       "                    }\n",
       "                }\n",
       "            }, 500);\n",
       "            "
      ],
      "text/plain": [
       "<IPython.core.display.Javascript object>"
      ]
     },
     "metadata": {},
     "output_type": "display_data"
    }
   ],
   "source": [
    "sorted(scenarios_to_run.get_unique_meta(\"variable\"))"
   ]
  },
  {
   "cell_type": "code",
   "execution_count": 11,
   "id": "c3aa1062",
   "metadata": {},
   "outputs": [
    {
     "data": {
      "application/javascript": [
       "\n",
       "            setTimeout(function() {\n",
       "                var nbb_cell_id = 11;\n",
       "                var nbb_unformatted_code = \"PREFIX = \\\"AR6 climate diagnostics|Infilled|\\\"\\n\\npfcs = [\\\"C2F6\\\", \\\"C3F8\\\", \\\"C4F10\\\", \\\"C5F12\\\", \\\"C6F14\\\", \\\"C7F16\\\", \\\"C8F18\\\", \\\"CF4\\\", \\\"cC4F8\\\"]\\n\\nrenames = {\\n    \\\"Emissions|CO2|MAGICC AFOLU\\\": \\\"Emissions|CO2|AFOLU\\\",\\n    \\\"Emissions|CO2|MAGICC Fossil and Industrial\\\": \\\"Emissions|CO2|Energy and Industrial Processes\\\",\\n    \\\"Emissions|HFC125\\\": \\\"Emissions|HFC|HFC125\\\",\\n    \\\"Emissions|HFC134a\\\": \\\"Emissions|HFC|HFC134a\\\",\\n    \\\"Emissions|HFC143a\\\": \\\"Emissions|HFC|HFC143a\\\",\\n    \\\"Emissions|HFC152a\\\": \\\"Emissions|HFC|HFC152a\\\",\\n    \\\"Emissions|HFC227ea\\\": \\\"Emissions|HFC|HFC227ea\\\",\\n    \\\"Emissions|HFC23\\\": \\\"Emissions|HFC|HFC23\\\",\\n    \\\"Emissions|HFC236fa\\\": \\\"Emissions|HFC|HFC236fa\\\",\\n    \\\"Emissions|HFC245ca\\\": \\\"Emissions|HFC|HFC245ca\\\",\\n    \\\"Emissions|HFC32\\\": \\\"Emissions|HFC|HFC32\\\",\\n    \\\"Emissions|HFC365mfc\\\": \\\"Emissions|HFC|HFC365mfc\\\",\\n    \\\"Emissions|HFC4310mee\\\": \\\"Emissions|HFC|HFC43-10\\\",\\n}\\nfor v in pfcs:\\n    renames[\\\"Emissions|\\\" + v] = \\\"Emissions|PFC|\\\" + v\\n\\n\\ndef update_variable(v):\\n    if v in renames:\\n        v = renames[v]\\n    return PREFIX + v\\n\\n\\nscenarios_to_run[\\\"variable\\\"] = scenarios_to_run[\\\"variable\\\"].apply(update_variable)\";\n",
       "                var nbb_formatted_code = \"PREFIX = \\\"AR6 climate diagnostics|Infilled|\\\"\\n\\npfcs = [\\\"C2F6\\\", \\\"C3F8\\\", \\\"C4F10\\\", \\\"C5F12\\\", \\\"C6F14\\\", \\\"C7F16\\\", \\\"C8F18\\\", \\\"CF4\\\", \\\"cC4F8\\\"]\\n\\nrenames = {\\n    \\\"Emissions|CO2|MAGICC AFOLU\\\": \\\"Emissions|CO2|AFOLU\\\",\\n    \\\"Emissions|CO2|MAGICC Fossil and Industrial\\\": \\\"Emissions|CO2|Energy and Industrial Processes\\\",\\n    \\\"Emissions|HFC125\\\": \\\"Emissions|HFC|HFC125\\\",\\n    \\\"Emissions|HFC134a\\\": \\\"Emissions|HFC|HFC134a\\\",\\n    \\\"Emissions|HFC143a\\\": \\\"Emissions|HFC|HFC143a\\\",\\n    \\\"Emissions|HFC152a\\\": \\\"Emissions|HFC|HFC152a\\\",\\n    \\\"Emissions|HFC227ea\\\": \\\"Emissions|HFC|HFC227ea\\\",\\n    \\\"Emissions|HFC23\\\": \\\"Emissions|HFC|HFC23\\\",\\n    \\\"Emissions|HFC236fa\\\": \\\"Emissions|HFC|HFC236fa\\\",\\n    \\\"Emissions|HFC245ca\\\": \\\"Emissions|HFC|HFC245ca\\\",\\n    \\\"Emissions|HFC32\\\": \\\"Emissions|HFC|HFC32\\\",\\n    \\\"Emissions|HFC365mfc\\\": \\\"Emissions|HFC|HFC365mfc\\\",\\n    \\\"Emissions|HFC4310mee\\\": \\\"Emissions|HFC|HFC43-10\\\",\\n}\\nfor v in pfcs:\\n    renames[\\\"Emissions|\\\" + v] = \\\"Emissions|PFC|\\\" + v\\n\\n\\ndef update_variable(v):\\n    if v in renames:\\n        v = renames[v]\\n    return PREFIX + v\\n\\n\\nscenarios_to_run[\\\"variable\\\"] = scenarios_to_run[\\\"variable\\\"].apply(update_variable)\";\n",
       "                var nbb_cells = Jupyter.notebook.get_cells();\n",
       "                for (var i = 0; i < nbb_cells.length; ++i) {\n",
       "                    if (nbb_cells[i].input_prompt_number == nbb_cell_id) {\n",
       "                        if (nbb_cells[i].get_text() == nbb_unformatted_code) {\n",
       "                             nbb_cells[i].set_text(nbb_formatted_code);\n",
       "                        }\n",
       "                        break;\n",
       "                    }\n",
       "                }\n",
       "            }, 500);\n",
       "            "
      ],
      "text/plain": [
       "<IPython.core.display.Javascript object>"
      ]
     },
     "metadata": {},
     "output_type": "display_data"
    }
   ],
   "source": [
    "PREFIX = \"AR6 climate diagnostics|Infilled|\"\n",
    "\n",
    "pfcs = [\"C2F6\", \"C3F8\", \"C4F10\", \"C5F12\", \"C6F14\", \"C7F16\", \"C8F18\", \"CF4\", \"cC4F8\"]\n",
    "\n",
    "renames = {\n",
    "    \"Emissions|CO2|MAGICC AFOLU\": \"Emissions|CO2|AFOLU\",\n",
    "    \"Emissions|CO2|MAGICC Fossil and Industrial\": \"Emissions|CO2|Energy and Industrial Processes\",\n",
    "    \"Emissions|HFC125\": \"Emissions|HFC|HFC125\",\n",
    "    \"Emissions|HFC134a\": \"Emissions|HFC|HFC134a\",\n",
    "    \"Emissions|HFC143a\": \"Emissions|HFC|HFC143a\",\n",
    "    \"Emissions|HFC152a\": \"Emissions|HFC|HFC152a\",\n",
    "    \"Emissions|HFC227ea\": \"Emissions|HFC|HFC227ea\",\n",
    "    \"Emissions|HFC23\": \"Emissions|HFC|HFC23\",\n",
    "    \"Emissions|HFC236fa\": \"Emissions|HFC|HFC236fa\",\n",
    "    \"Emissions|HFC245ca\": \"Emissions|HFC|HFC245ca\",\n",
    "    \"Emissions|HFC32\": \"Emissions|HFC|HFC32\",\n",
    "    \"Emissions|HFC365mfc\": \"Emissions|HFC|HFC365mfc\",\n",
    "    \"Emissions|HFC4310mee\": \"Emissions|HFC|HFC43-10\",\n",
    "}\n",
    "for v in pfcs:\n",
    "    renames[\"Emissions|\" + v] = \"Emissions|PFC|\" + v\n",
    "\n",
    "\n",
    "def update_variable(v):\n",
    "    if v in renames:\n",
    "        v = renames[v]\n",
    "    return PREFIX + v\n",
    "\n",
    "\n",
    "scenarios_to_run[\"variable\"] = scenarios_to_run[\"variable\"].apply(update_variable)"
   ]
  },
  {
   "cell_type": "code",
   "execution_count": 12,
   "id": "4ed4835f",
   "metadata": {},
   "outputs": [
    {
     "data": {
      "text/plain": [
       "['AR6 climate diagnostics|Infilled|Emissions|BC',\n",
       " 'AR6 climate diagnostics|Infilled|Emissions|CH4',\n",
       " 'AR6 climate diagnostics|Infilled|Emissions|CO',\n",
       " 'AR6 climate diagnostics|Infilled|Emissions|CO2|AFOLU',\n",
       " 'AR6 climate diagnostics|Infilled|Emissions|CO2|Energy and Industrial Processes',\n",
       " 'AR6 climate diagnostics|Infilled|Emissions|NH3',\n",
       " 'AR6 climate diagnostics|Infilled|Emissions|NOx',\n",
       " 'AR6 climate diagnostics|Infilled|Emissions|OC',\n",
       " 'AR6 climate diagnostics|Infilled|Emissions|Sulfur',\n",
       " 'AR6 climate diagnostics|Infilled|Emissions|VOC',\n",
       " 'AR6 climate diagnostics|Infilled|Emissions|PFC|C2F6',\n",
       " 'AR6 climate diagnostics|Infilled|Emissions|PFC|C6F14',\n",
       " 'AR6 climate diagnostics|Infilled|Emissions|PFC|CF4',\n",
       " 'AR6 climate diagnostics|Infilled|Emissions|HFC|HFC125',\n",
       " 'AR6 climate diagnostics|Infilled|Emissions|HFC|HFC134a',\n",
       " 'AR6 climate diagnostics|Infilled|Emissions|HFC|HFC143a',\n",
       " 'AR6 climate diagnostics|Infilled|Emissions|HFC|HFC227ea',\n",
       " 'AR6 climate diagnostics|Infilled|Emissions|HFC|HFC23',\n",
       " 'AR6 climate diagnostics|Infilled|Emissions|HFC245fa',\n",
       " 'AR6 climate diagnostics|Infilled|Emissions|HFC|HFC32',\n",
       " 'AR6 climate diagnostics|Infilled|Emissions|HFC|HFC43-10',\n",
       " 'AR6 climate diagnostics|Infilled|Emissions|N2O',\n",
       " 'AR6 climate diagnostics|Infilled|Emissions|SF6',\n",
       " 'AR6 climate diagnostics|Infilled|Emissions|HFC|HFC152a',\n",
       " 'AR6 climate diagnostics|Infilled|Emissions|HFC|HFC236fa',\n",
       " 'AR6 climate diagnostics|Infilled|Emissions|HFC|HFC365mfc',\n",
       " 'AR6 climate diagnostics|Infilled|Emissions|NF3',\n",
       " 'AR6 climate diagnostics|Infilled|Emissions|PFC|C3F8',\n",
       " 'AR6 climate diagnostics|Infilled|Emissions|PFC|C4F10',\n",
       " 'AR6 climate diagnostics|Infilled|Emissions|PFC|C5F12',\n",
       " 'AR6 climate diagnostics|Infilled|Emissions|PFC|C7F16',\n",
       " 'AR6 climate diagnostics|Infilled|Emissions|PFC|C8F18',\n",
       " 'AR6 climate diagnostics|Infilled|Emissions|PFC|cC4F8',\n",
       " 'AR6 climate diagnostics|Infilled|Emissions|SO2F2',\n",
       " 'AR6 climate diagnostics|Infilled|Emissions|CCl4',\n",
       " 'AR6 climate diagnostics|Infilled|Emissions|CFC11',\n",
       " 'AR6 climate diagnostics|Infilled|Emissions|CFC113',\n",
       " 'AR6 climate diagnostics|Infilled|Emissions|CFC114',\n",
       " 'AR6 climate diagnostics|Infilled|Emissions|CFC115',\n",
       " 'AR6 climate diagnostics|Infilled|Emissions|CFC12',\n",
       " 'AR6 climate diagnostics|Infilled|Emissions|CH2Cl2',\n",
       " 'AR6 climate diagnostics|Infilled|Emissions|CH3Br',\n",
       " 'AR6 climate diagnostics|Infilled|Emissions|CH3CCl3',\n",
       " 'AR6 climate diagnostics|Infilled|Emissions|CH3Cl',\n",
       " 'AR6 climate diagnostics|Infilled|Emissions|CHCl3',\n",
       " 'AR6 climate diagnostics|Infilled|Emissions|HCFC141b',\n",
       " 'AR6 climate diagnostics|Infilled|Emissions|HCFC142b',\n",
       " 'AR6 climate diagnostics|Infilled|Emissions|HCFC22',\n",
       " 'AR6 climate diagnostics|Infilled|Emissions|Halon1202',\n",
       " 'AR6 climate diagnostics|Infilled|Emissions|Halon1211',\n",
       " 'AR6 climate diagnostics|Infilled|Emissions|Halon1301',\n",
       " 'AR6 climate diagnostics|Infilled|Emissions|Halon2402']"
      ]
     },
     "execution_count": 12,
     "metadata": {},
     "output_type": "execute_result"
    },
    {
     "data": {
      "application/javascript": [
       "\n",
       "            setTimeout(function() {\n",
       "                var nbb_cell_id = 12;\n",
       "                var nbb_unformatted_code = \"scenarios_to_run.get_unique_meta(\\\"variable\\\")\";\n",
       "                var nbb_formatted_code = \"scenarios_to_run.get_unique_meta(\\\"variable\\\")\";\n",
       "                var nbb_cells = Jupyter.notebook.get_cells();\n",
       "                for (var i = 0; i < nbb_cells.length; ++i) {\n",
       "                    if (nbb_cells[i].input_prompt_number == nbb_cell_id) {\n",
       "                        if (nbb_cells[i].get_text() == nbb_unformatted_code) {\n",
       "                             nbb_cells[i].set_text(nbb_formatted_code);\n",
       "                        }\n",
       "                        break;\n",
       "                    }\n",
       "                }\n",
       "            }, 500);\n",
       "            "
      ],
      "text/plain": [
       "<IPython.core.display.Javascript object>"
      ]
     },
     "metadata": {},
     "output_type": "display_data"
    }
   ],
   "source": [
    "scenarios_to_run.get_unique_meta(\"variable\")"
   ]
  },
  {
   "cell_type": "code",
   "execution_count": 13,
   "id": "9d3efa0e",
   "metadata": {
    "scrolled": true
   },
   "outputs": [
    {
     "data": {
      "text/html": [
       "<div>\n",
       "<style scoped>\n",
       "    .dataframe tbody tr th:only-of-type {\n",
       "        vertical-align: middle;\n",
       "    }\n",
       "\n",
       "    .dataframe tbody tr th {\n",
       "        vertical-align: top;\n",
       "    }\n",
       "\n",
       "    .dataframe thead th {\n",
       "        text-align: right;\n",
       "    }\n",
       "</style>\n",
       "<table border=\"1\" class=\"dataframe\">\n",
       "  <thead>\n",
       "    <tr style=\"text-align: right;\">\n",
       "      <th></th>\n",
       "      <th></th>\n",
       "      <th></th>\n",
       "      <th></th>\n",
       "      <th></th>\n",
       "      <th></th>\n",
       "      <th></th>\n",
       "      <th></th>\n",
       "      <th></th>\n",
       "      <th></th>\n",
       "      <th></th>\n",
       "      <th></th>\n",
       "      <th>time</th>\n",
       "      <th>2000-01-01</th>\n",
       "      <th>2001-01-01</th>\n",
       "      <th>2002-01-01</th>\n",
       "      <th>2003-01-01</th>\n",
       "      <th>2004-01-01</th>\n",
       "      <th>2005-01-01</th>\n",
       "      <th>2006-01-01</th>\n",
       "      <th>...</th>\n",
       "      <th>2094-01-01</th>\n",
       "      <th>2095-01-01</th>\n",
       "      <th>2096-01-01</th>\n",
       "      <th>2097-01-01</th>\n",
       "      <th>2098-01-01</th>\n",
       "      <th>2099-01-01</th>\n",
       "      <th>2100-01-01</th>\n",
       "    </tr>\n",
       "    <tr>\n",
       "      <th>ambition</th>\n",
       "      <th>conditionality</th>\n",
       "      <th>country_extension</th>\n",
       "      <th>exclude_hot_air</th>\n",
       "      <th>global_extension</th>\n",
       "      <th>model</th>\n",
       "      <th>model_version</th>\n",
       "      <th>pathway_id</th>\n",
       "      <th>region</th>\n",
       "      <th>scenario</th>\n",
       "      <th>stage</th>\n",
       "      <th>unit</th>\n",
       "      <th>variable</th>\n",
       "      <th></th>\n",
       "      <th></th>\n",
       "      <th></th>\n",
       "      <th></th>\n",
       "      <th></th>\n",
       "      <th></th>\n",
       "      <th></th>\n",
       "      <th></th>\n",
       "      <th></th>\n",
       "      <th></th>\n",
       "      <th></th>\n",
       "      <th></th>\n",
       "      <th></th>\n",
       "      <th></th>\n",
       "      <th></th>\n",
       "    </tr>\n",
       "  </thead>\n",
       "  <tbody>\n",
       "    <tr>\n",
       "      <th rowspan=\"5\" valign=\"top\">high</th>\n",
       "      <th rowspan=\"5\" valign=\"top\">C</th>\n",
       "      <th rowspan=\"5\" valign=\"top\">SSP1BL</th>\n",
       "      <th rowspan=\"5\" valign=\"top\">exclude</th>\n",
       "      <th rowspan=\"5\" valign=\"top\">eqw</th>\n",
       "      <th rowspan=\"5\" valign=\"top\">NDC Factsheet</th>\n",
       "      <th rowspan=\"5\" valign=\"top\">12Nov2021a_CR</th>\n",
       "      <th rowspan=\"5\" valign=\"top\">2013-07-18_1</th>\n",
       "      <th rowspan=\"5\" valign=\"top\">World</th>\n",
       "      <th rowspan=\"5\" valign=\"top\">2013-07-18_1__high__C__SSP1BL__exclude</th>\n",
       "      <th rowspan=\"5\" valign=\"top\">infilled</th>\n",
       "      <th>Mt BC / yr</th>\n",
       "      <th>AR6 climate diagnostics|Infilled|Emissions|BC</th>\n",
       "      <td>10.597872</td>\n",
       "      <td>10.539726</td>\n",
       "      <td>10.481738</td>\n",
       "      <td>10.423750</td>\n",
       "      <td>10.365762</td>\n",
       "      <td>10.307616</td>\n",
       "      <td>10.249628</td>\n",
       "      <td>...</td>\n",
       "      <td>3.230643</td>\n",
       "      <td>3.207827</td>\n",
       "      <td>3.180030</td>\n",
       "      <td>3.152156</td>\n",
       "      <td>3.124360</td>\n",
       "      <td>3.096563</td>\n",
       "      <td>3.068766</td>\n",
       "    </tr>\n",
       "    <tr>\n",
       "      <th>Mt CH4 / yr</th>\n",
       "      <th>AR6 climate diagnostics|Infilled|Emissions|CH4</th>\n",
       "      <td>367.308355</td>\n",
       "      <td>368.695444</td>\n",
       "      <td>370.078743</td>\n",
       "      <td>371.462042</td>\n",
       "      <td>372.845341</td>\n",
       "      <td>374.232430</td>\n",
       "      <td>375.615729</td>\n",
       "      <td>...</td>\n",
       "      <td>340.500302</td>\n",
       "      <td>339.886652</td>\n",
       "      <td>338.961051</td>\n",
       "      <td>338.032915</td>\n",
       "      <td>337.107314</td>\n",
       "      <td>336.181713</td>\n",
       "      <td>335.256113</td>\n",
       "    </tr>\n",
       "    <tr>\n",
       "      <th>Mt CO / yr</th>\n",
       "      <th>AR6 climate diagnostics|Infilled|Emissions|CO</th>\n",
       "      <td>992.807391</td>\n",
       "      <td>988.902408</td>\n",
       "      <td>985.008093</td>\n",
       "      <td>981.113779</td>\n",
       "      <td>977.219465</td>\n",
       "      <td>973.314481</td>\n",
       "      <td>969.420167</td>\n",
       "      <td>...</td>\n",
       "      <td>481.688820</td>\n",
       "      <td>478.511530</td>\n",
       "      <td>476.244898</td>\n",
       "      <td>473.972057</td>\n",
       "      <td>471.705425</td>\n",
       "      <td>469.438794</td>\n",
       "      <td>467.172162</td>\n",
       "    </tr>\n",
       "    <tr>\n",
       "      <th rowspan=\"2\" valign=\"top\">Mt CO2 / yr</th>\n",
       "      <th>AR6 climate diagnostics|Infilled|Emissions|CO2|AFOLU</th>\n",
       "      <td>4300.000000</td>\n",
       "      <td>4100.000000</td>\n",
       "      <td>4400.000000</td>\n",
       "      <td>5100.000000</td>\n",
       "      <td>5400.000000</td>\n",
       "      <td>4600.000000</td>\n",
       "      <td>4200.000000</td>\n",
       "      <td>...</td>\n",
       "      <td>-2599.920025</td>\n",
       "      <td>-2599.538358</td>\n",
       "      <td>-2572.723002</td>\n",
       "      <td>-2545.834178</td>\n",
       "      <td>-2519.018821</td>\n",
       "      <td>-2492.203464</td>\n",
       "      <td>-2465.388107</td>\n",
       "    </tr>\n",
       "    <tr>\n",
       "      <th>AR6 climate diagnostics|Infilled|Emissions|CO2|Energy and Industrial Processes</th>\n",
       "      <td>27504.780379</td>\n",
       "      <td>28047.903245</td>\n",
       "      <td>28589.542168</td>\n",
       "      <td>29131.181092</td>\n",
       "      <td>29672.820015</td>\n",
       "      <td>30215.942881</td>\n",
       "      <td>30757.581804</td>\n",
       "      <td>...</td>\n",
       "      <td>38094.446664</td>\n",
       "      <td>37691.935920</td>\n",
       "      <td>37397.706782</td>\n",
       "      <td>37102.671537</td>\n",
       "      <td>36808.442399</td>\n",
       "      <td>36514.213260</td>\n",
       "      <td>36219.984122</td>\n",
       "    </tr>\n",
       "  </tbody>\n",
       "</table>\n",
       "<p>5 rows × 101 columns</p>\n",
       "</div>"
      ],
      "text/plain": [
       "time                                                                                                                                                                                                                                                                     2000-01-01  \\\n",
       "ambition conditionality country_extension exclude_hot_air global_extension model         model_version pathway_id   region scenario                               stage    unit        variable                                                                                       \n",
       "high     C              SSP1BL            exclude         eqw              NDC Factsheet 12Nov2021a_CR 2013-07-18_1 World  2013-07-18_1__high__C__SSP1BL__exclude infilled Mt BC / yr  AR6 climate diagnostics|Infilled|Emissions|BC                                      10.597872   \n",
       "                                                                                                                                                                           Mt CH4 / yr AR6 climate diagnostics|Infilled|Emissions|CH4                                    367.308355   \n",
       "                                                                                                                                                                           Mt CO / yr  AR6 climate diagnostics|Infilled|Emissions|CO                                     992.807391   \n",
       "                                                                                                                                                                           Mt CO2 / yr AR6 climate diagnostics|Infilled|Emissions|CO2|AFOLU                             4300.000000   \n",
       "                                                                                                                                                                                       AR6 climate diagnostics|Infilled|Emissions|CO2|Energy and Industrial Processes  27504.780379   \n",
       "\n",
       "time                                                                                                                                                                                                                                                                     2001-01-01  \\\n",
       "ambition conditionality country_extension exclude_hot_air global_extension model         model_version pathway_id   region scenario                               stage    unit        variable                                                                                       \n",
       "high     C              SSP1BL            exclude         eqw              NDC Factsheet 12Nov2021a_CR 2013-07-18_1 World  2013-07-18_1__high__C__SSP1BL__exclude infilled Mt BC / yr  AR6 climate diagnostics|Infilled|Emissions|BC                                      10.539726   \n",
       "                                                                                                                                                                           Mt CH4 / yr AR6 climate diagnostics|Infilled|Emissions|CH4                                    368.695444   \n",
       "                                                                                                                                                                           Mt CO / yr  AR6 climate diagnostics|Infilled|Emissions|CO                                     988.902408   \n",
       "                                                                                                                                                                           Mt CO2 / yr AR6 climate diagnostics|Infilled|Emissions|CO2|AFOLU                             4100.000000   \n",
       "                                                                                                                                                                                       AR6 climate diagnostics|Infilled|Emissions|CO2|Energy and Industrial Processes  28047.903245   \n",
       "\n",
       "time                                                                                                                                                                                                                                                                     2002-01-01  \\\n",
       "ambition conditionality country_extension exclude_hot_air global_extension model         model_version pathway_id   region scenario                               stage    unit        variable                                                                                       \n",
       "high     C              SSP1BL            exclude         eqw              NDC Factsheet 12Nov2021a_CR 2013-07-18_1 World  2013-07-18_1__high__C__SSP1BL__exclude infilled Mt BC / yr  AR6 climate diagnostics|Infilled|Emissions|BC                                      10.481738   \n",
       "                                                                                                                                                                           Mt CH4 / yr AR6 climate diagnostics|Infilled|Emissions|CH4                                    370.078743   \n",
       "                                                                                                                                                                           Mt CO / yr  AR6 climate diagnostics|Infilled|Emissions|CO                                     985.008093   \n",
       "                                                                                                                                                                           Mt CO2 / yr AR6 climate diagnostics|Infilled|Emissions|CO2|AFOLU                             4400.000000   \n",
       "                                                                                                                                                                                       AR6 climate diagnostics|Infilled|Emissions|CO2|Energy and Industrial Processes  28589.542168   \n",
       "\n",
       "time                                                                                                                                                                                                                                                                     2003-01-01  \\\n",
       "ambition conditionality country_extension exclude_hot_air global_extension model         model_version pathway_id   region scenario                               stage    unit        variable                                                                                       \n",
       "high     C              SSP1BL            exclude         eqw              NDC Factsheet 12Nov2021a_CR 2013-07-18_1 World  2013-07-18_1__high__C__SSP1BL__exclude infilled Mt BC / yr  AR6 climate diagnostics|Infilled|Emissions|BC                                      10.423750   \n",
       "                                                                                                                                                                           Mt CH4 / yr AR6 climate diagnostics|Infilled|Emissions|CH4                                    371.462042   \n",
       "                                                                                                                                                                           Mt CO / yr  AR6 climate diagnostics|Infilled|Emissions|CO                                     981.113779   \n",
       "                                                                                                                                                                           Mt CO2 / yr AR6 climate diagnostics|Infilled|Emissions|CO2|AFOLU                             5100.000000   \n",
       "                                                                                                                                                                                       AR6 climate diagnostics|Infilled|Emissions|CO2|Energy and Industrial Processes  29131.181092   \n",
       "\n",
       "time                                                                                                                                                                                                                                                                     2004-01-01  \\\n",
       "ambition conditionality country_extension exclude_hot_air global_extension model         model_version pathway_id   region scenario                               stage    unit        variable                                                                                       \n",
       "high     C              SSP1BL            exclude         eqw              NDC Factsheet 12Nov2021a_CR 2013-07-18_1 World  2013-07-18_1__high__C__SSP1BL__exclude infilled Mt BC / yr  AR6 climate diagnostics|Infilled|Emissions|BC                                      10.365762   \n",
       "                                                                                                                                                                           Mt CH4 / yr AR6 climate diagnostics|Infilled|Emissions|CH4                                    372.845341   \n",
       "                                                                                                                                                                           Mt CO / yr  AR6 climate diagnostics|Infilled|Emissions|CO                                     977.219465   \n",
       "                                                                                                                                                                           Mt CO2 / yr AR6 climate diagnostics|Infilled|Emissions|CO2|AFOLU                             5400.000000   \n",
       "                                                                                                                                                                                       AR6 climate diagnostics|Infilled|Emissions|CO2|Energy and Industrial Processes  29672.820015   \n",
       "\n",
       "time                                                                                                                                                                                                                                                                     2005-01-01  \\\n",
       "ambition conditionality country_extension exclude_hot_air global_extension model         model_version pathway_id   region scenario                               stage    unit        variable                                                                                       \n",
       "high     C              SSP1BL            exclude         eqw              NDC Factsheet 12Nov2021a_CR 2013-07-18_1 World  2013-07-18_1__high__C__SSP1BL__exclude infilled Mt BC / yr  AR6 climate diagnostics|Infilled|Emissions|BC                                      10.307616   \n",
       "                                                                                                                                                                           Mt CH4 / yr AR6 climate diagnostics|Infilled|Emissions|CH4                                    374.232430   \n",
       "                                                                                                                                                                           Mt CO / yr  AR6 climate diagnostics|Infilled|Emissions|CO                                     973.314481   \n",
       "                                                                                                                                                                           Mt CO2 / yr AR6 climate diagnostics|Infilled|Emissions|CO2|AFOLU                             4600.000000   \n",
       "                                                                                                                                                                                       AR6 climate diagnostics|Infilled|Emissions|CO2|Energy and Industrial Processes  30215.942881   \n",
       "\n",
       "time                                                                                                                                                                                                                                                                     2006-01-01  \\\n",
       "ambition conditionality country_extension exclude_hot_air global_extension model         model_version pathway_id   region scenario                               stage    unit        variable                                                                                       \n",
       "high     C              SSP1BL            exclude         eqw              NDC Factsheet 12Nov2021a_CR 2013-07-18_1 World  2013-07-18_1__high__C__SSP1BL__exclude infilled Mt BC / yr  AR6 climate diagnostics|Infilled|Emissions|BC                                      10.249628   \n",
       "                                                                                                                                                                           Mt CH4 / yr AR6 climate diagnostics|Infilled|Emissions|CH4                                    375.615729   \n",
       "                                                                                                                                                                           Mt CO / yr  AR6 climate diagnostics|Infilled|Emissions|CO                                     969.420167   \n",
       "                                                                                                                                                                           Mt CO2 / yr AR6 climate diagnostics|Infilled|Emissions|CO2|AFOLU                             4200.000000   \n",
       "                                                                                                                                                                                       AR6 climate diagnostics|Infilled|Emissions|CO2|Energy and Industrial Processes  30757.581804   \n",
       "\n",
       "time                                                                                                                                                                                                                                                                   ...  \\\n",
       "ambition conditionality country_extension exclude_hot_air global_extension model         model_version pathway_id   region scenario                               stage    unit        variable                                                                        ...   \n",
       "high     C              SSP1BL            exclude         eqw              NDC Factsheet 12Nov2021a_CR 2013-07-18_1 World  2013-07-18_1__high__C__SSP1BL__exclude infilled Mt BC / yr  AR6 climate diagnostics|Infilled|Emissions|BC                                   ...   \n",
       "                                                                                                                                                                           Mt CH4 / yr AR6 climate diagnostics|Infilled|Emissions|CH4                                  ...   \n",
       "                                                                                                                                                                           Mt CO / yr  AR6 climate diagnostics|Infilled|Emissions|CO                                   ...   \n",
       "                                                                                                                                                                           Mt CO2 / yr AR6 climate diagnostics|Infilled|Emissions|CO2|AFOLU                            ...   \n",
       "                                                                                                                                                                                       AR6 climate diagnostics|Infilled|Emissions|CO2|Energy and Industrial Processes  ...   \n",
       "\n",
       "time                                                                                                                                                                                                                                                                     2094-01-01  \\\n",
       "ambition conditionality country_extension exclude_hot_air global_extension model         model_version pathway_id   region scenario                               stage    unit        variable                                                                                       \n",
       "high     C              SSP1BL            exclude         eqw              NDC Factsheet 12Nov2021a_CR 2013-07-18_1 World  2013-07-18_1__high__C__SSP1BL__exclude infilled Mt BC / yr  AR6 climate diagnostics|Infilled|Emissions|BC                                       3.230643   \n",
       "                                                                                                                                                                           Mt CH4 / yr AR6 climate diagnostics|Infilled|Emissions|CH4                                    340.500302   \n",
       "                                                                                                                                                                           Mt CO / yr  AR6 climate diagnostics|Infilled|Emissions|CO                                     481.688820   \n",
       "                                                                                                                                                                           Mt CO2 / yr AR6 climate diagnostics|Infilled|Emissions|CO2|AFOLU                            -2599.920025   \n",
       "                                                                                                                                                                                       AR6 climate diagnostics|Infilled|Emissions|CO2|Energy and Industrial Processes  38094.446664   \n",
       "\n",
       "time                                                                                                                                                                                                                                                                     2095-01-01  \\\n",
       "ambition conditionality country_extension exclude_hot_air global_extension model         model_version pathway_id   region scenario                               stage    unit        variable                                                                                       \n",
       "high     C              SSP1BL            exclude         eqw              NDC Factsheet 12Nov2021a_CR 2013-07-18_1 World  2013-07-18_1__high__C__SSP1BL__exclude infilled Mt BC / yr  AR6 climate diagnostics|Infilled|Emissions|BC                                       3.207827   \n",
       "                                                                                                                                                                           Mt CH4 / yr AR6 climate diagnostics|Infilled|Emissions|CH4                                    339.886652   \n",
       "                                                                                                                                                                           Mt CO / yr  AR6 climate diagnostics|Infilled|Emissions|CO                                     478.511530   \n",
       "                                                                                                                                                                           Mt CO2 / yr AR6 climate diagnostics|Infilled|Emissions|CO2|AFOLU                            -2599.538358   \n",
       "                                                                                                                                                                                       AR6 climate diagnostics|Infilled|Emissions|CO2|Energy and Industrial Processes  37691.935920   \n",
       "\n",
       "time                                                                                                                                                                                                                                                                     2096-01-01  \\\n",
       "ambition conditionality country_extension exclude_hot_air global_extension model         model_version pathway_id   region scenario                               stage    unit        variable                                                                                       \n",
       "high     C              SSP1BL            exclude         eqw              NDC Factsheet 12Nov2021a_CR 2013-07-18_1 World  2013-07-18_1__high__C__SSP1BL__exclude infilled Mt BC / yr  AR6 climate diagnostics|Infilled|Emissions|BC                                       3.180030   \n",
       "                                                                                                                                                                           Mt CH4 / yr AR6 climate diagnostics|Infilled|Emissions|CH4                                    338.961051   \n",
       "                                                                                                                                                                           Mt CO / yr  AR6 climate diagnostics|Infilled|Emissions|CO                                     476.244898   \n",
       "                                                                                                                                                                           Mt CO2 / yr AR6 climate diagnostics|Infilled|Emissions|CO2|AFOLU                            -2572.723002   \n",
       "                                                                                                                                                                                       AR6 climate diagnostics|Infilled|Emissions|CO2|Energy and Industrial Processes  37397.706782   \n",
       "\n",
       "time                                                                                                                                                                                                                                                                     2097-01-01  \\\n",
       "ambition conditionality country_extension exclude_hot_air global_extension model         model_version pathway_id   region scenario                               stage    unit        variable                                                                                       \n",
       "high     C              SSP1BL            exclude         eqw              NDC Factsheet 12Nov2021a_CR 2013-07-18_1 World  2013-07-18_1__high__C__SSP1BL__exclude infilled Mt BC / yr  AR6 climate diagnostics|Infilled|Emissions|BC                                       3.152156   \n",
       "                                                                                                                                                                           Mt CH4 / yr AR6 climate diagnostics|Infilled|Emissions|CH4                                    338.032915   \n",
       "                                                                                                                                                                           Mt CO / yr  AR6 climate diagnostics|Infilled|Emissions|CO                                     473.972057   \n",
       "                                                                                                                                                                           Mt CO2 / yr AR6 climate diagnostics|Infilled|Emissions|CO2|AFOLU                            -2545.834178   \n",
       "                                                                                                                                                                                       AR6 climate diagnostics|Infilled|Emissions|CO2|Energy and Industrial Processes  37102.671537   \n",
       "\n",
       "time                                                                                                                                                                                                                                                                     2098-01-01  \\\n",
       "ambition conditionality country_extension exclude_hot_air global_extension model         model_version pathway_id   region scenario                               stage    unit        variable                                                                                       \n",
       "high     C              SSP1BL            exclude         eqw              NDC Factsheet 12Nov2021a_CR 2013-07-18_1 World  2013-07-18_1__high__C__SSP1BL__exclude infilled Mt BC / yr  AR6 climate diagnostics|Infilled|Emissions|BC                                       3.124360   \n",
       "                                                                                                                                                                           Mt CH4 / yr AR6 climate diagnostics|Infilled|Emissions|CH4                                    337.107314   \n",
       "                                                                                                                                                                           Mt CO / yr  AR6 climate diagnostics|Infilled|Emissions|CO                                     471.705425   \n",
       "                                                                                                                                                                           Mt CO2 / yr AR6 climate diagnostics|Infilled|Emissions|CO2|AFOLU                            -2519.018821   \n",
       "                                                                                                                                                                                       AR6 climate diagnostics|Infilled|Emissions|CO2|Energy and Industrial Processes  36808.442399   \n",
       "\n",
       "time                                                                                                                                                                                                                                                                     2099-01-01  \\\n",
       "ambition conditionality country_extension exclude_hot_air global_extension model         model_version pathway_id   region scenario                               stage    unit        variable                                                                                       \n",
       "high     C              SSP1BL            exclude         eqw              NDC Factsheet 12Nov2021a_CR 2013-07-18_1 World  2013-07-18_1__high__C__SSP1BL__exclude infilled Mt BC / yr  AR6 climate diagnostics|Infilled|Emissions|BC                                       3.096563   \n",
       "                                                                                                                                                                           Mt CH4 / yr AR6 climate diagnostics|Infilled|Emissions|CH4                                    336.181713   \n",
       "                                                                                                                                                                           Mt CO / yr  AR6 climate diagnostics|Infilled|Emissions|CO                                     469.438794   \n",
       "                                                                                                                                                                           Mt CO2 / yr AR6 climate diagnostics|Infilled|Emissions|CO2|AFOLU                            -2492.203464   \n",
       "                                                                                                                                                                                       AR6 climate diagnostics|Infilled|Emissions|CO2|Energy and Industrial Processes  36514.213260   \n",
       "\n",
       "time                                                                                                                                                                                                                                                                     2100-01-01  \n",
       "ambition conditionality country_extension exclude_hot_air global_extension model         model_version pathway_id   region scenario                               stage    unit        variable                                                                                      \n",
       "high     C              SSP1BL            exclude         eqw              NDC Factsheet 12Nov2021a_CR 2013-07-18_1 World  2013-07-18_1__high__C__SSP1BL__exclude infilled Mt BC / yr  AR6 climate diagnostics|Infilled|Emissions|BC                                       3.068766  \n",
       "                                                                                                                                                                           Mt CH4 / yr AR6 climate diagnostics|Infilled|Emissions|CH4                                    335.256113  \n",
       "                                                                                                                                                                           Mt CO / yr  AR6 climate diagnostics|Infilled|Emissions|CO                                     467.172162  \n",
       "                                                                                                                                                                           Mt CO2 / yr AR6 climate diagnostics|Infilled|Emissions|CO2|AFOLU                            -2465.388107  \n",
       "                                                                                                                                                                                       AR6 climate diagnostics|Infilled|Emissions|CO2|Energy and Industrial Processes  36219.984122  \n",
       "\n",
       "[5 rows x 101 columns]"
      ]
     },
     "execution_count": 13,
     "metadata": {},
     "output_type": "execute_result"
    },
    {
     "data": {
      "application/javascript": [
       "\n",
       "            setTimeout(function() {\n",
       "                var nbb_cell_id = 13;\n",
       "                var nbb_unformatted_code = \"scenarios_to_run.head()\";\n",
       "                var nbb_formatted_code = \"scenarios_to_run.head()\";\n",
       "                var nbb_cells = Jupyter.notebook.get_cells();\n",
       "                for (var i = 0; i < nbb_cells.length; ++i) {\n",
       "                    if (nbb_cells[i].input_prompt_number == nbb_cell_id) {\n",
       "                        if (nbb_cells[i].get_text() == nbb_unformatted_code) {\n",
       "                             nbb_cells[i].set_text(nbb_formatted_code);\n",
       "                        }\n",
       "                        break;\n",
       "                    }\n",
       "                }\n",
       "            }, 500);\n",
       "            "
      ],
      "text/plain": [
       "<IPython.core.display.Javascript object>"
      ]
     },
     "metadata": {},
     "output_type": "display_data"
    }
   ],
   "source": [
    "scenarios_to_run.head()"
   ]
  },
  {
   "cell_type": "code",
   "execution_count": 14,
   "id": "97cffe89",
   "metadata": {},
   "outputs": [
    {
     "data": {
      "application/javascript": [
       "\n",
       "            setTimeout(function() {\n",
       "                var nbb_cell_id = 14;\n",
       "                var nbb_unformatted_code = \"ca_data_dir = os.path.join(CLIMATE_ASSESSMENT, \\\"data\\\", \\\"ndcs\\\")\\nos.makedirs(ca_data_dir, exist_ok=True)\";\n",
       "                var nbb_formatted_code = \"ca_data_dir = os.path.join(CLIMATE_ASSESSMENT, \\\"data\\\", \\\"ndcs\\\")\\nos.makedirs(ca_data_dir, exist_ok=True)\";\n",
       "                var nbb_cells = Jupyter.notebook.get_cells();\n",
       "                for (var i = 0; i < nbb_cells.length; ++i) {\n",
       "                    if (nbb_cells[i].input_prompt_number == nbb_cell_id) {\n",
       "                        if (nbb_cells[i].get_text() == nbb_unformatted_code) {\n",
       "                             nbb_cells[i].set_text(nbb_formatted_code);\n",
       "                        }\n",
       "                        break;\n",
       "                    }\n",
       "                }\n",
       "            }, 500);\n",
       "            "
      ],
      "text/plain": [
       "<IPython.core.display.Javascript object>"
      ]
     },
     "metadata": {},
     "output_type": "display_data"
    }
   ],
   "source": [
    "ca_data_dir = os.path.join(CLIMATE_ASSESSMENT, \"data\", \"ndcs\")\n",
    "os.makedirs(ca_data_dir, exist_ok=True)"
   ]
  },
  {
   "cell_type": "code",
   "execution_count": 15,
   "id": "31f5f676",
   "metadata": {},
   "outputs": [
    {
     "data": {
      "application/javascript": [
       "\n",
       "            setTimeout(function() {\n",
       "                var nbb_cell_id = 15;\n",
       "                var nbb_unformatted_code = \"def dump_scenarios(scenarios_to_write, run_name):\\n    print(len(scenarios_to_write.get_unique_meta(\\\"scenario\\\")))\\n    scenarios_clean = scenarios_to_write.drop_meta(\\n        [\\n            \\\"ambition\\\",\\n            \\\"conditionality\\\",\\n            \\\"country_extension\\\",\\n            \\\"exclude_hot_air\\\",\\n            \\\"global_extension\\\",\\n            \\\"stage\\\",\\n            \\\"pathway_id\\\",\\n            \\\"model_version\\\",\\n        ]\\n    ).filter(year=range(2015, 2101))\\n    pyam.IamDataFrame(scenarios_clean.timeseries(time_axis=\\\"year\\\")).to_csv(\\n        os.path.join(ca_data_dir, f\\\"{NDC_TARGET_RELEASE}_scenarios_{run_name}.csv\\\")\\n    )\";\n",
       "                var nbb_formatted_code = \"def dump_scenarios(scenarios_to_write, run_name):\\n    print(len(scenarios_to_write.get_unique_meta(\\\"scenario\\\")))\\n    scenarios_clean = scenarios_to_write.drop_meta(\\n        [\\n            \\\"ambition\\\",\\n            \\\"conditionality\\\",\\n            \\\"country_extension\\\",\\n            \\\"exclude_hot_air\\\",\\n            \\\"global_extension\\\",\\n            \\\"stage\\\",\\n            \\\"pathway_id\\\",\\n            \\\"model_version\\\",\\n        ]\\n    ).filter(year=range(2015, 2101))\\n    pyam.IamDataFrame(scenarios_clean.timeseries(time_axis=\\\"year\\\")).to_csv(\\n        os.path.join(ca_data_dir, f\\\"{NDC_TARGET_RELEASE}_scenarios_{run_name}.csv\\\")\\n    )\";\n",
       "                var nbb_cells = Jupyter.notebook.get_cells();\n",
       "                for (var i = 0; i < nbb_cells.length; ++i) {\n",
       "                    if (nbb_cells[i].input_prompt_number == nbb_cell_id) {\n",
       "                        if (nbb_cells[i].get_text() == nbb_unformatted_code) {\n",
       "                             nbb_cells[i].set_text(nbb_formatted_code);\n",
       "                        }\n",
       "                        break;\n",
       "                    }\n",
       "                }\n",
       "            }, 500);\n",
       "            "
      ],
      "text/plain": [
       "<IPython.core.display.Javascript object>"
      ]
     },
     "metadata": {},
     "output_type": "display_data"
    }
   ],
   "source": [
    "def dump_scenarios(scenarios_to_write, run_name):\n",
    "    print(len(scenarios_to_write.get_unique_meta(\"scenario\")))\n",
    "    scenarios_clean = scenarios_to_write.drop_meta(\n",
    "        [\n",
    "            \"ambition\",\n",
    "            \"conditionality\",\n",
    "            \"country_extension\",\n",
    "            \"exclude_hot_air\",\n",
    "            \"global_extension\",\n",
    "            \"stage\",\n",
    "            \"pathway_id\",\n",
    "            \"model_version\",\n",
    "        ]\n",
    "    ).filter(year=range(2015, 2101))\n",
    "    pyam.IamDataFrame(scenarios_clean.timeseries(time_axis=\"year\")).to_csv(\n",
    "        os.path.join(ca_data_dir, f\"{NDC_TARGET_RELEASE}_scenarios_{run_name}.csv\")\n",
    "    )"
   ]
  },
  {
   "cell_type": "code",
   "execution_count": 16,
   "id": "ea92b739",
   "metadata": {},
   "outputs": [
    {
     "name": "stdout",
     "output_type": "stream",
     "text": [
      "1418\n"
     ]
    },
    {
     "data": {
      "application/javascript": [
       "\n",
       "            setTimeout(function() {\n",
       "                var nbb_cell_id = 16;\n",
       "                var nbb_unformatted_code = \"dump_scenarios(\\n    scenarios_to_run.filter(exclude_hot_air=\\\"exclude\\\", country_extension=\\\"SSP1BL\\\"),\\n    \\\"complete\\\",\\n)\";\n",
       "                var nbb_formatted_code = \"dump_scenarios(\\n    scenarios_to_run.filter(exclude_hot_air=\\\"exclude\\\", country_extension=\\\"SSP1BL\\\"),\\n    \\\"complete\\\",\\n)\";\n",
       "                var nbb_cells = Jupyter.notebook.get_cells();\n",
       "                for (var i = 0; i < nbb_cells.length; ++i) {\n",
       "                    if (nbb_cells[i].input_prompt_number == nbb_cell_id) {\n",
       "                        if (nbb_cells[i].get_text() == nbb_unformatted_code) {\n",
       "                             nbb_cells[i].set_text(nbb_formatted_code);\n",
       "                        }\n",
       "                        break;\n",
       "                    }\n",
       "                }\n",
       "            }, 500);\n",
       "            "
      ],
      "text/plain": [
       "<IPython.core.display.Javascript object>"
      ]
     },
     "metadata": {},
     "output_type": "display_data"
    }
   ],
   "source": [
    "dump_scenarios(\n",
    "    scenarios_to_run.filter(exclude_hot_air=\"exclude\", country_extension=\"SSP1BL\"),\n",
    "    \"complete\",\n",
    ")"
   ]
  },
  {
   "cell_type": "markdown",
   "id": "58084104",
   "metadata": {},
   "source": [
    "## sensitivity checks"
   ]
  },
  {
   "cell_type": "code",
   "execution_count": 17,
   "id": "fe119195",
   "metadata": {},
   "outputs": [
    {
     "data": {
      "text/html": [
       "<div>\n",
       "<style scoped>\n",
       "    .dataframe tbody tr th:only-of-type {\n",
       "        vertical-align: middle;\n",
       "    }\n",
       "\n",
       "    .dataframe tbody tr th {\n",
       "        vertical-align: top;\n",
       "    }\n",
       "\n",
       "    .dataframe thead th {\n",
       "        text-align: right;\n",
       "    }\n",
       "</style>\n",
       "<table border=\"1\" class=\"dataframe\">\n",
       "  <thead>\n",
       "    <tr style=\"text-align: right;\">\n",
       "      <th></th>\n",
       "      <th>pathway_id</th>\n",
       "      <th>last_country</th>\n",
       "    </tr>\n",
       "  </thead>\n",
       "  <tbody>\n",
       "    <tr>\n",
       "      <th>324</th>\n",
       "      <td>2021-10-10_1</td>\n",
       "      <td>PSE</td>\n",
       "    </tr>\n",
       "    <tr>\n",
       "      <th>325</th>\n",
       "      <td>2021-10-10_2</td>\n",
       "      <td>TUN</td>\n",
       "    </tr>\n",
       "    <tr>\n",
       "      <th>326</th>\n",
       "      <td>2021-10-11_1</td>\n",
       "      <td>BLR</td>\n",
       "    </tr>\n",
       "    <tr>\n",
       "      <th>327</th>\n",
       "      <td>2021-10-11_2</td>\n",
       "      <td>CMR</td>\n",
       "    </tr>\n",
       "    <tr>\n",
       "      <th>328</th>\n",
       "      <td>2021-10-11_3</td>\n",
       "      <td>MLI</td>\n",
       "    </tr>\n",
       "    <tr>\n",
       "      <th>329</th>\n",
       "      <td>2021-10-12_1</td>\n",
       "      <td>ALB</td>\n",
       "    </tr>\n",
       "    <tr>\n",
       "      <th>330</th>\n",
       "      <td>2021-10-12_10</td>\n",
       "      <td>UGA</td>\n",
       "    </tr>\n",
       "    <tr>\n",
       "      <th>331</th>\n",
       "      <td>2021-10-12_2</td>\n",
       "      <td>BEN</td>\n",
       "    </tr>\n",
       "    <tr>\n",
       "      <th>332</th>\n",
       "      <td>2021-10-12_3</td>\n",
       "      <td>GNB</td>\n",
       "    </tr>\n",
       "    <tr>\n",
       "      <th>333</th>\n",
       "      <td>2021-10-12_4</td>\n",
       "      <td>JOR</td>\n",
       "    </tr>\n",
       "    <tr>\n",
       "      <th>334</th>\n",
       "      <td>2021-10-12_5</td>\n",
       "      <td>KWT</td>\n",
       "    </tr>\n",
       "    <tr>\n",
       "      <th>335</th>\n",
       "      <td>2021-10-12_6</td>\n",
       "      <td>MRT</td>\n",
       "    </tr>\n",
       "    <tr>\n",
       "      <th>336</th>\n",
       "      <td>2021-10-12_7</td>\n",
       "      <td>SWZ</td>\n",
       "    </tr>\n",
       "    <tr>\n",
       "      <th>337</th>\n",
       "      <td>2021-10-12_8</td>\n",
       "      <td>TGO</td>\n",
       "    </tr>\n",
       "    <tr>\n",
       "      <th>338</th>\n",
       "      <td>2021-10-12_9</td>\n",
       "      <td>TJK</td>\n",
       "    </tr>\n",
       "    <tr>\n",
       "      <th>339</th>\n",
       "      <td>2021-10-14_1</td>\n",
       "      <td>NRU</td>\n",
       "    </tr>\n",
       "    <tr>\n",
       "      <th>340</th>\n",
       "      <td>2021-10-15_1</td>\n",
       "      <td>GHA</td>\n",
       "    </tr>\n",
       "    <tr>\n",
       "      <th>341</th>\n",
       "      <td>2021-10-15_2</td>\n",
       "      <td>IRQ</td>\n",
       "    </tr>\n",
       "    <tr>\n",
       "      <th>342</th>\n",
       "      <td>2021-10-18_1</td>\n",
       "      <td>BHR</td>\n",
       "    </tr>\n",
       "    <tr>\n",
       "      <th>343</th>\n",
       "      <td>2021-10-19_1</td>\n",
       "      <td>TCD</td>\n",
       "    </tr>\n",
       "    <tr>\n",
       "      <th>344</th>\n",
       "      <td>2021-10-21_1</td>\n",
       "      <td>PAK</td>\n",
       "    </tr>\n",
       "    <tr>\n",
       "      <th>345</th>\n",
       "      <td>2021-10-22_1</td>\n",
       "      <td>JPN</td>\n",
       "    </tr>\n",
       "    <tr>\n",
       "      <th>346</th>\n",
       "      <td>2021-10-23_1</td>\n",
       "      <td>SAU</td>\n",
       "    </tr>\n",
       "    <tr>\n",
       "      <th>347</th>\n",
       "      <td>2021-10-25_1</td>\n",
       "      <td>KNA</td>\n",
       "    </tr>\n",
       "    <tr>\n",
       "      <th>348</th>\n",
       "      <td>2021-10-28_1</td>\n",
       "      <td>AUS</td>\n",
       "    </tr>\n",
       "    <tr>\n",
       "      <th>349</th>\n",
       "      <td>2021-10-28_2</td>\n",
       "      <td>CHN</td>\n",
       "    </tr>\n",
       "    <tr>\n",
       "      <th>350</th>\n",
       "      <td>2021-10-30_1</td>\n",
       "      <td>UZB</td>\n",
       "    </tr>\n",
       "    <tr>\n",
       "      <th>351</th>\n",
       "      <td>2021-11-01_1</td>\n",
       "      <td>IND</td>\n",
       "    </tr>\n",
       "    <tr>\n",
       "      <th>352</th>\n",
       "      <td>2021-11-03_1</td>\n",
       "      <td>NZL</td>\n",
       "    </tr>\n",
       "    <tr>\n",
       "      <th>353</th>\n",
       "      <td>2021-11-09_1</td>\n",
       "      <td>VEN</td>\n",
       "    </tr>\n",
       "  </tbody>\n",
       "</table>\n",
       "</div>"
      ],
      "text/plain": [
       "        pathway_id last_country\n",
       "324   2021-10-10_1          PSE\n",
       "325   2021-10-10_2          TUN\n",
       "326   2021-10-11_1          BLR\n",
       "327   2021-10-11_2          CMR\n",
       "328   2021-10-11_3          MLI\n",
       "329   2021-10-12_1          ALB\n",
       "330  2021-10-12_10          UGA\n",
       "331   2021-10-12_2          BEN\n",
       "332   2021-10-12_3          GNB\n",
       "333   2021-10-12_4          JOR\n",
       "334   2021-10-12_5          KWT\n",
       "335   2021-10-12_6          MRT\n",
       "336   2021-10-12_7          SWZ\n",
       "337   2021-10-12_8          TGO\n",
       "338   2021-10-12_9          TJK\n",
       "339   2021-10-14_1          NRU\n",
       "340   2021-10-15_1          GHA\n",
       "341   2021-10-15_2          IRQ\n",
       "342   2021-10-18_1          BHR\n",
       "343   2021-10-19_1          TCD\n",
       "344   2021-10-21_1          PAK\n",
       "345   2021-10-22_1          JPN\n",
       "346   2021-10-23_1          SAU\n",
       "347   2021-10-25_1          KNA\n",
       "348   2021-10-28_1          AUS\n",
       "349   2021-10-28_2          CHN\n",
       "350   2021-10-30_1          UZB\n",
       "351   2021-11-01_1          IND\n",
       "352   2021-11-03_1          NZL\n",
       "353   2021-11-09_1          VEN"
      ]
     },
     "execution_count": 17,
     "metadata": {},
     "output_type": "execute_result"
    },
    {
     "data": {
      "application/javascript": [
       "\n",
       "            setTimeout(function() {\n",
       "                var nbb_cell_id = 17;\n",
       "                var nbb_unformatted_code = \"meta_fnames = sorted(\\n    glob(\\n        os.path.join(\\n            PROCESSED_DATA_DIR,\\n            \\\"global_emissions_meta\\\",\\n            NDC_TARGET_RELEASE,\\n            \\\"low\\\",\\n            \\\"C\\\",\\n            \\\"*\\\",\\n            \\\"SSP1BL\\\",\\n            \\\"selected_countries.json\\\",\\n        )\\n    )\\n)\\n\\nlast_countries = []\\nfor f in meta_fnames:\\n    with open(f) as fh:\\n        data = json.load(fh)\\n    last_countries.append(\\n        {\\\"pathway_id\\\": data[\\\"pathway_id\\\"], \\\"last_country\\\": data[\\\"last_country\\\"]}\\n    )\\nlast_countries = pd.DataFrame(last_countries)\\nlast_countries.iloc[-30:]\";\n",
       "                var nbb_formatted_code = \"meta_fnames = sorted(\\n    glob(\\n        os.path.join(\\n            PROCESSED_DATA_DIR,\\n            \\\"global_emissions_meta\\\",\\n            NDC_TARGET_RELEASE,\\n            \\\"low\\\",\\n            \\\"C\\\",\\n            \\\"*\\\",\\n            \\\"SSP1BL\\\",\\n            \\\"selected_countries.json\\\",\\n        )\\n    )\\n)\\n\\nlast_countries = []\\nfor f in meta_fnames:\\n    with open(f) as fh:\\n        data = json.load(fh)\\n    last_countries.append(\\n        {\\\"pathway_id\\\": data[\\\"pathway_id\\\"], \\\"last_country\\\": data[\\\"last_country\\\"]}\\n    )\\nlast_countries = pd.DataFrame(last_countries)\\nlast_countries.iloc[-30:]\";\n",
       "                var nbb_cells = Jupyter.notebook.get_cells();\n",
       "                for (var i = 0; i < nbb_cells.length; ++i) {\n",
       "                    if (nbb_cells[i].input_prompt_number == nbb_cell_id) {\n",
       "                        if (nbb_cells[i].get_text() == nbb_unformatted_code) {\n",
       "                             nbb_cells[i].set_text(nbb_formatted_code);\n",
       "                        }\n",
       "                        break;\n",
       "                    }\n",
       "                }\n",
       "            }, 500);\n",
       "            "
      ],
      "text/plain": [
       "<IPython.core.display.Javascript object>"
      ]
     },
     "metadata": {},
     "output_type": "display_data"
    }
   ],
   "source": [
    "meta_fnames = sorted(\n",
    "    glob(\n",
    "        os.path.join(\n",
    "            PROCESSED_DATA_DIR,\n",
    "            \"global_emissions_meta\",\n",
    "            NDC_TARGET_RELEASE,\n",
    "            \"low\",\n",
    "            \"C\",\n",
    "            \"*\",\n",
    "            \"SSP1BL\",\n",
    "            \"selected_countries.json\",\n",
    "        )\n",
    "    )\n",
    ")\n",
    "\n",
    "last_countries = []\n",
    "for f in meta_fnames:\n",
    "    with open(f) as fh:\n",
    "        data = json.load(fh)\n",
    "    last_countries.append(\n",
    "        {\"pathway_id\": data[\"pathway_id\"], \"last_country\": data[\"last_country\"]}\n",
    "    )\n",
    "last_countries = pd.DataFrame(last_countries)\n",
    "last_countries.iloc[-30:]"
   ]
  },
  {
   "cell_type": "code",
   "execution_count": 18,
   "id": "56151eb3",
   "metadata": {},
   "outputs": [
    {
     "data": {
      "text/html": [
       "<div>\n",
       "<style scoped>\n",
       "    .dataframe tbody tr th:only-of-type {\n",
       "        vertical-align: middle;\n",
       "    }\n",
       "\n",
       "    .dataframe tbody tr th {\n",
       "        vertical-align: top;\n",
       "    }\n",
       "\n",
       "    .dataframe thead th {\n",
       "        text-align: right;\n",
       "    }\n",
       "</style>\n",
       "<table border=\"1\" class=\"dataframe\">\n",
       "  <thead>\n",
       "    <tr style=\"text-align: right;\">\n",
       "      <th></th>\n",
       "      <th>pathway_id</th>\n",
       "      <th>last_country</th>\n",
       "    </tr>\n",
       "  </thead>\n",
       "  <tbody>\n",
       "    <tr>\n",
       "      <th>77</th>\n",
       "      <td>2016-10-02_1</td>\n",
       "      <td>IND</td>\n",
       "    </tr>\n",
       "    <tr>\n",
       "      <th>351</th>\n",
       "      <td>2021-11-01_1</td>\n",
       "      <td>IND</td>\n",
       "    </tr>\n",
       "  </tbody>\n",
       "</table>\n",
       "</div>"
      ],
      "text/plain": [
       "       pathway_id last_country\n",
       "77   2016-10-02_1          IND\n",
       "351  2021-11-01_1          IND"
      ]
     },
     "execution_count": 18,
     "metadata": {},
     "output_type": "execute_result"
    },
    {
     "data": {
      "application/javascript": [
       "\n",
       "            setTimeout(function() {\n",
       "                var nbb_cell_id = 18;\n",
       "                var nbb_unformatted_code = \"last_countries[last_countries.last_country == \\\"IND\\\"]\";\n",
       "                var nbb_formatted_code = \"last_countries[last_countries.last_country == \\\"IND\\\"]\";\n",
       "                var nbb_cells = Jupyter.notebook.get_cells();\n",
       "                for (var i = 0; i < nbb_cells.length; ++i) {\n",
       "                    if (nbb_cells[i].input_prompt_number == nbb_cell_id) {\n",
       "                        if (nbb_cells[i].get_text() == nbb_unformatted_code) {\n",
       "                             nbb_cells[i].set_text(nbb_formatted_code);\n",
       "                        }\n",
       "                        break;\n",
       "                    }\n",
       "                }\n",
       "            }, 500);\n",
       "            "
      ],
      "text/plain": [
       "<IPython.core.display.Javascript object>"
      ]
     },
     "metadata": {},
     "output_type": "display_data"
    }
   ],
   "source": [
    "last_countries[last_countries.last_country == \"IND\"]"
   ]
  },
  {
   "cell_type": "code",
   "execution_count": 19,
   "id": "de8f3991",
   "metadata": {},
   "outputs": [
    {
     "data": {
      "application/javascript": [
       "\n",
       "            setTimeout(function() {\n",
       "                var nbb_cell_id = 19;\n",
       "                var nbb_unformatted_code = \"pathway_ids = sorted(scenarios_to_run.get_unique_meta(\\\"pathway_id\\\"))\";\n",
       "                var nbb_formatted_code = \"pathway_ids = sorted(scenarios_to_run.get_unique_meta(\\\"pathway_id\\\"))\";\n",
       "                var nbb_cells = Jupyter.notebook.get_cells();\n",
       "                for (var i = 0; i < nbb_cells.length; ++i) {\n",
       "                    if (nbb_cells[i].input_prompt_number == nbb_cell_id) {\n",
       "                        if (nbb_cells[i].get_text() == nbb_unformatted_code) {\n",
       "                             nbb_cells[i].set_text(nbb_formatted_code);\n",
       "                        }\n",
       "                        break;\n",
       "                    }\n",
       "                }\n",
       "            }, 500);\n",
       "            "
      ],
      "text/plain": [
       "<IPython.core.display.Javascript object>"
      ]
     },
     "metadata": {},
     "output_type": "display_data"
    }
   ],
   "source": [
    "pathway_ids = sorted(scenarios_to_run.get_unique_meta(\"pathway_id\"))"
   ]
  },
  {
   "cell_type": "code",
   "execution_count": 20,
   "id": "863bba7c",
   "metadata": {},
   "outputs": [
    {
     "data": {
      "text/plain": [
       "'2021-11-09_1'"
      ]
     },
     "execution_count": 20,
     "metadata": {},
     "output_type": "execute_result"
    },
    {
     "data": {
      "application/javascript": [
       "\n",
       "            setTimeout(function() {\n",
       "                var nbb_cell_id = 20;\n",
       "                var nbb_unformatted_code = \"most_recent_pathway = pathway_ids[-1]\\nmost_recent_pathway\";\n",
       "                var nbb_formatted_code = \"most_recent_pathway = pathway_ids[-1]\\nmost_recent_pathway\";\n",
       "                var nbb_cells = Jupyter.notebook.get_cells();\n",
       "                for (var i = 0; i < nbb_cells.length; ++i) {\n",
       "                    if (nbb_cells[i].input_prompt_number == nbb_cell_id) {\n",
       "                        if (nbb_cells[i].get_text() == nbb_unformatted_code) {\n",
       "                             nbb_cells[i].set_text(nbb_formatted_code);\n",
       "                        }\n",
       "                        break;\n",
       "                    }\n",
       "                }\n",
       "            }, 500);\n",
       "            "
      ],
      "text/plain": [
       "<IPython.core.display.Javascript object>"
      ]
     },
     "metadata": {},
     "output_type": "display_data"
    }
   ],
   "source": [
    "most_recent_pathway = pathway_ids[-1]\n",
    "most_recent_pathway"
   ]
  },
  {
   "cell_type": "code",
   "execution_count": 21,
   "id": "11365d7f",
   "metadata": {},
   "outputs": [
    {
     "data": {
      "application/javascript": [
       "\n",
       "            setTimeout(function() {\n",
       "                var nbb_cell_id = 21;\n",
       "                var nbb_unformatted_code = \"target_pathways = [\\n    #     \\\"2021-10-18_1\\\",\\n    #     \\\"2021-10-28_1\\\",\\n    #     \\\"2021-10-28_2\\\",\\n    #     \\\"2021-10-30-1\\\",\\n    #     \\\"2021-11-01_1\\\",\\n    most_recent_pathway,\\n]\";\n",
       "                var nbb_formatted_code = \"target_pathways = [\\n    #     \\\"2021-10-18_1\\\",\\n    #     \\\"2021-10-28_1\\\",\\n    #     \\\"2021-10-28_2\\\",\\n    #     \\\"2021-10-30-1\\\",\\n    #     \\\"2021-11-01_1\\\",\\n    most_recent_pathway,\\n]\";\n",
       "                var nbb_cells = Jupyter.notebook.get_cells();\n",
       "                for (var i = 0; i < nbb_cells.length; ++i) {\n",
       "                    if (nbb_cells[i].input_prompt_number == nbb_cell_id) {\n",
       "                        if (nbb_cells[i].get_text() == nbb_unformatted_code) {\n",
       "                             nbb_cells[i].set_text(nbb_formatted_code);\n",
       "                        }\n",
       "                        break;\n",
       "                    }\n",
       "                }\n",
       "            }, 500);\n",
       "            "
      ],
      "text/plain": [
       "<IPython.core.display.Javascript object>"
      ]
     },
     "metadata": {},
     "output_type": "display_data"
    }
   ],
   "source": [
    "target_pathways = [\n",
    "    #     \"2021-10-18_1\",\n",
    "    #     \"2021-10-28_1\",\n",
    "    #     \"2021-10-28_2\",\n",
    "    #     \"2021-10-30-1\",\n",
    "    #     \"2021-11-01_1\",\n",
    "    most_recent_pathway,\n",
    "]"
   ]
  },
  {
   "cell_type": "code",
   "execution_count": 22,
   "id": "9043940e",
   "metadata": {
    "scrolled": true
   },
   "outputs": [
    {
     "data": {
      "image/png": "[encoded data removed]",
      "text/plain": [
       "<Figure size 864x576 with 1 Axes>"
      ]
     },
     "metadata": {
      "needs_background": "light"
     },
     "output_type": "display_data"
    },
    {
     "data": {
      "application/javascript": [
       "\n",
       "            setTimeout(function() {\n",
       "                var nbb_cell_id = 22;\n",
       "                var nbb_unformatted_code = \"scenarios_to_run.filter(\\n    pathway_id=target_pathways,\\n    conditionality=[\\\"C\\\", \\\"U\\\"],\\n    variable=\\\"AR6 climate diagnostics|Infilled|Emissions|CO2|Energy and Industrial Processes\\\",\\n).line_plot(hue=\\\"pathway_id\\\", style=\\\"scenario\\\")\";\n",
       "                var nbb_formatted_code = \"scenarios_to_run.filter(\\n    pathway_id=target_pathways,\\n    conditionality=[\\\"C\\\", \\\"U\\\"],\\n    variable=\\\"AR6 climate diagnostics|Infilled|Emissions|CO2|Energy and Industrial Processes\\\",\\n).line_plot(hue=\\\"pathway_id\\\", style=\\\"scenario\\\")\";\n",
       "                var nbb_cells = Jupyter.notebook.get_cells();\n",
       "                for (var i = 0; i < nbb_cells.length; ++i) {\n",
       "                    if (nbb_cells[i].input_prompt_number == nbb_cell_id) {\n",
       "                        if (nbb_cells[i].get_text() == nbb_unformatted_code) {\n",
       "                             nbb_cells[i].set_text(nbb_formatted_code);\n",
       "                        }\n",
       "                        break;\n",
       "                    }\n",
       "                }\n",
       "            }, 500);\n",
       "            "
      ],
      "text/plain": [
       "<IPython.core.display.Javascript object>"
      ]
     },
     "metadata": {},
     "output_type": "display_data"
    }
   ],
   "source": [
    "scenarios_to_run.filter(\n",
    "    pathway_id=target_pathways,\n",
    "    conditionality=[\"C\", \"U\"],\n",
    "    variable=\"AR6 climate diagnostics|Infilled|Emissions|CO2|Energy and Industrial Processes\",\n",
    ").line_plot(hue=\"pathway_id\", style=\"scenario\")"
   ]
  },
  {
   "cell_type": "code",
   "execution_count": 23,
   "id": "3cff429c",
   "metadata": {},
   "outputs": [
    {
     "name": "stdout",
     "output_type": "stream",
     "text": [
      "32\n"
     ]
    },
    {
     "data": {
      "application/javascript": [
       "\n",
       "            setTimeout(function() {\n",
       "                var nbb_cell_id = 23;\n",
       "                var nbb_unformatted_code = \"dump_scenarios(\\n    scenarios_to_run.filter(pathway_id=target_pathways, conditionality=[\\\"C\\\", \\\"U\\\"]),\\n    \\\"sensitivity\\\",\\n)\";\n",
       "                var nbb_formatted_code = \"dump_scenarios(\\n    scenarios_to_run.filter(pathway_id=target_pathways, conditionality=[\\\"C\\\", \\\"U\\\"]),\\n    \\\"sensitivity\\\",\\n)\";\n",
       "                var nbb_cells = Jupyter.notebook.get_cells();\n",
       "                for (var i = 0; i < nbb_cells.length; ++i) {\n",
       "                    if (nbb_cells[i].input_prompt_number == nbb_cell_id) {\n",
       "                        if (nbb_cells[i].get_text() == nbb_unformatted_code) {\n",
       "                             nbb_cells[i].set_text(nbb_formatted_code);\n",
       "                        }\n",
       "                        break;\n",
       "                    }\n",
       "                }\n",
       "            }, 500);\n",
       "            "
      ],
      "text/plain": [
       "<IPython.core.display.Javascript object>"
      ]
     },
     "metadata": {},
     "output_type": "display_data"
    }
   ],
   "source": [
    "dump_scenarios(\n",
    "    scenarios_to_run.filter(pathway_id=target_pathways, conditionality=[\"C\", \"U\"]),\n",
    "    \"sensitivity\",\n",
    ")"
   ]
  },
  {
   "cell_type": "code",
   "execution_count": 24,
   "id": "080d2e85",
   "metadata": {},
   "outputs": [
    {
     "data": {
      "text/plain": [
       "['2021-11-09_1__high__C__2030__exclude',\n",
       " '2021-11-09_1__high__C__2030__include',\n",
       " '2021-11-09_1__high__C__SSP1BL__exclude',\n",
       " '2021-11-09_1__high__C__SSP1BL__include',\n",
       " '2021-11-09_1__high__C__constant__exclude',\n",
       " '2021-11-09_1__high__C__constant__include',\n",
       " '2021-11-09_1__high__C__rate__exclude',\n",
       " '2021-11-09_1__high__C__rate__include',\n",
       " '2021-11-09_1__high__R__2030__exclude',\n",
       " '2021-11-09_1__high__R__2030__include',\n",
       " '2021-11-09_1__high__R__SSP1BL__exclude',\n",
       " '2021-11-09_1__high__R__SSP1BL__include',\n",
       " '2021-11-09_1__high__R__constant__exclude',\n",
       " '2021-11-09_1__high__R__constant__include',\n",
       " '2021-11-09_1__high__R__rate__exclude',\n",
       " '2021-11-09_1__high__R__rate__include',\n",
       " '2021-11-09_1__high__U__2030__exclude',\n",
       " '2021-11-09_1__high__U__2030__include',\n",
       " '2021-11-09_1__high__U__SSP1BL__exclude',\n",
       " '2021-11-09_1__high__U__SSP1BL__include',\n",
       " '2021-11-09_1__high__U__constant__exclude',\n",
       " '2021-11-09_1__high__U__constant__include',\n",
       " '2021-11-09_1__high__U__rate__exclude',\n",
       " '2021-11-09_1__high__U__rate__include',\n",
       " '2021-11-09_1__low__C__2030__exclude',\n",
       " '2021-11-09_1__low__C__2030__include',\n",
       " '2021-11-09_1__low__C__SSP1BL__exclude',\n",
       " '2021-11-09_1__low__C__SSP1BL__include',\n",
       " '2021-11-09_1__low__C__constant__exclude',\n",
       " '2021-11-09_1__low__C__constant__include',\n",
       " '2021-11-09_1__low__C__rate__exclude',\n",
       " '2021-11-09_1__low__C__rate__include',\n",
       " '2021-11-09_1__low__R__2030__exclude',\n",
       " '2021-11-09_1__low__R__2030__include',\n",
       " '2021-11-09_1__low__R__SSP1BL__exclude',\n",
       " '2021-11-09_1__low__R__SSP1BL__include',\n",
       " '2021-11-09_1__low__R__constant__exclude',\n",
       " '2021-11-09_1__low__R__constant__include',\n",
       " '2021-11-09_1__low__R__rate__exclude',\n",
       " '2021-11-09_1__low__R__rate__include',\n",
       " '2021-11-09_1__low__U__2030__exclude',\n",
       " '2021-11-09_1__low__U__2030__include',\n",
       " '2021-11-09_1__low__U__SSP1BL__exclude',\n",
       " '2021-11-09_1__low__U__SSP1BL__include',\n",
       " '2021-11-09_1__low__U__constant__exclude',\n",
       " '2021-11-09_1__low__U__constant__include',\n",
       " '2021-11-09_1__low__U__rate__exclude',\n",
       " '2021-11-09_1__low__U__rate__include']"
      ]
     },
     "execution_count": 24,
     "metadata": {},
     "output_type": "execute_result"
    },
    {
     "data": {
      "application/javascript": [
       "\n",
       "            setTimeout(function() {\n",
       "                var nbb_cell_id = 24;\n",
       "                var nbb_unformatted_code = \"scenarios_to_run.filter(pathway_id=target_pathways).get_unique_meta(\\\"scenario\\\")\";\n",
       "                var nbb_formatted_code = \"scenarios_to_run.filter(pathway_id=target_pathways).get_unique_meta(\\\"scenario\\\")\";\n",
       "                var nbb_cells = Jupyter.notebook.get_cells();\n",
       "                for (var i = 0; i < nbb_cells.length; ++i) {\n",
       "                    if (nbb_cells[i].input_prompt_number == nbb_cell_id) {\n",
       "                        if (nbb_cells[i].get_text() == nbb_unformatted_code) {\n",
       "                             nbb_cells[i].set_text(nbb_formatted_code);\n",
       "                        }\n",
       "                        break;\n",
       "                    }\n",
       "                }\n",
       "            }, 500);\n",
       "            "
      ],
      "text/plain": [
       "<IPython.core.display.Javascript object>"
      ]
     },
     "metadata": {},
     "output_type": "display_data"
    }
   ],
   "source": [
    "scenarios_to_run.filter(pathway_id=target_pathways).get_unique_meta(\"scenario\")"
   ]
  },
  {
   "cell_type": "code",
   "execution_count": 25,
   "id": "845d214e",
   "metadata": {},
   "outputs": [
    {
     "data": {
      "application/javascript": [
       "\n",
       "            setTimeout(function() {\n",
       "                var nbb_cell_id = 25;\n",
       "                var nbb_unformatted_code = \"for g in scenarios.filter(pathway_id=target_pathways).groupby(\\\"scenario\\\"):\\n    g.drop_meta([\\\"stage\\\", \\\"global_extension\\\"]).to_csv(\\n        os.path.join(\\n            PROCESSED_DATA_DIR,\\n            \\\"global_emissions\\\",\\n            NDC_TARGET_RELEASE,\\n            \\\"{}.csv\\\".format(g.get_unique_meta(\\\"scenario\\\", True)),\\n        )\\n    )\";\n",
       "                var nbb_formatted_code = \"for g in scenarios.filter(pathway_id=target_pathways).groupby(\\\"scenario\\\"):\\n    g.drop_meta([\\\"stage\\\", \\\"global_extension\\\"]).to_csv(\\n        os.path.join(\\n            PROCESSED_DATA_DIR,\\n            \\\"global_emissions\\\",\\n            NDC_TARGET_RELEASE,\\n            \\\"{}.csv\\\".format(g.get_unique_meta(\\\"scenario\\\", True)),\\n        )\\n    )\";\n",
       "                var nbb_cells = Jupyter.notebook.get_cells();\n",
       "                for (var i = 0; i < nbb_cells.length; ++i) {\n",
       "                    if (nbb_cells[i].input_prompt_number == nbb_cell_id) {\n",
       "                        if (nbb_cells[i].get_text() == nbb_unformatted_code) {\n",
       "                             nbb_cells[i].set_text(nbb_formatted_code);\n",
       "                        }\n",
       "                        break;\n",
       "                    }\n",
       "                }\n",
       "            }, 500);\n",
       "            "
      ],
      "text/plain": [
       "<IPython.core.display.Javascript object>"
      ]
     },
     "metadata": {},
     "output_type": "display_data"
    }
   ],
   "source": [
    "for g in scenarios.filter(pathway_id=target_pathways).groupby(\"scenario\"):\n",
    "    g.drop_meta([\"stage\", \"global_extension\"]).to_csv(\n",
    "        os.path.join(\n",
    "            PROCESSED_DATA_DIR,\n",
    "            \"global_emissions\",\n",
    "            NDC_TARGET_RELEASE,\n",
    "            \"{}.csv\".format(g.get_unique_meta(\"scenario\", True)),\n",
    "        )\n",
    "    )"
   ]
  },
  {
   "cell_type": "markdown",
   "id": "a8965c0c",
   "metadata": {},
   "source": [
    "# Extra Methane pledge scenarios\n",
    "\n",
    "Assume triangular shapes from 2020 (=0) to 2030 (=max) to 2040 (=0)"
   ]
  },
  {
   "cell_type": "code",
   "execution_count": 26,
   "id": "e95fcc31",
   "metadata": {},
   "outputs": [
    {
     "data": {
      "application/javascript": [
       "\n",
       "            setTimeout(function() {\n",
       "                var nbb_cell_id = 26;\n",
       "                var nbb_unformatted_code = \"target_scenario_name = \\\"2021-11-03_1__high__C__SSP1BL__exclude\\\"\";\n",
       "                var nbb_formatted_code = \"target_scenario_name = \\\"2021-11-03_1__high__C__SSP1BL__exclude\\\"\";\n",
       "                var nbb_cells = Jupyter.notebook.get_cells();\n",
       "                for (var i = 0; i < nbb_cells.length; ++i) {\n",
       "                    if (nbb_cells[i].input_prompt_number == nbb_cell_id) {\n",
       "                        if (nbb_cells[i].get_text() == nbb_unformatted_code) {\n",
       "                             nbb_cells[i].set_text(nbb_formatted_code);\n",
       "                        }\n",
       "                        break;\n",
       "                    }\n",
       "                }\n",
       "            }, 500);\n",
       "            "
      ],
      "text/plain": [
       "<IPython.core.display.Javascript object>"
      ]
     },
     "metadata": {},
     "output_type": "display_data"
    }
   ],
   "source": [
    "target_scenario_name = \"2021-11-03_1__high__C__SSP1BL__exclude\"\n"
   ]
  },
  {
   "cell_type": "code",
   "execution_count": 27,
   "id": "788d0ff7",
   "metadata": {},
   "outputs": [
    {
     "data": {
      "application/javascript": [
       "\n",
       "            setTimeout(function() {\n",
       "                var nbb_cell_id = 27;\n",
       "                var nbb_unformatted_code = \"pledges = {\\\"fullCH4\\\": -90, \\\"unconditionalCH4\\\": -56.7, \\\"conditionalCH4\\\": -37.1}\";\n",
       "                var nbb_formatted_code = \"pledges = {\\\"fullCH4\\\": -90, \\\"unconditionalCH4\\\": -56.7, \\\"conditionalCH4\\\": -37.1}\";\n",
       "                var nbb_cells = Jupyter.notebook.get_cells();\n",
       "                for (var i = 0; i < nbb_cells.length; ++i) {\n",
       "                    if (nbb_cells[i].input_prompt_number == nbb_cell_id) {\n",
       "                        if (nbb_cells[i].get_text() == nbb_unformatted_code) {\n",
       "                             nbb_cells[i].set_text(nbb_formatted_code);\n",
       "                        }\n",
       "                        break;\n",
       "                    }\n",
       "                }\n",
       "            }, 500);\n",
       "            "
      ],
      "text/plain": [
       "<IPython.core.display.Javascript object>"
      ]
     },
     "metadata": {},
     "output_type": "display_data"
    }
   ],
   "source": [
    "pledges = {\"fullCH4\": -90, \"unconditionalCH4\": -56.7, \"conditionalCH4\": -37.1}"
   ]
  },
  {
   "cell_type": "code",
   "execution_count": 28,
   "id": "abce7b88",
   "metadata": {},
   "outputs": [
    {
     "data": {
      "application/javascript": [
       "\n",
       "            setTimeout(function() {\n",
       "                var nbb_cell_id = 28;\n",
       "                var nbb_unformatted_code = \"def create_updated_methane(emissions, pledge):\\n    assert (\\n        emissions.get_unique_meta(\\\"variable\\\", True)\\n        == \\\"AR6 climate diagnostics|Infilled|Emissions|CH4\\\"\\n    )\\n    ts = emissions.timeseries(time_axis=\\\"year\\\")\\n\\n    for year in range(2020, 2100 + 1):\\n        if year <= 2030:\\n            delta_ch4 = (year - 2020) * pledge / 10\\n            ts.loc[:, year] = ts.loc[:, year] + delta_ch4\\n        else:\\n            val_2030 = ts.loc[:, 2030].squeeze()\\n            ts.loc[:, year] = min(ts.loc[:, year].squeeze(), val_2030)\\n    return scmdata.ScmRun(ts)\\n\\n\\ndef create_updated_scenario(scenario_name, pledge_name):\\n    target_scenario = scenarios.filter(scenario=scenario_name)\\n\\n    updated_scenario = scmdata.run_append(\\n        [\\n            target_scenario.filter(variable=\\\"*|Emissions|CH4\\\", keep=False),\\n            create_updated_methane(\\n                target_scenario.filter(variable=\\\"*|Emissions|CH4\\\"),\\n                pledge=pledges[pledge_name],\\n            ),\\n        ]\\n    )\\n    updated_scenario[\\\"scenario\\\"] = scenario_name + \\\"__\\\" + pledge_name\\n\\n    return updated_scenario\";\n",
       "                var nbb_formatted_code = \"def create_updated_methane(emissions, pledge):\\n    assert (\\n        emissions.get_unique_meta(\\\"variable\\\", True)\\n        == \\\"AR6 climate diagnostics|Infilled|Emissions|CH4\\\"\\n    )\\n    ts = emissions.timeseries(time_axis=\\\"year\\\")\\n\\n    for year in range(2020, 2100 + 1):\\n        if year <= 2030:\\n            delta_ch4 = (year - 2020) * pledge / 10\\n            ts.loc[:, year] = ts.loc[:, year] + delta_ch4\\n        else:\\n            val_2030 = ts.loc[:, 2030].squeeze()\\n            ts.loc[:, year] = min(ts.loc[:, year].squeeze(), val_2030)\\n    return scmdata.ScmRun(ts)\\n\\n\\ndef create_updated_scenario(scenario_name, pledge_name):\\n    target_scenario = scenarios.filter(scenario=scenario_name)\\n\\n    updated_scenario = scmdata.run_append(\\n        [\\n            target_scenario.filter(variable=\\\"*|Emissions|CH4\\\", keep=False),\\n            create_updated_methane(\\n                target_scenario.filter(variable=\\\"*|Emissions|CH4\\\"),\\n                pledge=pledges[pledge_name],\\n            ),\\n        ]\\n    )\\n    updated_scenario[\\\"scenario\\\"] = scenario_name + \\\"__\\\" + pledge_name\\n\\n    return updated_scenario\";\n",
       "                var nbb_cells = Jupyter.notebook.get_cells();\n",
       "                for (var i = 0; i < nbb_cells.length; ++i) {\n",
       "                    if (nbb_cells[i].input_prompt_number == nbb_cell_id) {\n",
       "                        if (nbb_cells[i].get_text() == nbb_unformatted_code) {\n",
       "                             nbb_cells[i].set_text(nbb_formatted_code);\n",
       "                        }\n",
       "                        break;\n",
       "                    }\n",
       "                }\n",
       "            }, 500);\n",
       "            "
      ],
      "text/plain": [
       "<IPython.core.display.Javascript object>"
      ]
     },
     "metadata": {},
     "output_type": "display_data"
    }
   ],
   "source": [
    "def create_updated_methane(emissions, pledge):\n",
    "    assert (\n",
    "        emissions.get_unique_meta(\"variable\", True)\n",
    "        == \"AR6 climate diagnostics|Infilled|Emissions|CH4\"\n",
    "    )\n",
    "    ts = emissions.timeseries(time_axis=\"year\")\n",
    "\n",
    "    for year in range(2020, 2100 + 1):\n",
    "        if year <= 2030:\n",
    "            delta_ch4 = (year - 2020) * pledge / 10\n",
    "            ts.loc[:, year] = ts.loc[:, year] + delta_ch4\n",
    "        else:\n",
    "            val_2030 = ts.loc[:, 2030].squeeze()\n",
    "            ts.loc[:, year] = min(ts.loc[:, year].squeeze(), val_2030)\n",
    "    return scmdata.ScmRun(ts)\n",
    "\n",
    "\n",
    "def create_updated_scenario(scenario_name, pledge_name):\n",
    "    target_scenario = scenarios.filter(scenario=scenario_name)\n",
    "\n",
    "    updated_scenario = scmdata.run_append(\n",
    "        [\n",
    "            target_scenario.filter(variable=\"*|Emissions|CH4\", keep=False),\n",
    "            create_updated_methane(\n",
    "                target_scenario.filter(variable=\"*|Emissions|CH4\"),\n",
    "                pledge=pledges[pledge_name],\n",
    "            ),\n",
    "        ]\n",
    "    )\n",
    "    updated_scenario[\"scenario\"] = scenario_name + \"__\" + pledge_name\n",
    "\n",
    "    return updated_scenario"
   ]
  },
  {
   "cell_type": "code",
   "execution_count": 29,
   "id": "70cb7cf2",
   "metadata": {
    "scrolled": false
   },
   "outputs": [
    {
     "data": {
      "text/plain": [
       "['2021-11-03_1__high__C__SSP1BL__exclude__fullCH4',\n",
       " '2021-11-03_1__high__C__SSP1BL__exclude__unconditionalCH4',\n",
       " '2021-11-03_1__high__C__SSP1BL__exclude__conditionalCH4']"
      ]
     },
     "execution_count": 29,
     "metadata": {},
     "output_type": "execute_result"
    },
    {
     "data": {
      "application/javascript": [
       "\n",
       "            setTimeout(function() {\n",
       "                var nbb_cell_id = 29;\n",
       "                var nbb_unformatted_code = \"updated_scenarios = scmdata.run_append(\\n    [create_updated_scenario(target_scenario_name, pledge) for pledge in pledges]\\n)\\nupdated_scenarios.get_unique_meta(\\\"scenario\\\")\";\n",
       "                var nbb_formatted_code = \"updated_scenarios = scmdata.run_append(\\n    [create_updated_scenario(target_scenario_name, pledge) for pledge in pledges]\\n)\\nupdated_scenarios.get_unique_meta(\\\"scenario\\\")\";\n",
       "                var nbb_cells = Jupyter.notebook.get_cells();\n",
       "                for (var i = 0; i < nbb_cells.length; ++i) {\n",
       "                    if (nbb_cells[i].input_prompt_number == nbb_cell_id) {\n",
       "                        if (nbb_cells[i].get_text() == nbb_unformatted_code) {\n",
       "                             nbb_cells[i].set_text(nbb_formatted_code);\n",
       "                        }\n",
       "                        break;\n",
       "                    }\n",
       "                }\n",
       "            }, 500);\n",
       "            "
      ],
      "text/plain": [
       "<IPython.core.display.Javascript object>"
      ]
     },
     "metadata": {},
     "output_type": "display_data"
    }
   ],
   "source": [
    "updated_scenarios = scmdata.run_append(\n",
    "    [create_updated_scenario(target_scenario_name, pledge) for pledge in pledges]\n",
    ")\n",
    "updated_scenarios.get_unique_meta(\"scenario\")"
   ]
  },
  {
   "cell_type": "code",
   "execution_count": 30,
   "id": "bcd11c51",
   "metadata": {},
   "outputs": [
    {
     "data": {
      "text/plain": [
       "<AxesSubplot:xlabel='time', ylabel='Mt CH4 / yr'>"
      ]
     },
     "execution_count": 30,
     "metadata": {},
     "output_type": "execute_result"
    },
    {
     "data": {
      "image/png": "[encoded data removed]",
      "text/plain": [
       "<Figure size 864x576 with 1 Axes>"
      ]
     },
     "metadata": {
      "needs_background": "light"
     },
     "output_type": "display_data"
    },
    {
     "data": {
      "application/javascript": [
       "\n",
       "            setTimeout(function() {\n",
       "                var nbb_cell_id = 30;\n",
       "                var nbb_unformatted_code = \"scmdata.run_append(\\n    [updated_scenarios, scenarios.filter(scenario=target_scenario_name)]\\n).filter(variable=\\\"*|Emissions|CH4\\\").lineplot()\";\n",
       "                var nbb_formatted_code = \"scmdata.run_append(\\n    [updated_scenarios, scenarios.filter(scenario=target_scenario_name)]\\n).filter(variable=\\\"*|Emissions|CH4\\\").lineplot()\";\n",
       "                var nbb_cells = Jupyter.notebook.get_cells();\n",
       "                for (var i = 0; i < nbb_cells.length; ++i) {\n",
       "                    if (nbb_cells[i].input_prompt_number == nbb_cell_id) {\n",
       "                        if (nbb_cells[i].get_text() == nbb_unformatted_code) {\n",
       "                             nbb_cells[i].set_text(nbb_formatted_code);\n",
       "                        }\n",
       "                        break;\n",
       "                    }\n",
       "                }\n",
       "            }, 500);\n",
       "            "
      ],
      "text/plain": [
       "<IPython.core.display.Javascript object>"
      ]
     },
     "metadata": {},
     "output_type": "display_data"
    }
   ],
   "source": [
    "scmdata.run_append(\n",
    "    [updated_scenarios, scenarios.filter(scenario=target_scenario_name)]\n",
    ").filter(variable=\"*|Emissions|CH4\").lineplot()"
   ]
  },
  {
   "cell_type": "code",
   "execution_count": 31,
   "id": "cae620a8",
   "metadata": {},
   "outputs": [
    {
     "name": "stdout",
     "output_type": "stream",
     "text": [
      "3\n"
     ]
    },
    {
     "data": {
      "application/javascript": [
       "\n",
       "            setTimeout(function() {\n",
       "                var nbb_cell_id = 31;\n",
       "                var nbb_unformatted_code = \"dump_scenarios(updated_scenarios, \\\"methanePledges\\\")\";\n",
       "                var nbb_formatted_code = \"dump_scenarios(updated_scenarios, \\\"methanePledges\\\")\";\n",
       "                var nbb_cells = Jupyter.notebook.get_cells();\n",
       "                for (var i = 0; i < nbb_cells.length; ++i) {\n",
       "                    if (nbb_cells[i].input_prompt_number == nbb_cell_id) {\n",
       "                        if (nbb_cells[i].get_text() == nbb_unformatted_code) {\n",
       "                             nbb_cells[i].set_text(nbb_formatted_code);\n",
       "                        }\n",
       "                        break;\n",
       "                    }\n",
       "                }\n",
       "            }, 500);\n",
       "            "
      ],
      "text/plain": [
       "<IPython.core.display.Javascript object>"
      ]
     },
     "metadata": {},
     "output_type": "display_data"
    }
   ],
   "source": [
    "dump_scenarios(updated_scenarios, \"methanePledges\")"
   ]
  },
  {
   "cell_type": "code",
   "execution_count": null,
   "id": "73e28ff0",
   "metadata": {},
   "outputs": [],
   "source": []
  }
 ],
 "metadata": {
  "kernelspec": {
   "display_name": "Python 3 (ipykernel)",
   "language": "python",
   "name": "python3"
  },
  "language_info": {
   "codemirror_mode": {
    "name": "ipython",
    "version": 3
   },
   "file_extension": ".py",
   "mimetype": "text/x-python",
   "name": "python",
   "nbconvert_exporter": "python",
   "pygments_lexer": "ipython3",
   "version": "3.9.9"
  }
 },
 "nbformat": 4,
 "nbformat_minor": 5
}
