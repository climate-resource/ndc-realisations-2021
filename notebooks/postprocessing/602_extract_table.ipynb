{
 "cells": [
  {
   "cell_type": "markdown",
   "id": "97597e42",
   "metadata": {},
   "source": [
    "# Generate figures for the paper\n",
    "\n",
    " \n",
    "### Figure 1 \n",
    "2015-2021(unconditional and conditional)\n",
    "y axis (peak warming, eoc warming, difference of ghg emissions between 2025-2030, cum co2 (2020-2030, 2020-2050))\n",
    "x axis (pathway date)\n",
    "\n",
    "### Figure 2\n",
    "Trajectories of latest pledges (conditional and unconditional)\n",
    "bar chart with peak temps to compare sensisitivity cases vs the default\n",
    "\n",
    "### Figure 3 (MM)\n",
    "2030 GAPS \n",
    "2030 per capita emission\n",
    "\n",
    "SR1.5 filtering? "
   ]
  },
  {
   "cell_type": "code",
   "execution_count": 1,
   "id": "0edaf76c",
   "metadata": {},
   "outputs": [
    {
     "data": {
      "application/javascript": [
       "\n",
       "            setTimeout(function() {\n",
       "                var nbb_cell_id = 1;\n",
       "                var nbb_unformatted_code = \"%load_ext nb_black\";\n",
       "                var nbb_formatted_code = \"%load_ext nb_black\";\n",
       "                var nbb_cells = Jupyter.notebook.get_cells();\n",
       "                for (var i = 0; i < nbb_cells.length; ++i) {\n",
       "                    if (nbb_cells[i].input_prompt_number == nbb_cell_id) {\n",
       "                        if (nbb_cells[i].get_text() == nbb_unformatted_code) {\n",
       "                             nbb_cells[i].set_text(nbb_formatted_code);\n",
       "                        }\n",
       "                        break;\n",
       "                    }\n",
       "                }\n",
       "            }, 500);\n",
       "            "
      ],
      "text/plain": [
       "<IPython.core.display.Javascript object>"
      ]
     },
     "metadata": {},
     "output_type": "display_data"
    }
   ],
   "source": [
    "%load_ext nb_black"
   ]
  },
  {
   "cell_type": "code",
   "execution_count": 2,
   "id": "e942109f",
   "metadata": {},
   "outputs": [
    {
     "data": {
      "application/javascript": [
       "\n",
       "            setTimeout(function() {\n",
       "                var nbb_cell_id = 2;\n",
       "                var nbb_unformatted_code = \"%load_ext autoreload\\n%autoreload 2\";\n",
       "                var nbb_formatted_code = \"%load_ext autoreload\\n%autoreload 2\";\n",
       "                var nbb_cells = Jupyter.notebook.get_cells();\n",
       "                for (var i = 0; i < nbb_cells.length; ++i) {\n",
       "                    if (nbb_cells[i].input_prompt_number == nbb_cell_id) {\n",
       "                        if (nbb_cells[i].get_text() == nbb_unformatted_code) {\n",
       "                             nbb_cells[i].set_text(nbb_formatted_code);\n",
       "                        }\n",
       "                        break;\n",
       "                    }\n",
       "                }\n",
       "            }, 500);\n",
       "            "
      ],
      "text/plain": [
       "<IPython.core.display.Javascript object>"
      ]
     },
     "metadata": {},
     "output_type": "display_data"
    }
   ],
   "source": [
    "%load_ext autoreload\n",
    "%autoreload 2"
   ]
  },
  {
   "cell_type": "code",
   "execution_count": 3,
   "id": "08c35492",
   "metadata": {},
   "outputs": [
    {
     "data": {
      "application/javascript": [
       "IPython.OutputArea.prototype._should_scroll = function(lines) { return false; }"
      ],
      "text/plain": [
       "<IPython.core.display.Javascript object>"
      ]
     },
     "metadata": {},
     "output_type": "display_data"
    },
    {
     "data": {
      "application/javascript": [
       "\n",
       "            setTimeout(function() {\n",
       "                var nbb_cell_id = 3;\n",
       "                var nbb_unformatted_code = \"import datetime as dt\\nimport logging\\nimport os.path\\nfrom glob import glob\\nfrom tqdm.auto import tqdm\\n\\nimport matplotlib.pyplot as plt\\nimport numpy as np\\nimport pandas as pd\\nimport scmdata\\nimport seaborn as sns\\n\\nfrom src.constants import PROCESSED_DATA_DIR, NDC_TARGET_RELEASE\";\n",
       "                var nbb_formatted_code = \"import datetime as dt\\nimport logging\\nimport os.path\\nfrom glob import glob\\nfrom tqdm.auto import tqdm\\n\\nimport matplotlib.pyplot as plt\\nimport numpy as np\\nimport pandas as pd\\nimport scmdata\\nimport seaborn as sns\\n\\nfrom src.constants import PROCESSED_DATA_DIR, NDC_TARGET_RELEASE\";\n",
       "                var nbb_cells = Jupyter.notebook.get_cells();\n",
       "                for (var i = 0; i < nbb_cells.length; ++i) {\n",
       "                    if (nbb_cells[i].input_prompt_number == nbb_cell_id) {\n",
       "                        if (nbb_cells[i].get_text() == nbb_unformatted_code) {\n",
       "                             nbb_cells[i].set_text(nbb_formatted_code);\n",
       "                        }\n",
       "                        break;\n",
       "                    }\n",
       "                }\n",
       "            }, 500);\n",
       "            "
      ],
      "text/plain": [
       "<IPython.core.display.Javascript object>"
      ]
     },
     "metadata": {},
     "output_type": "display_data"
    }
   ],
   "source": [
    "import os.path\n",
    "from glob import glob\n",
    "\n",
    "import matplotlib.pyplot as plt\n",
    "import pandas as pd\n",
    "\n",
    "from ndcs.constants import PROCESSED_DATA_DIR"
   ]
  },
  {
   "cell_type": "code",
   "execution_count": 5,
   "id": "7f4af5df",
   "metadata": {},
   "outputs": [
    {
     "data": {
      "application/javascript": [
       "\n",
       "            setTimeout(function() {\n",
       "                var nbb_cell_id = 5;\n",
       "                var nbb_unformatted_code = \"plt.rcParams[\\\"figure.figsize\\\"] = (12, 8)\";\n",
       "                var nbb_formatted_code = \"plt.rcParams[\\\"figure.figsize\\\"] = (12, 8)\";\n",
       "                var nbb_cells = Jupyter.notebook.get_cells();\n",
       "                for (var i = 0; i < nbb_cells.length; ++i) {\n",
       "                    if (nbb_cells[i].input_prompt_number == nbb_cell_id) {\n",
       "                        if (nbb_cells[i].get_text() == nbb_unformatted_code) {\n",
       "                             nbb_cells[i].set_text(nbb_formatted_code);\n",
       "                        }\n",
       "                        break;\n",
       "                    }\n",
       "                }\n",
       "            }, 500);\n",
       "            "
      ],
      "text/plain": [
       "<IPython.core.display.Javascript object>"
      ]
     },
     "metadata": {},
     "output_type": "display_data"
    }
   ],
   "source": [
    "plt.rcParams[\"figure.figsize\"] = (12, 8)"
   ]
  },
  {
   "cell_type": "code",
   "execution_count": 15,
   "id": "a22a1d22",
   "metadata": {},
   "outputs": [
    {
     "data": {
      "application/javascript": [
       "\n",
       "            setTimeout(function() {\n",
       "                var nbb_cell_id = 15;\n",
       "                var nbb_unformatted_code = \"CLIMATE_ASSESSMENT_ID = \\\"20211112-ndc-sensitivity\\\"\";\n",
       "                var nbb_formatted_code = \"CLIMATE_ASSESSMENT_ID = \\\"20211112-ndc-sensitivity\\\"\";\n",
       "                var nbb_cells = Jupyter.notebook.get_cells();\n",
       "                for (var i = 0; i < nbb_cells.length; ++i) {\n",
       "                    if (nbb_cells[i].input_prompt_number == nbb_cell_id) {\n",
       "                        if (nbb_cells[i].get_text() == nbb_unformatted_code) {\n",
       "                             nbb_cells[i].set_text(nbb_formatted_code);\n",
       "                        }\n",
       "                        break;\n",
       "                    }\n",
       "                }\n",
       "            }, 500);\n",
       "            "
      ],
      "text/plain": [
       "<IPython.core.display.Javascript object>"
      ]
     },
     "metadata": {},
     "output_type": "display_data"
    }
   ],
   "source": [
    "CLIMATE_ASSESSMENT_ID = \"20211112-ndc-sensitivity\""
   ]
  },
  {
   "cell_type": "code",
   "execution_count": 16,
   "id": "348e8a5f",
   "metadata": {},
   "outputs": [
    {
     "data": {
      "application/javascript": [
       "\n",
       "            setTimeout(function() {\n",
       "                var nbb_cell_id = 16;\n",
       "                var nbb_unformatted_code = \"DATA_DIR = os.path.join(PROCESSED_DATA_DIR, \\\"climate_assessment\\\")\";\n",
       "                var nbb_formatted_code = \"DATA_DIR = os.path.join(PROCESSED_DATA_DIR, \\\"climate_assessment\\\")\";\n",
       "                var nbb_cells = Jupyter.notebook.get_cells();\n",
       "                for (var i = 0; i < nbb_cells.length; ++i) {\n",
       "                    if (nbb_cells[i].input_prompt_number == nbb_cell_id) {\n",
       "                        if (nbb_cells[i].get_text() == nbb_unformatted_code) {\n",
       "                             nbb_cells[i].set_text(nbb_formatted_code);\n",
       "                        }\n",
       "                        break;\n",
       "                    }\n",
       "                }\n",
       "            }, 500);\n",
       "            "
      ],
      "text/plain": [
       "<IPython.core.display.Javascript object>"
      ]
     },
     "metadata": {},
     "output_type": "display_data"
    }
   ],
   "source": [
    "DATA_DIR = os.path.join(PROCESSED_DATA_DIR, \"climate_assessment\")"
   ]
  },
  {
   "cell_type": "code",
   "execution_count": 18,
   "id": "6ba16b30",
   "metadata": {},
   "outputs": [
    {
     "data": {
      "text/plain": [
       "['/home/jared/code/cr/unfccc-ndc/src/../data/processed/climate_assessment/20211112-ndc-methanePledges/results_20211116-150421_meta.csv',\n",
       " '/home/jared/code/cr/unfccc-ndc/src/../data/processed/climate_assessment/20211112-ndc-sensitivity/results_20211112-210602_meta.csv']"
      ]
     },
     "execution_count": 18,
     "metadata": {},
     "output_type": "execute_result"
    },
    {
     "data": {
      "application/javascript": [
       "\n",
       "            setTimeout(function() {\n",
       "                var nbb_cell_id = 18;\n",
       "                var nbb_unformatted_code = \"fnames = glob(os.path.join(DATA_DIR, \\\"20211112-ndc-methanePledges\\\", \\\"results*\\\")) + glob(\\n    os.path.join(DATA_DIR, \\\"20211112-ndc-sensitivity\\\", \\\"results*\\\")\\n)\\nfnames\";\n",
       "                var nbb_formatted_code = \"fnames = glob(os.path.join(DATA_DIR, \\\"20211112-ndc-methanePledges\\\", \\\"results*\\\")) + glob(\\n    os.path.join(DATA_DIR, \\\"20211112-ndc-sensitivity\\\", \\\"results*\\\")\\n)\\nfnames\";\n",
       "                var nbb_cells = Jupyter.notebook.get_cells();\n",
       "                for (var i = 0; i < nbb_cells.length; ++i) {\n",
       "                    if (nbb_cells[i].input_prompt_number == nbb_cell_id) {\n",
       "                        if (nbb_cells[i].get_text() == nbb_unformatted_code) {\n",
       "                             nbb_cells[i].set_text(nbb_formatted_code);\n",
       "                        }\n",
       "                        break;\n",
       "                    }\n",
       "                }\n",
       "            }, 500);\n",
       "            "
      ],
      "text/plain": [
       "<IPython.core.display.Javascript object>"
      ]
     },
     "metadata": {},
     "output_type": "display_data"
    }
   ],
   "source": [
    "fnames = glob(os.path.join(DATA_DIR, \"20211112-ndc-methanePledges\", \"results*\")) + glob(\n",
    "    os.path.join(DATA_DIR, \"20211112-ndc-sensitivity\", \"results*\")\n",
    ")\n",
    "fnames"
   ]
  },
  {
   "cell_type": "code",
   "execution_count": 24,
   "id": "f1bcaf46",
   "metadata": {},
   "outputs": [
    {
     "data": {
      "application/javascript": [
       "\n",
       "            setTimeout(function() {\n",
       "                var nbb_cell_id = 24;\n",
       "                var nbb_unformatted_code = \"merged = pd.concat(pd.read_csv(f) for f in fnames)\";\n",
       "                var nbb_formatted_code = \"merged = pd.concat(pd.read_csv(f) for f in fnames)\";\n",
       "                var nbb_cells = Jupyter.notebook.get_cells();\n",
       "                for (var i = 0; i < nbb_cells.length; ++i) {\n",
       "                    if (nbb_cells[i].input_prompt_number == nbb_cell_id) {\n",
       "                        if (nbb_cells[i].get_text() == nbb_unformatted_code) {\n",
       "                             nbb_cells[i].set_text(nbb_formatted_code);\n",
       "                        }\n",
       "                        break;\n",
       "                    }\n",
       "                }\n",
       "            }, 500);\n",
       "            "
      ],
      "text/plain": [
       "<IPython.core.display.Javascript object>"
      ]
     },
     "metadata": {},
     "output_type": "display_data"
    }
   ],
   "source": [
    "merged = pd.concat(pd.read_csv(f) for f in fnames)"
   ]
  },
  {
   "cell_type": "code",
   "execution_count": 26,
   "id": "5cd37705",
   "metadata": {},
   "outputs": [
    {
     "name": "stderr",
     "output_type": "stream",
     "text": [
      "/tmp/ipykernel_229288/328695712.py:1: FutureWarning: Using short name for 'orient' is deprecated. Only the options: ('dict', list, 'series', 'split', 'records', 'index') will be used in a future version. Use one of the above to silence this warning.\n",
      "  stats = merged.to_dict(\"record\")\n"
     ]
    },
    {
     "data": {
      "application/javascript": [
       "\n",
       "            setTimeout(function() {\n",
       "                var nbb_cell_id = 26;\n",
       "                var nbb_unformatted_code = \"stats = merged.to_dict(\\\"record\\\")\\n\\nfor s in stats:\\n    scenario = s[\\\"scenario\\\"]\\n    try:\\n        (\\n            pathway_id,\\n            ambition,\\n            conditionality,\\n            extension,\\n            exclude_hot_air,\\n        ) = scenario.split(\\\"__\\\")\\n        methane_pledge = \\\"\\\"\\n    except:\\n        (\\n            pathway_id,\\n            ambition,\\n            conditionality,\\n            extension,\\n            exclude_hot_air,\\n            methane_pledge,\\n        ) = scenario.split(\\\"__\\\")\\n\\n    s[\\\"pathway_id\\\"] = pathway_id\\n    s[\\\"ambition\\\"] = ambition\\n    s[\\\"conditionality\\\"] = conditionality\\n    s[\\\"extension\\\"] = extension\\n    s[\\\"exclude_hot_air\\\"] = exclude_hot_air\\n    s[\\\"methane_pledge\\\"] = methane_pledge\";\n",
       "                var nbb_formatted_code = \"stats = merged.to_dict(\\\"record\\\")\\n\\nfor s in stats:\\n    scenario = s[\\\"scenario\\\"]\\n    try:\\n        (\\n            pathway_id,\\n            ambition,\\n            conditionality,\\n            extension,\\n            exclude_hot_air,\\n        ) = scenario.split(\\\"__\\\")\\n        methane_pledge = \\\"\\\"\\n    except:\\n        (\\n            pathway_id,\\n            ambition,\\n            conditionality,\\n            extension,\\n            exclude_hot_air,\\n            methane_pledge,\\n        ) = scenario.split(\\\"__\\\")\\n\\n    s[\\\"pathway_id\\\"] = pathway_id\\n    s[\\\"ambition\\\"] = ambition\\n    s[\\\"conditionality\\\"] = conditionality\\n    s[\\\"extension\\\"] = extension\\n    s[\\\"exclude_hot_air\\\"] = exclude_hot_air\\n    s[\\\"methane_pledge\\\"] = methane_pledge\";\n",
       "                var nbb_cells = Jupyter.notebook.get_cells();\n",
       "                for (var i = 0; i < nbb_cells.length; ++i) {\n",
       "                    if (nbb_cells[i].input_prompt_number == nbb_cell_id) {\n",
       "                        if (nbb_cells[i].get_text() == nbb_unformatted_code) {\n",
       "                             nbb_cells[i].set_text(nbb_formatted_code);\n",
       "                        }\n",
       "                        break;\n",
       "                    }\n",
       "                }\n",
       "            }, 500);\n",
       "            "
      ],
      "text/plain": [
       "<IPython.core.display.Javascript object>"
      ]
     },
     "metadata": {},
     "output_type": "display_data"
    }
   ],
   "source": [
    "stats = merged.to_dict(\"record\")\n",
    "\n",
    "for s in stats:\n",
    "    scenario = s[\"scenario\"]\n",
    "    try:\n",
    "        (\n",
    "            pathway_id,\n",
    "            ambition,\n",
    "            conditionality,\n",
    "            extension,\n",
    "            exclude_hot_air,\n",
    "        ) = scenario.split(\"__\")\n",
    "        methane_pledge = \"\"\n",
    "    except:\n",
    "        (\n",
    "            pathway_id,\n",
    "            ambition,\n",
    "            conditionality,\n",
    "            extension,\n",
    "            exclude_hot_air,\n",
    "            methane_pledge,\n",
    "        ) = scenario.split(\"__\")\n",
    "\n",
    "    s[\"pathway_id\"] = pathway_id\n",
    "    s[\"ambition\"] = ambition\n",
    "    s[\"conditionality\"] = conditionality\n",
    "    s[\"extension\"] = extension\n",
    "    s[\"exclude_hot_air\"] = exclude_hot_air\n",
    "    s[\"methane_pledge\"] = methane_pledge"
   ]
  },
  {
   "cell_type": "code",
   "execution_count": 34,
   "id": "bff3827d",
   "metadata": {},
   "outputs": [
    {
     "data": {
      "text/html": [
       "<div>\n",
       "<style scoped>\n",
       "    .dataframe tbody tr th:only-of-type {\n",
       "        vertical-align: middle;\n",
       "    }\n",
       "\n",
       "    .dataframe tbody tr th {\n",
       "        vertical-align: top;\n",
       "    }\n",
       "\n",
       "    .dataframe thead th {\n",
       "        text-align: right;\n",
       "    }\n",
       "</style>\n",
       "<table border=\"1\" class=\"dataframe\">\n",
       "  <thead>\n",
       "    <tr style=\"text-align: right;\">\n",
       "      <th></th>\n",
       "      <th>model</th>\n",
       "      <th>scenario</th>\n",
       "      <th>exclude</th>\n",
       "      <th>Exceedance Probability 1.5C (MAGICCv7.5.3)</th>\n",
       "      <th>Exceedance Probability 2.0C (MAGICCv7.5.3)</th>\n",
       "      <th>Exceedance Probability 2.5C (MAGICCv7.5.3)</th>\n",
       "      <th>Exceedance Probability 3.0C (MAGICCv7.5.3)</th>\n",
       "      <th>...</th>\n",
       "      <th>pipeline</th>\n",
       "      <th>pathway_id</th>\n",
       "      <th>ambition</th>\n",
       "      <th>conditionality</th>\n",
       "      <th>extension</th>\n",
       "      <th>exclude_hot_air</th>\n",
       "      <th>methane_pledge</th>\n",
       "    </tr>\n",
       "  </thead>\n",
       "  <tbody>\n",
       "    <tr>\n",
       "      <th>0</th>\n",
       "      <td>NDC Factsheet</td>\n",
       "      <td>2021-11-03_1__high__C__SSP1BL__exclude__conditionalCH4</td>\n",
       "      <td>False</td>\n",
       "      <td>0.888333</td>\n",
       "      <td>0.373333</td>\n",
       "      <td>0.101667</td>\n",
       "      <td>0.015000</td>\n",
       "      <td>...</td>\n",
       "      <td>climate-assessment (version: 0.1.3-fgd+24.g0f1ec01.dirty)</td>\n",
       "      <td>2021-11-03_1</td>\n",
       "      <td>high</td>\n",
       "      <td>C</td>\n",
       "      <td>SSP1BL</td>\n",
       "      <td>exclude</td>\n",
       "      <td>conditionalCH4</td>\n",
       "    </tr>\n",
       "    <tr>\n",
       "      <th>1</th>\n",
       "      <td>NDC Factsheet</td>\n",
       "      <td>2021-11-03_1__high__C__SSP1BL__exclude__fullCH4</td>\n",
       "      <td>False</td>\n",
       "      <td>0.876667</td>\n",
       "      <td>0.358333</td>\n",
       "      <td>0.101667</td>\n",
       "      <td>0.013333</td>\n",
       "      <td>...</td>\n",
       "      <td>climate-assessment (version: 0.1.3-fgd+24.g0f1ec01.dirty)</td>\n",
       "      <td>2021-11-03_1</td>\n",
       "      <td>high</td>\n",
       "      <td>C</td>\n",
       "      <td>SSP1BL</td>\n",
       "      <td>exclude</td>\n",
       "      <td>fullCH4</td>\n",
       "    </tr>\n",
       "    <tr>\n",
       "      <th>2</th>\n",
       "      <td>NDC Factsheet</td>\n",
       "      <td>2021-11-03_1__high__C__SSP1BL__exclude__unconditionalCH4</td>\n",
       "      <td>False</td>\n",
       "      <td>0.886667</td>\n",
       "      <td>0.371667</td>\n",
       "      <td>0.101667</td>\n",
       "      <td>0.013333</td>\n",
       "      <td>...</td>\n",
       "      <td>climate-assessment (version: 0.1.3-fgd+24.g0f1ec01.dirty)</td>\n",
       "      <td>2021-11-03_1</td>\n",
       "      <td>high</td>\n",
       "      <td>C</td>\n",
       "      <td>SSP1BL</td>\n",
       "      <td>exclude</td>\n",
       "      <td>unconditionalCH4</td>\n",
       "    </tr>\n",
       "    <tr>\n",
       "      <th>3</th>\n",
       "      <td>NDC Factsheet</td>\n",
       "      <td>2021-11-09_1__high__C__SSP1BL__exclude</td>\n",
       "      <td>False</td>\n",
       "      <td>0.890000</td>\n",
       "      <td>0.375000</td>\n",
       "      <td>0.105000</td>\n",
       "      <td>0.015000</td>\n",
       "      <td>...</td>\n",
       "      <td>climate-assessment (version: 0.1.3-fgd+24.g0f1ec01)</td>\n",
       "      <td>2021-11-09_1</td>\n",
       "      <td>high</td>\n",
       "      <td>C</td>\n",
       "      <td>SSP1BL</td>\n",
       "      <td>exclude</td>\n",
       "      <td></td>\n",
       "    </tr>\n",
       "    <tr>\n",
       "      <th>5</th>\n",
       "      <td>NDC Factsheet</td>\n",
       "      <td>2021-11-09_1__low__C__SSP1BL__exclude</td>\n",
       "      <td>False</td>\n",
       "      <td>0.903333</td>\n",
       "      <td>0.430000</td>\n",
       "      <td>0.125000</td>\n",
       "      <td>0.025000</td>\n",
       "      <td>...</td>\n",
       "      <td>climate-assessment (version: 0.1.3-fgd+24.g0f1ec01)</td>\n",
       "      <td>2021-11-09_1</td>\n",
       "      <td>low</td>\n",
       "      <td>C</td>\n",
       "      <td>SSP1BL</td>\n",
       "      <td>exclude</td>\n",
       "      <td></td>\n",
       "    </tr>\n",
       "    <tr>\n",
       "      <th>7</th>\n",
       "      <td>NDC Factsheet</td>\n",
       "      <td>2021-11-09_1__high__U__SSP1BL__exclude</td>\n",
       "      <td>False</td>\n",
       "      <td>0.910000</td>\n",
       "      <td>0.428333</td>\n",
       "      <td>0.123333</td>\n",
       "      <td>0.020000</td>\n",
       "      <td>...</td>\n",
       "      <td>climate-assessment (version: 0.1.3-fgd+24.g0f1ec01)</td>\n",
       "      <td>2021-11-09_1</td>\n",
       "      <td>high</td>\n",
       "      <td>U</td>\n",
       "      <td>SSP1BL</td>\n",
       "      <td>exclude</td>\n",
       "      <td></td>\n",
       "    </tr>\n",
       "    <tr>\n",
       "      <th>9</th>\n",
       "      <td>NDC Factsheet</td>\n",
       "      <td>2021-11-09_1__low__U__SSP1BL__exclude</td>\n",
       "      <td>False</td>\n",
       "      <td>0.920000</td>\n",
       "      <td>0.473333</td>\n",
       "      <td>0.136667</td>\n",
       "      <td>0.031667</td>\n",
       "      <td>...</td>\n",
       "      <td>climate-assessment (version: 0.1.3-fgd+24.g0f1ec01)</td>\n",
       "      <td>2021-11-09_1</td>\n",
       "      <td>low</td>\n",
       "      <td>U</td>\n",
       "      <td>SSP1BL</td>\n",
       "      <td>exclude</td>\n",
       "      <td></td>\n",
       "    </tr>\n",
       "    <tr>\n",
       "      <th>11</th>\n",
       "      <td>NDC Factsheet</td>\n",
       "      <td>2021-11-09_1__high__C__2030__exclude</td>\n",
       "      <td>False</td>\n",
       "      <td>0.961667</td>\n",
       "      <td>0.618333</td>\n",
       "      <td>0.238333</td>\n",
       "      <td>0.091667</td>\n",
       "      <td>...</td>\n",
       "      <td>climate-assessment (version: 0.1.3-fgd+24.g0f1ec01)</td>\n",
       "      <td>2021-11-09_1</td>\n",
       "      <td>high</td>\n",
       "      <td>C</td>\n",
       "      <td>2030</td>\n",
       "      <td>exclude</td>\n",
       "      <td></td>\n",
       "    </tr>\n",
       "    <tr>\n",
       "      <th>12</th>\n",
       "      <td>NDC Factsheet</td>\n",
       "      <td>2021-11-09_1__high__C__2030__include</td>\n",
       "      <td>False</td>\n",
       "      <td>0.978333</td>\n",
       "      <td>0.731667</td>\n",
       "      <td>0.330000</td>\n",
       "      <td>0.130000</td>\n",
       "      <td>...</td>\n",
       "      <td>climate-assessment (version: 0.1.3-fgd+24.g0f1ec01)</td>\n",
       "      <td>2021-11-09_1</td>\n",
       "      <td>high</td>\n",
       "      <td>C</td>\n",
       "      <td>2030</td>\n",
       "      <td>include</td>\n",
       "      <td></td>\n",
       "    </tr>\n",
       "    <tr>\n",
       "      <th>13</th>\n",
       "      <td>NDC Factsheet</td>\n",
       "      <td>2021-11-09_1__high__U__2030__exclude</td>\n",
       "      <td>False</td>\n",
       "      <td>0.991667</td>\n",
       "      <td>0.806667</td>\n",
       "      <td>0.445000</td>\n",
       "      <td>0.168333</td>\n",
       "      <td>...</td>\n",
       "      <td>climate-assessment (version: 0.1.3-fgd+24.g0f1ec01)</td>\n",
       "      <td>2021-11-09_1</td>\n",
       "      <td>high</td>\n",
       "      <td>U</td>\n",
       "      <td>2030</td>\n",
       "      <td>exclude</td>\n",
       "      <td></td>\n",
       "    </tr>\n",
       "    <tr>\n",
       "      <th>14</th>\n",
       "      <td>NDC Factsheet</td>\n",
       "      <td>2021-11-09_1__high__U__2030__include</td>\n",
       "      <td>False</td>\n",
       "      <td>1.000000</td>\n",
       "      <td>0.965000</td>\n",
       "      <td>0.755000</td>\n",
       "      <td>0.420000</td>\n",
       "      <td>...</td>\n",
       "      <td>climate-assessment (version: 0.1.3-fgd+24.g0f1ec01)</td>\n",
       "      <td>2021-11-09_1</td>\n",
       "      <td>high</td>\n",
       "      <td>U</td>\n",
       "      <td>2030</td>\n",
       "      <td>include</td>\n",
       "      <td></td>\n",
       "    </tr>\n",
       "    <tr>\n",
       "      <th>15</th>\n",
       "      <td>NDC Factsheet</td>\n",
       "      <td>2021-11-09_1__low__C__2030__exclude</td>\n",
       "      <td>False</td>\n",
       "      <td>0.983333</td>\n",
       "      <td>0.751667</td>\n",
       "      <td>0.358333</td>\n",
       "      <td>0.133333</td>\n",
       "      <td>...</td>\n",
       "      <td>climate-assessment (version: 0.1.3-fgd+24.g0f1ec01)</td>\n",
       "      <td>2021-11-09_1</td>\n",
       "      <td>low</td>\n",
       "      <td>C</td>\n",
       "      <td>2030</td>\n",
       "      <td>exclude</td>\n",
       "      <td></td>\n",
       "    </tr>\n",
       "    <tr>\n",
       "      <th>16</th>\n",
       "      <td>NDC Factsheet</td>\n",
       "      <td>2021-11-09_1__low__C__2030__include</td>\n",
       "      <td>False</td>\n",
       "      <td>0.990000</td>\n",
       "      <td>0.788333</td>\n",
       "      <td>0.406667</td>\n",
       "      <td>0.146667</td>\n",
       "      <td>...</td>\n",
       "      <td>climate-assessment (version: 0.1.3-fgd+24.g0f1ec01)</td>\n",
       "      <td>2021-11-09_1</td>\n",
       "      <td>low</td>\n",
       "      <td>C</td>\n",
       "      <td>2030</td>\n",
       "      <td>include</td>\n",
       "      <td></td>\n",
       "    </tr>\n",
       "    <tr>\n",
       "      <th>17</th>\n",
       "      <td>NDC Factsheet</td>\n",
       "      <td>2021-11-09_1__low__U__2030__exclude</td>\n",
       "      <td>False</td>\n",
       "      <td>0.998333</td>\n",
       "      <td>0.903333</td>\n",
       "      <td>0.590000</td>\n",
       "      <td>0.255000</td>\n",
       "      <td>...</td>\n",
       "      <td>climate-assessment (version: 0.1.3-fgd+24.g0f1ec01)</td>\n",
       "      <td>2021-11-09_1</td>\n",
       "      <td>low</td>\n",
       "      <td>U</td>\n",
       "      <td>2030</td>\n",
       "      <td>exclude</td>\n",
       "      <td></td>\n",
       "    </tr>\n",
       "    <tr>\n",
       "      <th>18</th>\n",
       "      <td>NDC Factsheet</td>\n",
       "      <td>2021-11-09_1__low__U__2030__include</td>\n",
       "      <td>False</td>\n",
       "      <td>1.000000</td>\n",
       "      <td>0.981667</td>\n",
       "      <td>0.815000</td>\n",
       "      <td>0.511667</td>\n",
       "      <td>...</td>\n",
       "      <td>climate-assessment (version: 0.1.3-fgd+24.g0f1ec01)</td>\n",
       "      <td>2021-11-09_1</td>\n",
       "      <td>low</td>\n",
       "      <td>U</td>\n",
       "      <td>2030</td>\n",
       "      <td>include</td>\n",
       "      <td></td>\n",
       "    </tr>\n",
       "  </tbody>\n",
       "</table>\n",
       "<p>15 rows × 28 columns</p>\n",
       "</div>"
      ],
      "text/plain": [
       "            model                                                  scenario  exclude  Exceedance Probability 1.5C (MAGICCv7.5.3)  Exceedance Probability 2.0C (MAGICCv7.5.3)  Exceedance Probability 2.5C (MAGICCv7.5.3)  \\\n",
       "0   NDC Factsheet    2021-11-03_1__high__C__SSP1BL__exclude__conditionalCH4    False                                    0.888333                                    0.373333                                    0.101667   \n",
       "1   NDC Factsheet           2021-11-03_1__high__C__SSP1BL__exclude__fullCH4    False                                    0.876667                                    0.358333                                    0.101667   \n",
       "2   NDC Factsheet  2021-11-03_1__high__C__SSP1BL__exclude__unconditionalCH4    False                                    0.886667                                    0.371667                                    0.101667   \n",
       "3   NDC Factsheet                    2021-11-09_1__high__C__SSP1BL__exclude    False                                    0.890000                                    0.375000                                    0.105000   \n",
       "5   NDC Factsheet                     2021-11-09_1__low__C__SSP1BL__exclude    False                                    0.903333                                    0.430000                                    0.125000   \n",
       "7   NDC Factsheet                    2021-11-09_1__high__U__SSP1BL__exclude    False                                    0.910000                                    0.428333                                    0.123333   \n",
       "9   NDC Factsheet                     2021-11-09_1__low__U__SSP1BL__exclude    False                                    0.920000                                    0.473333                                    0.136667   \n",
       "11  NDC Factsheet                      2021-11-09_1__high__C__2030__exclude    False                                    0.961667                                    0.618333                                    0.238333   \n",
       "12  NDC Factsheet                      2021-11-09_1__high__C__2030__include    False                                    0.978333                                    0.731667                                    0.330000   \n",
       "13  NDC Factsheet                      2021-11-09_1__high__U__2030__exclude    False                                    0.991667                                    0.806667                                    0.445000   \n",
       "14  NDC Factsheet                      2021-11-09_1__high__U__2030__include    False                                    1.000000                                    0.965000                                    0.755000   \n",
       "15  NDC Factsheet                       2021-11-09_1__low__C__2030__exclude    False                                    0.983333                                    0.751667                                    0.358333   \n",
       "16  NDC Factsheet                       2021-11-09_1__low__C__2030__include    False                                    0.990000                                    0.788333                                    0.406667   \n",
       "17  NDC Factsheet                       2021-11-09_1__low__U__2030__exclude    False                                    0.998333                                    0.903333                                    0.590000   \n",
       "18  NDC Factsheet                       2021-11-09_1__low__U__2030__include    False                                    1.000000                                    0.981667                                    0.815000   \n",
       "\n",
       "    Exceedance Probability 3.0C (MAGICCv7.5.3)  ...                                                   pipeline    pathway_id  ambition  conditionality  extension  exclude_hot_air    methane_pledge  \n",
       "0                                     0.015000  ...  climate-assessment (version: 0.1.3-fgd+24.g0f1ec01.dirty)  2021-11-03_1      high               C     SSP1BL          exclude    conditionalCH4  \n",
       "1                                     0.013333  ...  climate-assessment (version: 0.1.3-fgd+24.g0f1ec01.dirty)  2021-11-03_1      high               C     SSP1BL          exclude           fullCH4  \n",
       "2                                     0.013333  ...  climate-assessment (version: 0.1.3-fgd+24.g0f1ec01.dirty)  2021-11-03_1      high               C     SSP1BL          exclude  unconditionalCH4  \n",
       "3                                     0.015000  ...        climate-assessment (version: 0.1.3-fgd+24.g0f1ec01)  2021-11-09_1      high               C     SSP1BL          exclude                    \n",
       "5                                     0.025000  ...        climate-assessment (version: 0.1.3-fgd+24.g0f1ec01)  2021-11-09_1       low               C     SSP1BL          exclude                    \n",
       "7                                     0.020000  ...        climate-assessment (version: 0.1.3-fgd+24.g0f1ec01)  2021-11-09_1      high               U     SSP1BL          exclude                    \n",
       "9                                     0.031667  ...        climate-assessment (version: 0.1.3-fgd+24.g0f1ec01)  2021-11-09_1       low               U     SSP1BL          exclude                    \n",
       "11                                    0.091667  ...        climate-assessment (version: 0.1.3-fgd+24.g0f1ec01)  2021-11-09_1      high               C       2030          exclude                    \n",
       "12                                    0.130000  ...        climate-assessment (version: 0.1.3-fgd+24.g0f1ec01)  2021-11-09_1      high               C       2030          include                    \n",
       "13                                    0.168333  ...        climate-assessment (version: 0.1.3-fgd+24.g0f1ec01)  2021-11-09_1      high               U       2030          exclude                    \n",
       "14                                    0.420000  ...        climate-assessment (version: 0.1.3-fgd+24.g0f1ec01)  2021-11-09_1      high               U       2030          include                    \n",
       "15                                    0.133333  ...        climate-assessment (version: 0.1.3-fgd+24.g0f1ec01)  2021-11-09_1       low               C       2030          exclude                    \n",
       "16                                    0.146667  ...        climate-assessment (version: 0.1.3-fgd+24.g0f1ec01)  2021-11-09_1       low               C       2030          include                    \n",
       "17                                    0.255000  ...        climate-assessment (version: 0.1.3-fgd+24.g0f1ec01)  2021-11-09_1       low               U       2030          exclude                    \n",
       "18                                    0.511667  ...        climate-assessment (version: 0.1.3-fgd+24.g0f1ec01)  2021-11-09_1       low               U       2030          include                    \n",
       "\n",
       "[15 rows x 28 columns]"
      ]
     },
     "execution_count": 34,
     "metadata": {},
     "output_type": "execute_result"
    },
    {
     "data": {
      "application/javascript": [
       "\n",
       "            setTimeout(function() {\n",
       "                var nbb_cell_id = 34;\n",
       "                var nbb_unformatted_code = \"merged = pd.DataFrame(stats)\\nmerged = (\\n    merged[(merged.exclude_hot_air == \\\"exclude\\\") |  (merged.extension == \\\"2030\\\")]\\n)\\nmerged\";\n",
       "                var nbb_formatted_code = \"merged = pd.DataFrame(stats)\\nmerged = merged[(merged.exclude_hot_air == \\\"exclude\\\") | (merged.extension == \\\"2030\\\")]\\nmerged\";\n",
       "                var nbb_cells = Jupyter.notebook.get_cells();\n",
       "                for (var i = 0; i < nbb_cells.length; ++i) {\n",
       "                    if (nbb_cells[i].input_prompt_number == nbb_cell_id) {\n",
       "                        if (nbb_cells[i].get_text() == nbb_unformatted_code) {\n",
       "                             nbb_cells[i].set_text(nbb_formatted_code);\n",
       "                        }\n",
       "                        break;\n",
       "                    }\n",
       "                }\n",
       "            }, 500);\n",
       "            "
      ],
      "text/plain": [
       "<IPython.core.display.Javascript object>"
      ]
     },
     "metadata": {},
     "output_type": "display_data"
    }
   ],
   "source": [
    "merged = pd.DataFrame(stats)\n",
    "merged = merged[(merged.exclude_hot_air == \"exclude\") | (merged.extension == \"2030\")]\n",
    "merged"
   ]
  },
  {
   "cell_type": "code",
   "execution_count": 35,
   "id": "610767f2",
   "metadata": {},
   "outputs": [
    {
     "data": {
      "application/javascript": [
       "\n",
       "            setTimeout(function() {\n",
       "                var nbb_cell_id = 35;\n",
       "                var nbb_unformatted_code = \"merged.to_csv(\\\"20211112_figure_table_v2.csv\\\")\";\n",
       "                var nbb_formatted_code = \"merged.to_csv(\\\"20211112_figure_table_v2.csv\\\")\";\n",
       "                var nbb_cells = Jupyter.notebook.get_cells();\n",
       "                for (var i = 0; i < nbb_cells.length; ++i) {\n",
       "                    if (nbb_cells[i].input_prompt_number == nbb_cell_id) {\n",
       "                        if (nbb_cells[i].get_text() == nbb_unformatted_code) {\n",
       "                             nbb_cells[i].set_text(nbb_formatted_code);\n",
       "                        }\n",
       "                        break;\n",
       "                    }\n",
       "                }\n",
       "            }, 500);\n",
       "            "
      ],
      "text/plain": [
       "<IPython.core.display.Javascript object>"
      ]
     },
     "metadata": {},
     "output_type": "display_data"
    }
   ],
   "source": [
    "merged.to_csv(\"20211112_figure_table_v2.csv\")"
   ]
  },
  {
   "cell_type": "code",
   "execution_count": null,
   "id": "d8278a3c",
   "metadata": {},
   "outputs": [],
   "source": []
  }
 ],
 "metadata": {
  "kernelspec": {
   "display_name": "Python 3 (ipykernel)",
   "language": "python",
   "name": "python3"
  },
  "language_info": {
   "codemirror_mode": {
    "name": "ipython",
    "version": 3
   },
   "file_extension": ".py",
   "mimetype": "text/x-python",
   "name": "python",
   "nbconvert_exporter": "python",
   "pygments_lexer": "ipython3",
   "version": "3.8.10"
  }
 },
 "nbformat": 4,
 "nbformat_minor": 5
}