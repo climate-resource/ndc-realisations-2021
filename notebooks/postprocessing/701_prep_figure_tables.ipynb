{
 "cells": [
  {
   "cell_type": "markdown",
   "id": "8d2d0753",
   "metadata": {},
   "source": [
    "# Prep figure data"
   ]
  },
  {
   "cell_type": "code",
   "execution_count": 1,
   "id": "decb8730",
   "metadata": {},
   "outputs": [
    {
     "data": {
      "application/javascript": [
       "\n",
       "            setTimeout(function() {\n",
       "                var nbb_cell_id = 1;\n",
       "                var nbb_unformatted_code = \"%load_ext nb_black\";\n",
       "                var nbb_formatted_code = \"%load_ext nb_black\";\n",
       "                var nbb_cells = Jupyter.notebook.get_cells();\n",
       "                for (var i = 0; i < nbb_cells.length; ++i) {\n",
       "                    if (nbb_cells[i].input_prompt_number == nbb_cell_id) {\n",
       "                        if (nbb_cells[i].get_text() == nbb_unformatted_code) {\n",
       "                             nbb_cells[i].set_text(nbb_formatted_code);\n",
       "                        }\n",
       "                        break;\n",
       "                    }\n",
       "                }\n",
       "            }, 500);\n",
       "            "
      ],
      "text/plain": [
       "<IPython.core.display.Javascript object>"
      ]
     },
     "metadata": {},
     "output_type": "display_data"
    }
   ],
   "source": [
    "%load_ext nb_black"
   ]
  },
  {
   "cell_type": "code",
   "execution_count": 2,
   "id": "10dc2cd2",
   "metadata": {},
   "outputs": [
    {
     "data": {
      "application/javascript": [
       "\n",
       "            setTimeout(function() {\n",
       "                var nbb_cell_id = 2;\n",
       "                var nbb_unformatted_code = \"%load_ext autoreload\\n%autoreload 2\";\n",
       "                var nbb_formatted_code = \"%load_ext autoreload\\n%autoreload 2\";\n",
       "                var nbb_cells = Jupyter.notebook.get_cells();\n",
       "                for (var i = 0; i < nbb_cells.length; ++i) {\n",
       "                    if (nbb_cells[i].input_prompt_number == nbb_cell_id) {\n",
       "                        if (nbb_cells[i].get_text() == nbb_unformatted_code) {\n",
       "                             nbb_cells[i].set_text(nbb_formatted_code);\n",
       "                        }\n",
       "                        break;\n",
       "                    }\n",
       "                }\n",
       "            }, 500);\n",
       "            "
      ],
      "text/plain": [
       "<IPython.core.display.Javascript object>"
      ]
     },
     "metadata": {},
     "output_type": "display_data"
    }
   ],
   "source": [
    "%load_ext autoreload\n",
    "%autoreload 2"
   ]
  },
  {
   "cell_type": "code",
   "execution_count": 8,
   "id": "46a39f5f",
   "metadata": {},
   "outputs": [
    {
     "data": {
      "application/javascript": [
       "\n",
       "            setTimeout(function() {\n",
       "                var nbb_cell_id = 8;\n",
       "                var nbb_unformatted_code = \"import os\\nimport scmdata\\n\\nfrom ndcs.constants import PROCESSED_DATA_DIR, NDC_TARGET_RELEASE, ROOT_DATA_DIR, RAW_DATA_DIR\";\n",
       "                var nbb_formatted_code = \"import os\\nimport scmdata\\n\\nfrom ndcs.constants import (\\n    PROCESSED_DATA_DIR,\\n    NDC_TARGET_RELEASE,\\n    ROOT_DATA_DIR,\\n    RAW_DATA_DIR,\\n)\";\n",
       "                var nbb_cells = Jupyter.notebook.get_cells();\n",
       "                for (var i = 0; i < nbb_cells.length; ++i) {\n",
       "                    if (nbb_cells[i].input_prompt_number == nbb_cell_id) {\n",
       "                        if (nbb_cells[i].get_text() == nbb_unformatted_code) {\n",
       "                             nbb_cells[i].set_text(nbb_formatted_code);\n",
       "                        }\n",
       "                        break;\n",
       "                    }\n",
       "                }\n",
       "            }, 500);\n",
       "            "
      ],
      "text/plain": [
       "<IPython.core.display.Javascript object>"
      ]
     },
     "metadata": {},
     "output_type": "display_data"
    }
   ],
   "source": [
    "import os\n",
    "import scmdata\n",
    "\n",
    "from ndcs.constants import (\n",
    "    PROCESSED_DATA_DIR,\n",
    "    NDC_TARGET_RELEASE,\n",
    "    ROOT_DATA_DIR,\n",
    "    RAW_DATA_DIR,\n",
    ")"
   ]
  },
  {
   "cell_type": "code",
   "execution_count": 4,
   "id": "f957b907",
   "metadata": {},
   "outputs": [
    {
     "data": {
      "application/javascript": [
       "\n",
       "            setTimeout(function() {\n",
       "                var nbb_cell_id = 4;\n",
       "                var nbb_unformatted_code = \"DATA_DIR = os.path.join(PROCESSED_DATA_DIR, \\\"climate_assessment\\\", \\\"merged\\\")\\nOUT_COMPLETE_FNAME = os.path.join(DATA_DIR, f\\\"output_{NDC_TARGET_RELEASE}_complete.csv\\\")\\nOUT_SENSITIVITY_FNAME = os.path.join(\\n    DATA_DIR, f\\\"output_{NDC_TARGET_RELEASE}_sensitivity.csv\\\"\\n)\\nOUT_METHANE_PLEDGES_FNAME = os.path.join(\\n    DATA_DIR, f\\\"output_{NDC_TARGET_RELEASE}_methanePledges.csv\\\"\\n)\";\n",
       "                var nbb_formatted_code = \"DATA_DIR = os.path.join(PROCESSED_DATA_DIR, \\\"climate_assessment\\\", \\\"merged\\\")\\nOUT_COMPLETE_FNAME = os.path.join(DATA_DIR, f\\\"output_{NDC_TARGET_RELEASE}_complete.csv\\\")\\nOUT_SENSITIVITY_FNAME = os.path.join(\\n    DATA_DIR, f\\\"output_{NDC_TARGET_RELEASE}_sensitivity.csv\\\"\\n)\\nOUT_METHANE_PLEDGES_FNAME = os.path.join(\\n    DATA_DIR, f\\\"output_{NDC_TARGET_RELEASE}_methanePledges.csv\\\"\\n)\";\n",
       "                var nbb_cells = Jupyter.notebook.get_cells();\n",
       "                for (var i = 0; i < nbb_cells.length; ++i) {\n",
       "                    if (nbb_cells[i].input_prompt_number == nbb_cell_id) {\n",
       "                        if (nbb_cells[i].get_text() == nbb_unformatted_code) {\n",
       "                             nbb_cells[i].set_text(nbb_formatted_code);\n",
       "                        }\n",
       "                        break;\n",
       "                    }\n",
       "                }\n",
       "            }, 500);\n",
       "            "
      ],
      "text/plain": [
       "<IPython.core.display.Javascript object>"
      ]
     },
     "metadata": {},
     "output_type": "display_data"
    }
   ],
   "source": [
    "DATA_DIR = os.path.join(PROCESSED_DATA_DIR, \"climate_assessment\", \"merged\")\n",
    "OUT_COMPLETE_FNAME = os.path.join(DATA_DIR, f\"output_{NDC_TARGET_RELEASE}_complete.csv\")\n",
    "OUT_SENSITIVITY_FNAME = os.path.join(\n",
    "    DATA_DIR, f\"output_{NDC_TARGET_RELEASE}_sensitivity.csv\"\n",
    ")\n",
    "OUT_METHANE_PLEDGES_FNAME = os.path.join(\n",
    "    DATA_DIR, f\"output_{NDC_TARGET_RELEASE}_methanePledges.csv\"\n",
    ")"
   ]
  },
  {
   "cell_type": "markdown",
   "id": "530bfa48",
   "metadata": {},
   "source": [
    "# Figure 3"
   ]
  },
  {
   "cell_type": "code",
   "execution_count": 5,
   "id": "b9b4e5ef",
   "metadata": {},
   "outputs": [
    {
     "data": {
      "text/plain": [
       "['a',\n",
       " 'b',\n",
       " 'A',\n",
       " 'A-hot air',\n",
       " 'A-constant',\n",
       " 'A-rate',\n",
       " 'e',\n",
       " 'g',\n",
       " 'c',\n",
       " 'd',\n",
       " 'f',\n",
       " 'h',\n",
       " 'B',\n",
       " 'n',\n",
       " 'm',\n",
       " 'o']"
      ]
     },
     "execution_count": 5,
     "metadata": {},
     "output_type": "execute_result"
    },
    {
     "data": {
      "application/javascript": [
       "\n",
       "            setTimeout(function() {\n",
       "                var nbb_cell_id = 5;\n",
       "                var nbb_unformatted_code = \"results_sensitivity = scmdata.run_append(\\n    [scmdata.ScmRun(OUT_SENSITIVITY_FNAME), scmdata.ScmRun(OUT_METHANE_PLEDGES_FNAME)]\\n).filter(label=\\\"\\\", keep=False)\\nresults_sensitivity.get_unique_meta(\\\"label\\\")\";\n",
       "                var nbb_formatted_code = \"results_sensitivity = scmdata.run_append(\\n    [scmdata.ScmRun(OUT_SENSITIVITY_FNAME), scmdata.ScmRun(OUT_METHANE_PLEDGES_FNAME)]\\n).filter(label=\\\"\\\", keep=False)\\nresults_sensitivity.get_unique_meta(\\\"label\\\")\";\n",
       "                var nbb_cells = Jupyter.notebook.get_cells();\n",
       "                for (var i = 0; i < nbb_cells.length; ++i) {\n",
       "                    if (nbb_cells[i].input_prompt_number == nbb_cell_id) {\n",
       "                        if (nbb_cells[i].get_text() == nbb_unformatted_code) {\n",
       "                             nbb_cells[i].set_text(nbb_formatted_code);\n",
       "                        }\n",
       "                        break;\n",
       "                    }\n",
       "                }\n",
       "            }, 500);\n",
       "            "
      ],
      "text/plain": [
       "<IPython.core.display.Javascript object>"
      ]
     },
     "metadata": {},
     "output_type": "display_data"
    }
   ],
   "source": [
    "results_sensitivity = scmdata.run_append(\n",
    "    [scmdata.ScmRun(OUT_SENSITIVITY_FNAME), scmdata.ScmRun(OUT_METHANE_PLEDGES_FNAME)]\n",
    ").filter(label=\"\", keep=False)\n",
    "results_sensitivity.get_unique_meta(\"label\")"
   ]
  },
  {
   "cell_type": "code",
   "execution_count": 6,
   "id": "d25c2580",
   "metadata": {},
   "outputs": [
    {
     "data": {
      "application/javascript": [
       "\n",
       "            setTimeout(function() {\n",
       "                var nbb_cell_id = 6;\n",
       "                var nbb_unformatted_code = \"AR6GSAT_FNAME = os.path.join(PROCESSED_DATA_DIR, \\\"AR6_GSAT\\\", \\\"AR6_GSAT_June2021.csv\\\")\\n\\nar6gsat_data = pd.read_csv(AR6GSAT_FNAME)\";\n",
       "                var nbb_formatted_code = \"AR6GSAT_FNAME = os.path.join(PROCESSED_DATA_DIR, \\\"AR6_GSAT\\\", \\\"AR6_GSAT_June2021.csv\\\")\\n\\nar6gsat_data = pd.read_csv(AR6GSAT_FNAME)\";\n",
       "                var nbb_cells = Jupyter.notebook.get_cells();\n",
       "                for (var i = 0; i < nbb_cells.length; ++i) {\n",
       "                    if (nbb_cells[i].input_prompt_number == nbb_cell_id) {\n",
       "                        if (nbb_cells[i].get_text() == nbb_unformatted_code) {\n",
       "                             nbb_cells[i].set_text(nbb_formatted_code);\n",
       "                        }\n",
       "                        break;\n",
       "                    }\n",
       "                }\n",
       "            }, 500);\n",
       "            "
      ],
      "text/plain": [
       "<IPython.core.display.Javascript object>"
      ]
     },
     "metadata": {},
     "output_type": "display_data"
    }
   ],
   "source": [
    "AR6GSAT_FNAME = os.path.join(PROCESSED_DATA_DIR, \"AR6_GSAT\", \"AR6_GSAT_June2021.csv\")\n",
    "\n",
    "ar6gsat_data = pd.read_csv(AR6GSAT_FNAME)"
   ]
  },
  {
   "cell_type": "code",
   "execution_count": 9,
   "id": "eb06e315",
   "metadata": {},
   "outputs": [
    {
     "data": {
      "text/plain": [
       "<ScmRun (timeseries: 6, timepoints: 751)>\n",
       "Time:\n",
       "\tStart: 1750-01-01T00:00:00\n",
       "\tEnd: 2500-01-01T00:00:00\n",
       "Meta:\n",
       "\t         activity_id mip_era            model region scenario       unit       variable\n",
       "\t4908  not_applicable   CMIP6            IMAGE  World   ssp119  Mt CH4/yr  Emissions|CH4\n",
       "\t4924  not_applicable   CMIP6            IMAGE  World   ssp119  Mt CO2/yr  Emissions|CO2\n",
       "\t5710  not_applicable   CMIP6            IMAGE  World   ssp126  Mt CH4/yr  Emissions|CH4\n",
       "\t5726  not_applicable   CMIP6            IMAGE  World   ssp126  Mt CO2/yr  Emissions|CO2\n",
       "\t6552  not_applicable   CMIP6  MESSAGE-GLOBIOM  World   ssp245  Mt CH4/yr  Emissions|CH4\n",
       "\t6568  not_applicable   CMIP6  MESSAGE-GLOBIOM  World   ssp245  Mt CO2/yr  Emissions|CO2"
      ]
     },
     "execution_count": 9,
     "metadata": {},
     "output_type": "execute_result"
    },
    {
     "data": {
      "application/javascript": [
       "\n",
       "            setTimeout(function() {\n",
       "                var nbb_cell_id = 9;\n",
       "                var nbb_unformatted_code = \"rcmip_emissions = scmdata.ScmRun(\\n    os.path.join(RAW_DATA_DIR, \\\"rcmip\\\", \\\"rcmip-emissions-annual-means-v5-1-0.csv\\\"),\\n    lowercase_cols=True,\\n).filter(\\n    variable=[\\\"Emissions|CO2\\\", \\\"Emissions|CH4\\\"],\\n    scenario=[\\\"ssp119\\\", \\\"ssp126\\\", \\\"ssp245\\\"],\\n    region=\\\"World\\\",\\n)\\nrcmip_emissions\";\n",
       "                var nbb_formatted_code = \"rcmip_emissions = scmdata.ScmRun(\\n    os.path.join(RAW_DATA_DIR, \\\"rcmip\\\", \\\"rcmip-emissions-annual-means-v5-1-0.csv\\\"),\\n    lowercase_cols=True,\\n).filter(\\n    variable=[\\\"Emissions|CO2\\\", \\\"Emissions|CH4\\\"],\\n    scenario=[\\\"ssp119\\\", \\\"ssp126\\\", \\\"ssp245\\\"],\\n    region=\\\"World\\\",\\n)\\nrcmip_emissions\";\n",
       "                var nbb_cells = Jupyter.notebook.get_cells();\n",
       "                for (var i = 0; i < nbb_cells.length; ++i) {\n",
       "                    if (nbb_cells[i].input_prompt_number == nbb_cell_id) {\n",
       "                        if (nbb_cells[i].get_text() == nbb_unformatted_code) {\n",
       "                             nbb_cells[i].set_text(nbb_formatted_code);\n",
       "                        }\n",
       "                        break;\n",
       "                    }\n",
       "                }\n",
       "            }, 500);\n",
       "            "
      ],
      "text/plain": [
       "<IPython.core.display.Javascript object>"
      ]
     },
     "metadata": {},
     "output_type": "display_data"
    }
   ],
   "source": [
    "rcmip_emissions = scmdata.ScmRun(\n",
    "    os.path.join(RAW_DATA_DIR, \"rcmip\", \"rcmip-emissions-annual-means-v5-1-0.csv\"),\n",
    "    lowercase_cols=True,\n",
    ").filter(\n",
    "    variable=[\"Emissions|CO2\", \"Emissions|CH4\"],\n",
    "    scenario=[\"ssp119\", \"ssp126\", \"ssp245\"],\n",
    "    region=\"World\",\n",
    ")\n",
    "rcmip_emissions"
   ]
  },
  {
   "cell_type": "code",
   "execution_count": 11,
   "id": "2da14ab6",
   "metadata": {},
   "outputs": [
    {
     "name": "stderr",
     "output_type": "stream",
     "text": [
      "/home/jared/miniconda3/envs/ndc-realisations-2021/lib/python3.9/site-packages/scmdata/run.py:75: DtypeWarning: Columns (1,8,9) have mixed types.Specify dtype option on import or set low_memory=False.\n",
      "  return _format_data(_read_pandas(fnames, *args, **kwargs), required_cols)\n"
     ]
    },
    {
     "data": {
      "application/javascript": [
       "\n",
       "            setTimeout(function() {\n",
       "                var nbb_cell_id = 11;\n",
       "                var nbb_unformatted_code = \"sr15_rcmip_data = (\\n    scmdata.ScmRun(os.path.join(RAW_DATA_DIR, \\\"sr15_rcmip\\\", \\\"data.csv\\\"))\\n    .filter(scenario=[\\\"ssp119\\\", \\\"ssp126\\\", \\\"ssp245\\\"])\\n    .resample(\\\"AS\\\")\\n)\";\n",
       "                var nbb_formatted_code = \"sr15_rcmip_data = (\\n    scmdata.ScmRun(os.path.join(RAW_DATA_DIR, \\\"sr15_rcmip\\\", \\\"data.csv\\\"))\\n    .filter(scenario=[\\\"ssp119\\\", \\\"ssp126\\\", \\\"ssp245\\\"])\\n    .resample(\\\"AS\\\")\\n)\";\n",
       "                var nbb_cells = Jupyter.notebook.get_cells();\n",
       "                for (var i = 0; i < nbb_cells.length; ++i) {\n",
       "                    if (nbb_cells[i].input_prompt_number == nbb_cell_id) {\n",
       "                        if (nbb_cells[i].get_text() == nbb_unformatted_code) {\n",
       "                             nbb_cells[i].set_text(nbb_formatted_code);\n",
       "                        }\n",
       "                        break;\n",
       "                    }\n",
       "                }\n",
       "            }, 500);\n",
       "            "
      ],
      "text/plain": [
       "<IPython.core.display.Javascript object>"
      ]
     },
     "metadata": {},
     "output_type": "display_data"
    }
   ],
   "source": [
    "sr15_rcmip_data = (\n",
    "    scmdata.ScmRun(os.path.join(RAW_DATA_DIR, \"sr15_rcmip\", \"data.csv\"))\n",
    "    .filter(scenario=[\"ssp119\", \"ssp126\", \"ssp245\"])\n",
    "    .resample(\"AS\")\n",
    ")"
   ]
  },
  {
   "cell_type": "code",
   "execution_count": 10,
   "id": "45e143ef",
   "metadata": {},
   "outputs": [
    {
     "data": {
      "application/javascript": [
       "\n",
       "            setTimeout(function() {\n",
       "                var nbb_cell_id = 10;\n",
       "                var nbb_unformatted_code = \"sr15_data_cleaned = scmdata.ScmRun(os.path.join(PROCESSED_DATA_DIR, \\\"sr15_data.csv\\\"))\\nsr15_data_cleaned = scmdata.run_append(\\n    [\\n        sr15_data_cleaned,\\n        sr15_data_cleaned.filter(\\n            variable=\\\"Emissions|CO2|MAGICC Fossil and Industrial\\\"\\n        ).add(\\n            sr15_data_cleaned.filter(variable=\\\"Emissions|CO2|MAGICC AFOLU\\\"),\\n            {\\\"variable\\\": \\\"Emissions|CO2\\\"},\\n        ),\\n    ]\\n)\";\n",
       "                var nbb_formatted_code = \"sr15_data_cleaned = scmdata.ScmRun(os.path.join(PROCESSED_DATA_DIR, \\\"sr15_data.csv\\\"))\\nsr15_data_cleaned = scmdata.run_append(\\n    [\\n        sr15_data_cleaned,\\n        sr15_data_cleaned.filter(\\n            variable=\\\"Emissions|CO2|MAGICC Fossil and Industrial\\\"\\n        ).add(\\n            sr15_data_cleaned.filter(variable=\\\"Emissions|CO2|MAGICC AFOLU\\\"),\\n            {\\\"variable\\\": \\\"Emissions|CO2\\\"},\\n        ),\\n    ]\\n)\";\n",
       "                var nbb_cells = Jupyter.notebook.get_cells();\n",
       "                for (var i = 0; i < nbb_cells.length; ++i) {\n",
       "                    if (nbb_cells[i].input_prompt_number == nbb_cell_id) {\n",
       "                        if (nbb_cells[i].get_text() == nbb_unformatted_code) {\n",
       "                             nbb_cells[i].set_text(nbb_formatted_code);\n",
       "                        }\n",
       "                        break;\n",
       "                    }\n",
       "                }\n",
       "            }, 500);\n",
       "            "
      ],
      "text/plain": [
       "<IPython.core.display.Javascript object>"
      ]
     },
     "metadata": {},
     "output_type": "display_data"
    }
   ],
   "source": [
    "sr15_data_cleaned = scmdata.ScmRun(os.path.join(PROCESSED_DATA_DIR, \"sr15_data.csv\"))\n",
    "sr15_data_cleaned = scmdata.run_append(\n",
    "    [\n",
    "        sr15_data_cleaned,\n",
    "        sr15_data_cleaned.filter(\n",
    "            variable=\"Emissions|CO2|MAGICC Fossil and Industrial\"\n",
    "        ).add(\n",
    "            sr15_data_cleaned.filter(variable=\"Emissions|CO2|MAGICC AFOLU\"),\n",
    "            {\"variable\": \"Emissions|CO2\"},\n",
    "        ),\n",
    "    ]\n",
    ")"
   ]
  },
  {
   "cell_type": "code",
   "execution_count": null,
   "id": "cf778fe4",
   "metadata": {},
   "outputs": [],
   "source": []
  }
 ],
 "metadata": {
  "kernelspec": {
   "display_name": "Python 3 (ipykernel)",
   "language": "python",
   "name": "python3"
  },
  "language_info": {
   "codemirror_mode": {
    "name": "ipython",
    "version": 3
   },
   "file_extension": ".py",
   "mimetype": "text/x-python",
   "name": "python",
   "nbconvert_exporter": "python",
   "pygments_lexer": "ipython3",
   "version": "3.9.9"
  }
 },
 "nbformat": 4,
 "nbformat_minor": 5
}
