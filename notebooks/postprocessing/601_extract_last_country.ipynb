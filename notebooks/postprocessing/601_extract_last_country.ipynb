{
 "cells": [
  {
   "cell_type": "code",
   "execution_count": 1,
   "id": "b4035b26",
   "metadata": {},
   "outputs": [],
   "source": [
    "import json\n",
    "import glob\n",
    "import os\n",
    "import pandas as pd\n",
    "\n",
    "from src.constants import PROCESSED_DATA_DIR, NDC_TARGET_RELEASE"
   ]
  },
  {
   "cell_type": "code",
   "execution_count": 2,
   "id": "2eba7fbb",
   "metadata": {},
   "outputs": [],
   "source": [
    "INPUT_DIR = os.path.join(PROCESSED_DATA_DIR, \"global_emissions_meta\", NDC_TARGET_RELEASE, \"high\", \"C\")"
   ]
  },
  {
   "cell_type": "code",
   "execution_count": 3,
   "id": "e6f77fcd",
   "metadata": {},
   "outputs": [
    {
     "data": {
      "text/plain": [
       "354"
      ]
     },
     "execution_count": 3,
     "metadata": {},
     "output_type": "execute_result"
    }
   ],
   "source": [
    "fnames = glob.glob(os.path.join(INPUT_DIR, \"*\", \"SSP1BL\", \"selected_countries.json\"))\n",
    "len(fnames)"
   ]
  },
  {
   "cell_type": "code",
   "execution_count": 4,
   "id": "9131bdfa",
   "metadata": {},
   "outputs": [],
   "source": [
    "fnames=sorted(fnames)"
   ]
  },
  {
   "cell_type": "code",
   "execution_count": 5,
   "id": "57f4ab1a",
   "metadata": {},
   "outputs": [
    {
     "name": "stdout",
     "output_type": "stream",
     "text": [
      "{'selected': {'LBY': '2013-07-18'}, 'missing': ['TKM', 'COK', 'EST', 'LIE', 'FRA', 'IND', 'MYS', 'WSM', 'HND', 'GRC', 'CUB', 'SYC', 'NAM', 'VEN', 'SSD', 'USA', 'SLE', 'FIN', 'SYR', 'PNG', 'LUX', 'ZWE', 'TZA', 'CAF', 'ARE', 'ESP', 'RWA', 'ECU', 'UKR', 'ARG', 'POL', 'NIU', 'GUY', 'BOL', 'BTN', 'PHL', 'PAK', 'SEN', 'DMA', 'KHM', 'DZA', 'TTO', 'STP', 'CAN', 'COL', 'BEN', 'VUT', 'COG', 'EGY', 'COD', 'DNK', 'MMR', 'LSO', 'PSE', 'BWA', 'KEN', 'JAM', 'LAO', 'ZMB', 'BHR', 'UGA', 'BRB', 'ALB', 'GEO', 'NGA', 'PRK', 'AUT', 'PRT', 'MWI', 'CRI', 'SVK', 'TUV', 'ERI', 'SVN', 'ZZB', 'BFA', 'AZE', 'TUN', 'GBR', 'MCO', 'NRU', 'GIN', 'AGO', 'FJI', 'CMR', 'SUR', 'ROU', 'KNA', 'BEL', 'HUN', 'BLZ', 'TLS', 'LCA', 'GAB', 'HRV', 'ISR', 'NPL', 'ZZA', 'BRA', 'MUS', 'MKD', 'BGD', 'AUS', 'MLI', 'GHA', 'FSM', 'SRB', 'MEX', 'PAN', 'LTU', 'IDN', 'CZE', 'NOR', 'DEU', 'LVA', 'TCD', 'RUS', 'TUR', 'CIV', 'TJK', 'NER', 'SOM', 'GNQ', 'CHL', 'IRQ', 'CHE', 'URY', 'KGZ', 'MNE', 'COM', 'BGR', 'NZL', 'BIH', 'SLV', 'MAR', 'MDV', 'JPN', 'QAT', 'GRD', 'VCT', 'MHL', 'ARM', 'BRN', 'SLB', 'DJI', 'MNG', 'IRN', 'CPV', 'SWE', 'ITA', 'GMB', 'TGO', 'ZAF', 'GNB', 'SDN', 'VNM', 'AFG', 'GTM', 'NLD', 'HTI', 'ETH', 'KIR', 'PLW', 'MLT', 'SAU', 'AND', 'MOZ', 'ATG', 'TON', 'MDA', 'OMN', 'SMR', 'CHN', 'PRY', 'JOR', 'IRL', 'YEM', 'ISL', 'CYP', 'THA', 'KAZ', 'UZB', 'NIC', 'BDI', 'BHS', 'LBR', 'BLR', 'KWT', 'SGP', 'DOM', 'SWZ', 'LKA', 'MDG', 'MRT', 'KOR', 'LBN', 'PER'], 'last_country': 'LBY', 'pathway_num': 1, 'pathway_id': '2013-07-18_1', 'conditionality': 'C', 'country_extension': 'SSP1BL', 'exclude_hot_air': 'exclude', 'ambition': 'high'}\n"
     ]
    }
   ],
   "source": [
    "with open(fnames[0]) as fh:\n",
    "    print(json.load(fh))"
   ]
  },
  {
   "cell_type": "code",
   "execution_count": 6,
   "id": "a6609f26",
   "metadata": {},
   "outputs": [
    {
     "data": {
      "text/html": [
       "<div>\n",
       "<style scoped>\n",
       "    .dataframe tbody tr th:only-of-type {\n",
       "        vertical-align: middle;\n",
       "    }\n",
       "\n",
       "    .dataframe tbody tr th {\n",
       "        vertical-align: top;\n",
       "    }\n",
       "\n",
       "    .dataframe thead th {\n",
       "        text-align: right;\n",
       "    }\n",
       "</style>\n",
       "<table border=\"1\" class=\"dataframe\">\n",
       "  <thead>\n",
       "    <tr style=\"text-align: right;\">\n",
       "      <th></th>\n",
       "      <th>pathway_id</th>\n",
       "      <th>last_country</th>\n",
       "    </tr>\n",
       "  </thead>\n",
       "  <tbody>\n",
       "    <tr>\n",
       "      <th>0</th>\n",
       "      <td>2013-07-18_1</td>\n",
       "      <td>LBY</td>\n",
       "    </tr>\n",
       "    <tr>\n",
       "      <th>1</th>\n",
       "      <td>2013-07-18_2</td>\n",
       "      <td>ZZA</td>\n",
       "    </tr>\n",
       "    <tr>\n",
       "      <th>2</th>\n",
       "      <td>2013-07-18_3</td>\n",
       "      <td>ZZB</td>\n",
       "    </tr>\n",
       "    <tr>\n",
       "      <th>3</th>\n",
       "      <td>2015-08-05_1</td>\n",
       "      <td>MKD</td>\n",
       "    </tr>\n",
       "    <tr>\n",
       "      <th>4</th>\n",
       "      <td>2015-09-26_1</td>\n",
       "      <td>SEN</td>\n",
       "    </tr>\n",
       "    <tr>\n",
       "      <th>...</th>\n",
       "      <td>...</td>\n",
       "      <td>...</td>\n",
       "    </tr>\n",
       "    <tr>\n",
       "      <th>349</th>\n",
       "      <td>2021-10-28_2</td>\n",
       "      <td>CHN</td>\n",
       "    </tr>\n",
       "    <tr>\n",
       "      <th>350</th>\n",
       "      <td>2021-10-30_1</td>\n",
       "      <td>UZB</td>\n",
       "    </tr>\n",
       "    <tr>\n",
       "      <th>351</th>\n",
       "      <td>2021-11-01_1</td>\n",
       "      <td>IND</td>\n",
       "    </tr>\n",
       "    <tr>\n",
       "      <th>352</th>\n",
       "      <td>2021-11-03_1</td>\n",
       "      <td>NZL</td>\n",
       "    </tr>\n",
       "    <tr>\n",
       "      <th>353</th>\n",
       "      <td>2021-11-09_1</td>\n",
       "      <td>VEN</td>\n",
       "    </tr>\n",
       "  </tbody>\n",
       "</table>\n",
       "<p>354 rows × 2 columns</p>\n",
       "</div>"
      ],
      "text/plain": [
       "       pathway_id last_country\n",
       "0    2013-07-18_1          LBY\n",
       "1    2013-07-18_2          ZZA\n",
       "2    2013-07-18_3          ZZB\n",
       "3    2015-08-05_1          MKD\n",
       "4    2015-09-26_1          SEN\n",
       "..            ...          ...\n",
       "349  2021-10-28_2          CHN\n",
       "350  2021-10-30_1          UZB\n",
       "351  2021-11-01_1          IND\n",
       "352  2021-11-03_1          NZL\n",
       "353  2021-11-09_1          VEN\n",
       "\n",
       "[354 rows x 2 columns]"
      ]
     },
     "execution_count": 6,
     "metadata": {},
     "output_type": "execute_result"
    }
   ],
   "source": [
    "data = []\n",
    "for fname in fnames:\n",
    "    with open(fname) as fh:\n",
    "        loaded_data = json.load(fh)\n",
    "    data.append({\"pathway_id\": loaded_data[\"pathway_id\"], \"last_country\": loaded_data[\"last_country\"] })\n",
    "data = pd.DataFrame(data)\n",
    "data"
   ]
  },
  {
   "cell_type": "code",
   "execution_count": 7,
   "id": "c1365b7e",
   "metadata": {},
   "outputs": [],
   "source": [
    "data.to_csv(os.path.join(PROCESSED_DATA_DIR, \"{}_pathway_countries.csv\".format(NDC_TARGET_RELEASE)), index=False)"
   ]
  },
  {
   "cell_type": "code",
   "execution_count": null,
   "id": "546d8127",
   "metadata": {},
   "outputs": [],
   "source": []
  }
 ],
 "metadata": {
  "kernelspec": {
   "display_name": "Python 3 (ipykernel)",
   "language": "python",
   "name": "python3"
  },
  "language_info": {
   "codemirror_mode": {
    "name": "ipython",
    "version": 3
   },
   "file_extension": ".py",
   "mimetype": "text/x-python",
   "name": "python",
   "nbconvert_exporter": "python",
   "pygments_lexer": "ipython3",
   "version": "3.9.9"
  }
 },
 "nbformat": 4,
 "nbformat_minor": 5
}
