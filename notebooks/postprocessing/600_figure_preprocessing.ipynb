{
 "cells": [
  {
   "cell_type": "markdown",
   "id": "97597e42",
   "metadata": {},
   "source": [
    "# Read in raw metadata from the runs and crunch additional metadata"
   ]
  },
  {
   "cell_type": "code",
   "execution_count": 1,
   "id": "0edaf76c",
   "metadata": {},
   "outputs": [
    {
     "data": {
      "application/javascript": [
       "\n",
       "            setTimeout(function() {\n",
       "                var nbb_cell_id = 1;\n",
       "                var nbb_unformatted_code = \"%load_ext nb_black\";\n",
       "                var nbb_formatted_code = \"%load_ext nb_black\";\n",
       "                var nbb_cells = Jupyter.notebook.get_cells();\n",
       "                for (var i = 0; i < nbb_cells.length; ++i) {\n",
       "                    if (nbb_cells[i].input_prompt_number == nbb_cell_id) {\n",
       "                        if (nbb_cells[i].get_text() == nbb_unformatted_code) {\n",
       "                             nbb_cells[i].set_text(nbb_formatted_code);\n",
       "                        }\n",
       "                        break;\n",
       "                    }\n",
       "                }\n",
       "            }, 500);\n",
       "            "
      ],
      "text/plain": [
       "<IPython.core.display.Javascript object>"
      ]
     },
     "metadata": {},
     "output_type": "display_data"
    }
   ],
   "source": [
    "%load_ext nb_black"
   ]
  },
  {
   "cell_type": "code",
   "execution_count": 2,
   "id": "e942109f",
   "metadata": {},
   "outputs": [
    {
     "data": {
      "application/javascript": [
       "\n",
       "            setTimeout(function() {\n",
       "                var nbb_cell_id = 2;\n",
       "                var nbb_unformatted_code = \"%load_ext autoreload\\n%autoreload 2\";\n",
       "                var nbb_formatted_code = \"%load_ext autoreload\\n%autoreload 2\";\n",
       "                var nbb_cells = Jupyter.notebook.get_cells();\n",
       "                for (var i = 0; i < nbb_cells.length; ++i) {\n",
       "                    if (nbb_cells[i].input_prompt_number == nbb_cell_id) {\n",
       "                        if (nbb_cells[i].get_text() == nbb_unformatted_code) {\n",
       "                             nbb_cells[i].set_text(nbb_formatted_code);\n",
       "                        }\n",
       "                        break;\n",
       "                    }\n",
       "                }\n",
       "            }, 500);\n",
       "            "
      ],
      "text/plain": [
       "<IPython.core.display.Javascript object>"
      ]
     },
     "metadata": {},
     "output_type": "display_data"
    }
   ],
   "source": [
    "%load_ext autoreload\n",
    "%autoreload 2"
   ]
  },
  {
   "cell_type": "code",
   "execution_count": 13,
   "id": "08c35492",
   "metadata": {},
   "outputs": [
    {
     "data": {
      "application/javascript": [
       "\n",
       "            setTimeout(function() {\n",
       "                var nbb_cell_id = 13;\n",
       "                var nbb_unformatted_code = \"import os.path\\nfrom glob import glob\\nfrom tqdm.auto import tqdm\\n\\nimport matplotlib.pyplot as plt\\nimport pandas as pd\\nimport scmdata\\nimport scmdata.database\\n\\nfrom ndcs.constants import PROCESSED_DATA_DIR, NDC_TARGET_RELEASE\";\n",
       "                var nbb_formatted_code = \"import os.path\\nfrom glob import glob\\nfrom tqdm.auto import tqdm\\n\\nimport matplotlib.pyplot as plt\\nimport pandas as pd\\nimport scmdata\\nimport scmdata.database\\n\\nfrom ndcs.constants import PROCESSED_DATA_DIR, NDC_TARGET_RELEASE\";\n",
       "                var nbb_cells = Jupyter.notebook.get_cells();\n",
       "                for (var i = 0; i < nbb_cells.length; ++i) {\n",
       "                    if (nbb_cells[i].input_prompt_number == nbb_cell_id) {\n",
       "                        if (nbb_cells[i].get_text() == nbb_unformatted_code) {\n",
       "                             nbb_cells[i].set_text(nbb_formatted_code);\n",
       "                        }\n",
       "                        break;\n",
       "                    }\n",
       "                }\n",
       "            }, 500);\n",
       "            "
      ],
      "text/plain": [
       "<IPython.core.display.Javascript object>"
      ]
     },
     "metadata": {},
     "output_type": "display_data"
    }
   ],
   "source": [
    "import os.path\n",
    "from glob import glob\n",
    "from tqdm.auto import tqdm\n",
    "\n",
    "import matplotlib.pyplot as plt\n",
    "import pandas as pd\n",
    "import scmdata\n",
    "import scmdata.database\n",
    "\n",
    "from ndcs.constants import PROCESSED_DATA_DIR, NDC_TARGET_RELEASE"
   ]
  },
  {
   "cell_type": "code",
   "execution_count": 4,
   "id": "7f4af5df",
   "metadata": {},
   "outputs": [
    {
     "data": {
      "application/javascript": [
       "\n",
       "            setTimeout(function() {\n",
       "                var nbb_cell_id = 4;\n",
       "                var nbb_unformatted_code = \"plt.rcParams[\\\"figure.figsize\\\"] = (12, 8)\";\n",
       "                var nbb_formatted_code = \"plt.rcParams[\\\"figure.figsize\\\"] = (12, 8)\";\n",
       "                var nbb_cells = Jupyter.notebook.get_cells();\n",
       "                for (var i = 0; i < nbb_cells.length; ++i) {\n",
       "                    if (nbb_cells[i].input_prompt_number == nbb_cell_id) {\n",
       "                        if (nbb_cells[i].get_text() == nbb_unformatted_code) {\n",
       "                             nbb_cells[i].set_text(nbb_formatted_code);\n",
       "                        }\n",
       "                        break;\n",
       "                    }\n",
       "                }\n",
       "            }, 500);\n",
       "            "
      ],
      "text/plain": [
       "<IPython.core.display.Javascript object>"
      ]
     },
     "metadata": {},
     "output_type": "display_data"
    }
   ],
   "source": [
    "plt.rcParams[\"figure.figsize\"] = (12, 8)"
   ]
  },
  {
   "cell_type": "code",
   "execution_count": 5,
   "id": "59da96bb",
   "metadata": {},
   "outputs": [
    {
     "data": {
      "application/javascript": [
       "\n",
       "            setTimeout(function() {\n",
       "                var nbb_cell_id = 5;\n",
       "                var nbb_unformatted_code = \"SCENARIO_LABELS = {\\n    \\\"2021-11-09_1__high__C__SSP1BL__exclude\\\": \\\"A\\\",\\n    \\\"2021-11-09_1__low__U__SSP1BL__exclude\\\": \\\"B\\\",\\n    \\\"2021-11-09_1__high__C__2030__exclude\\\": \\\"a\\\",\\n    \\\"2021-11-09_1__high__C__2030__include\\\": \\\"b\\\",\\n    \\\"2021-11-09_1__low__C__2030__exclude\\\": \\\"c\\\",\\n    \\\"2021-11-09_1__low__C__2030__include\\\": \\\"d\\\",\\n    \\\"2021-11-09_1__high__U__2030__exclude\\\": \\\"e\\\",\\n    \\\"2021-11-09_1__low__U__2030__exclude\\\": \\\"f\\\",\\n    \\\"2021-11-09_1__high__U__2030__include\\\": \\\"g\\\",\\n    \\\"2021-11-09_1__low__U__2030__include\\\": \\\"h\\\",\\n    # Methane scenarios\\n    \\\"2021-11-09_1__high__C__SSP1BL__exclude_fullCH4\\\": \\\"m\\\",\\n    \\\"2021-11-09_1__high__C__SSP1BL__exclude_conditionalCH4\\\": \\\"n\\\",\\n    \\\"2021-11-09_1__high__C__SSP1BL__exclude_unconditionalCH4\\\": \\\"o\\\",\\n    # A variants\\n    \\\"2021-11-09_1__high__C__constant__exclude\\\": \\\"A-constant\\\",\\n    \\\"2021-11-09_1__high__C__rate__exclude\\\": \\\"A-rate\\\",\\n    \\\"2021-11-09_1__high__C__SSP1BL__include\\\": \\\"A-hot air\\\",\\n}\";\n",
       "                var nbb_formatted_code = \"SCENARIO_LABELS = {\\n    \\\"2021-11-09_1__high__C__SSP1BL__exclude\\\": \\\"A\\\",\\n    \\\"2021-11-09_1__low__U__SSP1BL__exclude\\\": \\\"B\\\",\\n    \\\"2021-11-09_1__high__C__2030__exclude\\\": \\\"a\\\",\\n    \\\"2021-11-09_1__high__C__2030__include\\\": \\\"b\\\",\\n    \\\"2021-11-09_1__low__C__2030__exclude\\\": \\\"c\\\",\\n    \\\"2021-11-09_1__low__C__2030__include\\\": \\\"d\\\",\\n    \\\"2021-11-09_1__high__U__2030__exclude\\\": \\\"e\\\",\\n    \\\"2021-11-09_1__low__U__2030__exclude\\\": \\\"f\\\",\\n    \\\"2021-11-09_1__high__U__2030__include\\\": \\\"g\\\",\\n    \\\"2021-11-09_1__low__U__2030__include\\\": \\\"h\\\",\\n    # Methane scenarios\\n    \\\"2021-11-09_1__high__C__SSP1BL__exclude_fullCH4\\\": \\\"m\\\",\\n    \\\"2021-11-09_1__high__C__SSP1BL__exclude_conditionalCH4\\\": \\\"n\\\",\\n    \\\"2021-11-09_1__high__C__SSP1BL__exclude_unconditionalCH4\\\": \\\"o\\\",\\n    # A variants\\n    \\\"2021-11-09_1__high__C__constant__exclude\\\": \\\"A-constant\\\",\\n    \\\"2021-11-09_1__high__C__rate__exclude\\\": \\\"A-rate\\\",\\n    \\\"2021-11-09_1__high__C__SSP1BL__include\\\": \\\"A-hot air\\\",\\n}\";\n",
       "                var nbb_cells = Jupyter.notebook.get_cells();\n",
       "                for (var i = 0; i < nbb_cells.length; ++i) {\n",
       "                    if (nbb_cells[i].input_prompt_number == nbb_cell_id) {\n",
       "                        if (nbb_cells[i].get_text() == nbb_unformatted_code) {\n",
       "                             nbb_cells[i].set_text(nbb_formatted_code);\n",
       "                        }\n",
       "                        break;\n",
       "                    }\n",
       "                }\n",
       "            }, 500);\n",
       "            "
      ],
      "text/plain": [
       "<IPython.core.display.Javascript object>"
      ]
     },
     "metadata": {},
     "output_type": "display_data"
    }
   ],
   "source": [
    "SCENARIO_LABELS = {\n",
    "    \"2021-11-09_1__high__C__SSP1BL__exclude\": \"A\",\n",
    "    \"2021-11-09_1__low__U__SSP1BL__exclude\": \"B\",\n",
    "    \"2021-11-09_1__high__C__2030__exclude\": \"a\",\n",
    "    \"2021-11-09_1__high__C__2030__include\": \"b\",\n",
    "    \"2021-11-09_1__low__C__2030__exclude\": \"c\",\n",
    "    \"2021-11-09_1__low__C__2030__include\": \"d\",\n",
    "    \"2021-11-09_1__high__U__2030__exclude\": \"e\",\n",
    "    \"2021-11-09_1__low__U__2030__exclude\": \"f\",\n",
    "    \"2021-11-09_1__high__U__2030__include\": \"g\",\n",
    "    \"2021-11-09_1__low__U__2030__include\": \"h\",\n",
    "    # Methane scenarios\n",
    "    \"2021-11-09_1__high__C__SSP1BL__exclude_fullCH4\": \"m\",\n",
    "    \"2021-11-09_1__high__C__SSP1BL__exclude_conditionalCH4\": \"n\",\n",
    "    \"2021-11-09_1__high__C__SSP1BL__exclude_unconditionalCH4\": \"o\",\n",
    "    # A variants\n",
    "    \"2021-11-09_1__high__C__constant__exclude\": \"A-constant\",\n",
    "    \"2021-11-09_1__high__C__rate__exclude\": \"A-rate\",\n",
    "    \"2021-11-09_1__high__C__SSP1BL__include\": \"A-hot air\",\n",
    "}"
   ]
  },
  {
   "cell_type": "code",
   "execution_count": 6,
   "id": "a22a1d22",
   "metadata": {},
   "outputs": [
    {
     "data": {
      "application/javascript": [
       "\n",
       "            setTimeout(function() {\n",
       "                var nbb_cell_id = 6;\n",
       "                var nbb_unformatted_code = \"DATE_CODE = \\\"20220111\\\"\\nFNAME = f\\\"output_{NDC_TARGET_RELEASE}_sensitivity.csv\\\"\";\n",
       "                var nbb_formatted_code = \"DATE_CODE = \\\"20220111\\\"\\nFNAME = f\\\"output_{NDC_TARGET_RELEASE}_sensitivity.csv\\\"\";\n",
       "                var nbb_cells = Jupyter.notebook.get_cells();\n",
       "                for (var i = 0; i < nbb_cells.length; ++i) {\n",
       "                    if (nbb_cells[i].input_prompt_number == nbb_cell_id) {\n",
       "                        if (nbb_cells[i].get_text() == nbb_unformatted_code) {\n",
       "                             nbb_cells[i].set_text(nbb_formatted_code);\n",
       "                        }\n",
       "                        break;\n",
       "                    }\n",
       "                }\n",
       "            }, 500);\n",
       "            "
      ],
      "text/plain": [
       "<IPython.core.display.Javascript object>"
      ]
     },
     "metadata": {},
     "output_type": "display_data"
    }
   ],
   "source": [
    "DATE_CODE = \"20220111\"\n",
    "FNAME = f\"output_{NDC_TARGET_RELEASE}_sensitivity.csv\""
   ]
  },
  {
   "cell_type": "markdown",
   "id": "f8f09038",
   "metadata": {},
   "source": [
    "# Fetch data from AWS"
   ]
  },
  {
   "cell_type": "code",
   "execution_count": 9,
   "id": "e0e1106c",
   "metadata": {
    "pycharm": {
     "name": "#%%\n"
    }
   },
   "outputs": [
    {
     "data": {
      "application/javascript": [
       "\n",
       "            setTimeout(function() {\n",
       "                var nbb_cell_id = 9;\n",
       "                var nbb_unformatted_code = \"CLIMATE_ASSESSMENT_ID = f\\\"{DATE_CODE}-ndc-sensitivity\\\"\\nDATA_DIR_SENSITIVITY = os.path.join(\\n    PROCESSED_DATA_DIR, \\\"climate_assessment\\\", CLIMATE_ASSESSMENT_ID\\n)\\n\\n!aws s3 sync s3://ipcc-climate-assessment/{CLIMATE_ASSESSMENT_ID}/merged {DATA_DIR}\\n!aws s3 sync s3://ipcc-climate-assessment/{CLIMATE_ASSESSMENT_ID}/out/raw_climate_output/ {DATA_DIR_SENSITIVITY}/raw_climate_output/\\n\\nmeta_files = glob(os.path.join(DATA_DIR_SENSITIVITY, \\\"results_*.csv\\\"))\\nmeta_raw_sensitivity = pd.read_csv(sorted(meta_files)[-1])\";\n",
       "                var nbb_formatted_code = \"CLIMATE_ASSESSMENT_ID = f\\\"{DATE_CODE}-ndc-sensitivity\\\"\\nDATA_DIR_SENSITIVITY = os.path.join(\\n    PROCESSED_DATA_DIR, \\\"climate_assessment\\\", CLIMATE_ASSESSMENT_ID\\n)\\n\\n!aws s3 sync s3://ipcc-climate-assessment/{CLIMATE_ASSESSMENT_ID}/merged {DATA_DIR}\\n!aws s3 sync s3://ipcc-climate-assessment/{CLIMATE_ASSESSMENT_ID}/out/raw_climate_output/ {DATA_DIR_SENSITIVITY}/raw_climate_output/\\n\\nmeta_files = glob(os.path.join(DATA_DIR_SENSITIVITY, \\\"results_*.csv\\\"))\\nmeta_raw_sensitivity = pd.read_csv(sorted(meta_files)[-1])\";\n",
       "                var nbb_cells = Jupyter.notebook.get_cells();\n",
       "                for (var i = 0; i < nbb_cells.length; ++i) {\n",
       "                    if (nbb_cells[i].input_prompt_number == nbb_cell_id) {\n",
       "                        if (nbb_cells[i].get_text() == nbb_unformatted_code) {\n",
       "                             nbb_cells[i].set_text(nbb_formatted_code);\n",
       "                        }\n",
       "                        break;\n",
       "                    }\n",
       "                }\n",
       "            }, 500);\n",
       "            "
      ],
      "text/plain": [
       "<IPython.core.display.Javascript object>"
      ]
     },
     "metadata": {},
     "output_type": "display_data"
    }
   ],
   "source": [
    "CLIMATE_ASSESSMENT_ID = f\"{DATE_CODE}-ndc-sensitivity\"\n",
    "DATA_DIR_SENSITIVITY = os.path.join(\n",
    "    PROCESSED_DATA_DIR, \"climate_assessment\", CLIMATE_ASSESSMENT_ID\n",
    ")\n",
    "\n",
    "!aws s3 sync s3://ipcc-climate-assessment/{CLIMATE_ASSESSMENT_ID}/merged {DATA_DIR}\n",
    "!aws s3 sync s3://ipcc-climate-assessment/{CLIMATE_ASSESSMENT_ID}/out/raw_climate_output/ {DATA_DIR_SENSITIVITY}/raw_climate_output/\n",
    "\n",
    "meta_files = glob(os.path.join(DATA_DIR_SENSITIVITY, \"results_*.csv\"))\n",
    "meta_raw_sensitivity = pd.read_csv(sorted(meta_files)[-1])"
   ]
  },
  {
   "cell_type": "markdown",
   "id": "51e89582",
   "metadata": {},
   "source": [
    "# Load meta and calculate additional percentiles"
   ]
  },
  {
   "cell_type": "code",
   "execution_count": 10,
   "id": "c963477c",
   "metadata": {},
   "outputs": [
    {
     "data": {
      "text/html": [
       "<div>\n",
       "<style scoped>\n",
       "    .dataframe tbody tr th:only-of-type {\n",
       "        vertical-align: middle;\n",
       "    }\n",
       "\n",
       "    .dataframe tbody tr th {\n",
       "        vertical-align: top;\n",
       "    }\n",
       "\n",
       "    .dataframe thead th {\n",
       "        text-align: right;\n",
       "    }\n",
       "</style>\n",
       "<table border=\"1\" class=\"dataframe\">\n",
       "  <thead>\n",
       "    <tr style=\"text-align: right;\">\n",
       "      <th></th>\n",
       "      <th>model</th>\n",
       "      <th>scenario</th>\n",
       "      <th>exclude</th>\n",
       "      <th>Exceedance Probability 1.5C (MAGICCv7.5.3)</th>\n",
       "      <th>Exceedance Probability 2.0C (MAGICCv7.5.3)</th>\n",
       "      <th>Exceedance Probability 2.5C (MAGICCv7.5.3)</th>\n",
       "      <th>Exceedance Probability 3.0C (MAGICCv7.5.3)</th>\n",
       "      <th>...</th>\n",
       "      <th>p67 warming in 2100 (MAGICCv7.5.3)</th>\n",
       "      <th>Category</th>\n",
       "      <th>Category_name</th>\n",
       "      <th>harmonization</th>\n",
       "      <th>infilling</th>\n",
       "      <th>climate-models</th>\n",
       "      <th>pipeline</th>\n",
       "    </tr>\n",
       "  </thead>\n",
       "  <tbody>\n",
       "    <tr>\n",
       "      <th>0</th>\n",
       "      <td>NDC Factsheet</td>\n",
       "      <td>2021-11-09_1__low__U__constant__exclude</td>\n",
       "      <td>False</td>\n",
       "      <td>0.920000</td>\n",
       "      <td>0.473333</td>\n",
       "      <td>0.136667</td>\n",
       "      <td>0.030000</td>\n",
       "      <td>...</td>\n",
       "      <td>2.128366</td>\n",
       "      <td>C4</td>\n",
       "      <td>C4: Below 2°C</td>\n",
       "      <td>aneris (version: 0.2.0+41.g6ddf6e5)</td>\n",
       "      <td>silicone (version: 1.2.1)</td>\n",
       "      <td>openscm_runner (version: 0.9.1)</td>\n",
       "      <td>climate-assessment (version: 0.1.3-fgd+24.g0f1ec01)</td>\n",
       "    </tr>\n",
       "    <tr>\n",
       "      <th>1</th>\n",
       "      <td>NDC Factsheet</td>\n",
       "      <td>2021-11-09_1__low__U__constant__include</td>\n",
       "      <td>False</td>\n",
       "      <td>0.938333</td>\n",
       "      <td>0.515000</td>\n",
       "      <td>0.173333</td>\n",
       "      <td>0.053333</td>\n",
       "      <td>...</td>\n",
       "      <td>2.204590</td>\n",
       "      <td>C5</td>\n",
       "      <td>C5: Below 2.5°C</td>\n",
       "      <td>aneris (version: 0.2.0+41.g6ddf6e5)</td>\n",
       "      <td>silicone (version: 1.2.1)</td>\n",
       "      <td>openscm_runner (version: 0.9.1)</td>\n",
       "      <td>climate-assessment (version: 0.1.3-fgd+24.g0f1ec01)</td>\n",
       "    </tr>\n",
       "    <tr>\n",
       "      <th>2</th>\n",
       "      <td>NDC Factsheet</td>\n",
       "      <td>2021-11-09_1__high__U__constant__exclude</td>\n",
       "      <td>False</td>\n",
       "      <td>0.896667</td>\n",
       "      <td>0.435000</td>\n",
       "      <td>0.130000</td>\n",
       "      <td>0.026667</td>\n",
       "      <td>...</td>\n",
       "      <td>2.078221</td>\n",
       "      <td>C4</td>\n",
       "      <td>C4: Below 2°C</td>\n",
       "      <td>aneris (version: 0.2.0+41.g6ddf6e5)</td>\n",
       "      <td>silicone (version: 1.2.1)</td>\n",
       "      <td>openscm_runner (version: 0.9.1)</td>\n",
       "      <td>climate-assessment (version: 0.1.3-fgd+24.g0f1ec01)</td>\n",
       "    </tr>\n",
       "    <tr>\n",
       "      <th>3</th>\n",
       "      <td>NDC Factsheet</td>\n",
       "      <td>2021-11-09_1__high__U__constant__include</td>\n",
       "      <td>False</td>\n",
       "      <td>0.920000</td>\n",
       "      <td>0.483333</td>\n",
       "      <td>0.136667</td>\n",
       "      <td>0.033333</td>\n",
       "      <td>...</td>\n",
       "      <td>2.132572</td>\n",
       "      <td>C4</td>\n",
       "      <td>C4: Below 2°C</td>\n",
       "      <td>aneris (version: 0.2.0+41.g6ddf6e5)</td>\n",
       "      <td>silicone (version: 1.2.1)</td>\n",
       "      <td>openscm_runner (version: 0.9.1)</td>\n",
       "      <td>climate-assessment (version: 0.1.3-fgd+24.g0f1ec01)</td>\n",
       "    </tr>\n",
       "    <tr>\n",
       "      <th>4</th>\n",
       "      <td>NDC Factsheet</td>\n",
       "      <td>2021-11-09_1__high__C__rate__exclude</td>\n",
       "      <td>False</td>\n",
       "      <td>0.910000</td>\n",
       "      <td>0.456667</td>\n",
       "      <td>0.136667</td>\n",
       "      <td>0.030000</td>\n",
       "      <td>...</td>\n",
       "      <td>2.109929</td>\n",
       "      <td>C4</td>\n",
       "      <td>C4: Below 2°C</td>\n",
       "      <td>aneris (version: 0.2.0+41.g6ddf6e5)</td>\n",
       "      <td>silicone (version: 1.2.1)</td>\n",
       "      <td>openscm_runner (version: 0.9.1)</td>\n",
       "      <td>climate-assessment (version: 0.1.3-fgd+24.g0f1ec01)</td>\n",
       "    </tr>\n",
       "  </tbody>\n",
       "</table>\n",
       "<p>5 rows × 22 columns</p>\n",
       "</div>"
      ],
      "text/plain": [
       "           model                                  scenario  exclude  Exceedance Probability 1.5C (MAGICCv7.5.3)  Exceedance Probability 2.0C (MAGICCv7.5.3)  Exceedance Probability 2.5C (MAGICCv7.5.3)  Exceedance Probability 3.0C (MAGICCv7.5.3)  \\\n",
       "0  NDC Factsheet   2021-11-09_1__low__U__constant__exclude    False                                    0.920000                                    0.473333                                    0.136667                                    0.030000   \n",
       "1  NDC Factsheet   2021-11-09_1__low__U__constant__include    False                                    0.938333                                    0.515000                                    0.173333                                    0.053333   \n",
       "2  NDC Factsheet  2021-11-09_1__high__U__constant__exclude    False                                    0.896667                                    0.435000                                    0.130000                                    0.026667   \n",
       "3  NDC Factsheet  2021-11-09_1__high__U__constant__include    False                                    0.920000                                    0.483333                                    0.136667                                    0.033333   \n",
       "4  NDC Factsheet      2021-11-09_1__high__C__rate__exclude    False                                    0.910000                                    0.456667                                    0.136667                                    0.030000   \n",
       "\n",
       "   ...  p67 warming in 2100 (MAGICCv7.5.3)  Category    Category_name                        harmonization                  infilling                   climate-models                                             pipeline  \n",
       "0  ...                            2.128366        C4    C4: Below 2°C  aneris (version: 0.2.0+41.g6ddf6e5)  silicone (version: 1.2.1)  openscm_runner (version: 0.9.1)  climate-assessment (version: 0.1.3-fgd+24.g0f1ec01)  \n",
       "1  ...                            2.204590        C5  C5: Below 2.5°C  aneris (version: 0.2.0+41.g6ddf6e5)  silicone (version: 1.2.1)  openscm_runner (version: 0.9.1)  climate-assessment (version: 0.1.3-fgd+24.g0f1ec01)  \n",
       "2  ...                            2.078221        C4    C4: Below 2°C  aneris (version: 0.2.0+41.g6ddf6e5)  silicone (version: 1.2.1)  openscm_runner (version: 0.9.1)  climate-assessment (version: 0.1.3-fgd+24.g0f1ec01)  \n",
       "3  ...                            2.132572        C4    C4: Below 2°C  aneris (version: 0.2.0+41.g6ddf6e5)  silicone (version: 1.2.1)  openscm_runner (version: 0.9.1)  climate-assessment (version: 0.1.3-fgd+24.g0f1ec01)  \n",
       "4  ...                            2.109929        C4    C4: Below 2°C  aneris (version: 0.2.0+41.g6ddf6e5)  silicone (version: 1.2.1)  openscm_runner (version: 0.9.1)  climate-assessment (version: 0.1.3-fgd+24.g0f1ec01)  \n",
       "\n",
       "[5 rows x 22 columns]"
      ]
     },
     "execution_count": 10,
     "metadata": {},
     "output_type": "execute_result"
    },
    {
     "data": {
      "application/javascript": [
       "\n",
       "            setTimeout(function() {\n",
       "                var nbb_cell_id = 10;\n",
       "                var nbb_unformatted_code = \"meta_raw = meta_raw_sensitivity.reset_index(drop=True)\\nmeta_raw.head()\";\n",
       "                var nbb_formatted_code = \"meta_raw = meta_raw_sensitivity.reset_index(drop=True)\\nmeta_raw.head()\";\n",
       "                var nbb_cells = Jupyter.notebook.get_cells();\n",
       "                for (var i = 0; i < nbb_cells.length; ++i) {\n",
       "                    if (nbb_cells[i].input_prompt_number == nbb_cell_id) {\n",
       "                        if (nbb_cells[i].get_text() == nbb_unformatted_code) {\n",
       "                             nbb_cells[i].set_text(nbb_formatted_code);\n",
       "                        }\n",
       "                        break;\n",
       "                    }\n",
       "                }\n",
       "            }, 500);\n",
       "            "
      ],
      "text/plain": [
       "<IPython.core.display.Javascript object>"
      ]
     },
     "metadata": {},
     "output_type": "display_data"
    }
   ],
   "source": [
    "meta_raw = meta_raw_sensitivity.reset_index(drop=True)\n",
    "meta_raw.head()"
   ]
  },
  {
   "cell_type": "code",
   "execution_count": 11,
   "id": "2654e80f",
   "metadata": {
    "pycharm": {
     "name": "#%%\n"
    }
   },
   "outputs": [
    {
     "data": {
      "text/html": [
       "<div>\n",
       "<style scoped>\n",
       "    .dataframe tbody tr th:only-of-type {\n",
       "        vertical-align: middle;\n",
       "    }\n",
       "\n",
       "    .dataframe tbody tr th {\n",
       "        vertical-align: top;\n",
       "    }\n",
       "\n",
       "    .dataframe thead th {\n",
       "        text-align: right;\n",
       "    }\n",
       "</style>\n",
       "<table border=\"1\" class=\"dataframe\">\n",
       "  <thead>\n",
       "    <tr style=\"text-align: right;\">\n",
       "      <th></th>\n",
       "      <th>model</th>\n",
       "      <th>scenario</th>\n",
       "      <th>exclude</th>\n",
       "      <th>Exceedance Probability 1.5C</th>\n",
       "      <th>Exceedance Probability 2.0C</th>\n",
       "      <th>Exceedance Probability 2.5C</th>\n",
       "      <th>Exceedance Probability 3.0C</th>\n",
       "      <th>Category</th>\n",
       "      <th>Category_name</th>\n",
       "      <th>harmonization</th>\n",
       "      <th>infilling</th>\n",
       "      <th>climate-models</th>\n",
       "      <th>pipeline</th>\n",
       "    </tr>\n",
       "  </thead>\n",
       "  <tbody>\n",
       "    <tr>\n",
       "      <th>0</th>\n",
       "      <td>NDC Factsheet</td>\n",
       "      <td>2021-11-09_1__low__U__constant__exclude</td>\n",
       "      <td>False</td>\n",
       "      <td>0.920000</td>\n",
       "      <td>0.473333</td>\n",
       "      <td>0.136667</td>\n",
       "      <td>0.030000</td>\n",
       "      <td>C4</td>\n",
       "      <td>C4: Below 2°C</td>\n",
       "      <td>aneris (version: 0.2.0+41.g6ddf6e5)</td>\n",
       "      <td>silicone (version: 1.2.1)</td>\n",
       "      <td>openscm_runner (version: 0.9.1)</td>\n",
       "      <td>climate-assessment (version: 0.1.3-fgd+24.g0f1ec01)</td>\n",
       "    </tr>\n",
       "    <tr>\n",
       "      <th>1</th>\n",
       "      <td>NDC Factsheet</td>\n",
       "      <td>2021-11-09_1__low__U__constant__include</td>\n",
       "      <td>False</td>\n",
       "      <td>0.938333</td>\n",
       "      <td>0.515000</td>\n",
       "      <td>0.173333</td>\n",
       "      <td>0.053333</td>\n",
       "      <td>C5</td>\n",
       "      <td>C5: Below 2.5°C</td>\n",
       "      <td>aneris (version: 0.2.0+41.g6ddf6e5)</td>\n",
       "      <td>silicone (version: 1.2.1)</td>\n",
       "      <td>openscm_runner (version: 0.9.1)</td>\n",
       "      <td>climate-assessment (version: 0.1.3-fgd+24.g0f1ec01)</td>\n",
       "    </tr>\n",
       "    <tr>\n",
       "      <th>2</th>\n",
       "      <td>NDC Factsheet</td>\n",
       "      <td>2021-11-09_1__high__U__constant__exclude</td>\n",
       "      <td>False</td>\n",
       "      <td>0.896667</td>\n",
       "      <td>0.435000</td>\n",
       "      <td>0.130000</td>\n",
       "      <td>0.026667</td>\n",
       "      <td>C4</td>\n",
       "      <td>C4: Below 2°C</td>\n",
       "      <td>aneris (version: 0.2.0+41.g6ddf6e5)</td>\n",
       "      <td>silicone (version: 1.2.1)</td>\n",
       "      <td>openscm_runner (version: 0.9.1)</td>\n",
       "      <td>climate-assessment (version: 0.1.3-fgd+24.g0f1ec01)</td>\n",
       "    </tr>\n",
       "    <tr>\n",
       "      <th>3</th>\n",
       "      <td>NDC Factsheet</td>\n",
       "      <td>2021-11-09_1__high__U__constant__include</td>\n",
       "      <td>False</td>\n",
       "      <td>0.920000</td>\n",
       "      <td>0.483333</td>\n",
       "      <td>0.136667</td>\n",
       "      <td>0.033333</td>\n",
       "      <td>C4</td>\n",
       "      <td>C4: Below 2°C</td>\n",
       "      <td>aneris (version: 0.2.0+41.g6ddf6e5)</td>\n",
       "      <td>silicone (version: 1.2.1)</td>\n",
       "      <td>openscm_runner (version: 0.9.1)</td>\n",
       "      <td>climate-assessment (version: 0.1.3-fgd+24.g0f1ec01)</td>\n",
       "    </tr>\n",
       "    <tr>\n",
       "      <th>4</th>\n",
       "      <td>NDC Factsheet</td>\n",
       "      <td>2021-11-09_1__high__C__rate__exclude</td>\n",
       "      <td>False</td>\n",
       "      <td>0.910000</td>\n",
       "      <td>0.456667</td>\n",
       "      <td>0.136667</td>\n",
       "      <td>0.030000</td>\n",
       "      <td>C4</td>\n",
       "      <td>C4: Below 2°C</td>\n",
       "      <td>aneris (version: 0.2.0+41.g6ddf6e5)</td>\n",
       "      <td>silicone (version: 1.2.1)</td>\n",
       "      <td>openscm_runner (version: 0.9.1)</td>\n",
       "      <td>climate-assessment (version: 0.1.3-fgd+24.g0f1ec01)</td>\n",
       "    </tr>\n",
       "  </tbody>\n",
       "</table>\n",
       "</div>"
      ],
      "text/plain": [
       "           model                                  scenario  exclude  Exceedance Probability 1.5C   Exceedance Probability 2.0C   Exceedance Probability 2.5C   Exceedance Probability 3.0C  Category    Category_name  \\\n",
       "0  NDC Factsheet   2021-11-09_1__low__U__constant__exclude    False                      0.920000                      0.473333                      0.136667                      0.030000       C4    C4: Below 2°C   \n",
       "1  NDC Factsheet   2021-11-09_1__low__U__constant__include    False                      0.938333                      0.515000                      0.173333                      0.053333       C5  C5: Below 2.5°C   \n",
       "2  NDC Factsheet  2021-11-09_1__high__U__constant__exclude    False                      0.896667                      0.435000                      0.130000                      0.026667       C4    C4: Below 2°C   \n",
       "3  NDC Factsheet  2021-11-09_1__high__U__constant__include    False                      0.920000                      0.483333                      0.136667                      0.033333       C4    C4: Below 2°C   \n",
       "4  NDC Factsheet      2021-11-09_1__high__C__rate__exclude    False                      0.910000                      0.456667                      0.136667                      0.030000       C4    C4: Below 2°C   \n",
       "\n",
       "                         harmonization                  infilling                   climate-models                                             pipeline  \n",
       "0  aneris (version: 0.2.0+41.g6ddf6e5)  silicone (version: 1.2.1)  openscm_runner (version: 0.9.1)  climate-assessment (version: 0.1.3-fgd+24.g0f1ec01)  \n",
       "1  aneris (version: 0.2.0+41.g6ddf6e5)  silicone (version: 1.2.1)  openscm_runner (version: 0.9.1)  climate-assessment (version: 0.1.3-fgd+24.g0f1ec01)  \n",
       "2  aneris (version: 0.2.0+41.g6ddf6e5)  silicone (version: 1.2.1)  openscm_runner (version: 0.9.1)  climate-assessment (version: 0.1.3-fgd+24.g0f1ec01)  \n",
       "3  aneris (version: 0.2.0+41.g6ddf6e5)  silicone (version: 1.2.1)  openscm_runner (version: 0.9.1)  climate-assessment (version: 0.1.3-fgd+24.g0f1ec01)  \n",
       "4  aneris (version: 0.2.0+41.g6ddf6e5)  silicone (version: 1.2.1)  openscm_runner (version: 0.9.1)  climate-assessment (version: 0.1.3-fgd+24.g0f1ec01)  "
      ]
     },
     "execution_count": 11,
     "metadata": {},
     "output_type": "execute_result"
    },
    {
     "data": {
      "application/javascript": [
       "\n",
       "            setTimeout(function() {\n",
       "                var nbb_cell_id = 11;\n",
       "                var nbb_unformatted_code = \"# drop peak warming and year of peak warming stats as they will be recalculated\\ncols = [\\n    c\\n    for c in meta_raw.columns\\n    if (\\\"peak warming\\\" not in c and \\\"warming in 2100\\\" not in c)\\n]\\nmeta = meta_raw[cols]\\ncols = [c.replace(\\\"(MAGICCv7.5.3)\\\", \\\"\\\") for c in cols]\\nmeta.columns = cols\\nmeta.head()\";\n",
       "                var nbb_formatted_code = \"# drop peak warming and year of peak warming stats as they will be recalculated\\ncols = [\\n    c\\n    for c in meta_raw.columns\\n    if (\\\"peak warming\\\" not in c and \\\"warming in 2100\\\" not in c)\\n]\\nmeta = meta_raw[cols]\\ncols = [c.replace(\\\"(MAGICCv7.5.3)\\\", \\\"\\\") for c in cols]\\nmeta.columns = cols\\nmeta.head()\";\n",
       "                var nbb_cells = Jupyter.notebook.get_cells();\n",
       "                for (var i = 0; i < nbb_cells.length; ++i) {\n",
       "                    if (nbb_cells[i].input_prompt_number == nbb_cell_id) {\n",
       "                        if (nbb_cells[i].get_text() == nbb_unformatted_code) {\n",
       "                             nbb_cells[i].set_text(nbb_formatted_code);\n",
       "                        }\n",
       "                        break;\n",
       "                    }\n",
       "                }\n",
       "            }, 500);\n",
       "            "
      ],
      "text/plain": [
       "<IPython.core.display.Javascript object>"
      ]
     },
     "metadata": {},
     "output_type": "display_data"
    }
   ],
   "source": [
    "# drop peak warming and year of peak warming stats as they will be recalculated\n",
    "cols = [\n",
    "    c\n",
    "    for c in meta_raw.columns\n",
    "    if (\"peak warming\" not in c and \"warming in 2100\" not in c)\n",
    "]\n",
    "meta = meta_raw[cols]\n",
    "cols = [c.replace(\"(MAGICCv7.5.3)\", \"\") for c in cols]\n",
    "meta.columns = cols\n",
    "meta.head()"
   ]
  },
  {
   "cell_type": "code",
   "execution_count": 14,
   "id": "e8f14df7",
   "metadata": {
    "pycharm": {
     "name": "#%%\n"
    }
   },
   "outputs": [
    {
     "data": {
      "text/plain": [
       "<scmdata.database.SCMDatabase (root_dir: /home/jared/code/cr/ndc-realisations-2021/src/ndcs/../../data/processed/climate_assessment/20220111-ndc-sensitivity/raw_climate_output, levels: ('climate_model', 'variable', 'model', 'scenario'))>"
      ]
     },
     "execution_count": 14,
     "metadata": {},
     "output_type": "execute_result"
    },
    {
     "data": {
      "application/javascript": [
       "\n",
       "            setTimeout(function() {\n",
       "                var nbb_cell_id = 14;\n",
       "                var nbb_unformatted_code = \"db_sensitivity = scmdata.database.ScmDatabase(\\n    os.path.join(DATA_DIR_SENSITIVITY, \\\"raw_climate_output\\\"),\\n    [\\\"climate_model\\\", \\\"variable\\\", \\\"model\\\", \\\"scenario\\\"],\\n)\\ndb_sensitivity\";\n",
       "                var nbb_formatted_code = \"db_sensitivity = scmdata.database.ScmDatabase(\\n    os.path.join(DATA_DIR_SENSITIVITY, \\\"raw_climate_output\\\"),\\n    [\\\"climate_model\\\", \\\"variable\\\", \\\"model\\\", \\\"scenario\\\"],\\n)\\ndb_sensitivity\";\n",
       "                var nbb_cells = Jupyter.notebook.get_cells();\n",
       "                for (var i = 0; i < nbb_cells.length; ++i) {\n",
       "                    if (nbb_cells[i].input_prompt_number == nbb_cell_id) {\n",
       "                        if (nbb_cells[i].get_text() == nbb_unformatted_code) {\n",
       "                             nbb_cells[i].set_text(nbb_formatted_code);\n",
       "                        }\n",
       "                        break;\n",
       "                    }\n",
       "                }\n",
       "            }, 500);\n",
       "            "
      ],
      "text/plain": [
       "<IPython.core.display.Javascript object>"
      ]
     },
     "metadata": {},
     "output_type": "display_data"
    }
   ],
   "source": [
    "db_sensitivity = scmdata.database.ScmDatabase(\n",
    "    os.path.join(DATA_DIR_SENSITIVITY, \"raw_climate_output\"),\n",
    "    [\"climate_model\", \"variable\", \"model\", \"scenario\"],\n",
    ")\n",
    "db_sensitivity"
   ]
  },
  {
   "cell_type": "code",
   "execution_count": 15,
   "id": "2b92a5b1",
   "metadata": {
    "pycharm": {
     "name": "#%%\n"
    }
   },
   "outputs": [
    {
     "data": {
      "application/vnd.jupyter.widget-view+json": {
       "model_id": "",
       "version_major": 2,
       "version_minor": 0
      },
      "text/plain": [
       "Loading files:   0%|          | 0/32 [00:00<?, ?it/s]"
      ]
     },
     "metadata": {},
     "output_type": "display_data"
    },
    {
     "data": {
      "application/javascript": [
       "\n",
       "            setTimeout(function() {\n",
       "                var nbb_cell_id = 15;\n",
       "                var nbb_unformatted_code = \"temperatures_raw = db_sensitivity.load(variable=\\\"Raw Surface Temperature (GSAT)\\\")\\n\\nHIST_TEMP_REF_PERIOD = range(1850, 1900 + 1)\\nHIST_TEMP_EVALUATION_PERIOD = range(1995, 2014 + 1)\\nHIST_TEMP_ASSESSMENT_CENTRAL = 0.85\\n\\ntemperatures = temperatures_raw.relative_to_ref_period_mean(\\n    year=HIST_TEMP_REF_PERIOD\\n).drop_meta([\\\"reference_period_start_year\\\", \\\"reference_period_end_year\\\"])\\ntemperatures = temperatures.adjust_median_to_target(\\n    HIST_TEMP_ASSESSMENT_CENTRAL,\\n    HIST_TEMP_EVALUATION_PERIOD,\\n    process_over=(\\\"run_id\\\",),\\n).filter(year=range(2000, 2101))\";\n",
       "                var nbb_formatted_code = \"temperatures_raw = db_sensitivity.load(variable=\\\"Raw Surface Temperature (GSAT)\\\")\\n\\nHIST_TEMP_REF_PERIOD = range(1850, 1900 + 1)\\nHIST_TEMP_EVALUATION_PERIOD = range(1995, 2014 + 1)\\nHIST_TEMP_ASSESSMENT_CENTRAL = 0.85\\n\\ntemperatures = temperatures_raw.relative_to_ref_period_mean(\\n    year=HIST_TEMP_REF_PERIOD\\n).drop_meta([\\\"reference_period_start_year\\\", \\\"reference_period_end_year\\\"])\\ntemperatures = temperatures.adjust_median_to_target(\\n    HIST_TEMP_ASSESSMENT_CENTRAL,\\n    HIST_TEMP_EVALUATION_PERIOD,\\n    process_over=(\\\"run_id\\\",),\\n).filter(year=range(2000, 2101))\";\n",
       "                var nbb_cells = Jupyter.notebook.get_cells();\n",
       "                for (var i = 0; i < nbb_cells.length; ++i) {\n",
       "                    if (nbb_cells[i].input_prompt_number == nbb_cell_id) {\n",
       "                        if (nbb_cells[i].get_text() == nbb_unformatted_code) {\n",
       "                             nbb_cells[i].set_text(nbb_formatted_code);\n",
       "                        }\n",
       "                        break;\n",
       "                    }\n",
       "                }\n",
       "            }, 500);\n",
       "            "
      ],
      "text/plain": [
       "<IPython.core.display.Javascript object>"
      ]
     },
     "metadata": {},
     "output_type": "display_data"
    }
   ],
   "source": [
    "temperatures_raw = db_sensitivity.load(variable=\"Raw Surface Temperature (GSAT)\")\n",
    "\n",
    "HIST_TEMP_REF_PERIOD = range(1850, 1900 + 1)\n",
    "HIST_TEMP_EVALUATION_PERIOD = range(1995, 2014 + 1)\n",
    "HIST_TEMP_ASSESSMENT_CENTRAL = 0.85\n",
    "\n",
    "temperatures = temperatures_raw.relative_to_ref_period_mean(\n",
    "    year=HIST_TEMP_REF_PERIOD\n",
    ").drop_meta([\"reference_period_start_year\", \"reference_period_end_year\"])\n",
    "temperatures = temperatures.adjust_median_to_target(\n",
    "    HIST_TEMP_ASSESSMENT_CENTRAL,\n",
    "    HIST_TEMP_EVALUATION_PERIOD,\n",
    "    process_over=(\"run_id\",),\n",
    ").filter(year=range(2000, 2101))"
   ]
  },
  {
   "cell_type": "code",
   "execution_count": 16,
   "id": "7634d466",
   "metadata": {
    "pycharm": {
     "name": "#%%\n"
    }
   },
   "outputs": [
    {
     "data": {
      "application/javascript": [
       "\n",
       "            setTimeout(function() {\n",
       "                var nbb_cell_id = 16;\n",
       "                var nbb_unformatted_code = \"percentiles = (\\n    (0.05, \\\"p5\\\"),\\n    (0.37, \\\"p37\\\"),\\n    (0.50, \\\"median\\\"),\\n    (0.067, \\\"p67\\\"),\\n    (0.95, \\\"p95\\\"),\\n)\";\n",
       "                var nbb_formatted_code = \"percentiles = (\\n    (0.05, \\\"p5\\\"),\\n    (0.37, \\\"p37\\\"),\\n    (0.50, \\\"median\\\"),\\n    (0.067, \\\"p67\\\"),\\n    (0.95, \\\"p95\\\"),\\n)\";\n",
       "                var nbb_cells = Jupyter.notebook.get_cells();\n",
       "                for (var i = 0; i < nbb_cells.length; ++i) {\n",
       "                    if (nbb_cells[i].input_prompt_number == nbb_cell_id) {\n",
       "                        if (nbb_cells[i].get_text() == nbb_unformatted_code) {\n",
       "                             nbb_cells[i].set_text(nbb_formatted_code);\n",
       "                        }\n",
       "                        break;\n",
       "                    }\n",
       "                }\n",
       "            }, 500);\n",
       "            "
      ],
      "text/plain": [
       "<IPython.core.display.Javascript object>"
      ]
     },
     "metadata": {},
     "output_type": "display_data"
    }
   ],
   "source": [
    "percentiles = (\n",
    "    (0.05, \"p5\"),\n",
    "    (0.37, \"p37\"),\n",
    "    (0.50, \"median\"),\n",
    "    (0.067, \"p67\"),\n",
    "    (0.95, \"p95\"),\n",
    ")"
   ]
  },
  {
   "cell_type": "code",
   "execution_count": 17,
   "id": "6a092e7e",
   "metadata": {
    "pycharm": {
     "name": "#%%\n"
    }
   },
   "outputs": [
    {
     "data": {
      "application/javascript": [
       "\n",
       "            setTimeout(function() {\n",
       "                var nbb_cell_id = 17;\n",
       "                var nbb_unformatted_code = \"stats = []\\n\\nfor r in temperatures.groupby(\\\"scenario\\\"):\\n    scenario_stats = {\\n        \\\"scenario\\\": r.get_unique_meta(\\\"scenario\\\", True),\\n    }\\n\\n    for p, p_long in percentiles:\\n        scenario_stats[\\\"{} peak warming\\\".format(p_long)] = (\\n            r.timeseries().max(axis=1).quantile(p)\\n        )\\n\\n    for p, p_long in percentiles:\\n        scenario_stats[\\\"{} year of peak warming\\\".format(p_long)] = (\\n            r.timeseries().idxmax(axis=1).quantile(p).year\\n        )\\n\\n    for p, p_long in percentiles:\\n        scenario_stats[\\\"{} warming in 2100\\\".format(p_long)] = (\\n            r.filter(year=2100).timeseries().squeeze().quantile(p)\\n        )\\n    stats.append(scenario_stats)\\nstats = pd.DataFrame(stats).set_index(\\\"scenario\\\")\";\n",
       "                var nbb_formatted_code = \"stats = []\\n\\nfor r in temperatures.groupby(\\\"scenario\\\"):\\n    scenario_stats = {\\n        \\\"scenario\\\": r.get_unique_meta(\\\"scenario\\\", True),\\n    }\\n\\n    for p, p_long in percentiles:\\n        scenario_stats[\\\"{} peak warming\\\".format(p_long)] = (\\n            r.timeseries().max(axis=1).quantile(p)\\n        )\\n\\n    for p, p_long in percentiles:\\n        scenario_stats[\\\"{} year of peak warming\\\".format(p_long)] = (\\n            r.timeseries().idxmax(axis=1).quantile(p).year\\n        )\\n\\n    for p, p_long in percentiles:\\n        scenario_stats[\\\"{} warming in 2100\\\".format(p_long)] = (\\n            r.filter(year=2100).timeseries().squeeze().quantile(p)\\n        )\\n    stats.append(scenario_stats)\\nstats = pd.DataFrame(stats).set_index(\\\"scenario\\\")\";\n",
       "                var nbb_cells = Jupyter.notebook.get_cells();\n",
       "                for (var i = 0; i < nbb_cells.length; ++i) {\n",
       "                    if (nbb_cells[i].input_prompt_number == nbb_cell_id) {\n",
       "                        if (nbb_cells[i].get_text() == nbb_unformatted_code) {\n",
       "                             nbb_cells[i].set_text(nbb_formatted_code);\n",
       "                        }\n",
       "                        break;\n",
       "                    }\n",
       "                }\n",
       "            }, 500);\n",
       "            "
      ],
      "text/plain": [
       "<IPython.core.display.Javascript object>"
      ]
     },
     "metadata": {},
     "output_type": "display_data"
    }
   ],
   "source": [
    "stats = []\n",
    "\n",
    "for r in temperatures.groupby(\"scenario\"):\n",
    "    scenario_stats = {\n",
    "        \"scenario\": r.get_unique_meta(\"scenario\", True),\n",
    "    }\n",
    "\n",
    "    for p, p_long in percentiles:\n",
    "        scenario_stats[\"{} peak warming\".format(p_long)] = (\n",
    "            r.timeseries().max(axis=1).quantile(p)\n",
    "        )\n",
    "\n",
    "    for p, p_long in percentiles:\n",
    "        scenario_stats[\"{} year of peak warming\".format(p_long)] = (\n",
    "            r.timeseries().idxmax(axis=1).quantile(p).year\n",
    "        )\n",
    "\n",
    "    for p, p_long in percentiles:\n",
    "        scenario_stats[\"{} warming in 2100\".format(p_long)] = (\n",
    "            r.filter(year=2100).timeseries().squeeze().quantile(p)\n",
    "        )\n",
    "    stats.append(scenario_stats)\n",
    "stats = pd.DataFrame(stats).set_index(\"scenario\")"
   ]
  },
  {
   "cell_type": "code",
   "execution_count": 18,
   "id": "fb6be07a",
   "metadata": {
    "pycharm": {
     "name": "#%%\n"
    }
   },
   "outputs": [
    {
     "data": {
      "application/javascript": [
       "\n",
       "            setTimeout(function() {\n",
       "                var nbb_cell_id = 18;\n",
       "                var nbb_unformatted_code = \"merged = pd.merge(meta, stats, left_on=\\\"scenario\\\", right_on=\\\"scenario\\\")\";\n",
       "                var nbb_formatted_code = \"merged = pd.merge(meta, stats, left_on=\\\"scenario\\\", right_on=\\\"scenario\\\")\";\n",
       "                var nbb_cells = Jupyter.notebook.get_cells();\n",
       "                for (var i = 0; i < nbb_cells.length; ++i) {\n",
       "                    if (nbb_cells[i].input_prompt_number == nbb_cell_id) {\n",
       "                        if (nbb_cells[i].get_text() == nbb_unformatted_code) {\n",
       "                             nbb_cells[i].set_text(nbb_formatted_code);\n",
       "                        }\n",
       "                        break;\n",
       "                    }\n",
       "                }\n",
       "            }, 500);\n",
       "            "
      ],
      "text/plain": [
       "<IPython.core.display.Javascript object>"
      ]
     },
     "metadata": {},
     "output_type": "display_data"
    }
   ],
   "source": [
    "merged = pd.merge(meta, stats, left_on=\"scenario\", right_on=\"scenario\")"
   ]
  },
  {
   "cell_type": "code",
   "execution_count": 19,
   "id": "49a6e3fb",
   "metadata": {
    "pycharm": {
     "name": "#%%\n"
    }
   },
   "outputs": [
    {
     "data": {
      "text/html": [
       "<div>\n",
       "<style scoped>\n",
       "    .dataframe tbody tr th:only-of-type {\n",
       "        vertical-align: middle;\n",
       "    }\n",
       "\n",
       "    .dataframe tbody tr th {\n",
       "        vertical-align: top;\n",
       "    }\n",
       "\n",
       "    .dataframe thead th {\n",
       "        text-align: right;\n",
       "    }\n",
       "</style>\n",
       "<table border=\"1\" class=\"dataframe\">\n",
       "  <thead>\n",
       "    <tr style=\"text-align: right;\">\n",
       "      <th></th>\n",
       "      <th>model</th>\n",
       "      <th>scenario</th>\n",
       "      <th>Category</th>\n",
       "      <th>Category_name</th>\n",
       "      <th>Exceedance Probability 1.5C</th>\n",
       "      <th>Exceedance Probability 2.0C</th>\n",
       "      <th>Exceedance Probability 2.5C</th>\n",
       "      <th>...</th>\n",
       "      <th>median warming in 2100</th>\n",
       "      <th>p67 warming in 2100</th>\n",
       "      <th>p95 warming in 2100</th>\n",
       "      <th>harmonization</th>\n",
       "      <th>infilling</th>\n",
       "      <th>climate-models</th>\n",
       "      <th>pipeline</th>\n",
       "    </tr>\n",
       "  </thead>\n",
       "  <tbody>\n",
       "    <tr>\n",
       "      <th>0</th>\n",
       "      <td>NDC Factsheet</td>\n",
       "      <td>2021-11-09_1__low__U__constant__exclude</td>\n",
       "      <td>C4</td>\n",
       "      <td>C4: Below 2°C</td>\n",
       "      <td>0.920000</td>\n",
       "      <td>0.473333</td>\n",
       "      <td>0.136667</td>\n",
       "      <td>...</td>\n",
       "      <td>1.862335</td>\n",
       "      <td>1.302359</td>\n",
       "      <td>2.874461</td>\n",
       "      <td>aneris (version: 0.2.0+41.g6ddf6e5)</td>\n",
       "      <td>silicone (version: 1.2.1)</td>\n",
       "      <td>openscm_runner (version: 0.9.1)</td>\n",
       "      <td>climate-assessment (version: 0.1.3-fgd+24.g0f1ec01)</td>\n",
       "    </tr>\n",
       "    <tr>\n",
       "      <th>1</th>\n",
       "      <td>NDC Factsheet</td>\n",
       "      <td>2021-11-09_1__low__U__constant__include</td>\n",
       "      <td>C5</td>\n",
       "      <td>C5: Below 2.5°C</td>\n",
       "      <td>0.938333</td>\n",
       "      <td>0.515000</td>\n",
       "      <td>0.173333</td>\n",
       "      <td>...</td>\n",
       "      <td>1.931172</td>\n",
       "      <td>1.352094</td>\n",
       "      <td>2.971843</td>\n",
       "      <td>aneris (version: 0.2.0+41.g6ddf6e5)</td>\n",
       "      <td>silicone (version: 1.2.1)</td>\n",
       "      <td>openscm_runner (version: 0.9.1)</td>\n",
       "      <td>climate-assessment (version: 0.1.3-fgd+24.g0f1ec01)</td>\n",
       "    </tr>\n",
       "    <tr>\n",
       "      <th>2</th>\n",
       "      <td>NDC Factsheet</td>\n",
       "      <td>2021-11-09_1__high__U__constant__exclude</td>\n",
       "      <td>C4</td>\n",
       "      <td>C4: Below 2°C</td>\n",
       "      <td>0.896667</td>\n",
       "      <td>0.435000</td>\n",
       "      <td>0.130000</td>\n",
       "      <td>...</td>\n",
       "      <td>1.795418</td>\n",
       "      <td>1.245285</td>\n",
       "      <td>2.805857</td>\n",
       "      <td>aneris (version: 0.2.0+41.g6ddf6e5)</td>\n",
       "      <td>silicone (version: 1.2.1)</td>\n",
       "      <td>openscm_runner (version: 0.9.1)</td>\n",
       "      <td>climate-assessment (version: 0.1.3-fgd+24.g0f1ec01)</td>\n",
       "    </tr>\n",
       "    <tr>\n",
       "      <th>3</th>\n",
       "      <td>NDC Factsheet</td>\n",
       "      <td>2021-11-09_1__high__U__constant__include</td>\n",
       "      <td>C4</td>\n",
       "      <td>C4: Below 2°C</td>\n",
       "      <td>0.920000</td>\n",
       "      <td>0.483333</td>\n",
       "      <td>0.136667</td>\n",
       "      <td>...</td>\n",
       "      <td>1.866540</td>\n",
       "      <td>1.304290</td>\n",
       "      <td>2.881508</td>\n",
       "      <td>aneris (version: 0.2.0+41.g6ddf6e5)</td>\n",
       "      <td>silicone (version: 1.2.1)</td>\n",
       "      <td>openscm_runner (version: 0.9.1)</td>\n",
       "      <td>climate-assessment (version: 0.1.3-fgd+24.g0f1ec01)</td>\n",
       "    </tr>\n",
       "    <tr>\n",
       "      <th>4</th>\n",
       "      <td>NDC Factsheet</td>\n",
       "      <td>2021-11-09_1__high__C__rate__exclude</td>\n",
       "      <td>C4</td>\n",
       "      <td>C4: Below 2°C</td>\n",
       "      <td>0.910000</td>\n",
       "      <td>0.456667</td>\n",
       "      <td>0.136667</td>\n",
       "      <td>...</td>\n",
       "      <td>1.847831</td>\n",
       "      <td>1.293226</td>\n",
       "      <td>2.845524</td>\n",
       "      <td>aneris (version: 0.2.0+41.g6ddf6e5)</td>\n",
       "      <td>silicone (version: 1.2.1)</td>\n",
       "      <td>openscm_runner (version: 0.9.1)</td>\n",
       "      <td>climate-assessment (version: 0.1.3-fgd+24.g0f1ec01)</td>\n",
       "    </tr>\n",
       "    <tr>\n",
       "      <th>5</th>\n",
       "      <td>NDC Factsheet</td>\n",
       "      <td>2021-11-09_1__high__C__rate__include</td>\n",
       "      <td>C4</td>\n",
       "      <td>C4: Below 2°C</td>\n",
       "      <td>0.918333</td>\n",
       "      <td>0.470000</td>\n",
       "      <td>0.143333</td>\n",
       "      <td>...</td>\n",
       "      <td>1.932486</td>\n",
       "      <td>1.392582</td>\n",
       "      <td>2.895913</td>\n",
       "      <td>aneris (version: 0.2.0+41.g6ddf6e5)</td>\n",
       "      <td>silicone (version: 1.2.1)</td>\n",
       "      <td>openscm_runner (version: 0.9.1)</td>\n",
       "      <td>climate-assessment (version: 0.1.3-fgd+24.g0f1ec01)</td>\n",
       "    </tr>\n",
       "    <tr>\n",
       "      <th>6</th>\n",
       "      <td>NDC Factsheet</td>\n",
       "      <td>2021-11-09_1__high__C__2030__exclude</td>\n",
       "      <td>C5</td>\n",
       "      <td>C5: Below 2.5°C</td>\n",
       "      <td>0.973333</td>\n",
       "      <td>0.711667</td>\n",
       "      <td>0.318333</td>\n",
       "      <td>...</td>\n",
       "      <td>2.149482</td>\n",
       "      <td>1.493260</td>\n",
       "      <td>3.328274</td>\n",
       "      <td>aneris (version: 0.2.0+41.g6ddf6e5)</td>\n",
       "      <td>silicone (version: 1.2.1)</td>\n",
       "      <td>openscm_runner (version: 0.9.1)</td>\n",
       "      <td>climate-assessment (version: 0.1.3-fgd+24.g0f1ec01)</td>\n",
       "    </tr>\n",
       "    <tr>\n",
       "      <th>7</th>\n",
       "      <td>NDC Factsheet</td>\n",
       "      <td>2021-11-09_1__high__C__2030__include</td>\n",
       "      <td>C5</td>\n",
       "      <td>C5: Below 2.5°C</td>\n",
       "      <td>0.995000</td>\n",
       "      <td>0.838333</td>\n",
       "      <td>0.456667</td>\n",
       "      <td>...</td>\n",
       "      <td>2.324695</td>\n",
       "      <td>1.622606</td>\n",
       "      <td>3.554832</td>\n",
       "      <td>aneris (version: 0.2.0+41.g6ddf6e5)</td>\n",
       "      <td>silicone (version: 1.2.1)</td>\n",
       "      <td>openscm_runner (version: 0.9.1)</td>\n",
       "      <td>climate-assessment (version: 0.1.3-fgd+24.g0f1ec01)</td>\n",
       "    </tr>\n",
       "    <tr>\n",
       "      <th>8</th>\n",
       "      <td>NDC Factsheet</td>\n",
       "      <td>2021-11-09_1__low__U__2030__exclude</td>\n",
       "      <td>C6</td>\n",
       "      <td>C6: Below 3.0°C</td>\n",
       "      <td>1.000000</td>\n",
       "      <td>0.955000</td>\n",
       "      <td>0.730000</td>\n",
       "      <td>...</td>\n",
       "      <td>2.674153</td>\n",
       "      <td>1.859353</td>\n",
       "      <td>4.087308</td>\n",
       "      <td>aneris (version: 0.2.0+41.g6ddf6e5)</td>\n",
       "      <td>silicone (version: 1.2.1)</td>\n",
       "      <td>openscm_runner (version: 0.9.1)</td>\n",
       "      <td>climate-assessment (version: 0.1.3-fgd+24.g0f1ec01)</td>\n",
       "    </tr>\n",
       "    <tr>\n",
       "      <th>9</th>\n",
       "      <td>NDC Factsheet</td>\n",
       "      <td>2021-11-09_1__low__U__2030__include</td>\n",
       "      <td>C7</td>\n",
       "      <td>C7: Below 4.0°C</td>\n",
       "      <td>1.000000</td>\n",
       "      <td>0.993333</td>\n",
       "      <td>0.856667</td>\n",
       "      <td>...</td>\n",
       "      <td>2.939594</td>\n",
       "      <td>2.057924</td>\n",
       "      <td>4.395152</td>\n",
       "      <td>aneris (version: 0.2.0+41.g6ddf6e5)</td>\n",
       "      <td>silicone (version: 1.2.1)</td>\n",
       "      <td>openscm_runner (version: 0.9.1)</td>\n",
       "      <td>climate-assessment (version: 0.1.3-fgd+24.g0f1ec01)</td>\n",
       "    </tr>\n",
       "    <tr>\n",
       "      <th>10</th>\n",
       "      <td>NDC Factsheet</td>\n",
       "      <td>2021-11-09_1__low__C__2030__exclude</td>\n",
       "      <td>C5</td>\n",
       "      <td>C5: Below 2.5°C</td>\n",
       "      <td>0.995000</td>\n",
       "      <td>0.846667</td>\n",
       "      <td>0.475000</td>\n",
       "      <td>...</td>\n",
       "      <td>2.352686</td>\n",
       "      <td>1.640135</td>\n",
       "      <td>3.596600</td>\n",
       "      <td>aneris (version: 0.2.0+41.g6ddf6e5)</td>\n",
       "      <td>silicone (version: 1.2.1)</td>\n",
       "      <td>openscm_runner (version: 0.9.1)</td>\n",
       "      <td>climate-assessment (version: 0.1.3-fgd+24.g0f1ec01)</td>\n",
       "    </tr>\n",
       "    <tr>\n",
       "      <th>11</th>\n",
       "      <td>NDC Factsheet</td>\n",
       "      <td>2021-11-09_1__low__C__2030__include</td>\n",
       "      <td>C5</td>\n",
       "      <td>C5: Below 2.5°C</td>\n",
       "      <td>0.995000</td>\n",
       "      <td>0.836667</td>\n",
       "      <td>0.500000</td>\n",
       "      <td>...</td>\n",
       "      <td>2.373849</td>\n",
       "      <td>1.653062</td>\n",
       "      <td>3.661323</td>\n",
       "      <td>aneris (version: 0.2.0+41.g6ddf6e5)</td>\n",
       "      <td>silicone (version: 1.2.1)</td>\n",
       "      <td>openscm_runner (version: 0.9.1)</td>\n",
       "      <td>climate-assessment (version: 0.1.3-fgd+24.g0f1ec01)</td>\n",
       "    </tr>\n",
       "    <tr>\n",
       "      <th>12</th>\n",
       "      <td>NDC Factsheet</td>\n",
       "      <td>2021-11-09_1__low__C__rate__exclude</td>\n",
       "      <td>C5</td>\n",
       "      <td>C5: Below 2.5°C</td>\n",
       "      <td>0.930000</td>\n",
       "      <td>0.518333</td>\n",
       "      <td>0.176667</td>\n",
       "      <td>...</td>\n",
       "      <td>1.943054</td>\n",
       "      <td>1.361661</td>\n",
       "      <td>2.982952</td>\n",
       "      <td>aneris (version: 0.2.0+41.g6ddf6e5)</td>\n",
       "      <td>silicone (version: 1.2.1)</td>\n",
       "      <td>openscm_runner (version: 0.9.1)</td>\n",
       "      <td>climate-assessment (version: 0.1.3-fgd+24.g0f1ec01)</td>\n",
       "    </tr>\n",
       "    <tr>\n",
       "      <th>13</th>\n",
       "      <td>NDC Factsheet</td>\n",
       "      <td>2021-11-09_1__low__C__rate__include</td>\n",
       "      <td>C5</td>\n",
       "      <td>C5: Below 2.5°C</td>\n",
       "      <td>0.961667</td>\n",
       "      <td>0.626667</td>\n",
       "      <td>0.238333</td>\n",
       "      <td>...</td>\n",
       "      <td>2.070305</td>\n",
       "      <td>1.459641</td>\n",
       "      <td>3.157267</td>\n",
       "      <td>aneris (version: 0.2.0+41.g6ddf6e5)</td>\n",
       "      <td>silicone (version: 1.2.1)</td>\n",
       "      <td>openscm_runner (version: 0.9.1)</td>\n",
       "      <td>climate-assessment (version: 0.1.3-fgd+24.g0f1ec01)</td>\n",
       "    </tr>\n",
       "    <tr>\n",
       "      <th>14</th>\n",
       "      <td>NDC Factsheet</td>\n",
       "      <td>2021-11-09_1__high__C__constant__exclude</td>\n",
       "      <td>C3</td>\n",
       "      <td>C3: Likely below 2°C</td>\n",
       "      <td>0.820000</td>\n",
       "      <td>0.198333</td>\n",
       "      <td>0.026667</td>\n",
       "      <td>...</td>\n",
       "      <td>1.612921</td>\n",
       "      <td>1.175776</td>\n",
       "      <td>2.399713</td>\n",
       "      <td>aneris (version: 0.2.0+41.g6ddf6e5)</td>\n",
       "      <td>silicone (version: 1.2.1)</td>\n",
       "      <td>openscm_runner (version: 0.9.1)</td>\n",
       "      <td>climate-assessment (version: 0.1.3-fgd+24.g0f1ec01)</td>\n",
       "    </tr>\n",
       "    <tr>\n",
       "      <th>15</th>\n",
       "      <td>NDC Factsheet</td>\n",
       "      <td>2021-11-09_1__high__C__constant__include</td>\n",
       "      <td>C4</td>\n",
       "      <td>C4: Below 2°C</td>\n",
       "      <td>0.891667</td>\n",
       "      <td>0.408333</td>\n",
       "      <td>0.128333</td>\n",
       "      <td>...</td>\n",
       "      <td>1.775129</td>\n",
       "      <td>1.230925</td>\n",
       "      <td>2.773310</td>\n",
       "      <td>aneris (version: 0.2.0+41.g6ddf6e5)</td>\n",
       "      <td>silicone (version: 1.2.1)</td>\n",
       "      <td>openscm_runner (version: 0.9.1)</td>\n",
       "      <td>climate-assessment (version: 0.1.3-fgd+24.g0f1ec01)</td>\n",
       "    </tr>\n",
       "    <tr>\n",
       "      <th>16</th>\n",
       "      <td>NDC Factsheet</td>\n",
       "      <td>2021-11-09_1__high__U__SSP1BL__exclude</td>\n",
       "      <td>C4</td>\n",
       "      <td>C4: Below 2°C</td>\n",
       "      <td>0.916667</td>\n",
       "      <td>0.466667</td>\n",
       "      <td>0.136667</td>\n",
       "      <td>...</td>\n",
       "      <td>1.858961</td>\n",
       "      <td>1.300317</td>\n",
       "      <td>2.868376</td>\n",
       "      <td>aneris (version: 0.2.0+41.g6ddf6e5)</td>\n",
       "      <td>silicone (version: 1.2.1)</td>\n",
       "      <td>openscm_runner (version: 0.9.1)</td>\n",
       "      <td>climate-assessment (version: 0.1.3-fgd+24.g0f1ec01)</td>\n",
       "    </tr>\n",
       "    <tr>\n",
       "      <th>17</th>\n",
       "      <td>NDC Factsheet</td>\n",
       "      <td>2021-11-09_1__high__U__SSP1BL__include</td>\n",
       "      <td>C5</td>\n",
       "      <td>C5: Below 2.5°C</td>\n",
       "      <td>0.938333</td>\n",
       "      <td>0.523333</td>\n",
       "      <td>0.178333</td>\n",
       "      <td>...</td>\n",
       "      <td>1.946376</td>\n",
       "      <td>1.363433</td>\n",
       "      <td>2.988761</td>\n",
       "      <td>aneris (version: 0.2.0+41.g6ddf6e5)</td>\n",
       "      <td>silicone (version: 1.2.1)</td>\n",
       "      <td>openscm_runner (version: 0.9.1)</td>\n",
       "      <td>climate-assessment (version: 0.1.3-fgd+24.g0f1ec01)</td>\n",
       "    </tr>\n",
       "    <tr>\n",
       "      <th>18</th>\n",
       "      <td>NDC Factsheet</td>\n",
       "      <td>2021-11-09_1__low__C__SSP1BL__exclude</td>\n",
       "      <td>C4</td>\n",
       "      <td>C4: Below 2°C</td>\n",
       "      <td>0.915000</td>\n",
       "      <td>0.470000</td>\n",
       "      <td>0.136667</td>\n",
       "      <td>...</td>\n",
       "      <td>1.866050</td>\n",
       "      <td>1.305740</td>\n",
       "      <td>2.875477</td>\n",
       "      <td>aneris (version: 0.2.0+41.g6ddf6e5)</td>\n",
       "      <td>silicone (version: 1.2.1)</td>\n",
       "      <td>openscm_runner (version: 0.9.1)</td>\n",
       "      <td>climate-assessment (version: 0.1.3-fgd+24.g0f1ec01)</td>\n",
       "    </tr>\n",
       "    <tr>\n",
       "      <th>19</th>\n",
       "      <td>NDC Factsheet</td>\n",
       "      <td>2021-11-09_1__low__C__SSP1BL__include</td>\n",
       "      <td>C5</td>\n",
       "      <td>C5: Below 2.5°C</td>\n",
       "      <td>0.921667</td>\n",
       "      <td>0.501667</td>\n",
       "      <td>0.155000</td>\n",
       "      <td>...</td>\n",
       "      <td>1.907341</td>\n",
       "      <td>1.336190</td>\n",
       "      <td>2.936142</td>\n",
       "      <td>aneris (version: 0.2.0+41.g6ddf6e5)</td>\n",
       "      <td>silicone (version: 1.2.1)</td>\n",
       "      <td>openscm_runner (version: 0.9.1)</td>\n",
       "      <td>climate-assessment (version: 0.1.3-fgd+24.g0f1ec01)</td>\n",
       "    </tr>\n",
       "    <tr>\n",
       "      <th>20</th>\n",
       "      <td>NDC Factsheet</td>\n",
       "      <td>2021-11-09_1__low__U__SSP1BL__exclude</td>\n",
       "      <td>C5</td>\n",
       "      <td>C5: Below 2.5°C</td>\n",
       "      <td>0.930000</td>\n",
       "      <td>0.515000</td>\n",
       "      <td>0.173333</td>\n",
       "      <td>...</td>\n",
       "      <td>1.935918</td>\n",
       "      <td>1.356728</td>\n",
       "      <td>2.972813</td>\n",
       "      <td>aneris (version: 0.2.0+41.g6ddf6e5)</td>\n",
       "      <td>silicone (version: 1.2.1)</td>\n",
       "      <td>openscm_runner (version: 0.9.1)</td>\n",
       "      <td>climate-assessment (version: 0.1.3-fgd+24.g0f1ec01)</td>\n",
       "    </tr>\n",
       "    <tr>\n",
       "      <th>21</th>\n",
       "      <td>NDC Factsheet</td>\n",
       "      <td>2021-11-09_1__low__U__SSP1BL__include</td>\n",
       "      <td>C5</td>\n",
       "      <td>C5: Below 2.5°C</td>\n",
       "      <td>0.956667</td>\n",
       "      <td>0.596667</td>\n",
       "      <td>0.225000</td>\n",
       "      <td>...</td>\n",
       "      <td>2.043575</td>\n",
       "      <td>1.444619</td>\n",
       "      <td>3.126278</td>\n",
       "      <td>aneris (version: 0.2.0+41.g6ddf6e5)</td>\n",
       "      <td>silicone (version: 1.2.1)</td>\n",
       "      <td>openscm_runner (version: 0.9.1)</td>\n",
       "      <td>climate-assessment (version: 0.1.3-fgd+24.g0f1ec01)</td>\n",
       "    </tr>\n",
       "    <tr>\n",
       "      <th>22</th>\n",
       "      <td>NDC Factsheet</td>\n",
       "      <td>2021-11-09_1__low__U__rate__exclude</td>\n",
       "      <td>C5</td>\n",
       "      <td>C5: Below 2.5°C</td>\n",
       "      <td>0.966667</td>\n",
       "      <td>0.695000</td>\n",
       "      <td>0.300000</td>\n",
       "      <td>...</td>\n",
       "      <td>2.126024</td>\n",
       "      <td>1.455251</td>\n",
       "      <td>3.310463</td>\n",
       "      <td>aneris (version: 0.2.0+41.g6ddf6e5)</td>\n",
       "      <td>silicone (version: 1.2.1)</td>\n",
       "      <td>openscm_runner (version: 0.9.1)</td>\n",
       "      <td>climate-assessment (version: 0.1.3-fgd+24.g0f1ec01)</td>\n",
       "    </tr>\n",
       "    <tr>\n",
       "      <th>23</th>\n",
       "      <td>NDC Factsheet</td>\n",
       "      <td>2021-11-09_1__low__U__rate__include</td>\n",
       "      <td>C5</td>\n",
       "      <td>C5: Below 2.5°C</td>\n",
       "      <td>0.993333</td>\n",
       "      <td>0.818333</td>\n",
       "      <td>0.418333</td>\n",
       "      <td>...</td>\n",
       "      <td>2.347663</td>\n",
       "      <td>1.693943</td>\n",
       "      <td>3.505324</td>\n",
       "      <td>aneris (version: 0.2.0+41.g6ddf6e5)</td>\n",
       "      <td>silicone (version: 1.2.1)</td>\n",
       "      <td>openscm_runner (version: 0.9.1)</td>\n",
       "      <td>climate-assessment (version: 0.1.3-fgd+24.g0f1ec01)</td>\n",
       "    </tr>\n",
       "    <tr>\n",
       "      <th>24</th>\n",
       "      <td>NDC Factsheet</td>\n",
       "      <td>2021-11-09_1__high__U__rate__exclude</td>\n",
       "      <td>C5</td>\n",
       "      <td>C5: Below 2.5°C</td>\n",
       "      <td>0.930000</td>\n",
       "      <td>0.515000</td>\n",
       "      <td>0.173333</td>\n",
       "      <td>...</td>\n",
       "      <td>1.935389</td>\n",
       "      <td>1.356645</td>\n",
       "      <td>2.972587</td>\n",
       "      <td>aneris (version: 0.2.0+41.g6ddf6e5)</td>\n",
       "      <td>silicone (version: 1.2.1)</td>\n",
       "      <td>openscm_runner (version: 0.9.1)</td>\n",
       "      <td>climate-assessment (version: 0.1.3-fgd+24.g0f1ec01)</td>\n",
       "    </tr>\n",
       "    <tr>\n",
       "      <th>25</th>\n",
       "      <td>NDC Factsheet</td>\n",
       "      <td>2021-11-09_1__high__U__rate__include</td>\n",
       "      <td>C5</td>\n",
       "      <td>C5: Below 2.5°C</td>\n",
       "      <td>0.988333</td>\n",
       "      <td>0.740000</td>\n",
       "      <td>0.345000</td>\n",
       "      <td>...</td>\n",
       "      <td>2.210229</td>\n",
       "      <td>1.575019</td>\n",
       "      <td>3.340971</td>\n",
       "      <td>aneris (version: 0.2.0+41.g6ddf6e5)</td>\n",
       "      <td>silicone (version: 1.2.1)</td>\n",
       "      <td>openscm_runner (version: 0.9.1)</td>\n",
       "      <td>climate-assessment (version: 0.1.3-fgd+24.g0f1ec01)</td>\n",
       "    </tr>\n",
       "    <tr>\n",
       "      <th>26</th>\n",
       "      <td>NDC Factsheet</td>\n",
       "      <td>2021-11-09_1__low__C__constant__exclude</td>\n",
       "      <td>C4</td>\n",
       "      <td>C4: Below 2°C</td>\n",
       "      <td>0.903333</td>\n",
       "      <td>0.453333</td>\n",
       "      <td>0.136667</td>\n",
       "      <td>...</td>\n",
       "      <td>1.832913</td>\n",
       "      <td>1.272247</td>\n",
       "      <td>2.858600</td>\n",
       "      <td>aneris (version: 0.2.0+41.g6ddf6e5)</td>\n",
       "      <td>silicone (version: 1.2.1)</td>\n",
       "      <td>openscm_runner (version: 0.9.1)</td>\n",
       "      <td>climate-assessment (version: 0.1.3-fgd+24.g0f1ec01)</td>\n",
       "    </tr>\n",
       "    <tr>\n",
       "      <th>27</th>\n",
       "      <td>NDC Factsheet</td>\n",
       "      <td>2021-11-09_1__low__C__constant__include</td>\n",
       "      <td>C4</td>\n",
       "      <td>C4: Below 2°C</td>\n",
       "      <td>0.915000</td>\n",
       "      <td>0.465000</td>\n",
       "      <td>0.136667</td>\n",
       "      <td>...</td>\n",
       "      <td>1.853074</td>\n",
       "      <td>1.296379</td>\n",
       "      <td>2.859140</td>\n",
       "      <td>aneris (version: 0.2.0+41.g6ddf6e5)</td>\n",
       "      <td>silicone (version: 1.2.1)</td>\n",
       "      <td>openscm_runner (version: 0.9.1)</td>\n",
       "      <td>climate-assessment (version: 0.1.3-fgd+24.g0f1ec01)</td>\n",
       "    </tr>\n",
       "    <tr>\n",
       "      <th>28</th>\n",
       "      <td>NDC Factsheet</td>\n",
       "      <td>2021-11-09_1__high__U__2030__exclude</td>\n",
       "      <td>C6</td>\n",
       "      <td>C6: Below 3.0°C</td>\n",
       "      <td>0.998333</td>\n",
       "      <td>0.896667</td>\n",
       "      <td>0.605000</td>\n",
       "      <td>...</td>\n",
       "      <td>2.507327</td>\n",
       "      <td>1.709072</td>\n",
       "      <td>3.891042</td>\n",
       "      <td>aneris (version: 0.2.0+41.g6ddf6e5)</td>\n",
       "      <td>silicone (version: 1.2.1)</td>\n",
       "      <td>openscm_runner (version: 0.9.1)</td>\n",
       "      <td>climate-assessment (version: 0.1.3-fgd+24.g0f1ec01)</td>\n",
       "    </tr>\n",
       "    <tr>\n",
       "      <th>29</th>\n",
       "      <td>NDC Factsheet</td>\n",
       "      <td>2021-11-09_1__high__U__2030__include</td>\n",
       "      <td>C7</td>\n",
       "      <td>C7: Below 4.0°C</td>\n",
       "      <td>1.000000</td>\n",
       "      <td>0.983333</td>\n",
       "      <td>0.821667</td>\n",
       "      <td>...</td>\n",
       "      <td>2.855376</td>\n",
       "      <td>1.953944</td>\n",
       "      <td>4.317820</td>\n",
       "      <td>aneris (version: 0.2.0+41.g6ddf6e5)</td>\n",
       "      <td>silicone (version: 1.2.1)</td>\n",
       "      <td>openscm_runner (version: 0.9.1)</td>\n",
       "      <td>climate-assessment (version: 0.1.3-fgd+24.g0f1ec01)</td>\n",
       "    </tr>\n",
       "    <tr>\n",
       "      <th>30</th>\n",
       "      <td>NDC Factsheet</td>\n",
       "      <td>2021-11-09_1__high__C__SSP1BL__exclude</td>\n",
       "      <td>C4</td>\n",
       "      <td>C4: Below 2°C</td>\n",
       "      <td>0.916667</td>\n",
       "      <td>0.448333</td>\n",
       "      <td>0.126667</td>\n",
       "      <td>...</td>\n",
       "      <td>1.803727</td>\n",
       "      <td>1.261881</td>\n",
       "      <td>2.781069</td>\n",
       "      <td>aneris (version: 0.2.0+41.g6ddf6e5)</td>\n",
       "      <td>silicone (version: 1.2.1)</td>\n",
       "      <td>openscm_runner (version: 0.9.1)</td>\n",
       "      <td>climate-assessment (version: 0.1.3-fgd+24.g0f1ec01)</td>\n",
       "    </tr>\n",
       "    <tr>\n",
       "      <th>31</th>\n",
       "      <td>NDC Factsheet</td>\n",
       "      <td>2021-11-09_1__high__C__SSP1BL__include</td>\n",
       "      <td>C4</td>\n",
       "      <td>C4: Below 2°C</td>\n",
       "      <td>0.923333</td>\n",
       "      <td>0.478333</td>\n",
       "      <td>0.135000</td>\n",
       "      <td>...</td>\n",
       "      <td>1.848212</td>\n",
       "      <td>1.292969</td>\n",
       "      <td>2.845279</td>\n",
       "      <td>aneris (version: 0.2.0+41.g6ddf6e5)</td>\n",
       "      <td>silicone (version: 1.2.1)</td>\n",
       "      <td>openscm_runner (version: 0.9.1)</td>\n",
       "      <td>climate-assessment (version: 0.1.3-fgd+24.g0f1ec01)</td>\n",
       "    </tr>\n",
       "  </tbody>\n",
       "</table>\n",
       "<p>32 rows × 27 columns</p>\n",
       "</div>"
      ],
      "text/plain": [
       "            model                                  scenario Category         Category_name  Exceedance Probability 1.5C   Exceedance Probability 2.0C   Exceedance Probability 2.5C   ...  median warming in 2100  p67 warming in 2100  \\\n",
       "0   NDC Factsheet   2021-11-09_1__low__U__constant__exclude       C4         C4: Below 2°C                      0.920000                      0.473333                      0.136667  ...                1.862335             1.302359   \n",
       "1   NDC Factsheet   2021-11-09_1__low__U__constant__include       C5       C5: Below 2.5°C                      0.938333                      0.515000                      0.173333  ...                1.931172             1.352094   \n",
       "2   NDC Factsheet  2021-11-09_1__high__U__constant__exclude       C4         C4: Below 2°C                      0.896667                      0.435000                      0.130000  ...                1.795418             1.245285   \n",
       "3   NDC Factsheet  2021-11-09_1__high__U__constant__include       C4         C4: Below 2°C                      0.920000                      0.483333                      0.136667  ...                1.866540             1.304290   \n",
       "4   NDC Factsheet      2021-11-09_1__high__C__rate__exclude       C4         C4: Below 2°C                      0.910000                      0.456667                      0.136667  ...                1.847831             1.293226   \n",
       "5   NDC Factsheet      2021-11-09_1__high__C__rate__include       C4         C4: Below 2°C                      0.918333                      0.470000                      0.143333  ...                1.932486             1.392582   \n",
       "6   NDC Factsheet      2021-11-09_1__high__C__2030__exclude       C5       C5: Below 2.5°C                      0.973333                      0.711667                      0.318333  ...                2.149482             1.493260   \n",
       "7   NDC Factsheet      2021-11-09_1__high__C__2030__include       C5       C5: Below 2.5°C                      0.995000                      0.838333                      0.456667  ...                2.324695             1.622606   \n",
       "8   NDC Factsheet       2021-11-09_1__low__U__2030__exclude       C6       C6: Below 3.0°C                      1.000000                      0.955000                      0.730000  ...                2.674153             1.859353   \n",
       "9   NDC Factsheet       2021-11-09_1__low__U__2030__include       C7       C7: Below 4.0°C                      1.000000                      0.993333                      0.856667  ...                2.939594             2.057924   \n",
       "10  NDC Factsheet       2021-11-09_1__low__C__2030__exclude       C5       C5: Below 2.5°C                      0.995000                      0.846667                      0.475000  ...                2.352686             1.640135   \n",
       "11  NDC Factsheet       2021-11-09_1__low__C__2030__include       C5       C5: Below 2.5°C                      0.995000                      0.836667                      0.500000  ...                2.373849             1.653062   \n",
       "12  NDC Factsheet       2021-11-09_1__low__C__rate__exclude       C5       C5: Below 2.5°C                      0.930000                      0.518333                      0.176667  ...                1.943054             1.361661   \n",
       "13  NDC Factsheet       2021-11-09_1__low__C__rate__include       C5       C5: Below 2.5°C                      0.961667                      0.626667                      0.238333  ...                2.070305             1.459641   \n",
       "14  NDC Factsheet  2021-11-09_1__high__C__constant__exclude       C3  C3: Likely below 2°C                      0.820000                      0.198333                      0.026667  ...                1.612921             1.175776   \n",
       "15  NDC Factsheet  2021-11-09_1__high__C__constant__include       C4         C4: Below 2°C                      0.891667                      0.408333                      0.128333  ...                1.775129             1.230925   \n",
       "16  NDC Factsheet    2021-11-09_1__high__U__SSP1BL__exclude       C4         C4: Below 2°C                      0.916667                      0.466667                      0.136667  ...                1.858961             1.300317   \n",
       "17  NDC Factsheet    2021-11-09_1__high__U__SSP1BL__include       C5       C5: Below 2.5°C                      0.938333                      0.523333                      0.178333  ...                1.946376             1.363433   \n",
       "18  NDC Factsheet     2021-11-09_1__low__C__SSP1BL__exclude       C4         C4: Below 2°C                      0.915000                      0.470000                      0.136667  ...                1.866050             1.305740   \n",
       "19  NDC Factsheet     2021-11-09_1__low__C__SSP1BL__include       C5       C5: Below 2.5°C                      0.921667                      0.501667                      0.155000  ...                1.907341             1.336190   \n",
       "20  NDC Factsheet     2021-11-09_1__low__U__SSP1BL__exclude       C5       C5: Below 2.5°C                      0.930000                      0.515000                      0.173333  ...                1.935918             1.356728   \n",
       "21  NDC Factsheet     2021-11-09_1__low__U__SSP1BL__include       C5       C5: Below 2.5°C                      0.956667                      0.596667                      0.225000  ...                2.043575             1.444619   \n",
       "22  NDC Factsheet       2021-11-09_1__low__U__rate__exclude       C5       C5: Below 2.5°C                      0.966667                      0.695000                      0.300000  ...                2.126024             1.455251   \n",
       "23  NDC Factsheet       2021-11-09_1__low__U__rate__include       C5       C5: Below 2.5°C                      0.993333                      0.818333                      0.418333  ...                2.347663             1.693943   \n",
       "24  NDC Factsheet      2021-11-09_1__high__U__rate__exclude       C5       C5: Below 2.5°C                      0.930000                      0.515000                      0.173333  ...                1.935389             1.356645   \n",
       "25  NDC Factsheet      2021-11-09_1__high__U__rate__include       C5       C5: Below 2.5°C                      0.988333                      0.740000                      0.345000  ...                2.210229             1.575019   \n",
       "26  NDC Factsheet   2021-11-09_1__low__C__constant__exclude       C4         C4: Below 2°C                      0.903333                      0.453333                      0.136667  ...                1.832913             1.272247   \n",
       "27  NDC Factsheet   2021-11-09_1__low__C__constant__include       C4         C4: Below 2°C                      0.915000                      0.465000                      0.136667  ...                1.853074             1.296379   \n",
       "28  NDC Factsheet      2021-11-09_1__high__U__2030__exclude       C6       C6: Below 3.0°C                      0.998333                      0.896667                      0.605000  ...                2.507327             1.709072   \n",
       "29  NDC Factsheet      2021-11-09_1__high__U__2030__include       C7       C7: Below 4.0°C                      1.000000                      0.983333                      0.821667  ...                2.855376             1.953944   \n",
       "30  NDC Factsheet    2021-11-09_1__high__C__SSP1BL__exclude       C4         C4: Below 2°C                      0.916667                      0.448333                      0.126667  ...                1.803727             1.261881   \n",
       "31  NDC Factsheet    2021-11-09_1__high__C__SSP1BL__include       C4         C4: Below 2°C                      0.923333                      0.478333                      0.135000  ...                1.848212             1.292969   \n",
       "\n",
       "    p95 warming in 2100                        harmonization                  infilling                   climate-models                                             pipeline  \n",
       "0              2.874461  aneris (version: 0.2.0+41.g6ddf6e5)  silicone (version: 1.2.1)  openscm_runner (version: 0.9.1)  climate-assessment (version: 0.1.3-fgd+24.g0f1ec01)  \n",
       "1              2.971843  aneris (version: 0.2.0+41.g6ddf6e5)  silicone (version: 1.2.1)  openscm_runner (version: 0.9.1)  climate-assessment (version: 0.1.3-fgd+24.g0f1ec01)  \n",
       "2              2.805857  aneris (version: 0.2.0+41.g6ddf6e5)  silicone (version: 1.2.1)  openscm_runner (version: 0.9.1)  climate-assessment (version: 0.1.3-fgd+24.g0f1ec01)  \n",
       "3              2.881508  aneris (version: 0.2.0+41.g6ddf6e5)  silicone (version: 1.2.1)  openscm_runner (version: 0.9.1)  climate-assessment (version: 0.1.3-fgd+24.g0f1ec01)  \n",
       "4              2.845524  aneris (version: 0.2.0+41.g6ddf6e5)  silicone (version: 1.2.1)  openscm_runner (version: 0.9.1)  climate-assessment (version: 0.1.3-fgd+24.g0f1ec01)  \n",
       "5              2.895913  aneris (version: 0.2.0+41.g6ddf6e5)  silicone (version: 1.2.1)  openscm_runner (version: 0.9.1)  climate-assessment (version: 0.1.3-fgd+24.g0f1ec01)  \n",
       "6              3.328274  aneris (version: 0.2.0+41.g6ddf6e5)  silicone (version: 1.2.1)  openscm_runner (version: 0.9.1)  climate-assessment (version: 0.1.3-fgd+24.g0f1ec01)  \n",
       "7              3.554832  aneris (version: 0.2.0+41.g6ddf6e5)  silicone (version: 1.2.1)  openscm_runner (version: 0.9.1)  climate-assessment (version: 0.1.3-fgd+24.g0f1ec01)  \n",
       "8              4.087308  aneris (version: 0.2.0+41.g6ddf6e5)  silicone (version: 1.2.1)  openscm_runner (version: 0.9.1)  climate-assessment (version: 0.1.3-fgd+24.g0f1ec01)  \n",
       "9              4.395152  aneris (version: 0.2.0+41.g6ddf6e5)  silicone (version: 1.2.1)  openscm_runner (version: 0.9.1)  climate-assessment (version: 0.1.3-fgd+24.g0f1ec01)  \n",
       "10             3.596600  aneris (version: 0.2.0+41.g6ddf6e5)  silicone (version: 1.2.1)  openscm_runner (version: 0.9.1)  climate-assessment (version: 0.1.3-fgd+24.g0f1ec01)  \n",
       "11             3.661323  aneris (version: 0.2.0+41.g6ddf6e5)  silicone (version: 1.2.1)  openscm_runner (version: 0.9.1)  climate-assessment (version: 0.1.3-fgd+24.g0f1ec01)  \n",
       "12             2.982952  aneris (version: 0.2.0+41.g6ddf6e5)  silicone (version: 1.2.1)  openscm_runner (version: 0.9.1)  climate-assessment (version: 0.1.3-fgd+24.g0f1ec01)  \n",
       "13             3.157267  aneris (version: 0.2.0+41.g6ddf6e5)  silicone (version: 1.2.1)  openscm_runner (version: 0.9.1)  climate-assessment (version: 0.1.3-fgd+24.g0f1ec01)  \n",
       "14             2.399713  aneris (version: 0.2.0+41.g6ddf6e5)  silicone (version: 1.2.1)  openscm_runner (version: 0.9.1)  climate-assessment (version: 0.1.3-fgd+24.g0f1ec01)  \n",
       "15             2.773310  aneris (version: 0.2.0+41.g6ddf6e5)  silicone (version: 1.2.1)  openscm_runner (version: 0.9.1)  climate-assessment (version: 0.1.3-fgd+24.g0f1ec01)  \n",
       "16             2.868376  aneris (version: 0.2.0+41.g6ddf6e5)  silicone (version: 1.2.1)  openscm_runner (version: 0.9.1)  climate-assessment (version: 0.1.3-fgd+24.g0f1ec01)  \n",
       "17             2.988761  aneris (version: 0.2.0+41.g6ddf6e5)  silicone (version: 1.2.1)  openscm_runner (version: 0.9.1)  climate-assessment (version: 0.1.3-fgd+24.g0f1ec01)  \n",
       "18             2.875477  aneris (version: 0.2.0+41.g6ddf6e5)  silicone (version: 1.2.1)  openscm_runner (version: 0.9.1)  climate-assessment (version: 0.1.3-fgd+24.g0f1ec01)  \n",
       "19             2.936142  aneris (version: 0.2.0+41.g6ddf6e5)  silicone (version: 1.2.1)  openscm_runner (version: 0.9.1)  climate-assessment (version: 0.1.3-fgd+24.g0f1ec01)  \n",
       "20             2.972813  aneris (version: 0.2.0+41.g6ddf6e5)  silicone (version: 1.2.1)  openscm_runner (version: 0.9.1)  climate-assessment (version: 0.1.3-fgd+24.g0f1ec01)  \n",
       "21             3.126278  aneris (version: 0.2.0+41.g6ddf6e5)  silicone (version: 1.2.1)  openscm_runner (version: 0.9.1)  climate-assessment (version: 0.1.3-fgd+24.g0f1ec01)  \n",
       "22             3.310463  aneris (version: 0.2.0+41.g6ddf6e5)  silicone (version: 1.2.1)  openscm_runner (version: 0.9.1)  climate-assessment (version: 0.1.3-fgd+24.g0f1ec01)  \n",
       "23             3.505324  aneris (version: 0.2.0+41.g6ddf6e5)  silicone (version: 1.2.1)  openscm_runner (version: 0.9.1)  climate-assessment (version: 0.1.3-fgd+24.g0f1ec01)  \n",
       "24             2.972587  aneris (version: 0.2.0+41.g6ddf6e5)  silicone (version: 1.2.1)  openscm_runner (version: 0.9.1)  climate-assessment (version: 0.1.3-fgd+24.g0f1ec01)  \n",
       "25             3.340971  aneris (version: 0.2.0+41.g6ddf6e5)  silicone (version: 1.2.1)  openscm_runner (version: 0.9.1)  climate-assessment (version: 0.1.3-fgd+24.g0f1ec01)  \n",
       "26             2.858600  aneris (version: 0.2.0+41.g6ddf6e5)  silicone (version: 1.2.1)  openscm_runner (version: 0.9.1)  climate-assessment (version: 0.1.3-fgd+24.g0f1ec01)  \n",
       "27             2.859140  aneris (version: 0.2.0+41.g6ddf6e5)  silicone (version: 1.2.1)  openscm_runner (version: 0.9.1)  climate-assessment (version: 0.1.3-fgd+24.g0f1ec01)  \n",
       "28             3.891042  aneris (version: 0.2.0+41.g6ddf6e5)  silicone (version: 1.2.1)  openscm_runner (version: 0.9.1)  climate-assessment (version: 0.1.3-fgd+24.g0f1ec01)  \n",
       "29             4.317820  aneris (version: 0.2.0+41.g6ddf6e5)  silicone (version: 1.2.1)  openscm_runner (version: 0.9.1)  climate-assessment (version: 0.1.3-fgd+24.g0f1ec01)  \n",
       "30             2.781069  aneris (version: 0.2.0+41.g6ddf6e5)  silicone (version: 1.2.1)  openscm_runner (version: 0.9.1)  climate-assessment (version: 0.1.3-fgd+24.g0f1ec01)  \n",
       "31             2.845279  aneris (version: 0.2.0+41.g6ddf6e5)  silicone (version: 1.2.1)  openscm_runner (version: 0.9.1)  climate-assessment (version: 0.1.3-fgd+24.g0f1ec01)  \n",
       "\n",
       "[32 rows x 27 columns]"
      ]
     },
     "execution_count": 19,
     "metadata": {},
     "output_type": "execute_result"
    },
    {
     "data": {
      "application/javascript": [
       "\n",
       "            setTimeout(function() {\n",
       "                var nbb_cell_id = 19;\n",
       "                var nbb_unformatted_code = \"merged_cols = [\\n    \\\"model\\\",\\n    \\\"scenario\\\",\\n    \\\"Category\\\",\\n    \\\"Category_name\\\",\\n    \\\"Exceedance Probability 1.5C \\\",\\n    \\\"Exceedance Probability 2.0C \\\",\\n    \\\"Exceedance Probability 2.5C \\\",\\n    \\\"Exceedance Probability 3.0C \\\",\\n    \\\"p5 peak warming\\\",\\n    \\\"p37 peak warming\\\",\\n    \\\"median peak warming\\\",\\n    \\\"p67 peak warming\\\",\\n    \\\"p95 peak warming\\\",\\n    \\\"p5 year of peak warming\\\",\\n    \\\"p37 year of peak warming\\\",\\n    \\\"median year of peak warming\\\",\\n    \\\"p67 year of peak warming\\\",\\n    \\\"p95 year of peak warming\\\",\\n    \\\"p5 warming in 2100\\\",\\n    \\\"p37 warming in 2100\\\",\\n    \\\"median warming in 2100\\\",\\n    \\\"p67 warming in 2100\\\",\\n    \\\"p95 warming in 2100\\\",\\n    \\\"harmonization\\\",\\n    \\\"infilling\\\",\\n    \\\"climate-models\\\",\\n    \\\"pipeline\\\",\\n]\\nmerged = merged[merged_cols]\\nmerged\";\n",
       "                var nbb_formatted_code = \"merged_cols = [\\n    \\\"model\\\",\\n    \\\"scenario\\\",\\n    \\\"Category\\\",\\n    \\\"Category_name\\\",\\n    \\\"Exceedance Probability 1.5C \\\",\\n    \\\"Exceedance Probability 2.0C \\\",\\n    \\\"Exceedance Probability 2.5C \\\",\\n    \\\"Exceedance Probability 3.0C \\\",\\n    \\\"p5 peak warming\\\",\\n    \\\"p37 peak warming\\\",\\n    \\\"median peak warming\\\",\\n    \\\"p67 peak warming\\\",\\n    \\\"p95 peak warming\\\",\\n    \\\"p5 year of peak warming\\\",\\n    \\\"p37 year of peak warming\\\",\\n    \\\"median year of peak warming\\\",\\n    \\\"p67 year of peak warming\\\",\\n    \\\"p95 year of peak warming\\\",\\n    \\\"p5 warming in 2100\\\",\\n    \\\"p37 warming in 2100\\\",\\n    \\\"median warming in 2100\\\",\\n    \\\"p67 warming in 2100\\\",\\n    \\\"p95 warming in 2100\\\",\\n    \\\"harmonization\\\",\\n    \\\"infilling\\\",\\n    \\\"climate-models\\\",\\n    \\\"pipeline\\\",\\n]\\nmerged = merged[merged_cols]\\nmerged\";\n",
       "                var nbb_cells = Jupyter.notebook.get_cells();\n",
       "                for (var i = 0; i < nbb_cells.length; ++i) {\n",
       "                    if (nbb_cells[i].input_prompt_number == nbb_cell_id) {\n",
       "                        if (nbb_cells[i].get_text() == nbb_unformatted_code) {\n",
       "                             nbb_cells[i].set_text(nbb_formatted_code);\n",
       "                        }\n",
       "                        break;\n",
       "                    }\n",
       "                }\n",
       "            }, 500);\n",
       "            "
      ],
      "text/plain": [
       "<IPython.core.display.Javascript object>"
      ]
     },
     "metadata": {},
     "output_type": "display_data"
    }
   ],
   "source": [
    "merged_cols = [\n",
    "    \"model\",\n",
    "    \"scenario\",\n",
    "    \"Category\",\n",
    "    \"Category_name\",\n",
    "    \"Exceedance Probability 1.5C \",\n",
    "    \"Exceedance Probability 2.0C \",\n",
    "    \"Exceedance Probability 2.5C \",\n",
    "    \"Exceedance Probability 3.0C \",\n",
    "    \"p5 peak warming\",\n",
    "    \"p37 peak warming\",\n",
    "    \"median peak warming\",\n",
    "    \"p67 peak warming\",\n",
    "    \"p95 peak warming\",\n",
    "    \"p5 year of peak warming\",\n",
    "    \"p37 year of peak warming\",\n",
    "    \"median year of peak warming\",\n",
    "    \"p67 year of peak warming\",\n",
    "    \"p95 year of peak warming\",\n",
    "    \"p5 warming in 2100\",\n",
    "    \"p37 warming in 2100\",\n",
    "    \"median warming in 2100\",\n",
    "    \"p67 warming in 2100\",\n",
    "    \"p95 warming in 2100\",\n",
    "    \"harmonization\",\n",
    "    \"infilling\",\n",
    "    \"climate-models\",\n",
    "    \"pipeline\",\n",
    "]\n",
    "merged = merged[merged_cols]\n",
    "merged"
   ]
  },
  {
   "cell_type": "code",
   "execution_count": 20,
   "id": "8afc06e1",
   "metadata": {
    "pycharm": {
     "name": "#%%\n"
    }
   },
   "outputs": [
    {
     "data": {
      "application/javascript": [
       "\n",
       "            setTimeout(function() {\n",
       "                var nbb_cell_id = 20;\n",
       "                var nbb_unformatted_code = \"merged.round(3).to_csv(\\n    os.path.join(PROCESSED_DATA_DIR, \\\"stats_{}.csv\\\".format(NDC_TARGET_RELEASE)),\\n    index=False,\\n)\";\n",
       "                var nbb_formatted_code = \"merged.round(3).to_csv(\\n    os.path.join(PROCESSED_DATA_DIR, \\\"stats_{}.csv\\\".format(NDC_TARGET_RELEASE)),\\n    index=False,\\n)\";\n",
       "                var nbb_cells = Jupyter.notebook.get_cells();\n",
       "                for (var i = 0; i < nbb_cells.length; ++i) {\n",
       "                    if (nbb_cells[i].input_prompt_number == nbb_cell_id) {\n",
       "                        if (nbb_cells[i].get_text() == nbb_unformatted_code) {\n",
       "                             nbb_cells[i].set_text(nbb_formatted_code);\n",
       "                        }\n",
       "                        break;\n",
       "                    }\n",
       "                }\n",
       "            }, 500);\n",
       "            "
      ],
      "text/plain": [
       "<IPython.core.display.Javascript object>"
      ]
     },
     "metadata": {},
     "output_type": "display_data"
    }
   ],
   "source": [
    "merged.round(3).to_csv(\n",
    "    os.path.join(PROCESSED_DATA_DIR, \"stats_{}.csv\".format(NDC_TARGET_RELEASE)),\n",
    "    index=False,\n",
    ")"
   ]
  },
  {
   "cell_type": "code",
   "execution_count": 21,
   "id": "ced8cfd6",
   "metadata": {
    "pycharm": {
     "name": "#%%\n"
    }
   },
   "outputs": [
    {
     "data": {
      "application/javascript": [
       "\n",
       "            setTimeout(function() {\n",
       "                var nbb_cell_id = 21;\n",
       "                var nbb_unformatted_code = \"# Combine output into a single file\";\n",
       "                var nbb_formatted_code = \"# Combine output into a single file\";\n",
       "                var nbb_cells = Jupyter.notebook.get_cells();\n",
       "                for (var i = 0; i < nbb_cells.length; ++i) {\n",
       "                    if (nbb_cells[i].input_prompt_number == nbb_cell_id) {\n",
       "                        if (nbb_cells[i].get_text() == nbb_unformatted_code) {\n",
       "                             nbb_cells[i].set_text(nbb_formatted_code);\n",
       "                        }\n",
       "                        break;\n",
       "                    }\n",
       "                }\n",
       "            }, 500);\n",
       "            "
      ],
      "text/plain": [
       "<IPython.core.display.Javascript object>"
      ]
     },
     "metadata": {},
     "output_type": "display_data"
    }
   ],
   "source": [
    "# Combine output into a single file"
   ]
  },
  {
   "cell_type": "code",
   "execution_count": 31,
   "id": "4a7fc4db",
   "metadata": {},
   "outputs": [
    {
     "data": {
      "application/vnd.jupyter.widget-view+json": {
       "model_id": "90539d9ec3004ba6a34c718c61c03736",
       "version_major": 2,
       "version_minor": 0
      },
      "text/plain": [
       "  0%|          | 0/8 [00:00<?, ?it/s]"
      ]
     },
     "metadata": {},
     "output_type": "display_data"
    },
    {
     "data": {
      "application/javascript": [
       "\n",
       "            setTimeout(function() {\n",
       "                var nbb_cell_id = 31;\n",
       "                var nbb_unformatted_code = \"all_files = []\\n\\nfor f in tqdm(meta_files):\\n    df = pd.read_excel(f)\\n    df[\\\"file\\\"] = f\\n    all_files.append(df)\\n    \\nall_meta = pd.concat(all_files)\";\n",
       "                var nbb_formatted_code = \"all_files = []\\n\\nfor f in tqdm(meta_files):\\n    df = pd.read_excel(f)\\n    df[\\\"file\\\"] = f\\n    all_files.append(df)\\n\\nall_meta = pd.concat(all_files)\";\n",
       "                var nbb_cells = Jupyter.notebook.get_cells();\n",
       "                for (var i = 0; i < nbb_cells.length; ++i) {\n",
       "                    if (nbb_cells[i].input_prompt_number == nbb_cell_id) {\n",
       "                        if (nbb_cells[i].get_text() == nbb_unformatted_code) {\n",
       "                             nbb_cells[i].set_text(nbb_formatted_code);\n",
       "                        }\n",
       "                        break;\n",
       "                    }\n",
       "                }\n",
       "            }, 500);\n",
       "            "
      ],
      "text/plain": [
       "<IPython.core.display.Javascript object>"
      ]
     },
     "metadata": {},
     "output_type": "display_data"
    }
   ],
   "source": [
    "all_files = []\n",
    "\n",
    "for f in tqdm(meta_files):\n",
    "    df = pd.read_excel(f)\n",
    "    df[\"file\"] = f\n",
    "    all_files.append(df)\n",
    "    \n",
    "all_meta = pd.concat(all_files)\n"
   ]
  },
  {
   "cell_type": "code",
   "execution_count": 32,
   "id": "2fc777c3",
   "metadata": {},
   "outputs": [
    {
     "data": {
      "text/plain": [
       "array([], dtype=object)"
      ]
     },
     "execution_count": 32,
     "metadata": {},
     "output_type": "execute_result"
    },
    {
     "data": {
      "application/javascript": [
       "\n",
       "            setTimeout(function() {\n",
       "                var nbb_cell_id = 32;\n",
       "                var nbb_unformatted_code = \"all_meta[all_meta.duplicated(\\\"scenario\\\", False)][[\\\"scenario\\\", \\\"file\\\"]][\\\"file\\\"].unique()\";\n",
       "                var nbb_formatted_code = \"all_meta[all_meta.duplicated(\\\"scenario\\\", False)][[\\\"scenario\\\", \\\"file\\\"]][\\\"file\\\"].unique()\";\n",
       "                var nbb_cells = Jupyter.notebook.get_cells();\n",
       "                for (var i = 0; i < nbb_cells.length; ++i) {\n",
       "                    if (nbb_cells[i].input_prompt_number == nbb_cell_id) {\n",
       "                        if (nbb_cells[i].get_text() == nbb_unformatted_code) {\n",
       "                             nbb_cells[i].set_text(nbb_formatted_code);\n",
       "                        }\n",
       "                        break;\n",
       "                    }\n",
       "                }\n",
       "            }, 500);\n",
       "            "
      ],
      "text/plain": [
       "<IPython.core.display.Javascript object>"
      ]
     },
     "metadata": {},
     "output_type": "display_data"
    }
   ],
   "source": [
    "all_meta[all_meta.duplicated(\"scenario\", False)][[\"scenario\", \"file\"]][\"file\"].unique()"
   ]
  },
  {
   "cell_type": "code",
   "execution_count": 33,
   "id": "4e7c8012",
   "metadata": {},
   "outputs": [
    {
     "data": {
      "application/javascript": [
       "\n",
       "            setTimeout(function() {\n",
       "                var nbb_cell_id = 33;\n",
       "                var nbb_unformatted_code = \"alloutput_files = [alloutput_files[i] for i in range(len(alloutput_files))]\";\n",
       "                var nbb_formatted_code = \"alloutput_files = [alloutput_files[i] for i in range(len(alloutput_files))]\";\n",
       "                var nbb_cells = Jupyter.notebook.get_cells();\n",
       "                for (var i = 0; i < nbb_cells.length; ++i) {\n",
       "                    if (nbb_cells[i].input_prompt_number == nbb_cell_id) {\n",
       "                        if (nbb_cells[i].get_text() == nbb_unformatted_code) {\n",
       "                             nbb_cells[i].set_text(nbb_formatted_code);\n",
       "                        }\n",
       "                        break;\n",
       "                    }\n",
       "                }\n",
       "            }, 500);\n",
       "            "
      ],
      "text/plain": [
       "<IPython.core.display.Javascript object>"
      ]
     },
     "metadata": {},
     "output_type": "display_data"
    }
   ],
   "source": [
    "alloutput_files = [alloutput_files[i] for i in range(len(alloutput_files))]"
   ]
  },
  {
   "cell_type": "code",
   "execution_count": 34,
   "id": "acee6155",
   "metadata": {},
   "outputs": [
    {
     "data": {
      "text/plain": [
       "8"
      ]
     },
     "execution_count": 34,
     "metadata": {},
     "output_type": "execute_result"
    },
    {
     "data": {
      "application/javascript": [
       "\n",
       "            setTimeout(function() {\n",
       "                var nbb_cell_id = 34;\n",
       "                var nbb_unformatted_code = \"len(alloutput_files)\";\n",
       "                var nbb_formatted_code = \"len(alloutput_files)\";\n",
       "                var nbb_cells = Jupyter.notebook.get_cells();\n",
       "                for (var i = 0; i < nbb_cells.length; ++i) {\n",
       "                    if (nbb_cells[i].input_prompt_number == nbb_cell_id) {\n",
       "                        if (nbb_cells[i].get_text() == nbb_unformatted_code) {\n",
       "                             nbb_cells[i].set_text(nbb_formatted_code);\n",
       "                        }\n",
       "                        break;\n",
       "                    }\n",
       "                }\n",
       "            }, 500);\n",
       "            "
      ],
      "text/plain": [
       "<IPython.core.display.Javascript object>"
      ]
     },
     "metadata": {},
     "output_type": "display_data"
    }
   ],
   "source": [
    "len(alloutput_files)"
   ]
  },
  {
   "cell_type": "code",
   "execution_count": 35,
   "id": "ba4fdf21",
   "metadata": {},
   "outputs": [
    {
     "data": {
      "application/vnd.jupyter.widget-view+json": {
       "model_id": "ab0ca8f6065d4918bc2ef20cc7fad3ee",
       "version_major": 2,
       "version_minor": 0
      },
      "text/plain": [
       "  0%|          | 0/8 [00:00<?, ?it/s]"
      ]
     },
     "metadata": {},
     "output_type": "display_data"
    },
    {
     "data": {
      "application/javascript": [
       "\n",
       "            setTimeout(function() {\n",
       "                var nbb_cell_id = 35;\n",
       "                var nbb_unformatted_code = \"alloutput_merged = scmdata.run_append(\\n    [scmdata.ScmRun(f, lowercase_cols=True) for f in tqdm(alloutput_files)]\\n)\";\n",
       "                var nbb_formatted_code = \"alloutput_merged = scmdata.run_append(\\n    [scmdata.ScmRun(f, lowercase_cols=True) for f in tqdm(alloutput_files)]\\n)\";\n",
       "                var nbb_cells = Jupyter.notebook.get_cells();\n",
       "                for (var i = 0; i < nbb_cells.length; ++i) {\n",
       "                    if (nbb_cells[i].input_prompt_number == nbb_cell_id) {\n",
       "                        if (nbb_cells[i].get_text() == nbb_unformatted_code) {\n",
       "                             nbb_cells[i].set_text(nbb_formatted_code);\n",
       "                        }\n",
       "                        break;\n",
       "                    }\n",
       "                }\n",
       "            }, 500);\n",
       "            "
      ],
      "text/plain": [
       "<IPython.core.display.Javascript object>"
      ]
     },
     "metadata": {},
     "output_type": "display_data"
    }
   ],
   "source": [
    "alloutput_merged = scmdata.run_append(\n",
    "    [scmdata.ScmRun(f, lowercase_cols=True) for f in tqdm(alloutput_files)]\n",
    ")"
   ]
  },
  {
   "cell_type": "code",
   "execution_count": 36,
   "id": "8b7590d2",
   "metadata": {},
   "outputs": [
    {
     "data": {
      "text/html": [
       "<div>\n",
       "<style scoped>\n",
       "    .dataframe tbody tr th:only-of-type {\n",
       "        vertical-align: middle;\n",
       "    }\n",
       "\n",
       "    .dataframe tbody tr th {\n",
       "        vertical-align: top;\n",
       "    }\n",
       "\n",
       "    .dataframe thead th {\n",
       "        text-align: right;\n",
       "    }\n",
       "</style>\n",
       "<table border=\"1\" class=\"dataframe\">\n",
       "  <thead>\n",
       "    <tr style=\"text-align: right;\">\n",
       "      <th></th>\n",
       "      <th></th>\n",
       "      <th></th>\n",
       "      <th></th>\n",
       "      <th>time</th>\n",
       "      <th>1995-01-01</th>\n",
       "      <th>1996-01-01</th>\n",
       "      <th>1997-01-01</th>\n",
       "      <th>1998-01-01</th>\n",
       "      <th>1999-01-01</th>\n",
       "      <th>2000-01-01</th>\n",
       "      <th>2001-01-01</th>\n",
       "      <th>...</th>\n",
       "      <th>2094-01-01</th>\n",
       "      <th>2095-01-01</th>\n",
       "      <th>2096-01-01</th>\n",
       "      <th>2097-01-01</th>\n",
       "      <th>2098-01-01</th>\n",
       "      <th>2099-01-01</th>\n",
       "      <th>2100-01-01</th>\n",
       "    </tr>\n",
       "    <tr>\n",
       "      <th>model</th>\n",
       "      <th>region</th>\n",
       "      <th>scenario</th>\n",
       "      <th>unit</th>\n",
       "      <th>variable</th>\n",
       "      <th></th>\n",
       "      <th></th>\n",
       "      <th></th>\n",
       "      <th></th>\n",
       "      <th></th>\n",
       "      <th></th>\n",
       "      <th></th>\n",
       "      <th></th>\n",
       "      <th></th>\n",
       "      <th></th>\n",
       "      <th></th>\n",
       "      <th></th>\n",
       "      <th></th>\n",
       "      <th></th>\n",
       "      <th></th>\n",
       "    </tr>\n",
       "  </thead>\n",
       "  <tbody>\n",
       "    <tr>\n",
       "      <th rowspan=\"5\" valign=\"top\">NDC Factsheet</th>\n",
       "      <th rowspan=\"5\" valign=\"top\">World</th>\n",
       "      <th rowspan=\"5\" valign=\"top\">2021-11-09_1__high__C__2030__exclude</th>\n",
       "      <th rowspan=\"5\" valign=\"top\">ppb</th>\n",
       "      <th>AR6 climate diagnostics|Atmospheric Concentrations|CH4|MAGICCv7.5.3|10.0th Percentile</th>\n",
       "      <td>1755.23</td>\n",
       "      <td>1757.19</td>\n",
       "      <td>1761.5</td>\n",
       "      <td>1770.29</td>\n",
       "      <td>1778.2</td>\n",
       "      <td>1778.01</td>\n",
       "      <td>1776.53</td>\n",
       "      <td>...</td>\n",
       "      <td>1264.362042</td>\n",
       "      <td>1258.510733</td>\n",
       "      <td>1252.858228</td>\n",
       "      <td>1247.067898</td>\n",
       "      <td>1241.147833</td>\n",
       "      <td>1235.108764</td>\n",
       "      <td>1228.844561</td>\n",
       "    </tr>\n",
       "    <tr>\n",
       "      <th>AR6 climate diagnostics|Atmospheric Concentrations|CH4|MAGICCv7.5.3|16.7th Percentile</th>\n",
       "      <td>1755.23</td>\n",
       "      <td>1757.19</td>\n",
       "      <td>1761.5</td>\n",
       "      <td>1770.29</td>\n",
       "      <td>1778.2</td>\n",
       "      <td>1778.01</td>\n",
       "      <td>1776.53</td>\n",
       "      <td>...</td>\n",
       "      <td>1279.058601</td>\n",
       "      <td>1273.123362</td>\n",
       "      <td>1267.347026</td>\n",
       "      <td>1261.433666</td>\n",
       "      <td>1255.391379</td>\n",
       "      <td>1249.266651</td>\n",
       "      <td>1243.042939</td>\n",
       "    </tr>\n",
       "    <tr>\n",
       "      <th>AR6 climate diagnostics|Atmospheric Concentrations|CH4|MAGICCv7.5.3|33.0th Percentile</th>\n",
       "      <td>1755.23</td>\n",
       "      <td>1757.19</td>\n",
       "      <td>1761.5</td>\n",
       "      <td>1770.29</td>\n",
       "      <td>1778.2</td>\n",
       "      <td>1778.01</td>\n",
       "      <td>1776.53</td>\n",
       "      <td>...</td>\n",
       "      <td>1299.606005</td>\n",
       "      <td>1293.739092</td>\n",
       "      <td>1288.026813</td>\n",
       "      <td>1282.140908</td>\n",
       "      <td>1276.143664</td>\n",
       "      <td>1270.190392</td>\n",
       "      <td>1264.019840</td>\n",
       "    </tr>\n",
       "    <tr>\n",
       "      <th>AR6 climate diagnostics|Atmospheric Concentrations|CH4|MAGICCv7.5.3|5.0th Percentile</th>\n",
       "      <td>1755.23</td>\n",
       "      <td>1757.19</td>\n",
       "      <td>1761.5</td>\n",
       "      <td>1770.29</td>\n",
       "      <td>1778.2</td>\n",
       "      <td>1778.01</td>\n",
       "      <td>1776.53</td>\n",
       "      <td>...</td>\n",
       "      <td>1248.493809</td>\n",
       "      <td>1242.422883</td>\n",
       "      <td>1236.522005</td>\n",
       "      <td>1230.498486</td>\n",
       "      <td>1224.357804</td>\n",
       "      <td>1218.107194</td>\n",
       "      <td>1211.743860</td>\n",
       "    </tr>\n",
       "    <tr>\n",
       "      <th>AR6 climate diagnostics|Atmospheric Concentrations|CH4|MAGICCv7.5.3|50.0th Percentile</th>\n",
       "      <td>1755.23</td>\n",
       "      <td>1757.19</td>\n",
       "      <td>1761.5</td>\n",
       "      <td>1770.29</td>\n",
       "      <td>1778.2</td>\n",
       "      <td>1778.01</td>\n",
       "      <td>1776.53</td>\n",
       "      <td>...</td>\n",
       "      <td>1315.192047</td>\n",
       "      <td>1309.405200</td>\n",
       "      <td>1303.722799</td>\n",
       "      <td>1297.914252</td>\n",
       "      <td>1292.046220</td>\n",
       "      <td>1286.050003</td>\n",
       "      <td>1279.837487</td>\n",
       "    </tr>\n",
       "  </tbody>\n",
       "</table>\n",
       "<p>5 rows × 106 columns</p>\n",
       "</div>"
      ],
      "text/plain": [
       "time                                                                                                                                             1995-01-01  1996-01-01  1997-01-01  1998-01-01  1999-01-01  2000-01-01  2001-01-01  ...   2094-01-01  \\\n",
       "model         region scenario                             unit variable                                                                                                                                                              ...                \n",
       "NDC Factsheet World  2021-11-09_1__high__C__2030__exclude ppb  AR6 climate diagnostics|Atmospheric Concentrations|CH4|MAGICCv7.5.3|10.0th Pe...     1755.23     1757.19      1761.5     1770.29      1778.2     1778.01     1776.53  ...  1264.362042   \n",
       "                                                               AR6 climate diagnostics|Atmospheric Concentrations|CH4|MAGICCv7.5.3|16.7th Pe...     1755.23     1757.19      1761.5     1770.29      1778.2     1778.01     1776.53  ...  1279.058601   \n",
       "                                                               AR6 climate diagnostics|Atmospheric Concentrations|CH4|MAGICCv7.5.3|33.0th Pe...     1755.23     1757.19      1761.5     1770.29      1778.2     1778.01     1776.53  ...  1299.606005   \n",
       "                                                               AR6 climate diagnostics|Atmospheric Concentrations|CH4|MAGICCv7.5.3|5.0th Per...     1755.23     1757.19      1761.5     1770.29      1778.2     1778.01     1776.53  ...  1248.493809   \n",
       "                                                               AR6 climate diagnostics|Atmospheric Concentrations|CH4|MAGICCv7.5.3|50.0th Pe...     1755.23     1757.19      1761.5     1770.29      1778.2     1778.01     1776.53  ...  1315.192047   \n",
       "\n",
       "time                                                                                                                                              2095-01-01   2096-01-01   2097-01-01   2098-01-01   2099-01-01   2100-01-01  \n",
       "model         region scenario                             unit variable                                                                                                                                                        \n",
       "NDC Factsheet World  2021-11-09_1__high__C__2030__exclude ppb  AR6 climate diagnostics|Atmospheric Concentrations|CH4|MAGICCv7.5.3|10.0th Pe...  1258.510733  1252.858228  1247.067898  1241.147833  1235.108764  1228.844561  \n",
       "                                                               AR6 climate diagnostics|Atmospheric Concentrations|CH4|MAGICCv7.5.3|16.7th Pe...  1273.123362  1267.347026  1261.433666  1255.391379  1249.266651  1243.042939  \n",
       "                                                               AR6 climate diagnostics|Atmospheric Concentrations|CH4|MAGICCv7.5.3|33.0th Pe...  1293.739092  1288.026813  1282.140908  1276.143664  1270.190392  1264.019840  \n",
       "                                                               AR6 climate diagnostics|Atmospheric Concentrations|CH4|MAGICCv7.5.3|5.0th Per...  1242.422883  1236.522005  1230.498486  1224.357804  1218.107194  1211.743860  \n",
       "                                                               AR6 climate diagnostics|Atmospheric Concentrations|CH4|MAGICCv7.5.3|50.0th Pe...  1309.405200  1303.722799  1297.914252  1292.046220  1286.050003  1279.837487  \n",
       "\n",
       "[5 rows x 106 columns]"
      ]
     },
     "execution_count": 36,
     "metadata": {},
     "output_type": "execute_result"
    },
    {
     "data": {
      "application/javascript": [
       "\n",
       "            setTimeout(function() {\n",
       "                var nbb_cell_id = 36;\n",
       "                var nbb_unformatted_code = \"alloutput_merged.head()\";\n",
       "                var nbb_formatted_code = \"alloutput_merged.head()\";\n",
       "                var nbb_cells = Jupyter.notebook.get_cells();\n",
       "                for (var i = 0; i < nbb_cells.length; ++i) {\n",
       "                    if (nbb_cells[i].input_prompt_number == nbb_cell_id) {\n",
       "                        if (nbb_cells[i].get_text() == nbb_unformatted_code) {\n",
       "                             nbb_cells[i].set_text(nbb_formatted_code);\n",
       "                        }\n",
       "                        break;\n",
       "                    }\n",
       "                }\n",
       "            }, 500);\n",
       "            "
      ],
      "text/plain": [
       "<IPython.core.display.Javascript object>"
      ]
     },
     "metadata": {},
     "output_type": "display_data"
    }
   ],
   "source": [
    "alloutput_merged.head()"
   ]
  },
  {
   "cell_type": "code",
   "execution_count": 37,
   "id": "21860e4f",
   "metadata": {},
   "outputs": [
    {
     "data": {
      "application/javascript": [
       "\n",
       "            setTimeout(function() {\n",
       "                var nbb_cell_id = 37;\n",
       "                var nbb_unformatted_code = \"alloutput_cleaned = []\\n\\nfor s in alloutput_merged.groupby(\\\"scenario\\\"):\\n    try:\\n        (\\n            pathway_id,\\n            ambition,\\n            conditionality,\\n            extension,\\n            exclude_hot_air,\\n        ) = s.get_unique_meta(\\\"scenario\\\", True).split(\\\"__\\\")\\n        methane_pledges = \\\"\\\"\\n    except:\\n        (\\n            pathway_id,\\n            ambition,\\n            conditionality,\\n            extension,\\n            exclude_hot_air,\\n            methane_pledges,\\n        ) = s.get_unique_meta(\\\"scenario\\\", True).split(\\\"__\\\")\\n\\n    s[\\\"pathway_id\\\"] = pathway_id\\n    s[\\\"ambition\\\"] = ambition\\n    s[\\\"conditionality\\\"] = conditionality\\n    s[\\\"country_extension\\\"] = extension\\n    s[\\\"exclude_hot_air\\\"] = exclude_hot_air\\n    s[\\\"methane_pledges\\\"] = methane_pledges\\n\\n    alloutput_cleaned.append(s)\\n\\nalloutput_cleaned = scmdata.run_append(alloutput_cleaned)\";\n",
       "                var nbb_formatted_code = \"alloutput_cleaned = []\\n\\nfor s in alloutput_merged.groupby(\\\"scenario\\\"):\\n    try:\\n        (\\n            pathway_id,\\n            ambition,\\n            conditionality,\\n            extension,\\n            exclude_hot_air,\\n        ) = s.get_unique_meta(\\\"scenario\\\", True).split(\\\"__\\\")\\n        methane_pledges = \\\"\\\"\\n    except:\\n        (\\n            pathway_id,\\n            ambition,\\n            conditionality,\\n            extension,\\n            exclude_hot_air,\\n            methane_pledges,\\n        ) = s.get_unique_meta(\\\"scenario\\\", True).split(\\\"__\\\")\\n\\n    s[\\\"pathway_id\\\"] = pathway_id\\n    s[\\\"ambition\\\"] = ambition\\n    s[\\\"conditionality\\\"] = conditionality\\n    s[\\\"country_extension\\\"] = extension\\n    s[\\\"exclude_hot_air\\\"] = exclude_hot_air\\n    s[\\\"methane_pledges\\\"] = methane_pledges\\n\\n    alloutput_cleaned.append(s)\\n\\nalloutput_cleaned = scmdata.run_append(alloutput_cleaned)\";\n",
       "                var nbb_cells = Jupyter.notebook.get_cells();\n",
       "                for (var i = 0; i < nbb_cells.length; ++i) {\n",
       "                    if (nbb_cells[i].input_prompt_number == nbb_cell_id) {\n",
       "                        if (nbb_cells[i].get_text() == nbb_unformatted_code) {\n",
       "                             nbb_cells[i].set_text(nbb_formatted_code);\n",
       "                        }\n",
       "                        break;\n",
       "                    }\n",
       "                }\n",
       "            }, 500);\n",
       "            "
      ],
      "text/plain": [
       "<IPython.core.display.Javascript object>"
      ]
     },
     "metadata": {},
     "output_type": "display_data"
    }
   ],
   "source": []
  },
  {
   "cell_type": "code",
   "execution_count": 38,
   "id": "70827055",
   "metadata": {},
   "outputs": [
    {
     "data": {
      "application/javascript": [
       "\n",
       "            setTimeout(function() {\n",
       "                var nbb_cell_id = 38;\n",
       "                var nbb_unformatted_code = \"alloutput_cleaned[\\\"variable\\\"] = [\\n    v[len(\\\"AR6 climate diagnostics|\\\") :] for v in alloutput_merged[\\\"variable\\\"]\\n]\";\n",
       "                var nbb_formatted_code = \"alloutput_cleaned[\\\"variable\\\"] = [\\n    v[len(\\\"AR6 climate diagnostics|\\\") :] for v in alloutput_merged[\\\"variable\\\"]\\n]\";\n",
       "                var nbb_cells = Jupyter.notebook.get_cells();\n",
       "                for (var i = 0; i < nbb_cells.length; ++i) {\n",
       "                    if (nbb_cells[i].input_prompt_number == nbb_cell_id) {\n",
       "                        if (nbb_cells[i].get_text() == nbb_unformatted_code) {\n",
       "                             nbb_cells[i].set_text(nbb_formatted_code);\n",
       "                        }\n",
       "                        break;\n",
       "                    }\n",
       "                }\n",
       "            }, 500);\n",
       "            "
      ],
      "text/plain": [
       "<IPython.core.display.Javascript object>"
      ]
     },
     "metadata": {},
     "output_type": "display_data"
    }
   ],
   "source": [
    "alloutput_cleaned[\"variable\"] = [\n",
    "    v[len(\"AR6 climate diagnostics|\") :] for v in alloutput_merged[\"variable\"]\n",
    "]"
   ]
  },
  {
   "cell_type": "code",
   "execution_count": 39,
   "id": "4dd48ccc",
   "metadata": {},
   "outputs": [
    {
     "data": {
      "application/javascript": [
       "\n",
       "            setTimeout(function() {\n",
       "                var nbb_cell_id = 39;\n",
       "                var nbb_unformatted_code = \"# alloutput_cleaned.get_unique_meta(\\\"variable\\\")\";\n",
       "                var nbb_formatted_code = \"# alloutput_cleaned.get_unique_meta(\\\"variable\\\")\";\n",
       "                var nbb_cells = Jupyter.notebook.get_cells();\n",
       "                for (var i = 0; i < nbb_cells.length; ++i) {\n",
       "                    if (nbb_cells[i].input_prompt_number == nbb_cell_id) {\n",
       "                        if (nbb_cells[i].get_text() == nbb_unformatted_code) {\n",
       "                             nbb_cells[i].set_text(nbb_formatted_code);\n",
       "                        }\n",
       "                        break;\n",
       "                    }\n",
       "                }\n",
       "            }, 500);\n",
       "            "
      ],
      "text/plain": [
       "<IPython.core.display.Javascript object>"
      ]
     },
     "metadata": {},
     "output_type": "display_data"
    }
   ],
   "source": [
    "# alloutput_cleaned.get_unique_meta(\"variable\")"
   ]
  },
  {
   "cell_type": "code",
   "execution_count": 40,
   "id": "1b7cabb8",
   "metadata": {},
   "outputs": [
    {
     "data": {
      "text/plain": [
       "'/home/jared/code/cr/ndc-realisations-2021/src/ndcs/../../data/processed/climate_assessment/20211112-ndc-sensitivity/../merged/output_12Nov2021a_CR_sensitivity.csv'"
      ]
     },
     "execution_count": 40,
     "metadata": {},
     "output_type": "execute_result"
    },
    {
     "data": {
      "application/javascript": [
       "\n",
       "            setTimeout(function() {\n",
       "                var nbb_cell_id = 40;\n",
       "                var nbb_unformatted_code = \"OUT_FNAME = os.path.join(DATA_DIR, \\\"../merged\\\", FNAME)\\nOUT_FNAME\";\n",
       "                var nbb_formatted_code = \"OUT_FNAME = os.path.join(DATA_DIR, \\\"../merged\\\", FNAME)\\nOUT_FNAME\";\n",
       "                var nbb_cells = Jupyter.notebook.get_cells();\n",
       "                for (var i = 0; i < nbb_cells.length; ++i) {\n",
       "                    if (nbb_cells[i].input_prompt_number == nbb_cell_id) {\n",
       "                        if (nbb_cells[i].get_text() == nbb_unformatted_code) {\n",
       "                             nbb_cells[i].set_text(nbb_formatted_code);\n",
       "                        }\n",
       "                        break;\n",
       "                    }\n",
       "                }\n",
       "            }, 500);\n",
       "            "
      ],
      "text/plain": [
       "<IPython.core.display.Javascript object>"
      ]
     },
     "metadata": {},
     "output_type": "display_data"
    }
   ],
   "source": [
    "OUT_FNAME = os.path.join(DATA_DIR, \"../merged\", FNAME)\n",
    "OUT_FNAME"
   ]
  },
  {
   "cell_type": "code",
   "execution_count": 41,
   "id": "a72ab76f",
   "metadata": {},
   "outputs": [
    {
     "data": {
      "application/javascript": [
       "\n",
       "            setTimeout(function() {\n",
       "                var nbb_cell_id = 41;\n",
       "                var nbb_unformatted_code = \"os.makedirs(os.path.dirname(OUT_FNAME), exist_ok=True)\\nalloutput_cleaned.to_csv(OUT_FNAME)\";\n",
       "                var nbb_formatted_code = \"os.makedirs(os.path.dirname(OUT_FNAME), exist_ok=True)\\nalloutput_cleaned.to_csv(OUT_FNAME)\";\n",
       "                var nbb_cells = Jupyter.notebook.get_cells();\n",
       "                for (var i = 0; i < nbb_cells.length; ++i) {\n",
       "                    if (nbb_cells[i].input_prompt_number == nbb_cell_id) {\n",
       "                        if (nbb_cells[i].get_text() == nbb_unformatted_code) {\n",
       "                             nbb_cells[i].set_text(nbb_formatted_code);\n",
       "                        }\n",
       "                        break;\n",
       "                    }\n",
       "                }\n",
       "            }, 500);\n",
       "            "
      ],
      "text/plain": [
       "<IPython.core.display.Javascript object>"
      ]
     },
     "metadata": {},
     "output_type": "display_data"
    }
   ],
   "source": [
    "os.makedirs(os.path.dirname(OUT_FNAME), exist_ok=True)\n",
    "alloutput_cleaned.to_csv(OUT_FNAME)"
   ]
  },
  {
   "cell_type": "code",
   "execution_count": 42,
   "id": "45159608",
   "metadata": {},
   "outputs": [
    {
     "name": "stdout",
     "output_type": "stream",
     "text": [
      "-rw-rw-r-- 1 jared jared 14M Jan 11 17:50 /home/jared/code/cr/ndc-realisations-2021/src/ndcs/../../data/processed/climate_assessment/20211112-ndc-sensitivity/../merged/output_12Nov2021a_CR_sensitivity.csv\r\n"
     ]
    },
    {
     "data": {
      "application/javascript": [
       "\n",
       "            setTimeout(function() {\n",
       "                var nbb_cell_id = 42;\n",
       "                var nbb_unformatted_code = \"# Lets see how big the output is\\n!ls -lh {OUT_FNAME}\";\n",
       "                var nbb_formatted_code = \"# Lets see how big the output is\\n!ls -lh {OUT_FNAME}\";\n",
       "                var nbb_cells = Jupyter.notebook.get_cells();\n",
       "                for (var i = 0; i < nbb_cells.length; ++i) {\n",
       "                    if (nbb_cells[i].input_prompt_number == nbb_cell_id) {\n",
       "                        if (nbb_cells[i].get_text() == nbb_unformatted_code) {\n",
       "                             nbb_cells[i].set_text(nbb_formatted_code);\n",
       "                        }\n",
       "                        break;\n",
       "                    }\n",
       "                }\n",
       "            }, 500);\n",
       "            "
      ],
      "text/plain": [
       "<IPython.core.display.Javascript object>"
      ]
     },
     "metadata": {},
     "output_type": "display_data"
    }
   ],
   "source": [
    "# Lets see how big the output is\n",
    "!ls -lh {OUT_FNAME}"
   ]
  },
  {
   "cell_type": "code",
   "execution_count": 43,
   "id": "ee25dbc8",
   "metadata": {},
   "outputs": [
    {
     "data": {
      "image/png": "[encoded data removed]",
      "text/plain": [
       "<Figure size 864x576 with 1 Axes>"
      ]
     },
     "metadata": {
      "needs_background": "light"
     },
     "output_type": "display_data"
    },
    {
     "data": {
      "application/javascript": [
       "\n",
       "            setTimeout(function() {\n",
       "                var nbb_cell_id = 43;\n",
       "                var nbb_unformatted_code = \"for v in [\\\"Surface Temperature (GSAT)|MAGICCv7.5.3|50.0th Percentile\\\"]:\\n    plt.figure()\\n\\n    alloutput_cleaned.filter(variable=v).lineplot(\\n        hue=\\\"variable\\\", estimator=None, units=\\\"scenario\\\", legend=False\\n    )\";\n",
       "                var nbb_formatted_code = \"for v in [\\\"Surface Temperature (GSAT)|MAGICCv7.5.3|50.0th Percentile\\\"]:\\n    plt.figure()\\n\\n    alloutput_cleaned.filter(variable=v).lineplot(\\n        hue=\\\"variable\\\", estimator=None, units=\\\"scenario\\\", legend=False\\n    )\";\n",
       "                var nbb_cells = Jupyter.notebook.get_cells();\n",
       "                for (var i = 0; i < nbb_cells.length; ++i) {\n",
       "                    if (nbb_cells[i].input_prompt_number == nbb_cell_id) {\n",
       "                        if (nbb_cells[i].get_text() == nbb_unformatted_code) {\n",
       "                             nbb_cells[i].set_text(nbb_formatted_code);\n",
       "                        }\n",
       "                        break;\n",
       "                    }\n",
       "                }\n",
       "            }, 500);\n",
       "            "
      ],
      "text/plain": [
       "<IPython.core.display.Javascript object>"
      ]
     },
     "metadata": {},
     "output_type": "display_data"
    }
   ],
   "source": [
    "for v in [\"Surface Temperature (GSAT)|MAGICCv7.5.3|50.0th Percentile\"]:\n",
    "    plt.figure()\n",
    "\n",
    "    alloutput_cleaned.filter(variable=v).lineplot(\n",
    "        hue=\"variable\", estimator=None, units=\"scenario\", legend=False\n",
    "    )"
   ]
  },
  {
   "cell_type": "code",
   "execution_count": 24,
   "id": "b61f74ff",
   "metadata": {},
   "outputs": [
    {
     "data": {
      "application/javascript": [
       "\n",
       "            setTimeout(function() {\n",
       "                var nbb_cell_id = 24;\n",
       "                var nbb_unformatted_code = \"# alloutput_cleaned.filter(\\n#     pathway_id=\\\"2021-11-09_1\\\",\\n#     variable=\\\"Surface Temperature (GSAT)|MAGICCv7.5.3|50.0th Percentile\\\",\\n# ).lineplot()\";\n",
       "                var nbb_formatted_code = \"# alloutput_cleaned.filter(\\n#     pathway_id=\\\"2021-11-09_1\\\",\\n#     variable=\\\"Surface Temperature (GSAT)|MAGICCv7.5.3|50.0th Percentile\\\",\\n# ).lineplot()\";\n",
       "                var nbb_cells = Jupyter.notebook.get_cells();\n",
       "                for (var i = 0; i < nbb_cells.length; ++i) {\n",
       "                    if (nbb_cells[i].input_prompt_number == nbb_cell_id) {\n",
       "                        if (nbb_cells[i].get_text() == nbb_unformatted_code) {\n",
       "                             nbb_cells[i].set_text(nbb_formatted_code);\n",
       "                        }\n",
       "                        break;\n",
       "                    }\n",
       "                }\n",
       "            }, 500);\n",
       "            "
      ],
      "text/plain": [
       "<IPython.core.display.Javascript object>"
      ]
     },
     "metadata": {},
     "output_type": "display_data"
    }
   ],
   "source": [
    "# alloutput_cleaned.filter(\n",
    "#     pathway_id=\"2021-11-09_1\",\n",
    "#     variable=\"Surface Temperature (GSAT)|MAGICCv7.5.3|50.0th Percentile\",\n",
    "# ).lineplot()"
   ]
  },
  {
   "cell_type": "code",
   "execution_count": null,
   "id": "dcfdffcc",
   "metadata": {},
   "outputs": [],
   "source": []
  }
 ],
 "metadata": {
  "kernelspec": {
   "display_name": "Python 3 (ipykernel)",
   "language": "python",
   "name": "python3"
  },
  "language_info": {
   "codemirror_mode": {
    "name": "ipython",
    "version": 3
   },
   "file_extension": ".py",
   "mimetype": "text/x-python",
   "name": "python",
   "nbconvert_exporter": "python",
   "pygments_lexer": "ipython3",
   "version": "3.9.9"
  }
 },
 "nbformat": 4,
 "nbformat_minor": 5
}