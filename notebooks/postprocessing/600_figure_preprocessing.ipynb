{
 "cells": [
  {
   "cell_type": "markdown",
   "id": "97597e42",
   "metadata": {},
   "source": [
    "# Generate figures for the paper\n",
    "\n",
    " \n",
    "### Figure 1 \n",
    "2015-2021(unconditional and conditional)\n",
    "y axis (peak warming, eoc warming, difference of ghg emissions between 2025-2030, cum co2 (2020-2030, 2020-2050))\n",
    "x axis (pathway date)\n",
    "\n",
    "### Figure 2\n",
    "Trajectories of latest pledges (conditional and unconditional)\n",
    "bar chart with peak temps to compare sensisitivity cases vs the default\n",
    "\n",
    "### Figure 3 (MM)\n",
    "2030 GAPS \n",
    "2030 per capita emission\n",
    "\n",
    "SR1.5 filtering? "
   ]
  },
  {
   "cell_type": "code",
   "execution_count": 25,
   "id": "0edaf76c",
   "metadata": {},
   "outputs": [
    {
     "name": "stdout",
     "output_type": "stream",
     "text": [
      "The nb_black extension is already loaded. To reload it, use:\n",
      "  %reload_ext nb_black\n"
     ]
    },
    {
     "data": {
      "application/javascript": [
       "\n",
       "            setTimeout(function() {\n",
       "                var nbb_cell_id = 25;\n",
       "                var nbb_unformatted_code = \"%load_ext nb_black\";\n",
       "                var nbb_formatted_code = \"%load_ext nb_black\";\n",
       "                var nbb_cells = Jupyter.notebook.get_cells();\n",
       "                for (var i = 0; i < nbb_cells.length; ++i) {\n",
       "                    if (nbb_cells[i].input_prompt_number == nbb_cell_id) {\n",
       "                        if (nbb_cells[i].get_text() == nbb_unformatted_code) {\n",
       "                             nbb_cells[i].set_text(nbb_formatted_code);\n",
       "                        }\n",
       "                        break;\n",
       "                    }\n",
       "                }\n",
       "            }, 500);\n",
       "            "
      ],
      "text/plain": [
       "<IPython.core.display.Javascript object>"
      ]
     },
     "metadata": {},
     "output_type": "display_data"
    }
   ],
   "source": [
    "%load_ext nb_black"
   ]
  },
  {
   "cell_type": "code",
   "execution_count": 26,
   "id": "e942109f",
   "metadata": {},
   "outputs": [
    {
     "name": "stdout",
     "output_type": "stream",
     "text": [
      "The autoreload extension is already loaded. To reload it, use:\n",
      "  %reload_ext autoreload\n"
     ]
    },
    {
     "data": {
      "application/javascript": [
       "\n",
       "            setTimeout(function() {\n",
       "                var nbb_cell_id = 26;\n",
       "                var nbb_unformatted_code = \"%load_ext autoreload\\n%autoreload 2\";\n",
       "                var nbb_formatted_code = \"%load_ext autoreload\\n%autoreload 2\";\n",
       "                var nbb_cells = Jupyter.notebook.get_cells();\n",
       "                for (var i = 0; i < nbb_cells.length; ++i) {\n",
       "                    if (nbb_cells[i].input_prompt_number == nbb_cell_id) {\n",
       "                        if (nbb_cells[i].get_text() == nbb_unformatted_code) {\n",
       "                             nbb_cells[i].set_text(nbb_formatted_code);\n",
       "                        }\n",
       "                        break;\n",
       "                    }\n",
       "                }\n",
       "            }, 500);\n",
       "            "
      ],
      "text/plain": [
       "<IPython.core.display.Javascript object>"
      ]
     },
     "metadata": {},
     "output_type": "display_data"
    }
   ],
   "source": [
    "%load_ext autoreload\n",
    "%autoreload 2"
   ]
  },
  {
   "cell_type": "code",
   "execution_count": 27,
   "id": "08c35492",
   "metadata": {},
   "outputs": [
    {
     "data": {
      "application/javascript": [
       "\n",
       "            setTimeout(function() {\n",
       "                var nbb_cell_id = 27;\n",
       "                var nbb_unformatted_code = \"import datetime as dt\\nimport logging\\nimport os.path\\nfrom glob import glob\\nfrom tqdm.auto import tqdm\\n\\nimport matplotlib.pyplot as plt\\nimport numpy as np\\nimport pandas as pd\\nimport scmdata\\nimport seaborn as sns\\n\\nfrom src.constants import PROCESSED_DATA_DIR, NDC_TARGET_RELEASE\";\n",
       "                var nbb_formatted_code = \"import datetime as dt\\nimport logging\\nimport os.path\\nfrom glob import glob\\nfrom tqdm.auto import tqdm\\n\\nimport matplotlib.pyplot as plt\\nimport numpy as np\\nimport pandas as pd\\nimport scmdata\\nimport seaborn as sns\\n\\nfrom src.constants import PROCESSED_DATA_DIR, NDC_TARGET_RELEASE\";\n",
       "                var nbb_cells = Jupyter.notebook.get_cells();\n",
       "                for (var i = 0; i < nbb_cells.length; ++i) {\n",
       "                    if (nbb_cells[i].input_prompt_number == nbb_cell_id) {\n",
       "                        if (nbb_cells[i].get_text() == nbb_unformatted_code) {\n",
       "                             nbb_cells[i].set_text(nbb_formatted_code);\n",
       "                        }\n",
       "                        break;\n",
       "                    }\n",
       "                }\n",
       "            }, 500);\n",
       "            "
      ],
      "text/plain": [
       "<IPython.core.display.Javascript object>"
      ]
     },
     "metadata": {},
     "output_type": "display_data"
    }
   ],
   "source": [
    "import datetime as dt\n",
    "import logging\n",
    "import os.path\n",
    "from glob import glob\n",
    "from tqdm.auto import tqdm\n",
    "\n",
    "import matplotlib.pyplot as plt\n",
    "import numpy as np\n",
    "import pandas as pd\n",
    "import scmdata\n",
    "import seaborn as sns\n",
    "\n",
    "from src.constants import PROCESSED_DATA_DIR, NDC_TARGET_RELEASE"
   ]
  },
  {
   "cell_type": "code",
   "execution_count": 28,
   "id": "7f4af5df",
   "metadata": {},
   "outputs": [
    {
     "data": {
      "application/javascript": [
       "\n",
       "            setTimeout(function() {\n",
       "                var nbb_cell_id = 28;\n",
       "                var nbb_unformatted_code = \"plt.rcParams[\\\"figure.figsize\\\"] = (12, 8)\";\n",
       "                var nbb_formatted_code = \"plt.rcParams[\\\"figure.figsize\\\"] = (12, 8)\";\n",
       "                var nbb_cells = Jupyter.notebook.get_cells();\n",
       "                for (var i = 0; i < nbb_cells.length; ++i) {\n",
       "                    if (nbb_cells[i].input_prompt_number == nbb_cell_id) {\n",
       "                        if (nbb_cells[i].get_text() == nbb_unformatted_code) {\n",
       "                             nbb_cells[i].set_text(nbb_formatted_code);\n",
       "                        }\n",
       "                        break;\n",
       "                    }\n",
       "                }\n",
       "            }, 500);\n",
       "            "
      ],
      "text/plain": [
       "<IPython.core.display.Javascript object>"
      ]
     },
     "metadata": {},
     "output_type": "display_data"
    }
   ],
   "source": [
    "plt.rcParams[\"figure.figsize\"] = (12, 8)"
   ]
  },
  {
   "cell_type": "code",
   "execution_count": null,
   "id": "59da96bb",
   "metadata": {},
   "outputs": [],
   "source": []
  },
  {
   "cell_type": "code",
   "execution_count": 29,
   "id": "a22a1d22",
   "metadata": {},
   "outputs": [
    {
     "data": {
      "application/javascript": [
       "\n",
       "            setTimeout(function() {\n",
       "                var nbb_cell_id = 29;\n",
       "                var nbb_unformatted_code = \"CLIMATE_ASSESSMENT_ID = \\\"20211125-ndc-methanePledges\\\"\\nFNAME = f\\\"output_{NDC_TARGET_RELEASE}_methanePledges.csv\\\"\";\n",
       "                var nbb_formatted_code = \"CLIMATE_ASSESSMENT_ID = \\\"20211125-ndc-methanePledges\\\"\\nFNAME = f\\\"output_{NDC_TARGET_RELEASE}_methanePledges.csv\\\"\";\n",
       "                var nbb_cells = Jupyter.notebook.get_cells();\n",
       "                for (var i = 0; i < nbb_cells.length; ++i) {\n",
       "                    if (nbb_cells[i].input_prompt_number == nbb_cell_id) {\n",
       "                        if (nbb_cells[i].get_text() == nbb_unformatted_code) {\n",
       "                             nbb_cells[i].set_text(nbb_formatted_code);\n",
       "                        }\n",
       "                        break;\n",
       "                    }\n",
       "                }\n",
       "            }, 500);\n",
       "            "
      ],
      "text/plain": [
       "<IPython.core.display.Javascript object>"
      ]
     },
     "metadata": {},
     "output_type": "display_data"
    }
   ],
   "source": [
    "CLIMATE_ASSESSMENT_ID = \"20211125-ndc-methanePledges\"\n",
    "FNAME = f\"output_{NDC_TARGET_RELEASE}_methanePledges.csv\""
   ]
  },
  {
   "cell_type": "code",
   "execution_count": 30,
   "id": "348e8a5f",
   "metadata": {},
   "outputs": [
    {
     "data": {
      "application/javascript": [
       "\n",
       "            setTimeout(function() {\n",
       "                var nbb_cell_id = 30;\n",
       "                var nbb_unformatted_code = \"DATA_DIR = os.path.join(PROCESSED_DATA_DIR, \\\"climate_assessment\\\", CLIMATE_ASSESSMENT_ID)\";\n",
       "                var nbb_formatted_code = \"DATA_DIR = os.path.join(PROCESSED_DATA_DIR, \\\"climate_assessment\\\", CLIMATE_ASSESSMENT_ID)\";\n",
       "                var nbb_cells = Jupyter.notebook.get_cells();\n",
       "                for (var i = 0; i < nbb_cells.length; ++i) {\n",
       "                    if (nbb_cells[i].input_prompt_number == nbb_cell_id) {\n",
       "                        if (nbb_cells[i].get_text() == nbb_unformatted_code) {\n",
       "                             nbb_cells[i].set_text(nbb_formatted_code);\n",
       "                        }\n",
       "                        break;\n",
       "                    }\n",
       "                }\n",
       "            }, 500);\n",
       "            "
      ],
      "text/plain": [
       "<IPython.core.display.Javascript object>"
      ]
     },
     "metadata": {},
     "output_type": "display_data"
    }
   ],
   "source": [
    "DATA_DIR = os.path.join(PROCESSED_DATA_DIR, \"climate_assessment\", CLIMATE_ASSESSMENT_ID)"
   ]
  },
  {
   "cell_type": "markdown",
   "id": "f8f09038",
   "metadata": {},
   "source": [
    "# Fetch data from AWS"
   ]
  },
  {
   "cell_type": "code",
   "execution_count": 31,
   "id": "7548aa43",
   "metadata": {},
   "outputs": [
    {
     "data": {
      "application/javascript": [
       "\n",
       "            setTimeout(function() {\n",
       "                var nbb_cell_id = 31;\n",
       "                var nbb_unformatted_code = \"!aws s3 sync s3://ipcc-climate-assessment/{CLIMATE_ASSESSMENT_ID}/merged {DATA_DIR}\";\n",
       "                var nbb_formatted_code = \"!aws s3 sync s3://ipcc-climate-assessment/{CLIMATE_ASSESSMENT_ID}/merged {DATA_DIR}\";\n",
       "                var nbb_cells = Jupyter.notebook.get_cells();\n",
       "                for (var i = 0; i < nbb_cells.length; ++i) {\n",
       "                    if (nbb_cells[i].input_prompt_number == nbb_cell_id) {\n",
       "                        if (nbb_cells[i].get_text() == nbb_unformatted_code) {\n",
       "                             nbb_cells[i].set_text(nbb_formatted_code);\n",
       "                        }\n",
       "                        break;\n",
       "                    }\n",
       "                }\n",
       "            }, 500);\n",
       "            "
      ],
      "text/plain": [
       "<IPython.core.display.Javascript object>"
      ]
     },
     "metadata": {},
     "output_type": "display_data"
    }
   ],
   "source": [
    "!aws s3 sync s3://ipcc-climate-assessment/{CLIMATE_ASSESSMENT_ID}/merged {DATA_DIR}"
   ]
  },
  {
   "cell_type": "code",
   "execution_count": 32,
   "id": "90ad49c3",
   "metadata": {},
   "outputs": [
    {
     "name": "stdout",
     "output_type": "stream",
     "text": [
      "batches\t\t\t\t  emissions_batch_2_meta.xlsx\r\n",
      "data\t\t\t\t  merged\r\n",
      "emissions_batch_1_alloutput.xlsx  out\r\n",
      "emissions_batch_1_meta.xlsx\t  raw_climate_output\r\n",
      "emissions_batch_2_alloutput.xlsx  results_20211125-211305_meta.csv\r\n"
     ]
    },
    {
     "data": {
      "application/javascript": [
       "\n",
       "            setTimeout(function() {\n",
       "                var nbb_cell_id = 32;\n",
       "                var nbb_unformatted_code = \"!ls {DATA_DIR}\";\n",
       "                var nbb_formatted_code = \"!ls {DATA_DIR}\";\n",
       "                var nbb_cells = Jupyter.notebook.get_cells();\n",
       "                for (var i = 0; i < nbb_cells.length; ++i) {\n",
       "                    if (nbb_cells[i].input_prompt_number == nbb_cell_id) {\n",
       "                        if (nbb_cells[i].get_text() == nbb_unformatted_code) {\n",
       "                             nbb_cells[i].set_text(nbb_formatted_code);\n",
       "                        }\n",
       "                        break;\n",
       "                    }\n",
       "                }\n",
       "            }, 500);\n",
       "            "
      ],
      "text/plain": [
       "<IPython.core.display.Javascript object>"
      ]
     },
     "metadata": {},
     "output_type": "display_data"
    }
   ],
   "source": [
    "!ls {DATA_DIR}"
   ]
  },
  {
   "cell_type": "markdown",
   "id": "51e89582",
   "metadata": {},
   "source": [
    "## Load"
   ]
  },
  {
   "cell_type": "code",
   "execution_count": 33,
   "id": "c963477c",
   "metadata": {},
   "outputs": [
    {
     "data": {
      "text/plain": [
       "2"
      ]
     },
     "execution_count": 33,
     "metadata": {},
     "output_type": "execute_result"
    },
    {
     "data": {
      "application/javascript": [
       "\n",
       "            setTimeout(function() {\n",
       "                var nbb_cell_id = 33;\n",
       "                var nbb_unformatted_code = \"alloutput_files = sorted(glob(os.path.join(DATA_DIR, \\\"*_alloutput.xlsx\\\")))\\nlen(alloutput_files)\";\n",
       "                var nbb_formatted_code = \"alloutput_files = sorted(glob(os.path.join(DATA_DIR, \\\"*_alloutput.xlsx\\\")))\\nlen(alloutput_files)\";\n",
       "                var nbb_cells = Jupyter.notebook.get_cells();\n",
       "                for (var i = 0; i < nbb_cells.length; ++i) {\n",
       "                    if (nbb_cells[i].input_prompt_number == nbb_cell_id) {\n",
       "                        if (nbb_cells[i].get_text() == nbb_unformatted_code) {\n",
       "                             nbb_cells[i].set_text(nbb_formatted_code);\n",
       "                        }\n",
       "                        break;\n",
       "                    }\n",
       "                }\n",
       "            }, 500);\n",
       "            "
      ],
      "text/plain": [
       "<IPython.core.display.Javascript object>"
      ]
     },
     "metadata": {},
     "output_type": "display_data"
    }
   ],
   "source": [
    "alloutput_files = sorted(glob(os.path.join(DATA_DIR, \"*_alloutput.xlsx\")))\n",
    "len(alloutput_files)"
   ]
  },
  {
   "cell_type": "code",
   "execution_count": 34,
   "id": "43bf07cd",
   "metadata": {},
   "outputs": [
    {
     "data": {
      "text/plain": [
       "2"
      ]
     },
     "execution_count": 34,
     "metadata": {},
     "output_type": "execute_result"
    },
    {
     "data": {
      "application/javascript": [
       "\n",
       "            setTimeout(function() {\n",
       "                var nbb_cell_id = 34;\n",
       "                var nbb_unformatted_code = \"meta_files = sorted(glob(os.path.join(DATA_DIR, \\\"*_meta.xlsx\\\")))\\nlen(meta_files)\";\n",
       "                var nbb_formatted_code = \"meta_files = sorted(glob(os.path.join(DATA_DIR, \\\"*_meta.xlsx\\\")))\\nlen(meta_files)\";\n",
       "                var nbb_cells = Jupyter.notebook.get_cells();\n",
       "                for (var i = 0; i < nbb_cells.length; ++i) {\n",
       "                    if (nbb_cells[i].input_prompt_number == nbb_cell_id) {\n",
       "                        if (nbb_cells[i].get_text() == nbb_unformatted_code) {\n",
       "                             nbb_cells[i].set_text(nbb_formatted_code);\n",
       "                        }\n",
       "                        break;\n",
       "                    }\n",
       "                }\n",
       "            }, 500);\n",
       "            "
      ],
      "text/plain": [
       "<IPython.core.display.Javascript object>"
      ]
     },
     "metadata": {},
     "output_type": "display_data"
    }
   ],
   "source": [
    "meta_files = sorted(glob(os.path.join(DATA_DIR, \"*_meta.xlsx\")))\n",
    "len(meta_files)"
   ]
  },
  {
   "cell_type": "code",
   "execution_count": 35,
   "id": "b31ff09c",
   "metadata": {},
   "outputs": [
    {
     "data": {
      "application/javascript": [
       "\n",
       "            setTimeout(function() {\n",
       "                var nbb_cell_id = 35;\n",
       "                var nbb_unformatted_code = \"# There are a couple of files that will not exist next time\";\n",
       "                var nbb_formatted_code = \"# There are a couple of files that will not exist next time\";\n",
       "                var nbb_cells = Jupyter.notebook.get_cells();\n",
       "                for (var i = 0; i < nbb_cells.length; ++i) {\n",
       "                    if (nbb_cells[i].input_prompt_number == nbb_cell_id) {\n",
       "                        if (nbb_cells[i].get_text() == nbb_unformatted_code) {\n",
       "                             nbb_cells[i].set_text(nbb_formatted_code);\n",
       "                        }\n",
       "                        break;\n",
       "                    }\n",
       "                }\n",
       "            }, 500);\n",
       "            "
      ],
      "text/plain": [
       "<IPython.core.display.Javascript object>"
      ]
     },
     "metadata": {},
     "output_type": "display_data"
    }
   ],
   "source": [
    "# There are a couple of files that will not exist next time"
   ]
  },
  {
   "cell_type": "code",
   "execution_count": 36,
   "id": "4a7fc4db",
   "metadata": {},
   "outputs": [
    {
     "data": {
      "application/vnd.jupyter.widget-view+json": {
       "model_id": "3e348b93279a4354856e04d08755c696",
       "version_major": 2,
       "version_minor": 0
      },
      "text/plain": [
       "  0%|          | 0/2 [00:00<?, ?it/s]"
      ]
     },
     "metadata": {},
     "output_type": "display_data"
    },
    {
     "data": {
      "application/javascript": [
       "\n",
       "            setTimeout(function() {\n",
       "                var nbb_cell_id = 36;\n",
       "                var nbb_unformatted_code = \"all_files = []\\n\\nfor f in tqdm(meta_files):\\n    df = pd.read_excel(f)\\n    df[\\\"file\\\"] = f\\n    all_files.append(df)\\n    \\nall_meta = pd.concat(all_files)\";\n",
       "                var nbb_formatted_code = \"all_files = []\\n\\nfor f in tqdm(meta_files):\\n    df = pd.read_excel(f)\\n    df[\\\"file\\\"] = f\\n    all_files.append(df)\\n\\nall_meta = pd.concat(all_files)\";\n",
       "                var nbb_cells = Jupyter.notebook.get_cells();\n",
       "                for (var i = 0; i < nbb_cells.length; ++i) {\n",
       "                    if (nbb_cells[i].input_prompt_number == nbb_cell_id) {\n",
       "                        if (nbb_cells[i].get_text() == nbb_unformatted_code) {\n",
       "                             nbb_cells[i].set_text(nbb_formatted_code);\n",
       "                        }\n",
       "                        break;\n",
       "                    }\n",
       "                }\n",
       "            }, 500);\n",
       "            "
      ],
      "text/plain": [
       "<IPython.core.display.Javascript object>"
      ]
     },
     "metadata": {},
     "output_type": "display_data"
    }
   ],
   "source": [
    "all_files = []\n",
    "\n",
    "for f in tqdm(meta_files):\n",
    "    df = pd.read_excel(f)\n",
    "    df[\"file\"] = f\n",
    "    all_files.append(df)\n",
    "    \n",
    "all_meta = pd.concat(all_files)\n"
   ]
  },
  {
   "cell_type": "code",
   "execution_count": 37,
   "id": "2fc777c3",
   "metadata": {},
   "outputs": [
    {
     "data": {
      "text/plain": [
       "array([], dtype=object)"
      ]
     },
     "execution_count": 37,
     "metadata": {},
     "output_type": "execute_result"
    },
    {
     "data": {
      "application/javascript": [
       "\n",
       "            setTimeout(function() {\n",
       "                var nbb_cell_id = 37;\n",
       "                var nbb_unformatted_code = \"all_meta[all_meta.duplicated(\\\"scenario\\\", False)][[\\\"scenario\\\", \\\"file\\\"]][\\\"file\\\"].unique()\";\n",
       "                var nbb_formatted_code = \"all_meta[all_meta.duplicated(\\\"scenario\\\", False)][[\\\"scenario\\\", \\\"file\\\"]][\\\"file\\\"].unique()\";\n",
       "                var nbb_cells = Jupyter.notebook.get_cells();\n",
       "                for (var i = 0; i < nbb_cells.length; ++i) {\n",
       "                    if (nbb_cells[i].input_prompt_number == nbb_cell_id) {\n",
       "                        if (nbb_cells[i].get_text() == nbb_unformatted_code) {\n",
       "                             nbb_cells[i].set_text(nbb_formatted_code);\n",
       "                        }\n",
       "                        break;\n",
       "                    }\n",
       "                }\n",
       "            }, 500);\n",
       "            "
      ],
      "text/plain": [
       "<IPython.core.display.Javascript object>"
      ]
     },
     "metadata": {},
     "output_type": "display_data"
    }
   ],
   "source": [
    "all_meta[all_meta.duplicated(\"scenario\", False)][[\"scenario\", \"file\"]][\"file\"].unique()"
   ]
  },
  {
   "cell_type": "code",
   "execution_count": 38,
   "id": "4e7c8012",
   "metadata": {},
   "outputs": [
    {
     "data": {
      "application/javascript": [
       "\n",
       "            setTimeout(function() {\n",
       "                var nbb_cell_id = 38;\n",
       "                var nbb_unformatted_code = \"alloutput_files = [alloutput_files[i] for i in range(len(alloutput_files))]\";\n",
       "                var nbb_formatted_code = \"alloutput_files = [alloutput_files[i] for i in range(len(alloutput_files))]\";\n",
       "                var nbb_cells = Jupyter.notebook.get_cells();\n",
       "                for (var i = 0; i < nbb_cells.length; ++i) {\n",
       "                    if (nbb_cells[i].input_prompt_number == nbb_cell_id) {\n",
       "                        if (nbb_cells[i].get_text() == nbb_unformatted_code) {\n",
       "                             nbb_cells[i].set_text(nbb_formatted_code);\n",
       "                        }\n",
       "                        break;\n",
       "                    }\n",
       "                }\n",
       "            }, 500);\n",
       "            "
      ],
      "text/plain": [
       "<IPython.core.display.Javascript object>"
      ]
     },
     "metadata": {},
     "output_type": "display_data"
    }
   ],
   "source": [
    "alloutput_files = [alloutput_files[i] for i in range(len(alloutput_files))]"
   ]
  },
  {
   "cell_type": "code",
   "execution_count": 39,
   "id": "acee6155",
   "metadata": {},
   "outputs": [
    {
     "data": {
      "text/plain": [
       "2"
      ]
     },
     "execution_count": 39,
     "metadata": {},
     "output_type": "execute_result"
    },
    {
     "data": {
      "application/javascript": [
       "\n",
       "            setTimeout(function() {\n",
       "                var nbb_cell_id = 39;\n",
       "                var nbb_unformatted_code = \"len(alloutput_files)\";\n",
       "                var nbb_formatted_code = \"len(alloutput_files)\";\n",
       "                var nbb_cells = Jupyter.notebook.get_cells();\n",
       "                for (var i = 0; i < nbb_cells.length; ++i) {\n",
       "                    if (nbb_cells[i].input_prompt_number == nbb_cell_id) {\n",
       "                        if (nbb_cells[i].get_text() == nbb_unformatted_code) {\n",
       "                             nbb_cells[i].set_text(nbb_formatted_code);\n",
       "                        }\n",
       "                        break;\n",
       "                    }\n",
       "                }\n",
       "            }, 500);\n",
       "            "
      ],
      "text/plain": [
       "<IPython.core.display.Javascript object>"
      ]
     },
     "metadata": {},
     "output_type": "display_data"
    }
   ],
   "source": [
    "len(alloutput_files)"
   ]
  },
  {
   "cell_type": "code",
   "execution_count": 40,
   "id": "ba4fdf21",
   "metadata": {},
   "outputs": [
    {
     "data": {
      "application/vnd.jupyter.widget-view+json": {
       "model_id": "643c8a37309940f79d5183b9e37cc870",
       "version_major": 2,
       "version_minor": 0
      },
      "text/plain": [
       "  0%|          | 0/2 [00:00<?, ?it/s]"
      ]
     },
     "metadata": {},
     "output_type": "display_data"
    },
    {
     "data": {
      "application/javascript": [
       "\n",
       "            setTimeout(function() {\n",
       "                var nbb_cell_id = 40;\n",
       "                var nbb_unformatted_code = \"alloutput_merged = scmdata.run_append(\\n    [scmdata.ScmRun(f, lowercase_cols=True) for f in tqdm(alloutput_files)]\\n)\";\n",
       "                var nbb_formatted_code = \"alloutput_merged = scmdata.run_append(\\n    [scmdata.ScmRun(f, lowercase_cols=True) for f in tqdm(alloutput_files)]\\n)\";\n",
       "                var nbb_cells = Jupyter.notebook.get_cells();\n",
       "                for (var i = 0; i < nbb_cells.length; ++i) {\n",
       "                    if (nbb_cells[i].input_prompt_number == nbb_cell_id) {\n",
       "                        if (nbb_cells[i].get_text() == nbb_unformatted_code) {\n",
       "                             nbb_cells[i].set_text(nbb_formatted_code);\n",
       "                        }\n",
       "                        break;\n",
       "                    }\n",
       "                }\n",
       "            }, 500);\n",
       "            "
      ],
      "text/plain": [
       "<IPython.core.display.Javascript object>"
      ]
     },
     "metadata": {},
     "output_type": "display_data"
    }
   ],
   "source": [
    "alloutput_merged = scmdata.run_append(\n",
    "    [scmdata.ScmRun(f, lowercase_cols=True) for f in tqdm(alloutput_files)]\n",
    ")"
   ]
  },
  {
   "cell_type": "code",
   "execution_count": 41,
   "id": "8b7590d2",
   "metadata": {},
   "outputs": [
    {
     "data": {
      "text/html": [
       "<div>\n",
       "<style scoped>\n",
       "    .dataframe tbody tr th:only-of-type {\n",
       "        vertical-align: middle;\n",
       "    }\n",
       "\n",
       "    .dataframe tbody tr th {\n",
       "        vertical-align: top;\n",
       "    }\n",
       "\n",
       "    .dataframe thead th {\n",
       "        text-align: right;\n",
       "    }\n",
       "</style>\n",
       "<table border=\"1\" class=\"dataframe\">\n",
       "  <thead>\n",
       "    <tr style=\"text-align: right;\">\n",
       "      <th></th>\n",
       "      <th></th>\n",
       "      <th></th>\n",
       "      <th></th>\n",
       "      <th>time</th>\n",
       "      <th>1995-01-01</th>\n",
       "      <th>1996-01-01</th>\n",
       "      <th>1997-01-01</th>\n",
       "      <th>1998-01-01</th>\n",
       "      <th>1999-01-01</th>\n",
       "      <th>2000-01-01</th>\n",
       "      <th>2001-01-01</th>\n",
       "      <th>2002-01-01</th>\n",
       "      <th>2003-01-01</th>\n",
       "      <th>2004-01-01</th>\n",
       "      <th>...</th>\n",
       "      <th>2091-01-01</th>\n",
       "      <th>2092-01-01</th>\n",
       "      <th>2093-01-01</th>\n",
       "      <th>2094-01-01</th>\n",
       "      <th>2095-01-01</th>\n",
       "      <th>2096-01-01</th>\n",
       "      <th>2097-01-01</th>\n",
       "      <th>2098-01-01</th>\n",
       "      <th>2099-01-01</th>\n",
       "      <th>2100-01-01</th>\n",
       "    </tr>\n",
       "    <tr>\n",
       "      <th>model</th>\n",
       "      <th>region</th>\n",
       "      <th>scenario</th>\n",
       "      <th>unit</th>\n",
       "      <th>variable</th>\n",
       "      <th></th>\n",
       "      <th></th>\n",
       "      <th></th>\n",
       "      <th></th>\n",
       "      <th></th>\n",
       "      <th></th>\n",
       "      <th></th>\n",
       "      <th></th>\n",
       "      <th></th>\n",
       "      <th></th>\n",
       "      <th></th>\n",
       "      <th></th>\n",
       "      <th></th>\n",
       "      <th></th>\n",
       "      <th></th>\n",
       "      <th></th>\n",
       "      <th></th>\n",
       "      <th></th>\n",
       "      <th></th>\n",
       "      <th></th>\n",
       "      <th></th>\n",
       "    </tr>\n",
       "  </thead>\n",
       "  <tbody>\n",
       "    <tr>\n",
       "      <th rowspan=\"5\" valign=\"top\">NDC Factsheet</th>\n",
       "      <th rowspan=\"5\" valign=\"top\">World</th>\n",
       "      <th rowspan=\"5\" valign=\"top\">2021-11-03_1__high__C__SSP1BL__exclude__conditionalCH4</th>\n",
       "      <th rowspan=\"5\" valign=\"top\">ppb</th>\n",
       "      <th>AR6 climate diagnostics|Atmospheric Concentrations|CH4|MAGICCv7.5.3|10.0th Percentile</th>\n",
       "      <td>1755.23</td>\n",
       "      <td>1757.19</td>\n",
       "      <td>1761.5</td>\n",
       "      <td>1770.29</td>\n",
       "      <td>1778.2</td>\n",
       "      <td>1778.01</td>\n",
       "      <td>1776.53</td>\n",
       "      <td>1778.96</td>\n",
       "      <td>1783.59</td>\n",
       "      <td>1784.23</td>\n",
       "      <td>...</td>\n",
       "      <td>1206.855840</td>\n",
       "      <td>1202.499802</td>\n",
       "      <td>1198.096267</td>\n",
       "      <td>1193.665633</td>\n",
       "      <td>1189.171903</td>\n",
       "      <td>1184.674700</td>\n",
       "      <td>1180.351189</td>\n",
       "      <td>1176.148786</td>\n",
       "      <td>1172.055625</td>\n",
       "      <td>1168.051342</td>\n",
       "    </tr>\n",
       "    <tr>\n",
       "      <th>AR6 climate diagnostics|Atmospheric Concentrations|CH4|MAGICCv7.5.3|16.7th Percentile</th>\n",
       "      <td>1755.23</td>\n",
       "      <td>1757.19</td>\n",
       "      <td>1761.5</td>\n",
       "      <td>1770.29</td>\n",
       "      <td>1778.2</td>\n",
       "      <td>1778.01</td>\n",
       "      <td>1776.53</td>\n",
       "      <td>1778.96</td>\n",
       "      <td>1783.59</td>\n",
       "      <td>1784.23</td>\n",
       "      <td>...</td>\n",
       "      <td>1219.024873</td>\n",
       "      <td>1214.719879</td>\n",
       "      <td>1210.337634</td>\n",
       "      <td>1206.014778</td>\n",
       "      <td>1201.565827</td>\n",
       "      <td>1197.044400</td>\n",
       "      <td>1192.657163</td>\n",
       "      <td>1188.411628</td>\n",
       "      <td>1184.316224</td>\n",
       "      <td>1180.326230</td>\n",
       "    </tr>\n",
       "    <tr>\n",
       "      <th>AR6 climate diagnostics|Atmospheric Concentrations|CH4|MAGICCv7.5.3|33.0th Percentile</th>\n",
       "      <td>1755.23</td>\n",
       "      <td>1757.19</td>\n",
       "      <td>1761.5</td>\n",
       "      <td>1770.29</td>\n",
       "      <td>1778.2</td>\n",
       "      <td>1778.01</td>\n",
       "      <td>1776.53</td>\n",
       "      <td>1778.96</td>\n",
       "      <td>1783.59</td>\n",
       "      <td>1784.23</td>\n",
       "      <td>...</td>\n",
       "      <td>1236.042186</td>\n",
       "      <td>1231.724913</td>\n",
       "      <td>1227.440325</td>\n",
       "      <td>1223.017858</td>\n",
       "      <td>1218.603036</td>\n",
       "      <td>1214.114121</td>\n",
       "      <td>1209.782317</td>\n",
       "      <td>1205.564441</td>\n",
       "      <td>1201.449882</td>\n",
       "      <td>1197.527583</td>\n",
       "    </tr>\n",
       "    <tr>\n",
       "      <th>AR6 climate diagnostics|Atmospheric Concentrations|CH4|MAGICCv7.5.3|5.0th Percentile</th>\n",
       "      <td>1755.23</td>\n",
       "      <td>1757.19</td>\n",
       "      <td>1761.5</td>\n",
       "      <td>1770.29</td>\n",
       "      <td>1778.2</td>\n",
       "      <td>1778.01</td>\n",
       "      <td>1776.53</td>\n",
       "      <td>1778.96</td>\n",
       "      <td>1783.59</td>\n",
       "      <td>1784.23</td>\n",
       "      <td>...</td>\n",
       "      <td>1192.736687</td>\n",
       "      <td>1188.464687</td>\n",
       "      <td>1184.118215</td>\n",
       "      <td>1179.715199</td>\n",
       "      <td>1175.283340</td>\n",
       "      <td>1170.836024</td>\n",
       "      <td>1166.521012</td>\n",
       "      <td>1162.324943</td>\n",
       "      <td>1158.234933</td>\n",
       "      <td>1154.231570</td>\n",
       "    </tr>\n",
       "    <tr>\n",
       "      <th>AR6 climate diagnostics|Atmospheric Concentrations|CH4|MAGICCv7.5.3|50.0th Percentile</th>\n",
       "      <td>1755.23</td>\n",
       "      <td>1757.19</td>\n",
       "      <td>1761.5</td>\n",
       "      <td>1770.29</td>\n",
       "      <td>1778.2</td>\n",
       "      <td>1778.01</td>\n",
       "      <td>1776.53</td>\n",
       "      <td>1778.96</td>\n",
       "      <td>1783.59</td>\n",
       "      <td>1784.23</td>\n",
       "      <td>...</td>\n",
       "      <td>1250.093622</td>\n",
       "      <td>1245.958187</td>\n",
       "      <td>1241.606104</td>\n",
       "      <td>1237.262871</td>\n",
       "      <td>1232.907891</td>\n",
       "      <td>1228.528581</td>\n",
       "      <td>1224.232512</td>\n",
       "      <td>1220.028274</td>\n",
       "      <td>1215.965080</td>\n",
       "      <td>1211.956162</td>\n",
       "    </tr>\n",
       "  </tbody>\n",
       "</table>\n",
       "<p>5 rows × 106 columns</p>\n",
       "</div>"
      ],
      "text/plain": [
       "time                                                                                                                             1995-01-01  \\\n",
       "model         region scenario                                           unit variable                                                         \n",
       "NDC Factsheet World  2021-11-03_1__high__C__SSP1BL__exclude__conditi... ppb  AR6 climate diagnostics|Atmospheric Concentrati...     1755.23   \n",
       "                                                                             AR6 climate diagnostics|Atmospheric Concentrati...     1755.23   \n",
       "                                                                             AR6 climate diagnostics|Atmospheric Concentrati...     1755.23   \n",
       "                                                                             AR6 climate diagnostics|Atmospheric Concentrati...     1755.23   \n",
       "                                                                             AR6 climate diagnostics|Atmospheric Concentrati...     1755.23   \n",
       "\n",
       "time                                                                                                                             1996-01-01  \\\n",
       "model         region scenario                                           unit variable                                                         \n",
       "NDC Factsheet World  2021-11-03_1__high__C__SSP1BL__exclude__conditi... ppb  AR6 climate diagnostics|Atmospheric Concentrati...     1757.19   \n",
       "                                                                             AR6 climate diagnostics|Atmospheric Concentrati...     1757.19   \n",
       "                                                                             AR6 climate diagnostics|Atmospheric Concentrati...     1757.19   \n",
       "                                                                             AR6 climate diagnostics|Atmospheric Concentrati...     1757.19   \n",
       "                                                                             AR6 climate diagnostics|Atmospheric Concentrati...     1757.19   \n",
       "\n",
       "time                                                                                                                             1997-01-01  \\\n",
       "model         region scenario                                           unit variable                                                         \n",
       "NDC Factsheet World  2021-11-03_1__high__C__SSP1BL__exclude__conditi... ppb  AR6 climate diagnostics|Atmospheric Concentrati...      1761.5   \n",
       "                                                                             AR6 climate diagnostics|Atmospheric Concentrati...      1761.5   \n",
       "                                                                             AR6 climate diagnostics|Atmospheric Concentrati...      1761.5   \n",
       "                                                                             AR6 climate diagnostics|Atmospheric Concentrati...      1761.5   \n",
       "                                                                             AR6 climate diagnostics|Atmospheric Concentrati...      1761.5   \n",
       "\n",
       "time                                                                                                                             1998-01-01  \\\n",
       "model         region scenario                                           unit variable                                                         \n",
       "NDC Factsheet World  2021-11-03_1__high__C__SSP1BL__exclude__conditi... ppb  AR6 climate diagnostics|Atmospheric Concentrati...     1770.29   \n",
       "                                                                             AR6 climate diagnostics|Atmospheric Concentrati...     1770.29   \n",
       "                                                                             AR6 climate diagnostics|Atmospheric Concentrati...     1770.29   \n",
       "                                                                             AR6 climate diagnostics|Atmospheric Concentrati...     1770.29   \n",
       "                                                                             AR6 climate diagnostics|Atmospheric Concentrati...     1770.29   \n",
       "\n",
       "time                                                                                                                             1999-01-01  \\\n",
       "model         region scenario                                           unit variable                                                         \n",
       "NDC Factsheet World  2021-11-03_1__high__C__SSP1BL__exclude__conditi... ppb  AR6 climate diagnostics|Atmospheric Concentrati...      1778.2   \n",
       "                                                                             AR6 climate diagnostics|Atmospheric Concentrati...      1778.2   \n",
       "                                                                             AR6 climate diagnostics|Atmospheric Concentrati...      1778.2   \n",
       "                                                                             AR6 climate diagnostics|Atmospheric Concentrati...      1778.2   \n",
       "                                                                             AR6 climate diagnostics|Atmospheric Concentrati...      1778.2   \n",
       "\n",
       "time                                                                                                                             2000-01-01  \\\n",
       "model         region scenario                                           unit variable                                                         \n",
       "NDC Factsheet World  2021-11-03_1__high__C__SSP1BL__exclude__conditi... ppb  AR6 climate diagnostics|Atmospheric Concentrati...     1778.01   \n",
       "                                                                             AR6 climate diagnostics|Atmospheric Concentrati...     1778.01   \n",
       "                                                                             AR6 climate diagnostics|Atmospheric Concentrati...     1778.01   \n",
       "                                                                             AR6 climate diagnostics|Atmospheric Concentrati...     1778.01   \n",
       "                                                                             AR6 climate diagnostics|Atmospheric Concentrati...     1778.01   \n",
       "\n",
       "time                                                                                                                             2001-01-01  \\\n",
       "model         region scenario                                           unit variable                                                         \n",
       "NDC Factsheet World  2021-11-03_1__high__C__SSP1BL__exclude__conditi... ppb  AR6 climate diagnostics|Atmospheric Concentrati...     1776.53   \n",
       "                                                                             AR6 climate diagnostics|Atmospheric Concentrati...     1776.53   \n",
       "                                                                             AR6 climate diagnostics|Atmospheric Concentrati...     1776.53   \n",
       "                                                                             AR6 climate diagnostics|Atmospheric Concentrati...     1776.53   \n",
       "                                                                             AR6 climate diagnostics|Atmospheric Concentrati...     1776.53   \n",
       "\n",
       "time                                                                                                                             2002-01-01  \\\n",
       "model         region scenario                                           unit variable                                                         \n",
       "NDC Factsheet World  2021-11-03_1__high__C__SSP1BL__exclude__conditi... ppb  AR6 climate diagnostics|Atmospheric Concentrati...     1778.96   \n",
       "                                                                             AR6 climate diagnostics|Atmospheric Concentrati...     1778.96   \n",
       "                                                                             AR6 climate diagnostics|Atmospheric Concentrati...     1778.96   \n",
       "                                                                             AR6 climate diagnostics|Atmospheric Concentrati...     1778.96   \n",
       "                                                                             AR6 climate diagnostics|Atmospheric Concentrati...     1778.96   \n",
       "\n",
       "time                                                                                                                             2003-01-01  \\\n",
       "model         region scenario                                           unit variable                                                         \n",
       "NDC Factsheet World  2021-11-03_1__high__C__SSP1BL__exclude__conditi... ppb  AR6 climate diagnostics|Atmospheric Concentrati...     1783.59   \n",
       "                                                                             AR6 climate diagnostics|Atmospheric Concentrati...     1783.59   \n",
       "                                                                             AR6 climate diagnostics|Atmospheric Concentrati...     1783.59   \n",
       "                                                                             AR6 climate diagnostics|Atmospheric Concentrati...     1783.59   \n",
       "                                                                             AR6 climate diagnostics|Atmospheric Concentrati...     1783.59   \n",
       "\n",
       "time                                                                                                                             2004-01-01  \\\n",
       "model         region scenario                                           unit variable                                                         \n",
       "NDC Factsheet World  2021-11-03_1__high__C__SSP1BL__exclude__conditi... ppb  AR6 climate diagnostics|Atmospheric Concentrati...     1784.23   \n",
       "                                                                             AR6 climate diagnostics|Atmospheric Concentrati...     1784.23   \n",
       "                                                                             AR6 climate diagnostics|Atmospheric Concentrati...     1784.23   \n",
       "                                                                             AR6 climate diagnostics|Atmospheric Concentrati...     1784.23   \n",
       "                                                                             AR6 climate diagnostics|Atmospheric Concentrati...     1784.23   \n",
       "\n",
       "time                                                                                                                             ...  \\\n",
       "model         region scenario                                           unit variable                                            ...   \n",
       "NDC Factsheet World  2021-11-03_1__high__C__SSP1BL__exclude__conditi... ppb  AR6 climate diagnostics|Atmospheric Concentrati...  ...   \n",
       "                                                                             AR6 climate diagnostics|Atmospheric Concentrati...  ...   \n",
       "                                                                             AR6 climate diagnostics|Atmospheric Concentrati...  ...   \n",
       "                                                                             AR6 climate diagnostics|Atmospheric Concentrati...  ...   \n",
       "                                                                             AR6 climate diagnostics|Atmospheric Concentrati...  ...   \n",
       "\n",
       "time                                                                                                                              2091-01-01  \\\n",
       "model         region scenario                                           unit variable                                                          \n",
       "NDC Factsheet World  2021-11-03_1__high__C__SSP1BL__exclude__conditi... ppb  AR6 climate diagnostics|Atmospheric Concentrati...  1206.855840   \n",
       "                                                                             AR6 climate diagnostics|Atmospheric Concentrati...  1219.024873   \n",
       "                                                                             AR6 climate diagnostics|Atmospheric Concentrati...  1236.042186   \n",
       "                                                                             AR6 climate diagnostics|Atmospheric Concentrati...  1192.736687   \n",
       "                                                                             AR6 climate diagnostics|Atmospheric Concentrati...  1250.093622   \n",
       "\n",
       "time                                                                                                                              2092-01-01  \\\n",
       "model         region scenario                                           unit variable                                                          \n",
       "NDC Factsheet World  2021-11-03_1__high__C__SSP1BL__exclude__conditi... ppb  AR6 climate diagnostics|Atmospheric Concentrati...  1202.499802   \n",
       "                                                                             AR6 climate diagnostics|Atmospheric Concentrati...  1214.719879   \n",
       "                                                                             AR6 climate diagnostics|Atmospheric Concentrati...  1231.724913   \n",
       "                                                                             AR6 climate diagnostics|Atmospheric Concentrati...  1188.464687   \n",
       "                                                                             AR6 climate diagnostics|Atmospheric Concentrati...  1245.958187   \n",
       "\n",
       "time                                                                                                                              2093-01-01  \\\n",
       "model         region scenario                                           unit variable                                                          \n",
       "NDC Factsheet World  2021-11-03_1__high__C__SSP1BL__exclude__conditi... ppb  AR6 climate diagnostics|Atmospheric Concentrati...  1198.096267   \n",
       "                                                                             AR6 climate diagnostics|Atmospheric Concentrati...  1210.337634   \n",
       "                                                                             AR6 climate diagnostics|Atmospheric Concentrati...  1227.440325   \n",
       "                                                                             AR6 climate diagnostics|Atmospheric Concentrati...  1184.118215   \n",
       "                                                                             AR6 climate diagnostics|Atmospheric Concentrati...  1241.606104   \n",
       "\n",
       "time                                                                                                                              2094-01-01  \\\n",
       "model         region scenario                                           unit variable                                                          \n",
       "NDC Factsheet World  2021-11-03_1__high__C__SSP1BL__exclude__conditi... ppb  AR6 climate diagnostics|Atmospheric Concentrati...  1193.665633   \n",
       "                                                                             AR6 climate diagnostics|Atmospheric Concentrati...  1206.014778   \n",
       "                                                                             AR6 climate diagnostics|Atmospheric Concentrati...  1223.017858   \n",
       "                                                                             AR6 climate diagnostics|Atmospheric Concentrati...  1179.715199   \n",
       "                                                                             AR6 climate diagnostics|Atmospheric Concentrati...  1237.262871   \n",
       "\n",
       "time                                                                                                                              2095-01-01  \\\n",
       "model         region scenario                                           unit variable                                                          \n",
       "NDC Factsheet World  2021-11-03_1__high__C__SSP1BL__exclude__conditi... ppb  AR6 climate diagnostics|Atmospheric Concentrati...  1189.171903   \n",
       "                                                                             AR6 climate diagnostics|Atmospheric Concentrati...  1201.565827   \n",
       "                                                                             AR6 climate diagnostics|Atmospheric Concentrati...  1218.603036   \n",
       "                                                                             AR6 climate diagnostics|Atmospheric Concentrati...  1175.283340   \n",
       "                                                                             AR6 climate diagnostics|Atmospheric Concentrati...  1232.907891   \n",
       "\n",
       "time                                                                                                                              2096-01-01  \\\n",
       "model         region scenario                                           unit variable                                                          \n",
       "NDC Factsheet World  2021-11-03_1__high__C__SSP1BL__exclude__conditi... ppb  AR6 climate diagnostics|Atmospheric Concentrati...  1184.674700   \n",
       "                                                                             AR6 climate diagnostics|Atmospheric Concentrati...  1197.044400   \n",
       "                                                                             AR6 climate diagnostics|Atmospheric Concentrati...  1214.114121   \n",
       "                                                                             AR6 climate diagnostics|Atmospheric Concentrati...  1170.836024   \n",
       "                                                                             AR6 climate diagnostics|Atmospheric Concentrati...  1228.528581   \n",
       "\n",
       "time                                                                                                                              2097-01-01  \\\n",
       "model         region scenario                                           unit variable                                                          \n",
       "NDC Factsheet World  2021-11-03_1__high__C__SSP1BL__exclude__conditi... ppb  AR6 climate diagnostics|Atmospheric Concentrati...  1180.351189   \n",
       "                                                                             AR6 climate diagnostics|Atmospheric Concentrati...  1192.657163   \n",
       "                                                                             AR6 climate diagnostics|Atmospheric Concentrati...  1209.782317   \n",
       "                                                                             AR6 climate diagnostics|Atmospheric Concentrati...  1166.521012   \n",
       "                                                                             AR6 climate diagnostics|Atmospheric Concentrati...  1224.232512   \n",
       "\n",
       "time                                                                                                                              2098-01-01  \\\n",
       "model         region scenario                                           unit variable                                                          \n",
       "NDC Factsheet World  2021-11-03_1__high__C__SSP1BL__exclude__conditi... ppb  AR6 climate diagnostics|Atmospheric Concentrati...  1176.148786   \n",
       "                                                                             AR6 climate diagnostics|Atmospheric Concentrati...  1188.411628   \n",
       "                                                                             AR6 climate diagnostics|Atmospheric Concentrati...  1205.564441   \n",
       "                                                                             AR6 climate diagnostics|Atmospheric Concentrati...  1162.324943   \n",
       "                                                                             AR6 climate diagnostics|Atmospheric Concentrati...  1220.028274   \n",
       "\n",
       "time                                                                                                                              2099-01-01  \\\n",
       "model         region scenario                                           unit variable                                                          \n",
       "NDC Factsheet World  2021-11-03_1__high__C__SSP1BL__exclude__conditi... ppb  AR6 climate diagnostics|Atmospheric Concentrati...  1172.055625   \n",
       "                                                                             AR6 climate diagnostics|Atmospheric Concentrati...  1184.316224   \n",
       "                                                                             AR6 climate diagnostics|Atmospheric Concentrati...  1201.449882   \n",
       "                                                                             AR6 climate diagnostics|Atmospheric Concentrati...  1158.234933   \n",
       "                                                                             AR6 climate diagnostics|Atmospheric Concentrati...  1215.965080   \n",
       "\n",
       "time                                                                                                                              2100-01-01  \n",
       "model         region scenario                                           unit variable                                                         \n",
       "NDC Factsheet World  2021-11-03_1__high__C__SSP1BL__exclude__conditi... ppb  AR6 climate diagnostics|Atmospheric Concentrati...  1168.051342  \n",
       "                                                                             AR6 climate diagnostics|Atmospheric Concentrati...  1180.326230  \n",
       "                                                                             AR6 climate diagnostics|Atmospheric Concentrati...  1197.527583  \n",
       "                                                                             AR6 climate diagnostics|Atmospheric Concentrati...  1154.231570  \n",
       "                                                                             AR6 climate diagnostics|Atmospheric Concentrati...  1211.956162  \n",
       "\n",
       "[5 rows x 106 columns]"
      ]
     },
     "execution_count": 41,
     "metadata": {},
     "output_type": "execute_result"
    },
    {
     "data": {
      "application/javascript": [
       "\n",
       "            setTimeout(function() {\n",
       "                var nbb_cell_id = 41;\n",
       "                var nbb_unformatted_code = \"alloutput_merged.head()\";\n",
       "                var nbb_formatted_code = \"alloutput_merged.head()\";\n",
       "                var nbb_cells = Jupyter.notebook.get_cells();\n",
       "                for (var i = 0; i < nbb_cells.length; ++i) {\n",
       "                    if (nbb_cells[i].input_prompt_number == nbb_cell_id) {\n",
       "                        if (nbb_cells[i].get_text() == nbb_unformatted_code) {\n",
       "                             nbb_cells[i].set_text(nbb_formatted_code);\n",
       "                        }\n",
       "                        break;\n",
       "                    }\n",
       "                }\n",
       "            }, 500);\n",
       "            "
      ],
      "text/plain": [
       "<IPython.core.display.Javascript object>"
      ]
     },
     "metadata": {},
     "output_type": "display_data"
    }
   ],
   "source": [
    "alloutput_merged.head()"
   ]
  },
  {
   "cell_type": "code",
   "execution_count": 42,
   "id": "21860e4f",
   "metadata": {},
   "outputs": [
    {
     "data": {
      "application/javascript": [
       "\n",
       "            setTimeout(function() {\n",
       "                var nbb_cell_id = 42;\n",
       "                var nbb_unformatted_code = \"alloutput_cleaned = []\\n\\nfor s in alloutput_merged.groupby(\\\"scenario\\\"):\\n    try:\\n        (\\n            pathway_id,\\n            ambition,\\n            conditionality,\\n            extension,\\n            exclude_hot_air,\\n        ) = s.get_unique_meta(\\\"scenario\\\", True).split(\\\"__\\\")\\n        methane_pledges = \\\"\\\"\\n    except:\\n        (\\n            pathway_id,\\n            ambition,\\n            conditionality,\\n            extension,\\n            exclude_hot_air,\\n            methane_pledges,\\n        ) = s.get_unique_meta(\\\"scenario\\\", True).split(\\\"__\\\")\\n\\n    s[\\\"pathway_id\\\"] = pathway_id\\n    s[\\\"ambition\\\"] = ambition\\n    s[\\\"conditionality\\\"] = conditionality\\n    s[\\\"country_extension\\\"] = extension\\n    s[\\\"exclude_hot_air\\\"] = exclude_hot_air\\n    s[\\\"methane_pledges\\\"] = methane_pledges\\n\\n    alloutput_cleaned.append(s)\\n\\nalloutput_cleaned = scmdata.run_append(alloutput_cleaned)\";\n",
       "                var nbb_formatted_code = \"alloutput_cleaned = []\\n\\nfor s in alloutput_merged.groupby(\\\"scenario\\\"):\\n    try:\\n        (\\n            pathway_id,\\n            ambition,\\n            conditionality,\\n            extension,\\n            exclude_hot_air,\\n        ) = s.get_unique_meta(\\\"scenario\\\", True).split(\\\"__\\\")\\n        methane_pledges = \\\"\\\"\\n    except:\\n        (\\n            pathway_id,\\n            ambition,\\n            conditionality,\\n            extension,\\n            exclude_hot_air,\\n            methane_pledges,\\n        ) = s.get_unique_meta(\\\"scenario\\\", True).split(\\\"__\\\")\\n\\n    s[\\\"pathway_id\\\"] = pathway_id\\n    s[\\\"ambition\\\"] = ambition\\n    s[\\\"conditionality\\\"] = conditionality\\n    s[\\\"country_extension\\\"] = extension\\n    s[\\\"exclude_hot_air\\\"] = exclude_hot_air\\n    s[\\\"methane_pledges\\\"] = methane_pledges\\n\\n    alloutput_cleaned.append(s)\\n\\nalloutput_cleaned = scmdata.run_append(alloutput_cleaned)\";\n",
       "                var nbb_cells = Jupyter.notebook.get_cells();\n",
       "                for (var i = 0; i < nbb_cells.length; ++i) {\n",
       "                    if (nbb_cells[i].input_prompt_number == nbb_cell_id) {\n",
       "                        if (nbb_cells[i].get_text() == nbb_unformatted_code) {\n",
       "                             nbb_cells[i].set_text(nbb_formatted_code);\n",
       "                        }\n",
       "                        break;\n",
       "                    }\n",
       "                }\n",
       "            }, 500);\n",
       "            "
      ],
      "text/plain": [
       "<IPython.core.display.Javascript object>"
      ]
     },
     "metadata": {},
     "output_type": "display_data"
    }
   ],
   "source": [
    "alloutput_cleaned = []\n",
    "\n",
    "for s in alloutput_merged.groupby(\"scenario\"):\n",
    "    try:\n",
    "        (\n",
    "            pathway_id,\n",
    "            ambition,\n",
    "            conditionality,\n",
    "            extension,\n",
    "            exclude_hot_air,\n",
    "        ) = s.get_unique_meta(\"scenario\", True).split(\"__\")\n",
    "        methane_pledges = \"\"\n",
    "    except:\n",
    "        (\n",
    "            pathway_id,\n",
    "            ambition,\n",
    "            conditionality,\n",
    "            extension,\n",
    "            exclude_hot_air,\n",
    "            methane_pledges,\n",
    "        ) = s.get_unique_meta(\"scenario\", True).split(\"__\")\n",
    "\n",
    "    s[\"pathway_id\"] = pathway_id\n",
    "    s[\"ambition\"] = ambition\n",
    "    s[\"conditionality\"] = conditionality\n",
    "    s[\"country_extension\"] = extension\n",
    "    s[\"exclude_hot_air\"] = exclude_hot_air\n",
    "    s[\"methane_pledges\"] = methane_pledges\n",
    "\n",
    "    alloutput_cleaned.append(s)\n",
    "\n",
    "alloutput_cleaned = scmdata.run_append(alloutput_cleaned)"
   ]
  },
  {
   "cell_type": "code",
   "execution_count": 43,
   "id": "70827055",
   "metadata": {},
   "outputs": [
    {
     "data": {
      "application/javascript": [
       "\n",
       "            setTimeout(function() {\n",
       "                var nbb_cell_id = 43;\n",
       "                var nbb_unformatted_code = \"alloutput_cleaned[\\\"variable\\\"] = [\\n    v[len(\\\"AR6 climate diagnostics|\\\") :] for v in alloutput_merged[\\\"variable\\\"]\\n]\";\n",
       "                var nbb_formatted_code = \"alloutput_cleaned[\\\"variable\\\"] = [\\n    v[len(\\\"AR6 climate diagnostics|\\\") :] for v in alloutput_merged[\\\"variable\\\"]\\n]\";\n",
       "                var nbb_cells = Jupyter.notebook.get_cells();\n",
       "                for (var i = 0; i < nbb_cells.length; ++i) {\n",
       "                    if (nbb_cells[i].input_prompt_number == nbb_cell_id) {\n",
       "                        if (nbb_cells[i].get_text() == nbb_unformatted_code) {\n",
       "                             nbb_cells[i].set_text(nbb_formatted_code);\n",
       "                        }\n",
       "                        break;\n",
       "                    }\n",
       "                }\n",
       "            }, 500);\n",
       "            "
      ],
      "text/plain": [
       "<IPython.core.display.Javascript object>"
      ]
     },
     "metadata": {},
     "output_type": "display_data"
    }
   ],
   "source": [
    "alloutput_cleaned[\"variable\"] = [\n",
    "    v[len(\"AR6 climate diagnostics|\") :] for v in alloutput_merged[\"variable\"]\n",
    "]"
   ]
  },
  {
   "cell_type": "code",
   "execution_count": 44,
   "id": "4dd48ccc",
   "metadata": {},
   "outputs": [
    {
     "data": {
      "application/javascript": [
       "\n",
       "            setTimeout(function() {\n",
       "                var nbb_cell_id = 44;\n",
       "                var nbb_unformatted_code = \"# alloutput_cleaned.get_unique_meta(\\\"variable\\\")\";\n",
       "                var nbb_formatted_code = \"# alloutput_cleaned.get_unique_meta(\\\"variable\\\")\";\n",
       "                var nbb_cells = Jupyter.notebook.get_cells();\n",
       "                for (var i = 0; i < nbb_cells.length; ++i) {\n",
       "                    if (nbb_cells[i].input_prompt_number == nbb_cell_id) {\n",
       "                        if (nbb_cells[i].get_text() == nbb_unformatted_code) {\n",
       "                             nbb_cells[i].set_text(nbb_formatted_code);\n",
       "                        }\n",
       "                        break;\n",
       "                    }\n",
       "                }\n",
       "            }, 500);\n",
       "            "
      ],
      "text/plain": [
       "<IPython.core.display.Javascript object>"
      ]
     },
     "metadata": {},
     "output_type": "display_data"
    }
   ],
   "source": [
    "# alloutput_cleaned.get_unique_meta(\"variable\")"
   ]
  },
  {
   "cell_type": "code",
   "execution_count": 45,
   "id": "1b7cabb8",
   "metadata": {},
   "outputs": [
    {
     "data": {
      "text/plain": [
       "'/data2/ubuntu-mmeinshausen/unfccc-ndc/src/../data/processed/climate_assessment/20211125-ndc-methanePledges/../merged/output_12Nov2021a_CR_methanePledges.csv'"
      ]
     },
     "execution_count": 45,
     "metadata": {},
     "output_type": "execute_result"
    },
    {
     "data": {
      "application/javascript": [
       "\n",
       "            setTimeout(function() {\n",
       "                var nbb_cell_id = 45;\n",
       "                var nbb_unformatted_code = \"OUT_FNAME = os.path.join(DATA_DIR, \\\"../merged\\\", FNAME)\\nOUT_FNAME\";\n",
       "                var nbb_formatted_code = \"OUT_FNAME = os.path.join(DATA_DIR, \\\"../merged\\\", FNAME)\\nOUT_FNAME\";\n",
       "                var nbb_cells = Jupyter.notebook.get_cells();\n",
       "                for (var i = 0; i < nbb_cells.length; ++i) {\n",
       "                    if (nbb_cells[i].input_prompt_number == nbb_cell_id) {\n",
       "                        if (nbb_cells[i].get_text() == nbb_unformatted_code) {\n",
       "                             nbb_cells[i].set_text(nbb_formatted_code);\n",
       "                        }\n",
       "                        break;\n",
       "                    }\n",
       "                }\n",
       "            }, 500);\n",
       "            "
      ],
      "text/plain": [
       "<IPython.core.display.Javascript object>"
      ]
     },
     "metadata": {},
     "output_type": "display_data"
    }
   ],
   "source": [
    "OUT_FNAME = os.path.join(DATA_DIR, \"../merged\", FNAME)\n",
    "OUT_FNAME"
   ]
  },
  {
   "cell_type": "code",
   "execution_count": 46,
   "id": "a72ab76f",
   "metadata": {},
   "outputs": [
    {
     "data": {
      "application/javascript": [
       "\n",
       "            setTimeout(function() {\n",
       "                var nbb_cell_id = 46;\n",
       "                var nbb_unformatted_code = \"alloutput_cleaned.to_csv(OUT_FNAME)\";\n",
       "                var nbb_formatted_code = \"alloutput_cleaned.to_csv(OUT_FNAME)\";\n",
       "                var nbb_cells = Jupyter.notebook.get_cells();\n",
       "                for (var i = 0; i < nbb_cells.length; ++i) {\n",
       "                    if (nbb_cells[i].input_prompt_number == nbb_cell_id) {\n",
       "                        if (nbb_cells[i].get_text() == nbb_unformatted_code) {\n",
       "                             nbb_cells[i].set_text(nbb_formatted_code);\n",
       "                        }\n",
       "                        break;\n",
       "                    }\n",
       "                }\n",
       "            }, 500);\n",
       "            "
      ],
      "text/plain": [
       "<IPython.core.display.Javascript object>"
      ]
     },
     "metadata": {},
     "output_type": "display_data"
    }
   ],
   "source": [
    "alloutput_cleaned.to_csv(OUT_FNAME)"
   ]
  },
  {
   "cell_type": "code",
   "execution_count": 47,
   "id": "45159608",
   "metadata": {},
   "outputs": [
    {
     "name": "stdout",
     "output_type": "stream",
     "text": [
      "-rw-rw-r-- 1 ubuntu ubuntu 2.6M Nov 26 05:04 /data2/ubuntu-mmeinshausen/unfccc-ndc/src/../data/processed/climate_assessment/20211125-ndc-methanePledges/../merged/output_12Nov2021a_CR_methanePledges.csv\r\n"
     ]
    },
    {
     "data": {
      "application/javascript": [
       "\n",
       "            setTimeout(function() {\n",
       "                var nbb_cell_id = 47;\n",
       "                var nbb_unformatted_code = \"# Lets see how big the output is\\n!ls -lh {OUT_FNAME}\";\n",
       "                var nbb_formatted_code = \"# Lets see how big the output is\\n!ls -lh {OUT_FNAME}\";\n",
       "                var nbb_cells = Jupyter.notebook.get_cells();\n",
       "                for (var i = 0; i < nbb_cells.length; ++i) {\n",
       "                    if (nbb_cells[i].input_prompt_number == nbb_cell_id) {\n",
       "                        if (nbb_cells[i].get_text() == nbb_unformatted_code) {\n",
       "                             nbb_cells[i].set_text(nbb_formatted_code);\n",
       "                        }\n",
       "                        break;\n",
       "                    }\n",
       "                }\n",
       "            }, 500);\n",
       "            "
      ],
      "text/plain": [
       "<IPython.core.display.Javascript object>"
      ]
     },
     "metadata": {},
     "output_type": "display_data"
    }
   ],
   "source": [
    "# Lets see how big the output is\n",
    "!ls -lh {OUT_FNAME}"
   ]
  },
  {
   "cell_type": "code",
   "execution_count": 48,
   "id": "ee25dbc8",
   "metadata": {},
   "outputs": [
    {
     "data": {
      "image/png": "[encoded data removed]",
      "text/plain": [
       "<Figure size 864x576 with 1 Axes>"
      ]
     },
     "metadata": {
      "needs_background": "light"
     },
     "output_type": "display_data"
    },
    {
     "data": {
      "application/javascript": [
       "\n",
       "            setTimeout(function() {\n",
       "                var nbb_cell_id = 48;\n",
       "                var nbb_unformatted_code = \"for v in [\\\"Surface Temperature (GSAT)|MAGICCv7.5.3|50.0th Percentile\\\"]:\\n    plt.figure()\\n\\n    alloutput_cleaned.filter(variable=v).lineplot(\\n        hue=\\\"variable\\\", estimator=None, units=\\\"scenario\\\", legend=False\\n    )\";\n",
       "                var nbb_formatted_code = \"for v in [\\\"Surface Temperature (GSAT)|MAGICCv7.5.3|50.0th Percentile\\\"]:\\n    plt.figure()\\n\\n    alloutput_cleaned.filter(variable=v).lineplot(\\n        hue=\\\"variable\\\", estimator=None, units=\\\"scenario\\\", legend=False\\n    )\";\n",
       "                var nbb_cells = Jupyter.notebook.get_cells();\n",
       "                for (var i = 0; i < nbb_cells.length; ++i) {\n",
       "                    if (nbb_cells[i].input_prompt_number == nbb_cell_id) {\n",
       "                        if (nbb_cells[i].get_text() == nbb_unformatted_code) {\n",
       "                             nbb_cells[i].set_text(nbb_formatted_code);\n",
       "                        }\n",
       "                        break;\n",
       "                    }\n",
       "                }\n",
       "            }, 500);\n",
       "            "
      ],
      "text/plain": [
       "<IPython.core.display.Javascript object>"
      ]
     },
     "metadata": {},
     "output_type": "display_data"
    }
   ],
   "source": [
    "for v in [\"Surface Temperature (GSAT)|MAGICCv7.5.3|50.0th Percentile\"]:\n",
    "    plt.figure()\n",
    "\n",
    "    alloutput_cleaned.filter(variable=v).lineplot(\n",
    "        hue=\"variable\", estimator=None, units=\"scenario\", legend=False\n",
    "    )"
   ]
  },
  {
   "cell_type": "code",
   "execution_count": 49,
   "id": "b61f74ff",
   "metadata": {},
   "outputs": [
    {
     "data": {
      "application/javascript": [
       "\n",
       "            setTimeout(function() {\n",
       "                var nbb_cell_id = 49;\n",
       "                var nbb_unformatted_code = \"# alloutput_cleaned.filter(\\n#     pathway_id=\\\"2021-11-09_1\\\",\\n#     variable=\\\"Surface Temperature (GSAT)|MAGICCv7.5.3|50.0th Percentile\\\",\\n# ).lineplot()\";\n",
       "                var nbb_formatted_code = \"# alloutput_cleaned.filter(\\n#     pathway_id=\\\"2021-11-09_1\\\",\\n#     variable=\\\"Surface Temperature (GSAT)|MAGICCv7.5.3|50.0th Percentile\\\",\\n# ).lineplot()\";\n",
       "                var nbb_cells = Jupyter.notebook.get_cells();\n",
       "                for (var i = 0; i < nbb_cells.length; ++i) {\n",
       "                    if (nbb_cells[i].input_prompt_number == nbb_cell_id) {\n",
       "                        if (nbb_cells[i].get_text() == nbb_unformatted_code) {\n",
       "                             nbb_cells[i].set_text(nbb_formatted_code);\n",
       "                        }\n",
       "                        break;\n",
       "                    }\n",
       "                }\n",
       "            }, 500);\n",
       "            "
      ],
      "text/plain": [
       "<IPython.core.display.Javascript object>"
      ]
     },
     "metadata": {},
     "output_type": "display_data"
    }
   ],
   "source": [
    "# alloutput_cleaned.filter(\n",
    "#     pathway_id=\"2021-11-09_1\",\n",
    "#     variable=\"Surface Temperature (GSAT)|MAGICCv7.5.3|50.0th Percentile\",\n",
    "# ).lineplot()"
   ]
  },
  {
   "cell_type": "code",
   "execution_count": null,
   "id": "dcfdffcc",
   "metadata": {},
   "outputs": [],
   "source": []
  }
 ],
 "metadata": {
  "kernelspec": {
   "display_name": "Python 3 (ipykernel)",
   "language": "python",
   "name": "python3"
  },
  "language_info": {
   "codemirror_mode": {
    "name": "ipython",
    "version": 3
   },
   "file_extension": ".py",
   "mimetype": "text/x-python",
   "name": "python",
   "nbconvert_exporter": "python",
   "pygments_lexer": "ipython3",
   "version": "3.9.6"
  }
 },
 "nbformat": 4,
 "nbformat_minor": 5
}