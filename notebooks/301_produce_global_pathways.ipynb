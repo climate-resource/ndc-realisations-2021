{
 "cells": [
  {
   "cell_type": "markdown",
   "id": "retired-summer",
   "metadata": {},
   "source": [
    "# Produce multiple global pathways\n",
    "\n",
    "\n",
    "### Outputs\n",
    "Lots of global total GHG excl LULUCF emissions pathway/pathways for commitments before a given date\n"
   ]
  },
  {
   "cell_type": "code",
   "execution_count": 1,
   "id": "706fa6bf",
   "metadata": {},
   "outputs": [],
   "source": [
    "%load_ext autoreload\n",
    "%autoreload 2"
   ]
  },
  {
   "cell_type": "code",
   "execution_count": 2,
   "id": "killing-piece",
   "metadata": {},
   "outputs": [
    {
     "data": {
      "application/javascript": [
       "\n",
       "            setTimeout(function() {\n",
       "                var nbb_cell_id = 2;\n",
       "                var nbb_unformatted_code = \"%load_ext nb_black\";\n",
       "                var nbb_formatted_code = \"%load_ext nb_black\";\n",
       "                var nbb_cells = Jupyter.notebook.get_cells();\n",
       "                for (var i = 0; i < nbb_cells.length; ++i) {\n",
       "                    if (nbb_cells[i].input_prompt_number == nbb_cell_id) {\n",
       "                        if (nbb_cells[i].get_text() == nbb_unformatted_code) {\n",
       "                             nbb_cells[i].set_text(nbb_formatted_code);\n",
       "                        }\n",
       "                        break;\n",
       "                    }\n",
       "                }\n",
       "            }, 500);\n",
       "            "
      ],
      "text/plain": [
       "<IPython.core.display.Javascript object>"
      ]
     },
     "metadata": {},
     "output_type": "display_data"
    }
   ],
   "source": [
    "%load_ext nb_black"
   ]
  },
  {
   "cell_type": "code",
   "execution_count": 3,
   "id": "79e9b0b9",
   "metadata": {},
   "outputs": [
    {
     "data": {
      "application/javascript": [
       "IPython.OutputArea.prototype._should_scroll = function(lines) { return false; }"
      ],
      "text/plain": [
       "<IPython.core.display.Javascript object>"
      ]
     },
     "metadata": {},
     "output_type": "display_data"
    },
    {
     "name": "stderr",
     "output_type": "stream",
     "text": [
      "/home/jared/miniconda3/envs/ndc-realisations-2021/lib/python3.9/site-packages/scmdata/database.py:21: TqdmExperimentalWarning: Using `tqdm.autonotebook.tqdm` in notebook mode. Use `tqdm.tqdm` instead to force console mode (e.g. in jupyter console)\n",
      "  import tqdm.autonotebook as tqdman\n"
     ]
    },
    {
     "data": {
      "application/javascript": [
       "\n",
       "            setTimeout(function() {\n",
       "                var nbb_cell_id = 3;\n",
       "                var nbb_unformatted_code = \"import os\\nfrom datetime import datetime\\nimport itertools\\nimport logging\\n\\nimport scmdata.database\\nfrom tqdm.autonotebook import tqdm\\n\\nfrom ndcs.constants import PROCESSED_DATA_DIR, RAW_DATA_DIR, NDC_TARGET_RELEASE\\nfrom ndcs.pathways import NDCCruncher\";\n",
       "                var nbb_formatted_code = \"import os\\nfrom datetime import datetime\\nimport itertools\\nimport logging\\n\\nimport scmdata.database\\nfrom tqdm.autonotebook import tqdm\\n\\nfrom ndcs.constants import PROCESSED_DATA_DIR, RAW_DATA_DIR, NDC_TARGET_RELEASE\\nfrom ndcs.pathways import NDCCruncher\";\n",
       "                var nbb_cells = Jupyter.notebook.get_cells();\n",
       "                for (var i = 0; i < nbb_cells.length; ++i) {\n",
       "                    if (nbb_cells[i].input_prompt_number == nbb_cell_id) {\n",
       "                        if (nbb_cells[i].get_text() == nbb_unformatted_code) {\n",
       "                             nbb_cells[i].set_text(nbb_formatted_code);\n",
       "                        }\n",
       "                        break;\n",
       "                    }\n",
       "                }\n",
       "            }, 500);\n",
       "            "
      ],
      "text/plain": [
       "<IPython.core.display.Javascript object>"
      ]
     },
     "metadata": {},
     "output_type": "display_data"
    }
   ],
   "source": [
    "import os\n",
    "from datetime import datetime\n",
    "import itertools\n",
    "import logging\n",
    "\n",
    "import scmdata.database\n",
    "from tqdm.autonotebook import tqdm\n",
    "\n",
    "from ndcs.constants import PROCESSED_DATA_DIR, RAW_DATA_DIR, NDC_TARGET_RELEASE\n",
    "from ndcs.pathways import NDCCruncher\n"
   ]
  },
  {
   "cell_type": "code",
   "execution_count": 4,
   "id": "fresh-russell",
   "metadata": {},
   "outputs": [
    {
     "data": {
      "application/javascript": [
       "\n",
       "            setTimeout(function() {\n",
       "                var nbb_cell_id = 4;\n",
       "                var nbb_unformatted_code = \"COUNTRY_DATABASE_DIR = os.path.join(\\n    PROCESSED_DATA_DIR, \\\"country_emissions\\\", NDC_TARGET_RELEASE\\n)\\nGLOBAL_DATABASE_DIR = os.path.join(\\n    PROCESSED_DATA_DIR, \\\"global_emissions_pathways\\\", NDC_TARGET_RELEASE\\n)\\nBASELINE_SCENARIO = \\\"SSP1BL\\\"  # Used to fill countries which have not reported yet\";\n",
       "                var nbb_formatted_code = \"COUNTRY_DATABASE_DIR = os.path.join(\\n    PROCESSED_DATA_DIR, \\\"country_emissions\\\", NDC_TARGET_RELEASE\\n)\\nGLOBAL_DATABASE_DIR = os.path.join(\\n    PROCESSED_DATA_DIR, \\\"global_emissions_pathways\\\", NDC_TARGET_RELEASE\\n)\\nBASELINE_SCENARIO = \\\"SSP1BL\\\"  # Used to fill countries which have not reported yet\";\n",
       "                var nbb_cells = Jupyter.notebook.get_cells();\n",
       "                for (var i = 0; i < nbb_cells.length; ++i) {\n",
       "                    if (nbb_cells[i].input_prompt_number == nbb_cell_id) {\n",
       "                        if (nbb_cells[i].get_text() == nbb_unformatted_code) {\n",
       "                             nbb_cells[i].set_text(nbb_formatted_code);\n",
       "                        }\n",
       "                        break;\n",
       "                    }\n",
       "                }\n",
       "            }, 500);\n",
       "            "
      ],
      "text/plain": [
       "<IPython.core.display.Javascript object>"
      ]
     },
     "metadata": {},
     "output_type": "display_data"
    }
   ],
   "source": [
    "COUNTRY_DATABASE_DIR = os.path.join(\n",
    "    PROCESSED_DATA_DIR, \"country_emissions\", NDC_TARGET_RELEASE\n",
    ")\n",
    "GLOBAL_DATABASE_DIR = os.path.join(\n",
    "    PROCESSED_DATA_DIR, \"global_emissions_pathways\", NDC_TARGET_RELEASE\n",
    ")\n",
    "BASELINE_SCENARIO = \"SSP1BL\"  # Used to fill countries which have not reported yet"
   ]
  },
  {
   "cell_type": "code",
   "execution_count": 5,
   "id": "fd96050b",
   "metadata": {},
   "outputs": [
    {
     "data": {
      "text/plain": [
       "<scmdata.database.SCMDatabase (root_dir: /home/jared/code/cr/ndc-realisations-2021/src/ndcs/../data/processed/country_emissions/12Nov2021a_CR, levels: ('region', 'variable'))>"
      ]
     },
     "execution_count": 5,
     "metadata": {},
     "output_type": "execute_result"
    },
    {
     "data": {
      "application/javascript": [
       "\n",
       "            setTimeout(function() {\n",
       "                var nbb_cell_id = 5;\n",
       "                var nbb_unformatted_code = \"country_db = scmdata.database.ScmDatabase(\\n    COUNTRY_DATABASE_DIR, levels=(\\\"region\\\", \\\"variable\\\")\\n)\\ncountry_db\";\n",
       "                var nbb_formatted_code = \"country_db = scmdata.database.ScmDatabase(\\n    COUNTRY_DATABASE_DIR, levels=(\\\"region\\\", \\\"variable\\\")\\n)\\ncountry_db\";\n",
       "                var nbb_cells = Jupyter.notebook.get_cells();\n",
       "                for (var i = 0; i < nbb_cells.length; ++i) {\n",
       "                    if (nbb_cells[i].input_prompt_number == nbb_cell_id) {\n",
       "                        if (nbb_cells[i].get_text() == nbb_unformatted_code) {\n",
       "                             nbb_cells[i].set_text(nbb_formatted_code);\n",
       "                        }\n",
       "                        break;\n",
       "                    }\n",
       "                }\n",
       "            }, 500);\n",
       "            "
      ],
      "text/plain": [
       "<IPython.core.display.Javascript object>"
      ]
     },
     "metadata": {},
     "output_type": "display_data"
    }
   ],
   "source": [
    "country_db = scmdata.database.ScmDatabase(\n",
    "    COUNTRY_DATABASE_DIR, levels=(\"region\", \"variable\")\n",
    ")\n",
    "country_db"
   ]
  },
  {
   "cell_type": "code",
   "execution_count": 6,
   "id": "a754a246",
   "metadata": {},
   "outputs": [
    {
     "data": {
      "text/plain": [
       "<scmdata.database.SCMDatabase (root_dir: /home/jared/code/cr/ndc-realisations-2021/src/ndcs/../data/processed/global_emissions_pathways/12Nov2021a_CR, levels: ('ambition', 'conditionality', 'country_extension', 'exclude_hot_air', 'pathway_id', 'global_extension'))>"
      ]
     },
     "execution_count": 6,
     "metadata": {},
     "output_type": "execute_result"
    },
    {
     "data": {
      "application/javascript": [
       "\n",
       "            setTimeout(function() {\n",
       "                var nbb_cell_id = 6;\n",
       "                var nbb_unformatted_code = \"global_db = scmdata.database.ScmDatabase(\\n    GLOBAL_DATABASE_DIR,\\n    levels=(\\n        \\\"ambition\\\",\\n        \\\"conditionality\\\",\\n        \\\"country_extension\\\",\\n        \\\"exclude_hot_air\\\",\\n        \\\"pathway_id\\\",\\n        \\\"global_extension\\\",\\n    ),\\n)\\nglobal_db\";\n",
       "                var nbb_formatted_code = \"global_db = scmdata.database.ScmDatabase(\\n    GLOBAL_DATABASE_DIR,\\n    levels=(\\n        \\\"ambition\\\",\\n        \\\"conditionality\\\",\\n        \\\"country_extension\\\",\\n        \\\"exclude_hot_air\\\",\\n        \\\"pathway_id\\\",\\n        \\\"global_extension\\\",\\n    ),\\n)\\nglobal_db\";\n",
       "                var nbb_cells = Jupyter.notebook.get_cells();\n",
       "                for (var i = 0; i < nbb_cells.length; ++i) {\n",
       "                    if (nbb_cells[i].input_prompt_number == nbb_cell_id) {\n",
       "                        if (nbb_cells[i].get_text() == nbb_unformatted_code) {\n",
       "                             nbb_cells[i].set_text(nbb_formatted_code);\n",
       "                        }\n",
       "                        break;\n",
       "                    }\n",
       "                }\n",
       "            }, 500);\n",
       "            "
      ],
      "text/plain": [
       "<IPython.core.display.Javascript object>"
      ]
     },
     "metadata": {},
     "output_type": "display_data"
    }
   ],
   "source": [
    "global_db = scmdata.database.ScmDatabase(\n",
    "    GLOBAL_DATABASE_DIR,\n",
    "    levels=(\n",
    "        \"ambition\",\n",
    "        \"conditionality\",\n",
    "        \"country_extension\",\n",
    "        \"exclude_hot_air\",\n",
    "        \"pathway_id\",\n",
    "        \"global_extension\",\n",
    "    ),\n",
    ")\n",
    "global_db"
   ]
  },
  {
   "cell_type": "code",
   "execution_count": 7,
   "id": "73c9c3b5",
   "metadata": {},
   "outputs": [
    {
     "data": {
      "application/javascript": [
       "\n",
       "            setTimeout(function() {\n",
       "                var nbb_cell_id = 7;\n",
       "                var nbb_unformatted_code = \"global_db.delete()\";\n",
       "                var nbb_formatted_code = \"global_db.delete()\";\n",
       "                var nbb_cells = Jupyter.notebook.get_cells();\n",
       "                for (var i = 0; i < nbb_cells.length; ++i) {\n",
       "                    if (nbb_cells[i].input_prompt_number == nbb_cell_id) {\n",
       "                        if (nbb_cells[i].get_text() == nbb_unformatted_code) {\n",
       "                             nbb_cells[i].set_text(nbb_formatted_code);\n",
       "                        }\n",
       "                        break;\n",
       "                    }\n",
       "                }\n",
       "            }, 500);\n",
       "            "
      ],
      "text/plain": [
       "<IPython.core.display.Javascript object>"
      ]
     },
     "metadata": {},
     "output_type": "display_data"
    }
   ],
   "source": [
    "global_db.delete()"
   ]
  },
  {
   "cell_type": "code",
   "execution_count": 8,
   "id": "f8ca19ab",
   "metadata": {},
   "outputs": [
    {
     "data": {
      "application/vnd.jupyter.widget-view+json": {
       "model_id": "",
       "version_major": 2,
       "version_minor": 0
      },
      "text/plain": [
       "Loading files:   0%|          | 0/990 [00:00<?, ?it/s]"
      ]
     },
     "metadata": {},
     "output_type": "display_data"
    },
    {
     "data": {
      "text/plain": [
       "198"
      ]
     },
     "execution_count": 8,
     "metadata": {},
     "output_type": "execute_result"
    },
    {
     "data": {
      "application/javascript": [
       "\n",
       "            setTimeout(function() {\n",
       "                var nbb_cell_id = 8;\n",
       "                var nbb_unformatted_code = \"raw_country_emms = country_db.load(\\n    variable=\\\"Emissions|Total GHG excl. LULUCF|*\\\"\\n).filter(country_extension=\\\"SSP5BL\\\", keep=False)\\nlen(raw_country_emms.get_unique_meta(\\\"region\\\"))\";\n",
       "                var nbb_formatted_code = \"raw_country_emms = country_db.load(\\n    variable=\\\"Emissions|Total GHG excl. LULUCF|*\\\"\\n).filter(country_extension=\\\"SSP5BL\\\", keep=False)\\nlen(raw_country_emms.get_unique_meta(\\\"region\\\"))\";\n",
       "                var nbb_cells = Jupyter.notebook.get_cells();\n",
       "                for (var i = 0; i < nbb_cells.length; ++i) {\n",
       "                    if (nbb_cells[i].input_prompt_number == nbb_cell_id) {\n",
       "                        if (nbb_cells[i].get_text() == nbb_unformatted_code) {\n",
       "                             nbb_cells[i].set_text(nbb_formatted_code);\n",
       "                        }\n",
       "                        break;\n",
       "                    }\n",
       "                }\n",
       "            }, 500);\n",
       "            "
      ],
      "text/plain": [
       "<IPython.core.display.Javascript object>"
      ]
     },
     "metadata": {},
     "output_type": "display_data"
    }
   ],
   "source": [
    "raw_country_emms = country_db.load(\n",
    "    variable=\"Emissions|Total GHG excl. LULUCF|*\"\n",
    ").filter(country_extension=\"SSP5BL\", keep=False)\n",
    "len(raw_country_emms.get_unique_meta(\"region\"))"
   ]
  },
  {
   "cell_type": "code",
   "execution_count": 9,
   "id": "9238304b",
   "metadata": {},
   "outputs": [
    {
     "data": {
      "text/plain": [
       "['SSP1BL', 'constant', '2030', 'rate']"
      ]
     },
     "execution_count": 9,
     "metadata": {},
     "output_type": "execute_result"
    },
    {
     "data": {
      "application/javascript": [
       "\n",
       "            setTimeout(function() {\n",
       "                var nbb_cell_id = 9;\n",
       "                var nbb_unformatted_code = \"raw_country_emms.get_unique_meta(\\\"country_extension\\\")\";\n",
       "                var nbb_formatted_code = \"raw_country_emms.get_unique_meta(\\\"country_extension\\\")\";\n",
       "                var nbb_cells = Jupyter.notebook.get_cells();\n",
       "                for (var i = 0; i < nbb_cells.length; ++i) {\n",
       "                    if (nbb_cells[i].input_prompt_number == nbb_cell_id) {\n",
       "                        if (nbb_cells[i].get_text() == nbb_unformatted_code) {\n",
       "                             nbb_cells[i].set_text(nbb_formatted_code);\n",
       "                        }\n",
       "                        break;\n",
       "                    }\n",
       "                }\n",
       "            }, 500);\n",
       "            "
      ],
      "text/plain": [
       "<IPython.core.display.Javascript object>"
      ]
     },
     "metadata": {},
     "output_type": "display_data"
    }
   ],
   "source": [
    "raw_country_emms.get_unique_meta(\"country_extension\")"
   ]
  },
  {
   "cell_type": "code",
   "execution_count": 10,
   "id": "386aafcd",
   "metadata": {},
   "outputs": [
    {
     "data": {
      "application/javascript": [
       "\n",
       "            setTimeout(function() {\n",
       "                var nbb_cell_id = 10;\n",
       "                var nbb_unformatted_code = \"raw_country_emms = raw_country_emms.filter(\\n    country_extension=[\\\"SSP1BL\\\", \\\"2030\\\"], conditionality=[\\\"C\\\", \\\"U\\\"]\\n)\";\n",
       "                var nbb_formatted_code = \"raw_country_emms = raw_country_emms.filter(\\n    country_extension=[\\\"SSP1BL\\\", \\\"2030\\\"], conditionality=[\\\"C\\\", \\\"U\\\"]\\n)\";\n",
       "                var nbb_cells = Jupyter.notebook.get_cells();\n",
       "                for (var i = 0; i < nbb_cells.length; ++i) {\n",
       "                    if (nbb_cells[i].input_prompt_number == nbb_cell_id) {\n",
       "                        if (nbb_cells[i].get_text() == nbb_unformatted_code) {\n",
       "                             nbb_cells[i].set_text(nbb_formatted_code);\n",
       "                        }\n",
       "                        break;\n",
       "                    }\n",
       "                }\n",
       "            }, 500);\n",
       "            "
      ],
      "text/plain": [
       "<IPython.core.display.Javascript object>"
      ]
     },
     "metadata": {},
     "output_type": "display_data"
    }
   ],
   "source": [
    "raw_country_emms = raw_country_emms.filter(\n",
    "    country_extension=[\"SSP1BL\", \"2030\"], conditionality=[\"C\", \"U\"]\n",
    ")"
   ]
  },
  {
   "cell_type": "code",
   "execution_count": 11,
   "id": "68efdaa9",
   "metadata": {},
   "outputs": [
    {
     "data": {
      "text/html": [
       "<div>\n",
       "<style scoped>\n",
       "    .dataframe tbody tr th:only-of-type {\n",
       "        vertical-align: middle;\n",
       "    }\n",
       "\n",
       "    .dataframe tbody tr th {\n",
       "        vertical-align: top;\n",
       "    }\n",
       "\n",
       "    .dataframe thead th {\n",
       "        text-align: right;\n",
       "    }\n",
       "</style>\n",
       "<table border=\"1\" class=\"dataframe\">\n",
       "  <thead>\n",
       "    <tr style=\"text-align: right;\">\n",
       "      <th></th>\n",
       "      <th>ambition</th>\n",
       "      <th>country_extension</th>\n",
       "      <th>conditionality</th>\n",
       "    </tr>\n",
       "  </thead>\n",
       "  <tbody>\n",
       "    <tr>\n",
       "      <th>0</th>\n",
       "      <td>high</td>\n",
       "      <td>SSP1BL</td>\n",
       "      <td>C</td>\n",
       "    </tr>\n",
       "    <tr>\n",
       "      <th>4</th>\n",
       "      <td>high</td>\n",
       "      <td>SSP1BL</td>\n",
       "      <td>U</td>\n",
       "    </tr>\n",
       "    <tr>\n",
       "      <th>6</th>\n",
       "      <td>low</td>\n",
       "      <td>SSP1BL</td>\n",
       "      <td>C</td>\n",
       "    </tr>\n",
       "    <tr>\n",
       "      <th>10</th>\n",
       "      <td>low</td>\n",
       "      <td>SSP1BL</td>\n",
       "      <td>U</td>\n",
       "    </tr>\n",
       "    <tr>\n",
       "      <th>72</th>\n",
       "      <td>high</td>\n",
       "      <td>2030</td>\n",
       "      <td>C</td>\n",
       "    </tr>\n",
       "    <tr>\n",
       "      <th>76</th>\n",
       "      <td>high</td>\n",
       "      <td>2030</td>\n",
       "      <td>U</td>\n",
       "    </tr>\n",
       "    <tr>\n",
       "      <th>78</th>\n",
       "      <td>low</td>\n",
       "      <td>2030</td>\n",
       "      <td>C</td>\n",
       "    </tr>\n",
       "    <tr>\n",
       "      <th>82</th>\n",
       "      <td>low</td>\n",
       "      <td>2030</td>\n",
       "      <td>U</td>\n",
       "    </tr>\n",
       "  </tbody>\n",
       "</table>\n",
       "</div>"
      ],
      "text/plain": [
       "   ambition country_extension conditionality\n",
       "0      high            SSP1BL              C\n",
       "4      high            SSP1BL              U\n",
       "6       low            SSP1BL              C\n",
       "10      low            SSP1BL              U\n",
       "72     high              2030              C\n",
       "76     high              2030              U\n",
       "78      low              2030              C\n",
       "82      low              2030              U"
      ]
     },
     "execution_count": 11,
     "metadata": {},
     "output_type": "execute_result"
    },
    {
     "data": {
      "application/javascript": [
       "\n",
       "            setTimeout(function() {\n",
       "                var nbb_cell_id = 11;\n",
       "                var nbb_unformatted_code = \"raw_country_emms.meta[\\n    [\\\"ambition\\\", \\\"country_extension\\\", \\\"conditionality\\\"]\\n].drop_duplicates()\";\n",
       "                var nbb_formatted_code = \"raw_country_emms.meta[\\n    [\\\"ambition\\\", \\\"country_extension\\\", \\\"conditionality\\\"]\\n].drop_duplicates()\";\n",
       "                var nbb_cells = Jupyter.notebook.get_cells();\n",
       "                for (var i = 0; i < nbb_cells.length; ++i) {\n",
       "                    if (nbb_cells[i].input_prompt_number == nbb_cell_id) {\n",
       "                        if (nbb_cells[i].get_text() == nbb_unformatted_code) {\n",
       "                             nbb_cells[i].set_text(nbb_formatted_code);\n",
       "                        }\n",
       "                        break;\n",
       "                    }\n",
       "                }\n",
       "            }, 500);\n",
       "            "
      ],
      "text/plain": [
       "<IPython.core.display.Javascript object>"
      ]
     },
     "metadata": {},
     "output_type": "display_data"
    }
   ],
   "source": [
    "raw_country_emms.meta[\n",
    "    [\"ambition\", \"country_extension\", \"conditionality\"]\n",
    "].drop_duplicates()"
   ]
  },
  {
   "cell_type": "code",
   "execution_count": 12,
   "id": "8651c4b4",
   "metadata": {},
   "outputs": [
    {
     "data": {
      "application/vnd.jupyter.widget-view+json": {
       "model_id": "",
       "version_major": 2,
       "version_minor": 0
      },
      "text/plain": [
       "Loading files:   0%|          | 0/1386 [00:00<?, ?it/s]"
      ]
     },
     "metadata": {},
     "output_type": "display_data"
    },
    {
     "data": {
      "text/plain": [
       "198"
      ]
     },
     "execution_count": 12,
     "metadata": {},
     "output_type": "execute_result"
    },
    {
     "data": {
      "application/javascript": [
       "\n",
       "            setTimeout(function() {\n",
       "                var nbb_cell_id = 12;\n",
       "                var nbb_unformatted_code = \"baseline_country_emms = country_db.load(variable=\\\"Emissions|Total GHG*\\\").filter(\\n    scenario=BASELINE_SCENARIO\\n)\\nlen(baseline_country_emms.get_unique_meta(\\\"region\\\"))\";\n",
       "                var nbb_formatted_code = \"baseline_country_emms = country_db.load(variable=\\\"Emissions|Total GHG*\\\").filter(\\n    scenario=BASELINE_SCENARIO\\n)\\nlen(baseline_country_emms.get_unique_meta(\\\"region\\\"))\";\n",
       "                var nbb_cells = Jupyter.notebook.get_cells();\n",
       "                for (var i = 0; i < nbb_cells.length; ++i) {\n",
       "                    if (nbb_cells[i].input_prompt_number == nbb_cell_id) {\n",
       "                        if (nbb_cells[i].get_text() == nbb_unformatted_code) {\n",
       "                             nbb_cells[i].set_text(nbb_formatted_code);\n",
       "                        }\n",
       "                        break;\n",
       "                    }\n",
       "                }\n",
       "            }, 500);\n",
       "            "
      ],
      "text/plain": [
       "<IPython.core.display.Javascript object>"
      ]
     },
     "metadata": {},
     "output_type": "display_data"
    }
   ],
   "source": [
    "baseline_country_emms = country_db.load(variable=\"Emissions|Total GHG*\").filter(\n",
    "    scenario=BASELINE_SCENARIO\n",
    ")\n",
    "len(baseline_country_emms.get_unique_meta(\"region\"))"
   ]
  },
  {
   "cell_type": "code",
   "execution_count": 13,
   "id": "1b69f072",
   "metadata": {
    "pycharm": {
     "name": "#%%\n"
    }
   },
   "outputs": [
    {
     "data": {
      "text/plain": [
       "<AxesSubplot:xlabel='time', ylabel='Mt CO2/yr'>"
      ]
     },
     "execution_count": 13,
     "metadata": {},
     "output_type": "execute_result"
    },
    {
     "data": {
      "image/png": "[encoded data removed]",
      "text/plain": [
       "<Figure size 432x288 with 1 Axes>"
      ]
     },
     "metadata": {
      "needs_background": "light"
     },
     "output_type": "display_data"
    },
    {
     "data": {
      "application/javascript": [
       "\n",
       "            setTimeout(function() {\n",
       "                var nbb_cell_id = 13;\n",
       "                var nbb_unformatted_code = \"baseline_country_emms.lineplot(hue=\\\"region\\\", legend=False)\";\n",
       "                var nbb_formatted_code = \"baseline_country_emms.lineplot(hue=\\\"region\\\", legend=False)\";\n",
       "                var nbb_cells = Jupyter.notebook.get_cells();\n",
       "                for (var i = 0; i < nbb_cells.length; ++i) {\n",
       "                    if (nbb_cells[i].input_prompt_number == nbb_cell_id) {\n",
       "                        if (nbb_cells[i].get_text() == nbb_unformatted_code) {\n",
       "                             nbb_cells[i].set_text(nbb_formatted_code);\n",
       "                        }\n",
       "                        break;\n",
       "                    }\n",
       "                }\n",
       "            }, 500);\n",
       "            "
      ],
      "text/plain": [
       "<IPython.core.display.Javascript object>"
      ]
     },
     "metadata": {},
     "output_type": "display_data"
    }
   ],
   "source": [
    "baseline_country_emms.lineplot(hue=\"region\", legend=False)"
   ]
  },
  {
   "cell_type": "code",
   "execution_count": 14,
   "id": "477cbcba",
   "metadata": {
    "pycharm": {
     "name": "#%%\n"
    }
   },
   "outputs": [
    {
     "data": {
      "application/javascript": [
       "\n",
       "            setTimeout(function() {\n",
       "                var nbb_cell_id = 14;\n",
       "                var nbb_unformatted_code = \"# We have to scale the SSP1BL emissions to match the countries historical values\\n# This is also done in 220\\nSCALE_YEAR = 2015\\n\\nbaseline_adjusted_emms = []\\n\\n\\ntargets = raw_country_emms.filter(\\n    scenario=\\\"HighNDC\\\",\\n    conditionality=\\\"C\\\",\\n    country_extension=\\\"SSP1BL\\\",\\n    exclude_hot_air=\\\"include\\\",\\n    year=SCALE_YEAR,\\n)\\nfor r in baseline_country_emms.get_unique_meta(\\\"region\\\"):\\n    region_emms = baseline_country_emms.filter(region=r)\\n\\n    scale_factor = (\\n        targets.filter(region=r).values.squeeze()\\n        / region_emms.filter(year=SCALE_YEAR).values.squeeze()\\n    )\\n\\n    baseline_adjusted_emms.append(region_emms * scale_factor)\\nbaseline_adjusted_emms = scmdata.run_append(baseline_adjusted_emms)\";\n",
       "                var nbb_formatted_code = \"# We have to scale the SSP1BL emissions to match the countries historical values\\n# This is also done in 220\\nSCALE_YEAR = 2015\\n\\nbaseline_adjusted_emms = []\\n\\n\\ntargets = raw_country_emms.filter(\\n    scenario=\\\"HighNDC\\\",\\n    conditionality=\\\"C\\\",\\n    country_extension=\\\"SSP1BL\\\",\\n    exclude_hot_air=\\\"include\\\",\\n    year=SCALE_YEAR,\\n)\\nfor r in baseline_country_emms.get_unique_meta(\\\"region\\\"):\\n    region_emms = baseline_country_emms.filter(region=r)\\n\\n    scale_factor = (\\n        targets.filter(region=r).values.squeeze()\\n        / region_emms.filter(year=SCALE_YEAR).values.squeeze()\\n    )\\n\\n    baseline_adjusted_emms.append(region_emms * scale_factor)\\nbaseline_adjusted_emms = scmdata.run_append(baseline_adjusted_emms)\";\n",
       "                var nbb_cells = Jupyter.notebook.get_cells();\n",
       "                for (var i = 0; i < nbb_cells.length; ++i) {\n",
       "                    if (nbb_cells[i].input_prompt_number == nbb_cell_id) {\n",
       "                        if (nbb_cells[i].get_text() == nbb_unformatted_code) {\n",
       "                             nbb_cells[i].set_text(nbb_formatted_code);\n",
       "                        }\n",
       "                        break;\n",
       "                    }\n",
       "                }\n",
       "            }, 500);\n",
       "            "
      ],
      "text/plain": [
       "<IPython.core.display.Javascript object>"
      ]
     },
     "metadata": {},
     "output_type": "display_data"
    }
   ],
   "source": [
    "# We have to scale the SSP1BL emissions to match the countries historical values\n",
    "# This is also done in 220\n",
    "SCALE_YEAR = 2015\n",
    "\n",
    "baseline_adjusted_emms = []\n",
    "\n",
    "\n",
    "targets = raw_country_emms.filter(\n",
    "    scenario=\"HighNDC\",\n",
    "    conditionality=\"C\",\n",
    "    country_extension=\"SSP1BL\",\n",
    "    exclude_hot_air=\"include\",\n",
    "    year=SCALE_YEAR,\n",
    ")\n",
    "for r in baseline_country_emms.get_unique_meta(\"region\"):\n",
    "    region_emms = baseline_country_emms.filter(region=r)\n",
    "\n",
    "    scale_factor = (\n",
    "        targets.filter(region=r).values.squeeze()\n",
    "        / region_emms.filter(year=SCALE_YEAR).values.squeeze()\n",
    "    )\n",
    "\n",
    "    baseline_adjusted_emms.append(region_emms * scale_factor)\n",
    "baseline_adjusted_emms = scmdata.run_append(baseline_adjusted_emms)"
   ]
  },
  {
   "cell_type": "code",
   "execution_count": 15,
   "id": "eec469db",
   "metadata": {
    "pycharm": {
     "name": "#%%\n"
    }
   },
   "outputs": [
    {
     "data": {
      "text/plain": [
       "<AxesSubplot:xlabel='time', ylabel='Mt CO2/yr'>"
      ]
     },
     "execution_count": 15,
     "metadata": {},
     "output_type": "execute_result"
    },
    {
     "data": {
      "image/png": "[encoded data removed]",
      "text/plain": [
       "<Figure size 432x288 with 1 Axes>"
      ]
     },
     "metadata": {
      "needs_background": "light"
     },
     "output_type": "display_data"
    },
    {
     "data": {
      "application/javascript": [
       "\n",
       "            setTimeout(function() {\n",
       "                var nbb_cell_id = 15;\n",
       "                var nbb_unformatted_code = \"baseline_adjusted_emms.lineplot(hue=\\\"region\\\", legend=False)\";\n",
       "                var nbb_formatted_code = \"baseline_adjusted_emms.lineplot(hue=\\\"region\\\", legend=False)\";\n",
       "                var nbb_cells = Jupyter.notebook.get_cells();\n",
       "                for (var i = 0; i < nbb_cells.length; ++i) {\n",
       "                    if (nbb_cells[i].input_prompt_number == nbb_cell_id) {\n",
       "                        if (nbb_cells[i].get_text() == nbb_unformatted_code) {\n",
       "                             nbb_cells[i].set_text(nbb_formatted_code);\n",
       "                        }\n",
       "                        break;\n",
       "                    }\n",
       "                }\n",
       "            }, 500);\n",
       "            "
      ],
      "text/plain": [
       "<IPython.core.display.Javascript object>"
      ]
     },
     "metadata": {},
     "output_type": "display_data"
    }
   ],
   "source": [
    "baseline_adjusted_emms.lineplot(hue=\"region\", legend=False)"
   ]
  },
  {
   "cell_type": "code",
   "execution_count": 16,
   "id": "e3e42e4a",
   "metadata": {
    "pycharm": {
     "name": "#%%\n"
    }
   },
   "outputs": [
    {
     "data": {
      "text/plain": [
       "time\n",
       "2015-01-01    48223.28657\n",
       "dtype: float64"
      ]
     },
     "execution_count": 16,
     "metadata": {},
     "output_type": "execute_result"
    },
    {
     "data": {
      "application/javascript": [
       "\n",
       "            setTimeout(function() {\n",
       "                var nbb_cell_id = 16;\n",
       "                var nbb_unformatted_code = \"raw_country_emms.filter(\\n    scenario=\\\"HighNDC\\\",\\n    conditionality=\\\"C\\\",\\n    country_extension=\\\"SSP1BL\\\",\\n    exclude_hot_air=\\\"exclude\\\",\\n    year=2015,\\n).timeseries().sum()\";\n",
       "                var nbb_formatted_code = \"raw_country_emms.filter(\\n    scenario=\\\"HighNDC\\\",\\n    conditionality=\\\"C\\\",\\n    country_extension=\\\"SSP1BL\\\",\\n    exclude_hot_air=\\\"exclude\\\",\\n    year=2015,\\n).timeseries().sum()\";\n",
       "                var nbb_cells = Jupyter.notebook.get_cells();\n",
       "                for (var i = 0; i < nbb_cells.length; ++i) {\n",
       "                    if (nbb_cells[i].input_prompt_number == nbb_cell_id) {\n",
       "                        if (nbb_cells[i].get_text() == nbb_unformatted_code) {\n",
       "                             nbb_cells[i].set_text(nbb_formatted_code);\n",
       "                        }\n",
       "                        break;\n",
       "                    }\n",
       "                }\n",
       "            }, 500);\n",
       "            "
      ],
      "text/plain": [
       "<IPython.core.display.Javascript object>"
      ]
     },
     "metadata": {},
     "output_type": "display_data"
    }
   ],
   "source": [
    "raw_country_emms.filter(\n",
    "    scenario=\"HighNDC\",\n",
    "    conditionality=\"C\",\n",
    "    country_extension=\"SSP1BL\",\n",
    "    exclude_hot_air=\"exclude\",\n",
    "    year=2015,\n",
    ").timeseries().sum()"
   ]
  },
  {
   "cell_type": "code",
   "execution_count": 17,
   "id": "aa98f817",
   "metadata": {
    "pycharm": {
     "name": "#%%\n"
    }
   },
   "outputs": [
    {
     "data": {
      "text/plain": [
       "time\n",
       "2015-01-01    48223.28657\n",
       "dtype: float64"
      ]
     },
     "execution_count": 17,
     "metadata": {},
     "output_type": "execute_result"
    },
    {
     "data": {
      "application/javascript": [
       "\n",
       "            setTimeout(function() {\n",
       "                var nbb_cell_id = 17;\n",
       "                var nbb_unformatted_code = \"baseline_adjusted_emms.filter(scenario=BASELINE_SCENARIO, year=2015).timeseries().sum()\";\n",
       "                var nbb_formatted_code = \"baseline_adjusted_emms.filter(scenario=BASELINE_SCENARIO, year=2015).timeseries().sum()\";\n",
       "                var nbb_cells = Jupyter.notebook.get_cells();\n",
       "                for (var i = 0; i < nbb_cells.length; ++i) {\n",
       "                    if (nbb_cells[i].input_prompt_number == nbb_cell_id) {\n",
       "                        if (nbb_cells[i].get_text() == nbb_unformatted_code) {\n",
       "                             nbb_cells[i].set_text(nbb_formatted_code);\n",
       "                        }\n",
       "                        break;\n",
       "                    }\n",
       "                }\n",
       "            }, 500);\n",
       "            "
      ],
      "text/plain": [
       "<IPython.core.display.Javascript object>"
      ]
     },
     "metadata": {},
     "output_type": "display_data"
    }
   ],
   "source": [
    "baseline_adjusted_emms.filter(scenario=BASELINE_SCENARIO, year=2015).timeseries().sum()"
   ]
  },
  {
   "cell_type": "code",
   "execution_count": 18,
   "id": "39f6bbc2",
   "metadata": {},
   "outputs": [
    {
     "data": {
      "text/plain": [
       "<scmdata.ScmRun (timeseries: 6328, timepoints: 61)>\n",
       "Time:\n",
       "\tStart: 1990-01-01T00:00:00\n",
       "\tEnd: 2050-01-01T00:00:00\n",
       "Meta:\n",
       "\t      ambition conditionality country_extension exclude_hot_air  last_provided_year          model region        scenario submission_date        unit                                 variable\n",
       "\t0         high              C            SSP1BL         exclude                2030  NDC Factsheet    TUV  HighInitialNDC       4/22/2016  Mt CO2 /yr  Emissions|Total GHG excl. LULUCF|SSP1BL\n",
       "\t1         high              C            SSP1BL         include                2030  NDC Factsheet    TUV  HighInitialNDC       4/22/2016  Mt CO2 /yr  Emissions|Total GHG excl. LULUCF|SSP1BL\n",
       "\t4         high              U            SSP1BL         exclude                2030  NDC Factsheet    TUV  HighInitialNDC       4/22/2016  Mt CO2 /yr  Emissions|Total GHG excl. LULUCF|SSP1BL\n",
       "\t5         high              U            SSP1BL         include                2030  NDC Factsheet    TUV  HighInitialNDC       4/22/2016  Mt CO2 /yr  Emissions|Total GHG excl. LULUCF|SSP1BL\n",
       "\t6          low              C            SSP1BL         exclude                2030  NDC Factsheet    TUV   LowInitialNDC       4/22/2016  Mt CO2 /yr  Emissions|Total GHG excl. LULUCF|SSP1BL\n",
       "\t7          low              C            SSP1BL         include                2030  NDC Factsheet    TUV   LowInitialNDC       4/22/2016  Mt CO2 /yr  Emissions|Total GHG excl. LULUCF|SSP1BL\n",
       "\t10         low              U            SSP1BL         exclude                2030  NDC Factsheet    TUV   LowInitialNDC       4/22/2016  Mt CO2 /yr  Emissions|Total GHG excl. LULUCF|SSP1BL\n",
       "\t11         low              U            SSP1BL         include                2030  NDC Factsheet    TUV   LowInitialNDC       4/22/2016  Mt CO2 /yr  Emissions|Total GHG excl. LULUCF|SSP1BL\n",
       "\t12        high              C            SSP1BL         exclude                2050  NDC Factsheet    TUV         HighNDC         NOT YET  Mt CO2 /yr  Emissions|Total GHG excl. LULUCF|SSP1BL\n",
       "\t13        high              C            SSP1BL         include                2050  NDC Factsheet    TUV         HighNDC         NOT YET  Mt CO2 /yr  Emissions|Total GHG excl. LULUCF|SSP1BL\n",
       "\t...        ...            ...               ...             ...                 ...            ...    ...             ...             ...         ...                                      ...\n",
       "\t23702     high              U              2030         include                2030  NDC Factsheet    CPV  HighInitialNDC       9/21/2017  Mt CO2 /yr    Emissions|Total GHG excl. LULUCF|2030\n",
       "\t23703     high              U              2030         include                2030  NDC Factsheet    CPV         HighNDC        4/2/2021  Mt CO2 /yr    Emissions|Total GHG excl. LULUCF|2030\n",
       "\t23704      low              C              2030         exclude                2030  NDC Factsheet    CPV   LowInitialNDC       9/21/2017  Mt CO2 /yr    Emissions|Total GHG excl. LULUCF|2030\n",
       "\t23705      low              C              2030         exclude                2030  NDC Factsheet    CPV          LowNDC        4/2/2021  Mt CO2 /yr    Emissions|Total GHG excl. LULUCF|2030\n",
       "\t23706      low              C              2030         include                2030  NDC Factsheet    CPV   LowInitialNDC       9/21/2017  Mt CO2 /yr    Emissions|Total GHG excl. LULUCF|2030\n",
       "\t23707      low              C              2030         include                2030  NDC Factsheet    CPV          LowNDC        4/2/2021  Mt CO2 /yr    Emissions|Total GHG excl. LULUCF|2030\n",
       "\t23712      low              U              2030         exclude                2030  NDC Factsheet    CPV   LowInitialNDC       9/21/2017  Mt CO2 /yr    Emissions|Total GHG excl. LULUCF|2030\n",
       "\t23713      low              U              2030         exclude                2030  NDC Factsheet    CPV          LowNDC        4/2/2021  Mt CO2 /yr    Emissions|Total GHG excl. LULUCF|2030\n",
       "\t23714      low              U              2030         include                2030  NDC Factsheet    CPV   LowInitialNDC       9/21/2017  Mt CO2 /yr    Emissions|Total GHG excl. LULUCF|2030\n",
       "\t23715      low              U              2030         include                2030  NDC Factsheet    CPV          LowNDC        4/2/2021  Mt CO2 /yr    Emissions|Total GHG excl. LULUCF|2030\n",
       "\t\n",
       "\t[6328 rows x 11 columns]"
      ]
     },
     "execution_count": 18,
     "metadata": {},
     "output_type": "execute_result"
    },
    {
     "data": {
      "application/javascript": [
       "\n",
       "            setTimeout(function() {\n",
       "                var nbb_cell_id = 18;\n",
       "                var nbb_unformatted_code = \"raw_country_emms\";\n",
       "                var nbb_formatted_code = \"raw_country_emms\";\n",
       "                var nbb_cells = Jupyter.notebook.get_cells();\n",
       "                for (var i = 0; i < nbb_cells.length; ++i) {\n",
       "                    if (nbb_cells[i].input_prompt_number == nbb_cell_id) {\n",
       "                        if (nbb_cells[i].get_text() == nbb_unformatted_code) {\n",
       "                             nbb_cells[i].set_text(nbb_formatted_code);\n",
       "                        }\n",
       "                        break;\n",
       "                    }\n",
       "                }\n",
       "            }, 500);\n",
       "            "
      ],
      "text/plain": [
       "<IPython.core.display.Javascript object>"
      ]
     },
     "metadata": {},
     "output_type": "display_data"
    }
   ],
   "source": [
    "raw_country_emms"
   ]
  },
  {
   "cell_type": "code",
   "execution_count": 19,
   "id": "dc1b9093",
   "metadata": {},
   "outputs": [
    {
     "data": {
      "application/javascript": [
       "\n",
       "            setTimeout(function() {\n",
       "                var nbb_cell_id = 19;\n",
       "                var nbb_unformatted_code = \"country_emms = raw_country_emms.copy()\";\n",
       "                var nbb_formatted_code = \"country_emms = raw_country_emms.copy()\";\n",
       "                var nbb_cells = Jupyter.notebook.get_cells();\n",
       "                for (var i = 0; i < nbb_cells.length; ++i) {\n",
       "                    if (nbb_cells[i].input_prompt_number == nbb_cell_id) {\n",
       "                        if (nbb_cells[i].get_text() == nbb_unformatted_code) {\n",
       "                             nbb_cells[i].set_text(nbb_formatted_code);\n",
       "                        }\n",
       "                        break;\n",
       "                    }\n",
       "                }\n",
       "            }, 500);\n",
       "            "
      ],
      "text/plain": [
       "<IPython.core.display.Javascript object>"
      ]
     },
     "metadata": {},
     "output_type": "display_data"
    }
   ],
   "source": [
    "country_emms = raw_country_emms.copy()"
   ]
  },
  {
   "cell_type": "code",
   "execution_count": 20,
   "id": "5bee0f9e",
   "metadata": {},
   "outputs": [
    {
     "data": {
      "application/javascript": [
       "\n",
       "            setTimeout(function() {\n",
       "                var nbb_cell_id = 20;\n",
       "                var nbb_unformatted_code = \"update_dates = (\\n    (\\\"ZZA\\\", True, \\\"7/18/2013\\\"),\\n    (\\\"ZZB\\\", True, \\\"7/18/2013\\\"),\\n    (\\\"LBY\\\", True, \\\"7/18/2013\\\"),\\n    (\\\"ZZA\\\", False, \\\"10/4/2019\\\"),\\n    (\\\"ZZB\\\", False, \\\"4/30/2018\\\"),\\n)\\n\\nfor region, is_initial, date in update_dates:\\n    scenario = (\\n        [\\\"HighInitialNDC\\\", \\\"LowInitialNDC\\\"] if is_initial else [\\\"HighNDC\\\", \\\"LowNDC\\\"]\\n    )\\n    subset = country_emms.filter(region=region, scenario=scenario)\\n    subset[\\\"submission_date\\\"] = date\\n\\n    country_emms = scmdata.run_append(\\n        [country_emms.filter(region=region, scenario=scenario, keep=False), subset]\\n    )\";\n",
       "                var nbb_formatted_code = \"update_dates = (\\n    (\\\"ZZA\\\", True, \\\"7/18/2013\\\"),\\n    (\\\"ZZB\\\", True, \\\"7/18/2013\\\"),\\n    (\\\"LBY\\\", True, \\\"7/18/2013\\\"),\\n    (\\\"ZZA\\\", False, \\\"10/4/2019\\\"),\\n    (\\\"ZZB\\\", False, \\\"4/30/2018\\\"),\\n)\\n\\nfor region, is_initial, date in update_dates:\\n    scenario = (\\n        [\\\"HighInitialNDC\\\", \\\"LowInitialNDC\\\"] if is_initial else [\\\"HighNDC\\\", \\\"LowNDC\\\"]\\n    )\\n    subset = country_emms.filter(region=region, scenario=scenario)\\n    subset[\\\"submission_date\\\"] = date\\n\\n    country_emms = scmdata.run_append(\\n        [country_emms.filter(region=region, scenario=scenario, keep=False), subset]\\n    )\";\n",
       "                var nbb_cells = Jupyter.notebook.get_cells();\n",
       "                for (var i = 0; i < nbb_cells.length; ++i) {\n",
       "                    if (nbb_cells[i].input_prompt_number == nbb_cell_id) {\n",
       "                        if (nbb_cells[i].get_text() == nbb_unformatted_code) {\n",
       "                             nbb_cells[i].set_text(nbb_formatted_code);\n",
       "                        }\n",
       "                        break;\n",
       "                    }\n",
       "                }\n",
       "            }, 500);\n",
       "            "
      ],
      "text/plain": [
       "<IPython.core.display.Javascript object>"
      ]
     },
     "metadata": {},
     "output_type": "display_data"
    }
   ],
   "source": [
    "update_dates = (\n",
    "    (\"ZZA\", True, \"7/18/2013\"),\n",
    "    (\"ZZB\", True, \"7/18/2013\"),\n",
    "    (\"LBY\", True, \"7/18/2013\"),\n",
    "    (\"ZZA\", False, \"10/4/2019\"),\n",
    "    (\"ZZB\", False, \"4/30/2018\"),\n",
    ")\n",
    "\n",
    "for region, is_initial, date in update_dates:\n",
    "    scenario = (\n",
    "        [\"HighInitialNDC\", \"LowInitialNDC\"] if is_initial else [\"HighNDC\", \"LowNDC\"]\n",
    "    )\n",
    "    subset = country_emms.filter(region=region, scenario=scenario)\n",
    "    subset[\"submission_date\"] = date\n",
    "\n",
    "    country_emms = scmdata.run_append(\n",
    "        [country_emms.filter(region=region, scenario=scenario, keep=False), subset]\n",
    "    )"
   ]
  },
  {
   "cell_type": "code",
   "execution_count": 21,
   "id": "a2a307cf",
   "metadata": {},
   "outputs": [
    {
     "data": {
      "application/javascript": [
       "\n",
       "            setTimeout(function() {\n",
       "                var nbb_cell_id = 21;\n",
       "                var nbb_unformatted_code = \"# Drop the duplicated timeseries for countries which have not reported an updated NDC yet\\ncountry_emms = country_emms.filter(submission_date=\\\"NOT YET\\\", keep=False)\";\n",
       "                var nbb_formatted_code = \"# Drop the duplicated timeseries for countries which have not reported an updated NDC yet\\ncountry_emms = country_emms.filter(submission_date=\\\"NOT YET\\\", keep=False)\";\n",
       "                var nbb_cells = Jupyter.notebook.get_cells();\n",
       "                for (var i = 0; i < nbb_cells.length; ++i) {\n",
       "                    if (nbb_cells[i].input_prompt_number == nbb_cell_id) {\n",
       "                        if (nbb_cells[i].get_text() == nbb_unformatted_code) {\n",
       "                             nbb_cells[i].set_text(nbb_formatted_code);\n",
       "                        }\n",
       "                        break;\n",
       "                    }\n",
       "                }\n",
       "            }, 500);\n",
       "            "
      ],
      "text/plain": [
       "<IPython.core.display.Javascript object>"
      ]
     },
     "metadata": {},
     "output_type": "display_data"
    }
   ],
   "source": [
    "# Drop the duplicated timeseries for countries which have not reported an updated NDC yet\n",
    "country_emms = country_emms.filter(submission_date=\"NOT YET\", keep=False)"
   ]
  },
  {
   "cell_type": "code",
   "execution_count": 22,
   "id": "57bc1987",
   "metadata": {},
   "outputs": [
    {
     "data": {
      "text/plain": [
       "2828"
      ]
     },
     "execution_count": 22,
     "metadata": {},
     "output_type": "execute_result"
    },
    {
     "data": {
      "application/javascript": [
       "\n",
       "            setTimeout(function() {\n",
       "                var nbb_cell_id = 22;\n",
       "                var nbb_unformatted_code = \"len(country_emms.filter(variable=\\\"Emissions|Total GHG excl. LULUCF|SSP1BL\\\"))\";\n",
       "                var nbb_formatted_code = \"len(country_emms.filter(variable=\\\"Emissions|Total GHG excl. LULUCF|SSP1BL\\\"))\";\n",
       "                var nbb_cells = Jupyter.notebook.get_cells();\n",
       "                for (var i = 0; i < nbb_cells.length; ++i) {\n",
       "                    if (nbb_cells[i].input_prompt_number == nbb_cell_id) {\n",
       "                        if (nbb_cells[i].get_text() == nbb_unformatted_code) {\n",
       "                             nbb_cells[i].set_text(nbb_formatted_code);\n",
       "                        }\n",
       "                        break;\n",
       "                    }\n",
       "                }\n",
       "            }, 500);\n",
       "            "
      ],
      "text/plain": [
       "<IPython.core.display.Javascript object>"
      ]
     },
     "metadata": {},
     "output_type": "display_data"
    }
   ],
   "source": [
    "len(country_emms.filter(variable=\"Emissions|Total GHG excl. LULUCF|SSP1BL\"))"
   ]
  },
  {
   "cell_type": "code",
   "execution_count": 23,
   "id": "c10012e2",
   "metadata": {},
   "outputs": [
    {
     "data": {
      "text/plain": [
       "['10/2/2016', '11/1/2021']"
      ]
     },
     "execution_count": 23,
     "metadata": {},
     "output_type": "execute_result"
    },
    {
     "data": {
      "application/javascript": [
       "\n",
       "            setTimeout(function() {\n",
       "                var nbb_cell_id = 23;\n",
       "                var nbb_unformatted_code = \"raw_country_emms.filter(region=\\\"IND\\\").get_unique_meta(\\\"submission_date\\\")\";\n",
       "                var nbb_formatted_code = \"raw_country_emms.filter(region=\\\"IND\\\").get_unique_meta(\\\"submission_date\\\")\";\n",
       "                var nbb_cells = Jupyter.notebook.get_cells();\n",
       "                for (var i = 0; i < nbb_cells.length; ++i) {\n",
       "                    if (nbb_cells[i].input_prompt_number == nbb_cell_id) {\n",
       "                        if (nbb_cells[i].get_text() == nbb_unformatted_code) {\n",
       "                             nbb_cells[i].set_text(nbb_formatted_code);\n",
       "                        }\n",
       "                        break;\n",
       "                    }\n",
       "                }\n",
       "            }, 500);\n",
       "            "
      ],
      "text/plain": [
       "<IPython.core.display.Javascript object>"
      ]
     },
     "metadata": {},
     "output_type": "display_data"
    }
   ],
   "source": [
    "raw_country_emms.filter(region=\"IND\").get_unique_meta(\"submission_date\")"
   ]
  },
  {
   "cell_type": "markdown",
   "id": "2ed0194e",
   "metadata": {},
   "source": [
    "# Preprocessing\n",
    "* Convert SubmissionDate to something we can filter by"
   ]
  },
  {
   "cell_type": "code",
   "execution_count": 24,
   "id": "2c9bb6bb",
   "metadata": {},
   "outputs": [
    {
     "data": {
      "application/javascript": [
       "\n",
       "            setTimeout(function() {\n",
       "                var nbb_cell_id = 24;\n",
       "                var nbb_unformatted_code = \"country_emms[\\\"submission_date\\\"] = [\\n    datetime.strptime(d, \\\"%m/%d/%Y\\\").date() for d in country_emms[\\\"submission_date\\\"]\\n]\\ncountry_emms = country_emms.resample(\\\"AS\\\").filter(year=range(2010, 2051))\";\n",
       "                var nbb_formatted_code = \"country_emms[\\\"submission_date\\\"] = [\\n    datetime.strptime(d, \\\"%m/%d/%Y\\\").date() for d in country_emms[\\\"submission_date\\\"]\\n]\\ncountry_emms = country_emms.resample(\\\"AS\\\").filter(year=range(2010, 2051))\";\n",
       "                var nbb_cells = Jupyter.notebook.get_cells();\n",
       "                for (var i = 0; i < nbb_cells.length; ++i) {\n",
       "                    if (nbb_cells[i].input_prompt_number == nbb_cell_id) {\n",
       "                        if (nbb_cells[i].get_text() == nbb_unformatted_code) {\n",
       "                             nbb_cells[i].set_text(nbb_formatted_code);\n",
       "                        }\n",
       "                        break;\n",
       "                    }\n",
       "                }\n",
       "            }, 500);\n",
       "            "
      ],
      "text/plain": [
       "<IPython.core.display.Javascript object>"
      ]
     },
     "metadata": {},
     "output_type": "display_data"
    }
   ],
   "source": [
    "country_emms[\"submission_date\"] = [\n",
    "    datetime.strptime(d, \"%m/%d/%Y\").date() for d in country_emms[\"submission_date\"]\n",
    "]\n",
    "country_emms = country_emms.resample(\"AS\").filter(year=range(2010, 2051))"
   ]
  },
  {
   "cell_type": "code",
   "execution_count": 25,
   "id": "6fa4e123",
   "metadata": {},
   "outputs": [
    {
     "data": {
      "application/javascript": [
       "\n",
       "            setTimeout(function() {\n",
       "                var nbb_cell_id = 25;\n",
       "                var nbb_unformatted_code = \"baseline_adjusted_emms = baseline_adjusted_emms.resample(\\\"AS\\\").filter(\\n    year=range(2010, 2051)\\n)\";\n",
       "                var nbb_formatted_code = \"baseline_adjusted_emms = baseline_adjusted_emms.resample(\\\"AS\\\").filter(\\n    year=range(2010, 2051)\\n)\";\n",
       "                var nbb_cells = Jupyter.notebook.get_cells();\n",
       "                for (var i = 0; i < nbb_cells.length; ++i) {\n",
       "                    if (nbb_cells[i].input_prompt_number == nbb_cell_id) {\n",
       "                        if (nbb_cells[i].get_text() == nbb_unformatted_code) {\n",
       "                             nbb_cells[i].set_text(nbb_formatted_code);\n",
       "                        }\n",
       "                        break;\n",
       "                    }\n",
       "                }\n",
       "            }, 500);\n",
       "            "
      ],
      "text/plain": [
       "<IPython.core.display.Javascript object>"
      ]
     },
     "metadata": {},
     "output_type": "display_data"
    }
   ],
   "source": [
    "baseline_adjusted_emms = baseline_adjusted_emms.resample(\"AS\").filter(\n",
    "    year=range(2010, 2051)\n",
    ")"
   ]
  },
  {
   "cell_type": "markdown",
   "id": "004c3690",
   "metadata": {},
   "source": [
    "# Merge available scenarios\n",
    "\n",
    "Given a set of submitted NDCs, merge to form a single global path. If a country has not yet submitted, add emissions from SSP1 or SSP5"
   ]
  },
  {
   "cell_type": "code",
   "execution_count": 26,
   "id": "7a2d70fe",
   "metadata": {},
   "outputs": [
    {
     "name": "stdout",
     "output_type": "stream",
     "text": [
      "Automatic pdb calling has been turned OFF\n"
     ]
    },
    {
     "data": {
      "application/javascript": [
       "\n",
       "            setTimeout(function() {\n",
       "                var nbb_cell_id = 26;\n",
       "                var nbb_unformatted_code = \"%pdb off\";\n",
       "                var nbb_formatted_code = \"%pdb off\";\n",
       "                var nbb_cells = Jupyter.notebook.get_cells();\n",
       "                for (var i = 0; i < nbb_cells.length; ++i) {\n",
       "                    if (nbb_cells[i].input_prompt_number == nbb_cell_id) {\n",
       "                        if (nbb_cells[i].get_text() == nbb_unformatted_code) {\n",
       "                             nbb_cells[i].set_text(nbb_formatted_code);\n",
       "                        }\n",
       "                        break;\n",
       "                    }\n",
       "                }\n",
       "            }, 500);\n",
       "            "
      ],
      "text/plain": [
       "<IPython.core.display.Javascript object>"
      ]
     },
     "metadata": {},
     "output_type": "display_data"
    }
   ],
   "source": [
    "%pdb off"
   ]
  },
  {
   "cell_type": "code",
   "execution_count": 27,
   "id": "04bb427b",
   "metadata": {},
   "outputs": [
    {
     "data": {
      "application/javascript": [
       "\n",
       "            setTimeout(function() {\n",
       "                var nbb_cell_id = 27;\n",
       "                var nbb_unformatted_code = \"def process_all_ndcs(conditionality, ambition, country_extension, exclude_hot_air):\\n    cruncher = NDCCruncher(global_db, country_emms, baseline_adjusted_emms, conditionality, ambition, country_extension, exclude_hot_air)\\n    cruncher.crunch()\";\n",
       "                var nbb_formatted_code = \"def process_all_ndcs(conditionality, ambition, country_extension, exclude_hot_air):\\n    cruncher = NDCCruncher(\\n        global_db,\\n        country_emms,\\n        baseline_adjusted_emms,\\n        conditionality,\\n        ambition,\\n        country_extension,\\n        exclude_hot_air,\\n    )\\n    cruncher.crunch()\";\n",
       "                var nbb_cells = Jupyter.notebook.get_cells();\n",
       "                for (var i = 0; i < nbb_cells.length; ++i) {\n",
       "                    if (nbb_cells[i].input_prompt_number == nbb_cell_id) {\n",
       "                        if (nbb_cells[i].get_text() == nbb_unformatted_code) {\n",
       "                             nbb_cells[i].set_text(nbb_formatted_code);\n",
       "                        }\n",
       "                        break;\n",
       "                    }\n",
       "                }\n",
       "            }, 500);\n",
       "            "
      ],
      "text/plain": [
       "<IPython.core.display.Javascript object>"
      ]
     },
     "metadata": {},
     "output_type": "display_data"
    }
   ],
   "source": [
    "def process_all_ndcs(conditionality, ambition, country_extension, exclude_hot_air):\n",
    "    cruncher = NDCCruncher(global_db, country_emms, baseline_adjusted_emms, conditionality, ambition, country_extension, exclude_hot_air)\n",
    "    cruncher.crunch()\n"
   ]
  },
  {
   "cell_type": "code",
   "execution_count": 28,
   "id": "3ed05e0a",
   "metadata": {
    "pycharm": {
     "name": "#%%\n"
    }
   },
   "outputs": [
    {
     "data": {
      "text/plain": [
       "[('C', 'high', 'SSP1BL', 'exclude'),\n",
       " ('C', 'high', 'SSP1BL', 'include'),\n",
       " ('C', 'high', '2030', 'exclude'),\n",
       " ('C', 'high', '2030', 'include'),\n",
       " ('C', 'low', 'SSP1BL', 'exclude'),\n",
       " ('C', 'low', 'SSP1BL', 'include'),\n",
       " ('C', 'low', '2030', 'exclude'),\n",
       " ('C', 'low', '2030', 'include'),\n",
       " ('U', 'high', 'SSP1BL', 'exclude'),\n",
       " ('U', 'high', 'SSP1BL', 'include'),\n",
       " ('U', 'high', '2030', 'exclude'),\n",
       " ('U', 'high', '2030', 'include'),\n",
       " ('U', 'low', 'SSP1BL', 'exclude'),\n",
       " ('U', 'low', 'SSP1BL', 'include'),\n",
       " ('U', 'low', '2030', 'exclude'),\n",
       " ('U', 'low', '2030', 'include')]"
      ]
     },
     "execution_count": 28,
     "metadata": {},
     "output_type": "execute_result"
    },
    {
     "data": {
      "application/javascript": [
       "\n",
       "            setTimeout(function() {\n",
       "                var nbb_cell_id = 28;\n",
       "                var nbb_unformatted_code = \"options = list(\\n    itertools.product(\\n        country_emms.get_unique_meta(\\\"conditionality\\\"),\\n        country_emms.get_unique_meta(\\\"ambition\\\"),\\n        country_emms.get_unique_meta(\\\"country_extension\\\"),\\n        country_emms.get_unique_meta(\\\"exclude_hot_air\\\"),\\n    )\\n)\\noptions\";\n",
       "                var nbb_formatted_code = \"options = list(\\n    itertools.product(\\n        country_emms.get_unique_meta(\\\"conditionality\\\"),\\n        country_emms.get_unique_meta(\\\"ambition\\\"),\\n        country_emms.get_unique_meta(\\\"country_extension\\\"),\\n        country_emms.get_unique_meta(\\\"exclude_hot_air\\\"),\\n    )\\n)\\noptions\";\n",
       "                var nbb_cells = Jupyter.notebook.get_cells();\n",
       "                for (var i = 0; i < nbb_cells.length; ++i) {\n",
       "                    if (nbb_cells[i].input_prompt_number == nbb_cell_id) {\n",
       "                        if (nbb_cells[i].get_text() == nbb_unformatted_code) {\n",
       "                             nbb_cells[i].set_text(nbb_formatted_code);\n",
       "                        }\n",
       "                        break;\n",
       "                    }\n",
       "                }\n",
       "            }, 500);\n",
       "            "
      ],
      "text/plain": [
       "<IPython.core.display.Javascript object>"
      ]
     },
     "metadata": {},
     "output_type": "display_data"
    }
   ],
   "source": [
    "options = list(\n",
    "    itertools.product(\n",
    "        country_emms.get_unique_meta(\"conditionality\"),\n",
    "        country_emms.get_unique_meta(\"ambition\"),\n",
    "        country_emms.get_unique_meta(\"country_extension\"),\n",
    "        country_emms.get_unique_meta(\"exclude_hot_air\"),\n",
    "    )\n",
    ")\n",
    "options"
   ]
  },
  {
   "cell_type": "code",
   "execution_count": 29,
   "id": "5dcf08e4",
   "metadata": {
    "pycharm": {
     "name": "#%%\n"
    }
   },
   "outputs": [
    {
     "data": {
      "application/javascript": [
       "\n",
       "            setTimeout(function() {\n",
       "                var nbb_cell_id = 29;\n",
       "                var nbb_unformatted_code = \"logger = logging.getLogger(\\\"nb\\\")\";\n",
       "                var nbb_formatted_code = \"logger = logging.getLogger(\\\"nb\\\")\";\n",
       "                var nbb_cells = Jupyter.notebook.get_cells();\n",
       "                for (var i = 0; i < nbb_cells.length; ++i) {\n",
       "                    if (nbb_cells[i].input_prompt_number == nbb_cell_id) {\n",
       "                        if (nbb_cells[i].get_text() == nbb_unformatted_code) {\n",
       "                             nbb_cells[i].set_text(nbb_formatted_code);\n",
       "                        }\n",
       "                        break;\n",
       "                    }\n",
       "                }\n",
       "            }, 500);\n",
       "            "
      ],
      "text/plain": [
       "<IPython.core.display.Javascript object>"
      ]
     },
     "metadata": {},
     "output_type": "display_data"
    }
   ],
   "source": [
    "logger = logging.getLogger(\"nb\")"
   ]
  },
  {
   "cell_type": "code",
   "execution_count": 30,
   "id": "22e5c1ad",
   "metadata": {},
   "outputs": [
    {
     "data": {
      "application/vnd.jupyter.widget-view+json": {
       "model_id": "99e2af72ceb34be78344f9d8f561254a",
       "version_major": 2,
       "version_minor": 0
      },
      "text/plain": [
       "options:   0%|          | 0/16 [00:00<?, ?it/s]"
      ]
     },
     "metadata": {},
     "output_type": "display_data"
    },
    {
     "data": {
      "application/javascript": [
       "\n",
       "            setTimeout(function() {\n",
       "                var nbb_cell_id = 30;\n",
       "                var nbb_unformatted_code = \"from concurrent.futures import as_completed, ProcessPoolExecutor\\nimport time\\n\\npool = ProcessPoolExecutor(\\n    max_workers=16,\\n)\\nfutures = [pool.submit(process_all_ndcs, *a) for a in options]\\n\\nlogger.info(\\\"Waiting for jobs to complete\\\")\\nfor i, future in tqdm(\\n    enumerate(as_completed(futures)), total=len(futures), desc=\\\"options\\\"\\n):\\n    if future.exception() is not None:\\n        time.sleep(2)  # let buffer flush out\\n        print(\\n            \\\"One of the processes failed, see error below (was something \\\"\\n            \\\"unable to be pickled?)\\\"\\n        )\\n        raise future.exception()\\n\\nres = []\\nlogger.info(\\\"Collecting results\\\")\\nfor i, future in enumerate(futures):\\n    try:\\n        res.append(future.result())\\n    except Exception as exc:  # pylint:disable=broad-except\\n        res.append(exc)\";\n",
       "                var nbb_formatted_code = \"from concurrent.futures import as_completed, ProcessPoolExecutor\\nimport time\\n\\npool = ProcessPoolExecutor(\\n    max_workers=16,\\n)\\nfutures = [pool.submit(process_all_ndcs, *a) for a in options]\\n\\nlogger.info(\\\"Waiting for jobs to complete\\\")\\nfor i, future in tqdm(\\n    enumerate(as_completed(futures)), total=len(futures), desc=\\\"options\\\"\\n):\\n    if future.exception() is not None:\\n        time.sleep(2)  # let buffer flush out\\n        print(\\n            \\\"One of the processes failed, see error below (was something \\\"\\n            \\\"unable to be pickled?)\\\"\\n        )\\n        raise future.exception()\\n\\nres = []\\nlogger.info(\\\"Collecting results\\\")\\nfor i, future in enumerate(futures):\\n    try:\\n        res.append(future.result())\\n    except Exception as exc:  # pylint:disable=broad-except\\n        res.append(exc)\";\n",
       "                var nbb_cells = Jupyter.notebook.get_cells();\n",
       "                for (var i = 0; i < nbb_cells.length; ++i) {\n",
       "                    if (nbb_cells[i].input_prompt_number == nbb_cell_id) {\n",
       "                        if (nbb_cells[i].get_text() == nbb_unformatted_code) {\n",
       "                             nbb_cells[i].set_text(nbb_formatted_code);\n",
       "                        }\n",
       "                        break;\n",
       "                    }\n",
       "                }\n",
       "            }, 500);\n",
       "            "
      ],
      "text/plain": [
       "<IPython.core.display.Javascript object>"
      ]
     },
     "metadata": {},
     "output_type": "display_data"
    }
   ],
   "source": [
    "from concurrent.futures import as_completed, ProcessPoolExecutor\n",
    "import time\n",
    "\n",
    "pool = ProcessPoolExecutor(\n",
    "    max_workers=16,\n",
    ")\n",
    "futures = [pool.submit(process_all_ndcs, *a) for a in options]\n",
    "\n",
    "logger.info(\"Waiting for jobs to complete\")\n",
    "for i, future in tqdm(\n",
    "    enumerate(as_completed(futures)), total=len(futures), desc=\"options\"\n",
    "):\n",
    "    if future.exception() is not None:\n",
    "        time.sleep(2)  # let buffer flush out\n",
    "        print(\n",
    "            \"One of the processes failed, see error below (was something \"\n",
    "            \"unable to be pickled?)\"\n",
    "        )\n",
    "        raise future.exception()\n",
    "\n",
    "res = []\n",
    "logger.info(\"Collecting results\")\n",
    "for i, future in enumerate(futures):\n",
    "    try:\n",
    "        res.append(future.result())\n",
    "    except Exception as exc:  # pylint:disable=broad-except\n",
    "        res.append(exc)"
   ]
  },
  {
   "cell_type": "code",
   "execution_count": 31,
   "id": "369c6bc0",
   "metadata": {},
   "outputs": [
    {
     "data": {
      "application/vnd.jupyter.widget-view+json": {
       "model_id": "",
       "version_major": 2,
       "version_minor": 0
      },
      "text/plain": [
       "Loading files:   0%|          | 0/5656 [00:00<?, ?it/s]"
      ]
     },
     "metadata": {},
     "output_type": "display_data"
    },
    {
     "data": {
      "application/javascript": [
       "\n",
       "            setTimeout(function() {\n",
       "                var nbb_cell_id = 31;\n",
       "                var nbb_unformatted_code = \"global_emms = global_db.load()\";\n",
       "                var nbb_formatted_code = \"global_emms = global_db.load()\";\n",
       "                var nbb_cells = Jupyter.notebook.get_cells();\n",
       "                for (var i = 0; i < nbb_cells.length; ++i) {\n",
       "                    if (nbb_cells[i].input_prompt_number == nbb_cell_id) {\n",
       "                        if (nbb_cells[i].get_text() == nbb_unformatted_code) {\n",
       "                             nbb_cells[i].set_text(nbb_formatted_code);\n",
       "                        }\n",
       "                        break;\n",
       "                    }\n",
       "                }\n",
       "            }, 500);\n",
       "            "
      ],
      "text/plain": [
       "<IPython.core.display.Javascript object>"
      ]
     },
     "metadata": {},
     "output_type": "display_data"
    }
   ],
   "source": [
    "global_emms = global_db.load()"
   ]
  },
  {
   "cell_type": "code",
   "execution_count": 32,
   "id": "c8ca1e89",
   "metadata": {
    "pycharm": {
     "name": "#%%\n"
    }
   },
   "outputs": [
    {
     "data": {
      "text/html": [
       "<div>\n",
       "<style scoped>\n",
       "    .dataframe tbody tr th:only-of-type {\n",
       "        vertical-align: middle;\n",
       "    }\n",
       "\n",
       "    .dataframe tbody tr th {\n",
       "        vertical-align: top;\n",
       "    }\n",
       "\n",
       "    .dataframe thead th {\n",
       "        text-align: right;\n",
       "    }\n",
       "</style>\n",
       "<table border=\"1\" class=\"dataframe\">\n",
       "  <thead>\n",
       "    <tr style=\"text-align: right;\">\n",
       "      <th></th>\n",
       "      <th></th>\n",
       "      <th></th>\n",
       "      <th></th>\n",
       "      <th></th>\n",
       "      <th></th>\n",
       "      <th></th>\n",
       "      <th></th>\n",
       "      <th></th>\n",
       "      <th></th>\n",
       "      <th></th>\n",
       "      <th></th>\n",
       "      <th></th>\n",
       "      <th></th>\n",
       "      <th>time</th>\n",
       "      <th>2010-01-01</th>\n",
       "      <th>2011-01-01</th>\n",
       "      <th>2012-01-01</th>\n",
       "      <th>2013-01-01</th>\n",
       "      <th>2014-01-01</th>\n",
       "      <th>2015-01-01</th>\n",
       "      <th>2016-01-01</th>\n",
       "      <th>...</th>\n",
       "      <th>2044-01-01</th>\n",
       "      <th>2045-01-01</th>\n",
       "      <th>2046-01-01</th>\n",
       "      <th>2047-01-01</th>\n",
       "      <th>2048-01-01</th>\n",
       "      <th>2049-01-01</th>\n",
       "      <th>2050-01-01</th>\n",
       "    </tr>\n",
       "    <tr>\n",
       "      <th>ambition</th>\n",
       "      <th>conditionality</th>\n",
       "      <th>country_extension</th>\n",
       "      <th>date</th>\n",
       "      <th>exclude_hot_air</th>\n",
       "      <th>global_extension</th>\n",
       "      <th>last_country</th>\n",
       "      <th>model</th>\n",
       "      <th>pathway_id</th>\n",
       "      <th>pathway_num</th>\n",
       "      <th>pathway_num_today</th>\n",
       "      <th>region</th>\n",
       "      <th>scenario</th>\n",
       "      <th>unit</th>\n",
       "      <th>variable</th>\n",
       "      <th></th>\n",
       "      <th></th>\n",
       "      <th></th>\n",
       "      <th></th>\n",
       "      <th></th>\n",
       "      <th></th>\n",
       "      <th></th>\n",
       "      <th></th>\n",
       "      <th></th>\n",
       "      <th></th>\n",
       "      <th></th>\n",
       "      <th></th>\n",
       "      <th></th>\n",
       "      <th></th>\n",
       "      <th></th>\n",
       "    </tr>\n",
       "  </thead>\n",
       "  <tbody>\n",
       "    <tr>\n",
       "      <th rowspan=\"5\" valign=\"top\">high</th>\n",
       "      <th rowspan=\"5\" valign=\"top\">C</th>\n",
       "      <th rowspan=\"5\" valign=\"top\">2030</th>\n",
       "      <th>2021-08-02</th>\n",
       "      <th>exclude</th>\n",
       "      <th>n/a</th>\n",
       "      <th>COG</th>\n",
       "      <th>NDC Factsheet</th>\n",
       "      <th>2021-08-02_1</th>\n",
       "      <th>309</th>\n",
       "      <th>1</th>\n",
       "      <th>World</th>\n",
       "      <th>high__C</th>\n",
       "      <th>Mt CO2 /yr</th>\n",
       "      <th>Emissions|Total GHG excl. LULUCF</th>\n",
       "      <td>45085.555590</td>\n",
       "      <td>46428.064370</td>\n",
       "      <td>47088.761910</td>\n",
       "      <td>47449.275490</td>\n",
       "      <td>48104.428320</td>\n",
       "      <td>48223.28657</td>\n",
       "      <td>48321.077000</td>\n",
       "      <td>...</td>\n",
       "      <td>45592.637879</td>\n",
       "      <td>45351.361995</td>\n",
       "      <td>45110.745335</td>\n",
       "      <td>44870.128675</td>\n",
       "      <td>44629.512015</td>\n",
       "      <td>44388.236131</td>\n",
       "      <td>44147.619471</td>\n",
       "    </tr>\n",
       "    <tr>\n",
       "      <th>2021-10-10</th>\n",
       "      <th>exclude</th>\n",
       "      <th>n/a</th>\n",
       "      <th>PSE</th>\n",
       "      <th>NDC Factsheet</th>\n",
       "      <th>2021-10-10_1</th>\n",
       "      <th>325</th>\n",
       "      <th>1</th>\n",
       "      <th>World</th>\n",
       "      <th>high__C</th>\n",
       "      <th>Mt CO2 /yr</th>\n",
       "      <th>Emissions|Total GHG excl. LULUCF</th>\n",
       "      <td>45085.555590</td>\n",
       "      <td>46428.064370</td>\n",
       "      <td>47088.761910</td>\n",
       "      <td>47449.275490</td>\n",
       "      <td>48104.428320</td>\n",
       "      <td>48223.28657</td>\n",
       "      <td>48321.077000</td>\n",
       "      <td>...</td>\n",
       "      <td>45569.458454</td>\n",
       "      <td>45335.514233</td>\n",
       "      <td>45102.209203</td>\n",
       "      <td>44868.904173</td>\n",
       "      <td>44635.599143</td>\n",
       "      <td>44401.654921</td>\n",
       "      <td>44168.349891</td>\n",
       "    </tr>\n",
       "    <tr>\n",
       "      <th>2021-04-16</th>\n",
       "      <th>exclude</th>\n",
       "      <th>n/a</th>\n",
       "      <th>MKD</th>\n",
       "      <th>NDC Factsheet</th>\n",
       "      <th>2021-04-16_1</th>\n",
       "      <th>277</th>\n",
       "      <th>1</th>\n",
       "      <th>World</th>\n",
       "      <th>high__C</th>\n",
       "      <th>Mt CO2 /yr</th>\n",
       "      <th>Emissions|Total GHG excl. LULUCF</th>\n",
       "      <td>45085.555590</td>\n",
       "      <td>46428.064370</td>\n",
       "      <td>47088.761910</td>\n",
       "      <td>47449.275490</td>\n",
       "      <td>48104.428320</td>\n",
       "      <td>48223.28657</td>\n",
       "      <td>48321.077000</td>\n",
       "      <td>...</td>\n",
       "      <td>50164.390660</td>\n",
       "      <td>50143.775103</td>\n",
       "      <td>50123.215873</td>\n",
       "      <td>50102.656643</td>\n",
       "      <td>50082.097413</td>\n",
       "      <td>50061.481857</td>\n",
       "      <td>50040.922627</td>\n",
       "    </tr>\n",
       "    <tr>\n",
       "      <th>2018-11-30</th>\n",
       "      <th>exclude</th>\n",
       "      <th>n/a</th>\n",
       "      <th>SYR</th>\n",
       "      <th>NDC Factsheet</th>\n",
       "      <th>2018-11-30_1</th>\n",
       "      <th>193</th>\n",
       "      <th>1</th>\n",
       "      <th>World</th>\n",
       "      <th>high__C</th>\n",
       "      <th>Mt CO2 /yr</th>\n",
       "      <th>Emissions|Total GHG excl. LULUCF</th>\n",
       "      <td>45113.146990</td>\n",
       "      <td>46470.336655</td>\n",
       "      <td>47123.611817</td>\n",
       "      <td>47477.588909</td>\n",
       "      <td>48122.365707</td>\n",
       "      <td>48223.28657</td>\n",
       "      <td>48334.896752</td>\n",
       "      <td>...</td>\n",
       "      <td>52190.083592</td>\n",
       "      <td>52230.472855</td>\n",
       "      <td>52270.523354</td>\n",
       "      <td>52312.352210</td>\n",
       "      <td>52351.512390</td>\n",
       "      <td>52383.208036</td>\n",
       "      <td>52423.021083</td>\n",
       "    </tr>\n",
       "    <tr>\n",
       "      <th>2020-12-09</th>\n",
       "      <th>exclude</th>\n",
       "      <th>n/a</th>\n",
       "      <th>NPL</th>\n",
       "      <th>NDC Factsheet</th>\n",
       "      <th>2020-12-09_3</th>\n",
       "      <th>219</th>\n",
       "      <th>3</th>\n",
       "      <th>World</th>\n",
       "      <th>high__C</th>\n",
       "      <th>Mt CO2 /yr</th>\n",
       "      <th>Emissions|Total GHG excl. LULUCF</th>\n",
       "      <td>45086.288422</td>\n",
       "      <td>46429.675899</td>\n",
       "      <td>47088.695037</td>\n",
       "      <td>47448.032521</td>\n",
       "      <td>48103.500105</td>\n",
       "      <td>48223.28657</td>\n",
       "      <td>48321.976365</td>\n",
       "      <td>...</td>\n",
       "      <td>52520.881968</td>\n",
       "      <td>52592.798507</td>\n",
       "      <td>52664.571381</td>\n",
       "      <td>52736.357092</td>\n",
       "      <td>52808.117130</td>\n",
       "      <td>52880.073095</td>\n",
       "      <td>52951.885395</td>\n",
       "    </tr>\n",
       "  </tbody>\n",
       "</table>\n",
       "<p>5 rows × 41 columns</p>\n",
       "</div>"
      ],
      "text/plain": [
       "time                                                                                                                                                                                                                       2010-01-01    2011-01-01  \\\n",
       "ambition conditionality country_extension date       exclude_hot_air global_extension last_country model         pathway_id   pathway_num pathway_num_today region scenario unit       variable                                                       \n",
       "high     C              2030              2021-08-02 exclude         n/a              COG          NDC Factsheet 2021-08-02_1 309         1                 World  high__C  Mt CO2 /yr Emissions|Total GHG excl. LULUCF  45085.555590  46428.064370   \n",
       "                                          2021-10-10 exclude         n/a              PSE          NDC Factsheet 2021-10-10_1 325         1                 World  high__C  Mt CO2 /yr Emissions|Total GHG excl. LULUCF  45085.555590  46428.064370   \n",
       "                                          2021-04-16 exclude         n/a              MKD          NDC Factsheet 2021-04-16_1 277         1                 World  high__C  Mt CO2 /yr Emissions|Total GHG excl. LULUCF  45085.555590  46428.064370   \n",
       "                                          2018-11-30 exclude         n/a              SYR          NDC Factsheet 2018-11-30_1 193         1                 World  high__C  Mt CO2 /yr Emissions|Total GHG excl. LULUCF  45113.146990  46470.336655   \n",
       "                                          2020-12-09 exclude         n/a              NPL          NDC Factsheet 2020-12-09_3 219         3                 World  high__C  Mt CO2 /yr Emissions|Total GHG excl. LULUCF  45086.288422  46429.675899   \n",
       "\n",
       "time                                                                                                                                                                                                                       2012-01-01    2013-01-01  \\\n",
       "ambition conditionality country_extension date       exclude_hot_air global_extension last_country model         pathway_id   pathway_num pathway_num_today region scenario unit       variable                                                       \n",
       "high     C              2030              2021-08-02 exclude         n/a              COG          NDC Factsheet 2021-08-02_1 309         1                 World  high__C  Mt CO2 /yr Emissions|Total GHG excl. LULUCF  47088.761910  47449.275490   \n",
       "                                          2021-10-10 exclude         n/a              PSE          NDC Factsheet 2021-10-10_1 325         1                 World  high__C  Mt CO2 /yr Emissions|Total GHG excl. LULUCF  47088.761910  47449.275490   \n",
       "                                          2021-04-16 exclude         n/a              MKD          NDC Factsheet 2021-04-16_1 277         1                 World  high__C  Mt CO2 /yr Emissions|Total GHG excl. LULUCF  47088.761910  47449.275490   \n",
       "                                          2018-11-30 exclude         n/a              SYR          NDC Factsheet 2018-11-30_1 193         1                 World  high__C  Mt CO2 /yr Emissions|Total GHG excl. LULUCF  47123.611817  47477.588909   \n",
       "                                          2020-12-09 exclude         n/a              NPL          NDC Factsheet 2020-12-09_3 219         3                 World  high__C  Mt CO2 /yr Emissions|Total GHG excl. LULUCF  47088.695037  47448.032521   \n",
       "\n",
       "time                                                                                                                                                                                                                       2014-01-01   2015-01-01  \\\n",
       "ambition conditionality country_extension date       exclude_hot_air global_extension last_country model         pathway_id   pathway_num pathway_num_today region scenario unit       variable                                                      \n",
       "high     C              2030              2021-08-02 exclude         n/a              COG          NDC Factsheet 2021-08-02_1 309         1                 World  high__C  Mt CO2 /yr Emissions|Total GHG excl. LULUCF  48104.428320  48223.28657   \n",
       "                                          2021-10-10 exclude         n/a              PSE          NDC Factsheet 2021-10-10_1 325         1                 World  high__C  Mt CO2 /yr Emissions|Total GHG excl. LULUCF  48104.428320  48223.28657   \n",
       "                                          2021-04-16 exclude         n/a              MKD          NDC Factsheet 2021-04-16_1 277         1                 World  high__C  Mt CO2 /yr Emissions|Total GHG excl. LULUCF  48104.428320  48223.28657   \n",
       "                                          2018-11-30 exclude         n/a              SYR          NDC Factsheet 2018-11-30_1 193         1                 World  high__C  Mt CO2 /yr Emissions|Total GHG excl. LULUCF  48122.365707  48223.28657   \n",
       "                                          2020-12-09 exclude         n/a              NPL          NDC Factsheet 2020-12-09_3 219         3                 World  high__C  Mt CO2 /yr Emissions|Total GHG excl. LULUCF  48103.500105  48223.28657   \n",
       "\n",
       "time                                                                                                                                                                                                                       2016-01-01  ...  \\\n",
       "ambition conditionality country_extension date       exclude_hot_air global_extension last_country model         pathway_id   pathway_num pathway_num_today region scenario unit       variable                                        ...   \n",
       "high     C              2030              2021-08-02 exclude         n/a              COG          NDC Factsheet 2021-08-02_1 309         1                 World  high__C  Mt CO2 /yr Emissions|Total GHG excl. LULUCF  48321.077000  ...   \n",
       "                                          2021-10-10 exclude         n/a              PSE          NDC Factsheet 2021-10-10_1 325         1                 World  high__C  Mt CO2 /yr Emissions|Total GHG excl. LULUCF  48321.077000  ...   \n",
       "                                          2021-04-16 exclude         n/a              MKD          NDC Factsheet 2021-04-16_1 277         1                 World  high__C  Mt CO2 /yr Emissions|Total GHG excl. LULUCF  48321.077000  ...   \n",
       "                                          2018-11-30 exclude         n/a              SYR          NDC Factsheet 2018-11-30_1 193         1                 World  high__C  Mt CO2 /yr Emissions|Total GHG excl. LULUCF  48334.896752  ...   \n",
       "                                          2020-12-09 exclude         n/a              NPL          NDC Factsheet 2020-12-09_3 219         3                 World  high__C  Mt CO2 /yr Emissions|Total GHG excl. LULUCF  48321.976365  ...   \n",
       "\n",
       "time                                                                                                                                                                                                                       2044-01-01    2045-01-01  \\\n",
       "ambition conditionality country_extension date       exclude_hot_air global_extension last_country model         pathway_id   pathway_num pathway_num_today region scenario unit       variable                                                       \n",
       "high     C              2030              2021-08-02 exclude         n/a              COG          NDC Factsheet 2021-08-02_1 309         1                 World  high__C  Mt CO2 /yr Emissions|Total GHG excl. LULUCF  45592.637879  45351.361995   \n",
       "                                          2021-10-10 exclude         n/a              PSE          NDC Factsheet 2021-10-10_1 325         1                 World  high__C  Mt CO2 /yr Emissions|Total GHG excl. LULUCF  45569.458454  45335.514233   \n",
       "                                          2021-04-16 exclude         n/a              MKD          NDC Factsheet 2021-04-16_1 277         1                 World  high__C  Mt CO2 /yr Emissions|Total GHG excl. LULUCF  50164.390660  50143.775103   \n",
       "                                          2018-11-30 exclude         n/a              SYR          NDC Factsheet 2018-11-30_1 193         1                 World  high__C  Mt CO2 /yr Emissions|Total GHG excl. LULUCF  52190.083592  52230.472855   \n",
       "                                          2020-12-09 exclude         n/a              NPL          NDC Factsheet 2020-12-09_3 219         3                 World  high__C  Mt CO2 /yr Emissions|Total GHG excl. LULUCF  52520.881968  52592.798507   \n",
       "\n",
       "time                                                                                                                                                                                                                       2046-01-01    2047-01-01  \\\n",
       "ambition conditionality country_extension date       exclude_hot_air global_extension last_country model         pathway_id   pathway_num pathway_num_today region scenario unit       variable                                                       \n",
       "high     C              2030              2021-08-02 exclude         n/a              COG          NDC Factsheet 2021-08-02_1 309         1                 World  high__C  Mt CO2 /yr Emissions|Total GHG excl. LULUCF  45110.745335  44870.128675   \n",
       "                                          2021-10-10 exclude         n/a              PSE          NDC Factsheet 2021-10-10_1 325         1                 World  high__C  Mt CO2 /yr Emissions|Total GHG excl. LULUCF  45102.209203  44868.904173   \n",
       "                                          2021-04-16 exclude         n/a              MKD          NDC Factsheet 2021-04-16_1 277         1                 World  high__C  Mt CO2 /yr Emissions|Total GHG excl. LULUCF  50123.215873  50102.656643   \n",
       "                                          2018-11-30 exclude         n/a              SYR          NDC Factsheet 2018-11-30_1 193         1                 World  high__C  Mt CO2 /yr Emissions|Total GHG excl. LULUCF  52270.523354  52312.352210   \n",
       "                                          2020-12-09 exclude         n/a              NPL          NDC Factsheet 2020-12-09_3 219         3                 World  high__C  Mt CO2 /yr Emissions|Total GHG excl. LULUCF  52664.571381  52736.357092   \n",
       "\n",
       "time                                                                                                                                                                                                                       2048-01-01    2049-01-01  \\\n",
       "ambition conditionality country_extension date       exclude_hot_air global_extension last_country model         pathway_id   pathway_num pathway_num_today region scenario unit       variable                                                       \n",
       "high     C              2030              2021-08-02 exclude         n/a              COG          NDC Factsheet 2021-08-02_1 309         1                 World  high__C  Mt CO2 /yr Emissions|Total GHG excl. LULUCF  44629.512015  44388.236131   \n",
       "                                          2021-10-10 exclude         n/a              PSE          NDC Factsheet 2021-10-10_1 325         1                 World  high__C  Mt CO2 /yr Emissions|Total GHG excl. LULUCF  44635.599143  44401.654921   \n",
       "                                          2021-04-16 exclude         n/a              MKD          NDC Factsheet 2021-04-16_1 277         1                 World  high__C  Mt CO2 /yr Emissions|Total GHG excl. LULUCF  50082.097413  50061.481857   \n",
       "                                          2018-11-30 exclude         n/a              SYR          NDC Factsheet 2018-11-30_1 193         1                 World  high__C  Mt CO2 /yr Emissions|Total GHG excl. LULUCF  52351.512390  52383.208036   \n",
       "                                          2020-12-09 exclude         n/a              NPL          NDC Factsheet 2020-12-09_3 219         3                 World  high__C  Mt CO2 /yr Emissions|Total GHG excl. LULUCF  52808.117130  52880.073095   \n",
       "\n",
       "time                                                                                                                                                                                                                       2050-01-01  \n",
       "ambition conditionality country_extension date       exclude_hot_air global_extension last_country model         pathway_id   pathway_num pathway_num_today region scenario unit       variable                                        \n",
       "high     C              2030              2021-08-02 exclude         n/a              COG          NDC Factsheet 2021-08-02_1 309         1                 World  high__C  Mt CO2 /yr Emissions|Total GHG excl. LULUCF  44147.619471  \n",
       "                                          2021-10-10 exclude         n/a              PSE          NDC Factsheet 2021-10-10_1 325         1                 World  high__C  Mt CO2 /yr Emissions|Total GHG excl. LULUCF  44168.349891  \n",
       "                                          2021-04-16 exclude         n/a              MKD          NDC Factsheet 2021-04-16_1 277         1                 World  high__C  Mt CO2 /yr Emissions|Total GHG excl. LULUCF  50040.922627  \n",
       "                                          2018-11-30 exclude         n/a              SYR          NDC Factsheet 2018-11-30_1 193         1                 World  high__C  Mt CO2 /yr Emissions|Total GHG excl. LULUCF  52423.021083  \n",
       "                                          2020-12-09 exclude         n/a              NPL          NDC Factsheet 2020-12-09_3 219         3                 World  high__C  Mt CO2 /yr Emissions|Total GHG excl. LULUCF  52951.885395  \n",
       "\n",
       "[5 rows x 41 columns]"
      ]
     },
     "execution_count": 32,
     "metadata": {},
     "output_type": "execute_result"
    },
    {
     "data": {
      "application/javascript": [
       "\n",
       "            setTimeout(function() {\n",
       "                var nbb_cell_id = 32;\n",
       "                var nbb_unformatted_code = \"global_emms.head()\";\n",
       "                var nbb_formatted_code = \"global_emms.head()\";\n",
       "                var nbb_cells = Jupyter.notebook.get_cells();\n",
       "                for (var i = 0; i < nbb_cells.length; ++i) {\n",
       "                    if (nbb_cells[i].input_prompt_number == nbb_cell_id) {\n",
       "                        if (nbb_cells[i].get_text() == nbb_unformatted_code) {\n",
       "                             nbb_cells[i].set_text(nbb_formatted_code);\n",
       "                        }\n",
       "                        break;\n",
       "                    }\n",
       "                }\n",
       "            }, 500);\n",
       "            "
      ],
      "text/plain": [
       "<IPython.core.display.Javascript object>"
      ]
     },
     "metadata": {},
     "output_type": "display_data"
    }
   ],
   "source": [
    "global_emms.head()"
   ]
  },
  {
   "cell_type": "code",
   "execution_count": 33,
   "id": "4089a450",
   "metadata": {},
   "outputs": [
    {
     "data": {
      "text/plain": [
       "<AxesSubplot:xlabel='time', ylabel='Mt CO2 /yr'>"
      ]
     },
     "execution_count": 33,
     "metadata": {},
     "output_type": "execute_result"
    },
    {
     "data": {
      "image/png": "[encoded data removed]",
      "text/plain": [
       "<Figure size 432x288 with 1 Axes>"
      ]
     },
     "metadata": {
      "needs_background": "light"
     },
     "output_type": "display_data"
    },
    {
     "data": {
      "application/javascript": [
       "\n",
       "            setTimeout(function() {\n",
       "                var nbb_cell_id = 33;\n",
       "                var nbb_unformatted_code = \"global_emms.filter(country_extension=\\\"SSP1BL\\\").lineplot(\\n    hue=\\\"scenario\\\", units=\\\"pathway_id\\\", estimator=None\\n)\";\n",
       "                var nbb_formatted_code = \"global_emms.filter(country_extension=\\\"SSP1BL\\\").lineplot(\\n    hue=\\\"scenario\\\", units=\\\"pathway_id\\\", estimator=None\\n)\";\n",
       "                var nbb_cells = Jupyter.notebook.get_cells();\n",
       "                for (var i = 0; i < nbb_cells.length; ++i) {\n",
       "                    if (nbb_cells[i].input_prompt_number == nbb_cell_id) {\n",
       "                        if (nbb_cells[i].get_text() == nbb_unformatted_code) {\n",
       "                             nbb_cells[i].set_text(nbb_formatted_code);\n",
       "                        }\n",
       "                        break;\n",
       "                    }\n",
       "                }\n",
       "            }, 500);\n",
       "            "
      ],
      "text/plain": [
       "<IPython.core.display.Javascript object>"
      ]
     },
     "metadata": {},
     "output_type": "display_data"
    }
   ],
   "source": [
    "global_emms.filter(country_extension=\"SSP1BL\").lineplot(\n",
    "    hue=\"scenario\", units=\"pathway_id\", estimator=None\n",
    ")"
   ]
  },
  {
   "cell_type": "code",
   "execution_count": 34,
   "id": "2b9f0e0d",
   "metadata": {},
   "outputs": [
    {
     "data": {
      "text/html": [
       "<div>\n",
       "<style scoped>\n",
       "    .dataframe tbody tr th:only-of-type {\n",
       "        vertical-align: middle;\n",
       "    }\n",
       "\n",
       "    .dataframe tbody tr th {\n",
       "        vertical-align: top;\n",
       "    }\n",
       "\n",
       "    .dataframe thead th {\n",
       "        text-align: right;\n",
       "    }\n",
       "</style>\n",
       "<table border=\"1\" class=\"dataframe\">\n",
       "  <thead>\n",
       "    <tr style=\"text-align: right;\">\n",
       "      <th></th>\n",
       "      <th></th>\n",
       "      <th></th>\n",
       "      <th></th>\n",
       "      <th></th>\n",
       "      <th></th>\n",
       "      <th></th>\n",
       "      <th></th>\n",
       "      <th></th>\n",
       "      <th></th>\n",
       "      <th></th>\n",
       "      <th></th>\n",
       "      <th></th>\n",
       "      <th></th>\n",
       "      <th>time</th>\n",
       "      <th>2010-01-01</th>\n",
       "      <th>2011-01-01</th>\n",
       "      <th>2012-01-01</th>\n",
       "      <th>2013-01-01</th>\n",
       "      <th>2014-01-01</th>\n",
       "      <th>2015-01-01</th>\n",
       "      <th>2016-01-01</th>\n",
       "      <th>...</th>\n",
       "      <th>2044-01-01</th>\n",
       "      <th>2045-01-01</th>\n",
       "      <th>2046-01-01</th>\n",
       "      <th>2047-01-01</th>\n",
       "      <th>2048-01-01</th>\n",
       "      <th>2049-01-01</th>\n",
       "      <th>2050-01-01</th>\n",
       "    </tr>\n",
       "    <tr>\n",
       "      <th>ambition</th>\n",
       "      <th>conditionality</th>\n",
       "      <th>country_extension</th>\n",
       "      <th>date</th>\n",
       "      <th>exclude_hot_air</th>\n",
       "      <th>global_extension</th>\n",
       "      <th>last_country</th>\n",
       "      <th>model</th>\n",
       "      <th>pathway_id</th>\n",
       "      <th>pathway_num</th>\n",
       "      <th>pathway_num_today</th>\n",
       "      <th>region</th>\n",
       "      <th>scenario</th>\n",
       "      <th>unit</th>\n",
       "      <th>variable</th>\n",
       "      <th></th>\n",
       "      <th></th>\n",
       "      <th></th>\n",
       "      <th></th>\n",
       "      <th></th>\n",
       "      <th></th>\n",
       "      <th></th>\n",
       "      <th></th>\n",
       "      <th></th>\n",
       "      <th></th>\n",
       "      <th></th>\n",
       "      <th></th>\n",
       "      <th></th>\n",
       "      <th></th>\n",
       "      <th></th>\n",
       "    </tr>\n",
       "  </thead>\n",
       "  <tbody>\n",
       "    <tr>\n",
       "      <th rowspan=\"8\" valign=\"top\">high</th>\n",
       "      <th rowspan=\"4\" valign=\"top\">C</th>\n",
       "      <th rowspan=\"2\" valign=\"top\">2030</th>\n",
       "      <th rowspan=\"2\" valign=\"top\">2013-07-18</th>\n",
       "      <th>exclude</th>\n",
       "      <th>n/a</th>\n",
       "      <th>LBY</th>\n",
       "      <th>NDC Factsheet</th>\n",
       "      <th>2013-07-18_1</th>\n",
       "      <th>1</th>\n",
       "      <th>1</th>\n",
       "      <th>World</th>\n",
       "      <th>high__C</th>\n",
       "      <th>Mt CO2 /yr</th>\n",
       "      <th>Emissions|Total GHG excl. LULUCF</th>\n",
       "      <td>45328.738443</td>\n",
       "      <td>46616.881205</td>\n",
       "      <td>47329.310261</td>\n",
       "      <td>47603.394613</td>\n",
       "      <td>48069.219676</td>\n",
       "      <td>48223.28657</td>\n",
       "      <td>48556.824706</td>\n",
       "      <td>...</td>\n",
       "      <td>58299.892493</td>\n",
       "      <td>58353.238121</td>\n",
       "      <td>58363.262522</td>\n",
       "      <td>58395.068916</td>\n",
       "      <td>58549.552304</td>\n",
       "      <td>58570.039261</td>\n",
       "      <td>58611.059135</td>\n",
       "    </tr>\n",
       "    <tr>\n",
       "      <th>include</th>\n",
       "      <th>n/a</th>\n",
       "      <th>LBY</th>\n",
       "      <th>NDC Factsheet</th>\n",
       "      <th>2013-07-18_1</th>\n",
       "      <th>1</th>\n",
       "      <th>1</th>\n",
       "      <th>World</th>\n",
       "      <th>high__C</th>\n",
       "      <th>Mt CO2 /yr</th>\n",
       "      <th>Emissions|Total GHG excl. LULUCF</th>\n",
       "      <td>45328.738443</td>\n",
       "      <td>46616.881205</td>\n",
       "      <td>47329.310261</td>\n",
       "      <td>47603.394613</td>\n",
       "      <td>48069.219676</td>\n",
       "      <td>48223.28657</td>\n",
       "      <td>48556.824706</td>\n",
       "      <td>...</td>\n",
       "      <td>58299.892493</td>\n",
       "      <td>58353.238121</td>\n",
       "      <td>58363.262522</td>\n",
       "      <td>58395.068916</td>\n",
       "      <td>58549.552304</td>\n",
       "      <td>58570.039261</td>\n",
       "      <td>58611.059135</td>\n",
       "    </tr>\n",
       "    <tr>\n",
       "      <th rowspan=\"2\" valign=\"top\">SSP1BL</th>\n",
       "      <th rowspan=\"2\" valign=\"top\">2013-07-18</th>\n",
       "      <th>exclude</th>\n",
       "      <th>n/a</th>\n",
       "      <th>LBY</th>\n",
       "      <th>NDC Factsheet</th>\n",
       "      <th>2013-07-18_1</th>\n",
       "      <th>1</th>\n",
       "      <th>1</th>\n",
       "      <th>World</th>\n",
       "      <th>high__C</th>\n",
       "      <th>Mt CO2 /yr</th>\n",
       "      <th>Emissions|Total GHG excl. LULUCF</th>\n",
       "      <td>45328.738443</td>\n",
       "      <td>46616.881205</td>\n",
       "      <td>47329.310261</td>\n",
       "      <td>47603.394613</td>\n",
       "      <td>48069.219676</td>\n",
       "      <td>48223.28657</td>\n",
       "      <td>48556.824706</td>\n",
       "      <td>...</td>\n",
       "      <td>58264.788032</td>\n",
       "      <td>58315.619883</td>\n",
       "      <td>58323.138545</td>\n",
       "      <td>58352.439199</td>\n",
       "      <td>58504.416848</td>\n",
       "      <td>58522.390030</td>\n",
       "      <td>58560.904163</td>\n",
       "    </tr>\n",
       "    <tr>\n",
       "      <th>include</th>\n",
       "      <th>n/a</th>\n",
       "      <th>LBY</th>\n",
       "      <th>NDC Factsheet</th>\n",
       "      <th>2013-07-18_1</th>\n",
       "      <th>1</th>\n",
       "      <th>1</th>\n",
       "      <th>World</th>\n",
       "      <th>high__C</th>\n",
       "      <th>Mt CO2 /yr</th>\n",
       "      <th>Emissions|Total GHG excl. LULUCF</th>\n",
       "      <td>45328.738443</td>\n",
       "      <td>46616.881205</td>\n",
       "      <td>47329.310261</td>\n",
       "      <td>47603.394613</td>\n",
       "      <td>48069.219676</td>\n",
       "      <td>48223.28657</td>\n",
       "      <td>48556.824706</td>\n",
       "      <td>...</td>\n",
       "      <td>58264.788032</td>\n",
       "      <td>58315.619883</td>\n",
       "      <td>58323.138545</td>\n",
       "      <td>58352.439199</td>\n",
       "      <td>58504.416848</td>\n",
       "      <td>58522.390030</td>\n",
       "      <td>58560.904163</td>\n",
       "    </tr>\n",
       "    <tr>\n",
       "      <th rowspan=\"4\" valign=\"top\">U</th>\n",
       "      <th rowspan=\"2\" valign=\"top\">2030</th>\n",
       "      <th rowspan=\"2\" valign=\"top\">2013-07-18</th>\n",
       "      <th>exclude</th>\n",
       "      <th>n/a</th>\n",
       "      <th>LBY</th>\n",
       "      <th>NDC Factsheet</th>\n",
       "      <th>2013-07-18_1</th>\n",
       "      <th>1</th>\n",
       "      <th>1</th>\n",
       "      <th>World</th>\n",
       "      <th>high__U</th>\n",
       "      <th>Mt CO2 /yr</th>\n",
       "      <th>Emissions|Total GHG excl. LULUCF</th>\n",
       "      <td>45328.738443</td>\n",
       "      <td>46616.881205</td>\n",
       "      <td>47329.310261</td>\n",
       "      <td>47603.394613</td>\n",
       "      <td>48069.219676</td>\n",
       "      <td>48223.28657</td>\n",
       "      <td>48556.824706</td>\n",
       "      <td>...</td>\n",
       "      <td>58299.892493</td>\n",
       "      <td>58353.238121</td>\n",
       "      <td>58363.262522</td>\n",
       "      <td>58395.068916</td>\n",
       "      <td>58549.552304</td>\n",
       "      <td>58570.039261</td>\n",
       "      <td>58611.059135</td>\n",
       "    </tr>\n",
       "    <tr>\n",
       "      <th>include</th>\n",
       "      <th>n/a</th>\n",
       "      <th>LBY</th>\n",
       "      <th>NDC Factsheet</th>\n",
       "      <th>2013-07-18_1</th>\n",
       "      <th>1</th>\n",
       "      <th>1</th>\n",
       "      <th>World</th>\n",
       "      <th>high__U</th>\n",
       "      <th>Mt CO2 /yr</th>\n",
       "      <th>Emissions|Total GHG excl. LULUCF</th>\n",
       "      <td>45328.738443</td>\n",
       "      <td>46616.881205</td>\n",
       "      <td>47329.310261</td>\n",
       "      <td>47603.394613</td>\n",
       "      <td>48069.219676</td>\n",
       "      <td>48223.28657</td>\n",
       "      <td>48556.824706</td>\n",
       "      <td>...</td>\n",
       "      <td>58299.892493</td>\n",
       "      <td>58353.238121</td>\n",
       "      <td>58363.262522</td>\n",
       "      <td>58395.068916</td>\n",
       "      <td>58549.552304</td>\n",
       "      <td>58570.039261</td>\n",
       "      <td>58611.059135</td>\n",
       "    </tr>\n",
       "    <tr>\n",
       "      <th rowspan=\"2\" valign=\"top\">SSP1BL</th>\n",
       "      <th rowspan=\"2\" valign=\"top\">2013-07-18</th>\n",
       "      <th>exclude</th>\n",
       "      <th>n/a</th>\n",
       "      <th>LBY</th>\n",
       "      <th>NDC Factsheet</th>\n",
       "      <th>2013-07-18_1</th>\n",
       "      <th>1</th>\n",
       "      <th>1</th>\n",
       "      <th>World</th>\n",
       "      <th>high__U</th>\n",
       "      <th>Mt CO2 /yr</th>\n",
       "      <th>Emissions|Total GHG excl. LULUCF</th>\n",
       "      <td>45328.738443</td>\n",
       "      <td>46616.881205</td>\n",
       "      <td>47329.310261</td>\n",
       "      <td>47603.394613</td>\n",
       "      <td>48069.219676</td>\n",
       "      <td>48223.28657</td>\n",
       "      <td>48556.824706</td>\n",
       "      <td>...</td>\n",
       "      <td>58264.788032</td>\n",
       "      <td>58315.619883</td>\n",
       "      <td>58323.138545</td>\n",
       "      <td>58352.439199</td>\n",
       "      <td>58504.416848</td>\n",
       "      <td>58522.390030</td>\n",
       "      <td>58560.904163</td>\n",
       "    </tr>\n",
       "    <tr>\n",
       "      <th>include</th>\n",
       "      <th>n/a</th>\n",
       "      <th>LBY</th>\n",
       "      <th>NDC Factsheet</th>\n",
       "      <th>2013-07-18_1</th>\n",
       "      <th>1</th>\n",
       "      <th>1</th>\n",
       "      <th>World</th>\n",
       "      <th>high__U</th>\n",
       "      <th>Mt CO2 /yr</th>\n",
       "      <th>Emissions|Total GHG excl. LULUCF</th>\n",
       "      <td>45328.738443</td>\n",
       "      <td>46616.881205</td>\n",
       "      <td>47329.310261</td>\n",
       "      <td>47603.394613</td>\n",
       "      <td>48069.219676</td>\n",
       "      <td>48223.28657</td>\n",
       "      <td>48556.824706</td>\n",
       "      <td>...</td>\n",
       "      <td>58264.788032</td>\n",
       "      <td>58315.619883</td>\n",
       "      <td>58323.138545</td>\n",
       "      <td>58352.439199</td>\n",
       "      <td>58504.416848</td>\n",
       "      <td>58522.390030</td>\n",
       "      <td>58560.904163</td>\n",
       "    </tr>\n",
       "    <tr>\n",
       "      <th rowspan=\"2\" valign=\"top\">low</th>\n",
       "      <th rowspan=\"2\" valign=\"top\">C</th>\n",
       "      <th rowspan=\"2\" valign=\"top\">2030</th>\n",
       "      <th rowspan=\"2\" valign=\"top\">2013-07-18</th>\n",
       "      <th>exclude</th>\n",
       "      <th>n/a</th>\n",
       "      <th>LBY</th>\n",
       "      <th>NDC Factsheet</th>\n",
       "      <th>2013-07-18_1</th>\n",
       "      <th>1</th>\n",
       "      <th>1</th>\n",
       "      <th>World</th>\n",
       "      <th>low__C</th>\n",
       "      <th>Mt CO2 /yr</th>\n",
       "      <th>Emissions|Total GHG excl. LULUCF</th>\n",
       "      <td>45328.738443</td>\n",
       "      <td>46616.881205</td>\n",
       "      <td>47329.310261</td>\n",
       "      <td>47603.394613</td>\n",
       "      <td>48069.219676</td>\n",
       "      <td>48223.28657</td>\n",
       "      <td>48556.824706</td>\n",
       "      <td>...</td>\n",
       "      <td>58299.892493</td>\n",
       "      <td>58353.238121</td>\n",
       "      <td>58363.262522</td>\n",
       "      <td>58395.068916</td>\n",
       "      <td>58549.552304</td>\n",
       "      <td>58570.039261</td>\n",
       "      <td>58611.059135</td>\n",
       "    </tr>\n",
       "    <tr>\n",
       "      <th>include</th>\n",
       "      <th>n/a</th>\n",
       "      <th>LBY</th>\n",
       "      <th>NDC Factsheet</th>\n",
       "      <th>2013-07-18_1</th>\n",
       "      <th>1</th>\n",
       "      <th>1</th>\n",
       "      <th>World</th>\n",
       "      <th>low__C</th>\n",
       "      <th>Mt CO2 /yr</th>\n",
       "      <th>Emissions|Total GHG excl. LULUCF</th>\n",
       "      <td>45328.738443</td>\n",
       "      <td>46616.881205</td>\n",
       "      <td>47329.310261</td>\n",
       "      <td>47603.394613</td>\n",
       "      <td>48069.219676</td>\n",
       "      <td>48223.28657</td>\n",
       "      <td>48556.824706</td>\n",
       "      <td>...</td>\n",
       "      <td>58299.892493</td>\n",
       "      <td>58353.238121</td>\n",
       "      <td>58363.262522</td>\n",
       "      <td>58395.068916</td>\n",
       "      <td>58549.552304</td>\n",
       "      <td>58570.039261</td>\n",
       "      <td>58611.059135</td>\n",
       "    </tr>\n",
       "    <tr>\n",
       "      <th>...</th>\n",
       "      <th>...</th>\n",
       "      <th>...</th>\n",
       "      <th>...</th>\n",
       "      <th>...</th>\n",
       "      <th>...</th>\n",
       "      <th>...</th>\n",
       "      <th>...</th>\n",
       "      <th>...</th>\n",
       "      <th>...</th>\n",
       "      <th>...</th>\n",
       "      <th>...</th>\n",
       "      <th>...</th>\n",
       "      <th>...</th>\n",
       "      <th>...</th>\n",
       "      <td>...</td>\n",
       "      <td>...</td>\n",
       "      <td>...</td>\n",
       "      <td>...</td>\n",
       "      <td>...</td>\n",
       "      <td>...</td>\n",
       "      <td>...</td>\n",
       "      <td>...</td>\n",
       "      <td>...</td>\n",
       "      <td>...</td>\n",
       "      <td>...</td>\n",
       "      <td>...</td>\n",
       "      <td>...</td>\n",
       "      <td>...</td>\n",
       "      <td>...</td>\n",
       "    </tr>\n",
       "    <tr>\n",
       "      <th rowspan=\"2\" valign=\"top\">high</th>\n",
       "      <th rowspan=\"2\" valign=\"top\">U</th>\n",
       "      <th rowspan=\"2\" valign=\"top\">SSP1BL</th>\n",
       "      <th rowspan=\"2\" valign=\"top\">2021-11-09</th>\n",
       "      <th>exclude</th>\n",
       "      <th>n/a</th>\n",
       "      <th>VEN</th>\n",
       "      <th>NDC Factsheet</th>\n",
       "      <th>2021-11-09_1</th>\n",
       "      <th>354</th>\n",
       "      <th>1</th>\n",
       "      <th>World</th>\n",
       "      <th>high__U</th>\n",
       "      <th>Mt CO2 /yr</th>\n",
       "      <th>Emissions|Total GHG excl. LULUCF</th>\n",
       "      <td>45085.555590</td>\n",
       "      <td>46428.064370</td>\n",
       "      <td>47088.761910</td>\n",
       "      <td>47449.275490</td>\n",
       "      <td>48104.428320</td>\n",
       "      <td>48223.28657</td>\n",
       "      <td>48321.077000</td>\n",
       "      <td>...</td>\n",
       "      <td>35888.970569</td>\n",
       "      <td>34808.798520</td>\n",
       "      <td>33727.737252</td>\n",
       "      <td>32645.814673</td>\n",
       "      <td>31563.055574</td>\n",
       "      <td>30479.487196</td>\n",
       "      <td>29395.138437</td>\n",
       "    </tr>\n",
       "    <tr>\n",
       "      <th>include</th>\n",
       "      <th>n/a</th>\n",
       "      <th>VEN</th>\n",
       "      <th>NDC Factsheet</th>\n",
       "      <th>2021-11-09_1</th>\n",
       "      <th>352</th>\n",
       "      <th>1</th>\n",
       "      <th>World</th>\n",
       "      <th>high__U</th>\n",
       "      <th>Mt CO2 /yr</th>\n",
       "      <th>Emissions|Total GHG excl. LULUCF</th>\n",
       "      <td>45084.611974</td>\n",
       "      <td>46427.121255</td>\n",
       "      <td>47087.795298</td>\n",
       "      <td>47448.301758</td>\n",
       "      <td>48103.448874</td>\n",
       "      <td>48223.28657</td>\n",
       "      <td>48320.833539</td>\n",
       "      <td>...</td>\n",
       "      <td>38933.352774</td>\n",
       "      <td>37899.406932</td>\n",
       "      <td>36864.571850</td>\n",
       "      <td>35828.875478</td>\n",
       "      <td>34792.342576</td>\n",
       "      <td>33754.904735</td>\n",
       "      <td>32716.782162</td>\n",
       "    </tr>\n",
       "    <tr>\n",
       "      <th rowspan=\"8\" valign=\"top\">low</th>\n",
       "      <th rowspan=\"4\" valign=\"top\">C</th>\n",
       "      <th rowspan=\"2\" valign=\"top\">2030</th>\n",
       "      <th rowspan=\"2\" valign=\"top\">2021-11-09</th>\n",
       "      <th>exclude</th>\n",
       "      <th>n/a</th>\n",
       "      <th>VEN</th>\n",
       "      <th>NDC Factsheet</th>\n",
       "      <th>2021-11-09_1</th>\n",
       "      <th>354</th>\n",
       "      <th>1</th>\n",
       "      <th>World</th>\n",
       "      <th>low__C</th>\n",
       "      <th>Mt CO2 /yr</th>\n",
       "      <th>Emissions|Total GHG excl. LULUCF</th>\n",
       "      <td>45085.555590</td>\n",
       "      <td>46428.064370</td>\n",
       "      <td>47088.761910</td>\n",
       "      <td>47449.275490</td>\n",
       "      <td>48104.428320</td>\n",
       "      <td>48223.28657</td>\n",
       "      <td>48321.077000</td>\n",
       "      <td>...</td>\n",
       "      <td>47019.428214</td>\n",
       "      <td>46841.315998</td>\n",
       "      <td>46663.690428</td>\n",
       "      <td>46486.064858</td>\n",
       "      <td>46308.439288</td>\n",
       "      <td>46130.327073</td>\n",
       "      <td>45952.701503</td>\n",
       "    </tr>\n",
       "    <tr>\n",
       "      <th>include</th>\n",
       "      <th>n/a</th>\n",
       "      <th>VEN</th>\n",
       "      <th>NDC Factsheet</th>\n",
       "      <th>2021-11-09_1</th>\n",
       "      <th>354</th>\n",
       "      <th>1</th>\n",
       "      <th>World</th>\n",
       "      <th>low__C</th>\n",
       "      <th>Mt CO2 /yr</th>\n",
       "      <th>Emissions|Total GHG excl. LULUCF</th>\n",
       "      <td>45085.555590</td>\n",
       "      <td>46428.064370</td>\n",
       "      <td>47088.761910</td>\n",
       "      <td>47449.275490</td>\n",
       "      <td>48104.428320</td>\n",
       "      <td>48223.28657</td>\n",
       "      <td>48321.077000</td>\n",
       "      <td>...</td>\n",
       "      <td>48671.440353</td>\n",
       "      <td>48525.349428</td>\n",
       "      <td>48379.657658</td>\n",
       "      <td>48233.965888</td>\n",
       "      <td>48088.274118</td>\n",
       "      <td>47942.183192</td>\n",
       "      <td>47796.491422</td>\n",
       "    </tr>\n",
       "    <tr>\n",
       "      <th rowspan=\"2\" valign=\"top\">SSP1BL</th>\n",
       "      <th rowspan=\"2\" valign=\"top\">2021-11-09</th>\n",
       "      <th>exclude</th>\n",
       "      <th>n/a</th>\n",
       "      <th>VEN</th>\n",
       "      <th>NDC Factsheet</th>\n",
       "      <th>2021-11-09_1</th>\n",
       "      <th>354</th>\n",
       "      <th>1</th>\n",
       "      <th>World</th>\n",
       "      <th>low__C</th>\n",
       "      <th>Mt CO2 /yr</th>\n",
       "      <th>Emissions|Total GHG excl. LULUCF</th>\n",
       "      <td>45085.555590</td>\n",
       "      <td>46428.064370</td>\n",
       "      <td>47088.761910</td>\n",
       "      <td>47449.275490</td>\n",
       "      <td>48104.428320</td>\n",
       "      <td>48223.28657</td>\n",
       "      <td>48321.077000</td>\n",
       "      <td>...</td>\n",
       "      <td>36256.415676</td>\n",
       "      <td>35301.733268</td>\n",
       "      <td>34346.161670</td>\n",
       "      <td>33389.728692</td>\n",
       "      <td>32432.459233</td>\n",
       "      <td>31474.380485</td>\n",
       "      <td>30515.521397</td>\n",
       "    </tr>\n",
       "    <tr>\n",
       "      <th>include</th>\n",
       "      <th>n/a</th>\n",
       "      <th>VEN</th>\n",
       "      <th>NDC Factsheet</th>\n",
       "      <th>2021-11-09_1</th>\n",
       "      <th>354</th>\n",
       "      <th>1</th>\n",
       "      <th>World</th>\n",
       "      <th>low__C</th>\n",
       "      <th>Mt CO2 /yr</th>\n",
       "      <th>Emissions|Total GHG excl. LULUCF</th>\n",
       "      <td>45085.555590</td>\n",
       "      <td>46428.064370</td>\n",
       "      <td>47088.761910</td>\n",
       "      <td>47449.275490</td>\n",
       "      <td>48104.428320</td>\n",
       "      <td>48223.28657</td>\n",
       "      <td>48321.077000</td>\n",
       "      <td>...</td>\n",
       "      <td>37668.514130</td>\n",
       "      <td>36728.647563</td>\n",
       "      <td>35787.891825</td>\n",
       "      <td>34846.274717</td>\n",
       "      <td>33903.821119</td>\n",
       "      <td>32960.558221</td>\n",
       "      <td>32016.514974</td>\n",
       "    </tr>\n",
       "    <tr>\n",
       "      <th rowspan=\"4\" valign=\"top\">U</th>\n",
       "      <th rowspan=\"2\" valign=\"top\">2030</th>\n",
       "      <th rowspan=\"2\" valign=\"top\">2021-11-09</th>\n",
       "      <th>exclude</th>\n",
       "      <th>n/a</th>\n",
       "      <th>VEN</th>\n",
       "      <th>NDC Factsheet</th>\n",
       "      <th>2021-11-09_1</th>\n",
       "      <th>354</th>\n",
       "      <th>1</th>\n",
       "      <th>World</th>\n",
       "      <th>low__U</th>\n",
       "      <th>Mt CO2 /yr</th>\n",
       "      <th>Emissions|Total GHG excl. LULUCF</th>\n",
       "      <td>45085.555590</td>\n",
       "      <td>46428.064370</td>\n",
       "      <td>47088.761910</td>\n",
       "      <td>47449.275490</td>\n",
       "      <td>48104.428320</td>\n",
       "      <td>48223.28657</td>\n",
       "      <td>48321.077000</td>\n",
       "      <td>...</td>\n",
       "      <td>53358.502848</td>\n",
       "      <td>53455.696384</td>\n",
       "      <td>53552.624364</td>\n",
       "      <td>53649.552344</td>\n",
       "      <td>53746.480324</td>\n",
       "      <td>53843.673861</td>\n",
       "      <td>53940.601841</td>\n",
       "    </tr>\n",
       "    <tr>\n",
       "      <th>include</th>\n",
       "      <th>n/a</th>\n",
       "      <th>VEN</th>\n",
       "      <th>NDC Factsheet</th>\n",
       "      <th>2021-11-09_1</th>\n",
       "      <th>352</th>\n",
       "      <th>1</th>\n",
       "      <th>World</th>\n",
       "      <th>low__U</th>\n",
       "      <th>Mt CO2 /yr</th>\n",
       "      <th>Emissions|Total GHG excl. LULUCF</th>\n",
       "      <td>45084.611974</td>\n",
       "      <td>46427.121255</td>\n",
       "      <td>47087.795298</td>\n",
       "      <td>47448.301758</td>\n",
       "      <td>48103.448874</td>\n",
       "      <td>48223.28657</td>\n",
       "      <td>48320.833539</td>\n",
       "      <td>...</td>\n",
       "      <td>57507.574286</td>\n",
       "      <td>57729.414324</td>\n",
       "      <td>57950.648504</td>\n",
       "      <td>58171.882684</td>\n",
       "      <td>58393.116863</td>\n",
       "      <td>58614.861242</td>\n",
       "      <td>58836.095422</td>\n",
       "    </tr>\n",
       "    <tr>\n",
       "      <th rowspan=\"2\" valign=\"top\">SSP1BL</th>\n",
       "      <th rowspan=\"2\" valign=\"top\">2021-11-09</th>\n",
       "      <th>exclude</th>\n",
       "      <th>n/a</th>\n",
       "      <th>VEN</th>\n",
       "      <th>NDC Factsheet</th>\n",
       "      <th>2021-11-09_1</th>\n",
       "      <th>354</th>\n",
       "      <th>1</th>\n",
       "      <th>World</th>\n",
       "      <th>low__U</th>\n",
       "      <th>Mt CO2 /yr</th>\n",
       "      <th>Emissions|Total GHG excl. LULUCF</th>\n",
       "      <td>45085.555590</td>\n",
       "      <td>46428.064370</td>\n",
       "      <td>47088.761910</td>\n",
       "      <td>47449.275490</td>\n",
       "      <td>48104.428320</td>\n",
       "      <td>48223.28657</td>\n",
       "      <td>48321.077000</td>\n",
       "      <td>...</td>\n",
       "      <td>38579.898166</td>\n",
       "      <td>37613.102492</td>\n",
       "      <td>36645.417598</td>\n",
       "      <td>35676.871354</td>\n",
       "      <td>34707.488600</td>\n",
       "      <td>33737.296597</td>\n",
       "      <td>32766.324233</td>\n",
       "    </tr>\n",
       "    <tr>\n",
       "      <th>include</th>\n",
       "      <th>n/a</th>\n",
       "      <th>VEN</th>\n",
       "      <th>NDC Factsheet</th>\n",
       "      <th>2021-11-09_1</th>\n",
       "      <th>352</th>\n",
       "      <th>1</th>\n",
       "      <th>World</th>\n",
       "      <th>low__U</th>\n",
       "      <th>Mt CO2 /yr</th>\n",
       "      <th>Emissions|Total GHG excl. LULUCF</th>\n",
       "      <td>45084.611974</td>\n",
       "      <td>46427.121255</td>\n",
       "      <td>47087.795298</td>\n",
       "      <td>47448.301758</td>\n",
       "      <td>48103.448874</td>\n",
       "      <td>48223.28657</td>\n",
       "      <td>48320.833539</td>\n",
       "      <td>...</td>\n",
       "      <td>41637.773264</td>\n",
       "      <td>40717.414120</td>\n",
       "      <td>39796.165756</td>\n",
       "      <td>38874.056052</td>\n",
       "      <td>37951.109838</td>\n",
       "      <td>37027.258684</td>\n",
       "      <td>36102.722830</td>\n",
       "    </tr>\n",
       "  </tbody>\n",
       "</table>\n",
       "<p>5656 rows × 41 columns</p>\n",
       "</div>"
      ],
      "text/plain": [
       "time                                                                                                                                                                                                                       2010-01-01    2011-01-01  \\\n",
       "ambition conditionality country_extension date       exclude_hot_air global_extension last_country model         pathway_id   pathway_num pathway_num_today region scenario unit       variable                                                       \n",
       "high     C              2030              2013-07-18 exclude         n/a              LBY          NDC Factsheet 2013-07-18_1 1           1                 World  high__C  Mt CO2 /yr Emissions|Total GHG excl. LULUCF  45328.738443  46616.881205   \n",
       "                                                     include         n/a              LBY          NDC Factsheet 2013-07-18_1 1           1                 World  high__C  Mt CO2 /yr Emissions|Total GHG excl. LULUCF  45328.738443  46616.881205   \n",
       "                        SSP1BL            2013-07-18 exclude         n/a              LBY          NDC Factsheet 2013-07-18_1 1           1                 World  high__C  Mt CO2 /yr Emissions|Total GHG excl. LULUCF  45328.738443  46616.881205   \n",
       "                                                     include         n/a              LBY          NDC Factsheet 2013-07-18_1 1           1                 World  high__C  Mt CO2 /yr Emissions|Total GHG excl. LULUCF  45328.738443  46616.881205   \n",
       "         U              2030              2013-07-18 exclude         n/a              LBY          NDC Factsheet 2013-07-18_1 1           1                 World  high__U  Mt CO2 /yr Emissions|Total GHG excl. LULUCF  45328.738443  46616.881205   \n",
       "                                                     include         n/a              LBY          NDC Factsheet 2013-07-18_1 1           1                 World  high__U  Mt CO2 /yr Emissions|Total GHG excl. LULUCF  45328.738443  46616.881205   \n",
       "                        SSP1BL            2013-07-18 exclude         n/a              LBY          NDC Factsheet 2013-07-18_1 1           1                 World  high__U  Mt CO2 /yr Emissions|Total GHG excl. LULUCF  45328.738443  46616.881205   \n",
       "                                                     include         n/a              LBY          NDC Factsheet 2013-07-18_1 1           1                 World  high__U  Mt CO2 /yr Emissions|Total GHG excl. LULUCF  45328.738443  46616.881205   \n",
       "low      C              2030              2013-07-18 exclude         n/a              LBY          NDC Factsheet 2013-07-18_1 1           1                 World  low__C   Mt CO2 /yr Emissions|Total GHG excl. LULUCF  45328.738443  46616.881205   \n",
       "                                                     include         n/a              LBY          NDC Factsheet 2013-07-18_1 1           1                 World  low__C   Mt CO2 /yr Emissions|Total GHG excl. LULUCF  45328.738443  46616.881205   \n",
       "...                                                                                                                                                                                                                               ...           ...   \n",
       "high     U              SSP1BL            2021-11-09 exclude         n/a              VEN          NDC Factsheet 2021-11-09_1 354         1                 World  high__U  Mt CO2 /yr Emissions|Total GHG excl. LULUCF  45085.555590  46428.064370   \n",
       "                                                     include         n/a              VEN          NDC Factsheet 2021-11-09_1 352         1                 World  high__U  Mt CO2 /yr Emissions|Total GHG excl. LULUCF  45084.611974  46427.121255   \n",
       "low      C              2030              2021-11-09 exclude         n/a              VEN          NDC Factsheet 2021-11-09_1 354         1                 World  low__C   Mt CO2 /yr Emissions|Total GHG excl. LULUCF  45085.555590  46428.064370   \n",
       "                                                     include         n/a              VEN          NDC Factsheet 2021-11-09_1 354         1                 World  low__C   Mt CO2 /yr Emissions|Total GHG excl. LULUCF  45085.555590  46428.064370   \n",
       "                        SSP1BL            2021-11-09 exclude         n/a              VEN          NDC Factsheet 2021-11-09_1 354         1                 World  low__C   Mt CO2 /yr Emissions|Total GHG excl. LULUCF  45085.555590  46428.064370   \n",
       "                                                     include         n/a              VEN          NDC Factsheet 2021-11-09_1 354         1                 World  low__C   Mt CO2 /yr Emissions|Total GHG excl. LULUCF  45085.555590  46428.064370   \n",
       "         U              2030              2021-11-09 exclude         n/a              VEN          NDC Factsheet 2021-11-09_1 354         1                 World  low__U   Mt CO2 /yr Emissions|Total GHG excl. LULUCF  45085.555590  46428.064370   \n",
       "                                                     include         n/a              VEN          NDC Factsheet 2021-11-09_1 352         1                 World  low__U   Mt CO2 /yr Emissions|Total GHG excl. LULUCF  45084.611974  46427.121255   \n",
       "                        SSP1BL            2021-11-09 exclude         n/a              VEN          NDC Factsheet 2021-11-09_1 354         1                 World  low__U   Mt CO2 /yr Emissions|Total GHG excl. LULUCF  45085.555590  46428.064370   \n",
       "                                                     include         n/a              VEN          NDC Factsheet 2021-11-09_1 352         1                 World  low__U   Mt CO2 /yr Emissions|Total GHG excl. LULUCF  45084.611974  46427.121255   \n",
       "\n",
       "time                                                                                                                                                                                                                       2012-01-01    2013-01-01  \\\n",
       "ambition conditionality country_extension date       exclude_hot_air global_extension last_country model         pathway_id   pathway_num pathway_num_today region scenario unit       variable                                                       \n",
       "high     C              2030              2013-07-18 exclude         n/a              LBY          NDC Factsheet 2013-07-18_1 1           1                 World  high__C  Mt CO2 /yr Emissions|Total GHG excl. LULUCF  47329.310261  47603.394613   \n",
       "                                                     include         n/a              LBY          NDC Factsheet 2013-07-18_1 1           1                 World  high__C  Mt CO2 /yr Emissions|Total GHG excl. LULUCF  47329.310261  47603.394613   \n",
       "                        SSP1BL            2013-07-18 exclude         n/a              LBY          NDC Factsheet 2013-07-18_1 1           1                 World  high__C  Mt CO2 /yr Emissions|Total GHG excl. LULUCF  47329.310261  47603.394613   \n",
       "                                                     include         n/a              LBY          NDC Factsheet 2013-07-18_1 1           1                 World  high__C  Mt CO2 /yr Emissions|Total GHG excl. LULUCF  47329.310261  47603.394613   \n",
       "         U              2030              2013-07-18 exclude         n/a              LBY          NDC Factsheet 2013-07-18_1 1           1                 World  high__U  Mt CO2 /yr Emissions|Total GHG excl. LULUCF  47329.310261  47603.394613   \n",
       "                                                     include         n/a              LBY          NDC Factsheet 2013-07-18_1 1           1                 World  high__U  Mt CO2 /yr Emissions|Total GHG excl. LULUCF  47329.310261  47603.394613   \n",
       "                        SSP1BL            2013-07-18 exclude         n/a              LBY          NDC Factsheet 2013-07-18_1 1           1                 World  high__U  Mt CO2 /yr Emissions|Total GHG excl. LULUCF  47329.310261  47603.394613   \n",
       "                                                     include         n/a              LBY          NDC Factsheet 2013-07-18_1 1           1                 World  high__U  Mt CO2 /yr Emissions|Total GHG excl. LULUCF  47329.310261  47603.394613   \n",
       "low      C              2030              2013-07-18 exclude         n/a              LBY          NDC Factsheet 2013-07-18_1 1           1                 World  low__C   Mt CO2 /yr Emissions|Total GHG excl. LULUCF  47329.310261  47603.394613   \n",
       "                                                     include         n/a              LBY          NDC Factsheet 2013-07-18_1 1           1                 World  low__C   Mt CO2 /yr Emissions|Total GHG excl. LULUCF  47329.310261  47603.394613   \n",
       "...                                                                                                                                                                                                                               ...           ...   \n",
       "high     U              SSP1BL            2021-11-09 exclude         n/a              VEN          NDC Factsheet 2021-11-09_1 354         1                 World  high__U  Mt CO2 /yr Emissions|Total GHG excl. LULUCF  47088.761910  47449.275490   \n",
       "                                                     include         n/a              VEN          NDC Factsheet 2021-11-09_1 352         1                 World  high__U  Mt CO2 /yr Emissions|Total GHG excl. LULUCF  47087.795298  47448.301758   \n",
       "low      C              2030              2021-11-09 exclude         n/a              VEN          NDC Factsheet 2021-11-09_1 354         1                 World  low__C   Mt CO2 /yr Emissions|Total GHG excl. LULUCF  47088.761910  47449.275490   \n",
       "                                                     include         n/a              VEN          NDC Factsheet 2021-11-09_1 354         1                 World  low__C   Mt CO2 /yr Emissions|Total GHG excl. LULUCF  47088.761910  47449.275490   \n",
       "                        SSP1BL            2021-11-09 exclude         n/a              VEN          NDC Factsheet 2021-11-09_1 354         1                 World  low__C   Mt CO2 /yr Emissions|Total GHG excl. LULUCF  47088.761910  47449.275490   \n",
       "                                                     include         n/a              VEN          NDC Factsheet 2021-11-09_1 354         1                 World  low__C   Mt CO2 /yr Emissions|Total GHG excl. LULUCF  47088.761910  47449.275490   \n",
       "         U              2030              2021-11-09 exclude         n/a              VEN          NDC Factsheet 2021-11-09_1 354         1                 World  low__U   Mt CO2 /yr Emissions|Total GHG excl. LULUCF  47088.761910  47449.275490   \n",
       "                                                     include         n/a              VEN          NDC Factsheet 2021-11-09_1 352         1                 World  low__U   Mt CO2 /yr Emissions|Total GHG excl. LULUCF  47087.795298  47448.301758   \n",
       "                        SSP1BL            2021-11-09 exclude         n/a              VEN          NDC Factsheet 2021-11-09_1 354         1                 World  low__U   Mt CO2 /yr Emissions|Total GHG excl. LULUCF  47088.761910  47449.275490   \n",
       "                                                     include         n/a              VEN          NDC Factsheet 2021-11-09_1 352         1                 World  low__U   Mt CO2 /yr Emissions|Total GHG excl. LULUCF  47087.795298  47448.301758   \n",
       "\n",
       "time                                                                                                                                                                                                                       2014-01-01   2015-01-01  \\\n",
       "ambition conditionality country_extension date       exclude_hot_air global_extension last_country model         pathway_id   pathway_num pathway_num_today region scenario unit       variable                                                      \n",
       "high     C              2030              2013-07-18 exclude         n/a              LBY          NDC Factsheet 2013-07-18_1 1           1                 World  high__C  Mt CO2 /yr Emissions|Total GHG excl. LULUCF  48069.219676  48223.28657   \n",
       "                                                     include         n/a              LBY          NDC Factsheet 2013-07-18_1 1           1                 World  high__C  Mt CO2 /yr Emissions|Total GHG excl. LULUCF  48069.219676  48223.28657   \n",
       "                        SSP1BL            2013-07-18 exclude         n/a              LBY          NDC Factsheet 2013-07-18_1 1           1                 World  high__C  Mt CO2 /yr Emissions|Total GHG excl. LULUCF  48069.219676  48223.28657   \n",
       "                                                     include         n/a              LBY          NDC Factsheet 2013-07-18_1 1           1                 World  high__C  Mt CO2 /yr Emissions|Total GHG excl. LULUCF  48069.219676  48223.28657   \n",
       "         U              2030              2013-07-18 exclude         n/a              LBY          NDC Factsheet 2013-07-18_1 1           1                 World  high__U  Mt CO2 /yr Emissions|Total GHG excl. LULUCF  48069.219676  48223.28657   \n",
       "                                                     include         n/a              LBY          NDC Factsheet 2013-07-18_1 1           1                 World  high__U  Mt CO2 /yr Emissions|Total GHG excl. LULUCF  48069.219676  48223.28657   \n",
       "                        SSP1BL            2013-07-18 exclude         n/a              LBY          NDC Factsheet 2013-07-18_1 1           1                 World  high__U  Mt CO2 /yr Emissions|Total GHG excl. LULUCF  48069.219676  48223.28657   \n",
       "                                                     include         n/a              LBY          NDC Factsheet 2013-07-18_1 1           1                 World  high__U  Mt CO2 /yr Emissions|Total GHG excl. LULUCF  48069.219676  48223.28657   \n",
       "low      C              2030              2013-07-18 exclude         n/a              LBY          NDC Factsheet 2013-07-18_1 1           1                 World  low__C   Mt CO2 /yr Emissions|Total GHG excl. LULUCF  48069.219676  48223.28657   \n",
       "                                                     include         n/a              LBY          NDC Factsheet 2013-07-18_1 1           1                 World  low__C   Mt CO2 /yr Emissions|Total GHG excl. LULUCF  48069.219676  48223.28657   \n",
       "...                                                                                                                                                                                                                               ...          ...   \n",
       "high     U              SSP1BL            2021-11-09 exclude         n/a              VEN          NDC Factsheet 2021-11-09_1 354         1                 World  high__U  Mt CO2 /yr Emissions|Total GHG excl. LULUCF  48104.428320  48223.28657   \n",
       "                                                     include         n/a              VEN          NDC Factsheet 2021-11-09_1 352         1                 World  high__U  Mt CO2 /yr Emissions|Total GHG excl. LULUCF  48103.448874  48223.28657   \n",
       "low      C              2030              2021-11-09 exclude         n/a              VEN          NDC Factsheet 2021-11-09_1 354         1                 World  low__C   Mt CO2 /yr Emissions|Total GHG excl. LULUCF  48104.428320  48223.28657   \n",
       "                                                     include         n/a              VEN          NDC Factsheet 2021-11-09_1 354         1                 World  low__C   Mt CO2 /yr Emissions|Total GHG excl. LULUCF  48104.428320  48223.28657   \n",
       "                        SSP1BL            2021-11-09 exclude         n/a              VEN          NDC Factsheet 2021-11-09_1 354         1                 World  low__C   Mt CO2 /yr Emissions|Total GHG excl. LULUCF  48104.428320  48223.28657   \n",
       "                                                     include         n/a              VEN          NDC Factsheet 2021-11-09_1 354         1                 World  low__C   Mt CO2 /yr Emissions|Total GHG excl. LULUCF  48104.428320  48223.28657   \n",
       "         U              2030              2021-11-09 exclude         n/a              VEN          NDC Factsheet 2021-11-09_1 354         1                 World  low__U   Mt CO2 /yr Emissions|Total GHG excl. LULUCF  48104.428320  48223.28657   \n",
       "                                                     include         n/a              VEN          NDC Factsheet 2021-11-09_1 352         1                 World  low__U   Mt CO2 /yr Emissions|Total GHG excl. LULUCF  48103.448874  48223.28657   \n",
       "                        SSP1BL            2021-11-09 exclude         n/a              VEN          NDC Factsheet 2021-11-09_1 354         1                 World  low__U   Mt CO2 /yr Emissions|Total GHG excl. LULUCF  48104.428320  48223.28657   \n",
       "                                                     include         n/a              VEN          NDC Factsheet 2021-11-09_1 352         1                 World  low__U   Mt CO2 /yr Emissions|Total GHG excl. LULUCF  48103.448874  48223.28657   \n",
       "\n",
       "time                                                                                                                                                                                                                       2016-01-01  ...  \\\n",
       "ambition conditionality country_extension date       exclude_hot_air global_extension last_country model         pathway_id   pathway_num pathway_num_today region scenario unit       variable                                        ...   \n",
       "high     C              2030              2013-07-18 exclude         n/a              LBY          NDC Factsheet 2013-07-18_1 1           1                 World  high__C  Mt CO2 /yr Emissions|Total GHG excl. LULUCF  48556.824706  ...   \n",
       "                                                     include         n/a              LBY          NDC Factsheet 2013-07-18_1 1           1                 World  high__C  Mt CO2 /yr Emissions|Total GHG excl. LULUCF  48556.824706  ...   \n",
       "                        SSP1BL            2013-07-18 exclude         n/a              LBY          NDC Factsheet 2013-07-18_1 1           1                 World  high__C  Mt CO2 /yr Emissions|Total GHG excl. LULUCF  48556.824706  ...   \n",
       "                                                     include         n/a              LBY          NDC Factsheet 2013-07-18_1 1           1                 World  high__C  Mt CO2 /yr Emissions|Total GHG excl. LULUCF  48556.824706  ...   \n",
       "         U              2030              2013-07-18 exclude         n/a              LBY          NDC Factsheet 2013-07-18_1 1           1                 World  high__U  Mt CO2 /yr Emissions|Total GHG excl. LULUCF  48556.824706  ...   \n",
       "                                                     include         n/a              LBY          NDC Factsheet 2013-07-18_1 1           1                 World  high__U  Mt CO2 /yr Emissions|Total GHG excl. LULUCF  48556.824706  ...   \n",
       "                        SSP1BL            2013-07-18 exclude         n/a              LBY          NDC Factsheet 2013-07-18_1 1           1                 World  high__U  Mt CO2 /yr Emissions|Total GHG excl. LULUCF  48556.824706  ...   \n",
       "                                                     include         n/a              LBY          NDC Factsheet 2013-07-18_1 1           1                 World  high__U  Mt CO2 /yr Emissions|Total GHG excl. LULUCF  48556.824706  ...   \n",
       "low      C              2030              2013-07-18 exclude         n/a              LBY          NDC Factsheet 2013-07-18_1 1           1                 World  low__C   Mt CO2 /yr Emissions|Total GHG excl. LULUCF  48556.824706  ...   \n",
       "                                                     include         n/a              LBY          NDC Factsheet 2013-07-18_1 1           1                 World  low__C   Mt CO2 /yr Emissions|Total GHG excl. LULUCF  48556.824706  ...   \n",
       "...                                                                                                                                                                                                                               ...  ...   \n",
       "high     U              SSP1BL            2021-11-09 exclude         n/a              VEN          NDC Factsheet 2021-11-09_1 354         1                 World  high__U  Mt CO2 /yr Emissions|Total GHG excl. LULUCF  48321.077000  ...   \n",
       "                                                     include         n/a              VEN          NDC Factsheet 2021-11-09_1 352         1                 World  high__U  Mt CO2 /yr Emissions|Total GHG excl. LULUCF  48320.833539  ...   \n",
       "low      C              2030              2021-11-09 exclude         n/a              VEN          NDC Factsheet 2021-11-09_1 354         1                 World  low__C   Mt CO2 /yr Emissions|Total GHG excl. LULUCF  48321.077000  ...   \n",
       "                                                     include         n/a              VEN          NDC Factsheet 2021-11-09_1 354         1                 World  low__C   Mt CO2 /yr Emissions|Total GHG excl. LULUCF  48321.077000  ...   \n",
       "                        SSP1BL            2021-11-09 exclude         n/a              VEN          NDC Factsheet 2021-11-09_1 354         1                 World  low__C   Mt CO2 /yr Emissions|Total GHG excl. LULUCF  48321.077000  ...   \n",
       "                                                     include         n/a              VEN          NDC Factsheet 2021-11-09_1 354         1                 World  low__C   Mt CO2 /yr Emissions|Total GHG excl. LULUCF  48321.077000  ...   \n",
       "         U              2030              2021-11-09 exclude         n/a              VEN          NDC Factsheet 2021-11-09_1 354         1                 World  low__U   Mt CO2 /yr Emissions|Total GHG excl. LULUCF  48321.077000  ...   \n",
       "                                                     include         n/a              VEN          NDC Factsheet 2021-11-09_1 352         1                 World  low__U   Mt CO2 /yr Emissions|Total GHG excl. LULUCF  48320.833539  ...   \n",
       "                        SSP1BL            2021-11-09 exclude         n/a              VEN          NDC Factsheet 2021-11-09_1 354         1                 World  low__U   Mt CO2 /yr Emissions|Total GHG excl. LULUCF  48321.077000  ...   \n",
       "                                                     include         n/a              VEN          NDC Factsheet 2021-11-09_1 352         1                 World  low__U   Mt CO2 /yr Emissions|Total GHG excl. LULUCF  48320.833539  ...   \n",
       "\n",
       "time                                                                                                                                                                                                                       2044-01-01    2045-01-01  \\\n",
       "ambition conditionality country_extension date       exclude_hot_air global_extension last_country model         pathway_id   pathway_num pathway_num_today region scenario unit       variable                                                       \n",
       "high     C              2030              2013-07-18 exclude         n/a              LBY          NDC Factsheet 2013-07-18_1 1           1                 World  high__C  Mt CO2 /yr Emissions|Total GHG excl. LULUCF  58299.892493  58353.238121   \n",
       "                                                     include         n/a              LBY          NDC Factsheet 2013-07-18_1 1           1                 World  high__C  Mt CO2 /yr Emissions|Total GHG excl. LULUCF  58299.892493  58353.238121   \n",
       "                        SSP1BL            2013-07-18 exclude         n/a              LBY          NDC Factsheet 2013-07-18_1 1           1                 World  high__C  Mt CO2 /yr Emissions|Total GHG excl. LULUCF  58264.788032  58315.619883   \n",
       "                                                     include         n/a              LBY          NDC Factsheet 2013-07-18_1 1           1                 World  high__C  Mt CO2 /yr Emissions|Total GHG excl. LULUCF  58264.788032  58315.619883   \n",
       "         U              2030              2013-07-18 exclude         n/a              LBY          NDC Factsheet 2013-07-18_1 1           1                 World  high__U  Mt CO2 /yr Emissions|Total GHG excl. LULUCF  58299.892493  58353.238121   \n",
       "                                                     include         n/a              LBY          NDC Factsheet 2013-07-18_1 1           1                 World  high__U  Mt CO2 /yr Emissions|Total GHG excl. LULUCF  58299.892493  58353.238121   \n",
       "                        SSP1BL            2013-07-18 exclude         n/a              LBY          NDC Factsheet 2013-07-18_1 1           1                 World  high__U  Mt CO2 /yr Emissions|Total GHG excl. LULUCF  58264.788032  58315.619883   \n",
       "                                                     include         n/a              LBY          NDC Factsheet 2013-07-18_1 1           1                 World  high__U  Mt CO2 /yr Emissions|Total GHG excl. LULUCF  58264.788032  58315.619883   \n",
       "low      C              2030              2013-07-18 exclude         n/a              LBY          NDC Factsheet 2013-07-18_1 1           1                 World  low__C   Mt CO2 /yr Emissions|Total GHG excl. LULUCF  58299.892493  58353.238121   \n",
       "                                                     include         n/a              LBY          NDC Factsheet 2013-07-18_1 1           1                 World  low__C   Mt CO2 /yr Emissions|Total GHG excl. LULUCF  58299.892493  58353.238121   \n",
       "...                                                                                                                                                                                                                               ...           ...   \n",
       "high     U              SSP1BL            2021-11-09 exclude         n/a              VEN          NDC Factsheet 2021-11-09_1 354         1                 World  high__U  Mt CO2 /yr Emissions|Total GHG excl. LULUCF  35888.970569  34808.798520   \n",
       "                                                     include         n/a              VEN          NDC Factsheet 2021-11-09_1 352         1                 World  high__U  Mt CO2 /yr Emissions|Total GHG excl. LULUCF  38933.352774  37899.406932   \n",
       "low      C              2030              2021-11-09 exclude         n/a              VEN          NDC Factsheet 2021-11-09_1 354         1                 World  low__C   Mt CO2 /yr Emissions|Total GHG excl. LULUCF  47019.428214  46841.315998   \n",
       "                                                     include         n/a              VEN          NDC Factsheet 2021-11-09_1 354         1                 World  low__C   Mt CO2 /yr Emissions|Total GHG excl. LULUCF  48671.440353  48525.349428   \n",
       "                        SSP1BL            2021-11-09 exclude         n/a              VEN          NDC Factsheet 2021-11-09_1 354         1                 World  low__C   Mt CO2 /yr Emissions|Total GHG excl. LULUCF  36256.415676  35301.733268   \n",
       "                                                     include         n/a              VEN          NDC Factsheet 2021-11-09_1 354         1                 World  low__C   Mt CO2 /yr Emissions|Total GHG excl. LULUCF  37668.514130  36728.647563   \n",
       "         U              2030              2021-11-09 exclude         n/a              VEN          NDC Factsheet 2021-11-09_1 354         1                 World  low__U   Mt CO2 /yr Emissions|Total GHG excl. LULUCF  53358.502848  53455.696384   \n",
       "                                                     include         n/a              VEN          NDC Factsheet 2021-11-09_1 352         1                 World  low__U   Mt CO2 /yr Emissions|Total GHG excl. LULUCF  57507.574286  57729.414324   \n",
       "                        SSP1BL            2021-11-09 exclude         n/a              VEN          NDC Factsheet 2021-11-09_1 354         1                 World  low__U   Mt CO2 /yr Emissions|Total GHG excl. LULUCF  38579.898166  37613.102492   \n",
       "                                                     include         n/a              VEN          NDC Factsheet 2021-11-09_1 352         1                 World  low__U   Mt CO2 /yr Emissions|Total GHG excl. LULUCF  41637.773264  40717.414120   \n",
       "\n",
       "time                                                                                                                                                                                                                       2046-01-01    2047-01-01  \\\n",
       "ambition conditionality country_extension date       exclude_hot_air global_extension last_country model         pathway_id   pathway_num pathway_num_today region scenario unit       variable                                                       \n",
       "high     C              2030              2013-07-18 exclude         n/a              LBY          NDC Factsheet 2013-07-18_1 1           1                 World  high__C  Mt CO2 /yr Emissions|Total GHG excl. LULUCF  58363.262522  58395.068916   \n",
       "                                                     include         n/a              LBY          NDC Factsheet 2013-07-18_1 1           1                 World  high__C  Mt CO2 /yr Emissions|Total GHG excl. LULUCF  58363.262522  58395.068916   \n",
       "                        SSP1BL            2013-07-18 exclude         n/a              LBY          NDC Factsheet 2013-07-18_1 1           1                 World  high__C  Mt CO2 /yr Emissions|Total GHG excl. LULUCF  58323.138545  58352.439199   \n",
       "                                                     include         n/a              LBY          NDC Factsheet 2013-07-18_1 1           1                 World  high__C  Mt CO2 /yr Emissions|Total GHG excl. LULUCF  58323.138545  58352.439199   \n",
       "         U              2030              2013-07-18 exclude         n/a              LBY          NDC Factsheet 2013-07-18_1 1           1                 World  high__U  Mt CO2 /yr Emissions|Total GHG excl. LULUCF  58363.262522  58395.068916   \n",
       "                                                     include         n/a              LBY          NDC Factsheet 2013-07-18_1 1           1                 World  high__U  Mt CO2 /yr Emissions|Total GHG excl. LULUCF  58363.262522  58395.068916   \n",
       "                        SSP1BL            2013-07-18 exclude         n/a              LBY          NDC Factsheet 2013-07-18_1 1           1                 World  high__U  Mt CO2 /yr Emissions|Total GHG excl. LULUCF  58323.138545  58352.439199   \n",
       "                                                     include         n/a              LBY          NDC Factsheet 2013-07-18_1 1           1                 World  high__U  Mt CO2 /yr Emissions|Total GHG excl. LULUCF  58323.138545  58352.439199   \n",
       "low      C              2030              2013-07-18 exclude         n/a              LBY          NDC Factsheet 2013-07-18_1 1           1                 World  low__C   Mt CO2 /yr Emissions|Total GHG excl. LULUCF  58363.262522  58395.068916   \n",
       "                                                     include         n/a              LBY          NDC Factsheet 2013-07-18_1 1           1                 World  low__C   Mt CO2 /yr Emissions|Total GHG excl. LULUCF  58363.262522  58395.068916   \n",
       "...                                                                                                                                                                                                                               ...           ...   \n",
       "high     U              SSP1BL            2021-11-09 exclude         n/a              VEN          NDC Factsheet 2021-11-09_1 354         1                 World  high__U  Mt CO2 /yr Emissions|Total GHG excl. LULUCF  33727.737252  32645.814673   \n",
       "                                                     include         n/a              VEN          NDC Factsheet 2021-11-09_1 352         1                 World  high__U  Mt CO2 /yr Emissions|Total GHG excl. LULUCF  36864.571850  35828.875478   \n",
       "low      C              2030              2021-11-09 exclude         n/a              VEN          NDC Factsheet 2021-11-09_1 354         1                 World  low__C   Mt CO2 /yr Emissions|Total GHG excl. LULUCF  46663.690428  46486.064858   \n",
       "                                                     include         n/a              VEN          NDC Factsheet 2021-11-09_1 354         1                 World  low__C   Mt CO2 /yr Emissions|Total GHG excl. LULUCF  48379.657658  48233.965888   \n",
       "                        SSP1BL            2021-11-09 exclude         n/a              VEN          NDC Factsheet 2021-11-09_1 354         1                 World  low__C   Mt CO2 /yr Emissions|Total GHG excl. LULUCF  34346.161670  33389.728692   \n",
       "                                                     include         n/a              VEN          NDC Factsheet 2021-11-09_1 354         1                 World  low__C   Mt CO2 /yr Emissions|Total GHG excl. LULUCF  35787.891825  34846.274717   \n",
       "         U              2030              2021-11-09 exclude         n/a              VEN          NDC Factsheet 2021-11-09_1 354         1                 World  low__U   Mt CO2 /yr Emissions|Total GHG excl. LULUCF  53552.624364  53649.552344   \n",
       "                                                     include         n/a              VEN          NDC Factsheet 2021-11-09_1 352         1                 World  low__U   Mt CO2 /yr Emissions|Total GHG excl. LULUCF  57950.648504  58171.882684   \n",
       "                        SSP1BL            2021-11-09 exclude         n/a              VEN          NDC Factsheet 2021-11-09_1 354         1                 World  low__U   Mt CO2 /yr Emissions|Total GHG excl. LULUCF  36645.417598  35676.871354   \n",
       "                                                     include         n/a              VEN          NDC Factsheet 2021-11-09_1 352         1                 World  low__U   Mt CO2 /yr Emissions|Total GHG excl. LULUCF  39796.165756  38874.056052   \n",
       "\n",
       "time                                                                                                                                                                                                                       2048-01-01    2049-01-01  \\\n",
       "ambition conditionality country_extension date       exclude_hot_air global_extension last_country model         pathway_id   pathway_num pathway_num_today region scenario unit       variable                                                       \n",
       "high     C              2030              2013-07-18 exclude         n/a              LBY          NDC Factsheet 2013-07-18_1 1           1                 World  high__C  Mt CO2 /yr Emissions|Total GHG excl. LULUCF  58549.552304  58570.039261   \n",
       "                                                     include         n/a              LBY          NDC Factsheet 2013-07-18_1 1           1                 World  high__C  Mt CO2 /yr Emissions|Total GHG excl. LULUCF  58549.552304  58570.039261   \n",
       "                        SSP1BL            2013-07-18 exclude         n/a              LBY          NDC Factsheet 2013-07-18_1 1           1                 World  high__C  Mt CO2 /yr Emissions|Total GHG excl. LULUCF  58504.416848  58522.390030   \n",
       "                                                     include         n/a              LBY          NDC Factsheet 2013-07-18_1 1           1                 World  high__C  Mt CO2 /yr Emissions|Total GHG excl. LULUCF  58504.416848  58522.390030   \n",
       "         U              2030              2013-07-18 exclude         n/a              LBY          NDC Factsheet 2013-07-18_1 1           1                 World  high__U  Mt CO2 /yr Emissions|Total GHG excl. LULUCF  58549.552304  58570.039261   \n",
       "                                                     include         n/a              LBY          NDC Factsheet 2013-07-18_1 1           1                 World  high__U  Mt CO2 /yr Emissions|Total GHG excl. LULUCF  58549.552304  58570.039261   \n",
       "                        SSP1BL            2013-07-18 exclude         n/a              LBY          NDC Factsheet 2013-07-18_1 1           1                 World  high__U  Mt CO2 /yr Emissions|Total GHG excl. LULUCF  58504.416848  58522.390030   \n",
       "                                                     include         n/a              LBY          NDC Factsheet 2013-07-18_1 1           1                 World  high__U  Mt CO2 /yr Emissions|Total GHG excl. LULUCF  58504.416848  58522.390030   \n",
       "low      C              2030              2013-07-18 exclude         n/a              LBY          NDC Factsheet 2013-07-18_1 1           1                 World  low__C   Mt CO2 /yr Emissions|Total GHG excl. LULUCF  58549.552304  58570.039261   \n",
       "                                                     include         n/a              LBY          NDC Factsheet 2013-07-18_1 1           1                 World  low__C   Mt CO2 /yr Emissions|Total GHG excl. LULUCF  58549.552304  58570.039261   \n",
       "...                                                                                                                                                                                                                               ...           ...   \n",
       "high     U              SSP1BL            2021-11-09 exclude         n/a              VEN          NDC Factsheet 2021-11-09_1 354         1                 World  high__U  Mt CO2 /yr Emissions|Total GHG excl. LULUCF  31563.055574  30479.487196   \n",
       "                                                     include         n/a              VEN          NDC Factsheet 2021-11-09_1 352         1                 World  high__U  Mt CO2 /yr Emissions|Total GHG excl. LULUCF  34792.342576  33754.904735   \n",
       "low      C              2030              2021-11-09 exclude         n/a              VEN          NDC Factsheet 2021-11-09_1 354         1                 World  low__C   Mt CO2 /yr Emissions|Total GHG excl. LULUCF  46308.439288  46130.327073   \n",
       "                                                     include         n/a              VEN          NDC Factsheet 2021-11-09_1 354         1                 World  low__C   Mt CO2 /yr Emissions|Total GHG excl. LULUCF  48088.274118  47942.183192   \n",
       "                        SSP1BL            2021-11-09 exclude         n/a              VEN          NDC Factsheet 2021-11-09_1 354         1                 World  low__C   Mt CO2 /yr Emissions|Total GHG excl. LULUCF  32432.459233  31474.380485   \n",
       "                                                     include         n/a              VEN          NDC Factsheet 2021-11-09_1 354         1                 World  low__C   Mt CO2 /yr Emissions|Total GHG excl. LULUCF  33903.821119  32960.558221   \n",
       "         U              2030              2021-11-09 exclude         n/a              VEN          NDC Factsheet 2021-11-09_1 354         1                 World  low__U   Mt CO2 /yr Emissions|Total GHG excl. LULUCF  53746.480324  53843.673861   \n",
       "                                                     include         n/a              VEN          NDC Factsheet 2021-11-09_1 352         1                 World  low__U   Mt CO2 /yr Emissions|Total GHG excl. LULUCF  58393.116863  58614.861242   \n",
       "                        SSP1BL            2021-11-09 exclude         n/a              VEN          NDC Factsheet 2021-11-09_1 354         1                 World  low__U   Mt CO2 /yr Emissions|Total GHG excl. LULUCF  34707.488600  33737.296597   \n",
       "                                                     include         n/a              VEN          NDC Factsheet 2021-11-09_1 352         1                 World  low__U   Mt CO2 /yr Emissions|Total GHG excl. LULUCF  37951.109838  37027.258684   \n",
       "\n",
       "time                                                                                                                                                                                                                       2050-01-01  \n",
       "ambition conditionality country_extension date       exclude_hot_air global_extension last_country model         pathway_id   pathway_num pathway_num_today region scenario unit       variable                                        \n",
       "high     C              2030              2013-07-18 exclude         n/a              LBY          NDC Factsheet 2013-07-18_1 1           1                 World  high__C  Mt CO2 /yr Emissions|Total GHG excl. LULUCF  58611.059135  \n",
       "                                                     include         n/a              LBY          NDC Factsheet 2013-07-18_1 1           1                 World  high__C  Mt CO2 /yr Emissions|Total GHG excl. LULUCF  58611.059135  \n",
       "                        SSP1BL            2013-07-18 exclude         n/a              LBY          NDC Factsheet 2013-07-18_1 1           1                 World  high__C  Mt CO2 /yr Emissions|Total GHG excl. LULUCF  58560.904163  \n",
       "                                                     include         n/a              LBY          NDC Factsheet 2013-07-18_1 1           1                 World  high__C  Mt CO2 /yr Emissions|Total GHG excl. LULUCF  58560.904163  \n",
       "         U              2030              2013-07-18 exclude         n/a              LBY          NDC Factsheet 2013-07-18_1 1           1                 World  high__U  Mt CO2 /yr Emissions|Total GHG excl. LULUCF  58611.059135  \n",
       "                                                     include         n/a              LBY          NDC Factsheet 2013-07-18_1 1           1                 World  high__U  Mt CO2 /yr Emissions|Total GHG excl. LULUCF  58611.059135  \n",
       "                        SSP1BL            2013-07-18 exclude         n/a              LBY          NDC Factsheet 2013-07-18_1 1           1                 World  high__U  Mt CO2 /yr Emissions|Total GHG excl. LULUCF  58560.904163  \n",
       "                                                     include         n/a              LBY          NDC Factsheet 2013-07-18_1 1           1                 World  high__U  Mt CO2 /yr Emissions|Total GHG excl. LULUCF  58560.904163  \n",
       "low      C              2030              2013-07-18 exclude         n/a              LBY          NDC Factsheet 2013-07-18_1 1           1                 World  low__C   Mt CO2 /yr Emissions|Total GHG excl. LULUCF  58611.059135  \n",
       "                                                     include         n/a              LBY          NDC Factsheet 2013-07-18_1 1           1                 World  low__C   Mt CO2 /yr Emissions|Total GHG excl. LULUCF  58611.059135  \n",
       "...                                                                                                                                                                                                                               ...  \n",
       "high     U              SSP1BL            2021-11-09 exclude         n/a              VEN          NDC Factsheet 2021-11-09_1 354         1                 World  high__U  Mt CO2 /yr Emissions|Total GHG excl. LULUCF  29395.138437  \n",
       "                                                     include         n/a              VEN          NDC Factsheet 2021-11-09_1 352         1                 World  high__U  Mt CO2 /yr Emissions|Total GHG excl. LULUCF  32716.782162  \n",
       "low      C              2030              2021-11-09 exclude         n/a              VEN          NDC Factsheet 2021-11-09_1 354         1                 World  low__C   Mt CO2 /yr Emissions|Total GHG excl. LULUCF  45952.701503  \n",
       "                                                     include         n/a              VEN          NDC Factsheet 2021-11-09_1 354         1                 World  low__C   Mt CO2 /yr Emissions|Total GHG excl. LULUCF  47796.491422  \n",
       "                        SSP1BL            2021-11-09 exclude         n/a              VEN          NDC Factsheet 2021-11-09_1 354         1                 World  low__C   Mt CO2 /yr Emissions|Total GHG excl. LULUCF  30515.521397  \n",
       "                                                     include         n/a              VEN          NDC Factsheet 2021-11-09_1 354         1                 World  low__C   Mt CO2 /yr Emissions|Total GHG excl. LULUCF  32016.514974  \n",
       "         U              2030              2021-11-09 exclude         n/a              VEN          NDC Factsheet 2021-11-09_1 354         1                 World  low__U   Mt CO2 /yr Emissions|Total GHG excl. LULUCF  53940.601841  \n",
       "                                                     include         n/a              VEN          NDC Factsheet 2021-11-09_1 352         1                 World  low__U   Mt CO2 /yr Emissions|Total GHG excl. LULUCF  58836.095422  \n",
       "                        SSP1BL            2021-11-09 exclude         n/a              VEN          NDC Factsheet 2021-11-09_1 354         1                 World  low__U   Mt CO2 /yr Emissions|Total GHG excl. LULUCF  32766.324233  \n",
       "                                                     include         n/a              VEN          NDC Factsheet 2021-11-09_1 352         1                 World  low__U   Mt CO2 /yr Emissions|Total GHG excl. LULUCF  36102.722830  \n",
       "\n",
       "[5656 rows x 41 columns]"
      ]
     },
     "execution_count": 34,
     "metadata": {},
     "output_type": "execute_result"
    },
    {
     "data": {
      "application/javascript": [
       "\n",
       "            setTimeout(function() {\n",
       "                var nbb_cell_id = 34;\n",
       "                var nbb_unformatted_code = \"pathways = global_emms.timeseries().sort_index(level=\\\"pathway_id\\\")\\npathways\";\n",
       "                var nbb_formatted_code = \"pathways = global_emms.timeseries().sort_index(level=\\\"pathway_id\\\")\\npathways\";\n",
       "                var nbb_cells = Jupyter.notebook.get_cells();\n",
       "                for (var i = 0; i < nbb_cells.length; ++i) {\n",
       "                    if (nbb_cells[i].input_prompt_number == nbb_cell_id) {\n",
       "                        if (nbb_cells[i].get_text() == nbb_unformatted_code) {\n",
       "                             nbb_cells[i].set_text(nbb_formatted_code);\n",
       "                        }\n",
       "                        break;\n",
       "                    }\n",
       "                }\n",
       "            }, 500);\n",
       "            "
      ],
      "text/plain": [
       "<IPython.core.display.Javascript object>"
      ]
     },
     "metadata": {},
     "output_type": "display_data"
    }
   ],
   "source": [
    "pathways = global_emms.timeseries().sort_index(level=\"pathway_id\")\n",
    "pathways"
   ]
  },
  {
   "cell_type": "code",
   "execution_count": 37,
   "id": "e8a71252",
   "metadata": {
    "pycharm": {
     "name": "#%%\n"
    }
   },
   "outputs": [
    {
     "data": {
      "text/plain": [
       "354"
      ]
     },
     "execution_count": 37,
     "metadata": {},
     "output_type": "execute_result"
    },
    {
     "data": {
      "application/javascript": [
       "\n",
       "            setTimeout(function() {\n",
       "                var nbb_cell_id = 37;\n",
       "                var nbb_unformatted_code = \"latest_pathway = max(global_emms.get_unique_meta(\\\"pathway_num\\\"))\\nlatest_pathway\";\n",
       "                var nbb_formatted_code = \"latest_pathway = max(global_emms.get_unique_meta(\\\"pathway_num\\\"))\\nlatest_pathway\";\n",
       "                var nbb_cells = Jupyter.notebook.get_cells();\n",
       "                for (var i = 0; i < nbb_cells.length; ++i) {\n",
       "                    if (nbb_cells[i].input_prompt_number == nbb_cell_id) {\n",
       "                        if (nbb_cells[i].get_text() == nbb_unformatted_code) {\n",
       "                             nbb_cells[i].set_text(nbb_formatted_code);\n",
       "                        }\n",
       "                        break;\n",
       "                    }\n",
       "                }\n",
       "            }, 500);\n",
       "            "
      ],
      "text/plain": [
       "<IPython.core.display.Javascript object>"
      ]
     },
     "metadata": {},
     "output_type": "display_data"
    }
   ],
   "source": [
    "latest_pathway = max(global_emms.get_unique_meta(\"pathway_num\"))\n",
    "latest_pathway"
   ]
  },
  {
   "cell_type": "code",
   "execution_count": 42,
   "id": "9f5a91c6",
   "metadata": {
    "pycharm": {
     "name": "#%%\n"
    }
   },
   "outputs": [
    {
     "data": {
      "text/html": [
       "<div>\n",
       "<style scoped>\n",
       "    .dataframe tbody tr th:only-of-type {\n",
       "        vertical-align: middle;\n",
       "    }\n",
       "\n",
       "    .dataframe tbody tr th {\n",
       "        vertical-align: top;\n",
       "    }\n",
       "\n",
       "    .dataframe thead th {\n",
       "        text-align: right;\n",
       "    }\n",
       "</style>\n",
       "<table border=\"1\" class=\"dataframe\">\n",
       "  <thead>\n",
       "    <tr style=\"text-align: right;\">\n",
       "      <th></th>\n",
       "      <th></th>\n",
       "      <th></th>\n",
       "      <th></th>\n",
       "      <th></th>\n",
       "      <th></th>\n",
       "      <th></th>\n",
       "      <th></th>\n",
       "      <th></th>\n",
       "      <th></th>\n",
       "      <th></th>\n",
       "      <th></th>\n",
       "      <th></th>\n",
       "      <th></th>\n",
       "      <th>time</th>\n",
       "      <th>2010-01-01</th>\n",
       "      <th>2011-01-01</th>\n",
       "      <th>2012-01-01</th>\n",
       "      <th>2013-01-01</th>\n",
       "      <th>2014-01-01</th>\n",
       "      <th>2015-01-01</th>\n",
       "      <th>2016-01-01</th>\n",
       "      <th>...</th>\n",
       "      <th>2044-01-01</th>\n",
       "      <th>2045-01-01</th>\n",
       "      <th>2046-01-01</th>\n",
       "      <th>2047-01-01</th>\n",
       "      <th>2048-01-01</th>\n",
       "      <th>2049-01-01</th>\n",
       "      <th>2050-01-01</th>\n",
       "    </tr>\n",
       "    <tr>\n",
       "      <th>ambition</th>\n",
       "      <th>conditionality</th>\n",
       "      <th>country_extension</th>\n",
       "      <th>date</th>\n",
       "      <th>exclude_hot_air</th>\n",
       "      <th>global_extension</th>\n",
       "      <th>last_country</th>\n",
       "      <th>model</th>\n",
       "      <th>pathway_id</th>\n",
       "      <th>pathway_num</th>\n",
       "      <th>pathway_num_today</th>\n",
       "      <th>region</th>\n",
       "      <th>scenario</th>\n",
       "      <th>unit</th>\n",
       "      <th>variable</th>\n",
       "      <th></th>\n",
       "      <th></th>\n",
       "      <th></th>\n",
       "      <th></th>\n",
       "      <th></th>\n",
       "      <th></th>\n",
       "      <th></th>\n",
       "      <th></th>\n",
       "      <th></th>\n",
       "      <th></th>\n",
       "      <th></th>\n",
       "      <th></th>\n",
       "      <th></th>\n",
       "      <th></th>\n",
       "      <th></th>\n",
       "    </tr>\n",
       "  </thead>\n",
       "  <tbody>\n",
       "    <tr>\n",
       "      <th rowspan=\"6\" valign=\"top\">high</th>\n",
       "      <th rowspan=\"4\" valign=\"top\">C</th>\n",
       "      <th rowspan=\"2\" valign=\"top\">2030</th>\n",
       "      <th rowspan=\"2\" valign=\"top\">2021-11-09</th>\n",
       "      <th>exclude</th>\n",
       "      <th>n/a</th>\n",
       "      <th>VEN</th>\n",
       "      <th>NDC Factsheet</th>\n",
       "      <th>2021-11-09_1</th>\n",
       "      <th>354</th>\n",
       "      <th>1</th>\n",
       "      <th>World</th>\n",
       "      <th>high__C</th>\n",
       "      <th>Mt CO2 /yr</th>\n",
       "      <th>Emissions|Total GHG excl. LULUCF</th>\n",
       "      <td>45085.55559</td>\n",
       "      <td>46428.06437</td>\n",
       "      <td>47088.76191</td>\n",
       "      <td>47449.27549</td>\n",
       "      <td>48104.42832</td>\n",
       "      <td>48223.28657</td>\n",
       "      <td>48321.077</td>\n",
       "      <td>...</td>\n",
       "      <td>44149.953733</td>\n",
       "      <td>43851.587274</td>\n",
       "      <td>43554.036024</td>\n",
       "      <td>43256.484774</td>\n",
       "      <td>42958.933524</td>\n",
       "      <td>42660.567065</td>\n",
       "      <td>42363.015815</td>\n",
       "    </tr>\n",
       "    <tr>\n",
       "      <th>include</th>\n",
       "      <th>n/a</th>\n",
       "      <th>VEN</th>\n",
       "      <th>NDC Factsheet</th>\n",
       "      <th>2021-11-09_1</th>\n",
       "      <th>354</th>\n",
       "      <th>1</th>\n",
       "      <th>World</th>\n",
       "      <th>high__C</th>\n",
       "      <th>Mt CO2 /yr</th>\n",
       "      <th>Emissions|Total GHG excl. LULUCF</th>\n",
       "      <td>45085.55559</td>\n",
       "      <td>46428.06437</td>\n",
       "      <td>47088.76191</td>\n",
       "      <td>47449.27549</td>\n",
       "      <td>48104.42832</td>\n",
       "      <td>48223.28657</td>\n",
       "      <td>48321.077</td>\n",
       "      <td>...</td>\n",
       "      <td>46780.384680</td>\n",
       "      <td>46584.286804</td>\n",
       "      <td>46388.724714</td>\n",
       "      <td>46193.162624</td>\n",
       "      <td>45997.600534</td>\n",
       "      <td>45801.502657</td>\n",
       "      <td>45605.940567</td>\n",
       "    </tr>\n",
       "    <tr>\n",
       "      <th rowspan=\"2\" valign=\"top\">SSP1BL</th>\n",
       "      <th rowspan=\"2\" valign=\"top\">2021-11-09</th>\n",
       "      <th>exclude</th>\n",
       "      <th>n/a</th>\n",
       "      <th>VEN</th>\n",
       "      <th>NDC Factsheet</th>\n",
       "      <th>2021-11-09_1</th>\n",
       "      <th>354</th>\n",
       "      <th>1</th>\n",
       "      <th>World</th>\n",
       "      <th>high__C</th>\n",
       "      <th>Mt CO2 /yr</th>\n",
       "      <th>Emissions|Total GHG excl. LULUCF</th>\n",
       "      <td>45085.55559</td>\n",
       "      <td>46428.06437</td>\n",
       "      <td>47088.76191</td>\n",
       "      <td>47449.27549</td>\n",
       "      <td>48104.42832</td>\n",
       "      <td>48223.28657</td>\n",
       "      <td>48321.077</td>\n",
       "      <td>...</td>\n",
       "      <td>33561.985294</td>\n",
       "      <td>32499.809924</td>\n",
       "      <td>31436.745373</td>\n",
       "      <td>30372.819473</td>\n",
       "      <td>29308.057082</td>\n",
       "      <td>28242.485422</td>\n",
       "      <td>27176.133362</td>\n",
       "    </tr>\n",
       "    <tr>\n",
       "      <th>include</th>\n",
       "      <th>n/a</th>\n",
       "      <th>VEN</th>\n",
       "      <th>NDC Factsheet</th>\n",
       "      <th>2021-11-09_1</th>\n",
       "      <th>354</th>\n",
       "      <th>1</th>\n",
       "      <th>World</th>\n",
       "      <th>high__C</th>\n",
       "      <th>Mt CO2 /yr</th>\n",
       "      <th>Emissions|Total GHG excl. LULUCF</th>\n",
       "      <td>45085.55559</td>\n",
       "      <td>46428.06437</td>\n",
       "      <td>47088.76191</td>\n",
       "      <td>47449.27549</td>\n",
       "      <td>48104.42832</td>\n",
       "      <td>48223.28657</td>\n",
       "      <td>48321.077</td>\n",
       "      <td>...</td>\n",
       "      <td>34970.312040</td>\n",
       "      <td>33922.892545</td>\n",
       "      <td>32874.583871</td>\n",
       "      <td>31825.413847</td>\n",
       "      <td>30775.407332</td>\n",
       "      <td>29724.591558</td>\n",
       "      <td>28672.995364</td>\n",
       "    </tr>\n",
       "    <tr>\n",
       "      <th rowspan=\"2\" valign=\"top\">U</th>\n",
       "      <th>2030</th>\n",
       "      <th>2021-11-09</th>\n",
       "      <th>exclude</th>\n",
       "      <th>n/a</th>\n",
       "      <th>VEN</th>\n",
       "      <th>NDC Factsheet</th>\n",
       "      <th>2021-11-09_1</th>\n",
       "      <th>354</th>\n",
       "      <th>1</th>\n",
       "      <th>World</th>\n",
       "      <th>high__U</th>\n",
       "      <th>Mt CO2 /yr</th>\n",
       "      <th>Emissions|Total GHG excl. LULUCF</th>\n",
       "      <td>45085.55559</td>\n",
       "      <td>46428.06437</td>\n",
       "      <td>47088.76191</td>\n",
       "      <td>47449.27549</td>\n",
       "      <td>48104.42832</td>\n",
       "      <td>48223.28657</td>\n",
       "      <td>48321.077</td>\n",
       "      <td>...</td>\n",
       "      <td>50477.875950</td>\n",
       "      <td>50447.870107</td>\n",
       "      <td>50417.946247</td>\n",
       "      <td>50388.022387</td>\n",
       "      <td>50358.098527</td>\n",
       "      <td>50328.092684</td>\n",
       "      <td>50298.168824</td>\n",
       "    </tr>\n",
       "    <tr>\n",
       "      <th>SSP1BL</th>\n",
       "      <th>2021-11-09</th>\n",
       "      <th>exclude</th>\n",
       "      <th>n/a</th>\n",
       "      <th>VEN</th>\n",
       "      <th>NDC Factsheet</th>\n",
       "      <th>2021-11-09_1</th>\n",
       "      <th>354</th>\n",
       "      <th>1</th>\n",
       "      <th>World</th>\n",
       "      <th>high__U</th>\n",
       "      <th>Mt CO2 /yr</th>\n",
       "      <th>Emissions|Total GHG excl. LULUCF</th>\n",
       "      <td>45085.55559</td>\n",
       "      <td>46428.06437</td>\n",
       "      <td>47088.76191</td>\n",
       "      <td>47449.27549</td>\n",
       "      <td>48104.42832</td>\n",
       "      <td>48223.28657</td>\n",
       "      <td>48321.077</td>\n",
       "      <td>...</td>\n",
       "      <td>35888.970569</td>\n",
       "      <td>34808.798520</td>\n",
       "      <td>33727.737252</td>\n",
       "      <td>32645.814673</td>\n",
       "      <td>31563.055574</td>\n",
       "      <td>30479.487196</td>\n",
       "      <td>29395.138437</td>\n",
       "    </tr>\n",
       "    <tr>\n",
       "      <th rowspan=\"6\" valign=\"top\">low</th>\n",
       "      <th rowspan=\"4\" valign=\"top\">C</th>\n",
       "      <th rowspan=\"2\" valign=\"top\">2030</th>\n",
       "      <th rowspan=\"2\" valign=\"top\">2021-11-09</th>\n",
       "      <th>exclude</th>\n",
       "      <th>n/a</th>\n",
       "      <th>VEN</th>\n",
       "      <th>NDC Factsheet</th>\n",
       "      <th>2021-11-09_1</th>\n",
       "      <th>354</th>\n",
       "      <th>1</th>\n",
       "      <th>World</th>\n",
       "      <th>low__C</th>\n",
       "      <th>Mt CO2 /yr</th>\n",
       "      <th>Emissions|Total GHG excl. LULUCF</th>\n",
       "      <td>45085.55559</td>\n",
       "      <td>46428.06437</td>\n",
       "      <td>47088.76191</td>\n",
       "      <td>47449.27549</td>\n",
       "      <td>48104.42832</td>\n",
       "      <td>48223.28657</td>\n",
       "      <td>48321.077</td>\n",
       "      <td>...</td>\n",
       "      <td>47019.428214</td>\n",
       "      <td>46841.315998</td>\n",
       "      <td>46663.690428</td>\n",
       "      <td>46486.064858</td>\n",
       "      <td>46308.439288</td>\n",
       "      <td>46130.327073</td>\n",
       "      <td>45952.701503</td>\n",
       "    </tr>\n",
       "    <tr>\n",
       "      <th>include</th>\n",
       "      <th>n/a</th>\n",
       "      <th>VEN</th>\n",
       "      <th>NDC Factsheet</th>\n",
       "      <th>2021-11-09_1</th>\n",
       "      <th>354</th>\n",
       "      <th>1</th>\n",
       "      <th>World</th>\n",
       "      <th>low__C</th>\n",
       "      <th>Mt CO2 /yr</th>\n",
       "      <th>Emissions|Total GHG excl. LULUCF</th>\n",
       "      <td>45085.55559</td>\n",
       "      <td>46428.06437</td>\n",
       "      <td>47088.76191</td>\n",
       "      <td>47449.27549</td>\n",
       "      <td>48104.42832</td>\n",
       "      <td>48223.28657</td>\n",
       "      <td>48321.077</td>\n",
       "      <td>...</td>\n",
       "      <td>48671.440353</td>\n",
       "      <td>48525.349428</td>\n",
       "      <td>48379.657658</td>\n",
       "      <td>48233.965888</td>\n",
       "      <td>48088.274118</td>\n",
       "      <td>47942.183192</td>\n",
       "      <td>47796.491422</td>\n",
       "    </tr>\n",
       "    <tr>\n",
       "      <th rowspan=\"2\" valign=\"top\">SSP1BL</th>\n",
       "      <th rowspan=\"2\" valign=\"top\">2021-11-09</th>\n",
       "      <th>exclude</th>\n",
       "      <th>n/a</th>\n",
       "      <th>VEN</th>\n",
       "      <th>NDC Factsheet</th>\n",
       "      <th>2021-11-09_1</th>\n",
       "      <th>354</th>\n",
       "      <th>1</th>\n",
       "      <th>World</th>\n",
       "      <th>low__C</th>\n",
       "      <th>Mt CO2 /yr</th>\n",
       "      <th>Emissions|Total GHG excl. LULUCF</th>\n",
       "      <td>45085.55559</td>\n",
       "      <td>46428.06437</td>\n",
       "      <td>47088.76191</td>\n",
       "      <td>47449.27549</td>\n",
       "      <td>48104.42832</td>\n",
       "      <td>48223.28657</td>\n",
       "      <td>48321.077</td>\n",
       "      <td>...</td>\n",
       "      <td>36256.415676</td>\n",
       "      <td>35301.733268</td>\n",
       "      <td>34346.161670</td>\n",
       "      <td>33389.728692</td>\n",
       "      <td>32432.459233</td>\n",
       "      <td>31474.380485</td>\n",
       "      <td>30515.521397</td>\n",
       "    </tr>\n",
       "    <tr>\n",
       "      <th>include</th>\n",
       "      <th>n/a</th>\n",
       "      <th>VEN</th>\n",
       "      <th>NDC Factsheet</th>\n",
       "      <th>2021-11-09_1</th>\n",
       "      <th>354</th>\n",
       "      <th>1</th>\n",
       "      <th>World</th>\n",
       "      <th>low__C</th>\n",
       "      <th>Mt CO2 /yr</th>\n",
       "      <th>Emissions|Total GHG excl. LULUCF</th>\n",
       "      <td>45085.55559</td>\n",
       "      <td>46428.06437</td>\n",
       "      <td>47088.76191</td>\n",
       "      <td>47449.27549</td>\n",
       "      <td>48104.42832</td>\n",
       "      <td>48223.28657</td>\n",
       "      <td>48321.077</td>\n",
       "      <td>...</td>\n",
       "      <td>37668.514130</td>\n",
       "      <td>36728.647563</td>\n",
       "      <td>35787.891825</td>\n",
       "      <td>34846.274717</td>\n",
       "      <td>33903.821119</td>\n",
       "      <td>32960.558221</td>\n",
       "      <td>32016.514974</td>\n",
       "    </tr>\n",
       "    <tr>\n",
       "      <th rowspan=\"2\" valign=\"top\">U</th>\n",
       "      <th>2030</th>\n",
       "      <th>2021-11-09</th>\n",
       "      <th>exclude</th>\n",
       "      <th>n/a</th>\n",
       "      <th>VEN</th>\n",
       "      <th>NDC Factsheet</th>\n",
       "      <th>2021-11-09_1</th>\n",
       "      <th>354</th>\n",
       "      <th>1</th>\n",
       "      <th>World</th>\n",
       "      <th>low__U</th>\n",
       "      <th>Mt CO2 /yr</th>\n",
       "      <th>Emissions|Total GHG excl. LULUCF</th>\n",
       "      <td>45085.55559</td>\n",
       "      <td>46428.06437</td>\n",
       "      <td>47088.76191</td>\n",
       "      <td>47449.27549</td>\n",
       "      <td>48104.42832</td>\n",
       "      <td>48223.28657</td>\n",
       "      <td>48321.077</td>\n",
       "      <td>...</td>\n",
       "      <td>53358.502848</td>\n",
       "      <td>53455.696384</td>\n",
       "      <td>53552.624364</td>\n",
       "      <td>53649.552344</td>\n",
       "      <td>53746.480324</td>\n",
       "      <td>53843.673861</td>\n",
       "      <td>53940.601841</td>\n",
       "    </tr>\n",
       "    <tr>\n",
       "      <th>SSP1BL</th>\n",
       "      <th>2021-11-09</th>\n",
       "      <th>exclude</th>\n",
       "      <th>n/a</th>\n",
       "      <th>VEN</th>\n",
       "      <th>NDC Factsheet</th>\n",
       "      <th>2021-11-09_1</th>\n",
       "      <th>354</th>\n",
       "      <th>1</th>\n",
       "      <th>World</th>\n",
       "      <th>low__U</th>\n",
       "      <th>Mt CO2 /yr</th>\n",
       "      <th>Emissions|Total GHG excl. LULUCF</th>\n",
       "      <td>45085.55559</td>\n",
       "      <td>46428.06437</td>\n",
       "      <td>47088.76191</td>\n",
       "      <td>47449.27549</td>\n",
       "      <td>48104.42832</td>\n",
       "      <td>48223.28657</td>\n",
       "      <td>48321.077</td>\n",
       "      <td>...</td>\n",
       "      <td>38579.898166</td>\n",
       "      <td>37613.102492</td>\n",
       "      <td>36645.417598</td>\n",
       "      <td>35676.871354</td>\n",
       "      <td>34707.488600</td>\n",
       "      <td>33737.296597</td>\n",
       "      <td>32766.324233</td>\n",
       "    </tr>\n",
       "  </tbody>\n",
       "</table>\n",
       "<p>12 rows × 41 columns</p>\n",
       "</div>"
      ],
      "text/plain": [
       "time                                                                                                                                                                                                                      2010-01-01   2011-01-01  \\\n",
       "ambition conditionality country_extension date       exclude_hot_air global_extension last_country model         pathway_id   pathway_num pathway_num_today region scenario unit       variable                                                     \n",
       "high     C              2030              2021-11-09 exclude         n/a              VEN          NDC Factsheet 2021-11-09_1 354         1                 World  high__C  Mt CO2 /yr Emissions|Total GHG excl. LULUCF  45085.55559  46428.06437   \n",
       "                                                     include         n/a              VEN          NDC Factsheet 2021-11-09_1 354         1                 World  high__C  Mt CO2 /yr Emissions|Total GHG excl. LULUCF  45085.55559  46428.06437   \n",
       "                        SSP1BL            2021-11-09 exclude         n/a              VEN          NDC Factsheet 2021-11-09_1 354         1                 World  high__C  Mt CO2 /yr Emissions|Total GHG excl. LULUCF  45085.55559  46428.06437   \n",
       "                                                     include         n/a              VEN          NDC Factsheet 2021-11-09_1 354         1                 World  high__C  Mt CO2 /yr Emissions|Total GHG excl. LULUCF  45085.55559  46428.06437   \n",
       "         U              2030              2021-11-09 exclude         n/a              VEN          NDC Factsheet 2021-11-09_1 354         1                 World  high__U  Mt CO2 /yr Emissions|Total GHG excl. LULUCF  45085.55559  46428.06437   \n",
       "                        SSP1BL            2021-11-09 exclude         n/a              VEN          NDC Factsheet 2021-11-09_1 354         1                 World  high__U  Mt CO2 /yr Emissions|Total GHG excl. LULUCF  45085.55559  46428.06437   \n",
       "low      C              2030              2021-11-09 exclude         n/a              VEN          NDC Factsheet 2021-11-09_1 354         1                 World  low__C   Mt CO2 /yr Emissions|Total GHG excl. LULUCF  45085.55559  46428.06437   \n",
       "                                                     include         n/a              VEN          NDC Factsheet 2021-11-09_1 354         1                 World  low__C   Mt CO2 /yr Emissions|Total GHG excl. LULUCF  45085.55559  46428.06437   \n",
       "                        SSP1BL            2021-11-09 exclude         n/a              VEN          NDC Factsheet 2021-11-09_1 354         1                 World  low__C   Mt CO2 /yr Emissions|Total GHG excl. LULUCF  45085.55559  46428.06437   \n",
       "                                                     include         n/a              VEN          NDC Factsheet 2021-11-09_1 354         1                 World  low__C   Mt CO2 /yr Emissions|Total GHG excl. LULUCF  45085.55559  46428.06437   \n",
       "         U              2030              2021-11-09 exclude         n/a              VEN          NDC Factsheet 2021-11-09_1 354         1                 World  low__U   Mt CO2 /yr Emissions|Total GHG excl. LULUCF  45085.55559  46428.06437   \n",
       "                        SSP1BL            2021-11-09 exclude         n/a              VEN          NDC Factsheet 2021-11-09_1 354         1                 World  low__U   Mt CO2 /yr Emissions|Total GHG excl. LULUCF  45085.55559  46428.06437   \n",
       "\n",
       "time                                                                                                                                                                                                                      2012-01-01   2013-01-01  \\\n",
       "ambition conditionality country_extension date       exclude_hot_air global_extension last_country model         pathway_id   pathway_num pathway_num_today region scenario unit       variable                                                     \n",
       "high     C              2030              2021-11-09 exclude         n/a              VEN          NDC Factsheet 2021-11-09_1 354         1                 World  high__C  Mt CO2 /yr Emissions|Total GHG excl. LULUCF  47088.76191  47449.27549   \n",
       "                                                     include         n/a              VEN          NDC Factsheet 2021-11-09_1 354         1                 World  high__C  Mt CO2 /yr Emissions|Total GHG excl. LULUCF  47088.76191  47449.27549   \n",
       "                        SSP1BL            2021-11-09 exclude         n/a              VEN          NDC Factsheet 2021-11-09_1 354         1                 World  high__C  Mt CO2 /yr Emissions|Total GHG excl. LULUCF  47088.76191  47449.27549   \n",
       "                                                     include         n/a              VEN          NDC Factsheet 2021-11-09_1 354         1                 World  high__C  Mt CO2 /yr Emissions|Total GHG excl. LULUCF  47088.76191  47449.27549   \n",
       "         U              2030              2021-11-09 exclude         n/a              VEN          NDC Factsheet 2021-11-09_1 354         1                 World  high__U  Mt CO2 /yr Emissions|Total GHG excl. LULUCF  47088.76191  47449.27549   \n",
       "                        SSP1BL            2021-11-09 exclude         n/a              VEN          NDC Factsheet 2021-11-09_1 354         1                 World  high__U  Mt CO2 /yr Emissions|Total GHG excl. LULUCF  47088.76191  47449.27549   \n",
       "low      C              2030              2021-11-09 exclude         n/a              VEN          NDC Factsheet 2021-11-09_1 354         1                 World  low__C   Mt CO2 /yr Emissions|Total GHG excl. LULUCF  47088.76191  47449.27549   \n",
       "                                                     include         n/a              VEN          NDC Factsheet 2021-11-09_1 354         1                 World  low__C   Mt CO2 /yr Emissions|Total GHG excl. LULUCF  47088.76191  47449.27549   \n",
       "                        SSP1BL            2021-11-09 exclude         n/a              VEN          NDC Factsheet 2021-11-09_1 354         1                 World  low__C   Mt CO2 /yr Emissions|Total GHG excl. LULUCF  47088.76191  47449.27549   \n",
       "                                                     include         n/a              VEN          NDC Factsheet 2021-11-09_1 354         1                 World  low__C   Mt CO2 /yr Emissions|Total GHG excl. LULUCF  47088.76191  47449.27549   \n",
       "         U              2030              2021-11-09 exclude         n/a              VEN          NDC Factsheet 2021-11-09_1 354         1                 World  low__U   Mt CO2 /yr Emissions|Total GHG excl. LULUCF  47088.76191  47449.27549   \n",
       "                        SSP1BL            2021-11-09 exclude         n/a              VEN          NDC Factsheet 2021-11-09_1 354         1                 World  low__U   Mt CO2 /yr Emissions|Total GHG excl. LULUCF  47088.76191  47449.27549   \n",
       "\n",
       "time                                                                                                                                                                                                                      2014-01-01   2015-01-01  \\\n",
       "ambition conditionality country_extension date       exclude_hot_air global_extension last_country model         pathway_id   pathway_num pathway_num_today region scenario unit       variable                                                     \n",
       "high     C              2030              2021-11-09 exclude         n/a              VEN          NDC Factsheet 2021-11-09_1 354         1                 World  high__C  Mt CO2 /yr Emissions|Total GHG excl. LULUCF  48104.42832  48223.28657   \n",
       "                                                     include         n/a              VEN          NDC Factsheet 2021-11-09_1 354         1                 World  high__C  Mt CO2 /yr Emissions|Total GHG excl. LULUCF  48104.42832  48223.28657   \n",
       "                        SSP1BL            2021-11-09 exclude         n/a              VEN          NDC Factsheet 2021-11-09_1 354         1                 World  high__C  Mt CO2 /yr Emissions|Total GHG excl. LULUCF  48104.42832  48223.28657   \n",
       "                                                     include         n/a              VEN          NDC Factsheet 2021-11-09_1 354         1                 World  high__C  Mt CO2 /yr Emissions|Total GHG excl. LULUCF  48104.42832  48223.28657   \n",
       "         U              2030              2021-11-09 exclude         n/a              VEN          NDC Factsheet 2021-11-09_1 354         1                 World  high__U  Mt CO2 /yr Emissions|Total GHG excl. LULUCF  48104.42832  48223.28657   \n",
       "                        SSP1BL            2021-11-09 exclude         n/a              VEN          NDC Factsheet 2021-11-09_1 354         1                 World  high__U  Mt CO2 /yr Emissions|Total GHG excl. LULUCF  48104.42832  48223.28657   \n",
       "low      C              2030              2021-11-09 exclude         n/a              VEN          NDC Factsheet 2021-11-09_1 354         1                 World  low__C   Mt CO2 /yr Emissions|Total GHG excl. LULUCF  48104.42832  48223.28657   \n",
       "                                                     include         n/a              VEN          NDC Factsheet 2021-11-09_1 354         1                 World  low__C   Mt CO2 /yr Emissions|Total GHG excl. LULUCF  48104.42832  48223.28657   \n",
       "                        SSP1BL            2021-11-09 exclude         n/a              VEN          NDC Factsheet 2021-11-09_1 354         1                 World  low__C   Mt CO2 /yr Emissions|Total GHG excl. LULUCF  48104.42832  48223.28657   \n",
       "                                                     include         n/a              VEN          NDC Factsheet 2021-11-09_1 354         1                 World  low__C   Mt CO2 /yr Emissions|Total GHG excl. LULUCF  48104.42832  48223.28657   \n",
       "         U              2030              2021-11-09 exclude         n/a              VEN          NDC Factsheet 2021-11-09_1 354         1                 World  low__U   Mt CO2 /yr Emissions|Total GHG excl. LULUCF  48104.42832  48223.28657   \n",
       "                        SSP1BL            2021-11-09 exclude         n/a              VEN          NDC Factsheet 2021-11-09_1 354         1                 World  low__U   Mt CO2 /yr Emissions|Total GHG excl. LULUCF  48104.42832  48223.28657   \n",
       "\n",
       "time                                                                                                                                                                                                                     2016-01-01  ...    2044-01-01  \\\n",
       "ambition conditionality country_extension date       exclude_hot_air global_extension last_country model         pathway_id   pathway_num pathway_num_today region scenario unit       variable                                      ...                 \n",
       "high     C              2030              2021-11-09 exclude         n/a              VEN          NDC Factsheet 2021-11-09_1 354         1                 World  high__C  Mt CO2 /yr Emissions|Total GHG excl. LULUCF   48321.077  ...  44149.953733   \n",
       "                                                     include         n/a              VEN          NDC Factsheet 2021-11-09_1 354         1                 World  high__C  Mt CO2 /yr Emissions|Total GHG excl. LULUCF   48321.077  ...  46780.384680   \n",
       "                        SSP1BL            2021-11-09 exclude         n/a              VEN          NDC Factsheet 2021-11-09_1 354         1                 World  high__C  Mt CO2 /yr Emissions|Total GHG excl. LULUCF   48321.077  ...  33561.985294   \n",
       "                                                     include         n/a              VEN          NDC Factsheet 2021-11-09_1 354         1                 World  high__C  Mt CO2 /yr Emissions|Total GHG excl. LULUCF   48321.077  ...  34970.312040   \n",
       "         U              2030              2021-11-09 exclude         n/a              VEN          NDC Factsheet 2021-11-09_1 354         1                 World  high__U  Mt CO2 /yr Emissions|Total GHG excl. LULUCF   48321.077  ...  50477.875950   \n",
       "                        SSP1BL            2021-11-09 exclude         n/a              VEN          NDC Factsheet 2021-11-09_1 354         1                 World  high__U  Mt CO2 /yr Emissions|Total GHG excl. LULUCF   48321.077  ...  35888.970569   \n",
       "low      C              2030              2021-11-09 exclude         n/a              VEN          NDC Factsheet 2021-11-09_1 354         1                 World  low__C   Mt CO2 /yr Emissions|Total GHG excl. LULUCF   48321.077  ...  47019.428214   \n",
       "                                                     include         n/a              VEN          NDC Factsheet 2021-11-09_1 354         1                 World  low__C   Mt CO2 /yr Emissions|Total GHG excl. LULUCF   48321.077  ...  48671.440353   \n",
       "                        SSP1BL            2021-11-09 exclude         n/a              VEN          NDC Factsheet 2021-11-09_1 354         1                 World  low__C   Mt CO2 /yr Emissions|Total GHG excl. LULUCF   48321.077  ...  36256.415676   \n",
       "                                                     include         n/a              VEN          NDC Factsheet 2021-11-09_1 354         1                 World  low__C   Mt CO2 /yr Emissions|Total GHG excl. LULUCF   48321.077  ...  37668.514130   \n",
       "         U              2030              2021-11-09 exclude         n/a              VEN          NDC Factsheet 2021-11-09_1 354         1                 World  low__U   Mt CO2 /yr Emissions|Total GHG excl. LULUCF   48321.077  ...  53358.502848   \n",
       "                        SSP1BL            2021-11-09 exclude         n/a              VEN          NDC Factsheet 2021-11-09_1 354         1                 World  low__U   Mt CO2 /yr Emissions|Total GHG excl. LULUCF   48321.077  ...  38579.898166   \n",
       "\n",
       "time                                                                                                                                                                                                                       2045-01-01    2046-01-01  \\\n",
       "ambition conditionality country_extension date       exclude_hot_air global_extension last_country model         pathway_id   pathway_num pathway_num_today region scenario unit       variable                                                       \n",
       "high     C              2030              2021-11-09 exclude         n/a              VEN          NDC Factsheet 2021-11-09_1 354         1                 World  high__C  Mt CO2 /yr Emissions|Total GHG excl. LULUCF  43851.587274  43554.036024   \n",
       "                                                     include         n/a              VEN          NDC Factsheet 2021-11-09_1 354         1                 World  high__C  Mt CO2 /yr Emissions|Total GHG excl. LULUCF  46584.286804  46388.724714   \n",
       "                        SSP1BL            2021-11-09 exclude         n/a              VEN          NDC Factsheet 2021-11-09_1 354         1                 World  high__C  Mt CO2 /yr Emissions|Total GHG excl. LULUCF  32499.809924  31436.745373   \n",
       "                                                     include         n/a              VEN          NDC Factsheet 2021-11-09_1 354         1                 World  high__C  Mt CO2 /yr Emissions|Total GHG excl. LULUCF  33922.892545  32874.583871   \n",
       "         U              2030              2021-11-09 exclude         n/a              VEN          NDC Factsheet 2021-11-09_1 354         1                 World  high__U  Mt CO2 /yr Emissions|Total GHG excl. LULUCF  50447.870107  50417.946247   \n",
       "                        SSP1BL            2021-11-09 exclude         n/a              VEN          NDC Factsheet 2021-11-09_1 354         1                 World  high__U  Mt CO2 /yr Emissions|Total GHG excl. LULUCF  34808.798520  33727.737252   \n",
       "low      C              2030              2021-11-09 exclude         n/a              VEN          NDC Factsheet 2021-11-09_1 354         1                 World  low__C   Mt CO2 /yr Emissions|Total GHG excl. LULUCF  46841.315998  46663.690428   \n",
       "                                                     include         n/a              VEN          NDC Factsheet 2021-11-09_1 354         1                 World  low__C   Mt CO2 /yr Emissions|Total GHG excl. LULUCF  48525.349428  48379.657658   \n",
       "                        SSP1BL            2021-11-09 exclude         n/a              VEN          NDC Factsheet 2021-11-09_1 354         1                 World  low__C   Mt CO2 /yr Emissions|Total GHG excl. LULUCF  35301.733268  34346.161670   \n",
       "                                                     include         n/a              VEN          NDC Factsheet 2021-11-09_1 354         1                 World  low__C   Mt CO2 /yr Emissions|Total GHG excl. LULUCF  36728.647563  35787.891825   \n",
       "         U              2030              2021-11-09 exclude         n/a              VEN          NDC Factsheet 2021-11-09_1 354         1                 World  low__U   Mt CO2 /yr Emissions|Total GHG excl. LULUCF  53455.696384  53552.624364   \n",
       "                        SSP1BL            2021-11-09 exclude         n/a              VEN          NDC Factsheet 2021-11-09_1 354         1                 World  low__U   Mt CO2 /yr Emissions|Total GHG excl. LULUCF  37613.102492  36645.417598   \n",
       "\n",
       "time                                                                                                                                                                                                                       2047-01-01    2048-01-01  \\\n",
       "ambition conditionality country_extension date       exclude_hot_air global_extension last_country model         pathway_id   pathway_num pathway_num_today region scenario unit       variable                                                       \n",
       "high     C              2030              2021-11-09 exclude         n/a              VEN          NDC Factsheet 2021-11-09_1 354         1                 World  high__C  Mt CO2 /yr Emissions|Total GHG excl. LULUCF  43256.484774  42958.933524   \n",
       "                                                     include         n/a              VEN          NDC Factsheet 2021-11-09_1 354         1                 World  high__C  Mt CO2 /yr Emissions|Total GHG excl. LULUCF  46193.162624  45997.600534   \n",
       "                        SSP1BL            2021-11-09 exclude         n/a              VEN          NDC Factsheet 2021-11-09_1 354         1                 World  high__C  Mt CO2 /yr Emissions|Total GHG excl. LULUCF  30372.819473  29308.057082   \n",
       "                                                     include         n/a              VEN          NDC Factsheet 2021-11-09_1 354         1                 World  high__C  Mt CO2 /yr Emissions|Total GHG excl. LULUCF  31825.413847  30775.407332   \n",
       "         U              2030              2021-11-09 exclude         n/a              VEN          NDC Factsheet 2021-11-09_1 354         1                 World  high__U  Mt CO2 /yr Emissions|Total GHG excl. LULUCF  50388.022387  50358.098527   \n",
       "                        SSP1BL            2021-11-09 exclude         n/a              VEN          NDC Factsheet 2021-11-09_1 354         1                 World  high__U  Mt CO2 /yr Emissions|Total GHG excl. LULUCF  32645.814673  31563.055574   \n",
       "low      C              2030              2021-11-09 exclude         n/a              VEN          NDC Factsheet 2021-11-09_1 354         1                 World  low__C   Mt CO2 /yr Emissions|Total GHG excl. LULUCF  46486.064858  46308.439288   \n",
       "                                                     include         n/a              VEN          NDC Factsheet 2021-11-09_1 354         1                 World  low__C   Mt CO2 /yr Emissions|Total GHG excl. LULUCF  48233.965888  48088.274118   \n",
       "                        SSP1BL            2021-11-09 exclude         n/a              VEN          NDC Factsheet 2021-11-09_1 354         1                 World  low__C   Mt CO2 /yr Emissions|Total GHG excl. LULUCF  33389.728692  32432.459233   \n",
       "                                                     include         n/a              VEN          NDC Factsheet 2021-11-09_1 354         1                 World  low__C   Mt CO2 /yr Emissions|Total GHG excl. LULUCF  34846.274717  33903.821119   \n",
       "         U              2030              2021-11-09 exclude         n/a              VEN          NDC Factsheet 2021-11-09_1 354         1                 World  low__U   Mt CO2 /yr Emissions|Total GHG excl. LULUCF  53649.552344  53746.480324   \n",
       "                        SSP1BL            2021-11-09 exclude         n/a              VEN          NDC Factsheet 2021-11-09_1 354         1                 World  low__U   Mt CO2 /yr Emissions|Total GHG excl. LULUCF  35676.871354  34707.488600   \n",
       "\n",
       "time                                                                                                                                                                                                                       2049-01-01    2050-01-01  \n",
       "ambition conditionality country_extension date       exclude_hot_air global_extension last_country model         pathway_id   pathway_num pathway_num_today region scenario unit       variable                                                      \n",
       "high     C              2030              2021-11-09 exclude         n/a              VEN          NDC Factsheet 2021-11-09_1 354         1                 World  high__C  Mt CO2 /yr Emissions|Total GHG excl. LULUCF  42660.567065  42363.015815  \n",
       "                                                     include         n/a              VEN          NDC Factsheet 2021-11-09_1 354         1                 World  high__C  Mt CO2 /yr Emissions|Total GHG excl. LULUCF  45801.502657  45605.940567  \n",
       "                        SSP1BL            2021-11-09 exclude         n/a              VEN          NDC Factsheet 2021-11-09_1 354         1                 World  high__C  Mt CO2 /yr Emissions|Total GHG excl. LULUCF  28242.485422  27176.133362  \n",
       "                                                     include         n/a              VEN          NDC Factsheet 2021-11-09_1 354         1                 World  high__C  Mt CO2 /yr Emissions|Total GHG excl. LULUCF  29724.591558  28672.995364  \n",
       "         U              2030              2021-11-09 exclude         n/a              VEN          NDC Factsheet 2021-11-09_1 354         1                 World  high__U  Mt CO2 /yr Emissions|Total GHG excl. LULUCF  50328.092684  50298.168824  \n",
       "                        SSP1BL            2021-11-09 exclude         n/a              VEN          NDC Factsheet 2021-11-09_1 354         1                 World  high__U  Mt CO2 /yr Emissions|Total GHG excl. LULUCF  30479.487196  29395.138437  \n",
       "low      C              2030              2021-11-09 exclude         n/a              VEN          NDC Factsheet 2021-11-09_1 354         1                 World  low__C   Mt CO2 /yr Emissions|Total GHG excl. LULUCF  46130.327073  45952.701503  \n",
       "                                                     include         n/a              VEN          NDC Factsheet 2021-11-09_1 354         1                 World  low__C   Mt CO2 /yr Emissions|Total GHG excl. LULUCF  47942.183192  47796.491422  \n",
       "                        SSP1BL            2021-11-09 exclude         n/a              VEN          NDC Factsheet 2021-11-09_1 354         1                 World  low__C   Mt CO2 /yr Emissions|Total GHG excl. LULUCF  31474.380485  30515.521397  \n",
       "                                                     include         n/a              VEN          NDC Factsheet 2021-11-09_1 354         1                 World  low__C   Mt CO2 /yr Emissions|Total GHG excl. LULUCF  32960.558221  32016.514974  \n",
       "         U              2030              2021-11-09 exclude         n/a              VEN          NDC Factsheet 2021-11-09_1 354         1                 World  low__U   Mt CO2 /yr Emissions|Total GHG excl. LULUCF  53843.673861  53940.601841  \n",
       "                        SSP1BL            2021-11-09 exclude         n/a              VEN          NDC Factsheet 2021-11-09_1 354         1                 World  low__U   Mt CO2 /yr Emissions|Total GHG excl. LULUCF  33737.296597  32766.324233  \n",
       "\n",
       "[12 rows x 41 columns]"
      ]
     },
     "execution_count": 42,
     "metadata": {},
     "output_type": "execute_result"
    },
    {
     "data": {
      "application/javascript": [
       "\n",
       "            setTimeout(function() {\n",
       "                var nbb_cell_id = 42;\n",
       "                var nbb_unformatted_code = \"global_emms.filter(pathway_num=latest_pathway).timeseries()\";\n",
       "                var nbb_formatted_code = \"global_emms.filter(pathway_num=latest_pathway).timeseries()\";\n",
       "                var nbb_cells = Jupyter.notebook.get_cells();\n",
       "                for (var i = 0; i < nbb_cells.length; ++i) {\n",
       "                    if (nbb_cells[i].input_prompt_number == nbb_cell_id) {\n",
       "                        if (nbb_cells[i].get_text() == nbb_unformatted_code) {\n",
       "                             nbb_cells[i].set_text(nbb_formatted_code);\n",
       "                        }\n",
       "                        break;\n",
       "                    }\n",
       "                }\n",
       "            }, 500);\n",
       "            "
      ],
      "text/plain": [
       "<IPython.core.display.Javascript object>"
      ]
     },
     "metadata": {},
     "output_type": "display_data"
    }
   ],
   "source": [
    "global_emms.filter(pathway_num=latest_pathway).timeseries()"
   ]
  }
 ],
 "metadata": {
  "kernelspec": {
   "display_name": "Python 3 (ipykernel)",
   "language": "python",
   "name": "python3"
  },
  "language_info": {
   "codemirror_mode": {
    "name": "ipython",
    "version": 3
   },
   "file_extension": ".py",
   "mimetype": "text/x-python",
   "name": "python",
   "nbconvert_exporter": "python",
   "pygments_lexer": "ipython3",
   "version": "3.9.9"
  }
 },
 "nbformat": 4,
 "nbformat_minor": 5
}